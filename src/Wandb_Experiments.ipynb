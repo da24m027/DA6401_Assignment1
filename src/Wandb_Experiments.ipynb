{
  "nbformat": 4,
  "nbformat_minor": 0,
  "metadata": {
    "colab": {
      "provenance": [],
      "gpuType": "T4"
    },
    "kernelspec": {
      "name": "python3",
      "display_name": "Python 3"
    },
    "language_info": {
      "name": "python"
    },
    "accelerator": "GPU"
  },
  "cells": [
    {
      "cell_type": "code",
      "execution_count": 1,
      "metadata": {
        "id": "rWPGAzJ5xba7",
        "colab": {
          "base_uri": "https://localhost:8080/"
        },
        "outputId": "88300d6f-aa2a-469b-b046-9733f2bb8fbe"
      },
      "outputs": [
        {
          "output_type": "stream",
          "name": "stdout",
          "text": [
            "\u001b[2K   \u001b[90m━━━━━━━━━━━━━━━━━━━━━━━━━━━━━━━━━━━━━━━━\u001b[0m \u001b[32m20.8/20.8 MB\u001b[0m \u001b[31m49.8 MB/s\u001b[0m eta \u001b[36m0:00:00\u001b[0m\n",
            "\u001b[?25h"
          ]
        }
      ],
      "source": [
        "!pip install wandb -Uq"
      ]
    },
    {
      "cell_type": "code",
      "source": [
        "import wandb"
      ],
      "metadata": {
        "id": "IbIBuSUpzQI1"
      },
      "execution_count": 1,
      "outputs": []
    },
    {
      "cell_type": "code",
      "source": [
        "wandb.login()"
      ],
      "metadata": {
        "colab": {
          "base_uri": "https://localhost:8080/",
          "height": 208
        },
        "id": "Y-ewaARgzSE0",
        "outputId": "8d660d90-36e7-47bd-eeee-45191ae5c0fc"
      },
      "execution_count": 2,
      "outputs": [
        {
          "output_type": "stream",
          "name": "stderr",
          "text": [
            "\u001b[34m\u001b[1mwandb\u001b[0m: Using wandb-core as the SDK backend.  Please refer to https://wandb.me/wandb-core for more information.\n"
          ]
        },
        {
          "output_type": "display_data",
          "data": {
            "text/plain": [
              "<IPython.core.display.Javascript object>"
            ],
            "application/javascript": [
              "\n",
              "        window._wandbApiKey = new Promise((resolve, reject) => {\n",
              "            function loadScript(url) {\n",
              "            return new Promise(function(resolve, reject) {\n",
              "                let newScript = document.createElement(\"script\");\n",
              "                newScript.onerror = reject;\n",
              "                newScript.onload = resolve;\n",
              "                document.body.appendChild(newScript);\n",
              "                newScript.src = url;\n",
              "            });\n",
              "            }\n",
              "            loadScript(\"https://cdn.jsdelivr.net/npm/postmate/build/postmate.min.js\").then(() => {\n",
              "            const iframe = document.createElement('iframe')\n",
              "            iframe.style.cssText = \"width:0;height:0;border:none\"\n",
              "            document.body.appendChild(iframe)\n",
              "            const handshake = new Postmate({\n",
              "                container: iframe,\n",
              "                url: 'https://wandb.ai/authorize'\n",
              "            });\n",
              "            const timeout = setTimeout(() => reject(\"Couldn't auto authenticate\"), 5000)\n",
              "            handshake.then(function(child) {\n",
              "                child.on('authorize', data => {\n",
              "                    clearTimeout(timeout)\n",
              "                    resolve(data)\n",
              "                });\n",
              "            });\n",
              "            })\n",
              "        });\n",
              "    "
            ]
          },
          "metadata": {}
        },
        {
          "output_type": "stream",
          "name": "stderr",
          "text": [
            "\u001b[34m\u001b[1mwandb\u001b[0m: Logging into wandb.ai. (Learn how to deploy a W&B server locally: https://wandb.me/wandb-server)\n",
            "\u001b[34m\u001b[1mwandb\u001b[0m: You can find your API key in your browser here: https://wandb.ai/authorize\n",
            "wandb: Paste an API key from your profile and hit enter:"
          ]
        },
        {
          "name": "stdout",
          "output_type": "stream",
          "text": [
            " ··········\n"
          ]
        },
        {
          "output_type": "stream",
          "name": "stderr",
          "text": [
            "\u001b[34m\u001b[1mwandb\u001b[0m: \u001b[33mWARNING\u001b[0m If you're specifying your api key in code, ensure this code is not shared publicly.\n",
            "\u001b[34m\u001b[1mwandb\u001b[0m: \u001b[33mWARNING\u001b[0m Consider setting the WANDB_API_KEY environment variable, or running `wandb login` from the command line.\n",
            "\u001b[34m\u001b[1mwandb\u001b[0m: No netrc file found, creating one.\n",
            "\u001b[34m\u001b[1mwandb\u001b[0m: Appending key for api.wandb.ai to your netrc file: /root/.netrc\n",
            "\u001b[34m\u001b[1mwandb\u001b[0m: Currently logged in as: \u001b[33mda24m027\u001b[0m (\u001b[33mda24m027-indian-institute-of-technology-madras\u001b[0m) to \u001b[32mhttps://api.wandb.ai\u001b[0m. Use \u001b[1m`wandb login --relogin`\u001b[0m to force relogin\n"
          ]
        },
        {
          "output_type": "execute_result",
          "data": {
            "text/plain": [
              "True"
            ]
          },
          "metadata": {},
          "execution_count": 2
        }
      ]
    },
    {
      "cell_type": "code",
      "source": [
        "sweep_config = {\n",
        "    \"method\": \"bayes\",\n",
        "    \"metric\": {\"name\": \"val_accuracy\", \"goal\": \"maximize\"},\n",
        "    \"parameters\": {\n",
        "        \"epochs\": {\"values\": [5, 10]},\n",
        "        \"batch_size\": {\"values\": [16, 32, 64]},\n",
        "        \"hidden_layers\": {\"values\": [3, 4, 5]},\n",
        "        \"hidden_size\": {\"values\": [32, 64, 128]},\n",
        "        \"optimizer\": {\"values\": [\"sgd\", \"momentum\", \"nesterov\", \"rmsprop\", \"adam\", \"nadam\"]},\n",
        "        \"activation\": {\"values\": [\"sigmoid\", \"tanh\", \"ReLU\"]},\n",
        "        \"weights\": {\"values\": [\"random\", \"Xavier\"]},\n",
        "        \"learning_rate\": {\"values\": [0.001, 0.0001]},\n",
        "        \"weight_decay\": {\"values\": [0, 0.0005, 0.5]},\n",
        "        \"loss_type\": {\"values\": [\"mse\", \"cross_entropy\"]},\n",
        "    },\n",
        "}"
      ],
      "metadata": {
        "id": "JzVRtVrpzcbJ"
      },
      "execution_count": 3,
      "outputs": []
    },
    {
      "cell_type": "code",
      "source": [
        "import pprint\n",
        "pprint.pprint(sweep_config)"
      ],
      "metadata": {
        "colab": {
          "base_uri": "https://localhost:8080/"
        },
        "id": "VPIxoSEL1QGJ",
        "outputId": "f8d97c24-66c2-4c23-e547-cf104ff17c65"
      },
      "execution_count": 4,
      "outputs": [
        {
          "output_type": "stream",
          "name": "stdout",
          "text": [
            "{'method': 'bayes',\n",
            " 'metric': {'goal': 'maximize', 'name': 'val_accuracy'},\n",
            " 'parameters': {'activation': {'values': ['sigmoid', 'tanh', 'ReLU']},\n",
            "                'batch_size': {'values': [16, 32, 64]},\n",
            "                'epochs': {'values': [5, 10]},\n",
            "                'hidden_layers': {'values': [3, 4, 5]},\n",
            "                'hidden_size': {'values': [32, 64, 128]},\n",
            "                'learning_rate': {'values': [0.001, 0.0001]},\n",
            "                'loss_type': {'values': ['mse', 'cross_entropy']},\n",
            "                'optimizer': {'values': ['sgd',\n",
            "                                         'momentum',\n",
            "                                         'nesterov',\n",
            "                                         'rmsprop',\n",
            "                                         'adam',\n",
            "                                         'nadam']},\n",
            "                'weight_decay': {'values': [0, 0.0005, 0.5]},\n",
            "                'weights': {'values': ['random', 'Xavier']}}}\n"
          ]
        }
      ]
    },
    {
      "cell_type": "code",
      "source": [
        "sweep_id = wandb.sweep(sweep_config, project=\"DA6401_Assignment1\")"
      ],
      "metadata": {
        "colab": {
          "base_uri": "https://localhost:8080/"
        },
        "id": "BU_Wtffi1WwA",
        "outputId": "cdabee32-45f1-429c-d0c2-968792bb7a84"
      },
      "execution_count": 5,
      "outputs": [
        {
          "output_type": "stream",
          "name": "stdout",
          "text": [
            "Create sweep with ID: xy966igu\n",
            "Sweep URL: https://wandb.ai/da24m027-indian-institute-of-technology-madras/DA6401_Assignment1/sweeps/xy966igu\n"
          ]
        }
      ]
    },
    {
      "cell_type": "code",
      "source": [
        "import numpy as np\n",
        "import torch\n",
        "from torch.utils.data import DataLoader, TensorDataset, random_split\n",
        "from keras.datasets import fashion_mnist\n",
        "\n",
        "def preprocess_data(X_train, y_train, X_test, y_test):\n",
        "    \"\"\"\n",
        "    Normalize and reshape dataset.\n",
        "    \"\"\"\n",
        "    X_train, X_test = X_train / 255.0, X_test / 255.0  # Normalize\n",
        "    X_train, X_test = X_train.reshape(-1, 784), X_test.reshape(-1, 784)  # Flatten images\n",
        "\n",
        "    # One-hot encoding\n",
        "    y_train_encoded = np.zeros((y_train.size, 10))\n",
        "    y_train_encoded[np.arange(y_train.size), y_train] = 1\n",
        "\n",
        "    y_test_encoded = np.zeros((y_test.size, 10))\n",
        "    y_test_encoded[np.arange(y_test.size), y_test] = 1\n",
        "\n",
        "    return X_train, y_train_encoded, X_test, y_test_encoded\n",
        "\n",
        "def evaluate(model, X_test, y_test):\n",
        "    \"\"\"\n",
        "    Evaluate model accuracy.\n",
        "    \"\"\"\n",
        "    y_pred = model.forward(X_test)\n",
        "    y_pred_labels = np.argmax(y_pred, axis=1)\n",
        "    y_true_labels = np.argmax(y_test, axis=1)\n",
        "\n",
        "    accuracy = np.mean(y_pred_labels == y_true_labels)\n",
        "    return accuracy\n",
        "\n",
        "def calculate_loss(y_true, y_pred, loss_type):\n",
        "  if loss_type == 'mse':\n",
        "    return np.mean(np.square(y_true - y_pred))\n",
        "  elif loss_type == 'cross_entropy':\n",
        "    #Small epsilon to prevent log(0)\n",
        "    y_pred = np.clip(y_pred, 1e-7, 1 - 1e-7)\n",
        "    return -np.mean(y_true * np.log(y_pred))\n",
        "\n",
        "def calculate_accuracy(y_true, y_pred):\n",
        "  predicted_classes = np.argmax(y_pred, axis=1)\n",
        "  true_classes = np.argmax(y_true, axis=1)\n",
        "  return np.mean(predicted_classes == true_classes)"
      ],
      "metadata": {
        "id": "PkjsRbhQ1mBP"
      },
      "execution_count": 6,
      "outputs": []
    },
    {
      "cell_type": "code",
      "source": [
        "import numpy as np\n",
        "class NeuralNetwork:\n",
        "    def __init__(self, input_size, hidden_layers, hidden_size, output_size, activation=\"ReLU\", init_method = \"random\", loss_type = \"mse\"):\n",
        "        self.layers = [input_size] + [hidden_size] * hidden_layers + [output_size]\n",
        "        self.init_method = init_method\n",
        "        self.weights = self.initialize_weights()\n",
        "        self.biases = [np.zeros((1, self.layers[i+1])) for i in range(len(self.layers)-1)]\n",
        "        self.activation = activation\n",
        "        self.loss_type = loss_type\n",
        "\n",
        "    def initialize_weights(self):\n",
        "        weights = []\n",
        "        for i in range(len(self.layers) - 1):\n",
        "            if self.init_method == \"Xavier\":\n",
        "                limit = np.sqrt(1 / self.layers[i])\n",
        "                weights.append(np.random.uniform(-limit, limit, (self.layers[i], self.layers[i+1])))\n",
        "            else:\n",
        "                weights.append(np.random.randn(self.layers[i], self.layers[i+1]) * 0.01)\n",
        "        return weights\n",
        "\n",
        "    def activation_func(self, x, is_output=False):\n",
        "        if is_output and self.loss_type == \"cross_entropy\":\n",
        "            exp_x = np.exp(x - np.max(x, axis=1, keepdims=True))\n",
        "            return exp_x / np.sum(exp_x, axis=1, keepdims=True)\n",
        "        if self.activation == \"ReLU\":\n",
        "            return np.maximum(0, x)\n",
        "        elif self.activation == \"sigmoid\":\n",
        "            return 1 / (1 + np.exp(-x))\n",
        "        elif self.activation == \"tanh\":\n",
        "            return np.tanh(x)\n",
        "\n",
        "    def forward(self, X):\n",
        "        self.a = [X]\n",
        "        for i, (W, b) in enumerate(zip(self.weights, self.biases)):\n",
        "            z = np.dot(self.a[-1], W) + b\n",
        "            # Check if this is the output layer\n",
        "            is_output = (i == len(self.weights) - 1)\n",
        "            self.a.append(self.activation_func(z, is_output=is_output))\n",
        "        return self.a[-1]"
      ],
      "metadata": {
        "id": "8hm9kM-O3yML"
      },
      "execution_count": 7,
      "outputs": []
    },
    {
      "cell_type": "code",
      "source": [
        "import numpy as np\n",
        "\n",
        "class Backpropagation:\n",
        "    def __init__(self, model, optimizer=\"sgd\", learning_rate=0.01, momentum=0.9, beta=0.9, beta1=0.9, beta2=0.999, epsilon=1e-8, weight_decay=0.0):\n",
        "        \"\"\"\n",
        "        Initialize the backpropagation optimizer.\n",
        "        :param model: NeuralNetwork model instance\n",
        "        :param optimizer: Optimization algorithm ('sgd', 'momentum', 'nesterov', 'rmsprop', 'adam', 'nadam')\n",
        "        :param learning_rate: Learning rate for weight updates\n",
        "        :param momentum: Momentum factor for momentum-based optimizers\n",
        "        :param beta: Decay factor for RMSprop\n",
        "        :param beta1: First moment decay rate (Adam, Nadam)\n",
        "        :param beta2: Second moment decay rate (Adam, Nadam)\n",
        "        :param epsilon: Small value to prevent division by zero\n",
        "        :param weight_decay: L2 Regularisation\n",
        "        \"\"\"\n",
        "        self.model = model\n",
        "        self.optimizer = optimizer\n",
        "        self.lr = learning_rate\n",
        "        self.momentum = momentum\n",
        "        self.beta = beta\n",
        "        self.beta1 = beta1\n",
        "        self.beta2 = beta2\n",
        "        self.epsilon = epsilon\n",
        "        self.weight_decay = weight_decay\n",
        "\n",
        "        # Initialize velocity (for Momentum and Nesterov)\n",
        "        self.velocities = [np.zeros_like(W) for W in model.weights]\n",
        "\n",
        "        # Initialize moving averages (for Adam, Nadam, RMSprop)\n",
        "        self.m = [np.zeros_like(W) for W in model.weights]\n",
        "        self.v = [np.zeros_like(W) for W in model.weights]\n",
        "        self.t = 0  # Time step for Adam/Nadam\n",
        "\n",
        "    def backward(self, y_true, y_pred):\n",
        "        \"\"\"\n",
        "        Perform backward pass to compute gradients.\n",
        "        :param y_true: True labels\n",
        "        :param y_pred: Predicted output\n",
        "        :return: Gradients for each layer\n",
        "        \"\"\"\n",
        "        gradients = []\n",
        "        delta = y_pred - y_true #Same for mse and cross entropy as softmax outputs is handled in feedforward\n",
        "\n",
        "        for i in reversed(range(len(self.model.weights))):\n",
        "            grad_W = np.dot(self.model.a[i].T, delta) / y_true.shape[0]\n",
        "            grad_W += self.weight_decay * self.model.weights[i]  # Apply L2 regularization\n",
        "            gradients.insert(0, grad_W)\n",
        "\n",
        "            if i > 0:\n",
        "                if self.model.activation == \"ReLU\":\n",
        "                    delta = np.dot(delta, self.model.weights[i].T) * (self.model.a[i] > 0)\n",
        "                elif self.model.activation == \"sigmoid\":\n",
        "                    delta = np.dot(delta, self.model.weights[i].T) * (self.model.a[i] * (1 - self.model.a[i]))\n",
        "                elif self.model.activation == \"tanh\":\n",
        "                    delta = np.dot(delta, self.model.weights[i].T) * (1 - self.model.a[i]**2)\n",
        "\n",
        "\n",
        "        return gradients\n",
        "\n",
        "    def update_weights(self, gradients):\n",
        "        \"\"\"\n",
        "        Updates the model weights using the selected optimizer.\n",
        "        :param gradients: List of gradient matrices for each layer\n",
        "        \"\"\"\n",
        "        self.t += 1  # Increment time step for Adam/Nadam\n",
        "\n",
        "        for i in range(len(self.model.weights)):\n",
        "            grad = gradients[i] + self.weight_decay * self.model.weights[i]  # Apply L2 regularization\n",
        "\n",
        "            if self.optimizer == \"sgd\":\n",
        "                # Stochastic Gradient Descent (SGD)\n",
        "                self.model.weights[i] -= self.lr * grad\n",
        "\n",
        "            elif self.optimizer == \"momentum\":\n",
        "                # Momentum-Based Gradient Descent\n",
        "                self.velocities[i] = self.momentum * self.velocities[i] - self.lr * grad\n",
        "                self.model.weights[i] += self.velocities[i]\n",
        "\n",
        "            elif self.optimizer == \"nesterov\":\n",
        "                # Nesterov Accelerated Gradient Descent\n",
        "                prev_velocity = self.velocities[i]\n",
        "                self.velocities[i] = self.momentum * self.velocities[i] - self.lr * grad\n",
        "                self.model.weights[i] += -self.momentum * prev_velocity + (1 + self.momentum) * self.velocities[i]\n",
        "\n",
        "            elif self.optimizer == \"rmsprop\":\n",
        "                # RMSprop\n",
        "                self.v[i] = self.beta * self.v[i] + (1 - self.beta) * (grad ** 2)\n",
        "                self.model.weights[i] -= self.lr * grad / (np.sqrt(self.v[i]) + self.epsilon)\n",
        "\n",
        "            elif self.optimizer == \"adam\":\n",
        "                # Adam (Adaptive Moment Estimation)\n",
        "                self.m[i] = self.beta1 * self.m[i] + (1 - self.beta1) * grad\n",
        "                self.v[i] = self.beta2 * self.v[i] + (1 - self.beta2) * (grad ** 2)\n",
        "\n",
        "                # Bias correction\n",
        "                m_hat = self.m[i] / (1 - self.beta1 ** self.t)\n",
        "                v_hat = self.v[i] / (1 - self.beta2 ** self.t)\n",
        "\n",
        "                self.model.weights[i] -= self.lr * m_hat / (np.sqrt(v_hat) + self.epsilon)\n",
        "\n",
        "            elif self.optimizer == \"nadam\":\n",
        "                # Nadam (Nesterov-accelerated Adam)\n",
        "                m_hat = (self.beta1 * self.m[i] + (1 - self.beta1) * grad) / (1 - self.beta1 ** self.t)\n",
        "                v_hat = self.v[i] / (1 - self.beta2 ** self.t)\n",
        "\n",
        "                self.model.weights[i] -= self.lr * (self.beta1 * m_hat + (1 - self.beta1) * grad / (1 - self.beta1 ** self.t)) / (np.sqrt(v_hat) + self.epsilon)\n",
        "\n",
        "            else:\n",
        "                raise ValueError(f\"Optimizer '{self.optimizer}' is not recognized.\")\n"
      ],
      "metadata": {
        "id": "rMItFv1ldE82"
      },
      "execution_count": 8,
      "outputs": []
    },
    {
      "cell_type": "code",
      "source": [
        "import numpy as np\n",
        "import matplotlib.pyplot as plt\n",
        "from keras.datasets import fashion_mnist\n",
        "from keras.datasets import mnist\n",
        "import wandb\n",
        "\n",
        "# load dataset\n",
        "(x_train, y_train), (x_test, y_test) = fashion_mnist.load_data()\n",
        "class_type = ['T-shirt/top', 'Trouser', 'Pullover', 'Dress', 'Coat','Sandal', 'Shirt', 'Sneaker', 'Bag', 'Ankle boot']\n",
        "\n",
        "print(\"Sample Images for each Class :\")\n",
        "class_list=list()\n",
        "wandb.init(project=\"DA6401_Assignment1\")\n",
        "for i in range(10):\n",
        "  plt.subplot(2,5,i+1)\n",
        "  for j in range(len(y_train)):\n",
        "    if y_train[j] == i :\n",
        "        wandb.log({\"img\": [wandb.Image(x_train[j], caption=class_type[y_train[j]])]})\n",
        "        class_list.append(class_type[y_train[j]])\n",
        "        break"
      ],
      "metadata": {
        "colab": {
          "base_uri": "https://localhost:8080/",
          "height": 713
        },
        "id": "YZb_lGTkrnOx",
        "outputId": "cf32ccf5-e3e4-490d-f196-8d61f1fc3821"
      },
      "execution_count": 10,
      "outputs": [
        {
          "output_type": "stream",
          "name": "stdout",
          "text": [
            "Downloading data from https://storage.googleapis.com/tensorflow/tf-keras-datasets/train-labels-idx1-ubyte.gz\n",
            "\u001b[1m29515/29515\u001b[0m \u001b[32m━━━━━━━━━━━━━━━━━━━━\u001b[0m\u001b[37m\u001b[0m \u001b[1m0s\u001b[0m 0us/step\n",
            "Downloading data from https://storage.googleapis.com/tensorflow/tf-keras-datasets/train-images-idx3-ubyte.gz\n",
            "\u001b[1m26421880/26421880\u001b[0m \u001b[32m━━━━━━━━━━━━━━━━━━━━\u001b[0m\u001b[37m\u001b[0m \u001b[1m2s\u001b[0m 0us/step\n",
            "Downloading data from https://storage.googleapis.com/tensorflow/tf-keras-datasets/t10k-labels-idx1-ubyte.gz\n",
            "\u001b[1m5148/5148\u001b[0m \u001b[32m━━━━━━━━━━━━━━━━━━━━\u001b[0m\u001b[37m\u001b[0m \u001b[1m0s\u001b[0m 0us/step\n",
            "Downloading data from https://storage.googleapis.com/tensorflow/tf-keras-datasets/t10k-images-idx3-ubyte.gz\n",
            "\u001b[1m4422102/4422102\u001b[0m \u001b[32m━━━━━━━━━━━━━━━━━━━━\u001b[0m\u001b[37m\u001b[0m \u001b[1m1s\u001b[0m 0us/step\n",
            "Sample Images for each Class :\n"
          ]
        },
        {
          "output_type": "display_data",
          "data": {
            "text/plain": [
              "<IPython.core.display.HTML object>"
            ],
            "text/html": [
              "Changes to your `wandb` environment variables will be ignored because your `wandb` session has already started. For more information on how to modify your settings with `wandb.init()` arguments, please refer to <a href='https://wandb.me/wandb-init' target=\"_blank\">the W&B docs</a>."
            ]
          },
          "metadata": {}
        },
        {
          "output_type": "display_data",
          "data": {
            "text/plain": [
              "<IPython.core.display.HTML object>"
            ],
            "text/html": [
              "Tracking run with wandb version 0.19.8"
            ]
          },
          "metadata": {}
        },
        {
          "output_type": "display_data",
          "data": {
            "text/plain": [
              "<IPython.core.display.HTML object>"
            ],
            "text/html": [
              "Run data is saved locally in <code>/content/wandb/run-20250308_035035-6egk07b9</code>"
            ]
          },
          "metadata": {}
        },
        {
          "output_type": "display_data",
          "data": {
            "text/plain": [
              "<IPython.core.display.HTML object>"
            ],
            "text/html": [
              "Syncing run <strong><a href='https://wandb.ai/da24m027-indian-institute-of-technology-madras/DA6401_Assignment1/runs/6egk07b9' target=\"_blank\">young-resonance-45</a></strong> to <a href='https://wandb.ai/da24m027-indian-institute-of-technology-madras/DA6401_Assignment1' target=\"_blank\">Weights & Biases</a> (<a href='https://wandb.me/developer-guide' target=\"_blank\">docs</a>)<br>"
            ]
          },
          "metadata": {}
        },
        {
          "output_type": "display_data",
          "data": {
            "text/plain": [
              "<IPython.core.display.HTML object>"
            ],
            "text/html": [
              " View project at <a href='https://wandb.ai/da24m027-indian-institute-of-technology-madras/DA6401_Assignment1' target=\"_blank\">https://wandb.ai/da24m027-indian-institute-of-technology-madras/DA6401_Assignment1</a>"
            ]
          },
          "metadata": {}
        },
        {
          "output_type": "display_data",
          "data": {
            "text/plain": [
              "<IPython.core.display.HTML object>"
            ],
            "text/html": [
              " View run at <a href='https://wandb.ai/da24m027-indian-institute-of-technology-madras/DA6401_Assignment1/runs/6egk07b9' target=\"_blank\">https://wandb.ai/da24m027-indian-institute-of-technology-madras/DA6401_Assignment1/runs/6egk07b9</a>"
            ]
          },
          "metadata": {}
        },
        {
          "output_type": "display_data",
          "data": {
            "text/plain": [
              "<Figure size 640x480 with 10 Axes>"
            ],
            "image/png": "[encoded data removed]"
          },
          "metadata": {}
        }
      ]
    },
    {
      "cell_type": "code",
      "source": [
        "def train(config=None):\n",
        "  with wandb.init(config=config):\n",
        "    config = wandb.config\n",
        "    wandb.run.name = \"e_{}_hl_{}_hs_{}_lr_{}_opt_{}_bs_{}_init_{}_ac_{}_wd_{}_loss_{}\".format(config.epochs,\\\n",
        "                                                                      config.hidden_layers,\\\n",
        "                                                                      config.hidden_size,\\\n",
        "                                                                      config.learning_rate,\\\n",
        "                                                                      config.optimizer,\\\n",
        "                                                                      config.batch_size,\\\n",
        "                                                                      config.weights,\\\n",
        "                                                                      config.activation,\\\n",
        "                                                                      config.weight_decay,\\\n",
        "                                                                      config.loss_type)\n",
        "    (X_train, y_train), (X_test, y_test) = fashion_mnist.load_data()\n",
        "    X_train, y_train, X_test, y_test = preprocess_data(X_train, y_train, X_test, y_test)\n",
        "\n",
        "    val_size = int(0.1 * len(X_train))\n",
        "    X_val, y_val = X_train[:val_size], y_train[:val_size]\n",
        "    X_train, y_train = X_train[val_size:], y_train[val_size:]\n",
        "\n",
        "    model = NeuralNetwork(input_size=784, hidden_layers=config.hidden_layers, hidden_size=config.hidden_size, output_size=10, activation=config.activation, init_method=config.weights, loss_type = config.loss_type)\n",
        "    backprop = Backpropagation(model, optimizer=config.optimizer, learning_rate=config.learning_rate, weight_decay=config.weight_decay)\n",
        "\n",
        "    for epoch in range(config.epochs):\n",
        "      loss = 0\n",
        "      for i in range(0, len(X_train), config.batch_size):\n",
        "        batch_X = X_train[i:i + config.batch_size]\n",
        "        batch_y = y_train[i:i + config.batch_size]\n",
        "\n",
        "        # Forward & Backward pass\n",
        "        y_pred = model.forward(batch_X)\n",
        "        gradients = backprop.backward(batch_y, y_pred)\n",
        "        backprop.update_weights(gradients)\n",
        "\n",
        "        # Compute loss\n",
        "        loss += calculate_loss(batch_y, y_pred, config.loss_type)\n",
        "\n",
        "      loss /= len(X_train)\n",
        "      wandb.log({\"epoch\": epoch+1, \"loss\": loss})\n",
        "\n",
        "      # Validate model\n",
        "      val_pred = model.forward(X_val)\n",
        "      val_loss = calculate_loss(y_val, val_pred, config.loss_type)\n",
        "      val_accuracy = calculate_accuracy(y_val, val_pred)\n",
        "      wandb.log({\"epoch\": epoch+1, \"val_loss\": val_loss, \"val_accuracy\": val_accuracy})\n",
        "\n",
        "      print(f\"Epoch {epoch+1}/{config.epochs}, Loss: {loss:.4f}, Val Loss: {val_loss:.4f}, Val Accuracy: {val_accuracy:.4f}\")"
      ],
      "metadata": {
        "id": "ocoGXCfVdU_v"
      },
      "execution_count": 9,
      "outputs": []
    },
    {
      "cell_type": "code",
      "source": [
        "wandb.agent(sweep_id, train, count=100)"
      ],
      "metadata": {
        "colab": {
          "base_uri": "https://localhost:8080/",
          "height": 1000
        },
        "id": "G6TfwlN1h79j",
        "outputId": "041515b0-0194-4b67-db8a-e88135bc077a"
      },
      "execution_count": 10,
      "outputs": [
        {
          "output_type": "stream",
          "name": "stderr",
          "text": [
            "\u001b[34m\u001b[1mwandb\u001b[0m: Agent Starting Run: 8glvykow with config:\n",
            "\u001b[34m\u001b[1mwandb\u001b[0m: \tactivation: ReLU\n",
            "\u001b[34m\u001b[1mwandb\u001b[0m: \tbatch_size: 64\n",
            "\u001b[34m\u001b[1mwandb\u001b[0m: \tepochs: 10\n",
            "\u001b[34m\u001b[1mwandb\u001b[0m: \thidden_layers: 5\n",
            "\u001b[34m\u001b[1mwandb\u001b[0m: \thidden_size: 32\n",
            "\u001b[34m\u001b[1mwandb\u001b[0m: \tlearning_rate: 0.001\n",
            "\u001b[34m\u001b[1mwandb\u001b[0m: \tloss_type: mse\n",
            "\u001b[34m\u001b[1mwandb\u001b[0m: \toptimizer: momentum\n",
            "\u001b[34m\u001b[1mwandb\u001b[0m: \tweight_decay: 0.0005\n",
            "\u001b[34m\u001b[1mwandb\u001b[0m: \tweights: random\n"
          ]
        },
        {
          "output_type": "display_data",
          "data": {
            "text/plain": [
              "<IPython.core.display.HTML object>"
            ],
            "text/html": [
              "Tracking run with wandb version 0.19.7"
            ]
          },
          "metadata": {}
        },
        {
          "output_type": "display_data",
          "data": {
            "text/plain": [
              "<IPython.core.display.HTML object>"
            ],
            "text/html": [
              "Run data is saved locally in <code>/content/wandb/run-20250308_061707-8glvykow</code>"
            ]
          },
          "metadata": {}
        },
        {
          "output_type": "display_data",
          "data": {
            "text/plain": [
              "<IPython.core.display.HTML object>"
            ],
            "text/html": [
              "Syncing run <strong><a href='https://wandb.ai/da24m027-indian-institute-of-technology-madras/DA6401_Assignment1/runs/8glvykow' target=\"_blank\">winter-sweep-1</a></strong> to <a href='https://wandb.ai/da24m027-indian-institute-of-technology-madras/DA6401_Assignment1' target=\"_blank\">Weights & Biases</a> (<a href='https://wandb.me/developer-guide' target=\"_blank\">docs</a>)<br>Sweep page: <a href='https://wandb.ai/da24m027-indian-institute-of-technology-madras/DA6401_Assignment1/sweeps/xy966igu' target=\"_blank\">https://wandb.ai/da24m027-indian-institute-of-technology-madras/DA6401_Assignment1/sweeps/xy966igu</a>"
            ]
          },
          "metadata": {}
        },
        {
          "output_type": "display_data",
          "data": {
            "text/plain": [
              "<IPython.core.display.HTML object>"
            ],
            "text/html": [
              " View project at <a href='https://wandb.ai/da24m027-indian-institute-of-technology-madras/DA6401_Assignment1' target=\"_blank\">https://wandb.ai/da24m027-indian-institute-of-technology-madras/DA6401_Assignment1</a>"
            ]
          },
          "metadata": {}
        },
        {
          "output_type": "display_data",
          "data": {
            "text/plain": [
              "<IPython.core.display.HTML object>"
            ],
            "text/html": [
              " View sweep at <a href='https://wandb.ai/da24m027-indian-institute-of-technology-madras/DA6401_Assignment1/sweeps/xy966igu' target=\"_blank\">https://wandb.ai/da24m027-indian-institute-of-technology-madras/DA6401_Assignment1/sweeps/xy966igu</a>"
            ]
          },
          "metadata": {}
        },
        {
          "output_type": "display_data",
          "data": {
            "text/plain": [
              "<IPython.core.display.HTML object>"
            ],
            "text/html": [
              " View run at <a href='https://wandb.ai/da24m027-indian-institute-of-technology-madras/DA6401_Assignment1/runs/8glvykow' target=\"_blank\">https://wandb.ai/da24m027-indian-institute-of-technology-madras/DA6401_Assignment1/runs/8glvykow</a>"
            ]
          },
          "metadata": {}
        },
        {
          "output_type": "stream",
          "name": "stdout",
          "text": [
            "Downloading data from https://storage.googleapis.com/tensorflow/tf-keras-datasets/train-labels-idx1-ubyte.gz\n",
            "\u001b[1m29515/29515\u001b[0m \u001b[32m━━━━━━━━━━━━━━━━━━━━\u001b[0m\u001b[37m\u001b[0m \u001b[1m0s\u001b[0m 0us/step\n",
            "Downloading data from https://storage.googleapis.com/tensorflow/tf-keras-datasets/train-images-idx3-ubyte.gz\n",
            "\u001b[1m26421880/26421880\u001b[0m \u001b[32m━━━━━━━━━━━━━━━━━━━━\u001b[0m\u001b[37m\u001b[0m \u001b[1m0s\u001b[0m 0us/step\n",
            "Downloading data from https://storage.googleapis.com/tensorflow/tf-keras-datasets/t10k-labels-idx1-ubyte.gz\n",
            "\u001b[1m5148/5148\u001b[0m \u001b[32m━━━━━━━━━━━━━━━━━━━━\u001b[0m\u001b[37m\u001b[0m \u001b[1m0s\u001b[0m 0us/step\n",
            "Downloading data from https://storage.googleapis.com/tensorflow/tf-keras-datasets/t10k-images-idx3-ubyte.gz\n",
            "\u001b[1m4422102/4422102\u001b[0m \u001b[32m━━━━━━━━━━━━━━━━━━━━\u001b[0m\u001b[37m\u001b[0m \u001b[1m0s\u001b[0m 0us/step\n",
            "Epoch 1/10, Loss: 0.0016, Val Loss: 0.1000, Val Accuracy: 0.0963\n",
            "Epoch 2/10, Loss: 0.0016, Val Loss: 0.1000, Val Accuracy: 0.0963\n",
            "Epoch 3/10, Loss: 0.0016, Val Loss: 0.1000, Val Accuracy: 0.0963\n",
            "Epoch 4/10, Loss: 0.0016, Val Loss: 0.1000, Val Accuracy: 0.0965\n",
            "Epoch 5/10, Loss: 0.0016, Val Loss: 0.1000, Val Accuracy: 0.0965\n",
            "Epoch 6/10, Loss: 0.0016, Val Loss: 0.1000, Val Accuracy: 0.0963\n",
            "Epoch 7/10, Loss: 0.0016, Val Loss: 0.1000, Val Accuracy: 0.0963\n",
            "Epoch 8/10, Loss: 0.0016, Val Loss: 0.1000, Val Accuracy: 0.0963\n",
            "Epoch 9/10, Loss: 0.0016, Val Loss: 0.1000, Val Accuracy: 0.0963\n",
            "Epoch 10/10, Loss: 0.0016, Val Loss: 0.1000, Val Accuracy: 0.0963\n"
          ]
        },
        {
          "output_type": "display_data",
          "data": {
            "text/plain": [
              "<IPython.core.display.HTML object>"
            ],
            "text/html": []
          },
          "metadata": {}
        },
        {
          "output_type": "display_data",
          "data": {
            "text/plain": [
              "<IPython.core.display.HTML object>"
            ],
            "text/html": [
              "<br>    <style><br>        .wandb-row {<br>            display: flex;<br>            flex-direction: row;<br>            flex-wrap: wrap;<br>            justify-content: flex-start;<br>            width: 100%;<br>        }<br>        .wandb-col {<br>            display: flex;<br>            flex-direction: column;<br>            flex-basis: 100%;<br>            flex: 1;<br>            padding: 10px;<br>        }<br>    </style><br><div class=\"wandb-row\"><div class=\"wandb-col\"><h3>Run history:</h3><br/><table class=\"wandb\"><tr><td>epoch</td><td>▁▁▂▂▃▃▃▃▄▄▅▅▆▆▆▆▇▇██</td></tr><tr><td>loss</td><td>▁▁▁▁▁▁▁▁▁▁</td></tr><tr><td>val_accuracy</td><td>▁▁▁██▁▁▁▁▁</td></tr><tr><td>val_loss</td><td>▁▁▁███████</td></tr></table><br/></div><div class=\"wandb-col\"><h3>Run summary:</h3><br/><table class=\"wandb\"><tr><td>epoch</td><td>10</td></tr><tr><td>loss</td><td>0.00156</td></tr><tr><td>val_accuracy</td><td>0.09633</td></tr><tr><td>val_loss</td><td>0.1</td></tr></table><br/></div></div>"
            ]
          },
          "metadata": {}
        },
        {
          "output_type": "display_data",
          "data": {
            "text/plain": [
              "<IPython.core.display.HTML object>"
            ],
            "text/html": [
              " View run <strong style=\"color:#cdcd00\">e_10_hl_5_hs_32_lr_0.001_opt_momentum_bs_64_init_random_ac_ReLU_wd_0.0005_loss_mse</strong> at: <a href='https://wandb.ai/da24m027-indian-institute-of-technology-madras/DA6401_Assignment1/runs/8glvykow' target=\"_blank\">https://wandb.ai/da24m027-indian-institute-of-technology-madras/DA6401_Assignment1/runs/8glvykow</a><br> View project at: <a href='https://wandb.ai/da24m027-indian-institute-of-technology-madras/DA6401_Assignment1' target=\"_blank\">https://wandb.ai/da24m027-indian-institute-of-technology-madras/DA6401_Assignment1</a><br>Synced 5 W&B file(s), 0 media file(s), 0 artifact file(s) and 0 other file(s)"
            ]
          },
          "metadata": {}
        },
        {
          "output_type": "display_data",
          "data": {
            "text/plain": [
              "<IPython.core.display.HTML object>"
            ],
            "text/html": [
              "Find logs at: <code>./wandb/run-20250308_061707-8glvykow/logs</code>"
            ]
          },
          "metadata": {}
        },
        {
          "output_type": "stream",
          "name": "stderr",
          "text": [
            "\u001b[34m\u001b[1mwandb\u001b[0m: Sweep Agent: Waiting for job.\n",
            "\u001b[34m\u001b[1mwandb\u001b[0m: Job received.\n",
            "\u001b[34m\u001b[1mwandb\u001b[0m: Agent Starting Run: 1vna9pz3 with config:\n",
            "\u001b[34m\u001b[1mwandb\u001b[0m: \tactivation: ReLU\n",
            "\u001b[34m\u001b[1mwandb\u001b[0m: \tbatch_size: 32\n",
            "\u001b[34m\u001b[1mwandb\u001b[0m: \tepochs: 5\n",
            "\u001b[34m\u001b[1mwandb\u001b[0m: \thidden_layers: 4\n",
            "\u001b[34m\u001b[1mwandb\u001b[0m: \thidden_size: 64\n",
            "\u001b[34m\u001b[1mwandb\u001b[0m: \tlearning_rate: 0.001\n",
            "\u001b[34m\u001b[1mwandb\u001b[0m: \tloss_type: cross_entropy\n",
            "\u001b[34m\u001b[1mwandb\u001b[0m: \toptimizer: adam\n",
            "\u001b[34m\u001b[1mwandb\u001b[0m: \tweight_decay: 0.5\n",
            "\u001b[34m\u001b[1mwandb\u001b[0m: \tweights: random\n"
          ]
        },
        {
          "output_type": "display_data",
          "data": {
            "text/plain": [
              "<IPython.core.display.HTML object>"
            ],
            "text/html": [
              "Tracking run with wandb version 0.19.7"
            ]
          },
          "metadata": {}
        },
        {
          "output_type": "display_data",
          "data": {
            "text/plain": [
              "<IPython.core.display.HTML object>"
            ],
            "text/html": [
              "Run data is saved locally in <code>/content/wandb/run-20250308_061732-1vna9pz3</code>"
            ]
          },
          "metadata": {}
        },
        {
          "output_type": "display_data",
          "data": {
            "text/plain": [
              "<IPython.core.display.HTML object>"
            ],
            "text/html": [
              "Syncing run <strong><a href='https://wandb.ai/da24m027-indian-institute-of-technology-madras/DA6401_Assignment1/runs/1vna9pz3' target=\"_blank\">super-sweep-2</a></strong> to <a href='https://wandb.ai/da24m027-indian-institute-of-technology-madras/DA6401_Assignment1' target=\"_blank\">Weights & Biases</a> (<a href='https://wandb.me/developer-guide' target=\"_blank\">docs</a>)<br>Sweep page: <a href='https://wandb.ai/da24m027-indian-institute-of-technology-madras/DA6401_Assignment1/sweeps/xy966igu' target=\"_blank\">https://wandb.ai/da24m027-indian-institute-of-technology-madras/DA6401_Assignment1/sweeps/xy966igu</a>"
            ]
          },
          "metadata": {}
        },
        {
          "output_type": "display_data",
          "data": {
            "text/plain": [
              "<IPython.core.display.HTML object>"
            ],
            "text/html": [
              " View project at <a href='https://wandb.ai/da24m027-indian-institute-of-technology-madras/DA6401_Assignment1' target=\"_blank\">https://wandb.ai/da24m027-indian-institute-of-technology-madras/DA6401_Assignment1</a>"
            ]
          },
          "metadata": {}
        },
        {
          "output_type": "display_data",
          "data": {
            "text/plain": [
              "<IPython.core.display.HTML object>"
            ],
            "text/html": [
              " View sweep at <a href='https://wandb.ai/da24m027-indian-institute-of-technology-madras/DA6401_Assignment1/sweeps/xy966igu' target=\"_blank\">https://wandb.ai/da24m027-indian-institute-of-technology-madras/DA6401_Assignment1/sweeps/xy966igu</a>"
            ]
          },
          "metadata": {}
        },
        {
          "output_type": "display_data",
          "data": {
            "text/plain": [
              "<IPython.core.display.HTML object>"
            ],
            "text/html": [
              " View run at <a href='https://wandb.ai/da24m027-indian-institute-of-technology-madras/DA6401_Assignment1/runs/1vna9pz3' target=\"_blank\">https://wandb.ai/da24m027-indian-institute-of-technology-madras/DA6401_Assignment1/runs/1vna9pz3</a>"
            ]
          },
          "metadata": {}
        },
        {
          "output_type": "stream",
          "name": "stdout",
          "text": [
            "Epoch 1/5, Loss: 0.0072, Val Loss: 0.2303, Val Accuracy: 0.0933\n",
            "Epoch 2/5, Loss: 0.0072, Val Loss: 0.2303, Val Accuracy: 0.0933\n",
            "Epoch 3/5, Loss: 0.0072, Val Loss: 0.2303, Val Accuracy: 0.0933\n",
            "Epoch 4/5, Loss: 0.0072, Val Loss: 0.2303, Val Accuracy: 0.0933\n",
            "Epoch 5/5, Loss: 0.0072, Val Loss: 0.2303, Val Accuracy: 0.0933\n"
          ]
        },
        {
          "output_type": "display_data",
          "data": {
            "text/plain": [
              "<IPython.core.display.HTML object>"
            ],
            "text/html": []
          },
          "metadata": {}
        },
        {
          "output_type": "display_data",
          "data": {
            "text/plain": [
              "<IPython.core.display.HTML object>"
            ],
            "text/html": [
              "<br>    <style><br>        .wandb-row {<br>            display: flex;<br>            flex-direction: row;<br>            flex-wrap: wrap;<br>            justify-content: flex-start;<br>            width: 100%;<br>        }<br>        .wandb-col {<br>            display: flex;<br>            flex-direction: column;<br>            flex-basis: 100%;<br>            flex: 1;<br>            padding: 10px;<br>        }<br>    </style><br><div class=\"wandb-row\"><div class=\"wandb-col\"><h3>Run history:</h3><br/><table class=\"wandb\"><tr><td>epoch</td><td>▁▁▃▃▅▅▆▆██</td></tr><tr><td>loss</td><td>▁▁▁▁▁</td></tr><tr><td>val_accuracy</td><td>▁▁▁▁▁</td></tr><tr><td>val_loss</td><td>▁▁▁▁▁</td></tr></table><br/></div><div class=\"wandb-col\"><h3>Run summary:</h3><br/><table class=\"wandb\"><tr><td>epoch</td><td>5</td></tr><tr><td>loss</td><td>0.0072</td></tr><tr><td>val_accuracy</td><td>0.09333</td></tr><tr><td>val_loss</td><td>0.23026</td></tr></table><br/></div></div>"
            ]
          },
          "metadata": {}
        },
        {
          "output_type": "display_data",
          "data": {
            "text/plain": [
              "<IPython.core.display.HTML object>"
            ],
            "text/html": [
              " View run <strong style=\"color:#cdcd00\">e_5_hl_4_hs_64_lr_0.001_opt_adam_bs_32_init_random_ac_ReLU_wd_0.5_loss_cross_entropy</strong> at: <a href='https://wandb.ai/da24m027-indian-institute-of-technology-madras/DA6401_Assignment1/runs/1vna9pz3' target=\"_blank\">https://wandb.ai/da24m027-indian-institute-of-technology-madras/DA6401_Assignment1/runs/1vna9pz3</a><br> View project at: <a href='https://wandb.ai/da24m027-indian-institute-of-technology-madras/DA6401_Assignment1' target=\"_blank\">https://wandb.ai/da24m027-indian-institute-of-technology-madras/DA6401_Assignment1</a><br>Synced 5 W&B file(s), 0 media file(s), 0 artifact file(s) and 0 other file(s)"
            ]
          },
          "metadata": {}
        },
        {
          "output_type": "display_data",
          "data": {
            "text/plain": [
              "<IPython.core.display.HTML object>"
            ],
            "text/html": [
              "Find logs at: <code>./wandb/run-20250308_061732-1vna9pz3/logs</code>"
            ]
          },
          "metadata": {}
        },
        {
          "output_type": "stream",
          "name": "stderr",
          "text": [
            "\u001b[34m\u001b[1mwandb\u001b[0m: Agent Starting Run: tjgpxjh2 with config:\n",
            "\u001b[34m\u001b[1mwandb\u001b[0m: \tactivation: tanh\n",
            "\u001b[34m\u001b[1mwandb\u001b[0m: \tbatch_size: 32\n",
            "\u001b[34m\u001b[1mwandb\u001b[0m: \tepochs: 5\n",
            "\u001b[34m\u001b[1mwandb\u001b[0m: \thidden_layers: 4\n",
            "\u001b[34m\u001b[1mwandb\u001b[0m: \thidden_size: 64\n",
            "\u001b[34m\u001b[1mwandb\u001b[0m: \tlearning_rate: 0.001\n",
            "\u001b[34m\u001b[1mwandb\u001b[0m: \tloss_type: mse\n",
            "\u001b[34m\u001b[1mwandb\u001b[0m: \toptimizer: nesterov\n",
            "\u001b[34m\u001b[1mwandb\u001b[0m: \tweight_decay: 0.0005\n",
            "\u001b[34m\u001b[1mwandb\u001b[0m: \tweights: Xavier\n"
          ]
        },
        {
          "output_type": "display_data",
          "data": {
            "text/plain": [
              "<IPython.core.display.HTML object>"
            ],
            "text/html": [
              "Tracking run with wandb version 0.19.7"
            ]
          },
          "metadata": {}
        },
        {
          "output_type": "display_data",
          "data": {
            "text/plain": [
              "<IPython.core.display.HTML object>"
            ],
            "text/html": [
              "Run data is saved locally in <code>/content/wandb/run-20250308_061758-tjgpxjh2</code>"
            ]
          },
          "metadata": {}
        },
        {
          "output_type": "display_data",
          "data": {
            "text/plain": [
              "<IPython.core.display.HTML object>"
            ],
            "text/html": [
              "Syncing run <strong><a href='https://wandb.ai/da24m027-indian-institute-of-technology-madras/DA6401_Assignment1/runs/tjgpxjh2' target=\"_blank\">fearless-sweep-3</a></strong> to <a href='https://wandb.ai/da24m027-indian-institute-of-technology-madras/DA6401_Assignment1' target=\"_blank\">Weights & Biases</a> (<a href='https://wandb.me/developer-guide' target=\"_blank\">docs</a>)<br>Sweep page: <a href='https://wandb.ai/da24m027-indian-institute-of-technology-madras/DA6401_Assignment1/sweeps/xy966igu' target=\"_blank\">https://wandb.ai/da24m027-indian-institute-of-technology-madras/DA6401_Assignment1/sweeps/xy966igu</a>"
            ]
          },
          "metadata": {}
        },
        {
          "output_type": "display_data",
          "data": {
            "text/plain": [
              "<IPython.core.display.HTML object>"
            ],
            "text/html": [
              " View project at <a href='https://wandb.ai/da24m027-indian-institute-of-technology-madras/DA6401_Assignment1' target=\"_blank\">https://wandb.ai/da24m027-indian-institute-of-technology-madras/DA6401_Assignment1</a>"
            ]
          },
          "metadata": {}
        },
        {
          "output_type": "display_data",
          "data": {
            "text/plain": [
              "<IPython.core.display.HTML object>"
            ],
            "text/html": [
              " View sweep at <a href='https://wandb.ai/da24m027-indian-institute-of-technology-madras/DA6401_Assignment1/sweeps/xy966igu' target=\"_blank\">https://wandb.ai/da24m027-indian-institute-of-technology-madras/DA6401_Assignment1/sweeps/xy966igu</a>"
            ]
          },
          "metadata": {}
        },
        {
          "output_type": "display_data",
          "data": {
            "text/plain": [
              "<IPython.core.display.HTML object>"
            ],
            "text/html": [
              " View run at <a href='https://wandb.ai/da24m027-indian-institute-of-technology-madras/DA6401_Assignment1/runs/tjgpxjh2' target=\"_blank\">https://wandb.ai/da24m027-indian-institute-of-technology-madras/DA6401_Assignment1/runs/tjgpxjh2</a>"
            ]
          },
          "metadata": {}
        },
        {
          "output_type": "stream",
          "name": "stdout",
          "text": [
            "Epoch 1/5, Loss: 0.0021, Val Loss: 0.0532, Val Accuracy: 0.6670\n",
            "Epoch 2/5, Loss: 0.0015, Val Loss: 0.0441, Val Accuracy: 0.7262\n",
            "Epoch 3/5, Loss: 0.0013, Val Loss: 0.0389, Val Accuracy: 0.7762\n",
            "Epoch 4/5, Loss: 0.0012, Val Loss: 0.0365, Val Accuracy: 0.7855\n",
            "Epoch 5/5, Loss: 0.0011, Val Loss: 0.0350, Val Accuracy: 0.7888\n"
          ]
        },
        {
          "output_type": "display_data",
          "data": {
            "text/plain": [
              "<IPython.core.display.HTML object>"
            ],
            "text/html": []
          },
          "metadata": {}
        },
        {
          "output_type": "display_data",
          "data": {
            "text/plain": [
              "<IPython.core.display.HTML object>"
            ],
            "text/html": [
              "<br>    <style><br>        .wandb-row {<br>            display: flex;<br>            flex-direction: row;<br>            flex-wrap: wrap;<br>            justify-content: flex-start;<br>            width: 100%;<br>        }<br>        .wandb-col {<br>            display: flex;<br>            flex-direction: column;<br>            flex-basis: 100%;<br>            flex: 1;<br>            padding: 10px;<br>        }<br>    </style><br><div class=\"wandb-row\"><div class=\"wandb-col\"><h3>Run history:</h3><br/><table class=\"wandb\"><tr><td>epoch</td><td>▁▁▃▃▅▅▆▆██</td></tr><tr><td>loss</td><td>█▄▂▁▁</td></tr><tr><td>val_accuracy</td><td>▁▄▇██</td></tr><tr><td>val_loss</td><td>█▄▂▂▁</td></tr></table><br/></div><div class=\"wandb-col\"><h3>Run summary:</h3><br/><table class=\"wandb\"><tr><td>epoch</td><td>5</td></tr><tr><td>loss</td><td>0.00113</td></tr><tr><td>val_accuracy</td><td>0.78883</td></tr><tr><td>val_loss</td><td>0.03502</td></tr></table><br/></div></div>"
            ]
          },
          "metadata": {}
        },
        {
          "output_type": "display_data",
          "data": {
            "text/plain": [
              "<IPython.core.display.HTML object>"
            ],
            "text/html": [
              " View run <strong style=\"color:#cdcd00\">e_5_hl_4_hs_64_lr_0.001_opt_nesterov_bs_32_init_Xavier_ac_tanh_wd_0.0005_loss_mse</strong> at: <a href='https://wandb.ai/da24m027-indian-institute-of-technology-madras/DA6401_Assignment1/runs/tjgpxjh2' target=\"_blank\">https://wandb.ai/da24m027-indian-institute-of-technology-madras/DA6401_Assignment1/runs/tjgpxjh2</a><br> View project at: <a href='https://wandb.ai/da24m027-indian-institute-of-technology-madras/DA6401_Assignment1' target=\"_blank\">https://wandb.ai/da24m027-indian-institute-of-technology-madras/DA6401_Assignment1</a><br>Synced 5 W&B file(s), 0 media file(s), 0 artifact file(s) and 0 other file(s)"
            ]
          },
          "metadata": {}
        },
        {
          "output_type": "display_data",
          "data": {
            "text/plain": [
              "<IPython.core.display.HTML object>"
            ],
            "text/html": [
              "Find logs at: <code>./wandb/run-20250308_061758-tjgpxjh2/logs</code>"
            ]
          },
          "metadata": {}
        },
        {
          "output_type": "stream",
          "name": "stderr",
          "text": [
            "\u001b[34m\u001b[1mwandb\u001b[0m: Agent Starting Run: ojvi88yi with config:\n",
            "\u001b[34m\u001b[1mwandb\u001b[0m: \tactivation: tanh\n",
            "\u001b[34m\u001b[1mwandb\u001b[0m: \tbatch_size: 32\n",
            "\u001b[34m\u001b[1mwandb\u001b[0m: \tepochs: 10\n",
            "\u001b[34m\u001b[1mwandb\u001b[0m: \thidden_layers: 3\n",
            "\u001b[34m\u001b[1mwandb\u001b[0m: \thidden_size: 32\n",
            "\u001b[34m\u001b[1mwandb\u001b[0m: \tlearning_rate: 0.001\n",
            "\u001b[34m\u001b[1mwandb\u001b[0m: \tloss_type: mse\n",
            "\u001b[34m\u001b[1mwandb\u001b[0m: \toptimizer: rmsprop\n",
            "\u001b[34m\u001b[1mwandb\u001b[0m: \tweight_decay: 0.0005\n",
            "\u001b[34m\u001b[1mwandb\u001b[0m: \tweights: Xavier\n"
          ]
        },
        {
          "output_type": "display_data",
          "data": {
            "text/plain": [
              "<IPython.core.display.HTML object>"
            ],
            "text/html": [
              "Tracking run with wandb version 0.19.7"
            ]
          },
          "metadata": {}
        },
        {
          "output_type": "display_data",
          "data": {
            "text/plain": [
              "<IPython.core.display.HTML object>"
            ],
            "text/html": [
              "Run data is saved locally in <code>/content/wandb/run-20250308_061819-ojvi88yi</code>"
            ]
          },
          "metadata": {}
        },
        {
          "output_type": "display_data",
          "data": {
            "text/plain": [
              "<IPython.core.display.HTML object>"
            ],
            "text/html": [
              "Syncing run <strong><a href='https://wandb.ai/da24m027-indian-institute-of-technology-madras/DA6401_Assignment1/runs/ojvi88yi' target=\"_blank\">confused-sweep-4</a></strong> to <a href='https://wandb.ai/da24m027-indian-institute-of-technology-madras/DA6401_Assignment1' target=\"_blank\">Weights & Biases</a> (<a href='https://wandb.me/developer-guide' target=\"_blank\">docs</a>)<br>Sweep page: <a href='https://wandb.ai/da24m027-indian-institute-of-technology-madras/DA6401_Assignment1/sweeps/xy966igu' target=\"_blank\">https://wandb.ai/da24m027-indian-institute-of-technology-madras/DA6401_Assignment1/sweeps/xy966igu</a>"
            ]
          },
          "metadata": {}
        },
        {
          "output_type": "display_data",
          "data": {
            "text/plain": [
              "<IPython.core.display.HTML object>"
            ],
            "text/html": [
              " View project at <a href='https://wandb.ai/da24m027-indian-institute-of-technology-madras/DA6401_Assignment1' target=\"_blank\">https://wandb.ai/da24m027-indian-institute-of-technology-madras/DA6401_Assignment1</a>"
            ]
          },
          "metadata": {}
        },
        {
          "output_type": "display_data",
          "data": {
            "text/plain": [
              "<IPython.core.display.HTML object>"
            ],
            "text/html": [
              " View sweep at <a href='https://wandb.ai/da24m027-indian-institute-of-technology-madras/DA6401_Assignment1/sweeps/xy966igu' target=\"_blank\">https://wandb.ai/da24m027-indian-institute-of-technology-madras/DA6401_Assignment1/sweeps/xy966igu</a>"
            ]
          },
          "metadata": {}
        },
        {
          "output_type": "display_data",
          "data": {
            "text/plain": [
              "<IPython.core.display.HTML object>"
            ],
            "text/html": [
              " View run at <a href='https://wandb.ai/da24m027-indian-institute-of-technology-madras/DA6401_Assignment1/runs/ojvi88yi' target=\"_blank\">https://wandb.ai/da24m027-indian-institute-of-technology-madras/DA6401_Assignment1/runs/ojvi88yi</a>"
            ]
          },
          "metadata": {}
        },
        {
          "output_type": "stream",
          "name": "stdout",
          "text": [
            "Epoch 1/10, Loss: 0.0011, Val Loss: 0.0283, Val Accuracy: 0.8320\n",
            "Epoch 2/10, Loss: 0.0009, Val Loss: 0.0268, Val Accuracy: 0.8385\n",
            "Epoch 3/10, Loss: 0.0008, Val Loss: 0.0257, Val Accuracy: 0.8423\n",
            "Epoch 4/10, Loss: 0.0008, Val Loss: 0.0252, Val Accuracy: 0.8442\n",
            "Epoch 5/10, Loss: 0.0008, Val Loss: 0.0249, Val Accuracy: 0.8443\n",
            "Epoch 6/10, Loss: 0.0007, Val Loss: 0.0248, Val Accuracy: 0.8452\n",
            "Epoch 7/10, Loss: 0.0007, Val Loss: 0.0246, Val Accuracy: 0.8442\n",
            "Epoch 8/10, Loss: 0.0007, Val Loss: 0.0245, Val Accuracy: 0.8427\n",
            "Epoch 9/10, Loss: 0.0007, Val Loss: 0.0243, Val Accuracy: 0.8440\n",
            "Epoch 10/10, Loss: 0.0007, Val Loss: 0.0242, Val Accuracy: 0.8443\n"
          ]
        },
        {
          "output_type": "display_data",
          "data": {
            "text/plain": [
              "<IPython.core.display.HTML object>"
            ],
            "text/html": []
          },
          "metadata": {}
        },
        {
          "output_type": "display_data",
          "data": {
            "text/plain": [
              "<IPython.core.display.HTML object>"
            ],
            "text/html": [
              "<br>    <style><br>        .wandb-row {<br>            display: flex;<br>            flex-direction: row;<br>            flex-wrap: wrap;<br>            justify-content: flex-start;<br>            width: 100%;<br>        }<br>        .wandb-col {<br>            display: flex;<br>            flex-direction: column;<br>            flex-basis: 100%;<br>            flex: 1;<br>            padding: 10px;<br>        }<br>    </style><br><div class=\"wandb-row\"><div class=\"wandb-col\"><h3>Run history:</h3><br/><table class=\"wandb\"><tr><td>epoch</td><td>▁▁▂▂▃▃▃▃▄▄▅▅▆▆▆▆▇▇██</td></tr><tr><td>loss</td><td>█▄▃▂▂▂▁▁▁▁</td></tr><tr><td>val_accuracy</td><td>▁▄▆▇██▇▇▇█</td></tr><tr><td>val_loss</td><td>█▅▄▃▂▂▂▁▁▁</td></tr></table><br/></div><div class=\"wandb-col\"><h3>Run summary:</h3><br/><table class=\"wandb\"><tr><td>epoch</td><td>10</td></tr><tr><td>loss</td><td>0.00072</td></tr><tr><td>val_accuracy</td><td>0.84433</td></tr><tr><td>val_loss</td><td>0.02421</td></tr></table><br/></div></div>"
            ]
          },
          "metadata": {}
        },
        {
          "output_type": "display_data",
          "data": {
            "text/plain": [
              "<IPython.core.display.HTML object>"
            ],
            "text/html": [
              " View run <strong style=\"color:#cdcd00\">e_10_hl_3_hs_32_lr_0.001_opt_rmsprop_bs_32_init_Xavier_ac_tanh_wd_0.0005_loss_mse</strong> at: <a href='https://wandb.ai/da24m027-indian-institute-of-technology-madras/DA6401_Assignment1/runs/ojvi88yi' target=\"_blank\">https://wandb.ai/da24m027-indian-institute-of-technology-madras/DA6401_Assignment1/runs/ojvi88yi</a><br> View project at: <a href='https://wandb.ai/da24m027-indian-institute-of-technology-madras/DA6401_Assignment1' target=\"_blank\">https://wandb.ai/da24m027-indian-institute-of-technology-madras/DA6401_Assignment1</a><br>Synced 5 W&B file(s), 0 media file(s), 0 artifact file(s) and 0 other file(s)"
            ]
          },
          "metadata": {}
        },
        {
          "output_type": "display_data",
          "data": {
            "text/plain": [
              "<IPython.core.display.HTML object>"
            ],
            "text/html": [
              "Find logs at: <code>./wandb/run-20250308_061819-ojvi88yi/logs</code>"
            ]
          },
          "metadata": {}
        },
        {
          "output_type": "stream",
          "name": "stderr",
          "text": [
            "\u001b[34m\u001b[1mwandb\u001b[0m: Agent Starting Run: g8a7rvu8 with config:\n",
            "\u001b[34m\u001b[1mwandb\u001b[0m: \tactivation: tanh\n",
            "\u001b[34m\u001b[1mwandb\u001b[0m: \tbatch_size: 64\n",
            "\u001b[34m\u001b[1mwandb\u001b[0m: \tepochs: 10\n",
            "\u001b[34m\u001b[1mwandb\u001b[0m: \thidden_layers: 3\n",
            "\u001b[34m\u001b[1mwandb\u001b[0m: \thidden_size: 32\n",
            "\u001b[34m\u001b[1mwandb\u001b[0m: \tlearning_rate: 0.0001\n",
            "\u001b[34m\u001b[1mwandb\u001b[0m: \tloss_type: mse\n",
            "\u001b[34m\u001b[1mwandb\u001b[0m: \toptimizer: nadam\n",
            "\u001b[34m\u001b[1mwandb\u001b[0m: \tweight_decay: 0.0005\n",
            "\u001b[34m\u001b[1mwandb\u001b[0m: \tweights: Xavier\n"
          ]
        },
        {
          "output_type": "display_data",
          "data": {
            "text/plain": [
              "<IPython.core.display.HTML object>"
            ],
            "text/html": [
              "Tracking run with wandb version 0.19.7"
            ]
          },
          "metadata": {}
        },
        {
          "output_type": "display_data",
          "data": {
            "text/plain": [
              "<IPython.core.display.HTML object>"
            ],
            "text/html": [
              "Run data is saved locally in <code>/content/wandb/run-20250308_061835-g8a7rvu8</code>"
            ]
          },
          "metadata": {}
        },
        {
          "output_type": "display_data",
          "data": {
            "text/plain": [
              "<IPython.core.display.HTML object>"
            ],
            "text/html": [
              "Syncing run <strong><a href='https://wandb.ai/da24m027-indian-institute-of-technology-madras/DA6401_Assignment1/runs/g8a7rvu8' target=\"_blank\">polished-sweep-5</a></strong> to <a href='https://wandb.ai/da24m027-indian-institute-of-technology-madras/DA6401_Assignment1' target=\"_blank\">Weights & Biases</a> (<a href='https://wandb.me/developer-guide' target=\"_blank\">docs</a>)<br>Sweep page: <a href='https://wandb.ai/da24m027-indian-institute-of-technology-madras/DA6401_Assignment1/sweeps/xy966igu' target=\"_blank\">https://wandb.ai/da24m027-indian-institute-of-technology-madras/DA6401_Assignment1/sweeps/xy966igu</a>"
            ]
          },
          "metadata": {}
        },
        {
          "output_type": "display_data",
          "data": {
            "text/plain": [
              "<IPython.core.display.HTML object>"
            ],
            "text/html": [
              " View project at <a href='https://wandb.ai/da24m027-indian-institute-of-technology-madras/DA6401_Assignment1' target=\"_blank\">https://wandb.ai/da24m027-indian-institute-of-technology-madras/DA6401_Assignment1</a>"
            ]
          },
          "metadata": {}
        },
        {
          "output_type": "display_data",
          "data": {
            "text/plain": [
              "<IPython.core.display.HTML object>"
            ],
            "text/html": [
              " View sweep at <a href='https://wandb.ai/da24m027-indian-institute-of-technology-madras/DA6401_Assignment1/sweeps/xy966igu' target=\"_blank\">https://wandb.ai/da24m027-indian-institute-of-technology-madras/DA6401_Assignment1/sweeps/xy966igu</a>"
            ]
          },
          "metadata": {}
        },
        {
          "output_type": "display_data",
          "data": {
            "text/plain": [
              "<IPython.core.display.HTML object>"
            ],
            "text/html": [
              " View run at <a href='https://wandb.ai/da24m027-indian-institute-of-technology-madras/DA6401_Assignment1/runs/g8a7rvu8' target=\"_blank\">https://wandb.ai/da24m027-indian-institute-of-technology-madras/DA6401_Assignment1/runs/g8a7rvu8</a>"
            ]
          },
          "metadata": {}
        },
        {
          "output_type": "stream",
          "name": "stdout",
          "text": [
            "Epoch 1/10, Loss: 0.0185, Val Loss: 1.1791, Val Accuracy: 0.0990\n",
            "Epoch 2/10, Loss: 0.0184, Val Loss: 1.1791, Val Accuracy: 0.0990\n",
            "Epoch 3/10, Loss: 0.0184, Val Loss: 1.1791, Val Accuracy: 0.0990\n",
            "Epoch 4/10, Loss: 0.0184, Val Loss: 1.1791, Val Accuracy: 0.0990\n",
            "Epoch 5/10, Loss: 0.0184, Val Loss: 1.1791, Val Accuracy: 0.0990\n",
            "Epoch 6/10, Loss: 0.0184, Val Loss: 1.1791, Val Accuracy: 0.0990\n",
            "Epoch 7/10, Loss: 0.0184, Val Loss: 1.1791, Val Accuracy: 0.0990\n",
            "Epoch 8/10, Loss: 0.0184, Val Loss: 1.1791, Val Accuracy: 0.0990\n",
            "Epoch 9/10, Loss: 0.0184, Val Loss: 1.1791, Val Accuracy: 0.0990\n",
            "Epoch 10/10, Loss: 0.0184, Val Loss: 1.1791, Val Accuracy: 0.0990\n"
          ]
        },
        {
          "output_type": "display_data",
          "data": {
            "text/plain": [
              "<IPython.core.display.HTML object>"
            ],
            "text/html": []
          },
          "metadata": {}
        },
        {
          "output_type": "display_data",
          "data": {
            "text/plain": [
              "<IPython.core.display.HTML object>"
            ],
            "text/html": [
              "<br>    <style><br>        .wandb-row {<br>            display: flex;<br>            flex-direction: row;<br>            flex-wrap: wrap;<br>            justify-content: flex-start;<br>            width: 100%;<br>        }<br>        .wandb-col {<br>            display: flex;<br>            flex-direction: column;<br>            flex-basis: 100%;<br>            flex: 1;<br>            padding: 10px;<br>        }<br>    </style><br><div class=\"wandb-row\"><div class=\"wandb-col\"><h3>Run history:</h3><br/><table class=\"wandb\"><tr><td>epoch</td><td>▁▁▂▂▃▃▃▃▄▄▅▅▆▆▆▆▇▇██</td></tr><tr><td>loss</td><td>█▁▁▁▁▁▁▁▁▁</td></tr><tr><td>val_accuracy</td><td>▁▁▁▁▁▁▁▁▁▁</td></tr><tr><td>val_loss</td><td>▁▁▁▁▁▁▁▁▁▁</td></tr></table><br/></div><div class=\"wandb-col\"><h3>Run summary:</h3><br/><table class=\"wandb\"><tr><td>epoch</td><td>10</td></tr><tr><td>loss</td><td>0.01844</td></tr><tr><td>val_accuracy</td><td>0.099</td></tr><tr><td>val_loss</td><td>1.17913</td></tr></table><br/></div></div>"
            ]
          },
          "metadata": {}
        },
        {
          "output_type": "display_data",
          "data": {
            "text/plain": [
              "<IPython.core.display.HTML object>"
            ],
            "text/html": [
              " View run <strong style=\"color:#cdcd00\">e_10_hl_3_hs_32_lr_0.0001_opt_nadam_bs_64_init_Xavier_ac_tanh_wd_0.0005_loss_mse</strong> at: <a href='https://wandb.ai/da24m027-indian-institute-of-technology-madras/DA6401_Assignment1/runs/g8a7rvu8' target=\"_blank\">https://wandb.ai/da24m027-indian-institute-of-technology-madras/DA6401_Assignment1/runs/g8a7rvu8</a><br> View project at: <a href='https://wandb.ai/da24m027-indian-institute-of-technology-madras/DA6401_Assignment1' target=\"_blank\">https://wandb.ai/da24m027-indian-institute-of-technology-madras/DA6401_Assignment1</a><br>Synced 5 W&B file(s), 0 media file(s), 0 artifact file(s) and 0 other file(s)"
            ]
          },
          "metadata": {}
        },
        {
          "output_type": "display_data",
          "data": {
            "text/plain": [
              "<IPython.core.display.HTML object>"
            ],
            "text/html": [
              "Find logs at: <code>./wandb/run-20250308_061835-g8a7rvu8/logs</code>"
            ]
          },
          "metadata": {}
        },
        {
          "output_type": "stream",
          "name": "stderr",
          "text": [
            "\u001b[34m\u001b[1mwandb\u001b[0m: Agent Starting Run: 3fy1hnga with config:\n",
            "\u001b[34m\u001b[1mwandb\u001b[0m: \tactivation: tanh\n",
            "\u001b[34m\u001b[1mwandb\u001b[0m: \tbatch_size: 32\n",
            "\u001b[34m\u001b[1mwandb\u001b[0m: \tepochs: 10\n",
            "\u001b[34m\u001b[1mwandb\u001b[0m: \thidden_layers: 5\n",
            "\u001b[34m\u001b[1mwandb\u001b[0m: \thidden_size: 128\n",
            "\u001b[34m\u001b[1mwandb\u001b[0m: \tlearning_rate: 0.0001\n",
            "\u001b[34m\u001b[1mwandb\u001b[0m: \tloss_type: cross_entropy\n",
            "\u001b[34m\u001b[1mwandb\u001b[0m: \toptimizer: momentum\n",
            "\u001b[34m\u001b[1mwandb\u001b[0m: \tweight_decay: 0.5\n",
            "\u001b[34m\u001b[1mwandb\u001b[0m: \tweights: Xavier\n"
          ]
        },
        {
          "output_type": "display_data",
          "data": {
            "text/plain": [
              "<IPython.core.display.HTML object>"
            ],
            "text/html": [
              "Tracking run with wandb version 0.19.7"
            ]
          },
          "metadata": {}
        },
        {
          "output_type": "display_data",
          "data": {
            "text/plain": [
              "<IPython.core.display.HTML object>"
            ],
            "text/html": [
              "Run data is saved locally in <code>/content/wandb/run-20250308_061855-3fy1hnga</code>"
            ]
          },
          "metadata": {}
        },
        {
          "output_type": "display_data",
          "data": {
            "text/plain": [
              "<IPython.core.display.HTML object>"
            ],
            "text/html": [
              "Syncing run <strong><a href='https://wandb.ai/da24m027-indian-institute-of-technology-madras/DA6401_Assignment1/runs/3fy1hnga' target=\"_blank\">dauntless-sweep-6</a></strong> to <a href='https://wandb.ai/da24m027-indian-institute-of-technology-madras/DA6401_Assignment1' target=\"_blank\">Weights & Biases</a> (<a href='https://wandb.me/developer-guide' target=\"_blank\">docs</a>)<br>Sweep page: <a href='https://wandb.ai/da24m027-indian-institute-of-technology-madras/DA6401_Assignment1/sweeps/xy966igu' target=\"_blank\">https://wandb.ai/da24m027-indian-institute-of-technology-madras/DA6401_Assignment1/sweeps/xy966igu</a>"
            ]
          },
          "metadata": {}
        },
        {
          "output_type": "display_data",
          "data": {
            "text/plain": [
              "<IPython.core.display.HTML object>"
            ],
            "text/html": [
              " View project at <a href='https://wandb.ai/da24m027-indian-institute-of-technology-madras/DA6401_Assignment1' target=\"_blank\">https://wandb.ai/da24m027-indian-institute-of-technology-madras/DA6401_Assignment1</a>"
            ]
          },
          "metadata": {}
        },
        {
          "output_type": "display_data",
          "data": {
            "text/plain": [
              "<IPython.core.display.HTML object>"
            ],
            "text/html": [
              " View sweep at <a href='https://wandb.ai/da24m027-indian-institute-of-technology-madras/DA6401_Assignment1/sweeps/xy966igu' target=\"_blank\">https://wandb.ai/da24m027-indian-institute-of-technology-madras/DA6401_Assignment1/sweeps/xy966igu</a>"
            ]
          },
          "metadata": {}
        },
        {
          "output_type": "display_data",
          "data": {
            "text/plain": [
              "<IPython.core.display.HTML object>"
            ],
            "text/html": [
              " View run at <a href='https://wandb.ai/da24m027-indian-institute-of-technology-madras/DA6401_Assignment1/runs/3fy1hnga' target=\"_blank\">https://wandb.ai/da24m027-indian-institute-of-technology-madras/DA6401_Assignment1/runs/3fy1hnga</a>"
            ]
          },
          "metadata": {}
        },
        {
          "output_type": "stream",
          "name": "stdout",
          "text": [
            "Epoch 1/10, Loss: 0.0072, Val Loss: 0.2303, Val Accuracy: 0.0688\n",
            "Epoch 2/10, Loss: 0.0072, Val Loss: 0.2303, Val Accuracy: 0.0690\n",
            "Epoch 3/10, Loss: 0.0072, Val Loss: 0.2303, Val Accuracy: 0.0780\n",
            "Epoch 4/10, Loss: 0.0072, Val Loss: 0.2303, Val Accuracy: 0.0933\n",
            "Epoch 5/10, Loss: 0.0072, Val Loss: 0.2303, Val Accuracy: 0.0933\n",
            "Epoch 6/10, Loss: 0.0072, Val Loss: 0.2303, Val Accuracy: 0.0933\n",
            "Epoch 7/10, Loss: 0.0072, Val Loss: 0.2303, Val Accuracy: 0.0933\n",
            "Epoch 8/10, Loss: 0.0072, Val Loss: 0.2303, Val Accuracy: 0.0933\n",
            "Epoch 9/10, Loss: 0.0072, Val Loss: 0.2303, Val Accuracy: 0.0933\n",
            "Epoch 10/10, Loss: 0.0072, Val Loss: 0.2303, Val Accuracy: 0.0933\n"
          ]
        },
        {
          "output_type": "display_data",
          "data": {
            "text/plain": [
              "<IPython.core.display.HTML object>"
            ],
            "text/html": []
          },
          "metadata": {}
        },
        {
          "output_type": "display_data",
          "data": {
            "text/plain": [
              "<IPython.core.display.HTML object>"
            ],
            "text/html": [
              "<br>    <style><br>        .wandb-row {<br>            display: flex;<br>            flex-direction: row;<br>            flex-wrap: wrap;<br>            justify-content: flex-start;<br>            width: 100%;<br>        }<br>        .wandb-col {<br>            display: flex;<br>            flex-direction: column;<br>            flex-basis: 100%;<br>            flex: 1;<br>            padding: 10px;<br>        }<br>    </style><br><div class=\"wandb-row\"><div class=\"wandb-col\"><h3>Run history:</h3><br/><table class=\"wandb\"><tr><td>epoch</td><td>▁▁▂▂▃▃▃▃▄▄▅▅▆▆▆▆▇▇██</td></tr><tr><td>loss</td><td>▁█████████</td></tr><tr><td>val_accuracy</td><td>▁▁▄███████</td></tr><tr><td>val_loss</td><td>▁█████████</td></tr></table><br/></div><div class=\"wandb-col\"><h3>Run summary:</h3><br/><table class=\"wandb\"><tr><td>epoch</td><td>10</td></tr><tr><td>loss</td><td>0.0072</td></tr><tr><td>val_accuracy</td><td>0.09333</td></tr><tr><td>val_loss</td><td>0.23026</td></tr></table><br/></div></div>"
            ]
          },
          "metadata": {}
        },
        {
          "output_type": "display_data",
          "data": {
            "text/plain": [
              "<IPython.core.display.HTML object>"
            ],
            "text/html": [
              " View run <strong style=\"color:#cdcd00\">e_10_hl_5_hs_128_lr_0.0001_opt_momentum_bs_32_init_Xavier_ac_tanh_wd_0.5_loss_cross_entropy</strong> at: <a href='https://wandb.ai/da24m027-indian-institute-of-technology-madras/DA6401_Assignment1/runs/3fy1hnga' target=\"_blank\">https://wandb.ai/da24m027-indian-institute-of-technology-madras/DA6401_Assignment1/runs/3fy1hnga</a><br> View project at: <a href='https://wandb.ai/da24m027-indian-institute-of-technology-madras/DA6401_Assignment1' target=\"_blank\">https://wandb.ai/da24m027-indian-institute-of-technology-madras/DA6401_Assignment1</a><br>Synced 5 W&B file(s), 0 media file(s), 0 artifact file(s) and 0 other file(s)"
            ]
          },
          "metadata": {}
        },
        {
          "output_type": "display_data",
          "data": {
            "text/plain": [
              "<IPython.core.display.HTML object>"
            ],
            "text/html": [
              "Find logs at: <code>./wandb/run-20250308_061855-3fy1hnga/logs</code>"
            ]
          },
          "metadata": {}
        },
        {
          "output_type": "stream",
          "name": "stderr",
          "text": [
            "\u001b[34m\u001b[1mwandb\u001b[0m: Agent Starting Run: hynianys with config:\n",
            "\u001b[34m\u001b[1mwandb\u001b[0m: \tactivation: tanh\n",
            "\u001b[34m\u001b[1mwandb\u001b[0m: \tbatch_size: 32\n",
            "\u001b[34m\u001b[1mwandb\u001b[0m: \tepochs: 10\n",
            "\u001b[34m\u001b[1mwandb\u001b[0m: \thidden_layers: 4\n",
            "\u001b[34m\u001b[1mwandb\u001b[0m: \thidden_size: 128\n",
            "\u001b[34m\u001b[1mwandb\u001b[0m: \tlearning_rate: 0.001\n",
            "\u001b[34m\u001b[1mwandb\u001b[0m: \tloss_type: mse\n",
            "\u001b[34m\u001b[1mwandb\u001b[0m: \toptimizer: nesterov\n",
            "\u001b[34m\u001b[1mwandb\u001b[0m: \tweight_decay: 0.5\n",
            "\u001b[34m\u001b[1mwandb\u001b[0m: \tweights: Xavier\n"
          ]
        },
        {
          "output_type": "display_data",
          "data": {
            "text/plain": [
              "<IPython.core.display.HTML object>"
            ],
            "text/html": [
              "Tracking run with wandb version 0.19.7"
            ]
          },
          "metadata": {}
        },
        {
          "output_type": "display_data",
          "data": {
            "text/plain": [
              "<IPython.core.display.HTML object>"
            ],
            "text/html": [
              "Run data is saved locally in <code>/content/wandb/run-20250308_062001-hynianys</code>"
            ]
          },
          "metadata": {}
        },
        {
          "output_type": "display_data",
          "data": {
            "text/plain": [
              "<IPython.core.display.HTML object>"
            ],
            "text/html": [
              "Syncing run <strong><a href='https://wandb.ai/da24m027-indian-institute-of-technology-madras/DA6401_Assignment1/runs/hynianys' target=\"_blank\">dauntless-sweep-7</a></strong> to <a href='https://wandb.ai/da24m027-indian-institute-of-technology-madras/DA6401_Assignment1' target=\"_blank\">Weights & Biases</a> (<a href='https://wandb.me/developer-guide' target=\"_blank\">docs</a>)<br>Sweep page: <a href='https://wandb.ai/da24m027-indian-institute-of-technology-madras/DA6401_Assignment1/sweeps/xy966igu' target=\"_blank\">https://wandb.ai/da24m027-indian-institute-of-technology-madras/DA6401_Assignment1/sweeps/xy966igu</a>"
            ]
          },
          "metadata": {}
        },
        {
          "output_type": "display_data",
          "data": {
            "text/plain": [
              "<IPython.core.display.HTML object>"
            ],
            "text/html": [
              " View project at <a href='https://wandb.ai/da24m027-indian-institute-of-technology-madras/DA6401_Assignment1' target=\"_blank\">https://wandb.ai/da24m027-indian-institute-of-technology-madras/DA6401_Assignment1</a>"
            ]
          },
          "metadata": {}
        },
        {
          "output_type": "display_data",
          "data": {
            "text/plain": [
              "<IPython.core.display.HTML object>"
            ],
            "text/html": [
              " View sweep at <a href='https://wandb.ai/da24m027-indian-institute-of-technology-madras/DA6401_Assignment1/sweeps/xy966igu' target=\"_blank\">https://wandb.ai/da24m027-indian-institute-of-technology-madras/DA6401_Assignment1/sweeps/xy966igu</a>"
            ]
          },
          "metadata": {}
        },
        {
          "output_type": "display_data",
          "data": {
            "text/plain": [
              "<IPython.core.display.HTML object>"
            ],
            "text/html": [
              " View run at <a href='https://wandb.ai/da24m027-indian-institute-of-technology-madras/DA6401_Assignment1/runs/hynianys' target=\"_blank\">https://wandb.ai/da24m027-indian-institute-of-technology-madras/DA6401_Assignment1/runs/hynianys</a>"
            ]
          },
          "metadata": {}
        },
        {
          "output_type": "stream",
          "name": "stdout",
          "text": [
            "Epoch 1/10, Loss: 0.0031, Val Loss: 0.1000, Val Accuracy: 0.1803\n",
            "Epoch 2/10, Loss: 0.0031, Val Loss: 0.1000, Val Accuracy: 0.1803\n",
            "Epoch 3/10, Loss: 0.0031, Val Loss: 0.1000, Val Accuracy: 0.1803\n",
            "Epoch 4/10, Loss: 0.0031, Val Loss: 0.1000, Val Accuracy: 0.1803\n",
            "Epoch 5/10, Loss: 0.0031, Val Loss: 0.1000, Val Accuracy: 0.1803\n",
            "Epoch 6/10, Loss: 0.0031, Val Loss: 0.1000, Val Accuracy: 0.1803\n",
            "Epoch 7/10, Loss: 0.0031, Val Loss: 0.1000, Val Accuracy: 0.1803\n",
            "Epoch 8/10, Loss: 0.0031, Val Loss: 0.1000, Val Accuracy: 0.0933\n",
            "Epoch 9/10, Loss: 0.0031, Val Loss: 0.1000, Val Accuracy: 0.0933\n",
            "Epoch 10/10, Loss: 0.0031, Val Loss: 0.1000, Val Accuracy: 0.0933\n"
          ]
        },
        {
          "output_type": "display_data",
          "data": {
            "text/plain": [
              "<IPython.core.display.HTML object>"
            ],
            "text/html": []
          },
          "metadata": {}
        },
        {
          "output_type": "display_data",
          "data": {
            "text/plain": [
              "<IPython.core.display.HTML object>"
            ],
            "text/html": [
              "<br>    <style><br>        .wandb-row {<br>            display: flex;<br>            flex-direction: row;<br>            flex-wrap: wrap;<br>            justify-content: flex-start;<br>            width: 100%;<br>        }<br>        .wandb-col {<br>            display: flex;<br>            flex-direction: column;<br>            flex-basis: 100%;<br>            flex: 1;<br>            padding: 10px;<br>        }<br>    </style><br><div class=\"wandb-row\"><div class=\"wandb-col\"><h3>Run history:</h3><br/><table class=\"wandb\"><tr><td>epoch</td><td>▁▁▂▂▃▃▃▃▄▄▅▅▆▆▆▆▇▇██</td></tr><tr><td>loss</td><td>▁█████████</td></tr><tr><td>val_accuracy</td><td>███████▁▁▁</td></tr><tr><td>val_loss</td><td>▁▁▁▁▁▁▁▁▁▁</td></tr></table><br/></div><div class=\"wandb-col\"><h3>Run summary:</h3><br/><table class=\"wandb\"><tr><td>epoch</td><td>10</td></tr><tr><td>loss</td><td>0.00313</td></tr><tr><td>val_accuracy</td><td>0.09333</td></tr><tr><td>val_loss</td><td>0.1</td></tr></table><br/></div></div>"
            ]
          },
          "metadata": {}
        },
        {
          "output_type": "display_data",
          "data": {
            "text/plain": [
              "<IPython.core.display.HTML object>"
            ],
            "text/html": [
              " View run <strong style=\"color:#cdcd00\">e_10_hl_4_hs_128_lr_0.001_opt_nesterov_bs_32_init_Xavier_ac_tanh_wd_0.5_loss_mse</strong> at: <a href='https://wandb.ai/da24m027-indian-institute-of-technology-madras/DA6401_Assignment1/runs/hynianys' target=\"_blank\">https://wandb.ai/da24m027-indian-institute-of-technology-madras/DA6401_Assignment1/runs/hynianys</a><br> View project at: <a href='https://wandb.ai/da24m027-indian-institute-of-technology-madras/DA6401_Assignment1' target=\"_blank\">https://wandb.ai/da24m027-indian-institute-of-technology-madras/DA6401_Assignment1</a><br>Synced 5 W&B file(s), 0 media file(s), 0 artifact file(s) and 0 other file(s)"
            ]
          },
          "metadata": {}
        },
        {
          "output_type": "display_data",
          "data": {
            "text/plain": [
              "<IPython.core.display.HTML object>"
            ],
            "text/html": [
              "Find logs at: <code>./wandb/run-20250308_062001-hynianys/logs</code>"
            ]
          },
          "metadata": {}
        },
        {
          "output_type": "stream",
          "name": "stderr",
          "text": [
            "\u001b[34m\u001b[1mwandb\u001b[0m: Sweep Agent: Waiting for job.\n",
            "\u001b[34m\u001b[1mwandb\u001b[0m: Job received.\n",
            "\u001b[34m\u001b[1mwandb\u001b[0m: Agent Starting Run: tt6vjjrx with config:\n",
            "\u001b[34m\u001b[1mwandb\u001b[0m: \tactivation: sigmoid\n",
            "\u001b[34m\u001b[1mwandb\u001b[0m: \tbatch_size: 32\n",
            "\u001b[34m\u001b[1mwandb\u001b[0m: \tepochs: 10\n",
            "\u001b[34m\u001b[1mwandb\u001b[0m: \thidden_layers: 4\n",
            "\u001b[34m\u001b[1mwandb\u001b[0m: \thidden_size: 64\n",
            "\u001b[34m\u001b[1mwandb\u001b[0m: \tlearning_rate: 0.001\n",
            "\u001b[34m\u001b[1mwandb\u001b[0m: \tloss_type: mse\n",
            "\u001b[34m\u001b[1mwandb\u001b[0m: \toptimizer: momentum\n",
            "\u001b[34m\u001b[1mwandb\u001b[0m: \tweight_decay: 0.0005\n",
            "\u001b[34m\u001b[1mwandb\u001b[0m: \tweights: Xavier\n"
          ]
        },
        {
          "output_type": "display_data",
          "data": {
            "text/plain": [
              "<IPython.core.display.HTML object>"
            ],
            "text/html": [
              "Tracking run with wandb version 0.19.7"
            ]
          },
          "metadata": {}
        },
        {
          "output_type": "display_data",
          "data": {
            "text/plain": [
              "<IPython.core.display.HTML object>"
            ],
            "text/html": [
              "Run data is saved locally in <code>/content/wandb/run-20250308_062148-tt6vjjrx</code>"
            ]
          },
          "metadata": {}
        },
        {
          "output_type": "display_data",
          "data": {
            "text/plain": [
              "<IPython.core.display.HTML object>"
            ],
            "text/html": [
              "Syncing run <strong><a href='https://wandb.ai/da24m027-indian-institute-of-technology-madras/DA6401_Assignment1/runs/tt6vjjrx' target=\"_blank\">comic-sweep-8</a></strong> to <a href='https://wandb.ai/da24m027-indian-institute-of-technology-madras/DA6401_Assignment1' target=\"_blank\">Weights & Biases</a> (<a href='https://wandb.me/developer-guide' target=\"_blank\">docs</a>)<br>Sweep page: <a href='https://wandb.ai/da24m027-indian-institute-of-technology-madras/DA6401_Assignment1/sweeps/xy966igu' target=\"_blank\">https://wandb.ai/da24m027-indian-institute-of-technology-madras/DA6401_Assignment1/sweeps/xy966igu</a>"
            ]
          },
          "metadata": {}
        },
        {
          "output_type": "display_data",
          "data": {
            "text/plain": [
              "<IPython.core.display.HTML object>"
            ],
            "text/html": [
              " View project at <a href='https://wandb.ai/da24m027-indian-institute-of-technology-madras/DA6401_Assignment1' target=\"_blank\">https://wandb.ai/da24m027-indian-institute-of-technology-madras/DA6401_Assignment1</a>"
            ]
          },
          "metadata": {}
        },
        {
          "output_type": "display_data",
          "data": {
            "text/plain": [
              "<IPython.core.display.HTML object>"
            ],
            "text/html": [
              " View sweep at <a href='https://wandb.ai/da24m027-indian-institute-of-technology-madras/DA6401_Assignment1/sweeps/xy966igu' target=\"_blank\">https://wandb.ai/da24m027-indian-institute-of-technology-madras/DA6401_Assignment1/sweeps/xy966igu</a>"
            ]
          },
          "metadata": {}
        },
        {
          "output_type": "display_data",
          "data": {
            "text/plain": [
              "<IPython.core.display.HTML object>"
            ],
            "text/html": [
              " View run at <a href='https://wandb.ai/da24m027-indian-institute-of-technology-madras/DA6401_Assignment1/runs/tt6vjjrx' target=\"_blank\">https://wandb.ai/da24m027-indian-institute-of-technology-madras/DA6401_Assignment1/runs/tt6vjjrx</a>"
            ]
          },
          "metadata": {}
        },
        {
          "output_type": "stream",
          "name": "stdout",
          "text": [
            "Epoch 1/10, Loss: 0.0029, Val Loss: 0.0900, Val Accuracy: 0.0973\n",
            "Epoch 2/10, Loss: 0.0028, Val Loss: 0.0900, Val Accuracy: 0.0973\n",
            "Epoch 3/10, Loss: 0.0028, Val Loss: 0.0900, Val Accuracy: 0.0973\n",
            "Epoch 4/10, Loss: 0.0028, Val Loss: 0.0900, Val Accuracy: 0.0973\n",
            "Epoch 5/10, Loss: 0.0028, Val Loss: 0.0900, Val Accuracy: 0.0973\n",
            "Epoch 6/10, Loss: 0.0028, Val Loss: 0.0900, Val Accuracy: 0.0973\n",
            "Epoch 7/10, Loss: 0.0028, Val Loss: 0.0900, Val Accuracy: 0.0973\n",
            "Epoch 8/10, Loss: 0.0028, Val Loss: 0.0900, Val Accuracy: 0.0973\n",
            "Epoch 9/10, Loss: 0.0028, Val Loss: 0.0900, Val Accuracy: 0.0973\n",
            "Epoch 10/10, Loss: 0.0028, Val Loss: 0.0900, Val Accuracy: 0.0973\n"
          ]
        },
        {
          "output_type": "display_data",
          "data": {
            "text/plain": [
              "<IPython.core.display.HTML object>"
            ],
            "text/html": []
          },
          "metadata": {}
        },
        {
          "output_type": "display_data",
          "data": {
            "text/plain": [
              "<IPython.core.display.HTML object>"
            ],
            "text/html": [
              "<br>    <style><br>        .wandb-row {<br>            display: flex;<br>            flex-direction: row;<br>            flex-wrap: wrap;<br>            justify-content: flex-start;<br>            width: 100%;<br>        }<br>        .wandb-col {<br>            display: flex;<br>            flex-direction: column;<br>            flex-basis: 100%;<br>            flex: 1;<br>            padding: 10px;<br>        }<br>    </style><br><div class=\"wandb-row\"><div class=\"wandb-col\"><h3>Run history:</h3><br/><table class=\"wandb\"><tr><td>epoch</td><td>▁▁▂▂▃▃▃▃▄▄▅▅▆▆▆▆▇▇██</td></tr><tr><td>loss</td><td>█▁▁▁▁▁▁▁▁▁</td></tr><tr><td>val_accuracy</td><td>▁▁▁▁▁▁▁▁▁▁</td></tr><tr><td>val_loss</td><td>█▇▆▅▄▃▂▂▁▁</td></tr></table><br/></div><div class=\"wandb-col\"><h3>Run summary:</h3><br/><table class=\"wandb\"><tr><td>epoch</td><td>10</td></tr><tr><td>loss</td><td>0.00281</td></tr><tr><td>val_accuracy</td><td>0.09733</td></tr><tr><td>val_loss</td><td>0.09004</td></tr></table><br/></div></div>"
            ]
          },
          "metadata": {}
        },
        {
          "output_type": "display_data",
          "data": {
            "text/plain": [
              "<IPython.core.display.HTML object>"
            ],
            "text/html": [
              " View run <strong style=\"color:#cdcd00\">e_10_hl_4_hs_64_lr_0.001_opt_momentum_bs_32_init_Xavier_ac_sigmoid_wd_0.0005_loss_mse</strong> at: <a href='https://wandb.ai/da24m027-indian-institute-of-technology-madras/DA6401_Assignment1/runs/tt6vjjrx' target=\"_blank\">https://wandb.ai/da24m027-indian-institute-of-technology-madras/DA6401_Assignment1/runs/tt6vjjrx</a><br> View project at: <a href='https://wandb.ai/da24m027-indian-institute-of-technology-madras/DA6401_Assignment1' target=\"_blank\">https://wandb.ai/da24m027-indian-institute-of-technology-madras/DA6401_Assignment1</a><br>Synced 5 W&B file(s), 0 media file(s), 0 artifact file(s) and 0 other file(s)"
            ]
          },
          "metadata": {}
        },
        {
          "output_type": "display_data",
          "data": {
            "text/plain": [
              "<IPython.core.display.HTML object>"
            ],
            "text/html": [
              "Find logs at: <code>./wandb/run-20250308_062148-tt6vjjrx/logs</code>"
            ]
          },
          "metadata": {}
        },
        {
          "output_type": "stream",
          "name": "stderr",
          "text": [
            "\u001b[34m\u001b[1mwandb\u001b[0m: Agent Starting Run: wivea0xs with config:\n",
            "\u001b[34m\u001b[1mwandb\u001b[0m: \tactivation: tanh\n",
            "\u001b[34m\u001b[1mwandb\u001b[0m: \tbatch_size: 64\n",
            "\u001b[34m\u001b[1mwandb\u001b[0m: \tepochs: 10\n",
            "\u001b[34m\u001b[1mwandb\u001b[0m: \thidden_layers: 3\n",
            "\u001b[34m\u001b[1mwandb\u001b[0m: \thidden_size: 32\n",
            "\u001b[34m\u001b[1mwandb\u001b[0m: \tlearning_rate: 0.001\n",
            "\u001b[34m\u001b[1mwandb\u001b[0m: \tloss_type: mse\n",
            "\u001b[34m\u001b[1mwandb\u001b[0m: \toptimizer: nesterov\n",
            "\u001b[34m\u001b[1mwandb\u001b[0m: \tweight_decay: 0.0005\n",
            "\u001b[34m\u001b[1mwandb\u001b[0m: \tweights: Xavier\n"
          ]
        },
        {
          "output_type": "display_data",
          "data": {
            "text/plain": [
              "<IPython.core.display.HTML object>"
            ],
            "text/html": [
              "Tracking run with wandb version 0.19.7"
            ]
          },
          "metadata": {}
        },
        {
          "output_type": "display_data",
          "data": {
            "text/plain": [
              "<IPython.core.display.HTML object>"
            ],
            "text/html": [
              "Run data is saved locally in <code>/content/wandb/run-20250308_062219-wivea0xs</code>"
            ]
          },
          "metadata": {}
        },
        {
          "output_type": "display_data",
          "data": {
            "text/plain": [
              "<IPython.core.display.HTML object>"
            ],
            "text/html": [
              "Syncing run <strong><a href='https://wandb.ai/da24m027-indian-institute-of-technology-madras/DA6401_Assignment1/runs/wivea0xs' target=\"_blank\">faithful-sweep-9</a></strong> to <a href='https://wandb.ai/da24m027-indian-institute-of-technology-madras/DA6401_Assignment1' target=\"_blank\">Weights & Biases</a> (<a href='https://wandb.me/developer-guide' target=\"_blank\">docs</a>)<br>Sweep page: <a href='https://wandb.ai/da24m027-indian-institute-of-technology-madras/DA6401_Assignment1/sweeps/xy966igu' target=\"_blank\">https://wandb.ai/da24m027-indian-institute-of-technology-madras/DA6401_Assignment1/sweeps/xy966igu</a>"
            ]
          },
          "metadata": {}
        },
        {
          "output_type": "display_data",
          "data": {
            "text/plain": [
              "<IPython.core.display.HTML object>"
            ],
            "text/html": [
              " View project at <a href='https://wandb.ai/da24m027-indian-institute-of-technology-madras/DA6401_Assignment1' target=\"_blank\">https://wandb.ai/da24m027-indian-institute-of-technology-madras/DA6401_Assignment1</a>"
            ]
          },
          "metadata": {}
        },
        {
          "output_type": "display_data",
          "data": {
            "text/plain": [
              "<IPython.core.display.HTML object>"
            ],
            "text/html": [
              " View sweep at <a href='https://wandb.ai/da24m027-indian-institute-of-technology-madras/DA6401_Assignment1/sweeps/xy966igu' target=\"_blank\">https://wandb.ai/da24m027-indian-institute-of-technology-madras/DA6401_Assignment1/sweeps/xy966igu</a>"
            ]
          },
          "metadata": {}
        },
        {
          "output_type": "display_data",
          "data": {
            "text/plain": [
              "<IPython.core.display.HTML object>"
            ],
            "text/html": [
              " View run at <a href='https://wandb.ai/da24m027-indian-institute-of-technology-madras/DA6401_Assignment1/runs/wivea0xs' target=\"_blank\">https://wandb.ai/da24m027-indian-institute-of-technology-madras/DA6401_Assignment1/runs/wivea0xs</a>"
            ]
          },
          "metadata": {}
        },
        {
          "output_type": "stream",
          "name": "stdout",
          "text": [
            "Epoch 1/10, Loss: 0.0011, Val Loss: 0.0567, Val Accuracy: 0.6483\n",
            "Epoch 2/10, Loss: 0.0008, Val Loss: 0.0489, Val Accuracy: 0.6885\n",
            "Epoch 3/10, Loss: 0.0007, Val Loss: 0.0447, Val Accuracy: 0.7257\n",
            "Epoch 4/10, Loss: 0.0007, Val Loss: 0.0411, Val Accuracy: 0.7595\n",
            "Epoch 5/10, Loss: 0.0006, Val Loss: 0.0385, Val Accuracy: 0.7767\n",
            "Epoch 6/10, Loss: 0.0006, Val Loss: 0.0366, Val Accuracy: 0.7882\n",
            "Epoch 7/10, Loss: 0.0006, Val Loss: 0.0352, Val Accuracy: 0.8007\n",
            "Epoch 8/10, Loss: 0.0005, Val Loss: 0.0341, Val Accuracy: 0.8093\n",
            "Epoch 9/10, Loss: 0.0005, Val Loss: 0.0332, Val Accuracy: 0.8178\n",
            "Epoch 10/10, Loss: 0.0005, Val Loss: 0.0324, Val Accuracy: 0.8208\n"
          ]
        },
        {
          "output_type": "display_data",
          "data": {
            "text/plain": [
              "<IPython.core.display.HTML object>"
            ],
            "text/html": []
          },
          "metadata": {}
        },
        {
          "output_type": "display_data",
          "data": {
            "text/plain": [
              "<IPython.core.display.HTML object>"
            ],
            "text/html": [
              "<br>    <style><br>        .wandb-row {<br>            display: flex;<br>            flex-direction: row;<br>            flex-wrap: wrap;<br>            justify-content: flex-start;<br>            width: 100%;<br>        }<br>        .wandb-col {<br>            display: flex;<br>            flex-direction: column;<br>            flex-basis: 100%;<br>            flex: 1;<br>            padding: 10px;<br>        }<br>    </style><br><div class=\"wandb-row\"><div class=\"wandb-col\"><h3>Run history:</h3><br/><table class=\"wandb\"><tr><td>epoch</td><td>▁▁▂▂▃▃▃▃▄▄▅▅▆▆▆▆▇▇██</td></tr><tr><td>loss</td><td>█▅▄▃▂▂▂▁▁▁</td></tr><tr><td>val_accuracy</td><td>▁▃▄▆▆▇▇███</td></tr><tr><td>val_loss</td><td>█▆▅▄▃▂▂▁▁▁</td></tr></table><br/></div><div class=\"wandb-col\"><h3>Run summary:</h3><br/><table class=\"wandb\"><tr><td>epoch</td><td>10</td></tr><tr><td>loss</td><td>0.00052</td></tr><tr><td>val_accuracy</td><td>0.82083</td></tr><tr><td>val_loss</td><td>0.03245</td></tr></table><br/></div></div>"
            ]
          },
          "metadata": {}
        },
        {
          "output_type": "display_data",
          "data": {
            "text/plain": [
              "<IPython.core.display.HTML object>"
            ],
            "text/html": [
              " View run <strong style=\"color:#cdcd00\">e_10_hl_3_hs_32_lr_0.001_opt_nesterov_bs_64_init_Xavier_ac_tanh_wd_0.0005_loss_mse</strong> at: <a href='https://wandb.ai/da24m027-indian-institute-of-technology-madras/DA6401_Assignment1/runs/wivea0xs' target=\"_blank\">https://wandb.ai/da24m027-indian-institute-of-technology-madras/DA6401_Assignment1/runs/wivea0xs</a><br> View project at: <a href='https://wandb.ai/da24m027-indian-institute-of-technology-madras/DA6401_Assignment1' target=\"_blank\">https://wandb.ai/da24m027-indian-institute-of-technology-madras/DA6401_Assignment1</a><br>Synced 5 W&B file(s), 0 media file(s), 0 artifact file(s) and 0 other file(s)"
            ]
          },
          "metadata": {}
        },
        {
          "output_type": "display_data",
          "data": {
            "text/plain": [
              "<IPython.core.display.HTML object>"
            ],
            "text/html": [
              "Find logs at: <code>./wandb/run-20250308_062219-wivea0xs/logs</code>"
            ]
          },
          "metadata": {}
        },
        {
          "output_type": "stream",
          "name": "stderr",
          "text": [
            "\u001b[34m\u001b[1mwandb\u001b[0m: Agent Starting Run: 4necdbgi with config:\n",
            "\u001b[34m\u001b[1mwandb\u001b[0m: \tactivation: ReLU\n",
            "\u001b[34m\u001b[1mwandb\u001b[0m: \tbatch_size: 64\n",
            "\u001b[34m\u001b[1mwandb\u001b[0m: \tepochs: 10\n",
            "\u001b[34m\u001b[1mwandb\u001b[0m: \thidden_layers: 3\n",
            "\u001b[34m\u001b[1mwandb\u001b[0m: \thidden_size: 64\n",
            "\u001b[34m\u001b[1mwandb\u001b[0m: \tlearning_rate: 0.001\n",
            "\u001b[34m\u001b[1mwandb\u001b[0m: \tloss_type: cross_entropy\n",
            "\u001b[34m\u001b[1mwandb\u001b[0m: \toptimizer: rmsprop\n",
            "\u001b[34m\u001b[1mwandb\u001b[0m: \tweight_decay: 0.5\n",
            "\u001b[34m\u001b[1mwandb\u001b[0m: \tweights: Xavier\n"
          ]
        },
        {
          "output_type": "display_data",
          "data": {
            "text/plain": [
              "<IPython.core.display.HTML object>"
            ],
            "text/html": [
              "Tracking run with wandb version 0.19.7"
            ]
          },
          "metadata": {}
        },
        {
          "output_type": "display_data",
          "data": {
            "text/plain": [
              "<IPython.core.display.HTML object>"
            ],
            "text/html": [
              "Run data is saved locally in <code>/content/wandb/run-20250308_062234-4necdbgi</code>"
            ]
          },
          "metadata": {}
        },
        {
          "output_type": "display_data",
          "data": {
            "text/plain": [
              "<IPython.core.display.HTML object>"
            ],
            "text/html": [
              "Syncing run <strong><a href='https://wandb.ai/da24m027-indian-institute-of-technology-madras/DA6401_Assignment1/runs/4necdbgi' target=\"_blank\">neat-sweep-10</a></strong> to <a href='https://wandb.ai/da24m027-indian-institute-of-technology-madras/DA6401_Assignment1' target=\"_blank\">Weights & Biases</a> (<a href='https://wandb.me/developer-guide' target=\"_blank\">docs</a>)<br>Sweep page: <a href='https://wandb.ai/da24m027-indian-institute-of-technology-madras/DA6401_Assignment1/sweeps/xy966igu' target=\"_blank\">https://wandb.ai/da24m027-indian-institute-of-technology-madras/DA6401_Assignment1/sweeps/xy966igu</a>"
            ]
          },
          "metadata": {}
        },
        {
          "output_type": "display_data",
          "data": {
            "text/plain": [
              "<IPython.core.display.HTML object>"
            ],
            "text/html": [
              " View project at <a href='https://wandb.ai/da24m027-indian-institute-of-technology-madras/DA6401_Assignment1' target=\"_blank\">https://wandb.ai/da24m027-indian-institute-of-technology-madras/DA6401_Assignment1</a>"
            ]
          },
          "metadata": {}
        },
        {
          "output_type": "display_data",
          "data": {
            "text/plain": [
              "<IPython.core.display.HTML object>"
            ],
            "text/html": [
              " View sweep at <a href='https://wandb.ai/da24m027-indian-institute-of-technology-madras/DA6401_Assignment1/sweeps/xy966igu' target=\"_blank\">https://wandb.ai/da24m027-indian-institute-of-technology-madras/DA6401_Assignment1/sweeps/xy966igu</a>"
            ]
          },
          "metadata": {}
        },
        {
          "output_type": "display_data",
          "data": {
            "text/plain": [
              "<IPython.core.display.HTML object>"
            ],
            "text/html": [
              " View run at <a href='https://wandb.ai/da24m027-indian-institute-of-technology-madras/DA6401_Assignment1/runs/4necdbgi' target=\"_blank\">https://wandb.ai/da24m027-indian-institute-of-technology-madras/DA6401_Assignment1/runs/4necdbgi</a>"
            ]
          },
          "metadata": {}
        },
        {
          "output_type": "stream",
          "name": "stdout",
          "text": [
            "Epoch 1/10, Loss: 0.0036, Val Loss: 0.2303, Val Accuracy: 0.1028\n",
            "Epoch 2/10, Loss: 0.0036, Val Loss: 0.2303, Val Accuracy: 0.1028\n",
            "Epoch 3/10, Loss: 0.0036, Val Loss: 0.2303, Val Accuracy: 0.1028\n",
            "Epoch 4/10, Loss: 0.0036, Val Loss: 0.2303, Val Accuracy: 0.1028\n",
            "Epoch 5/10, Loss: 0.0036, Val Loss: 0.2303, Val Accuracy: 0.1028\n",
            "Epoch 6/10, Loss: 0.0036, Val Loss: 0.2303, Val Accuracy: 0.1028\n",
            "Epoch 7/10, Loss: 0.0036, Val Loss: 0.2303, Val Accuracy: 0.1028\n",
            "Epoch 8/10, Loss: 0.0036, Val Loss: 0.2303, Val Accuracy: 0.1028\n",
            "Epoch 9/10, Loss: 0.0036, Val Loss: 0.2303, Val Accuracy: 0.1028\n",
            "Epoch 10/10, Loss: 0.0036, Val Loss: 0.2303, Val Accuracy: 0.1028\n"
          ]
        },
        {
          "output_type": "display_data",
          "data": {
            "text/plain": [
              "<IPython.core.display.HTML object>"
            ],
            "text/html": []
          },
          "metadata": {}
        },
        {
          "output_type": "display_data",
          "data": {
            "text/plain": [
              "<IPython.core.display.HTML object>"
            ],
            "text/html": [
              "<br>    <style><br>        .wandb-row {<br>            display: flex;<br>            flex-direction: row;<br>            flex-wrap: wrap;<br>            justify-content: flex-start;<br>            width: 100%;<br>        }<br>        .wandb-col {<br>            display: flex;<br>            flex-direction: column;<br>            flex-basis: 100%;<br>            flex: 1;<br>            padding: 10px;<br>        }<br>    </style><br><div class=\"wandb-row\"><div class=\"wandb-col\"><h3>Run history:</h3><br/><table class=\"wandb\"><tr><td>epoch</td><td>▁▁▂▂▃▃▃▃▄▄▅▅▆▆▆▆▇▇██</td></tr><tr><td>loss</td><td>█▁▁▁▁▁▁▁▁▁</td></tr><tr><td>val_accuracy</td><td>▁▁▁▁▁▁▁▁▁▁</td></tr><tr><td>val_loss</td><td>▁▁▁▁▁▁▁▁▁▁</td></tr></table><br/></div><div class=\"wandb-col\"><h3>Run summary:</h3><br/><table class=\"wandb\"><tr><td>epoch</td><td>10</td></tr><tr><td>loss</td><td>0.0036</td></tr><tr><td>val_accuracy</td><td>0.10283</td></tr><tr><td>val_loss</td><td>0.23026</td></tr></table><br/></div></div>"
            ]
          },
          "metadata": {}
        },
        {
          "output_type": "display_data",
          "data": {
            "text/plain": [
              "<IPython.core.display.HTML object>"
            ],
            "text/html": [
              " View run <strong style=\"color:#cdcd00\">e_10_hl_3_hs_64_lr_0.001_opt_rmsprop_bs_64_init_Xavier_ac_ReLU_wd_0.5_loss_cross_entropy</strong> at: <a href='https://wandb.ai/da24m027-indian-institute-of-technology-madras/DA6401_Assignment1/runs/4necdbgi' target=\"_blank\">https://wandb.ai/da24m027-indian-institute-of-technology-madras/DA6401_Assignment1/runs/4necdbgi</a><br> View project at: <a href='https://wandb.ai/da24m027-indian-institute-of-technology-madras/DA6401_Assignment1' target=\"_blank\">https://wandb.ai/da24m027-indian-institute-of-technology-madras/DA6401_Assignment1</a><br>Synced 5 W&B file(s), 0 media file(s), 0 artifact file(s) and 0 other file(s)"
            ]
          },
          "metadata": {}
        },
        {
          "output_type": "display_data",
          "data": {
            "text/plain": [
              "<IPython.core.display.HTML object>"
            ],
            "text/html": [
              "Find logs at: <code>./wandb/run-20250308_062234-4necdbgi/logs</code>"
            ]
          },
          "metadata": {}
        },
        {
          "output_type": "stream",
          "name": "stderr",
          "text": [
            "\u001b[34m\u001b[1mwandb\u001b[0m: Agent Starting Run: gkss8v9s with config:\n",
            "\u001b[34m\u001b[1mwandb\u001b[0m: \tactivation: ReLU\n",
            "\u001b[34m\u001b[1mwandb\u001b[0m: \tbatch_size: 64\n",
            "\u001b[34m\u001b[1mwandb\u001b[0m: \tepochs: 10\n",
            "\u001b[34m\u001b[1mwandb\u001b[0m: \thidden_layers: 3\n",
            "\u001b[34m\u001b[1mwandb\u001b[0m: \thidden_size: 64\n",
            "\u001b[34m\u001b[1mwandb\u001b[0m: \tlearning_rate: 0.001\n",
            "\u001b[34m\u001b[1mwandb\u001b[0m: \tloss_type: cross_entropy\n",
            "\u001b[34m\u001b[1mwandb\u001b[0m: \toptimizer: adam\n",
            "\u001b[34m\u001b[1mwandb\u001b[0m: \tweight_decay: 0.0005\n",
            "\u001b[34m\u001b[1mwandb\u001b[0m: \tweights: Xavier\n"
          ]
        },
        {
          "output_type": "display_data",
          "data": {
            "text/plain": [
              "<IPython.core.display.HTML object>"
            ],
            "text/html": [
              "Tracking run with wandb version 0.19.7"
            ]
          },
          "metadata": {}
        },
        {
          "output_type": "display_data",
          "data": {
            "text/plain": [
              "<IPython.core.display.HTML object>"
            ],
            "text/html": [
              "Run data is saved locally in <code>/content/wandb/run-20250308_062300-gkss8v9s</code>"
            ]
          },
          "metadata": {}
        },
        {
          "output_type": "display_data",
          "data": {
            "text/plain": [
              "<IPython.core.display.HTML object>"
            ],
            "text/html": [
              "Syncing run <strong><a href='https://wandb.ai/da24m027-indian-institute-of-technology-madras/DA6401_Assignment1/runs/gkss8v9s' target=\"_blank\">jolly-sweep-11</a></strong> to <a href='https://wandb.ai/da24m027-indian-institute-of-technology-madras/DA6401_Assignment1' target=\"_blank\">Weights & Biases</a> (<a href='https://wandb.me/developer-guide' target=\"_blank\">docs</a>)<br>Sweep page: <a href='https://wandb.ai/da24m027-indian-institute-of-technology-madras/DA6401_Assignment1/sweeps/xy966igu' target=\"_blank\">https://wandb.ai/da24m027-indian-institute-of-technology-madras/DA6401_Assignment1/sweeps/xy966igu</a>"
            ]
          },
          "metadata": {}
        },
        {
          "output_type": "display_data",
          "data": {
            "text/plain": [
              "<IPython.core.display.HTML object>"
            ],
            "text/html": [
              " View project at <a href='https://wandb.ai/da24m027-indian-institute-of-technology-madras/DA6401_Assignment1' target=\"_blank\">https://wandb.ai/da24m027-indian-institute-of-technology-madras/DA6401_Assignment1</a>"
            ]
          },
          "metadata": {}
        },
        {
          "output_type": "display_data",
          "data": {
            "text/plain": [
              "<IPython.core.display.HTML object>"
            ],
            "text/html": [
              " View sweep at <a href='https://wandb.ai/da24m027-indian-institute-of-technology-madras/DA6401_Assignment1/sweeps/xy966igu' target=\"_blank\">https://wandb.ai/da24m027-indian-institute-of-technology-madras/DA6401_Assignment1/sweeps/xy966igu</a>"
            ]
          },
          "metadata": {}
        },
        {
          "output_type": "display_data",
          "data": {
            "text/plain": [
              "<IPython.core.display.HTML object>"
            ],
            "text/html": [
              " View run at <a href='https://wandb.ai/da24m027-indian-institute-of-technology-madras/DA6401_Assignment1/runs/gkss8v9s' target=\"_blank\">https://wandb.ai/da24m027-indian-institute-of-technology-madras/DA6401_Assignment1/runs/gkss8v9s</a>"
            ]
          },
          "metadata": {}
        },
        {
          "output_type": "stream",
          "name": "stdout",
          "text": [
            "Epoch 1/10, Loss: 0.0010, Val Loss: 0.0492, Val Accuracy: 0.8250\n",
            "Epoch 2/10, Loss: 0.0007, Val Loss: 0.0447, Val Accuracy: 0.8398\n",
            "Epoch 3/10, Loss: 0.0006, Val Loss: 0.0421, Val Accuracy: 0.8453\n",
            "Epoch 4/10, Loss: 0.0006, Val Loss: 0.0409, Val Accuracy: 0.8485\n",
            "Epoch 5/10, Loss: 0.0006, Val Loss: 0.0412, Val Accuracy: 0.8467\n",
            "Epoch 6/10, Loss: 0.0006, Val Loss: 0.0399, Val Accuracy: 0.8527\n",
            "Epoch 7/10, Loss: 0.0005, Val Loss: 0.0384, Val Accuracy: 0.8590\n",
            "Epoch 8/10, Loss: 0.0005, Val Loss: 0.0385, Val Accuracy: 0.8563\n",
            "Epoch 9/10, Loss: 0.0005, Val Loss: 0.0385, Val Accuracy: 0.8552\n",
            "Epoch 10/10, Loss: 0.0005, Val Loss: 0.0373, Val Accuracy: 0.8612\n"
          ]
        },
        {
          "output_type": "display_data",
          "data": {
            "text/plain": [
              "<IPython.core.display.HTML object>"
            ],
            "text/html": []
          },
          "metadata": {}
        },
        {
          "output_type": "display_data",
          "data": {
            "text/plain": [
              "<IPython.core.display.HTML object>"
            ],
            "text/html": [
              "<br>    <style><br>        .wandb-row {<br>            display: flex;<br>            flex-direction: row;<br>            flex-wrap: wrap;<br>            justify-content: flex-start;<br>            width: 100%;<br>        }<br>        .wandb-col {<br>            display: flex;<br>            flex-direction: column;<br>            flex-basis: 100%;<br>            flex: 1;<br>            padding: 10px;<br>        }<br>    </style><br><div class=\"wandb-row\"><div class=\"wandb-col\"><h3>Run history:</h3><br/><table class=\"wandb\"><tr><td>epoch</td><td>▁▁▂▂▃▃▃▃▄▄▅▅▆▆▆▆▇▇██</td></tr><tr><td>loss</td><td>█▄▃▂▂▂▂▁▁▁</td></tr><tr><td>val_accuracy</td><td>▁▄▅▆▅▆█▇▇█</td></tr><tr><td>val_loss</td><td>█▅▄▃▃▃▂▂▂▁</td></tr></table><br/></div><div class=\"wandb-col\"><h3>Run summary:</h3><br/><table class=\"wandb\"><tr><td>epoch</td><td>10</td></tr><tr><td>loss</td><td>0.00051</td></tr><tr><td>val_accuracy</td><td>0.86117</td></tr><tr><td>val_loss</td><td>0.03732</td></tr></table><br/></div></div>"
            ]
          },
          "metadata": {}
        },
        {
          "output_type": "display_data",
          "data": {
            "text/plain": [
              "<IPython.core.display.HTML object>"
            ],
            "text/html": [
              " View run <strong style=\"color:#cdcd00\">e_10_hl_3_hs_64_lr_0.001_opt_adam_bs_64_init_Xavier_ac_ReLU_wd_0.0005_loss_cross_entropy</strong> at: <a href='https://wandb.ai/da24m027-indian-institute-of-technology-madras/DA6401_Assignment1/runs/gkss8v9s' target=\"_blank\">https://wandb.ai/da24m027-indian-institute-of-technology-madras/DA6401_Assignment1/runs/gkss8v9s</a><br> View project at: <a href='https://wandb.ai/da24m027-indian-institute-of-technology-madras/DA6401_Assignment1' target=\"_blank\">https://wandb.ai/da24m027-indian-institute-of-technology-madras/DA6401_Assignment1</a><br>Synced 5 W&B file(s), 0 media file(s), 0 artifact file(s) and 0 other file(s)"
            ]
          },
          "metadata": {}
        },
        {
          "output_type": "display_data",
          "data": {
            "text/plain": [
              "<IPython.core.display.HTML object>"
            ],
            "text/html": [
              "Find logs at: <code>./wandb/run-20250308_062300-gkss8v9s/logs</code>"
            ]
          },
          "metadata": {}
        },
        {
          "output_type": "stream",
          "name": "stderr",
          "text": [
            "\u001b[34m\u001b[1mwandb\u001b[0m: Agent Starting Run: wtn21cj9 with config:\n",
            "\u001b[34m\u001b[1mwandb\u001b[0m: \tactivation: ReLU\n",
            "\u001b[34m\u001b[1mwandb\u001b[0m: \tbatch_size: 64\n",
            "\u001b[34m\u001b[1mwandb\u001b[0m: \tepochs: 10\n",
            "\u001b[34m\u001b[1mwandb\u001b[0m: \thidden_layers: 3\n",
            "\u001b[34m\u001b[1mwandb\u001b[0m: \thidden_size: 32\n",
            "\u001b[34m\u001b[1mwandb\u001b[0m: \tlearning_rate: 0.001\n",
            "\u001b[34m\u001b[1mwandb\u001b[0m: \tloss_type: cross_entropy\n",
            "\u001b[34m\u001b[1mwandb\u001b[0m: \toptimizer: rmsprop\n",
            "\u001b[34m\u001b[1mwandb\u001b[0m: \tweight_decay: 0.5\n",
            "\u001b[34m\u001b[1mwandb\u001b[0m: \tweights: Xavier\n"
          ]
        },
        {
          "output_type": "display_data",
          "data": {
            "text/plain": [
              "<IPython.core.display.HTML object>"
            ],
            "text/html": [
              "Tracking run with wandb version 0.19.7"
            ]
          },
          "metadata": {}
        },
        {
          "output_type": "display_data",
          "data": {
            "text/plain": [
              "<IPython.core.display.HTML object>"
            ],
            "text/html": [
              "Run data is saved locally in <code>/content/wandb/run-20250308_062336-wtn21cj9</code>"
            ]
          },
          "metadata": {}
        },
        {
          "output_type": "display_data",
          "data": {
            "text/plain": [
              "<IPython.core.display.HTML object>"
            ],
            "text/html": [
              "Syncing run <strong><a href='https://wandb.ai/da24m027-indian-institute-of-technology-madras/DA6401_Assignment1/runs/wtn21cj9' target=\"_blank\">pleasant-sweep-12</a></strong> to <a href='https://wandb.ai/da24m027-indian-institute-of-technology-madras/DA6401_Assignment1' target=\"_blank\">Weights & Biases</a> (<a href='https://wandb.me/developer-guide' target=\"_blank\">docs</a>)<br>Sweep page: <a href='https://wandb.ai/da24m027-indian-institute-of-technology-madras/DA6401_Assignment1/sweeps/xy966igu' target=\"_blank\">https://wandb.ai/da24m027-indian-institute-of-technology-madras/DA6401_Assignment1/sweeps/xy966igu</a>"
            ]
          },
          "metadata": {}
        },
        {
          "output_type": "display_data",
          "data": {
            "text/plain": [
              "<IPython.core.display.HTML object>"
            ],
            "text/html": [
              " View project at <a href='https://wandb.ai/da24m027-indian-institute-of-technology-madras/DA6401_Assignment1' target=\"_blank\">https://wandb.ai/da24m027-indian-institute-of-technology-madras/DA6401_Assignment1</a>"
            ]
          },
          "metadata": {}
        },
        {
          "output_type": "display_data",
          "data": {
            "text/plain": [
              "<IPython.core.display.HTML object>"
            ],
            "text/html": [
              " View sweep at <a href='https://wandb.ai/da24m027-indian-institute-of-technology-madras/DA6401_Assignment1/sweeps/xy966igu' target=\"_blank\">https://wandb.ai/da24m027-indian-institute-of-technology-madras/DA6401_Assignment1/sweeps/xy966igu</a>"
            ]
          },
          "metadata": {}
        },
        {
          "output_type": "display_data",
          "data": {
            "text/plain": [
              "<IPython.core.display.HTML object>"
            ],
            "text/html": [
              " View run at <a href='https://wandb.ai/da24m027-indian-institute-of-technology-madras/DA6401_Assignment1/runs/wtn21cj9' target=\"_blank\">https://wandb.ai/da24m027-indian-institute-of-technology-madras/DA6401_Assignment1/runs/wtn21cj9</a>"
            ]
          },
          "metadata": {}
        },
        {
          "output_type": "stream",
          "name": "stdout",
          "text": [
            "Epoch 1/10, Loss: 0.0036, Val Loss: 0.2303, Val Accuracy: 0.0057\n",
            "Epoch 2/10, Loss: 0.0036, Val Loss: 0.2303, Val Accuracy: 0.0057\n",
            "Epoch 3/10, Loss: 0.0036, Val Loss: 0.2303, Val Accuracy: 0.0057\n",
            "Epoch 4/10, Loss: 0.0036, Val Loss: 0.2303, Val Accuracy: 0.0057\n",
            "Epoch 5/10, Loss: 0.0036, Val Loss: 0.2303, Val Accuracy: 0.0057\n",
            "Epoch 6/10, Loss: 0.0036, Val Loss: 0.2303, Val Accuracy: 0.0057\n",
            "Epoch 7/10, Loss: 0.0036, Val Loss: 0.2303, Val Accuracy: 0.0057\n",
            "Epoch 8/10, Loss: 0.0036, Val Loss: 0.2303, Val Accuracy: 0.0057\n",
            "Epoch 9/10, Loss: 0.0036, Val Loss: 0.2303, Val Accuracy: 0.0057\n",
            "Epoch 10/10, Loss: 0.0036, Val Loss: 0.2303, Val Accuracy: 0.0057\n"
          ]
        },
        {
          "output_type": "display_data",
          "data": {
            "text/plain": [
              "<IPython.core.display.HTML object>"
            ],
            "text/html": []
          },
          "metadata": {}
        },
        {
          "output_type": "display_data",
          "data": {
            "text/plain": [
              "<IPython.core.display.HTML object>"
            ],
            "text/html": [
              "<br>    <style><br>        .wandb-row {<br>            display: flex;<br>            flex-direction: row;<br>            flex-wrap: wrap;<br>            justify-content: flex-start;<br>            width: 100%;<br>        }<br>        .wandb-col {<br>            display: flex;<br>            flex-direction: column;<br>            flex-basis: 100%;<br>            flex: 1;<br>            padding: 10px;<br>        }<br>    </style><br><div class=\"wandb-row\"><div class=\"wandb-col\"><h3>Run history:</h3><br/><table class=\"wandb\"><tr><td>epoch</td><td>▁▁▂▂▃▃▃▃▄▄▅▅▆▆▆▆▇▇██</td></tr><tr><td>loss</td><td>▁█████████</td></tr><tr><td>val_accuracy</td><td>▁▁▁▁▁▁▁▁▁▁</td></tr><tr><td>val_loss</td><td>▁▁▁▁▁▁▁▁▁▁</td></tr></table><br/></div><div class=\"wandb-col\"><h3>Run summary:</h3><br/><table class=\"wandb\"><tr><td>epoch</td><td>10</td></tr><tr><td>loss</td><td>0.0036</td></tr><tr><td>val_accuracy</td><td>0.00567</td></tr><tr><td>val_loss</td><td>0.23026</td></tr></table><br/></div></div>"
            ]
          },
          "metadata": {}
        },
        {
          "output_type": "display_data",
          "data": {
            "text/plain": [
              "<IPython.core.display.HTML object>"
            ],
            "text/html": [
              " View run <strong style=\"color:#cdcd00\">e_10_hl_3_hs_32_lr_0.001_opt_rmsprop_bs_64_init_Xavier_ac_ReLU_wd_0.5_loss_cross_entropy</strong> at: <a href='https://wandb.ai/da24m027-indian-institute-of-technology-madras/DA6401_Assignment1/runs/wtn21cj9' target=\"_blank\">https://wandb.ai/da24m027-indian-institute-of-technology-madras/DA6401_Assignment1/runs/wtn21cj9</a><br> View project at: <a href='https://wandb.ai/da24m027-indian-institute-of-technology-madras/DA6401_Assignment1' target=\"_blank\">https://wandb.ai/da24m027-indian-institute-of-technology-madras/DA6401_Assignment1</a><br>Synced 5 W&B file(s), 0 media file(s), 0 artifact file(s) and 0 other file(s)"
            ]
          },
          "metadata": {}
        },
        {
          "output_type": "display_data",
          "data": {
            "text/plain": [
              "<IPython.core.display.HTML object>"
            ],
            "text/html": [
              "Find logs at: <code>./wandb/run-20250308_062336-wtn21cj9/logs</code>"
            ]
          },
          "metadata": {}
        },
        {
          "output_type": "stream",
          "name": "stderr",
          "text": [
            "\u001b[34m\u001b[1mwandb\u001b[0m: Sweep Agent: Waiting for job.\n",
            "\u001b[34m\u001b[1mwandb\u001b[0m: Job received.\n",
            "\u001b[34m\u001b[1mwandb\u001b[0m: Agent Starting Run: qmf9xuo5 with config:\n",
            "\u001b[34m\u001b[1mwandb\u001b[0m: \tactivation: tanh\n",
            "\u001b[34m\u001b[1mwandb\u001b[0m: \tbatch_size: 64\n",
            "\u001b[34m\u001b[1mwandb\u001b[0m: \tepochs: 5\n",
            "\u001b[34m\u001b[1mwandb\u001b[0m: \thidden_layers: 5\n",
            "\u001b[34m\u001b[1mwandb\u001b[0m: \thidden_size: 128\n",
            "\u001b[34m\u001b[1mwandb\u001b[0m: \tlearning_rate: 0.0001\n",
            "\u001b[34m\u001b[1mwandb\u001b[0m: \tloss_type: mse\n",
            "\u001b[34m\u001b[1mwandb\u001b[0m: \toptimizer: nesterov\n",
            "\u001b[34m\u001b[1mwandb\u001b[0m: \tweight_decay: 0.5\n",
            "\u001b[34m\u001b[1mwandb\u001b[0m: \tweights: Xavier\n"
          ]
        },
        {
          "output_type": "display_data",
          "data": {
            "text/plain": [
              "<IPython.core.display.HTML object>"
            ],
            "text/html": [
              "Tracking run with wandb version 0.19.7"
            ]
          },
          "metadata": {}
        },
        {
          "output_type": "display_data",
          "data": {
            "text/plain": [
              "<IPython.core.display.HTML object>"
            ],
            "text/html": [
              "Run data is saved locally in <code>/content/wandb/run-20250308_062401-qmf9xuo5</code>"
            ]
          },
          "metadata": {}
        },
        {
          "output_type": "display_data",
          "data": {
            "text/plain": [
              "<IPython.core.display.HTML object>"
            ],
            "text/html": [
              "Syncing run <strong><a href='https://wandb.ai/da24m027-indian-institute-of-technology-madras/DA6401_Assignment1/runs/qmf9xuo5' target=\"_blank\">astral-sweep-13</a></strong> to <a href='https://wandb.ai/da24m027-indian-institute-of-technology-madras/DA6401_Assignment1' target=\"_blank\">Weights & Biases</a> (<a href='https://wandb.me/developer-guide' target=\"_blank\">docs</a>)<br>Sweep page: <a href='https://wandb.ai/da24m027-indian-institute-of-technology-madras/DA6401_Assignment1/sweeps/xy966igu' target=\"_blank\">https://wandb.ai/da24m027-indian-institute-of-technology-madras/DA6401_Assignment1/sweeps/xy966igu</a>"
            ]
          },
          "metadata": {}
        },
        {
          "output_type": "display_data",
          "data": {
            "text/plain": [
              "<IPython.core.display.HTML object>"
            ],
            "text/html": [
              " View project at <a href='https://wandb.ai/da24m027-indian-institute-of-technology-madras/DA6401_Assignment1' target=\"_blank\">https://wandb.ai/da24m027-indian-institute-of-technology-madras/DA6401_Assignment1</a>"
            ]
          },
          "metadata": {}
        },
        {
          "output_type": "display_data",
          "data": {
            "text/plain": [
              "<IPython.core.display.HTML object>"
            ],
            "text/html": [
              " View sweep at <a href='https://wandb.ai/da24m027-indian-institute-of-technology-madras/DA6401_Assignment1/sweeps/xy966igu' target=\"_blank\">https://wandb.ai/da24m027-indian-institute-of-technology-madras/DA6401_Assignment1/sweeps/xy966igu</a>"
            ]
          },
          "metadata": {}
        },
        {
          "output_type": "display_data",
          "data": {
            "text/plain": [
              "<IPython.core.display.HTML object>"
            ],
            "text/html": [
              " View run at <a href='https://wandb.ai/da24m027-indian-institute-of-technology-madras/DA6401_Assignment1/runs/qmf9xuo5' target=\"_blank\">https://wandb.ai/da24m027-indian-institute-of-technology-madras/DA6401_Assignment1/runs/qmf9xuo5</a>"
            ]
          },
          "metadata": {}
        },
        {
          "output_type": "stream",
          "name": "stdout",
          "text": [
            "Epoch 1/5, Loss: 0.0016, Val Loss: 0.1000, Val Accuracy: 0.1575\n",
            "Epoch 2/5, Loss: 0.0016, Val Loss: 0.1000, Val Accuracy: 0.1607\n",
            "Epoch 3/5, Loss: 0.0016, Val Loss: 0.1000, Val Accuracy: 0.1612\n",
            "Epoch 4/5, Loss: 0.0016, Val Loss: 0.1000, Val Accuracy: 0.1613\n",
            "Epoch 5/5, Loss: 0.0016, Val Loss: 0.1000, Val Accuracy: 0.1613\n"
          ]
        },
        {
          "output_type": "display_data",
          "data": {
            "text/plain": [
              "<IPython.core.display.HTML object>"
            ],
            "text/html": []
          },
          "metadata": {}
        },
        {
          "output_type": "display_data",
          "data": {
            "text/plain": [
              "<IPython.core.display.HTML object>"
            ],
            "text/html": [
              "<br>    <style><br>        .wandb-row {<br>            display: flex;<br>            flex-direction: row;<br>            flex-wrap: wrap;<br>            justify-content: flex-start;<br>            width: 100%;<br>        }<br>        .wandb-col {<br>            display: flex;<br>            flex-direction: column;<br>            flex-basis: 100%;<br>            flex: 1;<br>            padding: 10px;<br>        }<br>    </style><br><div class=\"wandb-row\"><div class=\"wandb-col\"><h3>Run history:</h3><br/><table class=\"wandb\"><tr><td>epoch</td><td>▁▁▃▃▅▅▆▆██</td></tr><tr><td>loss</td><td>▁████</td></tr><tr><td>val_accuracy</td><td>▁▇███</td></tr><tr><td>val_loss</td><td>▁████</td></tr></table><br/></div><div class=\"wandb-col\"><h3>Run summary:</h3><br/><table class=\"wandb\"><tr><td>epoch</td><td>5</td></tr><tr><td>loss</td><td>0.00156</td></tr><tr><td>val_accuracy</td><td>0.16133</td></tr><tr><td>val_loss</td><td>0.1</td></tr></table><br/></div></div>"
            ]
          },
          "metadata": {}
        },
        {
          "output_type": "display_data",
          "data": {
            "text/plain": [
              "<IPython.core.display.HTML object>"
            ],
            "text/html": [
              " View run <strong style=\"color:#cdcd00\">e_5_hl_5_hs_128_lr_0.0001_opt_nesterov_bs_64_init_Xavier_ac_tanh_wd_0.5_loss_mse</strong> at: <a href='https://wandb.ai/da24m027-indian-institute-of-technology-madras/DA6401_Assignment1/runs/qmf9xuo5' target=\"_blank\">https://wandb.ai/da24m027-indian-institute-of-technology-madras/DA6401_Assignment1/runs/qmf9xuo5</a><br> View project at: <a href='https://wandb.ai/da24m027-indian-institute-of-technology-madras/DA6401_Assignment1' target=\"_blank\">https://wandb.ai/da24m027-indian-institute-of-technology-madras/DA6401_Assignment1</a><br>Synced 5 W&B file(s), 0 media file(s), 0 artifact file(s) and 0 other file(s)"
            ]
          },
          "metadata": {}
        },
        {
          "output_type": "display_data",
          "data": {
            "text/plain": [
              "<IPython.core.display.HTML object>"
            ],
            "text/html": [
              "Find logs at: <code>./wandb/run-20250308_062401-qmf9xuo5/logs</code>"
            ]
          },
          "metadata": {}
        },
        {
          "output_type": "stream",
          "name": "stderr",
          "text": [
            "\u001b[34m\u001b[1mwandb\u001b[0m: Agent Starting Run: m1mgmwut with config:\n",
            "\u001b[34m\u001b[1mwandb\u001b[0m: \tactivation: tanh\n",
            "\u001b[34m\u001b[1mwandb\u001b[0m: \tbatch_size: 64\n",
            "\u001b[34m\u001b[1mwandb\u001b[0m: \tepochs: 10\n",
            "\u001b[34m\u001b[1mwandb\u001b[0m: \thidden_layers: 3\n",
            "\u001b[34m\u001b[1mwandb\u001b[0m: \thidden_size: 64\n",
            "\u001b[34m\u001b[1mwandb\u001b[0m: \tlearning_rate: 0.0001\n",
            "\u001b[34m\u001b[1mwandb\u001b[0m: \tloss_type: mse\n",
            "\u001b[34m\u001b[1mwandb\u001b[0m: \toptimizer: nadam\n",
            "\u001b[34m\u001b[1mwandb\u001b[0m: \tweight_decay: 0.5\n",
            "\u001b[34m\u001b[1mwandb\u001b[0m: \tweights: Xavier\n"
          ]
        },
        {
          "output_type": "display_data",
          "data": {
            "text/plain": [
              "<IPython.core.display.HTML object>"
            ],
            "text/html": [
              "Tracking run with wandb version 0.19.7"
            ]
          },
          "metadata": {}
        },
        {
          "output_type": "display_data",
          "data": {
            "text/plain": [
              "<IPython.core.display.HTML object>"
            ],
            "text/html": [
              "Run data is saved locally in <code>/content/wandb/run-20250308_062427-m1mgmwut</code>"
            ]
          },
          "metadata": {}
        },
        {
          "output_type": "display_data",
          "data": {
            "text/plain": [
              "<IPython.core.display.HTML object>"
            ],
            "text/html": [
              "Syncing run <strong><a href='https://wandb.ai/da24m027-indian-institute-of-technology-madras/DA6401_Assignment1/runs/m1mgmwut' target=\"_blank\">breezy-sweep-14</a></strong> to <a href='https://wandb.ai/da24m027-indian-institute-of-technology-madras/DA6401_Assignment1' target=\"_blank\">Weights & Biases</a> (<a href='https://wandb.me/developer-guide' target=\"_blank\">docs</a>)<br>Sweep page: <a href='https://wandb.ai/da24m027-indian-institute-of-technology-madras/DA6401_Assignment1/sweeps/xy966igu' target=\"_blank\">https://wandb.ai/da24m027-indian-institute-of-technology-madras/DA6401_Assignment1/sweeps/xy966igu</a>"
            ]
          },
          "metadata": {}
        },
        {
          "output_type": "display_data",
          "data": {
            "text/plain": [
              "<IPython.core.display.HTML object>"
            ],
            "text/html": [
              " View project at <a href='https://wandb.ai/da24m027-indian-institute-of-technology-madras/DA6401_Assignment1' target=\"_blank\">https://wandb.ai/da24m027-indian-institute-of-technology-madras/DA6401_Assignment1</a>"
            ]
          },
          "metadata": {}
        },
        {
          "output_type": "display_data",
          "data": {
            "text/plain": [
              "<IPython.core.display.HTML object>"
            ],
            "text/html": [
              " View sweep at <a href='https://wandb.ai/da24m027-indian-institute-of-technology-madras/DA6401_Assignment1/sweeps/xy966igu' target=\"_blank\">https://wandb.ai/da24m027-indian-institute-of-technology-madras/DA6401_Assignment1/sweeps/xy966igu</a>"
            ]
          },
          "metadata": {}
        },
        {
          "output_type": "display_data",
          "data": {
            "text/plain": [
              "<IPython.core.display.HTML object>"
            ],
            "text/html": [
              " View run at <a href='https://wandb.ai/da24m027-indian-institute-of-technology-madras/DA6401_Assignment1/runs/m1mgmwut' target=\"_blank\">https://wandb.ai/da24m027-indian-institute-of-technology-madras/DA6401_Assignment1/runs/m1mgmwut</a>"
            ]
          },
          "metadata": {}
        },
        {
          "output_type": "stream",
          "name": "stderr",
          "text": [
            "<ipython-input-8-234fc85004ae>:107: RuntimeWarning: overflow encountered in divide\n",
            "  self.model.weights[i] -= self.lr * (self.beta1 * m_hat + (1 - self.beta1) * grad / (1 - self.beta1 ** self.t)) / (np.sqrt(v_hat) + self.epsilon)\n"
          ]
        },
        {
          "output_type": "stream",
          "name": "stdout",
          "text": [
            "Epoch 1/10, Loss: nan, Val Loss: nan, Val Accuracy: 0.0933\n",
            "Epoch 2/10, Loss: nan, Val Loss: nan, Val Accuracy: 0.0933\n",
            "Epoch 3/10, Loss: nan, Val Loss: nan, Val Accuracy: 0.0933\n",
            "Epoch 4/10, Loss: nan, Val Loss: nan, Val Accuracy: 0.0933\n",
            "Epoch 5/10, Loss: nan, Val Loss: nan, Val Accuracy: 0.0933\n",
            "Epoch 6/10, Loss: nan, Val Loss: nan, Val Accuracy: 0.0933\n",
            "Epoch 7/10, Loss: nan, Val Loss: nan, Val Accuracy: 0.0933\n",
            "Epoch 8/10, Loss: nan, Val Loss: nan, Val Accuracy: 0.0933\n",
            "Epoch 9/10, Loss: nan, Val Loss: nan, Val Accuracy: 0.0933\n",
            "Epoch 10/10, Loss: nan, Val Loss: nan, Val Accuracy: 0.0933\n"
          ]
        },
        {
          "output_type": "display_data",
          "data": {
            "text/plain": [
              "<IPython.core.display.HTML object>"
            ],
            "text/html": []
          },
          "metadata": {}
        },
        {
          "output_type": "display_data",
          "data": {
            "text/plain": [
              "<IPython.core.display.HTML object>"
            ],
            "text/html": [
              "<br>    <style><br>        .wandb-row {<br>            display: flex;<br>            flex-direction: row;<br>            flex-wrap: wrap;<br>            justify-content: flex-start;<br>            width: 100%;<br>        }<br>        .wandb-col {<br>            display: flex;<br>            flex-direction: column;<br>            flex-basis: 100%;<br>            flex: 1;<br>            padding: 10px;<br>        }<br>    </style><br><div class=\"wandb-row\"><div class=\"wandb-col\"><h3>Run history:</h3><br/><table class=\"wandb\"><tr><td>epoch</td><td>▁▁▂▂▃▃▃▃▄▄▅▅▆▆▆▆▇▇██</td></tr><tr><td>val_accuracy</td><td>▁▁▁▁▁▁▁▁▁▁</td></tr></table><br/></div><div class=\"wandb-col\"><h3>Run summary:</h3><br/><table class=\"wandb\"><tr><td>epoch</td><td>10</td></tr><tr><td>loss</td><td>nan</td></tr><tr><td>val_accuracy</td><td>0.09333</td></tr><tr><td>val_loss</td><td>nan</td></tr></table><br/></div></div>"
            ]
          },
          "metadata": {}
        },
        {
          "output_type": "display_data",
          "data": {
            "text/plain": [
              "<IPython.core.display.HTML object>"
            ],
            "text/html": [
              " View run <strong style=\"color:#cdcd00\">e_10_hl_3_hs_64_lr_0.0001_opt_nadam_bs_64_init_Xavier_ac_tanh_wd_0.5_loss_mse</strong> at: <a href='https://wandb.ai/da24m027-indian-institute-of-technology-madras/DA6401_Assignment1/runs/m1mgmwut' target=\"_blank\">https://wandb.ai/da24m027-indian-institute-of-technology-madras/DA6401_Assignment1/runs/m1mgmwut</a><br> View project at: <a href='https://wandb.ai/da24m027-indian-institute-of-technology-madras/DA6401_Assignment1' target=\"_blank\">https://wandb.ai/da24m027-indian-institute-of-technology-madras/DA6401_Assignment1</a><br>Synced 5 W&B file(s), 0 media file(s), 0 artifact file(s) and 0 other file(s)"
            ]
          },
          "metadata": {}
        },
        {
          "output_type": "display_data",
          "data": {
            "text/plain": [
              "<IPython.core.display.HTML object>"
            ],
            "text/html": [
              "Find logs at: <code>./wandb/run-20250308_062427-m1mgmwut/logs</code>"
            ]
          },
          "metadata": {}
        },
        {
          "output_type": "stream",
          "name": "stderr",
          "text": [
            "\u001b[34m\u001b[1mwandb\u001b[0m: Agent Starting Run: 7zvie6h6 with config:\n",
            "\u001b[34m\u001b[1mwandb\u001b[0m: \tactivation: ReLU\n",
            "\u001b[34m\u001b[1mwandb\u001b[0m: \tbatch_size: 64\n",
            "\u001b[34m\u001b[1mwandb\u001b[0m: \tepochs: 10\n",
            "\u001b[34m\u001b[1mwandb\u001b[0m: \thidden_layers: 4\n",
            "\u001b[34m\u001b[1mwandb\u001b[0m: \thidden_size: 32\n",
            "\u001b[34m\u001b[1mwandb\u001b[0m: \tlearning_rate: 0.0001\n",
            "\u001b[34m\u001b[1mwandb\u001b[0m: \tloss_type: mse\n",
            "\u001b[34m\u001b[1mwandb\u001b[0m: \toptimizer: rmsprop\n",
            "\u001b[34m\u001b[1mwandb\u001b[0m: \tweight_decay: 0.5\n",
            "\u001b[34m\u001b[1mwandb\u001b[0m: \tweights: Xavier\n"
          ]
        },
        {
          "output_type": "display_data",
          "data": {
            "text/plain": [
              "<IPython.core.display.HTML object>"
            ],
            "text/html": [
              "Tracking run with wandb version 0.19.7"
            ]
          },
          "metadata": {}
        },
        {
          "output_type": "display_data",
          "data": {
            "text/plain": [
              "<IPython.core.display.HTML object>"
            ],
            "text/html": [
              "Run data is saved locally in <code>/content/wandb/run-20250308_062453-7zvie6h6</code>"
            ]
          },
          "metadata": {}
        },
        {
          "output_type": "display_data",
          "data": {
            "text/plain": [
              "<IPython.core.display.HTML object>"
            ],
            "text/html": [
              "Syncing run <strong><a href='https://wandb.ai/da24m027-indian-institute-of-technology-madras/DA6401_Assignment1/runs/7zvie6h6' target=\"_blank\">quiet-sweep-15</a></strong> to <a href='https://wandb.ai/da24m027-indian-institute-of-technology-madras/DA6401_Assignment1' target=\"_blank\">Weights & Biases</a> (<a href='https://wandb.me/developer-guide' target=\"_blank\">docs</a>)<br>Sweep page: <a href='https://wandb.ai/da24m027-indian-institute-of-technology-madras/DA6401_Assignment1/sweeps/xy966igu' target=\"_blank\">https://wandb.ai/da24m027-indian-institute-of-technology-madras/DA6401_Assignment1/sweeps/xy966igu</a>"
            ]
          },
          "metadata": {}
        },
        {
          "output_type": "display_data",
          "data": {
            "text/plain": [
              "<IPython.core.display.HTML object>"
            ],
            "text/html": [
              " View project at <a href='https://wandb.ai/da24m027-indian-institute-of-technology-madras/DA6401_Assignment1' target=\"_blank\">https://wandb.ai/da24m027-indian-institute-of-technology-madras/DA6401_Assignment1</a>"
            ]
          },
          "metadata": {}
        },
        {
          "output_type": "display_data",
          "data": {
            "text/plain": [
              "<IPython.core.display.HTML object>"
            ],
            "text/html": [
              " View sweep at <a href='https://wandb.ai/da24m027-indian-institute-of-technology-madras/DA6401_Assignment1/sweeps/xy966igu' target=\"_blank\">https://wandb.ai/da24m027-indian-institute-of-technology-madras/DA6401_Assignment1/sweeps/xy966igu</a>"
            ]
          },
          "metadata": {}
        },
        {
          "output_type": "display_data",
          "data": {
            "text/plain": [
              "<IPython.core.display.HTML object>"
            ],
            "text/html": [
              " View run at <a href='https://wandb.ai/da24m027-indian-institute-of-technology-madras/DA6401_Assignment1/runs/7zvie6h6' target=\"_blank\">https://wandb.ai/da24m027-indian-institute-of-technology-madras/DA6401_Assignment1/runs/7zvie6h6</a>"
            ]
          },
          "metadata": {}
        },
        {
          "output_type": "stream",
          "name": "stdout",
          "text": [
            "Epoch 1/10, Loss: 0.0016, Val Loss: 0.1000, Val Accuracy: 0.0973\n",
            "Epoch 2/10, Loss: 0.0016, Val Loss: 0.1000, Val Accuracy: 0.0033\n",
            "Epoch 3/10, Loss: 0.0016, Val Loss: 0.1000, Val Accuracy: 0.0933\n",
            "Epoch 4/10, Loss: 0.0016, Val Loss: 0.1000, Val Accuracy: 0.0933\n",
            "Epoch 5/10, Loss: 0.0016, Val Loss: 0.1000, Val Accuracy: 0.0933\n",
            "Epoch 6/10, Loss: 0.0016, Val Loss: 0.1000, Val Accuracy: 0.0933\n",
            "Epoch 7/10, Loss: 0.0016, Val Loss: 0.1000, Val Accuracy: 0.0933\n",
            "Epoch 8/10, Loss: 0.0016, Val Loss: 0.1000, Val Accuracy: 0.0933\n",
            "Epoch 9/10, Loss: 0.0016, Val Loss: 0.1000, Val Accuracy: 0.0933\n",
            "Epoch 10/10, Loss: 0.0016, Val Loss: 0.1000, Val Accuracy: 0.0933\n"
          ]
        },
        {
          "output_type": "display_data",
          "data": {
            "text/plain": [
              "<IPython.core.display.HTML object>"
            ],
            "text/html": []
          },
          "metadata": {}
        },
        {
          "output_type": "display_data",
          "data": {
            "text/plain": [
              "<IPython.core.display.HTML object>"
            ],
            "text/html": [
              "<br>    <style><br>        .wandb-row {<br>            display: flex;<br>            flex-direction: row;<br>            flex-wrap: wrap;<br>            justify-content: flex-start;<br>            width: 100%;<br>        }<br>        .wandb-col {<br>            display: flex;<br>            flex-direction: column;<br>            flex-basis: 100%;<br>            flex: 1;<br>            padding: 10px;<br>        }<br>    </style><br><div class=\"wandb-row\"><div class=\"wandb-col\"><h3>Run history:</h3><br/><table class=\"wandb\"><tr><td>epoch</td><td>▁▁▂▂▃▃▃▃▄▄▅▅▆▆▆▆▇▇██</td></tr><tr><td>loss</td><td>▁█████████</td></tr><tr><td>val_accuracy</td><td>█▁████████</td></tr><tr><td>val_loss</td><td>▁█████████</td></tr></table><br/></div><div class=\"wandb-col\"><h3>Run summary:</h3><br/><table class=\"wandb\"><tr><td>epoch</td><td>10</td></tr><tr><td>loss</td><td>0.00156</td></tr><tr><td>val_accuracy</td><td>0.09333</td></tr><tr><td>val_loss</td><td>0.1</td></tr></table><br/></div></div>"
            ]
          },
          "metadata": {}
        },
        {
          "output_type": "display_data",
          "data": {
            "text/plain": [
              "<IPython.core.display.HTML object>"
            ],
            "text/html": [
              " View run <strong style=\"color:#cdcd00\">e_10_hl_4_hs_32_lr_0.0001_opt_rmsprop_bs_64_init_Xavier_ac_ReLU_wd_0.5_loss_mse</strong> at: <a href='https://wandb.ai/da24m027-indian-institute-of-technology-madras/DA6401_Assignment1/runs/7zvie6h6' target=\"_blank\">https://wandb.ai/da24m027-indian-institute-of-technology-madras/DA6401_Assignment1/runs/7zvie6h6</a><br> View project at: <a href='https://wandb.ai/da24m027-indian-institute-of-technology-madras/DA6401_Assignment1' target=\"_blank\">https://wandb.ai/da24m027-indian-institute-of-technology-madras/DA6401_Assignment1</a><br>Synced 5 W&B file(s), 0 media file(s), 0 artifact file(s) and 0 other file(s)"
            ]
          },
          "metadata": {}
        },
        {
          "output_type": "display_data",
          "data": {
            "text/plain": [
              "<IPython.core.display.HTML object>"
            ],
            "text/html": [
              "Find logs at: <code>./wandb/run-20250308_062453-7zvie6h6/logs</code>"
            ]
          },
          "metadata": {}
        },
        {
          "output_type": "stream",
          "name": "stderr",
          "text": [
            "\u001b[34m\u001b[1mwandb\u001b[0m: Agent Starting Run: sp6mk4w3 with config:\n",
            "\u001b[34m\u001b[1mwandb\u001b[0m: \tactivation: ReLU\n",
            "\u001b[34m\u001b[1mwandb\u001b[0m: \tbatch_size: 32\n",
            "\u001b[34m\u001b[1mwandb\u001b[0m: \tepochs: 10\n",
            "\u001b[34m\u001b[1mwandb\u001b[0m: \thidden_layers: 3\n",
            "\u001b[34m\u001b[1mwandb\u001b[0m: \thidden_size: 64\n",
            "\u001b[34m\u001b[1mwandb\u001b[0m: \tlearning_rate: 0.0001\n",
            "\u001b[34m\u001b[1mwandb\u001b[0m: \tloss_type: cross_entropy\n",
            "\u001b[34m\u001b[1mwandb\u001b[0m: \toptimizer: rmsprop\n",
            "\u001b[34m\u001b[1mwandb\u001b[0m: \tweight_decay: 0.0005\n",
            "\u001b[34m\u001b[1mwandb\u001b[0m: \tweights: Xavier\n"
          ]
        },
        {
          "output_type": "display_data",
          "data": {
            "text/plain": [
              "<IPython.core.display.HTML object>"
            ],
            "text/html": [
              "Tracking run with wandb version 0.19.7"
            ]
          },
          "metadata": {}
        },
        {
          "output_type": "display_data",
          "data": {
            "text/plain": [
              "<IPython.core.display.HTML object>"
            ],
            "text/html": [
              "Run data is saved locally in <code>/content/wandb/run-20250308_062514-sp6mk4w3</code>"
            ]
          },
          "metadata": {}
        },
        {
          "output_type": "display_data",
          "data": {
            "text/plain": [
              "<IPython.core.display.HTML object>"
            ],
            "text/html": [
              "Syncing run <strong><a href='https://wandb.ai/da24m027-indian-institute-of-technology-madras/DA6401_Assignment1/runs/sp6mk4w3' target=\"_blank\">celestial-sweep-16</a></strong> to <a href='https://wandb.ai/da24m027-indian-institute-of-technology-madras/DA6401_Assignment1' target=\"_blank\">Weights & Biases</a> (<a href='https://wandb.me/developer-guide' target=\"_blank\">docs</a>)<br>Sweep page: <a href='https://wandb.ai/da24m027-indian-institute-of-technology-madras/DA6401_Assignment1/sweeps/xy966igu' target=\"_blank\">https://wandb.ai/da24m027-indian-institute-of-technology-madras/DA6401_Assignment1/sweeps/xy966igu</a>"
            ]
          },
          "metadata": {}
        },
        {
          "output_type": "display_data",
          "data": {
            "text/plain": [
              "<IPython.core.display.HTML object>"
            ],
            "text/html": [
              " View project at <a href='https://wandb.ai/da24m027-indian-institute-of-technology-madras/DA6401_Assignment1' target=\"_blank\">https://wandb.ai/da24m027-indian-institute-of-technology-madras/DA6401_Assignment1</a>"
            ]
          },
          "metadata": {}
        },
        {
          "output_type": "display_data",
          "data": {
            "text/plain": [
              "<IPython.core.display.HTML object>"
            ],
            "text/html": [
              " View sweep at <a href='https://wandb.ai/da24m027-indian-institute-of-technology-madras/DA6401_Assignment1/sweeps/xy966igu' target=\"_blank\">https://wandb.ai/da24m027-indian-institute-of-technology-madras/DA6401_Assignment1/sweeps/xy966igu</a>"
            ]
          },
          "metadata": {}
        },
        {
          "output_type": "display_data",
          "data": {
            "text/plain": [
              "<IPython.core.display.HTML object>"
            ],
            "text/html": [
              " View run at <a href='https://wandb.ai/da24m027-indian-institute-of-technology-madras/DA6401_Assignment1/runs/sp6mk4w3' target=\"_blank\">https://wandb.ai/da24m027-indian-institute-of-technology-madras/DA6401_Assignment1/runs/sp6mk4w3</a>"
            ]
          },
          "metadata": {}
        },
        {
          "output_type": "stream",
          "name": "stdout",
          "text": [
            "Epoch 1/10, Loss: 0.0034, Val Loss: 0.0702, Val Accuracy: 0.7510\n",
            "Epoch 2/10, Loss: 0.0020, Val Loss: 0.0562, Val Accuracy: 0.8040\n",
            "Epoch 3/10, Loss: 0.0017, Val Loss: 0.0503, Val Accuracy: 0.8250\n",
            "Epoch 4/10, Loss: 0.0015, Val Loss: 0.0470, Val Accuracy: 0.8378\n",
            "Epoch 5/10, Loss: 0.0015, Val Loss: 0.0449, Val Accuracy: 0.8460\n",
            "Epoch 6/10, Loss: 0.0014, Val Loss: 0.0435, Val Accuracy: 0.8503\n",
            "Epoch 7/10, Loss: 0.0014, Val Loss: 0.0425, Val Accuracy: 0.8525\n",
            "Epoch 8/10, Loss: 0.0013, Val Loss: 0.0417, Val Accuracy: 0.8545\n",
            "Epoch 9/10, Loss: 0.0013, Val Loss: 0.0410, Val Accuracy: 0.8553\n",
            "Epoch 10/10, Loss: 0.0013, Val Loss: 0.0403, Val Accuracy: 0.8577\n"
          ]
        },
        {
          "output_type": "display_data",
          "data": {
            "text/plain": [
              "<IPython.core.display.HTML object>"
            ],
            "text/html": []
          },
          "metadata": {}
        },
        {
          "output_type": "display_data",
          "data": {
            "text/plain": [
              "<IPython.core.display.HTML object>"
            ],
            "text/html": [
              "<br>    <style><br>        .wandb-row {<br>            display: flex;<br>            flex-direction: row;<br>            flex-wrap: wrap;<br>            justify-content: flex-start;<br>            width: 100%;<br>        }<br>        .wandb-col {<br>            display: flex;<br>            flex-direction: column;<br>            flex-basis: 100%;<br>            flex: 1;<br>            padding: 10px;<br>        }<br>    </style><br><div class=\"wandb-row\"><div class=\"wandb-col\"><h3>Run history:</h3><br/><table class=\"wandb\"><tr><td>epoch</td><td>▁▁▂▂▃▃▃▃▄▄▅▅▆▆▆▆▇▇██</td></tr><tr><td>loss</td><td>█▃▂▂▂▁▁▁▁▁</td></tr><tr><td>val_accuracy</td><td>▁▄▆▇▇█████</td></tr><tr><td>val_loss</td><td>█▅▃▃▂▂▂▁▁▁</td></tr></table><br/></div><div class=\"wandb-col\"><h3>Run summary:</h3><br/><table class=\"wandb\"><tr><td>epoch</td><td>10</td></tr><tr><td>loss</td><td>0.00127</td></tr><tr><td>val_accuracy</td><td>0.85767</td></tr><tr><td>val_loss</td><td>0.04034</td></tr></table><br/></div></div>"
            ]
          },
          "metadata": {}
        },
        {
          "output_type": "display_data",
          "data": {
            "text/plain": [
              "<IPython.core.display.HTML object>"
            ],
            "text/html": [
              " View run <strong style=\"color:#cdcd00\">e_10_hl_3_hs_64_lr_0.0001_opt_rmsprop_bs_32_init_Xavier_ac_ReLU_wd_0.0005_loss_cross_entropy</strong> at: <a href='https://wandb.ai/da24m027-indian-institute-of-technology-madras/DA6401_Assignment1/runs/sp6mk4w3' target=\"_blank\">https://wandb.ai/da24m027-indian-institute-of-technology-madras/DA6401_Assignment1/runs/sp6mk4w3</a><br> View project at: <a href='https://wandb.ai/da24m027-indian-institute-of-technology-madras/DA6401_Assignment1' target=\"_blank\">https://wandb.ai/da24m027-indian-institute-of-technology-madras/DA6401_Assignment1</a><br>Synced 5 W&B file(s), 0 media file(s), 0 artifact file(s) and 0 other file(s)"
            ]
          },
          "metadata": {}
        },
        {
          "output_type": "display_data",
          "data": {
            "text/plain": [
              "<IPython.core.display.HTML object>"
            ],
            "text/html": [
              "Find logs at: <code>./wandb/run-20250308_062514-sp6mk4w3/logs</code>"
            ]
          },
          "metadata": {}
        },
        {
          "output_type": "stream",
          "name": "stderr",
          "text": [
            "\u001b[34m\u001b[1mwandb\u001b[0m: Sweep Agent: Waiting for job.\n",
            "\u001b[34m\u001b[1mwandb\u001b[0m: Job received.\n",
            "\u001b[34m\u001b[1mwandb\u001b[0m: Agent Starting Run: uy3f08nm with config:\n",
            "\u001b[34m\u001b[1mwandb\u001b[0m: \tactivation: tanh\n",
            "\u001b[34m\u001b[1mwandb\u001b[0m: \tbatch_size: 32\n",
            "\u001b[34m\u001b[1mwandb\u001b[0m: \tepochs: 10\n",
            "\u001b[34m\u001b[1mwandb\u001b[0m: \thidden_layers: 4\n",
            "\u001b[34m\u001b[1mwandb\u001b[0m: \thidden_size: 32\n",
            "\u001b[34m\u001b[1mwandb\u001b[0m: \tlearning_rate: 0.001\n",
            "\u001b[34m\u001b[1mwandb\u001b[0m: \tloss_type: mse\n",
            "\u001b[34m\u001b[1mwandb\u001b[0m: \toptimizer: adam\n",
            "\u001b[34m\u001b[1mwandb\u001b[0m: \tweight_decay: 0.0005\n",
            "\u001b[34m\u001b[1mwandb\u001b[0m: \tweights: Xavier\n"
          ]
        },
        {
          "output_type": "display_data",
          "data": {
            "text/plain": [
              "<IPython.core.display.HTML object>"
            ],
            "text/html": [
              "Tracking run with wandb version 0.19.7"
            ]
          },
          "metadata": {}
        },
        {
          "output_type": "display_data",
          "data": {
            "text/plain": [
              "<IPython.core.display.HTML object>"
            ],
            "text/html": [
              "Run data is saved locally in <code>/content/wandb/run-20250308_062600-uy3f08nm</code>"
            ]
          },
          "metadata": {}
        },
        {
          "output_type": "display_data",
          "data": {
            "text/plain": [
              "<IPython.core.display.HTML object>"
            ],
            "text/html": [
              "Syncing run <strong><a href='https://wandb.ai/da24m027-indian-institute-of-technology-madras/DA6401_Assignment1/runs/uy3f08nm' target=\"_blank\">eager-sweep-17</a></strong> to <a href='https://wandb.ai/da24m027-indian-institute-of-technology-madras/DA6401_Assignment1' target=\"_blank\">Weights & Biases</a> (<a href='https://wandb.me/developer-guide' target=\"_blank\">docs</a>)<br>Sweep page: <a href='https://wandb.ai/da24m027-indian-institute-of-technology-madras/DA6401_Assignment1/sweeps/xy966igu' target=\"_blank\">https://wandb.ai/da24m027-indian-institute-of-technology-madras/DA6401_Assignment1/sweeps/xy966igu</a>"
            ]
          },
          "metadata": {}
        },
        {
          "output_type": "display_data",
          "data": {
            "text/plain": [
              "<IPython.core.display.HTML object>"
            ],
            "text/html": [
              " View project at <a href='https://wandb.ai/da24m027-indian-institute-of-technology-madras/DA6401_Assignment1' target=\"_blank\">https://wandb.ai/da24m027-indian-institute-of-technology-madras/DA6401_Assignment1</a>"
            ]
          },
          "metadata": {}
        },
        {
          "output_type": "display_data",
          "data": {
            "text/plain": [
              "<IPython.core.display.HTML object>"
            ],
            "text/html": [
              " View sweep at <a href='https://wandb.ai/da24m027-indian-institute-of-technology-madras/DA6401_Assignment1/sweeps/xy966igu' target=\"_blank\">https://wandb.ai/da24m027-indian-institute-of-technology-madras/DA6401_Assignment1/sweeps/xy966igu</a>"
            ]
          },
          "metadata": {}
        },
        {
          "output_type": "display_data",
          "data": {
            "text/plain": [
              "<IPython.core.display.HTML object>"
            ],
            "text/html": [
              " View run at <a href='https://wandb.ai/da24m027-indian-institute-of-technology-madras/DA6401_Assignment1/runs/uy3f08nm' target=\"_blank\">https://wandb.ai/da24m027-indian-institute-of-technology-madras/DA6401_Assignment1/runs/uy3f08nm</a>"
            ]
          },
          "metadata": {}
        },
        {
          "output_type": "stream",
          "name": "stdout",
          "text": [
            "Epoch 1/10, Loss: 0.0010, Val Loss: 0.0272, Val Accuracy: 0.8373\n",
            "Epoch 2/10, Loss: 0.0008, Val Loss: 0.0259, Val Accuracy: 0.8423\n",
            "Epoch 3/10, Loss: 0.0008, Val Loss: 0.0252, Val Accuracy: 0.8460\n",
            "Epoch 4/10, Loss: 0.0008, Val Loss: 0.0246, Val Accuracy: 0.8468\n",
            "Epoch 5/10, Loss: 0.0007, Val Loss: 0.0241, Val Accuracy: 0.8487\n",
            "Epoch 6/10, Loss: 0.0007, Val Loss: 0.0237, Val Accuracy: 0.8503\n",
            "Epoch 7/10, Loss: 0.0007, Val Loss: 0.0234, Val Accuracy: 0.8502\n",
            "Epoch 8/10, Loss: 0.0007, Val Loss: 0.0231, Val Accuracy: 0.8512\n",
            "Epoch 9/10, Loss: 0.0007, Val Loss: 0.0230, Val Accuracy: 0.8512\n",
            "Epoch 10/10, Loss: 0.0007, Val Loss: 0.0229, Val Accuracy: 0.8530\n"
          ]
        },
        {
          "output_type": "display_data",
          "data": {
            "text/plain": [
              "<IPython.core.display.HTML object>"
            ],
            "text/html": []
          },
          "metadata": {}
        },
        {
          "output_type": "display_data",
          "data": {
            "text/plain": [
              "<IPython.core.display.HTML object>"
            ],
            "text/html": [
              "<br>    <style><br>        .wandb-row {<br>            display: flex;<br>            flex-direction: row;<br>            flex-wrap: wrap;<br>            justify-content: flex-start;<br>            width: 100%;<br>        }<br>        .wandb-col {<br>            display: flex;<br>            flex-direction: column;<br>            flex-basis: 100%;<br>            flex: 1;<br>            padding: 10px;<br>        }<br>    </style><br><div class=\"wandb-row\"><div class=\"wandb-col\"><h3>Run history:</h3><br/><table class=\"wandb\"><tr><td>epoch</td><td>▁▁▂▂▃▃▃▃▄▄▅▅▆▆▆▆▇▇██</td></tr><tr><td>loss</td><td>█▄▃▂▂▂▂▁▁▁</td></tr><tr><td>val_accuracy</td><td>▁▃▅▅▆▇▇▇▇█</td></tr><tr><td>val_loss</td><td>█▆▅▄▃▂▂▁▁▁</td></tr></table><br/></div><div class=\"wandb-col\"><h3>Run summary:</h3><br/><table class=\"wandb\"><tr><td>epoch</td><td>10</td></tr><tr><td>loss</td><td>0.00068</td></tr><tr><td>val_accuracy</td><td>0.853</td></tr><tr><td>val_loss</td><td>0.02287</td></tr></table><br/></div></div>"
            ]
          },
          "metadata": {}
        },
        {
          "output_type": "display_data",
          "data": {
            "text/plain": [
              "<IPython.core.display.HTML object>"
            ],
            "text/html": [
              " View run <strong style=\"color:#cdcd00\">e_10_hl_4_hs_32_lr_0.001_opt_adam_bs_32_init_Xavier_ac_tanh_wd_0.0005_loss_mse</strong> at: <a href='https://wandb.ai/da24m027-indian-institute-of-technology-madras/DA6401_Assignment1/runs/uy3f08nm' target=\"_blank\">https://wandb.ai/da24m027-indian-institute-of-technology-madras/DA6401_Assignment1/runs/uy3f08nm</a><br> View project at: <a href='https://wandb.ai/da24m027-indian-institute-of-technology-madras/DA6401_Assignment1' target=\"_blank\">https://wandb.ai/da24m027-indian-institute-of-technology-madras/DA6401_Assignment1</a><br>Synced 5 W&B file(s), 0 media file(s), 0 artifact file(s) and 0 other file(s)"
            ]
          },
          "metadata": {}
        },
        {
          "output_type": "display_data",
          "data": {
            "text/plain": [
              "<IPython.core.display.HTML object>"
            ],
            "text/html": [
              "Find logs at: <code>./wandb/run-20250308_062600-uy3f08nm/logs</code>"
            ]
          },
          "metadata": {}
        },
        {
          "output_type": "stream",
          "name": "stderr",
          "text": [
            "\u001b[34m\u001b[1mwandb\u001b[0m: Agent Starting Run: q5s81zrm with config:\n",
            "\u001b[34m\u001b[1mwandb\u001b[0m: \tactivation: tanh\n",
            "\u001b[34m\u001b[1mwandb\u001b[0m: \tbatch_size: 32\n",
            "\u001b[34m\u001b[1mwandb\u001b[0m: \tepochs: 10\n",
            "\u001b[34m\u001b[1mwandb\u001b[0m: \thidden_layers: 3\n",
            "\u001b[34m\u001b[1mwandb\u001b[0m: \thidden_size: 32\n",
            "\u001b[34m\u001b[1mwandb\u001b[0m: \tlearning_rate: 0.001\n",
            "\u001b[34m\u001b[1mwandb\u001b[0m: \tloss_type: mse\n",
            "\u001b[34m\u001b[1mwandb\u001b[0m: \toptimizer: rmsprop\n",
            "\u001b[34m\u001b[1mwandb\u001b[0m: \tweight_decay: 0.5\n",
            "\u001b[34m\u001b[1mwandb\u001b[0m: \tweights: Xavier\n"
          ]
        },
        {
          "output_type": "display_data",
          "data": {
            "text/plain": [
              "<IPython.core.display.HTML object>"
            ],
            "text/html": [
              "Tracking run with wandb version 0.19.7"
            ]
          },
          "metadata": {}
        },
        {
          "output_type": "display_data",
          "data": {
            "text/plain": [
              "<IPython.core.display.HTML object>"
            ],
            "text/html": [
              "Run data is saved locally in <code>/content/wandb/run-20250308_062621-q5s81zrm</code>"
            ]
          },
          "metadata": {}
        },
        {
          "output_type": "display_data",
          "data": {
            "text/plain": [
              "<IPython.core.display.HTML object>"
            ],
            "text/html": [
              "Syncing run <strong><a href='https://wandb.ai/da24m027-indian-institute-of-technology-madras/DA6401_Assignment1/runs/q5s81zrm' target=\"_blank\">northern-sweep-18</a></strong> to <a href='https://wandb.ai/da24m027-indian-institute-of-technology-madras/DA6401_Assignment1' target=\"_blank\">Weights & Biases</a> (<a href='https://wandb.me/developer-guide' target=\"_blank\">docs</a>)<br>Sweep page: <a href='https://wandb.ai/da24m027-indian-institute-of-technology-madras/DA6401_Assignment1/sweeps/xy966igu' target=\"_blank\">https://wandb.ai/da24m027-indian-institute-of-technology-madras/DA6401_Assignment1/sweeps/xy966igu</a>"
            ]
          },
          "metadata": {}
        },
        {
          "output_type": "display_data",
          "data": {
            "text/plain": [
              "<IPython.core.display.HTML object>"
            ],
            "text/html": [
              " View project at <a href='https://wandb.ai/da24m027-indian-institute-of-technology-madras/DA6401_Assignment1' target=\"_blank\">https://wandb.ai/da24m027-indian-institute-of-technology-madras/DA6401_Assignment1</a>"
            ]
          },
          "metadata": {}
        },
        {
          "output_type": "display_data",
          "data": {
            "text/plain": [
              "<IPython.core.display.HTML object>"
            ],
            "text/html": [
              " View sweep at <a href='https://wandb.ai/da24m027-indian-institute-of-technology-madras/DA6401_Assignment1/sweeps/xy966igu' target=\"_blank\">https://wandb.ai/da24m027-indian-institute-of-technology-madras/DA6401_Assignment1/sweeps/xy966igu</a>"
            ]
          },
          "metadata": {}
        },
        {
          "output_type": "display_data",
          "data": {
            "text/plain": [
              "<IPython.core.display.HTML object>"
            ],
            "text/html": [
              " View run at <a href='https://wandb.ai/da24m027-indian-institute-of-technology-madras/DA6401_Assignment1/runs/q5s81zrm' target=\"_blank\">https://wandb.ai/da24m027-indian-institute-of-technology-madras/DA6401_Assignment1/runs/q5s81zrm</a>"
            ]
          },
          "metadata": {}
        },
        {
          "output_type": "stream",
          "name": "stdout",
          "text": [
            "Epoch 1/10, Loss: 0.0031, Val Loss: 0.1000, Val Accuracy: 0.0545\n",
            "Epoch 2/10, Loss: 0.0031, Val Loss: 0.1000, Val Accuracy: 0.0545\n",
            "Epoch 3/10, Loss: 0.0031, Val Loss: 0.1000, Val Accuracy: 0.0545\n",
            "Epoch 4/10, Loss: 0.0031, Val Loss: 0.1000, Val Accuracy: 0.0545\n",
            "Epoch 5/10, Loss: 0.0031, Val Loss: 0.1000, Val Accuracy: 0.0545\n",
            "Epoch 6/10, Loss: 0.0031, Val Loss: 0.1000, Val Accuracy: 0.0545\n",
            "Epoch 7/10, Loss: 0.0031, Val Loss: 0.1000, Val Accuracy: 0.0545\n",
            "Epoch 8/10, Loss: 0.0031, Val Loss: 0.1000, Val Accuracy: 0.0545\n",
            "Epoch 9/10, Loss: 0.0031, Val Loss: 0.1000, Val Accuracy: 0.0545\n",
            "Epoch 10/10, Loss: 0.0031, Val Loss: 0.1000, Val Accuracy: 0.0545\n"
          ]
        },
        {
          "output_type": "display_data",
          "data": {
            "text/plain": [
              "<IPython.core.display.HTML object>"
            ],
            "text/html": []
          },
          "metadata": {}
        },
        {
          "output_type": "display_data",
          "data": {
            "text/plain": [
              "<IPython.core.display.HTML object>"
            ],
            "text/html": [
              "<br>    <style><br>        .wandb-row {<br>            display: flex;<br>            flex-direction: row;<br>            flex-wrap: wrap;<br>            justify-content: flex-start;<br>            width: 100%;<br>        }<br>        .wandb-col {<br>            display: flex;<br>            flex-direction: column;<br>            flex-basis: 100%;<br>            flex: 1;<br>            padding: 10px;<br>        }<br>    </style><br><div class=\"wandb-row\"><div class=\"wandb-col\"><h3>Run history:</h3><br/><table class=\"wandb\"><tr><td>epoch</td><td>▁▁▂▂▃▃▃▃▄▄▅▅▆▆▆▆▇▇██</td></tr><tr><td>loss</td><td>▁█████████</td></tr><tr><td>val_accuracy</td><td>▁▁▁▁▁▁▁▁▁▁</td></tr><tr><td>val_loss</td><td>▁▁▁▁▁▁▁▁▁▁</td></tr></table><br/></div><div class=\"wandb-col\"><h3>Run summary:</h3><br/><table class=\"wandb\"><tr><td>epoch</td><td>10</td></tr><tr><td>loss</td><td>0.00313</td></tr><tr><td>val_accuracy</td><td>0.0545</td></tr><tr><td>val_loss</td><td>0.1</td></tr></table><br/></div></div>"
            ]
          },
          "metadata": {}
        },
        {
          "output_type": "display_data",
          "data": {
            "text/plain": [
              "<IPython.core.display.HTML object>"
            ],
            "text/html": [
              " View run <strong style=\"color:#cdcd00\">e_10_hl_3_hs_32_lr_0.001_opt_rmsprop_bs_32_init_Xavier_ac_tanh_wd_0.5_loss_mse</strong> at: <a href='https://wandb.ai/da24m027-indian-institute-of-technology-madras/DA6401_Assignment1/runs/q5s81zrm' target=\"_blank\">https://wandb.ai/da24m027-indian-institute-of-technology-madras/DA6401_Assignment1/runs/q5s81zrm</a><br> View project at: <a href='https://wandb.ai/da24m027-indian-institute-of-technology-madras/DA6401_Assignment1' target=\"_blank\">https://wandb.ai/da24m027-indian-institute-of-technology-madras/DA6401_Assignment1</a><br>Synced 5 W&B file(s), 0 media file(s), 0 artifact file(s) and 0 other file(s)"
            ]
          },
          "metadata": {}
        },
        {
          "output_type": "display_data",
          "data": {
            "text/plain": [
              "<IPython.core.display.HTML object>"
            ],
            "text/html": [
              "Find logs at: <code>./wandb/run-20250308_062621-q5s81zrm/logs</code>"
            ]
          },
          "metadata": {}
        },
        {
          "output_type": "stream",
          "name": "stderr",
          "text": [
            "\u001b[34m\u001b[1mwandb\u001b[0m: Sweep Agent: Waiting for job.\n",
            "\u001b[34m\u001b[1mwandb\u001b[0m: Job received.\n",
            "\u001b[34m\u001b[1mwandb\u001b[0m: Agent Starting Run: tbgiqck7 with config:\n",
            "\u001b[34m\u001b[1mwandb\u001b[0m: \tactivation: ReLU\n",
            "\u001b[34m\u001b[1mwandb\u001b[0m: \tbatch_size: 64\n",
            "\u001b[34m\u001b[1mwandb\u001b[0m: \tepochs: 10\n",
            "\u001b[34m\u001b[1mwandb\u001b[0m: \thidden_layers: 4\n",
            "\u001b[34m\u001b[1mwandb\u001b[0m: \thidden_size: 64\n",
            "\u001b[34m\u001b[1mwandb\u001b[0m: \tlearning_rate: 0.0001\n",
            "\u001b[34m\u001b[1mwandb\u001b[0m: \tloss_type: mse\n",
            "\u001b[34m\u001b[1mwandb\u001b[0m: \toptimizer: adam\n",
            "\u001b[34m\u001b[1mwandb\u001b[0m: \tweight_decay: 0.0005\n",
            "\u001b[34m\u001b[1mwandb\u001b[0m: \tweights: Xavier\n"
          ]
        },
        {
          "output_type": "display_data",
          "data": {
            "text/plain": [
              "<IPython.core.display.HTML object>"
            ],
            "text/html": [
              "Tracking run with wandb version 0.19.7"
            ]
          },
          "metadata": {}
        },
        {
          "output_type": "display_data",
          "data": {
            "text/plain": [
              "<IPython.core.display.HTML object>"
            ],
            "text/html": [
              "Run data is saved locally in <code>/content/wandb/run-20250308_062646-tbgiqck7</code>"
            ]
          },
          "metadata": {}
        },
        {
          "output_type": "display_data",
          "data": {
            "text/plain": [
              "<IPython.core.display.HTML object>"
            ],
            "text/html": [
              "Syncing run <strong><a href='https://wandb.ai/da24m027-indian-institute-of-technology-madras/DA6401_Assignment1/runs/tbgiqck7' target=\"_blank\">grateful-sweep-19</a></strong> to <a href='https://wandb.ai/da24m027-indian-institute-of-technology-madras/DA6401_Assignment1' target=\"_blank\">Weights & Biases</a> (<a href='https://wandb.me/developer-guide' target=\"_blank\">docs</a>)<br>Sweep page: <a href='https://wandb.ai/da24m027-indian-institute-of-technology-madras/DA6401_Assignment1/sweeps/xy966igu' target=\"_blank\">https://wandb.ai/da24m027-indian-institute-of-technology-madras/DA6401_Assignment1/sweeps/xy966igu</a>"
            ]
          },
          "metadata": {}
        },
        {
          "output_type": "display_data",
          "data": {
            "text/plain": [
              "<IPython.core.display.HTML object>"
            ],
            "text/html": [
              " View project at <a href='https://wandb.ai/da24m027-indian-institute-of-technology-madras/DA6401_Assignment1' target=\"_blank\">https://wandb.ai/da24m027-indian-institute-of-technology-madras/DA6401_Assignment1</a>"
            ]
          },
          "metadata": {}
        },
        {
          "output_type": "display_data",
          "data": {
            "text/plain": [
              "<IPython.core.display.HTML object>"
            ],
            "text/html": [
              " View sweep at <a href='https://wandb.ai/da24m027-indian-institute-of-technology-madras/DA6401_Assignment1/sweeps/xy966igu' target=\"_blank\">https://wandb.ai/da24m027-indian-institute-of-technology-madras/DA6401_Assignment1/sweeps/xy966igu</a>"
            ]
          },
          "metadata": {}
        },
        {
          "output_type": "display_data",
          "data": {
            "text/plain": [
              "<IPython.core.display.HTML object>"
            ],
            "text/html": [
              " View run at <a href='https://wandb.ai/da24m027-indian-institute-of-technology-madras/DA6401_Assignment1/runs/tbgiqck7' target=\"_blank\">https://wandb.ai/da24m027-indian-institute-of-technology-madras/DA6401_Assignment1/runs/tbgiqck7</a>"
            ]
          },
          "metadata": {}
        },
        {
          "output_type": "stream",
          "name": "stdout",
          "text": [
            "Epoch 1/10, Loss: 0.0008, Val Loss: 0.0358, Val Accuracy: 0.7698\n",
            "Epoch 2/10, Loss: 0.0005, Val Loss: 0.0301, Val Accuracy: 0.8143\n",
            "Epoch 3/10, Loss: 0.0005, Val Loss: 0.0280, Val Accuracy: 0.8330\n",
            "Epoch 4/10, Loss: 0.0004, Val Loss: 0.0267, Val Accuracy: 0.8425\n",
            "Epoch 5/10, Loss: 0.0004, Val Loss: 0.0258, Val Accuracy: 0.8460\n",
            "Epoch 6/10, Loss: 0.0004, Val Loss: 0.0252, Val Accuracy: 0.8500\n",
            "Epoch 7/10, Loss: 0.0004, Val Loss: 0.0247, Val Accuracy: 0.8528\n",
            "Epoch 8/10, Loss: 0.0004, Val Loss: 0.0243, Val Accuracy: 0.8575\n",
            "Epoch 9/10, Loss: 0.0004, Val Loss: 0.0240, Val Accuracy: 0.8588\n",
            "Epoch 10/10, Loss: 0.0004, Val Loss: 0.0237, Val Accuracy: 0.8597\n"
          ]
        },
        {
          "output_type": "display_data",
          "data": {
            "text/plain": [
              "<IPython.core.display.HTML object>"
            ],
            "text/html": []
          },
          "metadata": {}
        },
        {
          "output_type": "display_data",
          "data": {
            "text/plain": [
              "<IPython.core.display.HTML object>"
            ],
            "text/html": [
              "<br>    <style><br>        .wandb-row {<br>            display: flex;<br>            flex-direction: row;<br>            flex-wrap: wrap;<br>            justify-content: flex-start;<br>            width: 100%;<br>        }<br>        .wandb-col {<br>            display: flex;<br>            flex-direction: column;<br>            flex-basis: 100%;<br>            flex: 1;<br>            padding: 10px;<br>        }<br>    </style><br><div class=\"wandb-row\"><div class=\"wandb-col\"><h3>Run history:</h3><br/><table class=\"wandb\"><tr><td>epoch</td><td>▁▁▂▂▃▃▃▃▄▄▅▅▆▆▆▆▇▇██</td></tr><tr><td>loss</td><td>█▃▂▂▂▂▁▁▁▁</td></tr><tr><td>val_accuracy</td><td>▁▄▆▇▇▇▇███</td></tr><tr><td>val_loss</td><td>█▅▃▃▂▂▂▁▁▁</td></tr></table><br/></div><div class=\"wandb-col\"><h3>Run summary:</h3><br/><table class=\"wandb\"><tr><td>epoch</td><td>10</td></tr><tr><td>loss</td><td>0.00037</td></tr><tr><td>val_accuracy</td><td>0.85967</td></tr><tr><td>val_loss</td><td>0.02371</td></tr></table><br/></div></div>"
            ]
          },
          "metadata": {}
        },
        {
          "output_type": "display_data",
          "data": {
            "text/plain": [
              "<IPython.core.display.HTML object>"
            ],
            "text/html": [
              " View run <strong style=\"color:#cdcd00\">e_10_hl_4_hs_64_lr_0.0001_opt_adam_bs_64_init_Xavier_ac_ReLU_wd_0.0005_loss_mse</strong> at: <a href='https://wandb.ai/da24m027-indian-institute-of-technology-madras/DA6401_Assignment1/runs/tbgiqck7' target=\"_blank\">https://wandb.ai/da24m027-indian-institute-of-technology-madras/DA6401_Assignment1/runs/tbgiqck7</a><br> View project at: <a href='https://wandb.ai/da24m027-indian-institute-of-technology-madras/DA6401_Assignment1' target=\"_blank\">https://wandb.ai/da24m027-indian-institute-of-technology-madras/DA6401_Assignment1</a><br>Synced 5 W&B file(s), 0 media file(s), 0 artifact file(s) and 0 other file(s)"
            ]
          },
          "metadata": {}
        },
        {
          "output_type": "display_data",
          "data": {
            "text/plain": [
              "<IPython.core.display.HTML object>"
            ],
            "text/html": [
              "Find logs at: <code>./wandb/run-20250308_062646-tbgiqck7/logs</code>"
            ]
          },
          "metadata": {}
        },
        {
          "output_type": "stream",
          "name": "stderr",
          "text": [
            "\u001b[34m\u001b[1mwandb\u001b[0m: Agent Starting Run: yvehh7jf with config:\n",
            "\u001b[34m\u001b[1mwandb\u001b[0m: \tactivation: ReLU\n",
            "\u001b[34m\u001b[1mwandb\u001b[0m: \tbatch_size: 64\n",
            "\u001b[34m\u001b[1mwandb\u001b[0m: \tepochs: 10\n",
            "\u001b[34m\u001b[1mwandb\u001b[0m: \thidden_layers: 3\n",
            "\u001b[34m\u001b[1mwandb\u001b[0m: \thidden_size: 64\n",
            "\u001b[34m\u001b[1mwandb\u001b[0m: \tlearning_rate: 0.0001\n",
            "\u001b[34m\u001b[1mwandb\u001b[0m: \tloss_type: cross_entropy\n",
            "\u001b[34m\u001b[1mwandb\u001b[0m: \toptimizer: rmsprop\n",
            "\u001b[34m\u001b[1mwandb\u001b[0m: \tweight_decay: 0.0005\n",
            "\u001b[34m\u001b[1mwandb\u001b[0m: \tweights: Xavier\n"
          ]
        },
        {
          "output_type": "display_data",
          "data": {
            "text/plain": [
              "<IPython.core.display.HTML object>"
            ],
            "text/html": [
              "Tracking run with wandb version 0.19.7"
            ]
          },
          "metadata": {}
        },
        {
          "output_type": "display_data",
          "data": {
            "text/plain": [
              "<IPython.core.display.HTML object>"
            ],
            "text/html": [
              "Run data is saved locally in <code>/content/wandb/run-20250308_062717-yvehh7jf</code>"
            ]
          },
          "metadata": {}
        },
        {
          "output_type": "display_data",
          "data": {
            "text/plain": [
              "<IPython.core.display.HTML object>"
            ],
            "text/html": [
              "Syncing run <strong><a href='https://wandb.ai/da24m027-indian-institute-of-technology-madras/DA6401_Assignment1/runs/yvehh7jf' target=\"_blank\">feasible-sweep-20</a></strong> to <a href='https://wandb.ai/da24m027-indian-institute-of-technology-madras/DA6401_Assignment1' target=\"_blank\">Weights & Biases</a> (<a href='https://wandb.me/developer-guide' target=\"_blank\">docs</a>)<br>Sweep page: <a href='https://wandb.ai/da24m027-indian-institute-of-technology-madras/DA6401_Assignment1/sweeps/xy966igu' target=\"_blank\">https://wandb.ai/da24m027-indian-institute-of-technology-madras/DA6401_Assignment1/sweeps/xy966igu</a>"
            ]
          },
          "metadata": {}
        },
        {
          "output_type": "display_data",
          "data": {
            "text/plain": [
              "<IPython.core.display.HTML object>"
            ],
            "text/html": [
              " View project at <a href='https://wandb.ai/da24m027-indian-institute-of-technology-madras/DA6401_Assignment1' target=\"_blank\">https://wandb.ai/da24m027-indian-institute-of-technology-madras/DA6401_Assignment1</a>"
            ]
          },
          "metadata": {}
        },
        {
          "output_type": "display_data",
          "data": {
            "text/plain": [
              "<IPython.core.display.HTML object>"
            ],
            "text/html": [
              " View sweep at <a href='https://wandb.ai/da24m027-indian-institute-of-technology-madras/DA6401_Assignment1/sweeps/xy966igu' target=\"_blank\">https://wandb.ai/da24m027-indian-institute-of-technology-madras/DA6401_Assignment1/sweeps/xy966igu</a>"
            ]
          },
          "metadata": {}
        },
        {
          "output_type": "display_data",
          "data": {
            "text/plain": [
              "<IPython.core.display.HTML object>"
            ],
            "text/html": [
              " View run at <a href='https://wandb.ai/da24m027-indian-institute-of-technology-madras/DA6401_Assignment1/runs/yvehh7jf' target=\"_blank\">https://wandb.ai/da24m027-indian-institute-of-technology-madras/DA6401_Assignment1/runs/yvehh7jf</a>"
            ]
          },
          "metadata": {}
        },
        {
          "output_type": "stream",
          "name": "stdout",
          "text": [
            "Epoch 1/10, Loss: 0.0019, Val Loss: 0.0755, Val Accuracy: 0.7178\n",
            "Epoch 2/10, Loss: 0.0011, Val Loss: 0.0605, Val Accuracy: 0.7882\n",
            "Epoch 3/10, Loss: 0.0009, Val Loss: 0.0542, Val Accuracy: 0.8117\n",
            "Epoch 4/10, Loss: 0.0008, Val Loss: 0.0509, Val Accuracy: 0.8247\n",
            "Epoch 5/10, Loss: 0.0008, Val Loss: 0.0487, Val Accuracy: 0.8332\n",
            "Epoch 6/10, Loss: 0.0007, Val Loss: 0.0470, Val Accuracy: 0.8402\n",
            "Epoch 7/10, Loss: 0.0007, Val Loss: 0.0457, Val Accuracy: 0.8440\n",
            "Epoch 8/10, Loss: 0.0007, Val Loss: 0.0446, Val Accuracy: 0.8465\n",
            "Epoch 9/10, Loss: 0.0007, Val Loss: 0.0437, Val Accuracy: 0.8492\n",
            "Epoch 10/10, Loss: 0.0007, Val Loss: 0.0430, Val Accuracy: 0.8525\n"
          ]
        },
        {
          "output_type": "display_data",
          "data": {
            "text/plain": [
              "<IPython.core.display.HTML object>"
            ],
            "text/html": []
          },
          "metadata": {}
        },
        {
          "output_type": "display_data",
          "data": {
            "text/plain": [
              "<IPython.core.display.HTML object>"
            ],
            "text/html": [
              "<br>    <style><br>        .wandb-row {<br>            display: flex;<br>            flex-direction: row;<br>            flex-wrap: wrap;<br>            justify-content: flex-start;<br>            width: 100%;<br>        }<br>        .wandb-col {<br>            display: flex;<br>            flex-direction: column;<br>            flex-basis: 100%;<br>            flex: 1;<br>            padding: 10px;<br>        }<br>    </style><br><div class=\"wandb-row\"><div class=\"wandb-col\"><h3>Run history:</h3><br/><table class=\"wandb\"><tr><td>epoch</td><td>▁▁▂▂▃▃▃▃▄▄▅▅▆▆▆▆▇▇██</td></tr><tr><td>loss</td><td>█▃▂▂▂▁▁▁▁▁</td></tr><tr><td>val_accuracy</td><td>▁▅▆▇▇▇████</td></tr><tr><td>val_loss</td><td>█▅▃▃▂▂▂▁▁▁</td></tr></table><br/></div><div class=\"wandb-col\"><h3>Run summary:</h3><br/><table class=\"wandb\"><tr><td>epoch</td><td>10</td></tr><tr><td>loss</td><td>0.00068</td></tr><tr><td>val_accuracy</td><td>0.8525</td></tr><tr><td>val_loss</td><td>0.04301</td></tr></table><br/></div></div>"
            ]
          },
          "metadata": {}
        },
        {
          "output_type": "display_data",
          "data": {
            "text/plain": [
              "<IPython.core.display.HTML object>"
            ],
            "text/html": [
              " View run <strong style=\"color:#cdcd00\">e_10_hl_3_hs_64_lr_0.0001_opt_rmsprop_bs_64_init_Xavier_ac_ReLU_wd_0.0005_loss_cross_entropy</strong> at: <a href='https://wandb.ai/da24m027-indian-institute-of-technology-madras/DA6401_Assignment1/runs/yvehh7jf' target=\"_blank\">https://wandb.ai/da24m027-indian-institute-of-technology-madras/DA6401_Assignment1/runs/yvehh7jf</a><br> View project at: <a href='https://wandb.ai/da24m027-indian-institute-of-technology-madras/DA6401_Assignment1' target=\"_blank\">https://wandb.ai/da24m027-indian-institute-of-technology-madras/DA6401_Assignment1</a><br>Synced 5 W&B file(s), 0 media file(s), 0 artifact file(s) and 0 other file(s)"
            ]
          },
          "metadata": {}
        },
        {
          "output_type": "display_data",
          "data": {
            "text/plain": [
              "<IPython.core.display.HTML object>"
            ],
            "text/html": [
              "Find logs at: <code>./wandb/run-20250308_062717-yvehh7jf/logs</code>"
            ]
          },
          "metadata": {}
        },
        {
          "output_type": "stream",
          "name": "stderr",
          "text": [
            "\u001b[34m\u001b[1mwandb\u001b[0m: Agent Starting Run: ia8j8tue with config:\n",
            "\u001b[34m\u001b[1mwandb\u001b[0m: \tactivation: ReLU\n",
            "\u001b[34m\u001b[1mwandb\u001b[0m: \tbatch_size: 32\n",
            "\u001b[34m\u001b[1mwandb\u001b[0m: \tepochs: 10\n",
            "\u001b[34m\u001b[1mwandb\u001b[0m: \thidden_layers: 4\n",
            "\u001b[34m\u001b[1mwandb\u001b[0m: \thidden_size: 64\n",
            "\u001b[34m\u001b[1mwandb\u001b[0m: \tlearning_rate: 0.0001\n",
            "\u001b[34m\u001b[1mwandb\u001b[0m: \tloss_type: mse\n",
            "\u001b[34m\u001b[1mwandb\u001b[0m: \toptimizer: nadam\n",
            "\u001b[34m\u001b[1mwandb\u001b[0m: \tweight_decay: 0.5\n",
            "\u001b[34m\u001b[1mwandb\u001b[0m: \tweights: Xavier\n"
          ]
        },
        {
          "output_type": "display_data",
          "data": {
            "text/plain": [
              "<IPython.core.display.HTML object>"
            ],
            "text/html": [
              "Tracking run with wandb version 0.19.7"
            ]
          },
          "metadata": {}
        },
        {
          "output_type": "display_data",
          "data": {
            "text/plain": [
              "<IPython.core.display.HTML object>"
            ],
            "text/html": [
              "Run data is saved locally in <code>/content/wandb/run-20250308_062743-ia8j8tue</code>"
            ]
          },
          "metadata": {}
        },
        {
          "output_type": "display_data",
          "data": {
            "text/plain": [
              "<IPython.core.display.HTML object>"
            ],
            "text/html": [
              "Syncing run <strong><a href='https://wandb.ai/da24m027-indian-institute-of-technology-madras/DA6401_Assignment1/runs/ia8j8tue' target=\"_blank\">jumping-sweep-21</a></strong> to <a href='https://wandb.ai/da24m027-indian-institute-of-technology-madras/DA6401_Assignment1' target=\"_blank\">Weights & Biases</a> (<a href='https://wandb.me/developer-guide' target=\"_blank\">docs</a>)<br>Sweep page: <a href='https://wandb.ai/da24m027-indian-institute-of-technology-madras/DA6401_Assignment1/sweeps/xy966igu' target=\"_blank\">https://wandb.ai/da24m027-indian-institute-of-technology-madras/DA6401_Assignment1/sweeps/xy966igu</a>"
            ]
          },
          "metadata": {}
        },
        {
          "output_type": "display_data",
          "data": {
            "text/plain": [
              "<IPython.core.display.HTML object>"
            ],
            "text/html": [
              " View project at <a href='https://wandb.ai/da24m027-indian-institute-of-technology-madras/DA6401_Assignment1' target=\"_blank\">https://wandb.ai/da24m027-indian-institute-of-technology-madras/DA6401_Assignment1</a>"
            ]
          },
          "metadata": {}
        },
        {
          "output_type": "display_data",
          "data": {
            "text/plain": [
              "<IPython.core.display.HTML object>"
            ],
            "text/html": [
              " View sweep at <a href='https://wandb.ai/da24m027-indian-institute-of-technology-madras/DA6401_Assignment1/sweeps/xy966igu' target=\"_blank\">https://wandb.ai/da24m027-indian-institute-of-technology-madras/DA6401_Assignment1/sweeps/xy966igu</a>"
            ]
          },
          "metadata": {}
        },
        {
          "output_type": "display_data",
          "data": {
            "text/plain": [
              "<IPython.core.display.HTML object>"
            ],
            "text/html": [
              " View run at <a href='https://wandb.ai/da24m027-indian-institute-of-technology-madras/DA6401_Assignment1/runs/ia8j8tue' target=\"_blank\">https://wandb.ai/da24m027-indian-institute-of-technology-madras/DA6401_Assignment1/runs/ia8j8tue</a>"
            ]
          },
          "metadata": {}
        },
        {
          "output_type": "stream",
          "name": "stderr",
          "text": [
            "<ipython-input-8-234fc85004ae>:52: RuntimeWarning: invalid value encountered in multiply\n",
            "  delta = np.dot(delta, self.model.weights[i].T) * (self.model.a[i] > 0)\n",
            "<ipython-input-6-0ca641ebb121>:35: RuntimeWarning: overflow encountered in square\n",
            "  return np.mean(np.square(y_true - y_pred))\n"
          ]
        },
        {
          "output_type": "stream",
          "name": "stdout",
          "text": [
            "Epoch 1/10, Loss: nan, Val Loss: nan, Val Accuracy: 0.0933\n",
            "Epoch 2/10, Loss: nan, Val Loss: nan, Val Accuracy: 0.0933\n",
            "Epoch 3/10, Loss: nan, Val Loss: nan, Val Accuracy: 0.0933\n",
            "Epoch 4/10, Loss: nan, Val Loss: nan, Val Accuracy: 0.0933\n",
            "Epoch 5/10, Loss: nan, Val Loss: nan, Val Accuracy: 0.0933\n",
            "Epoch 6/10, Loss: nan, Val Loss: nan, Val Accuracy: 0.0933\n",
            "Epoch 7/10, Loss: nan, Val Loss: nan, Val Accuracy: 0.0933\n",
            "Epoch 8/10, Loss: nan, Val Loss: nan, Val Accuracy: 0.0933\n",
            "Epoch 9/10, Loss: nan, Val Loss: nan, Val Accuracy: 0.0933\n",
            "Epoch 10/10, Loss: nan, Val Loss: nan, Val Accuracy: 0.0933\n"
          ]
        },
        {
          "output_type": "display_data",
          "data": {
            "text/plain": [
              "<IPython.core.display.HTML object>"
            ],
            "text/html": []
          },
          "metadata": {}
        },
        {
          "output_type": "display_data",
          "data": {
            "text/plain": [
              "<IPython.core.display.HTML object>"
            ],
            "text/html": [
              "<br>    <style><br>        .wandb-row {<br>            display: flex;<br>            flex-direction: row;<br>            flex-wrap: wrap;<br>            justify-content: flex-start;<br>            width: 100%;<br>        }<br>        .wandb-col {<br>            display: flex;<br>            flex-direction: column;<br>            flex-basis: 100%;<br>            flex: 1;<br>            padding: 10px;<br>        }<br>    </style><br><div class=\"wandb-row\"><div class=\"wandb-col\"><h3>Run history:</h3><br/><table class=\"wandb\"><tr><td>epoch</td><td>▁▁▂▂▃▃▃▃▄▄▅▅▆▆▆▆▇▇██</td></tr><tr><td>val_accuracy</td><td>▁▁▁▁▁▁▁▁▁▁</td></tr></table><br/></div><div class=\"wandb-col\"><h3>Run summary:</h3><br/><table class=\"wandb\"><tr><td>epoch</td><td>10</td></tr><tr><td>loss</td><td>nan</td></tr><tr><td>val_accuracy</td><td>0.09333</td></tr><tr><td>val_loss</td><td>nan</td></tr></table><br/></div></div>"
            ]
          },
          "metadata": {}
        },
        {
          "output_type": "display_data",
          "data": {
            "text/plain": [
              "<IPython.core.display.HTML object>"
            ],
            "text/html": [
              " View run <strong style=\"color:#cdcd00\">e_10_hl_4_hs_64_lr_0.0001_opt_nadam_bs_32_init_Xavier_ac_ReLU_wd_0.5_loss_mse</strong> at: <a href='https://wandb.ai/da24m027-indian-institute-of-technology-madras/DA6401_Assignment1/runs/ia8j8tue' target=\"_blank\">https://wandb.ai/da24m027-indian-institute-of-technology-madras/DA6401_Assignment1/runs/ia8j8tue</a><br> View project at: <a href='https://wandb.ai/da24m027-indian-institute-of-technology-madras/DA6401_Assignment1' target=\"_blank\">https://wandb.ai/da24m027-indian-institute-of-technology-madras/DA6401_Assignment1</a><br>Synced 5 W&B file(s), 0 media file(s), 0 artifact file(s) and 0 other file(s)"
            ]
          },
          "metadata": {}
        },
        {
          "output_type": "display_data",
          "data": {
            "text/plain": [
              "<IPython.core.display.HTML object>"
            ],
            "text/html": [
              "Find logs at: <code>./wandb/run-20250308_062743-ia8j8tue/logs</code>"
            ]
          },
          "metadata": {}
        },
        {
          "output_type": "stream",
          "name": "stderr",
          "text": [
            "\u001b[34m\u001b[1mwandb\u001b[0m: Agent Starting Run: f5lnabmn with config:\n",
            "\u001b[34m\u001b[1mwandb\u001b[0m: \tactivation: ReLU\n",
            "\u001b[34m\u001b[1mwandb\u001b[0m: \tbatch_size: 64\n",
            "\u001b[34m\u001b[1mwandb\u001b[0m: \tepochs: 10\n",
            "\u001b[34m\u001b[1mwandb\u001b[0m: \thidden_layers: 5\n",
            "\u001b[34m\u001b[1mwandb\u001b[0m: \thidden_size: 128\n",
            "\u001b[34m\u001b[1mwandb\u001b[0m: \tlearning_rate: 0.0001\n",
            "\u001b[34m\u001b[1mwandb\u001b[0m: \tloss_type: cross_entropy\n",
            "\u001b[34m\u001b[1mwandb\u001b[0m: \toptimizer: rmsprop\n",
            "\u001b[34m\u001b[1mwandb\u001b[0m: \tweight_decay: 0.0005\n",
            "\u001b[34m\u001b[1mwandb\u001b[0m: \tweights: Xavier\n"
          ]
        },
        {
          "output_type": "display_data",
          "data": {
            "text/plain": [
              "<IPython.core.display.HTML object>"
            ],
            "text/html": [
              "Tracking run with wandb version 0.19.7"
            ]
          },
          "metadata": {}
        },
        {
          "output_type": "display_data",
          "data": {
            "text/plain": [
              "<IPython.core.display.HTML object>"
            ],
            "text/html": [
              "Run data is saved locally in <code>/content/wandb/run-20250308_062829-f5lnabmn</code>"
            ]
          },
          "metadata": {}
        },
        {
          "output_type": "display_data",
          "data": {
            "text/plain": [
              "<IPython.core.display.HTML object>"
            ],
            "text/html": [
              "Syncing run <strong><a href='https://wandb.ai/da24m027-indian-institute-of-technology-madras/DA6401_Assignment1/runs/f5lnabmn' target=\"_blank\">gentle-sweep-22</a></strong> to <a href='https://wandb.ai/da24m027-indian-institute-of-technology-madras/DA6401_Assignment1' target=\"_blank\">Weights & Biases</a> (<a href='https://wandb.me/developer-guide' target=\"_blank\">docs</a>)<br>Sweep page: <a href='https://wandb.ai/da24m027-indian-institute-of-technology-madras/DA6401_Assignment1/sweeps/xy966igu' target=\"_blank\">https://wandb.ai/da24m027-indian-institute-of-technology-madras/DA6401_Assignment1/sweeps/xy966igu</a>"
            ]
          },
          "metadata": {}
        },
        {
          "output_type": "display_data",
          "data": {
            "text/plain": [
              "<IPython.core.display.HTML object>"
            ],
            "text/html": [
              " View project at <a href='https://wandb.ai/da24m027-indian-institute-of-technology-madras/DA6401_Assignment1' target=\"_blank\">https://wandb.ai/da24m027-indian-institute-of-technology-madras/DA6401_Assignment1</a>"
            ]
          },
          "metadata": {}
        },
        {
          "output_type": "display_data",
          "data": {
            "text/plain": [
              "<IPython.core.display.HTML object>"
            ],
            "text/html": [
              " View sweep at <a href='https://wandb.ai/da24m027-indian-institute-of-technology-madras/DA6401_Assignment1/sweeps/xy966igu' target=\"_blank\">https://wandb.ai/da24m027-indian-institute-of-technology-madras/DA6401_Assignment1/sweeps/xy966igu</a>"
            ]
          },
          "metadata": {}
        },
        {
          "output_type": "display_data",
          "data": {
            "text/plain": [
              "<IPython.core.display.HTML object>"
            ],
            "text/html": [
              " View run at <a href='https://wandb.ai/da24m027-indian-institute-of-technology-madras/DA6401_Assignment1/runs/f5lnabmn' target=\"_blank\">https://wandb.ai/da24m027-indian-institute-of-technology-madras/DA6401_Assignment1/runs/f5lnabmn</a>"
            ]
          },
          "metadata": {}
        },
        {
          "output_type": "stream",
          "name": "stdout",
          "text": [
            "Epoch 1/10, Loss: 0.0017, Val Loss: 0.0773, Val Accuracy: 0.7118\n",
            "Epoch 2/10, Loss: 0.0011, Val Loss: 0.0673, Val Accuracy: 0.7588\n",
            "Epoch 3/10, Loss: 0.0010, Val Loss: 0.0606, Val Accuracy: 0.7802\n",
            "Epoch 4/10, Loss: 0.0009, Val Loss: 0.0560, Val Accuracy: 0.7997\n",
            "Epoch 5/10, Loss: 0.0008, Val Loss: 0.0526, Val Accuracy: 0.8133\n",
            "Epoch 6/10, Loss: 0.0008, Val Loss: 0.0501, Val Accuracy: 0.8230\n",
            "Epoch 7/10, Loss: 0.0008, Val Loss: 0.0477, Val Accuracy: 0.8322\n",
            "Epoch 8/10, Loss: 0.0007, Val Loss: 0.0455, Val Accuracy: 0.8412\n",
            "Epoch 9/10, Loss: 0.0007, Val Loss: 0.0437, Val Accuracy: 0.8485\n",
            "Epoch 10/10, Loss: 0.0007, Val Loss: 0.0422, Val Accuracy: 0.8547\n"
          ]
        },
        {
          "output_type": "display_data",
          "data": {
            "text/plain": [
              "<IPython.core.display.HTML object>"
            ],
            "text/html": []
          },
          "metadata": {}
        },
        {
          "output_type": "display_data",
          "data": {
            "text/plain": [
              "<IPython.core.display.HTML object>"
            ],
            "text/html": [
              "<br>    <style><br>        .wandb-row {<br>            display: flex;<br>            flex-direction: row;<br>            flex-wrap: wrap;<br>            justify-content: flex-start;<br>            width: 100%;<br>        }<br>        .wandb-col {<br>            display: flex;<br>            flex-direction: column;<br>            flex-basis: 100%;<br>            flex: 1;<br>            padding: 10px;<br>        }<br>    </style><br><div class=\"wandb-row\"><div class=\"wandb-col\"><h3>Run history:</h3><br/><table class=\"wandb\"><tr><td>epoch</td><td>▁▁▂▂▃▃▃▃▄▄▅▅▆▆▆▆▇▇██</td></tr><tr><td>loss</td><td>█▄▃▃▂▂▂▁▁▁</td></tr><tr><td>val_accuracy</td><td>▁▃▄▅▆▆▇▇██</td></tr><tr><td>val_loss</td><td>█▆▅▄▃▃▂▂▁▁</td></tr></table><br/></div><div class=\"wandb-col\"><h3>Run summary:</h3><br/><table class=\"wandb\"><tr><td>epoch</td><td>10</td></tr><tr><td>loss</td><td>0.00066</td></tr><tr><td>val_accuracy</td><td>0.85467</td></tr><tr><td>val_loss</td><td>0.04217</td></tr></table><br/></div></div>"
            ]
          },
          "metadata": {}
        },
        {
          "output_type": "display_data",
          "data": {
            "text/plain": [
              "<IPython.core.display.HTML object>"
            ],
            "text/html": [
              " View run <strong style=\"color:#cdcd00\">e_10_hl_5_hs_128_lr_0.0001_opt_rmsprop_bs_64_init_Xavier_ac_ReLU_wd_0.0005_loss_cross_entropy</strong> at: <a href='https://wandb.ai/da24m027-indian-institute-of-technology-madras/DA6401_Assignment1/runs/f5lnabmn' target=\"_blank\">https://wandb.ai/da24m027-indian-institute-of-technology-madras/DA6401_Assignment1/runs/f5lnabmn</a><br> View project at: <a href='https://wandb.ai/da24m027-indian-institute-of-technology-madras/DA6401_Assignment1' target=\"_blank\">https://wandb.ai/da24m027-indian-institute-of-technology-madras/DA6401_Assignment1</a><br>Synced 5 W&B file(s), 0 media file(s), 0 artifact file(s) and 0 other file(s)"
            ]
          },
          "metadata": {}
        },
        {
          "output_type": "display_data",
          "data": {
            "text/plain": [
              "<IPython.core.display.HTML object>"
            ],
            "text/html": [
              "Find logs at: <code>./wandb/run-20250308_062829-f5lnabmn/logs</code>"
            ]
          },
          "metadata": {}
        },
        {
          "output_type": "stream",
          "name": "stderr",
          "text": [
            "\u001b[34m\u001b[1mwandb\u001b[0m: Agent Starting Run: j0jkpjv0 with config:\n",
            "\u001b[34m\u001b[1mwandb\u001b[0m: \tactivation: ReLU\n",
            "\u001b[34m\u001b[1mwandb\u001b[0m: \tbatch_size: 64\n",
            "\u001b[34m\u001b[1mwandb\u001b[0m: \tepochs: 10\n",
            "\u001b[34m\u001b[1mwandb\u001b[0m: \thidden_layers: 3\n",
            "\u001b[34m\u001b[1mwandb\u001b[0m: \thidden_size: 64\n",
            "\u001b[34m\u001b[1mwandb\u001b[0m: \tlearning_rate: 0.001\n",
            "\u001b[34m\u001b[1mwandb\u001b[0m: \tloss_type: cross_entropy\n",
            "\u001b[34m\u001b[1mwandb\u001b[0m: \toptimizer: adam\n",
            "\u001b[34m\u001b[1mwandb\u001b[0m: \tweight_decay: 0.0005\n",
            "\u001b[34m\u001b[1mwandb\u001b[0m: \tweights: Xavier\n"
          ]
        },
        {
          "output_type": "display_data",
          "data": {
            "text/plain": [
              "<IPython.core.display.HTML object>"
            ],
            "text/html": [
              "Tracking run with wandb version 0.19.7"
            ]
          },
          "metadata": {}
        },
        {
          "output_type": "display_data",
          "data": {
            "text/plain": [
              "<IPython.core.display.HTML object>"
            ],
            "text/html": [
              "Run data is saved locally in <code>/content/wandb/run-20250308_062920-j0jkpjv0</code>"
            ]
          },
          "metadata": {}
        },
        {
          "output_type": "display_data",
          "data": {
            "text/plain": [
              "<IPython.core.display.HTML object>"
            ],
            "text/html": [
              "Syncing run <strong><a href='https://wandb.ai/da24m027-indian-institute-of-technology-madras/DA6401_Assignment1/runs/j0jkpjv0' target=\"_blank\">drawn-sweep-23</a></strong> to <a href='https://wandb.ai/da24m027-indian-institute-of-technology-madras/DA6401_Assignment1' target=\"_blank\">Weights & Biases</a> (<a href='https://wandb.me/developer-guide' target=\"_blank\">docs</a>)<br>Sweep page: <a href='https://wandb.ai/da24m027-indian-institute-of-technology-madras/DA6401_Assignment1/sweeps/xy966igu' target=\"_blank\">https://wandb.ai/da24m027-indian-institute-of-technology-madras/DA6401_Assignment1/sweeps/xy966igu</a>"
            ]
          },
          "metadata": {}
        },
        {
          "output_type": "display_data",
          "data": {
            "text/plain": [
              "<IPython.core.display.HTML object>"
            ],
            "text/html": [
              " View project at <a href='https://wandb.ai/da24m027-indian-institute-of-technology-madras/DA6401_Assignment1' target=\"_blank\">https://wandb.ai/da24m027-indian-institute-of-technology-madras/DA6401_Assignment1</a>"
            ]
          },
          "metadata": {}
        },
        {
          "output_type": "display_data",
          "data": {
            "text/plain": [
              "<IPython.core.display.HTML object>"
            ],
            "text/html": [
              " View sweep at <a href='https://wandb.ai/da24m027-indian-institute-of-technology-madras/DA6401_Assignment1/sweeps/xy966igu' target=\"_blank\">https://wandb.ai/da24m027-indian-institute-of-technology-madras/DA6401_Assignment1/sweeps/xy966igu</a>"
            ]
          },
          "metadata": {}
        },
        {
          "output_type": "display_data",
          "data": {
            "text/plain": [
              "<IPython.core.display.HTML object>"
            ],
            "text/html": [
              " View run at <a href='https://wandb.ai/da24m027-indian-institute-of-technology-madras/DA6401_Assignment1/runs/j0jkpjv0' target=\"_blank\">https://wandb.ai/da24m027-indian-institute-of-technology-madras/DA6401_Assignment1/runs/j0jkpjv0</a>"
            ]
          },
          "metadata": {}
        },
        {
          "output_type": "stream",
          "name": "stdout",
          "text": [
            "Epoch 1/10, Loss: 0.0011, Val Loss: 0.0466, Val Accuracy: 0.8362\n",
            "Epoch 2/10, Loss: 0.0007, Val Loss: 0.0433, Val Accuracy: 0.8392\n",
            "Epoch 3/10, Loss: 0.0006, Val Loss: 0.0416, Val Accuracy: 0.8465\n",
            "Epoch 4/10, Loss: 0.0006, Val Loss: 0.0393, Val Accuracy: 0.8563\n",
            "Epoch 5/10, Loss: 0.0006, Val Loss: 0.0398, Val Accuracy: 0.8527\n",
            "Epoch 6/10, Loss: 0.0006, Val Loss: 0.0392, Val Accuracy: 0.8537\n",
            "Epoch 7/10, Loss: 0.0005, Val Loss: 0.0390, Val Accuracy: 0.8538\n",
            "Epoch 8/10, Loss: 0.0005, Val Loss: 0.0372, Val Accuracy: 0.8617\n",
            "Epoch 9/10, Loss: 0.0005, Val Loss: 0.0385, Val Accuracy: 0.8540\n",
            "Epoch 10/10, Loss: 0.0005, Val Loss: 0.0384, Val Accuracy: 0.8550\n"
          ]
        },
        {
          "output_type": "display_data",
          "data": {
            "text/plain": [
              "<IPython.core.display.HTML object>"
            ],
            "text/html": []
          },
          "metadata": {}
        },
        {
          "output_type": "display_data",
          "data": {
            "text/plain": [
              "<IPython.core.display.HTML object>"
            ],
            "text/html": [
              "<br>    <style><br>        .wandb-row {<br>            display: flex;<br>            flex-direction: row;<br>            flex-wrap: wrap;<br>            justify-content: flex-start;<br>            width: 100%;<br>        }<br>        .wandb-col {<br>            display: flex;<br>            flex-direction: column;<br>            flex-basis: 100%;<br>            flex: 1;<br>            padding: 10px;<br>        }<br>    </style><br><div class=\"wandb-row\"><div class=\"wandb-col\"><h3>Run history:</h3><br/><table class=\"wandb\"><tr><td>epoch</td><td>▁▁▂▂▃▃▃▃▄▄▅▅▆▆▆▆▇▇██</td></tr><tr><td>loss</td><td>█▄▃▂▂▂▁▁▁▁</td></tr><tr><td>val_accuracy</td><td>▁▂▄▇▆▆▆█▆▆</td></tr><tr><td>val_loss</td><td>█▆▄▃▃▃▂▁▂▂</td></tr></table><br/></div><div class=\"wandb-col\"><h3>Run summary:</h3><br/><table class=\"wandb\"><tr><td>epoch</td><td>10</td></tr><tr><td>loss</td><td>0.00052</td></tr><tr><td>val_accuracy</td><td>0.855</td></tr><tr><td>val_loss</td><td>0.03842</td></tr></table><br/></div></div>"
            ]
          },
          "metadata": {}
        },
        {
          "output_type": "display_data",
          "data": {
            "text/plain": [
              "<IPython.core.display.HTML object>"
            ],
            "text/html": [
              " View run <strong style=\"color:#cdcd00\">e_10_hl_3_hs_64_lr_0.001_opt_adam_bs_64_init_Xavier_ac_ReLU_wd_0.0005_loss_cross_entropy</strong> at: <a href='https://wandb.ai/da24m027-indian-institute-of-technology-madras/DA6401_Assignment1/runs/j0jkpjv0' target=\"_blank\">https://wandb.ai/da24m027-indian-institute-of-technology-madras/DA6401_Assignment1/runs/j0jkpjv0</a><br> View project at: <a href='https://wandb.ai/da24m027-indian-institute-of-technology-madras/DA6401_Assignment1' target=\"_blank\">https://wandb.ai/da24m027-indian-institute-of-technology-madras/DA6401_Assignment1</a><br>Synced 5 W&B file(s), 0 media file(s), 0 artifact file(s) and 0 other file(s)"
            ]
          },
          "metadata": {}
        },
        {
          "output_type": "display_data",
          "data": {
            "text/plain": [
              "<IPython.core.display.HTML object>"
            ],
            "text/html": [
              "Find logs at: <code>./wandb/run-20250308_062920-j0jkpjv0/logs</code>"
            ]
          },
          "metadata": {}
        },
        {
          "output_type": "stream",
          "name": "stderr",
          "text": [
            "\u001b[34m\u001b[1mwandb\u001b[0m: Agent Starting Run: tsr31na7 with config:\n",
            "\u001b[34m\u001b[1mwandb\u001b[0m: \tactivation: ReLU\n",
            "\u001b[34m\u001b[1mwandb\u001b[0m: \tbatch_size: 32\n",
            "\u001b[34m\u001b[1mwandb\u001b[0m: \tepochs: 10\n",
            "\u001b[34m\u001b[1mwandb\u001b[0m: \thidden_layers: 4\n",
            "\u001b[34m\u001b[1mwandb\u001b[0m: \thidden_size: 64\n",
            "\u001b[34m\u001b[1mwandb\u001b[0m: \tlearning_rate: 0.001\n",
            "\u001b[34m\u001b[1mwandb\u001b[0m: \tloss_type: mse\n",
            "\u001b[34m\u001b[1mwandb\u001b[0m: \toptimizer: adam\n",
            "\u001b[34m\u001b[1mwandb\u001b[0m: \tweight_decay: 0.0005\n",
            "\u001b[34m\u001b[1mwandb\u001b[0m: \tweights: Xavier\n"
          ]
        },
        {
          "output_type": "display_data",
          "data": {
            "text/plain": [
              "<IPython.core.display.HTML object>"
            ],
            "text/html": [
              "Tracking run with wandb version 0.19.7"
            ]
          },
          "metadata": {}
        },
        {
          "output_type": "display_data",
          "data": {
            "text/plain": [
              "<IPython.core.display.HTML object>"
            ],
            "text/html": [
              "Run data is saved locally in <code>/content/wandb/run-20250308_062945-tsr31na7</code>"
            ]
          },
          "metadata": {}
        },
        {
          "output_type": "display_data",
          "data": {
            "text/plain": [
              "<IPython.core.display.HTML object>"
            ],
            "text/html": [
              "Syncing run <strong><a href='https://wandb.ai/da24m027-indian-institute-of-technology-madras/DA6401_Assignment1/runs/tsr31na7' target=\"_blank\">silvery-sweep-24</a></strong> to <a href='https://wandb.ai/da24m027-indian-institute-of-technology-madras/DA6401_Assignment1' target=\"_blank\">Weights & Biases</a> (<a href='https://wandb.me/developer-guide' target=\"_blank\">docs</a>)<br>Sweep page: <a href='https://wandb.ai/da24m027-indian-institute-of-technology-madras/DA6401_Assignment1/sweeps/xy966igu' target=\"_blank\">https://wandb.ai/da24m027-indian-institute-of-technology-madras/DA6401_Assignment1/sweeps/xy966igu</a>"
            ]
          },
          "metadata": {}
        },
        {
          "output_type": "display_data",
          "data": {
            "text/plain": [
              "<IPython.core.display.HTML object>"
            ],
            "text/html": [
              " View project at <a href='https://wandb.ai/da24m027-indian-institute-of-technology-madras/DA6401_Assignment1' target=\"_blank\">https://wandb.ai/da24m027-indian-institute-of-technology-madras/DA6401_Assignment1</a>"
            ]
          },
          "metadata": {}
        },
        {
          "output_type": "display_data",
          "data": {
            "text/plain": [
              "<IPython.core.display.HTML object>"
            ],
            "text/html": [
              " View sweep at <a href='https://wandb.ai/da24m027-indian-institute-of-technology-madras/DA6401_Assignment1/sweeps/xy966igu' target=\"_blank\">https://wandb.ai/da24m027-indian-institute-of-technology-madras/DA6401_Assignment1/sweeps/xy966igu</a>"
            ]
          },
          "metadata": {}
        },
        {
          "output_type": "display_data",
          "data": {
            "text/plain": [
              "<IPython.core.display.HTML object>"
            ],
            "text/html": [
              " View run at <a href='https://wandb.ai/da24m027-indian-institute-of-technology-madras/DA6401_Assignment1/runs/tsr31na7' target=\"_blank\">https://wandb.ai/da24m027-indian-institute-of-technology-madras/DA6401_Assignment1/runs/tsr31na7</a>"
            ]
          },
          "metadata": {}
        },
        {
          "output_type": "stream",
          "name": "stdout",
          "text": [
            "Epoch 1/10, Loss: 0.0010, Val Loss: 0.0257, Val Accuracy: 0.8473\n",
            "Epoch 2/10, Loss: 0.0008, Val Loss: 0.0250, Val Accuracy: 0.8490\n",
            "Epoch 3/10, Loss: 0.0008, Val Loss: 0.0249, Val Accuracy: 0.8553\n",
            "Epoch 4/10, Loss: 0.0007, Val Loss: 0.0240, Val Accuracy: 0.8598\n",
            "Epoch 5/10, Loss: 0.0007, Val Loss: 0.0235, Val Accuracy: 0.8597\n",
            "Epoch 6/10, Loss: 0.0007, Val Loss: 0.0240, Val Accuracy: 0.8560\n",
            "Epoch 7/10, Loss: 0.0007, Val Loss: 0.0226, Val Accuracy: 0.8652\n",
            "Epoch 8/10, Loss: 0.0007, Val Loss: 0.0223, Val Accuracy: 0.8652\n",
            "Epoch 9/10, Loss: 0.0007, Val Loss: 0.0224, Val Accuracy: 0.8658\n",
            "Epoch 10/10, Loss: 0.0007, Val Loss: 0.0228, Val Accuracy: 0.8608\n"
          ]
        },
        {
          "output_type": "display_data",
          "data": {
            "text/plain": [
              "<IPython.core.display.HTML object>"
            ],
            "text/html": []
          },
          "metadata": {}
        },
        {
          "output_type": "display_data",
          "data": {
            "text/plain": [
              "<IPython.core.display.HTML object>"
            ],
            "text/html": [
              "<br>    <style><br>        .wandb-row {<br>            display: flex;<br>            flex-direction: row;<br>            flex-wrap: wrap;<br>            justify-content: flex-start;<br>            width: 100%;<br>        }<br>        .wandb-col {<br>            display: flex;<br>            flex-direction: column;<br>            flex-basis: 100%;<br>            flex: 1;<br>            padding: 10px;<br>        }<br>    </style><br><div class=\"wandb-row\"><div class=\"wandb-col\"><h3>Run history:</h3><br/><table class=\"wandb\"><tr><td>epoch</td><td>▁▁▂▂▃▃▃▃▄▄▅▅▆▆▆▆▇▇██</td></tr><tr><td>loss</td><td>█▃▂▂▂▁▁▁▁▁</td></tr><tr><td>val_accuracy</td><td>▁▂▄▆▆▄███▆</td></tr><tr><td>val_loss</td><td>█▇▆▄▃▄▂▁▁▂</td></tr></table><br/></div><div class=\"wandb-col\"><h3>Run summary:</h3><br/><table class=\"wandb\"><tr><td>epoch</td><td>10</td></tr><tr><td>loss</td><td>0.0007</td></tr><tr><td>val_accuracy</td><td>0.86083</td></tr><tr><td>val_loss</td><td>0.0228</td></tr></table><br/></div></div>"
            ]
          },
          "metadata": {}
        },
        {
          "output_type": "display_data",
          "data": {
            "text/plain": [
              "<IPython.core.display.HTML object>"
            ],
            "text/html": [
              " View run <strong style=\"color:#cdcd00\">e_10_hl_4_hs_64_lr_0.001_opt_adam_bs_32_init_Xavier_ac_ReLU_wd_0.0005_loss_mse</strong> at: <a href='https://wandb.ai/da24m027-indian-institute-of-technology-madras/DA6401_Assignment1/runs/tsr31na7' target=\"_blank\">https://wandb.ai/da24m027-indian-institute-of-technology-madras/DA6401_Assignment1/runs/tsr31na7</a><br> View project at: <a href='https://wandb.ai/da24m027-indian-institute-of-technology-madras/DA6401_Assignment1' target=\"_blank\">https://wandb.ai/da24m027-indian-institute-of-technology-madras/DA6401_Assignment1</a><br>Synced 5 W&B file(s), 0 media file(s), 0 artifact file(s) and 0 other file(s)"
            ]
          },
          "metadata": {}
        },
        {
          "output_type": "display_data",
          "data": {
            "text/plain": [
              "<IPython.core.display.HTML object>"
            ],
            "text/html": [
              "Find logs at: <code>./wandb/run-20250308_062945-tsr31na7/logs</code>"
            ]
          },
          "metadata": {}
        },
        {
          "output_type": "stream",
          "name": "stderr",
          "text": [
            "\u001b[34m\u001b[1mwandb\u001b[0m: Sweep Agent: Waiting for job.\n",
            "\u001b[34m\u001b[1mwandb\u001b[0m: Job received.\n",
            "\u001b[34m\u001b[1mwandb\u001b[0m: Agent Starting Run: poihedgz with config:\n",
            "\u001b[34m\u001b[1mwandb\u001b[0m: \tactivation: ReLU\n",
            "\u001b[34m\u001b[1mwandb\u001b[0m: \tbatch_size: 64\n",
            "\u001b[34m\u001b[1mwandb\u001b[0m: \tepochs: 10\n",
            "\u001b[34m\u001b[1mwandb\u001b[0m: \thidden_layers: 4\n",
            "\u001b[34m\u001b[1mwandb\u001b[0m: \thidden_size: 64\n",
            "\u001b[34m\u001b[1mwandb\u001b[0m: \tlearning_rate: 0.0001\n",
            "\u001b[34m\u001b[1mwandb\u001b[0m: \tloss_type: cross_entropy\n",
            "\u001b[34m\u001b[1mwandb\u001b[0m: \toptimizer: nadam\n",
            "\u001b[34m\u001b[1mwandb\u001b[0m: \tweight_decay: 0.0005\n",
            "\u001b[34m\u001b[1mwandb\u001b[0m: \tweights: Xavier\n"
          ]
        },
        {
          "output_type": "display_data",
          "data": {
            "text/plain": [
              "<IPython.core.display.HTML object>"
            ],
            "text/html": [
              "Tracking run with wandb version 0.19.7"
            ]
          },
          "metadata": {}
        },
        {
          "output_type": "display_data",
          "data": {
            "text/plain": [
              "<IPython.core.display.HTML object>"
            ],
            "text/html": [
              "Run data is saved locally in <code>/content/wandb/run-20250308_063036-poihedgz</code>"
            ]
          },
          "metadata": {}
        },
        {
          "output_type": "display_data",
          "data": {
            "text/plain": [
              "<IPython.core.display.HTML object>"
            ],
            "text/html": [
              "Syncing run <strong><a href='https://wandb.ai/da24m027-indian-institute-of-technology-madras/DA6401_Assignment1/runs/poihedgz' target=\"_blank\">zany-sweep-25</a></strong> to <a href='https://wandb.ai/da24m027-indian-institute-of-technology-madras/DA6401_Assignment1' target=\"_blank\">Weights & Biases</a> (<a href='https://wandb.me/developer-guide' target=\"_blank\">docs</a>)<br>Sweep page: <a href='https://wandb.ai/da24m027-indian-institute-of-technology-madras/DA6401_Assignment1/sweeps/xy966igu' target=\"_blank\">https://wandb.ai/da24m027-indian-institute-of-technology-madras/DA6401_Assignment1/sweeps/xy966igu</a>"
            ]
          },
          "metadata": {}
        },
        {
          "output_type": "display_data",
          "data": {
            "text/plain": [
              "<IPython.core.display.HTML object>"
            ],
            "text/html": [
              " View project at <a href='https://wandb.ai/da24m027-indian-institute-of-technology-madras/DA6401_Assignment1' target=\"_blank\">https://wandb.ai/da24m027-indian-institute-of-technology-madras/DA6401_Assignment1</a>"
            ]
          },
          "metadata": {}
        },
        {
          "output_type": "display_data",
          "data": {
            "text/plain": [
              "<IPython.core.display.HTML object>"
            ],
            "text/html": [
              " View sweep at <a href='https://wandb.ai/da24m027-indian-institute-of-technology-madras/DA6401_Assignment1/sweeps/xy966igu' target=\"_blank\">https://wandb.ai/da24m027-indian-institute-of-technology-madras/DA6401_Assignment1/sweeps/xy966igu</a>"
            ]
          },
          "metadata": {}
        },
        {
          "output_type": "display_data",
          "data": {
            "text/plain": [
              "<IPython.core.display.HTML object>"
            ],
            "text/html": [
              " View run at <a href='https://wandb.ai/da24m027-indian-institute-of-technology-madras/DA6401_Assignment1/runs/poihedgz' target=\"_blank\">https://wandb.ai/da24m027-indian-institute-of-technology-madras/DA6401_Assignment1/runs/poihedgz</a>"
            ]
          },
          "metadata": {}
        },
        {
          "output_type": "stream",
          "name": "stdout",
          "text": [
            "Epoch 1/10, Loss: nan, Val Loss: nan, Val Accuracy: 0.0933\n",
            "Epoch 2/10, Loss: nan, Val Loss: nan, Val Accuracy: 0.0933\n",
            "Epoch 3/10, Loss: nan, Val Loss: nan, Val Accuracy: 0.0933\n",
            "Epoch 4/10, Loss: nan, Val Loss: nan, Val Accuracy: 0.0933\n",
            "Epoch 5/10, Loss: nan, Val Loss: nan, Val Accuracy: 0.0933\n",
            "Epoch 6/10, Loss: nan, Val Loss: nan, Val Accuracy: 0.0933\n",
            "Epoch 7/10, Loss: nan, Val Loss: nan, Val Accuracy: 0.0933\n",
            "Epoch 8/10, Loss: nan, Val Loss: nan, Val Accuracy: 0.0933\n",
            "Epoch 9/10, Loss: nan, Val Loss: nan, Val Accuracy: 0.0933\n",
            "Epoch 10/10, Loss: nan, Val Loss: nan, Val Accuracy: 0.0933\n"
          ]
        },
        {
          "output_type": "display_data",
          "data": {
            "text/plain": [
              "<IPython.core.display.HTML object>"
            ],
            "text/html": []
          },
          "metadata": {}
        },
        {
          "output_type": "display_data",
          "data": {
            "text/plain": [
              "<IPython.core.display.HTML object>"
            ],
            "text/html": [
              "<br>    <style><br>        .wandb-row {<br>            display: flex;<br>            flex-direction: row;<br>            flex-wrap: wrap;<br>            justify-content: flex-start;<br>            width: 100%;<br>        }<br>        .wandb-col {<br>            display: flex;<br>            flex-direction: column;<br>            flex-basis: 100%;<br>            flex: 1;<br>            padding: 10px;<br>        }<br>    </style><br><div class=\"wandb-row\"><div class=\"wandb-col\"><h3>Run history:</h3><br/><table class=\"wandb\"><tr><td>epoch</td><td>▁▁▂▂▃▃▃▃▄▄▅▅▆▆▆▆▇▇██</td></tr><tr><td>val_accuracy</td><td>▁▁▁▁▁▁▁▁▁▁</td></tr></table><br/></div><div class=\"wandb-col\"><h3>Run summary:</h3><br/><table class=\"wandb\"><tr><td>epoch</td><td>10</td></tr><tr><td>loss</td><td>nan</td></tr><tr><td>val_accuracy</td><td>0.09333</td></tr><tr><td>val_loss</td><td>nan</td></tr></table><br/></div></div>"
            ]
          },
          "metadata": {}
        },
        {
          "output_type": "display_data",
          "data": {
            "text/plain": [
              "<IPython.core.display.HTML object>"
            ],
            "text/html": [
              " View run <strong style=\"color:#cdcd00\">e_10_hl_4_hs_64_lr_0.0001_opt_nadam_bs_64_init_Xavier_ac_ReLU_wd_0.0005_loss_cross_entropy</strong> at: <a href='https://wandb.ai/da24m027-indian-institute-of-technology-madras/DA6401_Assignment1/runs/poihedgz' target=\"_blank\">https://wandb.ai/da24m027-indian-institute-of-technology-madras/DA6401_Assignment1/runs/poihedgz</a><br> View project at: <a href='https://wandb.ai/da24m027-indian-institute-of-technology-madras/DA6401_Assignment1' target=\"_blank\">https://wandb.ai/da24m027-indian-institute-of-technology-madras/DA6401_Assignment1</a><br>Synced 5 W&B file(s), 0 media file(s), 0 artifact file(s) and 0 other file(s)"
            ]
          },
          "metadata": {}
        },
        {
          "output_type": "display_data",
          "data": {
            "text/plain": [
              "<IPython.core.display.HTML object>"
            ],
            "text/html": [
              "Find logs at: <code>./wandb/run-20250308_063036-poihedgz/logs</code>"
            ]
          },
          "metadata": {}
        },
        {
          "output_type": "stream",
          "name": "stderr",
          "text": [
            "\u001b[34m\u001b[1mwandb\u001b[0m: Sweep Agent: Waiting for job.\n",
            "\u001b[34m\u001b[1mwandb\u001b[0m: Job received.\n",
            "\u001b[34m\u001b[1mwandb\u001b[0m: Agent Starting Run: uume7iqp with config:\n",
            "\u001b[34m\u001b[1mwandb\u001b[0m: \tactivation: tanh\n",
            "\u001b[34m\u001b[1mwandb\u001b[0m: \tbatch_size: 64\n",
            "\u001b[34m\u001b[1mwandb\u001b[0m: \tepochs: 5\n",
            "\u001b[34m\u001b[1mwandb\u001b[0m: \thidden_layers: 4\n",
            "\u001b[34m\u001b[1mwandb\u001b[0m: \thidden_size: 64\n",
            "\u001b[34m\u001b[1mwandb\u001b[0m: \tlearning_rate: 0.0001\n",
            "\u001b[34m\u001b[1mwandb\u001b[0m: \tloss_type: mse\n",
            "\u001b[34m\u001b[1mwandb\u001b[0m: \toptimizer: nesterov\n",
            "\u001b[34m\u001b[1mwandb\u001b[0m: \tweight_decay: 0.0005\n",
            "\u001b[34m\u001b[1mwandb\u001b[0m: \tweights: Xavier\n"
          ]
        },
        {
          "output_type": "display_data",
          "data": {
            "text/plain": [
              "<IPython.core.display.HTML object>"
            ],
            "text/html": [
              "Tracking run with wandb version 0.19.7"
            ]
          },
          "metadata": {}
        },
        {
          "output_type": "display_data",
          "data": {
            "text/plain": [
              "<IPython.core.display.HTML object>"
            ],
            "text/html": [
              "Run data is saved locally in <code>/content/wandb/run-20250308_063112-uume7iqp</code>"
            ]
          },
          "metadata": {}
        },
        {
          "output_type": "display_data",
          "data": {
            "text/plain": [
              "<IPython.core.display.HTML object>"
            ],
            "text/html": [
              "Syncing run <strong><a href='https://wandb.ai/da24m027-indian-institute-of-technology-madras/DA6401_Assignment1/runs/uume7iqp' target=\"_blank\">true-sweep-26</a></strong> to <a href='https://wandb.ai/da24m027-indian-institute-of-technology-madras/DA6401_Assignment1' target=\"_blank\">Weights & Biases</a> (<a href='https://wandb.me/developer-guide' target=\"_blank\">docs</a>)<br>Sweep page: <a href='https://wandb.ai/da24m027-indian-institute-of-technology-madras/DA6401_Assignment1/sweeps/xy966igu' target=\"_blank\">https://wandb.ai/da24m027-indian-institute-of-technology-madras/DA6401_Assignment1/sweeps/xy966igu</a>"
            ]
          },
          "metadata": {}
        },
        {
          "output_type": "display_data",
          "data": {
            "text/plain": [
              "<IPython.core.display.HTML object>"
            ],
            "text/html": [
              " View project at <a href='https://wandb.ai/da24m027-indian-institute-of-technology-madras/DA6401_Assignment1' target=\"_blank\">https://wandb.ai/da24m027-indian-institute-of-technology-madras/DA6401_Assignment1</a>"
            ]
          },
          "metadata": {}
        },
        {
          "output_type": "display_data",
          "data": {
            "text/plain": [
              "<IPython.core.display.HTML object>"
            ],
            "text/html": [
              " View sweep at <a href='https://wandb.ai/da24m027-indian-institute-of-technology-madras/DA6401_Assignment1/sweeps/xy966igu' target=\"_blank\">https://wandb.ai/da24m027-indian-institute-of-technology-madras/DA6401_Assignment1/sweeps/xy966igu</a>"
            ]
          },
          "metadata": {}
        },
        {
          "output_type": "display_data",
          "data": {
            "text/plain": [
              "<IPython.core.display.HTML object>"
            ],
            "text/html": [
              " View run at <a href='https://wandb.ai/da24m027-indian-institute-of-technology-madras/DA6401_Assignment1/runs/uume7iqp' target=\"_blank\">https://wandb.ai/da24m027-indian-institute-of-technology-madras/DA6401_Assignment1/runs/uume7iqp</a>"
            ]
          },
          "metadata": {}
        },
        {
          "output_type": "stream",
          "name": "stdout",
          "text": [
            "Epoch 1/5, Loss: 0.0015, Val Loss: 0.0894, Val Accuracy: 0.2312\n",
            "Epoch 2/5, Loss: 0.0014, Val Loss: 0.0840, Val Accuracy: 0.3652\n",
            "Epoch 3/5, Loss: 0.0013, Val Loss: 0.0802, Val Accuracy: 0.4917\n",
            "Epoch 4/5, Loss: 0.0012, Val Loss: 0.0770, Val Accuracy: 0.5293\n",
            "Epoch 5/5, Loss: 0.0012, Val Loss: 0.0743, Val Accuracy: 0.5692\n"
          ]
        },
        {
          "output_type": "display_data",
          "data": {
            "text/plain": [
              "<IPython.core.display.HTML object>"
            ],
            "text/html": []
          },
          "metadata": {}
        },
        {
          "output_type": "display_data",
          "data": {
            "text/plain": [
              "<IPython.core.display.HTML object>"
            ],
            "text/html": [
              "<br>    <style><br>        .wandb-row {<br>            display: flex;<br>            flex-direction: row;<br>            flex-wrap: wrap;<br>            justify-content: flex-start;<br>            width: 100%;<br>        }<br>        .wandb-col {<br>            display: flex;<br>            flex-direction: column;<br>            flex-basis: 100%;<br>            flex: 1;<br>            padding: 10px;<br>        }<br>    </style><br><div class=\"wandb-row\"><div class=\"wandb-col\"><h3>Run history:</h3><br/><table class=\"wandb\"><tr><td>epoch</td><td>▁▁▃▃▅▅▆▆██</td></tr><tr><td>loss</td><td>█▅▃▂▁</td></tr><tr><td>val_accuracy</td><td>▁▄▆▇█</td></tr><tr><td>val_loss</td><td>█▅▄▂▁</td></tr></table><br/></div><div class=\"wandb-col\"><h3>Run summary:</h3><br/><table class=\"wandb\"><tr><td>epoch</td><td>5</td></tr><tr><td>loss</td><td>0.00119</td></tr><tr><td>val_accuracy</td><td>0.56917</td></tr><tr><td>val_loss</td><td>0.07435</td></tr></table><br/></div></div>"
            ]
          },
          "metadata": {}
        },
        {
          "output_type": "display_data",
          "data": {
            "text/plain": [
              "<IPython.core.display.HTML object>"
            ],
            "text/html": [
              " View run <strong style=\"color:#cdcd00\">e_5_hl_4_hs_64_lr_0.0001_opt_nesterov_bs_64_init_Xavier_ac_tanh_wd_0.0005_loss_mse</strong> at: <a href='https://wandb.ai/da24m027-indian-institute-of-technology-madras/DA6401_Assignment1/runs/uume7iqp' target=\"_blank\">https://wandb.ai/da24m027-indian-institute-of-technology-madras/DA6401_Assignment1/runs/uume7iqp</a><br> View project at: <a href='https://wandb.ai/da24m027-indian-institute-of-technology-madras/DA6401_Assignment1' target=\"_blank\">https://wandb.ai/da24m027-indian-institute-of-technology-madras/DA6401_Assignment1</a><br>Synced 5 W&B file(s), 0 media file(s), 0 artifact file(s) and 0 other file(s)"
            ]
          },
          "metadata": {}
        },
        {
          "output_type": "display_data",
          "data": {
            "text/plain": [
              "<IPython.core.display.HTML object>"
            ],
            "text/html": [
              "Find logs at: <code>./wandb/run-20250308_063112-uume7iqp/logs</code>"
            ]
          },
          "metadata": {}
        },
        {
          "output_type": "stream",
          "name": "stderr",
          "text": [
            "\u001b[34m\u001b[1mwandb\u001b[0m: Agent Starting Run: fip3g1dz with config:\n",
            "\u001b[34m\u001b[1mwandb\u001b[0m: \tactivation: tanh\n",
            "\u001b[34m\u001b[1mwandb\u001b[0m: \tbatch_size: 64\n",
            "\u001b[34m\u001b[1mwandb\u001b[0m: \tepochs: 10\n",
            "\u001b[34m\u001b[1mwandb\u001b[0m: \thidden_layers: 5\n",
            "\u001b[34m\u001b[1mwandb\u001b[0m: \thidden_size: 64\n",
            "\u001b[34m\u001b[1mwandb\u001b[0m: \tlearning_rate: 0.001\n",
            "\u001b[34m\u001b[1mwandb\u001b[0m: \tloss_type: cross_entropy\n",
            "\u001b[34m\u001b[1mwandb\u001b[0m: \toptimizer: adam\n",
            "\u001b[34m\u001b[1mwandb\u001b[0m: \tweight_decay: 0.0005\n",
            "\u001b[34m\u001b[1mwandb\u001b[0m: \tweights: Xavier\n"
          ]
        },
        {
          "output_type": "display_data",
          "data": {
            "text/plain": [
              "<IPython.core.display.HTML object>"
            ],
            "text/html": [
              "Tracking run with wandb version 0.19.7"
            ]
          },
          "metadata": {}
        },
        {
          "output_type": "display_data",
          "data": {
            "text/plain": [
              "<IPython.core.display.HTML object>"
            ],
            "text/html": [
              "Run data is saved locally in <code>/content/wandb/run-20250308_063129-fip3g1dz</code>"
            ]
          },
          "metadata": {}
        },
        {
          "output_type": "display_data",
          "data": {
            "text/plain": [
              "<IPython.core.display.HTML object>"
            ],
            "text/html": [
              "Syncing run <strong><a href='https://wandb.ai/da24m027-indian-institute-of-technology-madras/DA6401_Assignment1/runs/fip3g1dz' target=\"_blank\">revived-sweep-27</a></strong> to <a href='https://wandb.ai/da24m027-indian-institute-of-technology-madras/DA6401_Assignment1' target=\"_blank\">Weights & Biases</a> (<a href='https://wandb.me/developer-guide' target=\"_blank\">docs</a>)<br>Sweep page: <a href='https://wandb.ai/da24m027-indian-institute-of-technology-madras/DA6401_Assignment1/sweeps/xy966igu' target=\"_blank\">https://wandb.ai/da24m027-indian-institute-of-technology-madras/DA6401_Assignment1/sweeps/xy966igu</a>"
            ]
          },
          "metadata": {}
        },
        {
          "output_type": "display_data",
          "data": {
            "text/plain": [
              "<IPython.core.display.HTML object>"
            ],
            "text/html": [
              " View project at <a href='https://wandb.ai/da24m027-indian-institute-of-technology-madras/DA6401_Assignment1' target=\"_blank\">https://wandb.ai/da24m027-indian-institute-of-technology-madras/DA6401_Assignment1</a>"
            ]
          },
          "metadata": {}
        },
        {
          "output_type": "display_data",
          "data": {
            "text/plain": [
              "<IPython.core.display.HTML object>"
            ],
            "text/html": [
              " View sweep at <a href='https://wandb.ai/da24m027-indian-institute-of-technology-madras/DA6401_Assignment1/sweeps/xy966igu' target=\"_blank\">https://wandb.ai/da24m027-indian-institute-of-technology-madras/DA6401_Assignment1/sweeps/xy966igu</a>"
            ]
          },
          "metadata": {}
        },
        {
          "output_type": "display_data",
          "data": {
            "text/plain": [
              "<IPython.core.display.HTML object>"
            ],
            "text/html": [
              " View run at <a href='https://wandb.ai/da24m027-indian-institute-of-technology-madras/DA6401_Assignment1/runs/fip3g1dz' target=\"_blank\">https://wandb.ai/da24m027-indian-institute-of-technology-madras/DA6401_Assignment1/runs/fip3g1dz</a>"
            ]
          },
          "metadata": {}
        },
        {
          "output_type": "stream",
          "name": "stdout",
          "text": [
            "Epoch 1/10, Loss: 0.0010, Val Loss: 0.0454, Val Accuracy: 0.8403\n",
            "Epoch 2/10, Loss: 0.0007, Val Loss: 0.0425, Val Accuracy: 0.8530\n",
            "Epoch 3/10, Loss: 0.0006, Val Loss: 0.0419, Val Accuracy: 0.8542\n",
            "Epoch 4/10, Loss: 0.0006, Val Loss: 0.0421, Val Accuracy: 0.8523\n",
            "Epoch 5/10, Loss: 0.0006, Val Loss: 0.0413, Val Accuracy: 0.8575\n",
            "Epoch 6/10, Loss: 0.0006, Val Loss: 0.0412, Val Accuracy: 0.8558\n",
            "Epoch 7/10, Loss: 0.0006, Val Loss: 0.0414, Val Accuracy: 0.8558\n",
            "Epoch 8/10, Loss: 0.0005, Val Loss: 0.0413, Val Accuracy: 0.8542\n",
            "Epoch 9/10, Loss: 0.0005, Val Loss: 0.0416, Val Accuracy: 0.8550\n",
            "Epoch 10/10, Loss: 0.0005, Val Loss: 0.0420, Val Accuracy: 0.8523\n"
          ]
        },
        {
          "output_type": "display_data",
          "data": {
            "text/plain": [
              "<IPython.core.display.HTML object>"
            ],
            "text/html": []
          },
          "metadata": {}
        },
        {
          "output_type": "display_data",
          "data": {
            "text/plain": [
              "<IPython.core.display.HTML object>"
            ],
            "text/html": [
              "<br>    <style><br>        .wandb-row {<br>            display: flex;<br>            flex-direction: row;<br>            flex-wrap: wrap;<br>            justify-content: flex-start;<br>            width: 100%;<br>        }<br>        .wandb-col {<br>            display: flex;<br>            flex-direction: column;<br>            flex-basis: 100%;<br>            flex: 1;<br>            padding: 10px;<br>        }<br>    </style><br><div class=\"wandb-row\"><div class=\"wandb-col\"><h3>Run history:</h3><br/><table class=\"wandb\"><tr><td>epoch</td><td>▁▁▂▂▃▃▃▃▄▄▅▅▆▆▆▆▇▇██</td></tr><tr><td>loss</td><td>█▃▃▂▂▂▁▁▁▁</td></tr><tr><td>val_accuracy</td><td>▁▆▇▆█▇▇▇▇▆</td></tr><tr><td>val_loss</td><td>█▃▂▃▁▁▁▁▂▂</td></tr></table><br/></div><div class=\"wandb-col\"><h3>Run summary:</h3><br/><table class=\"wandb\"><tr><td>epoch</td><td>10</td></tr><tr><td>loss</td><td>0.00052</td></tr><tr><td>val_accuracy</td><td>0.85233</td></tr><tr><td>val_loss</td><td>0.04202</td></tr></table><br/></div></div>"
            ]
          },
          "metadata": {}
        },
        {
          "output_type": "display_data",
          "data": {
            "text/plain": [
              "<IPython.core.display.HTML object>"
            ],
            "text/html": [
              " View run <strong style=\"color:#cdcd00\">e_10_hl_5_hs_64_lr_0.001_opt_adam_bs_64_init_Xavier_ac_tanh_wd_0.0005_loss_cross_entropy</strong> at: <a href='https://wandb.ai/da24m027-indian-institute-of-technology-madras/DA6401_Assignment1/runs/fip3g1dz' target=\"_blank\">https://wandb.ai/da24m027-indian-institute-of-technology-madras/DA6401_Assignment1/runs/fip3g1dz</a><br> View project at: <a href='https://wandb.ai/da24m027-indian-institute-of-technology-madras/DA6401_Assignment1' target=\"_blank\">https://wandb.ai/da24m027-indian-institute-of-technology-madras/DA6401_Assignment1</a><br>Synced 5 W&B file(s), 0 media file(s), 0 artifact file(s) and 0 other file(s)"
            ]
          },
          "metadata": {}
        },
        {
          "output_type": "display_data",
          "data": {
            "text/plain": [
              "<IPython.core.display.HTML object>"
            ],
            "text/html": [
              "Find logs at: <code>./wandb/run-20250308_063129-fip3g1dz/logs</code>"
            ]
          },
          "metadata": {}
        },
        {
          "output_type": "stream",
          "name": "stderr",
          "text": [
            "\u001b[34m\u001b[1mwandb\u001b[0m: Sweep Agent: Waiting for job.\n",
            "\u001b[34m\u001b[1mwandb\u001b[0m: Job received.\n",
            "\u001b[34m\u001b[1mwandb\u001b[0m: Agent Starting Run: g7z8z4b8 with config:\n",
            "\u001b[34m\u001b[1mwandb\u001b[0m: \tactivation: ReLU\n",
            "\u001b[34m\u001b[1mwandb\u001b[0m: \tbatch_size: 64\n",
            "\u001b[34m\u001b[1mwandb\u001b[0m: \tepochs: 10\n",
            "\u001b[34m\u001b[1mwandb\u001b[0m: \thidden_layers: 5\n",
            "\u001b[34m\u001b[1mwandb\u001b[0m: \thidden_size: 128\n",
            "\u001b[34m\u001b[1mwandb\u001b[0m: \tlearning_rate: 0.001\n",
            "\u001b[34m\u001b[1mwandb\u001b[0m: \tloss_type: cross_entropy\n",
            "\u001b[34m\u001b[1mwandb\u001b[0m: \toptimizer: nadam\n",
            "\u001b[34m\u001b[1mwandb\u001b[0m: \tweight_decay: 0.0005\n",
            "\u001b[34m\u001b[1mwandb\u001b[0m: \tweights: Xavier\n"
          ]
        },
        {
          "output_type": "display_data",
          "data": {
            "text/plain": [
              "<IPython.core.display.HTML object>"
            ],
            "text/html": [
              "Tracking run with wandb version 0.19.7"
            ]
          },
          "metadata": {}
        },
        {
          "output_type": "display_data",
          "data": {
            "text/plain": [
              "<IPython.core.display.HTML object>"
            ],
            "text/html": [
              "Run data is saved locally in <code>/content/wandb/run-20250308_063210-g7z8z4b8</code>"
            ]
          },
          "metadata": {}
        },
        {
          "output_type": "display_data",
          "data": {
            "text/plain": [
              "<IPython.core.display.HTML object>"
            ],
            "text/html": [
              "Syncing run <strong><a href='https://wandb.ai/da24m027-indian-institute-of-technology-madras/DA6401_Assignment1/runs/g7z8z4b8' target=\"_blank\">drawn-sweep-28</a></strong> to <a href='https://wandb.ai/da24m027-indian-institute-of-technology-madras/DA6401_Assignment1' target=\"_blank\">Weights & Biases</a> (<a href='https://wandb.me/developer-guide' target=\"_blank\">docs</a>)<br>Sweep page: <a href='https://wandb.ai/da24m027-indian-institute-of-technology-madras/DA6401_Assignment1/sweeps/xy966igu' target=\"_blank\">https://wandb.ai/da24m027-indian-institute-of-technology-madras/DA6401_Assignment1/sweeps/xy966igu</a>"
            ]
          },
          "metadata": {}
        },
        {
          "output_type": "display_data",
          "data": {
            "text/plain": [
              "<IPython.core.display.HTML object>"
            ],
            "text/html": [
              " View project at <a href='https://wandb.ai/da24m027-indian-institute-of-technology-madras/DA6401_Assignment1' target=\"_blank\">https://wandb.ai/da24m027-indian-institute-of-technology-madras/DA6401_Assignment1</a>"
            ]
          },
          "metadata": {}
        },
        {
          "output_type": "display_data",
          "data": {
            "text/plain": [
              "<IPython.core.display.HTML object>"
            ],
            "text/html": [
              " View sweep at <a href='https://wandb.ai/da24m027-indian-institute-of-technology-madras/DA6401_Assignment1/sweeps/xy966igu' target=\"_blank\">https://wandb.ai/da24m027-indian-institute-of-technology-madras/DA6401_Assignment1/sweeps/xy966igu</a>"
            ]
          },
          "metadata": {}
        },
        {
          "output_type": "display_data",
          "data": {
            "text/plain": [
              "<IPython.core.display.HTML object>"
            ],
            "text/html": [
              " View run at <a href='https://wandb.ai/da24m027-indian-institute-of-technology-madras/DA6401_Assignment1/runs/g7z8z4b8' target=\"_blank\">https://wandb.ai/da24m027-indian-institute-of-technology-madras/DA6401_Assignment1/runs/g7z8z4b8</a>"
            ]
          },
          "metadata": {}
        },
        {
          "output_type": "stream",
          "name": "stdout",
          "text": [
            "Epoch 1/10, Loss: nan, Val Loss: nan, Val Accuracy: 0.0933\n",
            "Epoch 2/10, Loss: nan, Val Loss: nan, Val Accuracy: 0.0933\n",
            "Epoch 3/10, Loss: nan, Val Loss: nan, Val Accuracy: 0.0933\n",
            "Epoch 4/10, Loss: nan, Val Loss: nan, Val Accuracy: 0.0933\n",
            "Epoch 5/10, Loss: nan, Val Loss: nan, Val Accuracy: 0.0933\n",
            "Epoch 6/10, Loss: nan, Val Loss: nan, Val Accuracy: 0.0933\n",
            "Epoch 7/10, Loss: nan, Val Loss: nan, Val Accuracy: 0.0933\n",
            "Epoch 8/10, Loss: nan, Val Loss: nan, Val Accuracy: 0.0933\n",
            "Epoch 9/10, Loss: nan, Val Loss: nan, Val Accuracy: 0.0933\n",
            "Epoch 10/10, Loss: nan, Val Loss: nan, Val Accuracy: 0.0933\n"
          ]
        },
        {
          "output_type": "display_data",
          "data": {
            "text/plain": [
              "<IPython.core.display.HTML object>"
            ],
            "text/html": []
          },
          "metadata": {}
        },
        {
          "output_type": "display_data",
          "data": {
            "text/plain": [
              "<IPython.core.display.HTML object>"
            ],
            "text/html": [
              "<br>    <style><br>        .wandb-row {<br>            display: flex;<br>            flex-direction: row;<br>            flex-wrap: wrap;<br>            justify-content: flex-start;<br>            width: 100%;<br>        }<br>        .wandb-col {<br>            display: flex;<br>            flex-direction: column;<br>            flex-basis: 100%;<br>            flex: 1;<br>            padding: 10px;<br>        }<br>    </style><br><div class=\"wandb-row\"><div class=\"wandb-col\"><h3>Run history:</h3><br/><table class=\"wandb\"><tr><td>epoch</td><td>▁▁▂▂▃▃▃▃▄▄▅▅▆▆▆▆▇▇██</td></tr><tr><td>val_accuracy</td><td>▁▁▁▁▁▁▁▁▁▁</td></tr></table><br/></div><div class=\"wandb-col\"><h3>Run summary:</h3><br/><table class=\"wandb\"><tr><td>epoch</td><td>10</td></tr><tr><td>loss</td><td>nan</td></tr><tr><td>val_accuracy</td><td>0.09333</td></tr><tr><td>val_loss</td><td>nan</td></tr></table><br/></div></div>"
            ]
          },
          "metadata": {}
        },
        {
          "output_type": "display_data",
          "data": {
            "text/plain": [
              "<IPython.core.display.HTML object>"
            ],
            "text/html": [
              " View run <strong style=\"color:#cdcd00\">e_10_hl_5_hs_128_lr_0.001_opt_nadam_bs_64_init_Xavier_ac_ReLU_wd_0.0005_loss_cross_entropy</strong> at: <a href='https://wandb.ai/da24m027-indian-institute-of-technology-madras/DA6401_Assignment1/runs/g7z8z4b8' target=\"_blank\">https://wandb.ai/da24m027-indian-institute-of-technology-madras/DA6401_Assignment1/runs/g7z8z4b8</a><br> View project at: <a href='https://wandb.ai/da24m027-indian-institute-of-technology-madras/DA6401_Assignment1' target=\"_blank\">https://wandb.ai/da24m027-indian-institute-of-technology-madras/DA6401_Assignment1</a><br>Synced 5 W&B file(s), 0 media file(s), 0 artifact file(s) and 0 other file(s)"
            ]
          },
          "metadata": {}
        },
        {
          "output_type": "display_data",
          "data": {
            "text/plain": [
              "<IPython.core.display.HTML object>"
            ],
            "text/html": [
              "Find logs at: <code>./wandb/run-20250308_063210-g7z8z4b8/logs</code>"
            ]
          },
          "metadata": {}
        },
        {
          "output_type": "stream",
          "name": "stderr",
          "text": [
            "\u001b[34m\u001b[1mwandb\u001b[0m: Agent Starting Run: 6i55a3nh with config:\n",
            "\u001b[34m\u001b[1mwandb\u001b[0m: \tactivation: tanh\n",
            "\u001b[34m\u001b[1mwandb\u001b[0m: \tbatch_size: 32\n",
            "\u001b[34m\u001b[1mwandb\u001b[0m: \tepochs: 10\n",
            "\u001b[34m\u001b[1mwandb\u001b[0m: \thidden_layers: 4\n",
            "\u001b[34m\u001b[1mwandb\u001b[0m: \thidden_size: 128\n",
            "\u001b[34m\u001b[1mwandb\u001b[0m: \tlearning_rate: 0.0001\n",
            "\u001b[34m\u001b[1mwandb\u001b[0m: \tloss_type: mse\n",
            "\u001b[34m\u001b[1mwandb\u001b[0m: \toptimizer: nesterov\n",
            "\u001b[34m\u001b[1mwandb\u001b[0m: \tweight_decay: 0.0005\n",
            "\u001b[34m\u001b[1mwandb\u001b[0m: \tweights: Xavier\n"
          ]
        },
        {
          "output_type": "display_data",
          "data": {
            "text/plain": [
              "<IPython.core.display.HTML object>"
            ],
            "text/html": [
              "Tracking run with wandb version 0.19.7"
            ]
          },
          "metadata": {}
        },
        {
          "output_type": "display_data",
          "data": {
            "text/plain": [
              "<IPython.core.display.HTML object>"
            ],
            "text/html": [
              "Run data is saved locally in <code>/content/wandb/run-20250308_063306-6i55a3nh</code>"
            ]
          },
          "metadata": {}
        },
        {
          "output_type": "display_data",
          "data": {
            "text/plain": [
              "<IPython.core.display.HTML object>"
            ],
            "text/html": [
              "Syncing run <strong><a href='https://wandb.ai/da24m027-indian-institute-of-technology-madras/DA6401_Assignment1/runs/6i55a3nh' target=\"_blank\">eager-sweep-29</a></strong> to <a href='https://wandb.ai/da24m027-indian-institute-of-technology-madras/DA6401_Assignment1' target=\"_blank\">Weights & Biases</a> (<a href='https://wandb.me/developer-guide' target=\"_blank\">docs</a>)<br>Sweep page: <a href='https://wandb.ai/da24m027-indian-institute-of-technology-madras/DA6401_Assignment1/sweeps/xy966igu' target=\"_blank\">https://wandb.ai/da24m027-indian-institute-of-technology-madras/DA6401_Assignment1/sweeps/xy966igu</a>"
            ]
          },
          "metadata": {}
        },
        {
          "output_type": "display_data",
          "data": {
            "text/plain": [
              "<IPython.core.display.HTML object>"
            ],
            "text/html": [
              " View project at <a href='https://wandb.ai/da24m027-indian-institute-of-technology-madras/DA6401_Assignment1' target=\"_blank\">https://wandb.ai/da24m027-indian-institute-of-technology-madras/DA6401_Assignment1</a>"
            ]
          },
          "metadata": {}
        },
        {
          "output_type": "display_data",
          "data": {
            "text/plain": [
              "<IPython.core.display.HTML object>"
            ],
            "text/html": [
              " View sweep at <a href='https://wandb.ai/da24m027-indian-institute-of-technology-madras/DA6401_Assignment1/sweeps/xy966igu' target=\"_blank\">https://wandb.ai/da24m027-indian-institute-of-technology-madras/DA6401_Assignment1/sweeps/xy966igu</a>"
            ]
          },
          "metadata": {}
        },
        {
          "output_type": "display_data",
          "data": {
            "text/plain": [
              "<IPython.core.display.HTML object>"
            ],
            "text/html": [
              " View run at <a href='https://wandb.ai/da24m027-indian-institute-of-technology-madras/DA6401_Assignment1/runs/6i55a3nh' target=\"_blank\">https://wandb.ai/da24m027-indian-institute-of-technology-madras/DA6401_Assignment1/runs/6i55a3nh</a>"
            ]
          },
          "metadata": {}
        },
        {
          "output_type": "stream",
          "name": "stdout",
          "text": [
            "Epoch 1/10, Loss: 0.0027, Val Loss: 0.0802, Val Accuracy: 0.5353\n",
            "Epoch 2/10, Loss: 0.0024, Val Loss: 0.0729, Val Accuracy: 0.5895\n",
            "Epoch 3/10, Loss: 0.0022, Val Loss: 0.0671, Val Accuracy: 0.6130\n",
            "Epoch 4/10, Loss: 0.0020, Val Loss: 0.0628, Val Accuracy: 0.6250\n",
            "Epoch 5/10, Loss: 0.0019, Val Loss: 0.0591, Val Accuracy: 0.6408\n",
            "Epoch 6/10, Loss: 0.0018, Val Loss: 0.0560, Val Accuracy: 0.6470\n",
            "Epoch 7/10, Loss: 0.0017, Val Loss: 0.0538, Val Accuracy: 0.6573\n",
            "Epoch 8/10, Loss: 0.0017, Val Loss: 0.0523, Val Accuracy: 0.6625\n",
            "Epoch 9/10, Loss: 0.0016, Val Loss: 0.0512, Val Accuracy: 0.6655\n",
            "Epoch 10/10, Loss: 0.0016, Val Loss: 0.0502, Val Accuracy: 0.6668\n"
          ]
        },
        {
          "output_type": "display_data",
          "data": {
            "text/plain": [
              "<IPython.core.display.HTML object>"
            ],
            "text/html": []
          },
          "metadata": {}
        },
        {
          "output_type": "display_data",
          "data": {
            "text/plain": [
              "<IPython.core.display.HTML object>"
            ],
            "text/html": [
              "<br>    <style><br>        .wandb-row {<br>            display: flex;<br>            flex-direction: row;<br>            flex-wrap: wrap;<br>            justify-content: flex-start;<br>            width: 100%;<br>        }<br>        .wandb-col {<br>            display: flex;<br>            flex-direction: column;<br>            flex-basis: 100%;<br>            flex: 1;<br>            padding: 10px;<br>        }<br>    </style><br><div class=\"wandb-row\"><div class=\"wandb-col\"><h3>Run history:</h3><br/><table class=\"wandb\"><tr><td>epoch</td><td>▁▁▂▂▃▃▃▃▄▄▅▅▆▆▆▆▇▇██</td></tr><tr><td>loss</td><td>█▆▅▄▃▂▂▁▁▁</td></tr><tr><td>val_accuracy</td><td>▁▄▅▆▇▇▇███</td></tr><tr><td>val_loss</td><td>█▆▅▄▃▂▂▁▁▁</td></tr></table><br/></div><div class=\"wandb-col\"><h3>Run summary:</h3><br/><table class=\"wandb\"><tr><td>epoch</td><td>10</td></tr><tr><td>loss</td><td>0.00159</td></tr><tr><td>val_accuracy</td><td>0.66683</td></tr><tr><td>val_loss</td><td>0.05021</td></tr></table><br/></div></div>"
            ]
          },
          "metadata": {}
        },
        {
          "output_type": "display_data",
          "data": {
            "text/plain": [
              "<IPython.core.display.HTML object>"
            ],
            "text/html": [
              " View run <strong style=\"color:#cdcd00\">e_10_hl_4_hs_128_lr_0.0001_opt_nesterov_bs_32_init_Xavier_ac_tanh_wd_0.0005_loss_mse</strong> at: <a href='https://wandb.ai/da24m027-indian-institute-of-technology-madras/DA6401_Assignment1/runs/6i55a3nh' target=\"_blank\">https://wandb.ai/da24m027-indian-institute-of-technology-madras/DA6401_Assignment1/runs/6i55a3nh</a><br> View project at: <a href='https://wandb.ai/da24m027-indian-institute-of-technology-madras/DA6401_Assignment1' target=\"_blank\">https://wandb.ai/da24m027-indian-institute-of-technology-madras/DA6401_Assignment1</a><br>Synced 5 W&B file(s), 0 media file(s), 0 artifact file(s) and 0 other file(s)"
            ]
          },
          "metadata": {}
        },
        {
          "output_type": "display_data",
          "data": {
            "text/plain": [
              "<IPython.core.display.HTML object>"
            ],
            "text/html": [
              "Find logs at: <code>./wandb/run-20250308_063306-6i55a3nh/logs</code>"
            ]
          },
          "metadata": {}
        },
        {
          "output_type": "stream",
          "name": "stderr",
          "text": [
            "\u001b[34m\u001b[1mwandb\u001b[0m: Agent Starting Run: doq8xdty with config:\n",
            "\u001b[34m\u001b[1mwandb\u001b[0m: \tactivation: ReLU\n",
            "\u001b[34m\u001b[1mwandb\u001b[0m: \tbatch_size: 32\n",
            "\u001b[34m\u001b[1mwandb\u001b[0m: \tepochs: 10\n",
            "\u001b[34m\u001b[1mwandb\u001b[0m: \thidden_layers: 5\n",
            "\u001b[34m\u001b[1mwandb\u001b[0m: \thidden_size: 64\n",
            "\u001b[34m\u001b[1mwandb\u001b[0m: \tlearning_rate: 0.0001\n",
            "\u001b[34m\u001b[1mwandb\u001b[0m: \tloss_type: mse\n",
            "\u001b[34m\u001b[1mwandb\u001b[0m: \toptimizer: nesterov\n",
            "\u001b[34m\u001b[1mwandb\u001b[0m: \tweight_decay: 0.0005\n",
            "\u001b[34m\u001b[1mwandb\u001b[0m: \tweights: Xavier\n"
          ]
        },
        {
          "output_type": "display_data",
          "data": {
            "text/plain": [
              "<IPython.core.display.HTML object>"
            ],
            "text/html": [
              "Tracking run with wandb version 0.19.7"
            ]
          },
          "metadata": {}
        },
        {
          "output_type": "display_data",
          "data": {
            "text/plain": [
              "<IPython.core.display.HTML object>"
            ],
            "text/html": [
              "Run data is saved locally in <code>/content/wandb/run-20250308_063408-doq8xdty</code>"
            ]
          },
          "metadata": {}
        },
        {
          "output_type": "display_data",
          "data": {
            "text/plain": [
              "<IPython.core.display.HTML object>"
            ],
            "text/html": [
              "Syncing run <strong><a href='https://wandb.ai/da24m027-indian-institute-of-technology-madras/DA6401_Assignment1/runs/doq8xdty' target=\"_blank\">rosy-sweep-30</a></strong> to <a href='https://wandb.ai/da24m027-indian-institute-of-technology-madras/DA6401_Assignment1' target=\"_blank\">Weights & Biases</a> (<a href='https://wandb.me/developer-guide' target=\"_blank\">docs</a>)<br>Sweep page: <a href='https://wandb.ai/da24m027-indian-institute-of-technology-madras/DA6401_Assignment1/sweeps/xy966igu' target=\"_blank\">https://wandb.ai/da24m027-indian-institute-of-technology-madras/DA6401_Assignment1/sweeps/xy966igu</a>"
            ]
          },
          "metadata": {}
        },
        {
          "output_type": "display_data",
          "data": {
            "text/plain": [
              "<IPython.core.display.HTML object>"
            ],
            "text/html": [
              " View project at <a href='https://wandb.ai/da24m027-indian-institute-of-technology-madras/DA6401_Assignment1' target=\"_blank\">https://wandb.ai/da24m027-indian-institute-of-technology-madras/DA6401_Assignment1</a>"
            ]
          },
          "metadata": {}
        },
        {
          "output_type": "display_data",
          "data": {
            "text/plain": [
              "<IPython.core.display.HTML object>"
            ],
            "text/html": [
              " View sweep at <a href='https://wandb.ai/da24m027-indian-institute-of-technology-madras/DA6401_Assignment1/sweeps/xy966igu' target=\"_blank\">https://wandb.ai/da24m027-indian-institute-of-technology-madras/DA6401_Assignment1/sweeps/xy966igu</a>"
            ]
          },
          "metadata": {}
        },
        {
          "output_type": "display_data",
          "data": {
            "text/plain": [
              "<IPython.core.display.HTML object>"
            ],
            "text/html": [
              " View run at <a href='https://wandb.ai/da24m027-indian-institute-of-technology-madras/DA6401_Assignment1/runs/doq8xdty' target=\"_blank\">https://wandb.ai/da24m027-indian-institute-of-technology-madras/DA6401_Assignment1/runs/doq8xdty</a>"
            ]
          },
          "metadata": {}
        },
        {
          "output_type": "stream",
          "name": "stdout",
          "text": [
            "Epoch 1/10, Loss: 0.0031, Val Loss: 0.0997, Val Accuracy: 0.1235\n",
            "Epoch 2/10, Loss: 0.0031, Val Loss: 0.0992, Val Accuracy: 0.1045\n",
            "Epoch 3/10, Loss: 0.0031, Val Loss: 0.0975, Val Accuracy: 0.1010\n",
            "Epoch 4/10, Loss: 0.0030, Val Loss: 0.0928, Val Accuracy: 0.1088\n",
            "Epoch 5/10, Loss: 0.0029, Val Loss: 0.0907, Val Accuracy: 0.0973\n",
            "Epoch 6/10, Loss: 0.0028, Val Loss: 0.0903, Val Accuracy: 0.0973\n",
            "Epoch 7/10, Loss: 0.0028, Val Loss: 0.0899, Val Accuracy: 0.0973\n",
            "Epoch 8/10, Loss: 0.0028, Val Loss: 0.0894, Val Accuracy: 0.0978\n",
            "Epoch 9/10, Loss: 0.0028, Val Loss: 0.0886, Val Accuracy: 0.1982\n",
            "Epoch 10/10, Loss: 0.0028, Val Loss: 0.0875, Val Accuracy: 0.3213\n"
          ]
        },
        {
          "output_type": "display_data",
          "data": {
            "text/plain": [
              "<IPython.core.display.HTML object>"
            ],
            "text/html": []
          },
          "metadata": {}
        },
        {
          "output_type": "display_data",
          "data": {
            "text/plain": [
              "<IPython.core.display.HTML object>"
            ],
            "text/html": [
              "<br>    <style><br>        .wandb-row {<br>            display: flex;<br>            flex-direction: row;<br>            flex-wrap: wrap;<br>            justify-content: flex-start;<br>            width: 100%;<br>        }<br>        .wandb-col {<br>            display: flex;<br>            flex-direction: column;<br>            flex-basis: 100%;<br>            flex: 1;<br>            padding: 10px;<br>        }<br>    </style><br><div class=\"wandb-row\"><div class=\"wandb-col\"><h3>Run history:</h3><br/><table class=\"wandb\"><tr><td>epoch</td><td>▁▁▂▂▃▃▃▃▄▄▅▅▆▆▆▆▇▇██</td></tr><tr><td>loss</td><td>██▇▅▃▂▂▂▂▁</td></tr><tr><td>val_accuracy</td><td>▂▁▁▁▁▁▁▁▄█</td></tr><tr><td>val_loss</td><td>██▇▄▃▃▂▂▂▁</td></tr></table><br/></div><div class=\"wandb-col\"><h3>Run summary:</h3><br/><table class=\"wandb\"><tr><td>epoch</td><td>10</td></tr><tr><td>loss</td><td>0.00276</td></tr><tr><td>val_accuracy</td><td>0.32133</td></tr><tr><td>val_loss</td><td>0.08753</td></tr></table><br/></div></div>"
            ]
          },
          "metadata": {}
        },
        {
          "output_type": "display_data",
          "data": {
            "text/plain": [
              "<IPython.core.display.HTML object>"
            ],
            "text/html": [
              " View run <strong style=\"color:#cdcd00\">e_10_hl_5_hs_64_lr_0.0001_opt_nesterov_bs_32_init_Xavier_ac_ReLU_wd_0.0005_loss_mse</strong> at: <a href='https://wandb.ai/da24m027-indian-institute-of-technology-madras/DA6401_Assignment1/runs/doq8xdty' target=\"_blank\">https://wandb.ai/da24m027-indian-institute-of-technology-madras/DA6401_Assignment1/runs/doq8xdty</a><br> View project at: <a href='https://wandb.ai/da24m027-indian-institute-of-technology-madras/DA6401_Assignment1' target=\"_blank\">https://wandb.ai/da24m027-indian-institute-of-technology-madras/DA6401_Assignment1</a><br>Synced 5 W&B file(s), 0 media file(s), 0 artifact file(s) and 0 other file(s)"
            ]
          },
          "metadata": {}
        },
        {
          "output_type": "display_data",
          "data": {
            "text/plain": [
              "<IPython.core.display.HTML object>"
            ],
            "text/html": [
              "Find logs at: <code>./wandb/run-20250308_063408-doq8xdty/logs</code>"
            ]
          },
          "metadata": {}
        },
        {
          "output_type": "stream",
          "name": "stderr",
          "text": [
            "\u001b[34m\u001b[1mwandb\u001b[0m: Agent Starting Run: uqx87wyv with config:\n",
            "\u001b[34m\u001b[1mwandb\u001b[0m: \tactivation: tanh\n",
            "\u001b[34m\u001b[1mwandb\u001b[0m: \tbatch_size: 32\n",
            "\u001b[34m\u001b[1mwandb\u001b[0m: \tepochs: 10\n",
            "\u001b[34m\u001b[1mwandb\u001b[0m: \thidden_layers: 3\n",
            "\u001b[34m\u001b[1mwandb\u001b[0m: \thidden_size: 32\n",
            "\u001b[34m\u001b[1mwandb\u001b[0m: \tlearning_rate: 0.001\n",
            "\u001b[34m\u001b[1mwandb\u001b[0m: \tloss_type: mse\n",
            "\u001b[34m\u001b[1mwandb\u001b[0m: \toptimizer: nadam\n",
            "\u001b[34m\u001b[1mwandb\u001b[0m: \tweight_decay: 0.0005\n",
            "\u001b[34m\u001b[1mwandb\u001b[0m: \tweights: Xavier\n"
          ]
        },
        {
          "output_type": "display_data",
          "data": {
            "text/plain": [
              "<IPython.core.display.HTML object>"
            ],
            "text/html": [
              "Tracking run with wandb version 0.19.7"
            ]
          },
          "metadata": {}
        },
        {
          "output_type": "display_data",
          "data": {
            "text/plain": [
              "<IPython.core.display.HTML object>"
            ],
            "text/html": [
              "Run data is saved locally in <code>/content/wandb/run-20250308_063449-uqx87wyv</code>"
            ]
          },
          "metadata": {}
        },
        {
          "output_type": "display_data",
          "data": {
            "text/plain": [
              "<IPython.core.display.HTML object>"
            ],
            "text/html": [
              "Syncing run <strong><a href='https://wandb.ai/da24m027-indian-institute-of-technology-madras/DA6401_Assignment1/runs/uqx87wyv' target=\"_blank\">confused-sweep-31</a></strong> to <a href='https://wandb.ai/da24m027-indian-institute-of-technology-madras/DA6401_Assignment1' target=\"_blank\">Weights & Biases</a> (<a href='https://wandb.me/developer-guide' target=\"_blank\">docs</a>)<br>Sweep page: <a href='https://wandb.ai/da24m027-indian-institute-of-technology-madras/DA6401_Assignment1/sweeps/xy966igu' target=\"_blank\">https://wandb.ai/da24m027-indian-institute-of-technology-madras/DA6401_Assignment1/sweeps/xy966igu</a>"
            ]
          },
          "metadata": {}
        },
        {
          "output_type": "display_data",
          "data": {
            "text/plain": [
              "<IPython.core.display.HTML object>"
            ],
            "text/html": [
              " View project at <a href='https://wandb.ai/da24m027-indian-institute-of-technology-madras/DA6401_Assignment1' target=\"_blank\">https://wandb.ai/da24m027-indian-institute-of-technology-madras/DA6401_Assignment1</a>"
            ]
          },
          "metadata": {}
        },
        {
          "output_type": "display_data",
          "data": {
            "text/plain": [
              "<IPython.core.display.HTML object>"
            ],
            "text/html": [
              " View sweep at <a href='https://wandb.ai/da24m027-indian-institute-of-technology-madras/DA6401_Assignment1/sweeps/xy966igu' target=\"_blank\">https://wandb.ai/da24m027-indian-institute-of-technology-madras/DA6401_Assignment1/sweeps/xy966igu</a>"
            ]
          },
          "metadata": {}
        },
        {
          "output_type": "display_data",
          "data": {
            "text/plain": [
              "<IPython.core.display.HTML object>"
            ],
            "text/html": [
              " View run at <a href='https://wandb.ai/da24m027-indian-institute-of-technology-madras/DA6401_Assignment1/runs/uqx87wyv' target=\"_blank\">https://wandb.ai/da24m027-indian-institute-of-technology-madras/DA6401_Assignment1/runs/uqx87wyv</a>"
            ]
          },
          "metadata": {}
        },
        {
          "output_type": "stream",
          "name": "stderr",
          "text": [
            "<ipython-input-8-234fc85004ae>:56: RuntimeWarning: invalid value encountered in multiply\n",
            "  delta = np.dot(delta, self.model.weights[i].T) * (1 - self.model.a[i]**2)\n"
          ]
        },
        {
          "output_type": "stream",
          "name": "stdout",
          "text": [
            "Epoch 1/10, Loss: nan, Val Loss: nan, Val Accuracy: 0.0933\n",
            "Epoch 2/10, Loss: nan, Val Loss: nan, Val Accuracy: 0.0933\n",
            "Epoch 3/10, Loss: nan, Val Loss: nan, Val Accuracy: 0.0933\n",
            "Epoch 4/10, Loss: nan, Val Loss: nan, Val Accuracy: 0.0933\n",
            "Epoch 5/10, Loss: nan, Val Loss: nan, Val Accuracy: 0.0933\n",
            "Epoch 6/10, Loss: nan, Val Loss: nan, Val Accuracy: 0.0933\n",
            "Epoch 7/10, Loss: nan, Val Loss: nan, Val Accuracy: 0.0933\n",
            "Epoch 8/10, Loss: nan, Val Loss: nan, Val Accuracy: 0.0933\n",
            "Epoch 9/10, Loss: nan, Val Loss: nan, Val Accuracy: 0.0933\n",
            "Epoch 10/10, Loss: nan, Val Loss: nan, Val Accuracy: 0.0933\n"
          ]
        },
        {
          "output_type": "display_data",
          "data": {
            "text/plain": [
              "<IPython.core.display.HTML object>"
            ],
            "text/html": []
          },
          "metadata": {}
        },
        {
          "output_type": "display_data",
          "data": {
            "text/plain": [
              "<IPython.core.display.HTML object>"
            ],
            "text/html": [
              "<br>    <style><br>        .wandb-row {<br>            display: flex;<br>            flex-direction: row;<br>            flex-wrap: wrap;<br>            justify-content: flex-start;<br>            width: 100%;<br>        }<br>        .wandb-col {<br>            display: flex;<br>            flex-direction: column;<br>            flex-basis: 100%;<br>            flex: 1;<br>            padding: 10px;<br>        }<br>    </style><br><div class=\"wandb-row\"><div class=\"wandb-col\"><h3>Run history:</h3><br/><table class=\"wandb\"><tr><td>epoch</td><td>▁▁▂▂▃▃▃▃▄▄▅▅▆▆▆▆▇▇██</td></tr><tr><td>val_accuracy</td><td>▁▁▁▁▁▁▁▁▁▁</td></tr></table><br/></div><div class=\"wandb-col\"><h3>Run summary:</h3><br/><table class=\"wandb\"><tr><td>epoch</td><td>10</td></tr><tr><td>loss</td><td>nan</td></tr><tr><td>val_accuracy</td><td>0.09333</td></tr><tr><td>val_loss</td><td>nan</td></tr></table><br/></div></div>"
            ]
          },
          "metadata": {}
        },
        {
          "output_type": "display_data",
          "data": {
            "text/plain": [
              "<IPython.core.display.HTML object>"
            ],
            "text/html": [
              " View run <strong style=\"color:#cdcd00\">e_10_hl_3_hs_32_lr_0.001_opt_nadam_bs_32_init_Xavier_ac_tanh_wd_0.0005_loss_mse</strong> at: <a href='https://wandb.ai/da24m027-indian-institute-of-technology-madras/DA6401_Assignment1/runs/uqx87wyv' target=\"_blank\">https://wandb.ai/da24m027-indian-institute-of-technology-madras/DA6401_Assignment1/runs/uqx87wyv</a><br> View project at: <a href='https://wandb.ai/da24m027-indian-institute-of-technology-madras/DA6401_Assignment1' target=\"_blank\">https://wandb.ai/da24m027-indian-institute-of-technology-madras/DA6401_Assignment1</a><br>Synced 5 W&B file(s), 0 media file(s), 0 artifact file(s) and 0 other file(s)"
            ]
          },
          "metadata": {}
        },
        {
          "output_type": "display_data",
          "data": {
            "text/plain": [
              "<IPython.core.display.HTML object>"
            ],
            "text/html": [
              "Find logs at: <code>./wandb/run-20250308_063449-uqx87wyv/logs</code>"
            ]
          },
          "metadata": {}
        },
        {
          "output_type": "stream",
          "name": "stderr",
          "text": [
            "\u001b[34m\u001b[1mwandb\u001b[0m: Agent Starting Run: s81jcsdr with config:\n",
            "\u001b[34m\u001b[1mwandb\u001b[0m: \tactivation: tanh\n",
            "\u001b[34m\u001b[1mwandb\u001b[0m: \tbatch_size: 64\n",
            "\u001b[34m\u001b[1mwandb\u001b[0m: \tepochs: 10\n",
            "\u001b[34m\u001b[1mwandb\u001b[0m: \thidden_layers: 5\n",
            "\u001b[34m\u001b[1mwandb\u001b[0m: \thidden_size: 64\n",
            "\u001b[34m\u001b[1mwandb\u001b[0m: \tlearning_rate: 0.001\n",
            "\u001b[34m\u001b[1mwandb\u001b[0m: \tloss_type: cross_entropy\n",
            "\u001b[34m\u001b[1mwandb\u001b[0m: \toptimizer: nadam\n",
            "\u001b[34m\u001b[1mwandb\u001b[0m: \tweight_decay: 0.5\n",
            "\u001b[34m\u001b[1mwandb\u001b[0m: \tweights: Xavier\n"
          ]
        },
        {
          "output_type": "display_data",
          "data": {
            "text/plain": [
              "<IPython.core.display.HTML object>"
            ],
            "text/html": [
              "Tracking run with wandb version 0.19.7"
            ]
          },
          "metadata": {}
        },
        {
          "output_type": "display_data",
          "data": {
            "text/plain": [
              "<IPython.core.display.HTML object>"
            ],
            "text/html": [
              "Run data is saved locally in <code>/content/wandb/run-20250308_063509-s81jcsdr</code>"
            ]
          },
          "metadata": {}
        },
        {
          "output_type": "display_data",
          "data": {
            "text/plain": [
              "<IPython.core.display.HTML object>"
            ],
            "text/html": [
              "Syncing run <strong><a href='https://wandb.ai/da24m027-indian-institute-of-technology-madras/DA6401_Assignment1/runs/s81jcsdr' target=\"_blank\">ancient-sweep-32</a></strong> to <a href='https://wandb.ai/da24m027-indian-institute-of-technology-madras/DA6401_Assignment1' target=\"_blank\">Weights & Biases</a> (<a href='https://wandb.me/developer-guide' target=\"_blank\">docs</a>)<br>Sweep page: <a href='https://wandb.ai/da24m027-indian-institute-of-technology-madras/DA6401_Assignment1/sweeps/xy966igu' target=\"_blank\">https://wandb.ai/da24m027-indian-institute-of-technology-madras/DA6401_Assignment1/sweeps/xy966igu</a>"
            ]
          },
          "metadata": {}
        },
        {
          "output_type": "display_data",
          "data": {
            "text/plain": [
              "<IPython.core.display.HTML object>"
            ],
            "text/html": [
              " View project at <a href='https://wandb.ai/da24m027-indian-institute-of-technology-madras/DA6401_Assignment1' target=\"_blank\">https://wandb.ai/da24m027-indian-institute-of-technology-madras/DA6401_Assignment1</a>"
            ]
          },
          "metadata": {}
        },
        {
          "output_type": "display_data",
          "data": {
            "text/plain": [
              "<IPython.core.display.HTML object>"
            ],
            "text/html": [
              " View sweep at <a href='https://wandb.ai/da24m027-indian-institute-of-technology-madras/DA6401_Assignment1/sweeps/xy966igu' target=\"_blank\">https://wandb.ai/da24m027-indian-institute-of-technology-madras/DA6401_Assignment1/sweeps/xy966igu</a>"
            ]
          },
          "metadata": {}
        },
        {
          "output_type": "display_data",
          "data": {
            "text/plain": [
              "<IPython.core.display.HTML object>"
            ],
            "text/html": [
              " View run at <a href='https://wandb.ai/da24m027-indian-institute-of-technology-madras/DA6401_Assignment1/runs/s81jcsdr' target=\"_blank\">https://wandb.ai/da24m027-indian-institute-of-technology-madras/DA6401_Assignment1/runs/s81jcsdr</a>"
            ]
          },
          "metadata": {}
        },
        {
          "output_type": "stream",
          "name": "stdout",
          "text": [
            "Epoch 1/10, Loss: nan, Val Loss: nan, Val Accuracy: 0.0933\n",
            "Epoch 2/10, Loss: nan, Val Loss: nan, Val Accuracy: 0.0933\n",
            "Epoch 3/10, Loss: nan, Val Loss: nan, Val Accuracy: 0.0933\n",
            "Epoch 4/10, Loss: nan, Val Loss: nan, Val Accuracy: 0.0933\n",
            "Epoch 5/10, Loss: nan, Val Loss: nan, Val Accuracy: 0.0933\n",
            "Epoch 6/10, Loss: nan, Val Loss: nan, Val Accuracy: 0.0933\n",
            "Epoch 7/10, Loss: nan, Val Loss: nan, Val Accuracy: 0.0933\n",
            "Epoch 8/10, Loss: nan, Val Loss: nan, Val Accuracy: 0.0933\n",
            "Epoch 9/10, Loss: nan, Val Loss: nan, Val Accuracy: 0.0933\n",
            "Epoch 10/10, Loss: nan, Val Loss: nan, Val Accuracy: 0.0933\n"
          ]
        },
        {
          "output_type": "display_data",
          "data": {
            "text/plain": [
              "<IPython.core.display.HTML object>"
            ],
            "text/html": []
          },
          "metadata": {}
        },
        {
          "output_type": "display_data",
          "data": {
            "text/plain": [
              "<IPython.core.display.HTML object>"
            ],
            "text/html": [
              "<br>    <style><br>        .wandb-row {<br>            display: flex;<br>            flex-direction: row;<br>            flex-wrap: wrap;<br>            justify-content: flex-start;<br>            width: 100%;<br>        }<br>        .wandb-col {<br>            display: flex;<br>            flex-direction: column;<br>            flex-basis: 100%;<br>            flex: 1;<br>            padding: 10px;<br>        }<br>    </style><br><div class=\"wandb-row\"><div class=\"wandb-col\"><h3>Run history:</h3><br/><table class=\"wandb\"><tr><td>epoch</td><td>▁▁▂▂▃▃▃▃▄▄▅▅▆▆▆▆▇▇██</td></tr><tr><td>val_accuracy</td><td>▁▁▁▁▁▁▁▁▁▁</td></tr></table><br/></div><div class=\"wandb-col\"><h3>Run summary:</h3><br/><table class=\"wandb\"><tr><td>epoch</td><td>10</td></tr><tr><td>loss</td><td>nan</td></tr><tr><td>val_accuracy</td><td>0.09333</td></tr><tr><td>val_loss</td><td>nan</td></tr></table><br/></div></div>"
            ]
          },
          "metadata": {}
        },
        {
          "output_type": "display_data",
          "data": {
            "text/plain": [
              "<IPython.core.display.HTML object>"
            ],
            "text/html": [
              " View run <strong style=\"color:#cdcd00\">e_10_hl_5_hs_64_lr_0.001_opt_nadam_bs_64_init_Xavier_ac_tanh_wd_0.5_loss_cross_entropy</strong> at: <a href='https://wandb.ai/da24m027-indian-institute-of-technology-madras/DA6401_Assignment1/runs/s81jcsdr' target=\"_blank\">https://wandb.ai/da24m027-indian-institute-of-technology-madras/DA6401_Assignment1/runs/s81jcsdr</a><br> View project at: <a href='https://wandb.ai/da24m027-indian-institute-of-technology-madras/DA6401_Assignment1' target=\"_blank\">https://wandb.ai/da24m027-indian-institute-of-technology-madras/DA6401_Assignment1</a><br>Synced 5 W&B file(s), 0 media file(s), 0 artifact file(s) and 0 other file(s)"
            ]
          },
          "metadata": {}
        },
        {
          "output_type": "display_data",
          "data": {
            "text/plain": [
              "<IPython.core.display.HTML object>"
            ],
            "text/html": [
              "Find logs at: <code>./wandb/run-20250308_063509-s81jcsdr/logs</code>"
            ]
          },
          "metadata": {}
        },
        {
          "output_type": "stream",
          "name": "stderr",
          "text": [
            "\u001b[34m\u001b[1mwandb\u001b[0m: Agent Starting Run: likp6biu with config:\n",
            "\u001b[34m\u001b[1mwandb\u001b[0m: \tactivation: tanh\n",
            "\u001b[34m\u001b[1mwandb\u001b[0m: \tbatch_size: 64\n",
            "\u001b[34m\u001b[1mwandb\u001b[0m: \tepochs: 10\n",
            "\u001b[34m\u001b[1mwandb\u001b[0m: \thidden_layers: 5\n",
            "\u001b[34m\u001b[1mwandb\u001b[0m: \thidden_size: 64\n",
            "\u001b[34m\u001b[1mwandb\u001b[0m: \tlearning_rate: 0.001\n",
            "\u001b[34m\u001b[1mwandb\u001b[0m: \tloss_type: cross_entropy\n",
            "\u001b[34m\u001b[1mwandb\u001b[0m: \toptimizer: nadam\n",
            "\u001b[34m\u001b[1mwandb\u001b[0m: \tweight_decay: 0.0005\n",
            "\u001b[34m\u001b[1mwandb\u001b[0m: \tweights: Xavier\n"
          ]
        },
        {
          "output_type": "display_data",
          "data": {
            "text/plain": [
              "<IPython.core.display.HTML object>"
            ],
            "text/html": [
              "Tracking run with wandb version 0.19.7"
            ]
          },
          "metadata": {}
        },
        {
          "output_type": "display_data",
          "data": {
            "text/plain": [
              "<IPython.core.display.HTML object>"
            ],
            "text/html": [
              "Run data is saved locally in <code>/content/wandb/run-20250308_063540-likp6biu</code>"
            ]
          },
          "metadata": {}
        },
        {
          "output_type": "display_data",
          "data": {
            "text/plain": [
              "<IPython.core.display.HTML object>"
            ],
            "text/html": [
              "Syncing run <strong><a href='https://wandb.ai/da24m027-indian-institute-of-technology-madras/DA6401_Assignment1/runs/likp6biu' target=\"_blank\">fine-sweep-33</a></strong> to <a href='https://wandb.ai/da24m027-indian-institute-of-technology-madras/DA6401_Assignment1' target=\"_blank\">Weights & Biases</a> (<a href='https://wandb.me/developer-guide' target=\"_blank\">docs</a>)<br>Sweep page: <a href='https://wandb.ai/da24m027-indian-institute-of-technology-madras/DA6401_Assignment1/sweeps/xy966igu' target=\"_blank\">https://wandb.ai/da24m027-indian-institute-of-technology-madras/DA6401_Assignment1/sweeps/xy966igu</a>"
            ]
          },
          "metadata": {}
        },
        {
          "output_type": "display_data",
          "data": {
            "text/plain": [
              "<IPython.core.display.HTML object>"
            ],
            "text/html": [
              " View project at <a href='https://wandb.ai/da24m027-indian-institute-of-technology-madras/DA6401_Assignment1' target=\"_blank\">https://wandb.ai/da24m027-indian-institute-of-technology-madras/DA6401_Assignment1</a>"
            ]
          },
          "metadata": {}
        },
        {
          "output_type": "display_data",
          "data": {
            "text/plain": [
              "<IPython.core.display.HTML object>"
            ],
            "text/html": [
              " View sweep at <a href='https://wandb.ai/da24m027-indian-institute-of-technology-madras/DA6401_Assignment1/sweeps/xy966igu' target=\"_blank\">https://wandb.ai/da24m027-indian-institute-of-technology-madras/DA6401_Assignment1/sweeps/xy966igu</a>"
            ]
          },
          "metadata": {}
        },
        {
          "output_type": "display_data",
          "data": {
            "text/plain": [
              "<IPython.core.display.HTML object>"
            ],
            "text/html": [
              " View run at <a href='https://wandb.ai/da24m027-indian-institute-of-technology-madras/DA6401_Assignment1/runs/likp6biu' target=\"_blank\">https://wandb.ai/da24m027-indian-institute-of-technology-madras/DA6401_Assignment1/runs/likp6biu</a>"
            ]
          },
          "metadata": {}
        },
        {
          "output_type": "stream",
          "name": "stdout",
          "text": [
            "Epoch 1/10, Loss: nan, Val Loss: nan, Val Accuracy: 0.0933\n",
            "Epoch 2/10, Loss: nan, Val Loss: nan, Val Accuracy: 0.0933\n",
            "Epoch 3/10, Loss: nan, Val Loss: nan, Val Accuracy: 0.0933\n",
            "Epoch 4/10, Loss: nan, Val Loss: nan, Val Accuracy: 0.0933\n",
            "Epoch 5/10, Loss: nan, Val Loss: nan, Val Accuracy: 0.0933\n",
            "Epoch 6/10, Loss: nan, Val Loss: nan, Val Accuracy: 0.0933\n",
            "Epoch 7/10, Loss: nan, Val Loss: nan, Val Accuracy: 0.0933\n",
            "Epoch 8/10, Loss: nan, Val Loss: nan, Val Accuracy: 0.0933\n",
            "Epoch 9/10, Loss: nan, Val Loss: nan, Val Accuracy: 0.0933\n",
            "Epoch 10/10, Loss: nan, Val Loss: nan, Val Accuracy: 0.0933\n"
          ]
        },
        {
          "output_type": "display_data",
          "data": {
            "text/plain": [
              "<IPython.core.display.HTML object>"
            ],
            "text/html": []
          },
          "metadata": {}
        },
        {
          "output_type": "display_data",
          "data": {
            "text/plain": [
              "<IPython.core.display.HTML object>"
            ],
            "text/html": [
              "<br>    <style><br>        .wandb-row {<br>            display: flex;<br>            flex-direction: row;<br>            flex-wrap: wrap;<br>            justify-content: flex-start;<br>            width: 100%;<br>        }<br>        .wandb-col {<br>            display: flex;<br>            flex-direction: column;<br>            flex-basis: 100%;<br>            flex: 1;<br>            padding: 10px;<br>        }<br>    </style><br><div class=\"wandb-row\"><div class=\"wandb-col\"><h3>Run history:</h3><br/><table class=\"wandb\"><tr><td>epoch</td><td>▁▁▂▂▃▃▃▃▄▄▅▅▆▆▆▆▇▇██</td></tr><tr><td>val_accuracy</td><td>▁▁▁▁▁▁▁▁▁▁</td></tr></table><br/></div><div class=\"wandb-col\"><h3>Run summary:</h3><br/><table class=\"wandb\"><tr><td>epoch</td><td>10</td></tr><tr><td>loss</td><td>nan</td></tr><tr><td>val_accuracy</td><td>0.09333</td></tr><tr><td>val_loss</td><td>nan</td></tr></table><br/></div></div>"
            ]
          },
          "metadata": {}
        },
        {
          "output_type": "display_data",
          "data": {
            "text/plain": [
              "<IPython.core.display.HTML object>"
            ],
            "text/html": [
              " View run <strong style=\"color:#cdcd00\">e_10_hl_5_hs_64_lr_0.001_opt_nadam_bs_64_init_Xavier_ac_tanh_wd_0.0005_loss_cross_entropy</strong> at: <a href='https://wandb.ai/da24m027-indian-institute-of-technology-madras/DA6401_Assignment1/runs/likp6biu' target=\"_blank\">https://wandb.ai/da24m027-indian-institute-of-technology-madras/DA6401_Assignment1/runs/likp6biu</a><br> View project at: <a href='https://wandb.ai/da24m027-indian-institute-of-technology-madras/DA6401_Assignment1' target=\"_blank\">https://wandb.ai/da24m027-indian-institute-of-technology-madras/DA6401_Assignment1</a><br>Synced 5 W&B file(s), 0 media file(s), 0 artifact file(s) and 0 other file(s)"
            ]
          },
          "metadata": {}
        },
        {
          "output_type": "display_data",
          "data": {
            "text/plain": [
              "<IPython.core.display.HTML object>"
            ],
            "text/html": [
              "Find logs at: <code>./wandb/run-20250308_063540-likp6biu/logs</code>"
            ]
          },
          "metadata": {}
        },
        {
          "output_type": "stream",
          "name": "stderr",
          "text": [
            "\u001b[34m\u001b[1mwandb\u001b[0m: Agent Starting Run: psqwwlwb with config:\n",
            "\u001b[34m\u001b[1mwandb\u001b[0m: \tactivation: tanh\n",
            "\u001b[34m\u001b[1mwandb\u001b[0m: \tbatch_size: 64\n",
            "\u001b[34m\u001b[1mwandb\u001b[0m: \tepochs: 5\n",
            "\u001b[34m\u001b[1mwandb\u001b[0m: \thidden_layers: 5\n",
            "\u001b[34m\u001b[1mwandb\u001b[0m: \thidden_size: 32\n",
            "\u001b[34m\u001b[1mwandb\u001b[0m: \tlearning_rate: 0.001\n",
            "\u001b[34m\u001b[1mwandb\u001b[0m: \tloss_type: mse\n",
            "\u001b[34m\u001b[1mwandb\u001b[0m: \toptimizer: sgd\n",
            "\u001b[34m\u001b[1mwandb\u001b[0m: \tweight_decay: 0\n",
            "\u001b[34m\u001b[1mwandb\u001b[0m: \tweights: random\n"
          ]
        },
        {
          "output_type": "display_data",
          "data": {
            "text/plain": [
              "<IPython.core.display.HTML object>"
            ],
            "text/html": [
              "Tracking run with wandb version 0.19.7"
            ]
          },
          "metadata": {}
        },
        {
          "output_type": "display_data",
          "data": {
            "text/plain": [
              "<IPython.core.display.HTML object>"
            ],
            "text/html": [
              "Run data is saved locally in <code>/content/wandb/run-20250308_063611-psqwwlwb</code>"
            ]
          },
          "metadata": {}
        },
        {
          "output_type": "display_data",
          "data": {
            "text/plain": [
              "<IPython.core.display.HTML object>"
            ],
            "text/html": [
              "Syncing run <strong><a href='https://wandb.ai/da24m027-indian-institute-of-technology-madras/DA6401_Assignment1/runs/psqwwlwb' target=\"_blank\">curious-sweep-34</a></strong> to <a href='https://wandb.ai/da24m027-indian-institute-of-technology-madras/DA6401_Assignment1' target=\"_blank\">Weights & Biases</a> (<a href='https://wandb.me/developer-guide' target=\"_blank\">docs</a>)<br>Sweep page: <a href='https://wandb.ai/da24m027-indian-institute-of-technology-madras/DA6401_Assignment1/sweeps/xy966igu' target=\"_blank\">https://wandb.ai/da24m027-indian-institute-of-technology-madras/DA6401_Assignment1/sweeps/xy966igu</a>"
            ]
          },
          "metadata": {}
        },
        {
          "output_type": "display_data",
          "data": {
            "text/plain": [
              "<IPython.core.display.HTML object>"
            ],
            "text/html": [
              " View project at <a href='https://wandb.ai/da24m027-indian-institute-of-technology-madras/DA6401_Assignment1' target=\"_blank\">https://wandb.ai/da24m027-indian-institute-of-technology-madras/DA6401_Assignment1</a>"
            ]
          },
          "metadata": {}
        },
        {
          "output_type": "display_data",
          "data": {
            "text/plain": [
              "<IPython.core.display.HTML object>"
            ],
            "text/html": [
              " View sweep at <a href='https://wandb.ai/da24m027-indian-institute-of-technology-madras/DA6401_Assignment1/sweeps/xy966igu' target=\"_blank\">https://wandb.ai/da24m027-indian-institute-of-technology-madras/DA6401_Assignment1/sweeps/xy966igu</a>"
            ]
          },
          "metadata": {}
        },
        {
          "output_type": "display_data",
          "data": {
            "text/plain": [
              "<IPython.core.display.HTML object>"
            ],
            "text/html": [
              " View run at <a href='https://wandb.ai/da24m027-indian-institute-of-technology-madras/DA6401_Assignment1/runs/psqwwlwb' target=\"_blank\">https://wandb.ai/da24m027-indian-institute-of-technology-madras/DA6401_Assignment1/runs/psqwwlwb</a>"
            ]
          },
          "metadata": {}
        },
        {
          "output_type": "stream",
          "name": "stdout",
          "text": [
            "Epoch 1/5, Loss: 0.0016, Val Loss: 0.1000, Val Accuracy: 0.1100\n",
            "Epoch 2/5, Loss: 0.0016, Val Loss: 0.1000, Val Accuracy: 0.1100\n",
            "Epoch 3/5, Loss: 0.0016, Val Loss: 0.1000, Val Accuracy: 0.1103\n",
            "Epoch 4/5, Loss: 0.0016, Val Loss: 0.1000, Val Accuracy: 0.1103\n",
            "Epoch 5/5, Loss: 0.0016, Val Loss: 0.1000, Val Accuracy: 0.1105\n"
          ]
        },
        {
          "output_type": "display_data",
          "data": {
            "text/plain": [
              "<IPython.core.display.HTML object>"
            ],
            "text/html": []
          },
          "metadata": {}
        },
        {
          "output_type": "display_data",
          "data": {
            "text/plain": [
              "<IPython.core.display.HTML object>"
            ],
            "text/html": [
              "<br>    <style><br>        .wandb-row {<br>            display: flex;<br>            flex-direction: row;<br>            flex-wrap: wrap;<br>            justify-content: flex-start;<br>            width: 100%;<br>        }<br>        .wandb-col {<br>            display: flex;<br>            flex-direction: column;<br>            flex-basis: 100%;<br>            flex: 1;<br>            padding: 10px;<br>        }<br>    </style><br><div class=\"wandb-row\"><div class=\"wandb-col\"><h3>Run history:</h3><br/><table class=\"wandb\"><tr><td>epoch</td><td>▁▁▃▃▅▅▆▆██</td></tr><tr><td>loss</td><td>▁▁▁▁▁</td></tr><tr><td>val_accuracy</td><td>▁▁▆▆█</td></tr><tr><td>val_loss</td><td>▁▁▁▁▁</td></tr></table><br/></div><div class=\"wandb-col\"><h3>Run summary:</h3><br/><table class=\"wandb\"><tr><td>epoch</td><td>5</td></tr><tr><td>loss</td><td>0.00156</td></tr><tr><td>val_accuracy</td><td>0.1105</td></tr><tr><td>val_loss</td><td>0.1</td></tr></table><br/></div></div>"
            ]
          },
          "metadata": {}
        },
        {
          "output_type": "display_data",
          "data": {
            "text/plain": [
              "<IPython.core.display.HTML object>"
            ],
            "text/html": [
              " View run <strong style=\"color:#cdcd00\">e_5_hl_5_hs_32_lr_0.001_opt_sgd_bs_64_init_random_ac_tanh_wd_0_loss_mse</strong> at: <a href='https://wandb.ai/da24m027-indian-institute-of-technology-madras/DA6401_Assignment1/runs/psqwwlwb' target=\"_blank\">https://wandb.ai/da24m027-indian-institute-of-technology-madras/DA6401_Assignment1/runs/psqwwlwb</a><br> View project at: <a href='https://wandb.ai/da24m027-indian-institute-of-technology-madras/DA6401_Assignment1' target=\"_blank\">https://wandb.ai/da24m027-indian-institute-of-technology-madras/DA6401_Assignment1</a><br>Synced 5 W&B file(s), 0 media file(s), 0 artifact file(s) and 0 other file(s)"
            ]
          },
          "metadata": {}
        },
        {
          "output_type": "display_data",
          "data": {
            "text/plain": [
              "<IPython.core.display.HTML object>"
            ],
            "text/html": [
              "Find logs at: <code>./wandb/run-20250308_063611-psqwwlwb/logs</code>"
            ]
          },
          "metadata": {}
        },
        {
          "output_type": "stream",
          "name": "stderr",
          "text": [
            "\u001b[34m\u001b[1mwandb\u001b[0m: Agent Starting Run: gqtgoenx with config:\n",
            "\u001b[34m\u001b[1mwandb\u001b[0m: \tactivation: tanh\n",
            "\u001b[34m\u001b[1mwandb\u001b[0m: \tbatch_size: 16\n",
            "\u001b[34m\u001b[1mwandb\u001b[0m: \tepochs: 10\n",
            "\u001b[34m\u001b[1mwandb\u001b[0m: \thidden_layers: 4\n",
            "\u001b[34m\u001b[1mwandb\u001b[0m: \thidden_size: 64\n",
            "\u001b[34m\u001b[1mwandb\u001b[0m: \tlearning_rate: 0.0001\n",
            "\u001b[34m\u001b[1mwandb\u001b[0m: \tloss_type: mse\n",
            "\u001b[34m\u001b[1mwandb\u001b[0m: \toptimizer: rmsprop\n",
            "\u001b[34m\u001b[1mwandb\u001b[0m: \tweight_decay: 0.0005\n",
            "\u001b[34m\u001b[1mwandb\u001b[0m: \tweights: random\n"
          ]
        },
        {
          "output_type": "display_data",
          "data": {
            "text/plain": [
              "<IPython.core.display.HTML object>"
            ],
            "text/html": [
              "Tracking run with wandb version 0.19.7"
            ]
          },
          "metadata": {}
        },
        {
          "output_type": "display_data",
          "data": {
            "text/plain": [
              "<IPython.core.display.HTML object>"
            ],
            "text/html": [
              "Run data is saved locally in <code>/content/wandb/run-20250308_063621-gqtgoenx</code>"
            ]
          },
          "metadata": {}
        },
        {
          "output_type": "display_data",
          "data": {
            "text/plain": [
              "<IPython.core.display.HTML object>"
            ],
            "text/html": [
              "Syncing run <strong><a href='https://wandb.ai/da24m027-indian-institute-of-technology-madras/DA6401_Assignment1/runs/gqtgoenx' target=\"_blank\">serene-sweep-35</a></strong> to <a href='https://wandb.ai/da24m027-indian-institute-of-technology-madras/DA6401_Assignment1' target=\"_blank\">Weights & Biases</a> (<a href='https://wandb.me/developer-guide' target=\"_blank\">docs</a>)<br>Sweep page: <a href='https://wandb.ai/da24m027-indian-institute-of-technology-madras/DA6401_Assignment1/sweeps/xy966igu' target=\"_blank\">https://wandb.ai/da24m027-indian-institute-of-technology-madras/DA6401_Assignment1/sweeps/xy966igu</a>"
            ]
          },
          "metadata": {}
        },
        {
          "output_type": "display_data",
          "data": {
            "text/plain": [
              "<IPython.core.display.HTML object>"
            ],
            "text/html": [
              " View project at <a href='https://wandb.ai/da24m027-indian-institute-of-technology-madras/DA6401_Assignment1' target=\"_blank\">https://wandb.ai/da24m027-indian-institute-of-technology-madras/DA6401_Assignment1</a>"
            ]
          },
          "metadata": {}
        },
        {
          "output_type": "display_data",
          "data": {
            "text/plain": [
              "<IPython.core.display.HTML object>"
            ],
            "text/html": [
              " View sweep at <a href='https://wandb.ai/da24m027-indian-institute-of-technology-madras/DA6401_Assignment1/sweeps/xy966igu' target=\"_blank\">https://wandb.ai/da24m027-indian-institute-of-technology-madras/DA6401_Assignment1/sweeps/xy966igu</a>"
            ]
          },
          "metadata": {}
        },
        {
          "output_type": "display_data",
          "data": {
            "text/plain": [
              "<IPython.core.display.HTML object>"
            ],
            "text/html": [
              " View run at <a href='https://wandb.ai/da24m027-indian-institute-of-technology-madras/DA6401_Assignment1/runs/gqtgoenx' target=\"_blank\">https://wandb.ai/da24m027-indian-institute-of-technology-madras/DA6401_Assignment1/runs/gqtgoenx</a>"
            ]
          },
          "metadata": {}
        },
        {
          "output_type": "stream",
          "name": "stdout",
          "text": [
            "Epoch 1/10, Loss: 0.0056, Val Loss: 0.0902, Val Accuracy: 0.0973\n",
            "Epoch 2/10, Loss: 0.0055, Val Loss: 0.0748, Val Accuracy: 0.3750\n",
            "Epoch 3/10, Loss: 0.0039, Val Loss: 0.0507, Val Accuracy: 0.6010\n",
            "Epoch 4/10, Loss: 0.0031, Val Loss: 0.0469, Val Accuracy: 0.6575\n",
            "Epoch 5/10, Loss: 0.0028, Val Loss: 0.0413, Val Accuracy: 0.7072\n",
            "Epoch 6/10, Loss: 0.0024, Val Loss: 0.0361, Val Accuracy: 0.7185\n",
            "Epoch 7/10, Loss: 0.0022, Val Loss: 0.0344, Val Accuracy: 0.7600\n",
            "Epoch 8/10, Loss: 0.0021, Val Loss: 0.0330, Val Accuracy: 0.7722\n",
            "Epoch 9/10, Loss: 0.0020, Val Loss: 0.0309, Val Accuracy: 0.7872\n",
            "Epoch 10/10, Loss: 0.0019, Val Loss: 0.0300, Val Accuracy: 0.7932\n"
          ]
        },
        {
          "output_type": "display_data",
          "data": {
            "text/plain": [
              "<IPython.core.display.HTML object>"
            ],
            "text/html": []
          },
          "metadata": {}
        },
        {
          "output_type": "display_data",
          "data": {
            "text/plain": [
              "<IPython.core.display.HTML object>"
            ],
            "text/html": [
              "<br>    <style><br>        .wandb-row {<br>            display: flex;<br>            flex-direction: row;<br>            flex-wrap: wrap;<br>            justify-content: flex-start;<br>            width: 100%;<br>        }<br>        .wandb-col {<br>            display: flex;<br>            flex-direction: column;<br>            flex-basis: 100%;<br>            flex: 1;<br>            padding: 10px;<br>        }<br>    </style><br><div class=\"wandb-row\"><div class=\"wandb-col\"><h3>Run history:</h3><br/><table class=\"wandb\"><tr><td>epoch</td><td>▁▁▂▂▃▃▃▃▄▄▅▅▆▆▆▆▇▇██</td></tr><tr><td>loss</td><td>██▅▃▃▂▂▁▁▁</td></tr><tr><td>val_accuracy</td><td>▁▄▆▇▇▇████</td></tr><tr><td>val_loss</td><td>█▆▃▃▂▂▂▁▁▁</td></tr></table><br/></div><div class=\"wandb-col\"><h3>Run summary:</h3><br/><table class=\"wandb\"><tr><td>epoch</td><td>10</td></tr><tr><td>loss</td><td>0.00192</td></tr><tr><td>val_accuracy</td><td>0.79317</td></tr><tr><td>val_loss</td><td>0.02999</td></tr></table><br/></div></div>"
            ]
          },
          "metadata": {}
        },
        {
          "output_type": "display_data",
          "data": {
            "text/plain": [
              "<IPython.core.display.HTML object>"
            ],
            "text/html": [
              " View run <strong style=\"color:#cdcd00\">e_10_hl_4_hs_64_lr_0.0001_opt_rmsprop_bs_16_init_random_ac_tanh_wd_0.0005_loss_mse</strong> at: <a href='https://wandb.ai/da24m027-indian-institute-of-technology-madras/DA6401_Assignment1/runs/gqtgoenx' target=\"_blank\">https://wandb.ai/da24m027-indian-institute-of-technology-madras/DA6401_Assignment1/runs/gqtgoenx</a><br> View project at: <a href='https://wandb.ai/da24m027-indian-institute-of-technology-madras/DA6401_Assignment1' target=\"_blank\">https://wandb.ai/da24m027-indian-institute-of-technology-madras/DA6401_Assignment1</a><br>Synced 5 W&B file(s), 0 media file(s), 0 artifact file(s) and 0 other file(s)"
            ]
          },
          "metadata": {}
        },
        {
          "output_type": "display_data",
          "data": {
            "text/plain": [
              "<IPython.core.display.HTML object>"
            ],
            "text/html": [
              "Find logs at: <code>./wandb/run-20250308_063621-gqtgoenx/logs</code>"
            ]
          },
          "metadata": {}
        },
        {
          "output_type": "stream",
          "name": "stderr",
          "text": [
            "\u001b[34m\u001b[1mwandb\u001b[0m: Agent Starting Run: ru2mu9pc with config:\n",
            "\u001b[34m\u001b[1mwandb\u001b[0m: \tactivation: sigmoid\n",
            "\u001b[34m\u001b[1mwandb\u001b[0m: \tbatch_size: 16\n",
            "\u001b[34m\u001b[1mwandb\u001b[0m: \tepochs: 10\n",
            "\u001b[34m\u001b[1mwandb\u001b[0m: \thidden_layers: 4\n",
            "\u001b[34m\u001b[1mwandb\u001b[0m: \thidden_size: 64\n",
            "\u001b[34m\u001b[1mwandb\u001b[0m: \tlearning_rate: 0.001\n",
            "\u001b[34m\u001b[1mwandb\u001b[0m: \tloss_type: cross_entropy\n",
            "\u001b[34m\u001b[1mwandb\u001b[0m: \toptimizer: adam\n",
            "\u001b[34m\u001b[1mwandb\u001b[0m: \tweight_decay: 0\n",
            "\u001b[34m\u001b[1mwandb\u001b[0m: \tweights: Xavier\n"
          ]
        },
        {
          "output_type": "display_data",
          "data": {
            "text/plain": [
              "<IPython.core.display.HTML object>"
            ],
            "text/html": [
              "Tracking run with wandb version 0.19.7"
            ]
          },
          "metadata": {}
        },
        {
          "output_type": "display_data",
          "data": {
            "text/plain": [
              "<IPython.core.display.HTML object>"
            ],
            "text/html": [
              "Run data is saved locally in <code>/content/wandb/run-20250308_063708-ru2mu9pc</code>"
            ]
          },
          "metadata": {}
        },
        {
          "output_type": "display_data",
          "data": {
            "text/plain": [
              "<IPython.core.display.HTML object>"
            ],
            "text/html": [
              "Syncing run <strong><a href='https://wandb.ai/da24m027-indian-institute-of-technology-madras/DA6401_Assignment1/runs/ru2mu9pc' target=\"_blank\">kind-sweep-36</a></strong> to <a href='https://wandb.ai/da24m027-indian-institute-of-technology-madras/DA6401_Assignment1' target=\"_blank\">Weights & Biases</a> (<a href='https://wandb.me/developer-guide' target=\"_blank\">docs</a>)<br>Sweep page: <a href='https://wandb.ai/da24m027-indian-institute-of-technology-madras/DA6401_Assignment1/sweeps/xy966igu' target=\"_blank\">https://wandb.ai/da24m027-indian-institute-of-technology-madras/DA6401_Assignment1/sweeps/xy966igu</a>"
            ]
          },
          "metadata": {}
        },
        {
          "output_type": "display_data",
          "data": {
            "text/plain": [
              "<IPython.core.display.HTML object>"
            ],
            "text/html": [
              " View project at <a href='https://wandb.ai/da24m027-indian-institute-of-technology-madras/DA6401_Assignment1' target=\"_blank\">https://wandb.ai/da24m027-indian-institute-of-technology-madras/DA6401_Assignment1</a>"
            ]
          },
          "metadata": {}
        },
        {
          "output_type": "display_data",
          "data": {
            "text/plain": [
              "<IPython.core.display.HTML object>"
            ],
            "text/html": [
              " View sweep at <a href='https://wandb.ai/da24m027-indian-institute-of-technology-madras/DA6401_Assignment1/sweeps/xy966igu' target=\"_blank\">https://wandb.ai/da24m027-indian-institute-of-technology-madras/DA6401_Assignment1/sweeps/xy966igu</a>"
            ]
          },
          "metadata": {}
        },
        {
          "output_type": "display_data",
          "data": {
            "text/plain": [
              "<IPython.core.display.HTML object>"
            ],
            "text/html": [
              " View run at <a href='https://wandb.ai/da24m027-indian-institute-of-technology-madras/DA6401_Assignment1/runs/ru2mu9pc' target=\"_blank\">https://wandb.ai/da24m027-indian-institute-of-technology-madras/DA6401_Assignment1/runs/ru2mu9pc</a>"
            ]
          },
          "metadata": {}
        },
        {
          "output_type": "stream",
          "name": "stdout",
          "text": [
            "Epoch 1/10, Loss: 0.0078, Val Loss: 0.0935, Val Accuracy: 0.5870\n",
            "Epoch 2/10, Loss: 0.0047, Val Loss: 0.0655, Val Accuracy: 0.7497\n",
            "Epoch 3/10, Loss: 0.0035, Val Loss: 0.0534, Val Accuracy: 0.8072\n",
            "Epoch 4/10, Loss: 0.0029, Val Loss: 0.0470, Val Accuracy: 0.8417\n",
            "Epoch 5/10, Loss: 0.0026, Val Loss: 0.0429, Val Accuracy: 0.8548\n",
            "Epoch 6/10, Loss: 0.0024, Val Loss: 0.0412, Val Accuracy: 0.8578\n",
            "Epoch 7/10, Loss: 0.0023, Val Loss: 0.0411, Val Accuracy: 0.8588\n",
            "Epoch 8/10, Loss: 0.0022, Val Loss: 0.0396, Val Accuracy: 0.8637\n",
            "Epoch 9/10, Loss: 0.0021, Val Loss: 0.0393, Val Accuracy: 0.8673\n",
            "Epoch 10/10, Loss: 0.0020, Val Loss: 0.0390, Val Accuracy: 0.8668\n"
          ]
        },
        {
          "output_type": "display_data",
          "data": {
            "text/plain": [
              "<IPython.core.display.HTML object>"
            ],
            "text/html": []
          },
          "metadata": {}
        },
        {
          "output_type": "display_data",
          "data": {
            "text/plain": [
              "<IPython.core.display.HTML object>"
            ],
            "text/html": [
              "<br>    <style><br>        .wandb-row {<br>            display: flex;<br>            flex-direction: row;<br>            flex-wrap: wrap;<br>            justify-content: flex-start;<br>            width: 100%;<br>        }<br>        .wandb-col {<br>            display: flex;<br>            flex-direction: column;<br>            flex-basis: 100%;<br>            flex: 1;<br>            padding: 10px;<br>        }<br>    </style><br><div class=\"wandb-row\"><div class=\"wandb-col\"><h3>Run history:</h3><br/><table class=\"wandb\"><tr><td>epoch</td><td>▁▁▂▂▃▃▃▃▄▄▅▅▆▆▆▆▇▇██</td></tr><tr><td>loss</td><td>█▄▃▂▂▁▁▁▁▁</td></tr><tr><td>val_accuracy</td><td>▁▅▆▇██████</td></tr><tr><td>val_loss</td><td>█▄▃▂▂▁▁▁▁▁</td></tr></table><br/></div><div class=\"wandb-col\"><h3>Run summary:</h3><br/><table class=\"wandb\"><tr><td>epoch</td><td>10</td></tr><tr><td>loss</td><td>0.00203</td></tr><tr><td>val_accuracy</td><td>0.86683</td></tr><tr><td>val_loss</td><td>0.039</td></tr></table><br/></div></div>"
            ]
          },
          "metadata": {}
        },
        {
          "output_type": "display_data",
          "data": {
            "text/plain": [
              "<IPython.core.display.HTML object>"
            ],
            "text/html": [
              " View run <strong style=\"color:#cdcd00\">e_10_hl_4_hs_64_lr_0.001_opt_adam_bs_16_init_Xavier_ac_sigmoid_wd_0_loss_cross_entropy</strong> at: <a href='https://wandb.ai/da24m027-indian-institute-of-technology-madras/DA6401_Assignment1/runs/ru2mu9pc' target=\"_blank\">https://wandb.ai/da24m027-indian-institute-of-technology-madras/DA6401_Assignment1/runs/ru2mu9pc</a><br> View project at: <a href='https://wandb.ai/da24m027-indian-institute-of-technology-madras/DA6401_Assignment1' target=\"_blank\">https://wandb.ai/da24m027-indian-institute-of-technology-madras/DA6401_Assignment1</a><br>Synced 5 W&B file(s), 0 media file(s), 0 artifact file(s) and 0 other file(s)"
            ]
          },
          "metadata": {}
        },
        {
          "output_type": "display_data",
          "data": {
            "text/plain": [
              "<IPython.core.display.HTML object>"
            ],
            "text/html": [
              "Find logs at: <code>./wandb/run-20250308_063708-ru2mu9pc/logs</code>"
            ]
          },
          "metadata": {}
        },
        {
          "output_type": "stream",
          "name": "stderr",
          "text": [
            "\u001b[34m\u001b[1mwandb\u001b[0m: Agent Starting Run: 1u6cvgsd with config:\n",
            "\u001b[34m\u001b[1mwandb\u001b[0m: \tactivation: ReLU\n",
            "\u001b[34m\u001b[1mwandb\u001b[0m: \tbatch_size: 16\n",
            "\u001b[34m\u001b[1mwandb\u001b[0m: \tepochs: 10\n",
            "\u001b[34m\u001b[1mwandb\u001b[0m: \thidden_layers: 5\n",
            "\u001b[34m\u001b[1mwandb\u001b[0m: \thidden_size: 128\n",
            "\u001b[34m\u001b[1mwandb\u001b[0m: \tlearning_rate: 0.0001\n",
            "\u001b[34m\u001b[1mwandb\u001b[0m: \tloss_type: mse\n",
            "\u001b[34m\u001b[1mwandb\u001b[0m: \toptimizer: adam\n",
            "\u001b[34m\u001b[1mwandb\u001b[0m: \tweight_decay: 0.0005\n",
            "\u001b[34m\u001b[1mwandb\u001b[0m: \tweights: random\n"
          ]
        },
        {
          "output_type": "display_data",
          "data": {
            "text/plain": [
              "<IPython.core.display.HTML object>"
            ],
            "text/html": [
              "Tracking run with wandb version 0.19.7"
            ]
          },
          "metadata": {}
        },
        {
          "output_type": "display_data",
          "data": {
            "text/plain": [
              "<IPython.core.display.HTML object>"
            ],
            "text/html": [
              "Run data is saved locally in <code>/content/wandb/run-20250308_063805-1u6cvgsd</code>"
            ]
          },
          "metadata": {}
        },
        {
          "output_type": "display_data",
          "data": {
            "text/plain": [
              "<IPython.core.display.HTML object>"
            ],
            "text/html": [
              "Syncing run <strong><a href='https://wandb.ai/da24m027-indian-institute-of-technology-madras/DA6401_Assignment1/runs/1u6cvgsd' target=\"_blank\">different-sweep-37</a></strong> to <a href='https://wandb.ai/da24m027-indian-institute-of-technology-madras/DA6401_Assignment1' target=\"_blank\">Weights & Biases</a> (<a href='https://wandb.me/developer-guide' target=\"_blank\">docs</a>)<br>Sweep page: <a href='https://wandb.ai/da24m027-indian-institute-of-technology-madras/DA6401_Assignment1/sweeps/xy966igu' target=\"_blank\">https://wandb.ai/da24m027-indian-institute-of-technology-madras/DA6401_Assignment1/sweeps/xy966igu</a>"
            ]
          },
          "metadata": {}
        },
        {
          "output_type": "display_data",
          "data": {
            "text/plain": [
              "<IPython.core.display.HTML object>"
            ],
            "text/html": [
              " View project at <a href='https://wandb.ai/da24m027-indian-institute-of-technology-madras/DA6401_Assignment1' target=\"_blank\">https://wandb.ai/da24m027-indian-institute-of-technology-madras/DA6401_Assignment1</a>"
            ]
          },
          "metadata": {}
        },
        {
          "output_type": "display_data",
          "data": {
            "text/plain": [
              "<IPython.core.display.HTML object>"
            ],
            "text/html": [
              " View sweep at <a href='https://wandb.ai/da24m027-indian-institute-of-technology-madras/DA6401_Assignment1/sweeps/xy966igu' target=\"_blank\">https://wandb.ai/da24m027-indian-institute-of-technology-madras/DA6401_Assignment1/sweeps/xy966igu</a>"
            ]
          },
          "metadata": {}
        },
        {
          "output_type": "display_data",
          "data": {
            "text/plain": [
              "<IPython.core.display.HTML object>"
            ],
            "text/html": [
              " View run at <a href='https://wandb.ai/da24m027-indian-institute-of-technology-madras/DA6401_Assignment1/runs/1u6cvgsd' target=\"_blank\">https://wandb.ai/da24m027-indian-institute-of-technology-madras/DA6401_Assignment1/runs/1u6cvgsd</a>"
            ]
          },
          "metadata": {}
        },
        {
          "output_type": "stream",
          "name": "stdout",
          "text": [
            "Epoch 1/10, Loss: 0.0062, Val Loss: 0.1000, Val Accuracy: 0.1027\n",
            "Epoch 2/10, Loss: 0.0063, Val Loss: 0.1000, Val Accuracy: 0.0933\n",
            "Epoch 3/10, Loss: 0.0063, Val Loss: 0.1000, Val Accuracy: 0.0933\n",
            "Epoch 4/10, Loss: 0.0063, Val Loss: 0.1000, Val Accuracy: 0.0933\n",
            "Epoch 5/10, Loss: 0.0063, Val Loss: 0.1000, Val Accuracy: 0.0933\n",
            "Epoch 6/10, Loss: 0.0063, Val Loss: 0.1000, Val Accuracy: 0.0933\n",
            "Epoch 7/10, Loss: 0.0063, Val Loss: 0.1000, Val Accuracy: 0.0933\n",
            "Epoch 8/10, Loss: 0.0063, Val Loss: 0.1000, Val Accuracy: 0.0933\n",
            "Epoch 9/10, Loss: 0.0063, Val Loss: 0.1000, Val Accuracy: 0.0933\n",
            "Epoch 10/10, Loss: 0.0063, Val Loss: 0.1000, Val Accuracy: 0.0933\n"
          ]
        },
        {
          "output_type": "display_data",
          "data": {
            "text/plain": [
              "<IPython.core.display.HTML object>"
            ],
            "text/html": []
          },
          "metadata": {}
        },
        {
          "output_type": "display_data",
          "data": {
            "text/plain": [
              "<IPython.core.display.HTML object>"
            ],
            "text/html": [
              "<br>    <style><br>        .wandb-row {<br>            display: flex;<br>            flex-direction: row;<br>            flex-wrap: wrap;<br>            justify-content: flex-start;<br>            width: 100%;<br>        }<br>        .wandb-col {<br>            display: flex;<br>            flex-direction: column;<br>            flex-basis: 100%;<br>            flex: 1;<br>            padding: 10px;<br>        }<br>    </style><br><div class=\"wandb-row\"><div class=\"wandb-col\"><h3>Run history:</h3><br/><table class=\"wandb\"><tr><td>epoch</td><td>▁▁▂▂▃▃▃▃▄▄▅▅▆▆▆▆▇▇██</td></tr><tr><td>loss</td><td>▁▁▁▁▁▁▁▁▁▁</td></tr><tr><td>val_accuracy</td><td>█▁▁▁▁▁▁▁▁▁</td></tr><tr><td>val_loss</td><td>▁▁▁▁▁▁▁▁▁▁</td></tr></table><br/></div><div class=\"wandb-col\"><h3>Run summary:</h3><br/><table class=\"wandb\"><tr><td>epoch</td><td>10</td></tr><tr><td>loss</td><td>0.00625</td></tr><tr><td>val_accuracy</td><td>0.09333</td></tr><tr><td>val_loss</td><td>0.1</td></tr></table><br/></div></div>"
            ]
          },
          "metadata": {}
        },
        {
          "output_type": "display_data",
          "data": {
            "text/plain": [
              "<IPython.core.display.HTML object>"
            ],
            "text/html": [
              " View run <strong style=\"color:#cdcd00\">e_10_hl_5_hs_128_lr_0.0001_opt_adam_bs_16_init_random_ac_ReLU_wd_0.0005_loss_mse</strong> at: <a href='https://wandb.ai/da24m027-indian-institute-of-technology-madras/DA6401_Assignment1/runs/1u6cvgsd' target=\"_blank\">https://wandb.ai/da24m027-indian-institute-of-technology-madras/DA6401_Assignment1/runs/1u6cvgsd</a><br> View project at: <a href='https://wandb.ai/da24m027-indian-institute-of-technology-madras/DA6401_Assignment1' target=\"_blank\">https://wandb.ai/da24m027-indian-institute-of-technology-madras/DA6401_Assignment1</a><br>Synced 5 W&B file(s), 0 media file(s), 0 artifact file(s) and 0 other file(s)"
            ]
          },
          "metadata": {}
        },
        {
          "output_type": "display_data",
          "data": {
            "text/plain": [
              "<IPython.core.display.HTML object>"
            ],
            "text/html": [
              "Find logs at: <code>./wandb/run-20250308_063805-1u6cvgsd/logs</code>"
            ]
          },
          "metadata": {}
        },
        {
          "output_type": "stream",
          "name": "stderr",
          "text": [
            "\u001b[34m\u001b[1mwandb\u001b[0m: Agent Starting Run: tvvfpr95 with config:\n",
            "\u001b[34m\u001b[1mwandb\u001b[0m: \tactivation: tanh\n",
            "\u001b[34m\u001b[1mwandb\u001b[0m: \tbatch_size: 16\n",
            "\u001b[34m\u001b[1mwandb\u001b[0m: \tepochs: 5\n",
            "\u001b[34m\u001b[1mwandb\u001b[0m: \thidden_layers: 3\n",
            "\u001b[34m\u001b[1mwandb\u001b[0m: \thidden_size: 128\n",
            "\u001b[34m\u001b[1mwandb\u001b[0m: \tlearning_rate: 0.001\n",
            "\u001b[34m\u001b[1mwandb\u001b[0m: \tloss_type: mse\n",
            "\u001b[34m\u001b[1mwandb\u001b[0m: \toptimizer: nesterov\n",
            "\u001b[34m\u001b[1mwandb\u001b[0m: \tweight_decay: 0.0005\n",
            "\u001b[34m\u001b[1mwandb\u001b[0m: \tweights: random\n"
          ]
        },
        {
          "output_type": "display_data",
          "data": {
            "text/plain": [
              "<IPython.core.display.HTML object>"
            ],
            "text/html": [
              "Tracking run with wandb version 0.19.7"
            ]
          },
          "metadata": {}
        },
        {
          "output_type": "display_data",
          "data": {
            "text/plain": [
              "<IPython.core.display.HTML object>"
            ],
            "text/html": [
              "Run data is saved locally in <code>/content/wandb/run-20250308_064940-tvvfpr95</code>"
            ]
          },
          "metadata": {}
        },
        {
          "output_type": "display_data",
          "data": {
            "text/plain": [
              "<IPython.core.display.HTML object>"
            ],
            "text/html": [
              "Syncing run <strong><a href='https://wandb.ai/da24m027-indian-institute-of-technology-madras/DA6401_Assignment1/runs/tvvfpr95' target=\"_blank\">blooming-sweep-38</a></strong> to <a href='https://wandb.ai/da24m027-indian-institute-of-technology-madras/DA6401_Assignment1' target=\"_blank\">Weights & Biases</a> (<a href='https://wandb.me/developer-guide' target=\"_blank\">docs</a>)<br>Sweep page: <a href='https://wandb.ai/da24m027-indian-institute-of-technology-madras/DA6401_Assignment1/sweeps/xy966igu' target=\"_blank\">https://wandb.ai/da24m027-indian-institute-of-technology-madras/DA6401_Assignment1/sweeps/xy966igu</a>"
            ]
          },
          "metadata": {}
        },
        {
          "output_type": "display_data",
          "data": {
            "text/plain": [
              "<IPython.core.display.HTML object>"
            ],
            "text/html": [
              " View project at <a href='https://wandb.ai/da24m027-indian-institute-of-technology-madras/DA6401_Assignment1' target=\"_blank\">https://wandb.ai/da24m027-indian-institute-of-technology-madras/DA6401_Assignment1</a>"
            ]
          },
          "metadata": {}
        },
        {
          "output_type": "display_data",
          "data": {
            "text/plain": [
              "<IPython.core.display.HTML object>"
            ],
            "text/html": [
              " View sweep at <a href='https://wandb.ai/da24m027-indian-institute-of-technology-madras/DA6401_Assignment1/sweeps/xy966igu' target=\"_blank\">https://wandb.ai/da24m027-indian-institute-of-technology-madras/DA6401_Assignment1/sweeps/xy966igu</a>"
            ]
          },
          "metadata": {}
        },
        {
          "output_type": "display_data",
          "data": {
            "text/plain": [
              "<IPython.core.display.HTML object>"
            ],
            "text/html": [
              " View run at <a href='https://wandb.ai/da24m027-indian-institute-of-technology-madras/DA6401_Assignment1/runs/tvvfpr95' target=\"_blank\">https://wandb.ai/da24m027-indian-institute-of-technology-madras/DA6401_Assignment1/runs/tvvfpr95</a>"
            ]
          },
          "metadata": {}
        },
        {
          "output_type": "stream",
          "name": "stdout",
          "text": [
            "Epoch 1/5, Loss: 0.0059, Val Loss: 0.0904, Val Accuracy: 0.0973\n",
            "Epoch 2/5, Loss: 0.0053, Val Loss: 0.0812, Val Accuracy: 0.3523\n",
            "Epoch 3/5, Loss: 0.0049, Val Loss: 0.0732, Val Accuracy: 0.3350\n",
            "Epoch 4/5, Loss: 0.0045, Val Loss: 0.0693, Val Accuracy: 0.4505\n",
            "Epoch 5/5, Loss: 0.0040, Val Loss: 0.0601, Val Accuracy: 0.4590\n"
          ]
        },
        {
          "output_type": "display_data",
          "data": {
            "text/plain": [
              "<IPython.core.display.HTML object>"
            ],
            "text/html": []
          },
          "metadata": {}
        },
        {
          "output_type": "display_data",
          "data": {
            "text/plain": [
              "<IPython.core.display.HTML object>"
            ],
            "text/html": [
              "<br>    <style><br>        .wandb-row {<br>            display: flex;<br>            flex-direction: row;<br>            flex-wrap: wrap;<br>            justify-content: flex-start;<br>            width: 100%;<br>        }<br>        .wandb-col {<br>            display: flex;<br>            flex-direction: column;<br>            flex-basis: 100%;<br>            flex: 1;<br>            padding: 10px;<br>        }<br>    </style><br><div class=\"wandb-row\"><div class=\"wandb-col\"><h3>Run history:</h3><br/><table class=\"wandb\"><tr><td>epoch</td><td>▁▁▃▃▅▅▆▆██</td></tr><tr><td>loss</td><td>█▆▄▃▁</td></tr><tr><td>val_accuracy</td><td>▁▆▆██</td></tr><tr><td>val_loss</td><td>█▆▄▃▁</td></tr></table><br/></div><div class=\"wandb-col\"><h3>Run summary:</h3><br/><table class=\"wandb\"><tr><td>epoch</td><td>5</td></tr><tr><td>loss</td><td>0.00405</td></tr><tr><td>val_accuracy</td><td>0.459</td></tr><tr><td>val_loss</td><td>0.06007</td></tr></table><br/></div></div>"
            ]
          },
          "metadata": {}
        },
        {
          "output_type": "display_data",
          "data": {
            "text/plain": [
              "<IPython.core.display.HTML object>"
            ],
            "text/html": [
              " View run <strong style=\"color:#cdcd00\">e_5_hl_3_hs_128_lr_0.001_opt_nesterov_bs_16_init_random_ac_tanh_wd_0.0005_loss_mse</strong> at: <a href='https://wandb.ai/da24m027-indian-institute-of-technology-madras/DA6401_Assignment1/runs/tvvfpr95' target=\"_blank\">https://wandb.ai/da24m027-indian-institute-of-technology-madras/DA6401_Assignment1/runs/tvvfpr95</a><br> View project at: <a href='https://wandb.ai/da24m027-indian-institute-of-technology-madras/DA6401_Assignment1' target=\"_blank\">https://wandb.ai/da24m027-indian-institute-of-technology-madras/DA6401_Assignment1</a><br>Synced 5 W&B file(s), 0 media file(s), 0 artifact file(s) and 0 other file(s)"
            ]
          },
          "metadata": {}
        },
        {
          "output_type": "display_data",
          "data": {
            "text/plain": [
              "<IPython.core.display.HTML object>"
            ],
            "text/html": [
              "Find logs at: <code>./wandb/run-20250308_064940-tvvfpr95/logs</code>"
            ]
          },
          "metadata": {}
        },
        {
          "output_type": "stream",
          "name": "stderr",
          "text": [
            "\u001b[34m\u001b[1mwandb\u001b[0m: Agent Starting Run: 4aj3zobr with config:\n",
            "\u001b[34m\u001b[1mwandb\u001b[0m: \tactivation: tanh\n",
            "\u001b[34m\u001b[1mwandb\u001b[0m: \tbatch_size: 64\n",
            "\u001b[34m\u001b[1mwandb\u001b[0m: \tepochs: 10\n",
            "\u001b[34m\u001b[1mwandb\u001b[0m: \thidden_layers: 4\n",
            "\u001b[34m\u001b[1mwandb\u001b[0m: \thidden_size: 64\n",
            "\u001b[34m\u001b[1mwandb\u001b[0m: \tlearning_rate: 0.0001\n",
            "\u001b[34m\u001b[1mwandb\u001b[0m: \tloss_type: mse\n",
            "\u001b[34m\u001b[1mwandb\u001b[0m: \toptimizer: adam\n",
            "\u001b[34m\u001b[1mwandb\u001b[0m: \tweight_decay: 0.5\n",
            "\u001b[34m\u001b[1mwandb\u001b[0m: \tweights: random\n"
          ]
        },
        {
          "output_type": "display_data",
          "data": {
            "text/plain": [
              "<IPython.core.display.HTML object>"
            ],
            "text/html": [
              "Tracking run with wandb version 0.19.7"
            ]
          },
          "metadata": {}
        },
        {
          "output_type": "display_data",
          "data": {
            "text/plain": [
              "<IPython.core.display.HTML object>"
            ],
            "text/html": [
              "Run data is saved locally in <code>/content/wandb/run-20250308_065031-4aj3zobr</code>"
            ]
          },
          "metadata": {}
        },
        {
          "output_type": "display_data",
          "data": {
            "text/plain": [
              "<IPython.core.display.HTML object>"
            ],
            "text/html": [
              "Syncing run <strong><a href='https://wandb.ai/da24m027-indian-institute-of-technology-madras/DA6401_Assignment1/runs/4aj3zobr' target=\"_blank\">dark-sweep-39</a></strong> to <a href='https://wandb.ai/da24m027-indian-institute-of-technology-madras/DA6401_Assignment1' target=\"_blank\">Weights & Biases</a> (<a href='https://wandb.me/developer-guide' target=\"_blank\">docs</a>)<br>Sweep page: <a href='https://wandb.ai/da24m027-indian-institute-of-technology-madras/DA6401_Assignment1/sweeps/xy966igu' target=\"_blank\">https://wandb.ai/da24m027-indian-institute-of-technology-madras/DA6401_Assignment1/sweeps/xy966igu</a>"
            ]
          },
          "metadata": {}
        },
        {
          "output_type": "display_data",
          "data": {
            "text/plain": [
              "<IPython.core.display.HTML object>"
            ],
            "text/html": [
              " View project at <a href='https://wandb.ai/da24m027-indian-institute-of-technology-madras/DA6401_Assignment1' target=\"_blank\">https://wandb.ai/da24m027-indian-institute-of-technology-madras/DA6401_Assignment1</a>"
            ]
          },
          "metadata": {}
        },
        {
          "output_type": "display_data",
          "data": {
            "text/plain": [
              "<IPython.core.display.HTML object>"
            ],
            "text/html": [
              " View sweep at <a href='https://wandb.ai/da24m027-indian-institute-of-technology-madras/DA6401_Assignment1/sweeps/xy966igu' target=\"_blank\">https://wandb.ai/da24m027-indian-institute-of-technology-madras/DA6401_Assignment1/sweeps/xy966igu</a>"
            ]
          },
          "metadata": {}
        },
        {
          "output_type": "display_data",
          "data": {
            "text/plain": [
              "<IPython.core.display.HTML object>"
            ],
            "text/html": [
              " View run at <a href='https://wandb.ai/da24m027-indian-institute-of-technology-madras/DA6401_Assignment1/runs/4aj3zobr' target=\"_blank\">https://wandb.ai/da24m027-indian-institute-of-technology-madras/DA6401_Assignment1/runs/4aj3zobr</a>"
            ]
          },
          "metadata": {}
        },
        {
          "output_type": "stream",
          "name": "stdout",
          "text": [
            "Epoch 1/10, Loss: 0.0016, Val Loss: 0.1000, Val Accuracy: 0.0862\n",
            "Epoch 2/10, Loss: 0.0016, Val Loss: 0.1000, Val Accuracy: 0.1048\n",
            "Epoch 3/10, Loss: 0.0016, Val Loss: 0.1000, Val Accuracy: 0.0933\n",
            "Epoch 4/10, Loss: 0.0016, Val Loss: 0.1000, Val Accuracy: 0.1055\n",
            "Epoch 5/10, Loss: 0.0016, Val Loss: 0.1000, Val Accuracy: 0.0907\n",
            "Epoch 6/10, Loss: 0.0016, Val Loss: 0.1000, Val Accuracy: 0.0742\n",
            "Epoch 7/10, Loss: 0.0016, Val Loss: 0.1000, Val Accuracy: 0.1013\n",
            "Epoch 8/10, Loss: 0.0016, Val Loss: 0.1000, Val Accuracy: 0.0778\n",
            "Epoch 9/10, Loss: 0.0016, Val Loss: 0.1000, Val Accuracy: 0.0982\n",
            "Epoch 10/10, Loss: 0.0016, Val Loss: 0.1000, Val Accuracy: 0.1000\n"
          ]
        },
        {
          "output_type": "display_data",
          "data": {
            "text/plain": [
              "<IPython.core.display.HTML object>"
            ],
            "text/html": []
          },
          "metadata": {}
        },
        {
          "output_type": "display_data",
          "data": {
            "text/plain": [
              "<IPython.core.display.HTML object>"
            ],
            "text/html": [
              "<br>    <style><br>        .wandb-row {<br>            display: flex;<br>            flex-direction: row;<br>            flex-wrap: wrap;<br>            justify-content: flex-start;<br>            width: 100%;<br>        }<br>        .wandb-col {<br>            display: flex;<br>            flex-direction: column;<br>            flex-basis: 100%;<br>            flex: 1;<br>            padding: 10px;<br>        }<br>    </style><br><div class=\"wandb-row\"><div class=\"wandb-col\"><h3>Run history:</h3><br/><table class=\"wandb\"><tr><td>epoch</td><td>▁▁▂▂▃▃▃▃▄▄▅▅▆▆▆▆▇▇██</td></tr><tr><td>loss</td><td>▁▁▁▁▁▁▁▁▁▁</td></tr><tr><td>val_accuracy</td><td>▄█▅█▅▁▇▂▆▇</td></tr><tr><td>val_loss</td><td>▁▁▁▁▁▁▁▁▁▁</td></tr></table><br/></div><div class=\"wandb-col\"><h3>Run summary:</h3><br/><table class=\"wandb\"><tr><td>epoch</td><td>10</td></tr><tr><td>loss</td><td>0.00156</td></tr><tr><td>val_accuracy</td><td>0.1</td></tr><tr><td>val_loss</td><td>0.1</td></tr></table><br/></div></div>"
            ]
          },
          "metadata": {}
        },
        {
          "output_type": "display_data",
          "data": {
            "text/plain": [
              "<IPython.core.display.HTML object>"
            ],
            "text/html": [
              " View run <strong style=\"color:#cdcd00\">e_10_hl_4_hs_64_lr_0.0001_opt_adam_bs_64_init_random_ac_tanh_wd_0.5_loss_mse</strong> at: <a href='https://wandb.ai/da24m027-indian-institute-of-technology-madras/DA6401_Assignment1/runs/4aj3zobr' target=\"_blank\">https://wandb.ai/da24m027-indian-institute-of-technology-madras/DA6401_Assignment1/runs/4aj3zobr</a><br> View project at: <a href='https://wandb.ai/da24m027-indian-institute-of-technology-madras/DA6401_Assignment1' target=\"_blank\">https://wandb.ai/da24m027-indian-institute-of-technology-madras/DA6401_Assignment1</a><br>Synced 5 W&B file(s), 0 media file(s), 0 artifact file(s) and 0 other file(s)"
            ]
          },
          "metadata": {}
        },
        {
          "output_type": "display_data",
          "data": {
            "text/plain": [
              "<IPython.core.display.HTML object>"
            ],
            "text/html": [
              "Find logs at: <code>./wandb/run-20250308_065031-4aj3zobr/logs</code>"
            ]
          },
          "metadata": {}
        },
        {
          "output_type": "stream",
          "name": "stderr",
          "text": [
            "\u001b[34m\u001b[1mwandb\u001b[0m: Agent Starting Run: c6gfctx9 with config:\n",
            "\u001b[34m\u001b[1mwandb\u001b[0m: \tactivation: ReLU\n",
            "\u001b[34m\u001b[1mwandb\u001b[0m: \tbatch_size: 32\n",
            "\u001b[34m\u001b[1mwandb\u001b[0m: \tepochs: 10\n",
            "\u001b[34m\u001b[1mwandb\u001b[0m: \thidden_layers: 3\n",
            "\u001b[34m\u001b[1mwandb\u001b[0m: \thidden_size: 128\n",
            "\u001b[34m\u001b[1mwandb\u001b[0m: \tlearning_rate: 0.001\n",
            "\u001b[34m\u001b[1mwandb\u001b[0m: \tloss_type: mse\n",
            "\u001b[34m\u001b[1mwandb\u001b[0m: \toptimizer: momentum\n",
            "\u001b[34m\u001b[1mwandb\u001b[0m: \tweight_decay: 0\n",
            "\u001b[34m\u001b[1mwandb\u001b[0m: \tweights: Xavier\n"
          ]
        },
        {
          "output_type": "display_data",
          "data": {
            "text/plain": [
              "<IPython.core.display.HTML object>"
            ],
            "text/html": [
              "Tracking run with wandb version 0.19.7"
            ]
          },
          "metadata": {}
        },
        {
          "output_type": "display_data",
          "data": {
            "text/plain": [
              "<IPython.core.display.HTML object>"
            ],
            "text/html": [
              "Run data is saved locally in <code>/content/wandb/run-20250308_065102-c6gfctx9</code>"
            ]
          },
          "metadata": {}
        },
        {
          "output_type": "display_data",
          "data": {
            "text/plain": [
              "<IPython.core.display.HTML object>"
            ],
            "text/html": [
              "Syncing run <strong><a href='https://wandb.ai/da24m027-indian-institute-of-technology-madras/DA6401_Assignment1/runs/c6gfctx9' target=\"_blank\">giddy-sweep-40</a></strong> to <a href='https://wandb.ai/da24m027-indian-institute-of-technology-madras/DA6401_Assignment1' target=\"_blank\">Weights & Biases</a> (<a href='https://wandb.me/developer-guide' target=\"_blank\">docs</a>)<br>Sweep page: <a href='https://wandb.ai/da24m027-indian-institute-of-technology-madras/DA6401_Assignment1/sweeps/xy966igu' target=\"_blank\">https://wandb.ai/da24m027-indian-institute-of-technology-madras/DA6401_Assignment1/sweeps/xy966igu</a>"
            ]
          },
          "metadata": {}
        },
        {
          "output_type": "display_data",
          "data": {
            "text/plain": [
              "<IPython.core.display.HTML object>"
            ],
            "text/html": [
              " View project at <a href='https://wandb.ai/da24m027-indian-institute-of-technology-madras/DA6401_Assignment1' target=\"_blank\">https://wandb.ai/da24m027-indian-institute-of-technology-madras/DA6401_Assignment1</a>"
            ]
          },
          "metadata": {}
        },
        {
          "output_type": "display_data",
          "data": {
            "text/plain": [
              "<IPython.core.display.HTML object>"
            ],
            "text/html": [
              " View sweep at <a href='https://wandb.ai/da24m027-indian-institute-of-technology-madras/DA6401_Assignment1/sweeps/xy966igu' target=\"_blank\">https://wandb.ai/da24m027-indian-institute-of-technology-madras/DA6401_Assignment1/sweeps/xy966igu</a>"
            ]
          },
          "metadata": {}
        },
        {
          "output_type": "display_data",
          "data": {
            "text/plain": [
              "<IPython.core.display.HTML object>"
            ],
            "text/html": [
              " View run at <a href='https://wandb.ai/da24m027-indian-institute-of-technology-madras/DA6401_Assignment1/runs/c6gfctx9' target=\"_blank\">https://wandb.ai/da24m027-indian-institute-of-technology-madras/DA6401_Assignment1/runs/c6gfctx9</a>"
            ]
          },
          "metadata": {}
        },
        {
          "output_type": "stream",
          "name": "stdout",
          "text": [
            "Epoch 1/10, Loss: 0.0021, Val Loss: 0.0473, Val Accuracy: 0.6610\n",
            "Epoch 2/10, Loss: 0.0013, Val Loss: 0.0391, Val Accuracy: 0.7332\n",
            "Epoch 3/10, Loss: 0.0011, Val Loss: 0.0327, Val Accuracy: 0.7982\n",
            "Epoch 4/10, Loss: 0.0010, Val Loss: 0.0299, Val Accuracy: 0.8195\n",
            "Epoch 5/10, Loss: 0.0009, Val Loss: 0.0284, Val Accuracy: 0.8303\n",
            "Epoch 6/10, Loss: 0.0009, Val Loss: 0.0274, Val Accuracy: 0.8370\n",
            "Epoch 7/10, Loss: 0.0008, Val Loss: 0.0266, Val Accuracy: 0.8417\n",
            "Epoch 8/10, Loss: 0.0008, Val Loss: 0.0259, Val Accuracy: 0.8463\n",
            "Epoch 9/10, Loss: 0.0008, Val Loss: 0.0253, Val Accuracy: 0.8532\n",
            "Epoch 10/10, Loss: 0.0008, Val Loss: 0.0247, Val Accuracy: 0.8567\n"
          ]
        },
        {
          "output_type": "display_data",
          "data": {
            "text/plain": [
              "<IPython.core.display.HTML object>"
            ],
            "text/html": []
          },
          "metadata": {}
        },
        {
          "output_type": "display_data",
          "data": {
            "text/plain": [
              "<IPython.core.display.HTML object>"
            ],
            "text/html": [
              "<br>    <style><br>        .wandb-row {<br>            display: flex;<br>            flex-direction: row;<br>            flex-wrap: wrap;<br>            justify-content: flex-start;<br>            width: 100%;<br>        }<br>        .wandb-col {<br>            display: flex;<br>            flex-direction: column;<br>            flex-basis: 100%;<br>            flex: 1;<br>            padding: 10px;<br>        }<br>    </style><br><div class=\"wandb-row\"><div class=\"wandb-col\"><h3>Run history:</h3><br/><table class=\"wandb\"><tr><td>epoch</td><td>▁▁▂▂▃▃▃▃▄▄▅▅▆▆▆▆▇▇██</td></tr><tr><td>loss</td><td>█▄▃▂▂▂▁▁▁▁</td></tr><tr><td>val_accuracy</td><td>▁▄▆▇▇▇▇███</td></tr><tr><td>val_loss</td><td>█▅▃▃▂▂▂▁▁▁</td></tr></table><br/></div><div class=\"wandb-col\"><h3>Run summary:</h3><br/><table class=\"wandb\"><tr><td>epoch</td><td>10</td></tr><tr><td>loss</td><td>0.00077</td></tr><tr><td>val_accuracy</td><td>0.85667</td></tr><tr><td>val_loss</td><td>0.02474</td></tr></table><br/></div></div>"
            ]
          },
          "metadata": {}
        },
        {
          "output_type": "display_data",
          "data": {
            "text/plain": [
              "<IPython.core.display.HTML object>"
            ],
            "text/html": [
              " View run <strong style=\"color:#cdcd00\">e_10_hl_3_hs_128_lr_0.001_opt_momentum_bs_32_init_Xavier_ac_ReLU_wd_0_loss_mse</strong> at: <a href='https://wandb.ai/da24m027-indian-institute-of-technology-madras/DA6401_Assignment1/runs/c6gfctx9' target=\"_blank\">https://wandb.ai/da24m027-indian-institute-of-technology-madras/DA6401_Assignment1/runs/c6gfctx9</a><br> View project at: <a href='https://wandb.ai/da24m027-indian-institute-of-technology-madras/DA6401_Assignment1' target=\"_blank\">https://wandb.ai/da24m027-indian-institute-of-technology-madras/DA6401_Assignment1</a><br>Synced 5 W&B file(s), 0 media file(s), 0 artifact file(s) and 0 other file(s)"
            ]
          },
          "metadata": {}
        },
        {
          "output_type": "display_data",
          "data": {
            "text/plain": [
              "<IPython.core.display.HTML object>"
            ],
            "text/html": [
              "Find logs at: <code>./wandb/run-20250308_065102-c6gfctx9/logs</code>"
            ]
          },
          "metadata": {}
        },
        {
          "output_type": "stream",
          "name": "stderr",
          "text": [
            "\u001b[34m\u001b[1mwandb\u001b[0m: Agent Starting Run: 82zty0n8 with config:\n",
            "\u001b[34m\u001b[1mwandb\u001b[0m: \tactivation: ReLU\n",
            "\u001b[34m\u001b[1mwandb\u001b[0m: \tbatch_size: 32\n",
            "\u001b[34m\u001b[1mwandb\u001b[0m: \tepochs: 5\n",
            "\u001b[34m\u001b[1mwandb\u001b[0m: \thidden_layers: 4\n",
            "\u001b[34m\u001b[1mwandb\u001b[0m: \thidden_size: 128\n",
            "\u001b[34m\u001b[1mwandb\u001b[0m: \tlearning_rate: 0.001\n",
            "\u001b[34m\u001b[1mwandb\u001b[0m: \tloss_type: cross_entropy\n",
            "\u001b[34m\u001b[1mwandb\u001b[0m: \toptimizer: sgd\n",
            "\u001b[34m\u001b[1mwandb\u001b[0m: \tweight_decay: 0.5\n",
            "\u001b[34m\u001b[1mwandb\u001b[0m: \tweights: random\n"
          ]
        },
        {
          "output_type": "display_data",
          "data": {
            "text/plain": [
              "<IPython.core.display.HTML object>"
            ],
            "text/html": [
              "Tracking run with wandb version 0.19.7"
            ]
          },
          "metadata": {}
        },
        {
          "output_type": "display_data",
          "data": {
            "text/plain": [
              "<IPython.core.display.HTML object>"
            ],
            "text/html": [
              "Run data is saved locally in <code>/content/wandb/run-20250308_065153-82zty0n8</code>"
            ]
          },
          "metadata": {}
        },
        {
          "output_type": "display_data",
          "data": {
            "text/plain": [
              "<IPython.core.display.HTML object>"
            ],
            "text/html": [
              "Syncing run <strong><a href='https://wandb.ai/da24m027-indian-institute-of-technology-madras/DA6401_Assignment1/runs/82zty0n8' target=\"_blank\">giddy-sweep-41</a></strong> to <a href='https://wandb.ai/da24m027-indian-institute-of-technology-madras/DA6401_Assignment1' target=\"_blank\">Weights & Biases</a> (<a href='https://wandb.me/developer-guide' target=\"_blank\">docs</a>)<br>Sweep page: <a href='https://wandb.ai/da24m027-indian-institute-of-technology-madras/DA6401_Assignment1/sweeps/xy966igu' target=\"_blank\">https://wandb.ai/da24m027-indian-institute-of-technology-madras/DA6401_Assignment1/sweeps/xy966igu</a>"
            ]
          },
          "metadata": {}
        },
        {
          "output_type": "display_data",
          "data": {
            "text/plain": [
              "<IPython.core.display.HTML object>"
            ],
            "text/html": [
              " View project at <a href='https://wandb.ai/da24m027-indian-institute-of-technology-madras/DA6401_Assignment1' target=\"_blank\">https://wandb.ai/da24m027-indian-institute-of-technology-madras/DA6401_Assignment1</a>"
            ]
          },
          "metadata": {}
        },
        {
          "output_type": "display_data",
          "data": {
            "text/plain": [
              "<IPython.core.display.HTML object>"
            ],
            "text/html": [
              " View sweep at <a href='https://wandb.ai/da24m027-indian-institute-of-technology-madras/DA6401_Assignment1/sweeps/xy966igu' target=\"_blank\">https://wandb.ai/da24m027-indian-institute-of-technology-madras/DA6401_Assignment1/sweeps/xy966igu</a>"
            ]
          },
          "metadata": {}
        },
        {
          "output_type": "display_data",
          "data": {
            "text/plain": [
              "<IPython.core.display.HTML object>"
            ],
            "text/html": [
              " View run at <a href='https://wandb.ai/da24m027-indian-institute-of-technology-madras/DA6401_Assignment1/runs/82zty0n8' target=\"_blank\">https://wandb.ai/da24m027-indian-institute-of-technology-madras/DA6401_Assignment1/runs/82zty0n8</a>"
            ]
          },
          "metadata": {}
        },
        {
          "output_type": "stream",
          "name": "stdout",
          "text": [
            "Epoch 1/5, Loss: 0.0072, Val Loss: 0.2303, Val Accuracy: 0.1158\n",
            "Epoch 2/5, Loss: 0.0072, Val Loss: 0.2303, Val Accuracy: 0.1158\n",
            "Epoch 3/5, Loss: 0.0072, Val Loss: 0.2303, Val Accuracy: 0.0860\n",
            "Epoch 4/5, Loss: 0.0072, Val Loss: 0.2303, Val Accuracy: 0.0933\n",
            "Epoch 5/5, Loss: 0.0072, Val Loss: 0.2303, Val Accuracy: 0.0933\n"
          ]
        },
        {
          "output_type": "display_data",
          "data": {
            "text/plain": [
              "<IPython.core.display.HTML object>"
            ],
            "text/html": []
          },
          "metadata": {}
        },
        {
          "output_type": "display_data",
          "data": {
            "text/plain": [
              "<IPython.core.display.HTML object>"
            ],
            "text/html": [
              "<br>    <style><br>        .wandb-row {<br>            display: flex;<br>            flex-direction: row;<br>            flex-wrap: wrap;<br>            justify-content: flex-start;<br>            width: 100%;<br>        }<br>        .wandb-col {<br>            display: flex;<br>            flex-direction: column;<br>            flex-basis: 100%;<br>            flex: 1;<br>            padding: 10px;<br>        }<br>    </style><br><div class=\"wandb-row\"><div class=\"wandb-col\"><h3>Run history:</h3><br/><table class=\"wandb\"><tr><td>epoch</td><td>▁▁▃▃▅▅▆▆██</td></tr><tr><td>loss</td><td>█▁▁▁▁</td></tr><tr><td>val_accuracy</td><td>██▁▃▃</td></tr><tr><td>val_loss</td><td>▁▁▁▁▁</td></tr></table><br/></div><div class=\"wandb-col\"><h3>Run summary:</h3><br/><table class=\"wandb\"><tr><td>epoch</td><td>5</td></tr><tr><td>loss</td><td>0.0072</td></tr><tr><td>val_accuracy</td><td>0.09333</td></tr><tr><td>val_loss</td><td>0.23026</td></tr></table><br/></div></div>"
            ]
          },
          "metadata": {}
        },
        {
          "output_type": "display_data",
          "data": {
            "text/plain": [
              "<IPython.core.display.HTML object>"
            ],
            "text/html": [
              " View run <strong style=\"color:#cdcd00\">e_5_hl_4_hs_128_lr_0.001_opt_sgd_bs_32_init_random_ac_ReLU_wd_0.5_loss_cross_entropy</strong> at: <a href='https://wandb.ai/da24m027-indian-institute-of-technology-madras/DA6401_Assignment1/runs/82zty0n8' target=\"_blank\">https://wandb.ai/da24m027-indian-institute-of-technology-madras/DA6401_Assignment1/runs/82zty0n8</a><br> View project at: <a href='https://wandb.ai/da24m027-indian-institute-of-technology-madras/DA6401_Assignment1' target=\"_blank\">https://wandb.ai/da24m027-indian-institute-of-technology-madras/DA6401_Assignment1</a><br>Synced 5 W&B file(s), 0 media file(s), 0 artifact file(s) and 0 other file(s)"
            ]
          },
          "metadata": {}
        },
        {
          "output_type": "display_data",
          "data": {
            "text/plain": [
              "<IPython.core.display.HTML object>"
            ],
            "text/html": [
              "Find logs at: <code>./wandb/run-20250308_065153-82zty0n8/logs</code>"
            ]
          },
          "metadata": {}
        },
        {
          "output_type": "stream",
          "name": "stderr",
          "text": [
            "\u001b[34m\u001b[1mwandb\u001b[0m: Agent Starting Run: v1gao2po with config:\n",
            "\u001b[34m\u001b[1mwandb\u001b[0m: \tactivation: tanh\n",
            "\u001b[34m\u001b[1mwandb\u001b[0m: \tbatch_size: 32\n",
            "\u001b[34m\u001b[1mwandb\u001b[0m: \tepochs: 5\n",
            "\u001b[34m\u001b[1mwandb\u001b[0m: \thidden_layers: 3\n",
            "\u001b[34m\u001b[1mwandb\u001b[0m: \thidden_size: 128\n",
            "\u001b[34m\u001b[1mwandb\u001b[0m: \tlearning_rate: 0.0001\n",
            "\u001b[34m\u001b[1mwandb\u001b[0m: \tloss_type: cross_entropy\n",
            "\u001b[34m\u001b[1mwandb\u001b[0m: \toptimizer: adam\n",
            "\u001b[34m\u001b[1mwandb\u001b[0m: \tweight_decay: 0.5\n",
            "\u001b[34m\u001b[1mwandb\u001b[0m: \tweights: random\n"
          ]
        },
        {
          "output_type": "display_data",
          "data": {
            "text/plain": [
              "<IPython.core.display.HTML object>"
            ],
            "text/html": [
              "Tracking run with wandb version 0.19.7"
            ]
          },
          "metadata": {}
        },
        {
          "output_type": "display_data",
          "data": {
            "text/plain": [
              "<IPython.core.display.HTML object>"
            ],
            "text/html": [
              "Run data is saved locally in <code>/content/wandb/run-20250308_065224-v1gao2po</code>"
            ]
          },
          "metadata": {}
        },
        {
          "output_type": "display_data",
          "data": {
            "text/plain": [
              "<IPython.core.display.HTML object>"
            ],
            "text/html": [
              "Syncing run <strong><a href='https://wandb.ai/da24m027-indian-institute-of-technology-madras/DA6401_Assignment1/runs/v1gao2po' target=\"_blank\">silver-sweep-42</a></strong> to <a href='https://wandb.ai/da24m027-indian-institute-of-technology-madras/DA6401_Assignment1' target=\"_blank\">Weights & Biases</a> (<a href='https://wandb.me/developer-guide' target=\"_blank\">docs</a>)<br>Sweep page: <a href='https://wandb.ai/da24m027-indian-institute-of-technology-madras/DA6401_Assignment1/sweeps/xy966igu' target=\"_blank\">https://wandb.ai/da24m027-indian-institute-of-technology-madras/DA6401_Assignment1/sweeps/xy966igu</a>"
            ]
          },
          "metadata": {}
        },
        {
          "output_type": "display_data",
          "data": {
            "text/plain": [
              "<IPython.core.display.HTML object>"
            ],
            "text/html": [
              " View project at <a href='https://wandb.ai/da24m027-indian-institute-of-technology-madras/DA6401_Assignment1' target=\"_blank\">https://wandb.ai/da24m027-indian-institute-of-technology-madras/DA6401_Assignment1</a>"
            ]
          },
          "metadata": {}
        },
        {
          "output_type": "display_data",
          "data": {
            "text/plain": [
              "<IPython.core.display.HTML object>"
            ],
            "text/html": [
              " View sweep at <a href='https://wandb.ai/da24m027-indian-institute-of-technology-madras/DA6401_Assignment1/sweeps/xy966igu' target=\"_blank\">https://wandb.ai/da24m027-indian-institute-of-technology-madras/DA6401_Assignment1/sweeps/xy966igu</a>"
            ]
          },
          "metadata": {}
        },
        {
          "output_type": "display_data",
          "data": {
            "text/plain": [
              "<IPython.core.display.HTML object>"
            ],
            "text/html": [
              " View run at <a href='https://wandb.ai/da24m027-indian-institute-of-technology-madras/DA6401_Assignment1/runs/v1gao2po' target=\"_blank\">https://wandb.ai/da24m027-indian-institute-of-technology-madras/DA6401_Assignment1/runs/v1gao2po</a>"
            ]
          },
          "metadata": {}
        },
        {
          "output_type": "stream",
          "name": "stdout",
          "text": [
            "Epoch 1/5, Loss: 0.0072, Val Loss: 0.2303, Val Accuracy: 0.0933\n",
            "Epoch 2/5, Loss: 0.0072, Val Loss: 0.2303, Val Accuracy: 0.0933\n",
            "Epoch 3/5, Loss: 0.0072, Val Loss: 0.2303, Val Accuracy: 0.0933\n",
            "Epoch 4/5, Loss: 0.0072, Val Loss: 0.2303, Val Accuracy: 0.0933\n",
            "Epoch 5/5, Loss: 0.0072, Val Loss: 0.2303, Val Accuracy: 0.0933\n"
          ]
        },
        {
          "output_type": "display_data",
          "data": {
            "text/plain": [
              "<IPython.core.display.HTML object>"
            ],
            "text/html": []
          },
          "metadata": {}
        },
        {
          "output_type": "display_data",
          "data": {
            "text/plain": [
              "<IPython.core.display.HTML object>"
            ],
            "text/html": [
              "<br>    <style><br>        .wandb-row {<br>            display: flex;<br>            flex-direction: row;<br>            flex-wrap: wrap;<br>            justify-content: flex-start;<br>            width: 100%;<br>        }<br>        .wandb-col {<br>            display: flex;<br>            flex-direction: column;<br>            flex-basis: 100%;<br>            flex: 1;<br>            padding: 10px;<br>        }<br>    </style><br><div class=\"wandb-row\"><div class=\"wandb-col\"><h3>Run history:</h3><br/><table class=\"wandb\"><tr><td>epoch</td><td>▁▁▃▃▅▅▆▆██</td></tr><tr><td>loss</td><td>█▁▁▁▁</td></tr><tr><td>val_accuracy</td><td>▁▁▁▁▁</td></tr><tr><td>val_loss</td><td>▁▁▁▁▁</td></tr></table><br/></div><div class=\"wandb-col\"><h3>Run summary:</h3><br/><table class=\"wandb\"><tr><td>epoch</td><td>5</td></tr><tr><td>loss</td><td>0.0072</td></tr><tr><td>val_accuracy</td><td>0.09333</td></tr><tr><td>val_loss</td><td>0.23026</td></tr></table><br/></div></div>"
            ]
          },
          "metadata": {}
        },
        {
          "output_type": "display_data",
          "data": {
            "text/plain": [
              "<IPython.core.display.HTML object>"
            ],
            "text/html": [
              " View run <strong style=\"color:#cdcd00\">e_5_hl_3_hs_128_lr_0.0001_opt_adam_bs_32_init_random_ac_tanh_wd_0.5_loss_cross_entropy</strong> at: <a href='https://wandb.ai/da24m027-indian-institute-of-technology-madras/DA6401_Assignment1/runs/v1gao2po' target=\"_blank\">https://wandb.ai/da24m027-indian-institute-of-technology-madras/DA6401_Assignment1/runs/v1gao2po</a><br> View project at: <a href='https://wandb.ai/da24m027-indian-institute-of-technology-madras/DA6401_Assignment1' target=\"_blank\">https://wandb.ai/da24m027-indian-institute-of-technology-madras/DA6401_Assignment1</a><br>Synced 5 W&B file(s), 0 media file(s), 0 artifact file(s) and 0 other file(s)"
            ]
          },
          "metadata": {}
        },
        {
          "output_type": "display_data",
          "data": {
            "text/plain": [
              "<IPython.core.display.HTML object>"
            ],
            "text/html": [
              "Find logs at: <code>./wandb/run-20250308_065224-v1gao2po/logs</code>"
            ]
          },
          "metadata": {}
        },
        {
          "output_type": "stream",
          "name": "stderr",
          "text": [
            "\u001b[34m\u001b[1mwandb\u001b[0m: Agent Starting Run: xlxljyda with config:\n",
            "\u001b[34m\u001b[1mwandb\u001b[0m: \tactivation: tanh\n",
            "\u001b[34m\u001b[1mwandb\u001b[0m: \tbatch_size: 64\n",
            "\u001b[34m\u001b[1mwandb\u001b[0m: \tepochs: 10\n",
            "\u001b[34m\u001b[1mwandb\u001b[0m: \thidden_layers: 5\n",
            "\u001b[34m\u001b[1mwandb\u001b[0m: \thidden_size: 128\n",
            "\u001b[34m\u001b[1mwandb\u001b[0m: \tlearning_rate: 0.001\n",
            "\u001b[34m\u001b[1mwandb\u001b[0m: \tloss_type: mse\n",
            "\u001b[34m\u001b[1mwandb\u001b[0m: \toptimizer: nesterov\n",
            "\u001b[34m\u001b[1mwandb\u001b[0m: \tweight_decay: 0.0005\n",
            "\u001b[34m\u001b[1mwandb\u001b[0m: \tweights: random\n"
          ]
        },
        {
          "output_type": "display_data",
          "data": {
            "text/plain": [
              "<IPython.core.display.HTML object>"
            ],
            "text/html": [
              "Tracking run with wandb version 0.19.7"
            ]
          },
          "metadata": {}
        },
        {
          "output_type": "display_data",
          "data": {
            "text/plain": [
              "<IPython.core.display.HTML object>"
            ],
            "text/html": [
              "Run data is saved locally in <code>/content/wandb/run-20250308_065305-xlxljyda</code>"
            ]
          },
          "metadata": {}
        },
        {
          "output_type": "display_data",
          "data": {
            "text/plain": [
              "<IPython.core.display.HTML object>"
            ],
            "text/html": [
              "Syncing run <strong><a href='https://wandb.ai/da24m027-indian-institute-of-technology-madras/DA6401_Assignment1/runs/xlxljyda' target=\"_blank\">clean-sweep-43</a></strong> to <a href='https://wandb.ai/da24m027-indian-institute-of-technology-madras/DA6401_Assignment1' target=\"_blank\">Weights & Biases</a> (<a href='https://wandb.me/developer-guide' target=\"_blank\">docs</a>)<br>Sweep page: <a href='https://wandb.ai/da24m027-indian-institute-of-technology-madras/DA6401_Assignment1/sweeps/xy966igu' target=\"_blank\">https://wandb.ai/da24m027-indian-institute-of-technology-madras/DA6401_Assignment1/sweeps/xy966igu</a>"
            ]
          },
          "metadata": {}
        },
        {
          "output_type": "display_data",
          "data": {
            "text/plain": [
              "<IPython.core.display.HTML object>"
            ],
            "text/html": [
              " View project at <a href='https://wandb.ai/da24m027-indian-institute-of-technology-madras/DA6401_Assignment1' target=\"_blank\">https://wandb.ai/da24m027-indian-institute-of-technology-madras/DA6401_Assignment1</a>"
            ]
          },
          "metadata": {}
        },
        {
          "output_type": "display_data",
          "data": {
            "text/plain": [
              "<IPython.core.display.HTML object>"
            ],
            "text/html": [
              " View sweep at <a href='https://wandb.ai/da24m027-indian-institute-of-technology-madras/DA6401_Assignment1/sweeps/xy966igu' target=\"_blank\">https://wandb.ai/da24m027-indian-institute-of-technology-madras/DA6401_Assignment1/sweeps/xy966igu</a>"
            ]
          },
          "metadata": {}
        },
        {
          "output_type": "display_data",
          "data": {
            "text/plain": [
              "<IPython.core.display.HTML object>"
            ],
            "text/html": [
              " View run at <a href='https://wandb.ai/da24m027-indian-institute-of-technology-madras/DA6401_Assignment1/runs/xlxljyda' target=\"_blank\">https://wandb.ai/da24m027-indian-institute-of-technology-madras/DA6401_Assignment1/runs/xlxljyda</a>"
            ]
          },
          "metadata": {}
        },
        {
          "output_type": "stream",
          "name": "stdout",
          "text": [
            "Epoch 1/10, Loss: 0.0016, Val Loss: 0.1000, Val Accuracy: 0.1015\n",
            "Epoch 2/10, Loss: 0.0016, Val Loss: 0.1000, Val Accuracy: 0.1040\n",
            "Epoch 3/10, Loss: 0.0016, Val Loss: 0.1000, Val Accuracy: 0.1050\n",
            "Epoch 4/10, Loss: 0.0016, Val Loss: 0.1000, Val Accuracy: 0.1070\n",
            "Epoch 5/10, Loss: 0.0016, Val Loss: 0.1000, Val Accuracy: 0.1083\n",
            "Epoch 6/10, Loss: 0.0016, Val Loss: 0.1000, Val Accuracy: 0.1115\n",
            "Epoch 7/10, Loss: 0.0016, Val Loss: 0.1000, Val Accuracy: 0.1128\n",
            "Epoch 8/10, Loss: 0.0016, Val Loss: 0.1000, Val Accuracy: 0.1145\n",
            "Epoch 9/10, Loss: 0.0016, Val Loss: 0.1000, Val Accuracy: 0.1173\n",
            "Epoch 10/10, Loss: 0.0016, Val Loss: 0.1000, Val Accuracy: 0.1195\n"
          ]
        },
        {
          "output_type": "display_data",
          "data": {
            "text/plain": [
              "<IPython.core.display.HTML object>"
            ],
            "text/html": []
          },
          "metadata": {}
        },
        {
          "output_type": "display_data",
          "data": {
            "text/plain": [
              "<IPython.core.display.HTML object>"
            ],
            "text/html": [
              "<br>    <style><br>        .wandb-row {<br>            display: flex;<br>            flex-direction: row;<br>            flex-wrap: wrap;<br>            justify-content: flex-start;<br>            width: 100%;<br>        }<br>        .wandb-col {<br>            display: flex;<br>            flex-direction: column;<br>            flex-basis: 100%;<br>            flex: 1;<br>            padding: 10px;<br>        }<br>    </style><br><div class=\"wandb-row\"><div class=\"wandb-col\"><h3>Run history:</h3><br/><table class=\"wandb\"><tr><td>epoch</td><td>▁▁▂▂▃▃▃▃▄▄▅▅▆▆▆▆▇▇██</td></tr><tr><td>loss</td><td>█▇▆▅▄▃▂▂▂▁</td></tr><tr><td>val_accuracy</td><td>▁▂▂▃▄▅▅▆▇█</td></tr><tr><td>val_loss</td><td>█▇▆▅▄▃▂▂▁▁</td></tr></table><br/></div><div class=\"wandb-col\"><h3>Run summary:</h3><br/><table class=\"wandb\"><tr><td>epoch</td><td>10</td></tr><tr><td>loss</td><td>0.00156</td></tr><tr><td>val_accuracy</td><td>0.1195</td></tr><tr><td>val_loss</td><td>0.1</td></tr></table><br/></div></div>"
            ]
          },
          "metadata": {}
        },
        {
          "output_type": "display_data",
          "data": {
            "text/plain": [
              "<IPython.core.display.HTML object>"
            ],
            "text/html": [
              " View run <strong style=\"color:#cdcd00\">e_10_hl_5_hs_128_lr_0.001_opt_nesterov_bs_64_init_random_ac_tanh_wd_0.0005_loss_mse</strong> at: <a href='https://wandb.ai/da24m027-indian-institute-of-technology-madras/DA6401_Assignment1/runs/xlxljyda' target=\"_blank\">https://wandb.ai/da24m027-indian-institute-of-technology-madras/DA6401_Assignment1/runs/xlxljyda</a><br> View project at: <a href='https://wandb.ai/da24m027-indian-institute-of-technology-madras/DA6401_Assignment1' target=\"_blank\">https://wandb.ai/da24m027-indian-institute-of-technology-madras/DA6401_Assignment1</a><br>Synced 5 W&B file(s), 0 media file(s), 0 artifact file(s) and 0 other file(s)"
            ]
          },
          "metadata": {}
        },
        {
          "output_type": "display_data",
          "data": {
            "text/plain": [
              "<IPython.core.display.HTML object>"
            ],
            "text/html": [
              "Find logs at: <code>./wandb/run-20250308_065305-xlxljyda/logs</code>"
            ]
          },
          "metadata": {}
        },
        {
          "output_type": "stream",
          "name": "stderr",
          "text": [
            "\u001b[34m\u001b[1mwandb\u001b[0m: Agent Starting Run: icy2j4m9 with config:\n",
            "\u001b[34m\u001b[1mwandb\u001b[0m: \tactivation: tanh\n",
            "\u001b[34m\u001b[1mwandb\u001b[0m: \tbatch_size: 16\n",
            "\u001b[34m\u001b[1mwandb\u001b[0m: \tepochs: 5\n",
            "\u001b[34m\u001b[1mwandb\u001b[0m: \thidden_layers: 3\n",
            "\u001b[34m\u001b[1mwandb\u001b[0m: \thidden_size: 64\n",
            "\u001b[34m\u001b[1mwandb\u001b[0m: \tlearning_rate: 0.0001\n",
            "\u001b[34m\u001b[1mwandb\u001b[0m: \tloss_type: mse\n",
            "\u001b[34m\u001b[1mwandb\u001b[0m: \toptimizer: momentum\n",
            "\u001b[34m\u001b[1mwandb\u001b[0m: \tweight_decay: 0.5\n",
            "\u001b[34m\u001b[1mwandb\u001b[0m: \tweights: Xavier\n"
          ]
        },
        {
          "output_type": "display_data",
          "data": {
            "text/plain": [
              "<IPython.core.display.HTML object>"
            ],
            "text/html": [
              "Tracking run with wandb version 0.19.7"
            ]
          },
          "metadata": {}
        },
        {
          "output_type": "display_data",
          "data": {
            "text/plain": [
              "<IPython.core.display.HTML object>"
            ],
            "text/html": [
              "Run data is saved locally in <code>/content/wandb/run-20250308_065351-icy2j4m9</code>"
            ]
          },
          "metadata": {}
        },
        {
          "output_type": "display_data",
          "data": {
            "text/plain": [
              "<IPython.core.display.HTML object>"
            ],
            "text/html": [
              "Syncing run <strong><a href='https://wandb.ai/da24m027-indian-institute-of-technology-madras/DA6401_Assignment1/runs/icy2j4m9' target=\"_blank\">likely-sweep-44</a></strong> to <a href='https://wandb.ai/da24m027-indian-institute-of-technology-madras/DA6401_Assignment1' target=\"_blank\">Weights & Biases</a> (<a href='https://wandb.me/developer-guide' target=\"_blank\">docs</a>)<br>Sweep page: <a href='https://wandb.ai/da24m027-indian-institute-of-technology-madras/DA6401_Assignment1/sweeps/xy966igu' target=\"_blank\">https://wandb.ai/da24m027-indian-institute-of-technology-madras/DA6401_Assignment1/sweeps/xy966igu</a>"
            ]
          },
          "metadata": {}
        },
        {
          "output_type": "display_data",
          "data": {
            "text/plain": [
              "<IPython.core.display.HTML object>"
            ],
            "text/html": [
              " View project at <a href='https://wandb.ai/da24m027-indian-institute-of-technology-madras/DA6401_Assignment1' target=\"_blank\">https://wandb.ai/da24m027-indian-institute-of-technology-madras/DA6401_Assignment1</a>"
            ]
          },
          "metadata": {}
        },
        {
          "output_type": "display_data",
          "data": {
            "text/plain": [
              "<IPython.core.display.HTML object>"
            ],
            "text/html": [
              " View sweep at <a href='https://wandb.ai/da24m027-indian-institute-of-technology-madras/DA6401_Assignment1/sweeps/xy966igu' target=\"_blank\">https://wandb.ai/da24m027-indian-institute-of-technology-madras/DA6401_Assignment1/sweeps/xy966igu</a>"
            ]
          },
          "metadata": {}
        },
        {
          "output_type": "display_data",
          "data": {
            "text/plain": [
              "<IPython.core.display.HTML object>"
            ],
            "text/html": [
              " View run at <a href='https://wandb.ai/da24m027-indian-institute-of-technology-madras/DA6401_Assignment1/runs/icy2j4m9' target=\"_blank\">https://wandb.ai/da24m027-indian-institute-of-technology-madras/DA6401_Assignment1/runs/icy2j4m9</a>"
            ]
          },
          "metadata": {}
        },
        {
          "output_type": "stream",
          "name": "stdout",
          "text": [
            "Epoch 1/5, Loss: 0.0062, Val Loss: 0.1000, Val Accuracy: 0.0980\n",
            "Epoch 2/5, Loss: 0.0062, Val Loss: 0.1000, Val Accuracy: 0.0980\n",
            "Epoch 3/5, Loss: 0.0062, Val Loss: 0.1000, Val Accuracy: 0.0980\n",
            "Epoch 4/5, Loss: 0.0063, Val Loss: 0.1000, Val Accuracy: 0.0980\n",
            "Epoch 5/5, Loss: 0.0063, Val Loss: 0.1000, Val Accuracy: 0.0980\n"
          ]
        },
        {
          "output_type": "display_data",
          "data": {
            "text/plain": [
              "<IPython.core.display.HTML object>"
            ],
            "text/html": []
          },
          "metadata": {}
        },
        {
          "output_type": "display_data",
          "data": {
            "text/plain": [
              "<IPython.core.display.HTML object>"
            ],
            "text/html": [
              "<br>    <style><br>        .wandb-row {<br>            display: flex;<br>            flex-direction: row;<br>            flex-wrap: wrap;<br>            justify-content: flex-start;<br>            width: 100%;<br>        }<br>        .wandb-col {<br>            display: flex;<br>            flex-direction: column;<br>            flex-basis: 100%;<br>            flex: 1;<br>            padding: 10px;<br>        }<br>    </style><br><div class=\"wandb-row\"><div class=\"wandb-col\"><h3>Run history:</h3><br/><table class=\"wandb\"><tr><td>epoch</td><td>▁▁▃▃▅▅▆▆██</td></tr><tr><td>loss</td><td>▁████</td></tr><tr><td>val_accuracy</td><td>▁▁▁▁▁</td></tr><tr><td>val_loss</td><td>▁████</td></tr></table><br/></div><div class=\"wandb-col\"><h3>Run summary:</h3><br/><table class=\"wandb\"><tr><td>epoch</td><td>5</td></tr><tr><td>loss</td><td>0.00625</td></tr><tr><td>val_accuracy</td><td>0.098</td></tr><tr><td>val_loss</td><td>0.1</td></tr></table><br/></div></div>"
            ]
          },
          "metadata": {}
        },
        {
          "output_type": "display_data",
          "data": {
            "text/plain": [
              "<IPython.core.display.HTML object>"
            ],
            "text/html": [
              " View run <strong style=\"color:#cdcd00\">e_5_hl_3_hs_64_lr_0.0001_opt_momentum_bs_16_init_Xavier_ac_tanh_wd_0.5_loss_mse</strong> at: <a href='https://wandb.ai/da24m027-indian-institute-of-technology-madras/DA6401_Assignment1/runs/icy2j4m9' target=\"_blank\">https://wandb.ai/da24m027-indian-institute-of-technology-madras/DA6401_Assignment1/runs/icy2j4m9</a><br> View project at: <a href='https://wandb.ai/da24m027-indian-institute-of-technology-madras/DA6401_Assignment1' target=\"_blank\">https://wandb.ai/da24m027-indian-institute-of-technology-madras/DA6401_Assignment1</a><br>Synced 5 W&B file(s), 0 media file(s), 0 artifact file(s) and 0 other file(s)"
            ]
          },
          "metadata": {}
        },
        {
          "output_type": "display_data",
          "data": {
            "text/plain": [
              "<IPython.core.display.HTML object>"
            ],
            "text/html": [
              "Find logs at: <code>./wandb/run-20250308_065351-icy2j4m9/logs</code>"
            ]
          },
          "metadata": {}
        },
        {
          "output_type": "stream",
          "name": "stderr",
          "text": [
            "\u001b[34m\u001b[1mwandb\u001b[0m: Agent Starting Run: 37391i4m with config:\n",
            "\u001b[34m\u001b[1mwandb\u001b[0m: \tactivation: sigmoid\n",
            "\u001b[34m\u001b[1mwandb\u001b[0m: \tbatch_size: 16\n",
            "\u001b[34m\u001b[1mwandb\u001b[0m: \tepochs: 5\n",
            "\u001b[34m\u001b[1mwandb\u001b[0m: \thidden_layers: 5\n",
            "\u001b[34m\u001b[1mwandb\u001b[0m: \thidden_size: 128\n",
            "\u001b[34m\u001b[1mwandb\u001b[0m: \tlearning_rate: 0.0001\n",
            "\u001b[34m\u001b[1mwandb\u001b[0m: \tloss_type: mse\n",
            "\u001b[34m\u001b[1mwandb\u001b[0m: \toptimizer: nadam\n",
            "\u001b[34m\u001b[1mwandb\u001b[0m: \tweight_decay: 0.0005\n",
            "\u001b[34m\u001b[1mwandb\u001b[0m: \tweights: random\n"
          ]
        },
        {
          "output_type": "display_data",
          "data": {
            "text/plain": [
              "<IPython.core.display.HTML object>"
            ],
            "text/html": [
              "Tracking run with wandb version 0.19.7"
            ]
          },
          "metadata": {}
        },
        {
          "output_type": "display_data",
          "data": {
            "text/plain": [
              "<IPython.core.display.HTML object>"
            ],
            "text/html": [
              "Run data is saved locally in <code>/content/wandb/run-20250308_065412-37391i4m</code>"
            ]
          },
          "metadata": {}
        },
        {
          "output_type": "display_data",
          "data": {
            "text/plain": [
              "<IPython.core.display.HTML object>"
            ],
            "text/html": [
              "Syncing run <strong><a href='https://wandb.ai/da24m027-indian-institute-of-technology-madras/DA6401_Assignment1/runs/37391i4m' target=\"_blank\">usual-sweep-45</a></strong> to <a href='https://wandb.ai/da24m027-indian-institute-of-technology-madras/DA6401_Assignment1' target=\"_blank\">Weights & Biases</a> (<a href='https://wandb.me/developer-guide' target=\"_blank\">docs</a>)<br>Sweep page: <a href='https://wandb.ai/da24m027-indian-institute-of-technology-madras/DA6401_Assignment1/sweeps/xy966igu' target=\"_blank\">https://wandb.ai/da24m027-indian-institute-of-technology-madras/DA6401_Assignment1/sweeps/xy966igu</a>"
            ]
          },
          "metadata": {}
        },
        {
          "output_type": "display_data",
          "data": {
            "text/plain": [
              "<IPython.core.display.HTML object>"
            ],
            "text/html": [
              " View project at <a href='https://wandb.ai/da24m027-indian-institute-of-technology-madras/DA6401_Assignment1' target=\"_blank\">https://wandb.ai/da24m027-indian-institute-of-technology-madras/DA6401_Assignment1</a>"
            ]
          },
          "metadata": {}
        },
        {
          "output_type": "display_data",
          "data": {
            "text/plain": [
              "<IPython.core.display.HTML object>"
            ],
            "text/html": [
              " View sweep at <a href='https://wandb.ai/da24m027-indian-institute-of-technology-madras/DA6401_Assignment1/sweeps/xy966igu' target=\"_blank\">https://wandb.ai/da24m027-indian-institute-of-technology-madras/DA6401_Assignment1/sweeps/xy966igu</a>"
            ]
          },
          "metadata": {}
        },
        {
          "output_type": "display_data",
          "data": {
            "text/plain": [
              "<IPython.core.display.HTML object>"
            ],
            "text/html": [
              " View run at <a href='https://wandb.ai/da24m027-indian-institute-of-technology-madras/DA6401_Assignment1/runs/37391i4m' target=\"_blank\">https://wandb.ai/da24m027-indian-institute-of-technology-madras/DA6401_Assignment1/runs/37391i4m</a>"
            ]
          },
          "metadata": {}
        },
        {
          "output_type": "stream",
          "name": "stderr",
          "text": [
            "<ipython-input-7-a320152c13fb>:28: RuntimeWarning: overflow encountered in exp\n",
            "  return 1 / (1 + np.exp(-x))\n"
          ]
        },
        {
          "output_type": "stream",
          "name": "stdout",
          "text": [
            "Epoch 1/5, Loss: 0.0313, Val Loss: 0.1000, Val Accuracy: 0.0933\n",
            "Epoch 2/5, Loss: 0.0308, Val Loss: 0.2500, Val Accuracy: 0.0933\n",
            "Epoch 3/5, Loss: 0.0304, Val Loss: 0.1000, Val Accuracy: 0.0933\n",
            "Epoch 4/5, Loss: 0.0312, Val Loss: 0.9000, Val Accuracy: 0.0933\n",
            "Epoch 5/5, Loss: 0.0313, Val Loss: 0.1000, Val Accuracy: 0.0933\n"
          ]
        },
        {
          "output_type": "display_data",
          "data": {
            "text/plain": [
              "<IPython.core.display.HTML object>"
            ],
            "text/html": []
          },
          "metadata": {}
        },
        {
          "output_type": "display_data",
          "data": {
            "text/plain": [
              "<IPython.core.display.HTML object>"
            ],
            "text/html": [
              "<br>    <style><br>        .wandb-row {<br>            display: flex;<br>            flex-direction: row;<br>            flex-wrap: wrap;<br>            justify-content: flex-start;<br>            width: 100%;<br>        }<br>        .wandb-col {<br>            display: flex;<br>            flex-direction: column;<br>            flex-basis: 100%;<br>            flex: 1;<br>            padding: 10px;<br>        }<br>    </style><br><div class=\"wandb-row\"><div class=\"wandb-col\"><h3>Run history:</h3><br/><table class=\"wandb\"><tr><td>epoch</td><td>▁▁▃▃▅▅▆▆██</td></tr><tr><td>loss</td><td>█▄▁██</td></tr><tr><td>val_accuracy</td><td>▁▁▁▁▁</td></tr><tr><td>val_loss</td><td>▁▂▁█▁</td></tr></table><br/></div><div class=\"wandb-col\"><h3>Run summary:</h3><br/><table class=\"wandb\"><tr><td>epoch</td><td>5</td></tr><tr><td>loss</td><td>0.03126</td></tr><tr><td>val_accuracy</td><td>0.09333</td></tr><tr><td>val_loss</td><td>0.1</td></tr></table><br/></div></div>"
            ]
          },
          "metadata": {}
        },
        {
          "output_type": "display_data",
          "data": {
            "text/plain": [
              "<IPython.core.display.HTML object>"
            ],
            "text/html": [
              " View run <strong style=\"color:#cdcd00\">e_5_hl_5_hs_128_lr_0.0001_opt_nadam_bs_16_init_random_ac_sigmoid_wd_0.0005_loss_mse</strong> at: <a href='https://wandb.ai/da24m027-indian-institute-of-technology-madras/DA6401_Assignment1/runs/37391i4m' target=\"_blank\">https://wandb.ai/da24m027-indian-institute-of-technology-madras/DA6401_Assignment1/runs/37391i4m</a><br> View project at: <a href='https://wandb.ai/da24m027-indian-institute-of-technology-madras/DA6401_Assignment1' target=\"_blank\">https://wandb.ai/da24m027-indian-institute-of-technology-madras/DA6401_Assignment1</a><br>Synced 5 W&B file(s), 0 media file(s), 0 artifact file(s) and 0 other file(s)"
            ]
          },
          "metadata": {}
        },
        {
          "output_type": "display_data",
          "data": {
            "text/plain": [
              "<IPython.core.display.HTML object>"
            ],
            "text/html": [
              "Find logs at: <code>./wandb/run-20250308_065412-37391i4m/logs</code>"
            ]
          },
          "metadata": {}
        },
        {
          "output_type": "stream",
          "name": "stderr",
          "text": [
            "\u001b[34m\u001b[1mwandb\u001b[0m: Agent Starting Run: 3j2ueaxn with config:\n",
            "\u001b[34m\u001b[1mwandb\u001b[0m: \tactivation: ReLU\n",
            "\u001b[34m\u001b[1mwandb\u001b[0m: \tbatch_size: 32\n",
            "\u001b[34m\u001b[1mwandb\u001b[0m: \tepochs: 10\n",
            "\u001b[34m\u001b[1mwandb\u001b[0m: \thidden_layers: 3\n",
            "\u001b[34m\u001b[1mwandb\u001b[0m: \thidden_size: 64\n",
            "\u001b[34m\u001b[1mwandb\u001b[0m: \tlearning_rate: 0.001\n",
            "\u001b[34m\u001b[1mwandb\u001b[0m: \tloss_type: cross_entropy\n",
            "\u001b[34m\u001b[1mwandb\u001b[0m: \toptimizer: nesterov\n",
            "\u001b[34m\u001b[1mwandb\u001b[0m: \tweight_decay: 0.5\n",
            "\u001b[34m\u001b[1mwandb\u001b[0m: \tweights: Xavier\n"
          ]
        },
        {
          "output_type": "display_data",
          "data": {
            "text/plain": [
              "<IPython.core.display.HTML object>"
            ],
            "text/html": [
              "Tracking run with wandb version 0.19.7"
            ]
          },
          "metadata": {}
        },
        {
          "output_type": "display_data",
          "data": {
            "text/plain": [
              "<IPython.core.display.HTML object>"
            ],
            "text/html": [
              "Run data is saved locally in <code>/content/wandb/run-20250308_065533-3j2ueaxn</code>"
            ]
          },
          "metadata": {}
        },
        {
          "output_type": "display_data",
          "data": {
            "text/plain": [
              "<IPython.core.display.HTML object>"
            ],
            "text/html": [
              "Syncing run <strong><a href='https://wandb.ai/da24m027-indian-institute-of-technology-madras/DA6401_Assignment1/runs/3j2ueaxn' target=\"_blank\">fiery-sweep-46</a></strong> to <a href='https://wandb.ai/da24m027-indian-institute-of-technology-madras/DA6401_Assignment1' target=\"_blank\">Weights & Biases</a> (<a href='https://wandb.me/developer-guide' target=\"_blank\">docs</a>)<br>Sweep page: <a href='https://wandb.ai/da24m027-indian-institute-of-technology-madras/DA6401_Assignment1/sweeps/xy966igu' target=\"_blank\">https://wandb.ai/da24m027-indian-institute-of-technology-madras/DA6401_Assignment1/sweeps/xy966igu</a>"
            ]
          },
          "metadata": {}
        },
        {
          "output_type": "display_data",
          "data": {
            "text/plain": [
              "<IPython.core.display.HTML object>"
            ],
            "text/html": [
              " View project at <a href='https://wandb.ai/da24m027-indian-institute-of-technology-madras/DA6401_Assignment1' target=\"_blank\">https://wandb.ai/da24m027-indian-institute-of-technology-madras/DA6401_Assignment1</a>"
            ]
          },
          "metadata": {}
        },
        {
          "output_type": "display_data",
          "data": {
            "text/plain": [
              "<IPython.core.display.HTML object>"
            ],
            "text/html": [
              " View sweep at <a href='https://wandb.ai/da24m027-indian-institute-of-technology-madras/DA6401_Assignment1/sweeps/xy966igu' target=\"_blank\">https://wandb.ai/da24m027-indian-institute-of-technology-madras/DA6401_Assignment1/sweeps/xy966igu</a>"
            ]
          },
          "metadata": {}
        },
        {
          "output_type": "display_data",
          "data": {
            "text/plain": [
              "<IPython.core.display.HTML object>"
            ],
            "text/html": [
              " View run at <a href='https://wandb.ai/da24m027-indian-institute-of-technology-madras/DA6401_Assignment1/runs/3j2ueaxn' target=\"_blank\">https://wandb.ai/da24m027-indian-institute-of-technology-madras/DA6401_Assignment1/runs/3j2ueaxn</a>"
            ]
          },
          "metadata": {}
        },
        {
          "output_type": "stream",
          "name": "stdout",
          "text": [
            "Epoch 1/10, Loss: 0.0072, Val Loss: 0.2303, Val Accuracy: 0.0933\n",
            "Epoch 2/10, Loss: 0.0072, Val Loss: 0.2303, Val Accuracy: 0.0933\n",
            "Epoch 3/10, Loss: 0.0072, Val Loss: 0.2303, Val Accuracy: 0.0933\n",
            "Epoch 4/10, Loss: 0.0072, Val Loss: 0.2303, Val Accuracy: 0.0933\n",
            "Epoch 5/10, Loss: 0.0072, Val Loss: 0.2303, Val Accuracy: 0.0933\n",
            "Epoch 6/10, Loss: 0.0072, Val Loss: 0.2303, Val Accuracy: 0.0933\n",
            "Epoch 7/10, Loss: 0.0072, Val Loss: 0.2303, Val Accuracy: 0.0933\n",
            "Epoch 8/10, Loss: 0.0072, Val Loss: 0.2303, Val Accuracy: 0.0933\n",
            "Epoch 9/10, Loss: 0.0072, Val Loss: 0.2303, Val Accuracy: 0.0933\n",
            "Epoch 10/10, Loss: 0.0072, Val Loss: 0.2303, Val Accuracy: 0.0933\n"
          ]
        },
        {
          "output_type": "display_data",
          "data": {
            "text/plain": [
              "<IPython.core.display.HTML object>"
            ],
            "text/html": []
          },
          "metadata": {}
        },
        {
          "output_type": "display_data",
          "data": {
            "text/plain": [
              "<IPython.core.display.HTML object>"
            ],
            "text/html": [
              "<br>    <style><br>        .wandb-row {<br>            display: flex;<br>            flex-direction: row;<br>            flex-wrap: wrap;<br>            justify-content: flex-start;<br>            width: 100%;<br>        }<br>        .wandb-col {<br>            display: flex;<br>            flex-direction: column;<br>            flex-basis: 100%;<br>            flex: 1;<br>            padding: 10px;<br>        }<br>    </style><br><div class=\"wandb-row\"><div class=\"wandb-col\"><h3>Run history:</h3><br/><table class=\"wandb\"><tr><td>epoch</td><td>▁▁▂▂▃▃▃▃▄▄▅▅▆▆▆▆▇▇██</td></tr><tr><td>loss</td><td>▁█████████</td></tr><tr><td>val_accuracy</td><td>▁▁▁▁▁▁▁▁▁▁</td></tr><tr><td>val_loss</td><td>▁▁▁▁▁▁▁▁▁▁</td></tr></table><br/></div><div class=\"wandb-col\"><h3>Run summary:</h3><br/><table class=\"wandb\"><tr><td>epoch</td><td>10</td></tr><tr><td>loss</td><td>0.0072</td></tr><tr><td>val_accuracy</td><td>0.09333</td></tr><tr><td>val_loss</td><td>0.23026</td></tr></table><br/></div></div>"
            ]
          },
          "metadata": {}
        },
        {
          "output_type": "display_data",
          "data": {
            "text/plain": [
              "<IPython.core.display.HTML object>"
            ],
            "text/html": [
              " View run <strong style=\"color:#cdcd00\">e_10_hl_3_hs_64_lr_0.001_opt_nesterov_bs_32_init_Xavier_ac_ReLU_wd_0.5_loss_cross_entropy</strong> at: <a href='https://wandb.ai/da24m027-indian-institute-of-technology-madras/DA6401_Assignment1/runs/3j2ueaxn' target=\"_blank\">https://wandb.ai/da24m027-indian-institute-of-technology-madras/DA6401_Assignment1/runs/3j2ueaxn</a><br> View project at: <a href='https://wandb.ai/da24m027-indian-institute-of-technology-madras/DA6401_Assignment1' target=\"_blank\">https://wandb.ai/da24m027-indian-institute-of-technology-madras/DA6401_Assignment1</a><br>Synced 5 W&B file(s), 0 media file(s), 0 artifact file(s) and 0 other file(s)"
            ]
          },
          "metadata": {}
        },
        {
          "output_type": "display_data",
          "data": {
            "text/plain": [
              "<IPython.core.display.HTML object>"
            ],
            "text/html": [
              "Find logs at: <code>./wandb/run-20250308_065533-3j2ueaxn/logs</code>"
            ]
          },
          "metadata": {}
        },
        {
          "output_type": "stream",
          "name": "stderr",
          "text": [
            "\u001b[34m\u001b[1mwandb\u001b[0m: Agent Starting Run: kq87ghjt with config:\n",
            "\u001b[34m\u001b[1mwandb\u001b[0m: \tactivation: tanh\n",
            "\u001b[34m\u001b[1mwandb\u001b[0m: \tbatch_size: 32\n",
            "\u001b[34m\u001b[1mwandb\u001b[0m: \tepochs: 10\n",
            "\u001b[34m\u001b[1mwandb\u001b[0m: \thidden_layers: 5\n",
            "\u001b[34m\u001b[1mwandb\u001b[0m: \thidden_size: 64\n",
            "\u001b[34m\u001b[1mwandb\u001b[0m: \tlearning_rate: 0.001\n",
            "\u001b[34m\u001b[1mwandb\u001b[0m: \tloss_type: mse\n",
            "\u001b[34m\u001b[1mwandb\u001b[0m: \toptimizer: momentum\n",
            "\u001b[34m\u001b[1mwandb\u001b[0m: \tweight_decay: 0\n",
            "\u001b[34m\u001b[1mwandb\u001b[0m: \tweights: Xavier\n"
          ]
        },
        {
          "output_type": "display_data",
          "data": {
            "text/plain": [
              "<IPython.core.display.HTML object>"
            ],
            "text/html": [
              "Tracking run with wandb version 0.19.7"
            ]
          },
          "metadata": {}
        },
        {
          "output_type": "display_data",
          "data": {
            "text/plain": [
              "<IPython.core.display.HTML object>"
            ],
            "text/html": [
              "Run data is saved locally in <code>/content/wandb/run-20250308_065609-kq87ghjt</code>"
            ]
          },
          "metadata": {}
        },
        {
          "output_type": "display_data",
          "data": {
            "text/plain": [
              "<IPython.core.display.HTML object>"
            ],
            "text/html": [
              "Syncing run <strong><a href='https://wandb.ai/da24m027-indian-institute-of-technology-madras/DA6401_Assignment1/runs/kq87ghjt' target=\"_blank\">balmy-sweep-47</a></strong> to <a href='https://wandb.ai/da24m027-indian-institute-of-technology-madras/DA6401_Assignment1' target=\"_blank\">Weights & Biases</a> (<a href='https://wandb.me/developer-guide' target=\"_blank\">docs</a>)<br>Sweep page: <a href='https://wandb.ai/da24m027-indian-institute-of-technology-madras/DA6401_Assignment1/sweeps/xy966igu' target=\"_blank\">https://wandb.ai/da24m027-indian-institute-of-technology-madras/DA6401_Assignment1/sweeps/xy966igu</a>"
            ]
          },
          "metadata": {}
        },
        {
          "output_type": "display_data",
          "data": {
            "text/plain": [
              "<IPython.core.display.HTML object>"
            ],
            "text/html": [
              " View project at <a href='https://wandb.ai/da24m027-indian-institute-of-technology-madras/DA6401_Assignment1' target=\"_blank\">https://wandb.ai/da24m027-indian-institute-of-technology-madras/DA6401_Assignment1</a>"
            ]
          },
          "metadata": {}
        },
        {
          "output_type": "display_data",
          "data": {
            "text/plain": [
              "<IPython.core.display.HTML object>"
            ],
            "text/html": [
              " View sweep at <a href='https://wandb.ai/da24m027-indian-institute-of-technology-madras/DA6401_Assignment1/sweeps/xy966igu' target=\"_blank\">https://wandb.ai/da24m027-indian-institute-of-technology-madras/DA6401_Assignment1/sweeps/xy966igu</a>"
            ]
          },
          "metadata": {}
        },
        {
          "output_type": "display_data",
          "data": {
            "text/plain": [
              "<IPython.core.display.HTML object>"
            ],
            "text/html": [
              " View run at <a href='https://wandb.ai/da24m027-indian-institute-of-technology-madras/DA6401_Assignment1/runs/kq87ghjt' target=\"_blank\">https://wandb.ai/da24m027-indian-institute-of-technology-madras/DA6401_Assignment1/runs/kq87ghjt</a>"
            ]
          },
          "metadata": {}
        },
        {
          "output_type": "stream",
          "name": "stdout",
          "text": [
            "Epoch 1/10, Loss: 0.0023, Val Loss: 0.0599, Val Accuracy: 0.6217\n",
            "Epoch 2/10, Loss: 0.0017, Val Loss: 0.0491, Val Accuracy: 0.6565\n",
            "Epoch 3/10, Loss: 0.0015, Val Loss: 0.0443, Val Accuracy: 0.7062\n",
            "Epoch 4/10, Loss: 0.0013, Val Loss: 0.0390, Val Accuracy: 0.7613\n",
            "Epoch 5/10, Loss: 0.0012, Val Loss: 0.0361, Val Accuracy: 0.7755\n",
            "Epoch 6/10, Loss: 0.0011, Val Loss: 0.0342, Val Accuracy: 0.7877\n",
            "Epoch 7/10, Loss: 0.0011, Val Loss: 0.0329, Val Accuracy: 0.7943\n",
            "Epoch 8/10, Loss: 0.0010, Val Loss: 0.0315, Val Accuracy: 0.8042\n",
            "Epoch 9/10, Loss: 0.0010, Val Loss: 0.0301, Val Accuracy: 0.8245\n",
            "Epoch 10/10, Loss: 0.0009, Val Loss: 0.0291, Val Accuracy: 0.8338\n"
          ]
        },
        {
          "output_type": "display_data",
          "data": {
            "text/plain": [
              "<IPython.core.display.HTML object>"
            ],
            "text/html": []
          },
          "metadata": {}
        },
        {
          "output_type": "display_data",
          "data": {
            "text/plain": [
              "<IPython.core.display.HTML object>"
            ],
            "text/html": [
              "<br>    <style><br>        .wandb-row {<br>            display: flex;<br>            flex-direction: row;<br>            flex-wrap: wrap;<br>            justify-content: flex-start;<br>            width: 100%;<br>        }<br>        .wandb-col {<br>            display: flex;<br>            flex-direction: column;<br>            flex-basis: 100%;<br>            flex: 1;<br>            padding: 10px;<br>        }<br>    </style><br><div class=\"wandb-row\"><div class=\"wandb-col\"><h3>Run history:</h3><br/><table class=\"wandb\"><tr><td>epoch</td><td>▁▁▂▂▃▃▃▃▄▄▅▅▆▆▆▆▇▇██</td></tr><tr><td>loss</td><td>█▅▄▃▂▂▂▁▁▁</td></tr><tr><td>val_accuracy</td><td>▁▂▄▆▆▆▇▇██</td></tr><tr><td>val_loss</td><td>█▆▄▃▃▂▂▂▁▁</td></tr></table><br/></div><div class=\"wandb-col\"><h3>Run summary:</h3><br/><table class=\"wandb\"><tr><td>epoch</td><td>10</td></tr><tr><td>loss</td><td>0.00093</td></tr><tr><td>val_accuracy</td><td>0.83383</td></tr><tr><td>val_loss</td><td>0.02913</td></tr></table><br/></div></div>"
            ]
          },
          "metadata": {}
        },
        {
          "output_type": "display_data",
          "data": {
            "text/plain": [
              "<IPython.core.display.HTML object>"
            ],
            "text/html": [
              " View run <strong style=\"color:#cdcd00\">e_10_hl_5_hs_64_lr_0.001_opt_momentum_bs_32_init_Xavier_ac_tanh_wd_0_loss_mse</strong> at: <a href='https://wandb.ai/da24m027-indian-institute-of-technology-madras/DA6401_Assignment1/runs/kq87ghjt' target=\"_blank\">https://wandb.ai/da24m027-indian-institute-of-technology-madras/DA6401_Assignment1/runs/kq87ghjt</a><br> View project at: <a href='https://wandb.ai/da24m027-indian-institute-of-technology-madras/DA6401_Assignment1' target=\"_blank\">https://wandb.ai/da24m027-indian-institute-of-technology-madras/DA6401_Assignment1</a><br>Synced 5 W&B file(s), 0 media file(s), 0 artifact file(s) and 0 other file(s)"
            ]
          },
          "metadata": {}
        },
        {
          "output_type": "display_data",
          "data": {
            "text/plain": [
              "<IPython.core.display.HTML object>"
            ],
            "text/html": [
              "Find logs at: <code>./wandb/run-20250308_065609-kq87ghjt/logs</code>"
            ]
          },
          "metadata": {}
        },
        {
          "output_type": "stream",
          "name": "stderr",
          "text": [
            "\u001b[34m\u001b[1mwandb\u001b[0m: Agent Starting Run: u1d35pyq with config:\n",
            "\u001b[34m\u001b[1mwandb\u001b[0m: \tactivation: tanh\n",
            "\u001b[34m\u001b[1mwandb\u001b[0m: \tbatch_size: 64\n",
            "\u001b[34m\u001b[1mwandb\u001b[0m: \tepochs: 5\n",
            "\u001b[34m\u001b[1mwandb\u001b[0m: \thidden_layers: 4\n",
            "\u001b[34m\u001b[1mwandb\u001b[0m: \thidden_size: 128\n",
            "\u001b[34m\u001b[1mwandb\u001b[0m: \tlearning_rate: 0.001\n",
            "\u001b[34m\u001b[1mwandb\u001b[0m: \tloss_type: cross_entropy\n",
            "\u001b[34m\u001b[1mwandb\u001b[0m: \toptimizer: rmsprop\n",
            "\u001b[34m\u001b[1mwandb\u001b[0m: \tweight_decay: 0\n",
            "\u001b[34m\u001b[1mwandb\u001b[0m: \tweights: random\n"
          ]
        },
        {
          "output_type": "display_data",
          "data": {
            "text/plain": [
              "<IPython.core.display.HTML object>"
            ],
            "text/html": [
              "Tracking run with wandb version 0.19.7"
            ]
          },
          "metadata": {}
        },
        {
          "output_type": "display_data",
          "data": {
            "text/plain": [
              "<IPython.core.display.HTML object>"
            ],
            "text/html": [
              "Run data is saved locally in <code>/content/wandb/run-20250308_065645-u1d35pyq</code>"
            ]
          },
          "metadata": {}
        },
        {
          "output_type": "display_data",
          "data": {
            "text/plain": [
              "<IPython.core.display.HTML object>"
            ],
            "text/html": [
              "Syncing run <strong><a href='https://wandb.ai/da24m027-indian-institute-of-technology-madras/DA6401_Assignment1/runs/u1d35pyq' target=\"_blank\">hopeful-sweep-48</a></strong> to <a href='https://wandb.ai/da24m027-indian-institute-of-technology-madras/DA6401_Assignment1' target=\"_blank\">Weights & Biases</a> (<a href='https://wandb.me/developer-guide' target=\"_blank\">docs</a>)<br>Sweep page: <a href='https://wandb.ai/da24m027-indian-institute-of-technology-madras/DA6401_Assignment1/sweeps/xy966igu' target=\"_blank\">https://wandb.ai/da24m027-indian-institute-of-technology-madras/DA6401_Assignment1/sweeps/xy966igu</a>"
            ]
          },
          "metadata": {}
        },
        {
          "output_type": "display_data",
          "data": {
            "text/plain": [
              "<IPython.core.display.HTML object>"
            ],
            "text/html": [
              " View project at <a href='https://wandb.ai/da24m027-indian-institute-of-technology-madras/DA6401_Assignment1' target=\"_blank\">https://wandb.ai/da24m027-indian-institute-of-technology-madras/DA6401_Assignment1</a>"
            ]
          },
          "metadata": {}
        },
        {
          "output_type": "display_data",
          "data": {
            "text/plain": [
              "<IPython.core.display.HTML object>"
            ],
            "text/html": [
              " View sweep at <a href='https://wandb.ai/da24m027-indian-institute-of-technology-madras/DA6401_Assignment1/sweeps/xy966igu' target=\"_blank\">https://wandb.ai/da24m027-indian-institute-of-technology-madras/DA6401_Assignment1/sweeps/xy966igu</a>"
            ]
          },
          "metadata": {}
        },
        {
          "output_type": "display_data",
          "data": {
            "text/plain": [
              "<IPython.core.display.HTML object>"
            ],
            "text/html": [
              " View run at <a href='https://wandb.ai/da24m027-indian-institute-of-technology-madras/DA6401_Assignment1/runs/u1d35pyq' target=\"_blank\">https://wandb.ai/da24m027-indian-institute-of-technology-madras/DA6401_Assignment1/runs/u1d35pyq</a>"
            ]
          },
          "metadata": {}
        },
        {
          "output_type": "stream",
          "name": "stdout",
          "text": [
            "Epoch 1/5, Loss: 0.0012, Val Loss: 0.0550, Val Accuracy: 0.8042\n",
            "Epoch 2/5, Loss: 0.0008, Val Loss: 0.0435, Val Accuracy: 0.8463\n",
            "Epoch 3/5, Loss: 0.0007, Val Loss: 0.0414, Val Accuracy: 0.8522\n",
            "Epoch 4/5, Loss: 0.0006, Val Loss: 0.0410, Val Accuracy: 0.8555\n",
            "Epoch 5/5, Loss: 0.0006, Val Loss: 0.0414, Val Accuracy: 0.8530\n"
          ]
        },
        {
          "output_type": "display_data",
          "data": {
            "text/plain": [
              "<IPython.core.display.HTML object>"
            ],
            "text/html": []
          },
          "metadata": {}
        },
        {
          "output_type": "display_data",
          "data": {
            "text/plain": [
              "<IPython.core.display.HTML object>"
            ],
            "text/html": [
              "<br>    <style><br>        .wandb-row {<br>            display: flex;<br>            flex-direction: row;<br>            flex-wrap: wrap;<br>            justify-content: flex-start;<br>            width: 100%;<br>        }<br>        .wandb-col {<br>            display: flex;<br>            flex-direction: column;<br>            flex-basis: 100%;<br>            flex: 1;<br>            padding: 10px;<br>        }<br>    </style><br><div class=\"wandb-row\"><div class=\"wandb-col\"><h3>Run history:</h3><br/><table class=\"wandb\"><tr><td>epoch</td><td>▁▁▃▃▅▅▆▆██</td></tr><tr><td>loss</td><td>█▃▂▁▁</td></tr><tr><td>val_accuracy</td><td>▁▇███</td></tr><tr><td>val_loss</td><td>█▂▁▁▁</td></tr></table><br/></div><div class=\"wandb-col\"><h3>Run summary:</h3><br/><table class=\"wandb\"><tr><td>epoch</td><td>5</td></tr><tr><td>loss</td><td>0.00056</td></tr><tr><td>val_accuracy</td><td>0.853</td></tr><tr><td>val_loss</td><td>0.04144</td></tr></table><br/></div></div>"
            ]
          },
          "metadata": {}
        },
        {
          "output_type": "display_data",
          "data": {
            "text/plain": [
              "<IPython.core.display.HTML object>"
            ],
            "text/html": [
              " View run <strong style=\"color:#cdcd00\">e_5_hl_4_hs_128_lr_0.001_opt_rmsprop_bs_64_init_random_ac_tanh_wd_0_loss_cross_entropy</strong> at: <a href='https://wandb.ai/da24m027-indian-institute-of-technology-madras/DA6401_Assignment1/runs/u1d35pyq' target=\"_blank\">https://wandb.ai/da24m027-indian-institute-of-technology-madras/DA6401_Assignment1/runs/u1d35pyq</a><br> View project at: <a href='https://wandb.ai/da24m027-indian-institute-of-technology-madras/DA6401_Assignment1' target=\"_blank\">https://wandb.ai/da24m027-indian-institute-of-technology-madras/DA6401_Assignment1</a><br>Synced 5 W&B file(s), 0 media file(s), 0 artifact file(s) and 0 other file(s)"
            ]
          },
          "metadata": {}
        },
        {
          "output_type": "display_data",
          "data": {
            "text/plain": [
              "<IPython.core.display.HTML object>"
            ],
            "text/html": [
              "Find logs at: <code>./wandb/run-20250308_065645-u1d35pyq/logs</code>"
            ]
          },
          "metadata": {}
        },
        {
          "output_type": "stream",
          "name": "stderr",
          "text": [
            "\u001b[34m\u001b[1mwandb\u001b[0m: Agent Starting Run: vrf0fo8w with config:\n",
            "\u001b[34m\u001b[1mwandb\u001b[0m: \tactivation: sigmoid\n",
            "\u001b[34m\u001b[1mwandb\u001b[0m: \tbatch_size: 16\n",
            "\u001b[34m\u001b[1mwandb\u001b[0m: \tepochs: 10\n",
            "\u001b[34m\u001b[1mwandb\u001b[0m: \thidden_layers: 3\n",
            "\u001b[34m\u001b[1mwandb\u001b[0m: \thidden_size: 32\n",
            "\u001b[34m\u001b[1mwandb\u001b[0m: \tlearning_rate: 0.001\n",
            "\u001b[34m\u001b[1mwandb\u001b[0m: \tloss_type: mse\n",
            "\u001b[34m\u001b[1mwandb\u001b[0m: \toptimizer: nesterov\n",
            "\u001b[34m\u001b[1mwandb\u001b[0m: \tweight_decay: 0\n",
            "\u001b[34m\u001b[1mwandb\u001b[0m: \tweights: random\n"
          ]
        },
        {
          "output_type": "display_data",
          "data": {
            "text/plain": [
              "<IPython.core.display.HTML object>"
            ],
            "text/html": [
              "Tracking run with wandb version 0.19.7"
            ]
          },
          "metadata": {}
        },
        {
          "output_type": "display_data",
          "data": {
            "text/plain": [
              "<IPython.core.display.HTML object>"
            ],
            "text/html": [
              "Run data is saved locally in <code>/content/wandb/run-20250308_065711-vrf0fo8w</code>"
            ]
          },
          "metadata": {}
        },
        {
          "output_type": "display_data",
          "data": {
            "text/plain": [
              "<IPython.core.display.HTML object>"
            ],
            "text/html": [
              "Syncing run <strong><a href='https://wandb.ai/da24m027-indian-institute-of-technology-madras/DA6401_Assignment1/runs/vrf0fo8w' target=\"_blank\">lucky-sweep-49</a></strong> to <a href='https://wandb.ai/da24m027-indian-institute-of-technology-madras/DA6401_Assignment1' target=\"_blank\">Weights & Biases</a> (<a href='https://wandb.me/developer-guide' target=\"_blank\">docs</a>)<br>Sweep page: <a href='https://wandb.ai/da24m027-indian-institute-of-technology-madras/DA6401_Assignment1/sweeps/xy966igu' target=\"_blank\">https://wandb.ai/da24m027-indian-institute-of-technology-madras/DA6401_Assignment1/sweeps/xy966igu</a>"
            ]
          },
          "metadata": {}
        },
        {
          "output_type": "display_data",
          "data": {
            "text/plain": [
              "<IPython.core.display.HTML object>"
            ],
            "text/html": [
              " View project at <a href='https://wandb.ai/da24m027-indian-institute-of-technology-madras/DA6401_Assignment1' target=\"_blank\">https://wandb.ai/da24m027-indian-institute-of-technology-madras/DA6401_Assignment1</a>"
            ]
          },
          "metadata": {}
        },
        {
          "output_type": "display_data",
          "data": {
            "text/plain": [
              "<IPython.core.display.HTML object>"
            ],
            "text/html": [
              " View sweep at <a href='https://wandb.ai/da24m027-indian-institute-of-technology-madras/DA6401_Assignment1/sweeps/xy966igu' target=\"_blank\">https://wandb.ai/da24m027-indian-institute-of-technology-madras/DA6401_Assignment1/sweeps/xy966igu</a>"
            ]
          },
          "metadata": {}
        },
        {
          "output_type": "display_data",
          "data": {
            "text/plain": [
              "<IPython.core.display.HTML object>"
            ],
            "text/html": [
              " View run at <a href='https://wandb.ai/da24m027-indian-institute-of-technology-madras/DA6401_Assignment1/runs/vrf0fo8w' target=\"_blank\">https://wandb.ai/da24m027-indian-institute-of-technology-madras/DA6401_Assignment1/runs/vrf0fo8w</a>"
            ]
          },
          "metadata": {}
        },
        {
          "output_type": "stream",
          "name": "stdout",
          "text": [
            "Epoch 1/10, Loss: 0.0057, Val Loss: 0.0900, Val Accuracy: 0.0973\n",
            "Epoch 2/10, Loss: 0.0056, Val Loss: 0.0900, Val Accuracy: 0.0973\n",
            "Epoch 3/10, Loss: 0.0056, Val Loss: 0.0900, Val Accuracy: 0.0973\n",
            "Epoch 4/10, Loss: 0.0056, Val Loss: 0.0900, Val Accuracy: 0.0973\n",
            "Epoch 5/10, Loss: 0.0056, Val Loss: 0.0900, Val Accuracy: 0.0973\n",
            "Epoch 6/10, Loss: 0.0056, Val Loss: 0.0900, Val Accuracy: 0.0973\n",
            "Epoch 7/10, Loss: 0.0056, Val Loss: 0.0900, Val Accuracy: 0.0973\n",
            "Epoch 8/10, Loss: 0.0056, Val Loss: 0.0900, Val Accuracy: 0.0973\n",
            "Epoch 9/10, Loss: 0.0056, Val Loss: 0.0900, Val Accuracy: 0.0973\n",
            "Epoch 10/10, Loss: 0.0056, Val Loss: 0.0900, Val Accuracy: 0.0973\n"
          ]
        },
        {
          "output_type": "display_data",
          "data": {
            "text/plain": [
              "<IPython.core.display.HTML object>"
            ],
            "text/html": []
          },
          "metadata": {}
        },
        {
          "output_type": "display_data",
          "data": {
            "text/plain": [
              "<IPython.core.display.HTML object>"
            ],
            "text/html": [
              "<br>    <style><br>        .wandb-row {<br>            display: flex;<br>            flex-direction: row;<br>            flex-wrap: wrap;<br>            justify-content: flex-start;<br>            width: 100%;<br>        }<br>        .wandb-col {<br>            display: flex;<br>            flex-direction: column;<br>            flex-basis: 100%;<br>            flex: 1;<br>            padding: 10px;<br>        }<br>    </style><br><div class=\"wandb-row\"><div class=\"wandb-col\"><h3>Run history:</h3><br/><table class=\"wandb\"><tr><td>epoch</td><td>▁▁▂▂▃▃▃▃▄▄▅▅▆▆▆▆▇▇██</td></tr><tr><td>loss</td><td>█▁▁▁▁▁▁▁▁▁</td></tr><tr><td>val_accuracy</td><td>▁▁▁▁▁▁▁▁▁▁</td></tr><tr><td>val_loss</td><td>█▇▆▆▅▄▃▃▂▁</td></tr></table><br/></div><div class=\"wandb-col\"><h3>Run summary:</h3><br/><table class=\"wandb\"><tr><td>epoch</td><td>10</td></tr><tr><td>loss</td><td>0.00563</td></tr><tr><td>val_accuracy</td><td>0.09733</td></tr><tr><td>val_loss</td><td>0.09004</td></tr></table><br/></div></div>"
            ]
          },
          "metadata": {}
        },
        {
          "output_type": "display_data",
          "data": {
            "text/plain": [
              "<IPython.core.display.HTML object>"
            ],
            "text/html": [
              " View run <strong style=\"color:#cdcd00\">e_10_hl_3_hs_32_lr_0.001_opt_nesterov_bs_16_init_random_ac_sigmoid_wd_0_loss_mse</strong> at: <a href='https://wandb.ai/da24m027-indian-institute-of-technology-madras/DA6401_Assignment1/runs/vrf0fo8w' target=\"_blank\">https://wandb.ai/da24m027-indian-institute-of-technology-madras/DA6401_Assignment1/runs/vrf0fo8w</a><br> View project at: <a href='https://wandb.ai/da24m027-indian-institute-of-technology-madras/DA6401_Assignment1' target=\"_blank\">https://wandb.ai/da24m027-indian-institute-of-technology-madras/DA6401_Assignment1</a><br>Synced 5 W&B file(s), 0 media file(s), 0 artifact file(s) and 0 other file(s)"
            ]
          },
          "metadata": {}
        },
        {
          "output_type": "display_data",
          "data": {
            "text/plain": [
              "<IPython.core.display.HTML object>"
            ],
            "text/html": [
              "Find logs at: <code>./wandb/run-20250308_065711-vrf0fo8w/logs</code>"
            ]
          },
          "metadata": {}
        },
        {
          "output_type": "stream",
          "name": "stderr",
          "text": [
            "\u001b[34m\u001b[1mwandb\u001b[0m: Agent Starting Run: txxa3eri with config:\n",
            "\u001b[34m\u001b[1mwandb\u001b[0m: \tactivation: tanh\n",
            "\u001b[34m\u001b[1mwandb\u001b[0m: \tbatch_size: 64\n",
            "\u001b[34m\u001b[1mwandb\u001b[0m: \tepochs: 10\n",
            "\u001b[34m\u001b[1mwandb\u001b[0m: \thidden_layers: 5\n",
            "\u001b[34m\u001b[1mwandb\u001b[0m: \thidden_size: 64\n",
            "\u001b[34m\u001b[1mwandb\u001b[0m: \tlearning_rate: 0.0001\n",
            "\u001b[34m\u001b[1mwandb\u001b[0m: \tloss_type: mse\n",
            "\u001b[34m\u001b[1mwandb\u001b[0m: \toptimizer: rmsprop\n",
            "\u001b[34m\u001b[1mwandb\u001b[0m: \tweight_decay: 0\n",
            "\u001b[34m\u001b[1mwandb\u001b[0m: \tweights: Xavier\n"
          ]
        },
        {
          "output_type": "display_data",
          "data": {
            "text/plain": [
              "<IPython.core.display.HTML object>"
            ],
            "text/html": [
              "Tracking run with wandb version 0.19.7"
            ]
          },
          "metadata": {}
        },
        {
          "output_type": "display_data",
          "data": {
            "text/plain": [
              "<IPython.core.display.HTML object>"
            ],
            "text/html": [
              "Run data is saved locally in <code>/content/wandb/run-20250308_065737-txxa3eri</code>"
            ]
          },
          "metadata": {}
        },
        {
          "output_type": "display_data",
          "data": {
            "text/plain": [
              "<IPython.core.display.HTML object>"
            ],
            "text/html": [
              "Syncing run <strong><a href='https://wandb.ai/da24m027-indian-institute-of-technology-madras/DA6401_Assignment1/runs/txxa3eri' target=\"_blank\">vital-sweep-50</a></strong> to <a href='https://wandb.ai/da24m027-indian-institute-of-technology-madras/DA6401_Assignment1' target=\"_blank\">Weights & Biases</a> (<a href='https://wandb.me/developer-guide' target=\"_blank\">docs</a>)<br>Sweep page: <a href='https://wandb.ai/da24m027-indian-institute-of-technology-madras/DA6401_Assignment1/sweeps/xy966igu' target=\"_blank\">https://wandb.ai/da24m027-indian-institute-of-technology-madras/DA6401_Assignment1/sweeps/xy966igu</a>"
            ]
          },
          "metadata": {}
        },
        {
          "output_type": "display_data",
          "data": {
            "text/plain": [
              "<IPython.core.display.HTML object>"
            ],
            "text/html": [
              " View project at <a href='https://wandb.ai/da24m027-indian-institute-of-technology-madras/DA6401_Assignment1' target=\"_blank\">https://wandb.ai/da24m027-indian-institute-of-technology-madras/DA6401_Assignment1</a>"
            ]
          },
          "metadata": {}
        },
        {
          "output_type": "display_data",
          "data": {
            "text/plain": [
              "<IPython.core.display.HTML object>"
            ],
            "text/html": [
              " View sweep at <a href='https://wandb.ai/da24m027-indian-institute-of-technology-madras/DA6401_Assignment1/sweeps/xy966igu' target=\"_blank\">https://wandb.ai/da24m027-indian-institute-of-technology-madras/DA6401_Assignment1/sweeps/xy966igu</a>"
            ]
          },
          "metadata": {}
        },
        {
          "output_type": "display_data",
          "data": {
            "text/plain": [
              "<IPython.core.display.HTML object>"
            ],
            "text/html": [
              " View run at <a href='https://wandb.ai/da24m027-indian-institute-of-technology-madras/DA6401_Assignment1/runs/txxa3eri' target=\"_blank\">https://wandb.ai/da24m027-indian-institute-of-technology-madras/DA6401_Assignment1/runs/txxa3eri</a>"
            ]
          },
          "metadata": {}
        },
        {
          "output_type": "stream",
          "name": "stdout",
          "text": [
            "Epoch 1/10, Loss: 0.0008, Val Loss: 0.0384, Val Accuracy: 0.7663\n",
            "Epoch 2/10, Loss: 0.0006, Val Loss: 0.0324, Val Accuracy: 0.8097\n",
            "Epoch 3/10, Loss: 0.0005, Val Loss: 0.0295, Val Accuracy: 0.8375\n",
            "Epoch 4/10, Loss: 0.0005, Val Loss: 0.0280, Val Accuracy: 0.8450\n",
            "Epoch 5/10, Loss: 0.0004, Val Loss: 0.0268, Val Accuracy: 0.8505\n",
            "Epoch 6/10, Loss: 0.0004, Val Loss: 0.0259, Val Accuracy: 0.8528\n",
            "Epoch 7/10, Loss: 0.0004, Val Loss: 0.0251, Val Accuracy: 0.8553\n",
            "Epoch 8/10, Loss: 0.0004, Val Loss: 0.0244, Val Accuracy: 0.8587\n",
            "Epoch 9/10, Loss: 0.0004, Val Loss: 0.0238, Val Accuracy: 0.8612\n",
            "Epoch 10/10, Loss: 0.0004, Val Loss: 0.0232, Val Accuracy: 0.8637\n"
          ]
        },
        {
          "output_type": "display_data",
          "data": {
            "text/plain": [
              "<IPython.core.display.HTML object>"
            ],
            "text/html": []
          },
          "metadata": {}
        },
        {
          "output_type": "display_data",
          "data": {
            "text/plain": [
              "<IPython.core.display.HTML object>"
            ],
            "text/html": [
              "<br>    <style><br>        .wandb-row {<br>            display: flex;<br>            flex-direction: row;<br>            flex-wrap: wrap;<br>            justify-content: flex-start;<br>            width: 100%;<br>        }<br>        .wandb-col {<br>            display: flex;<br>            flex-direction: column;<br>            flex-basis: 100%;<br>            flex: 1;<br>            padding: 10px;<br>        }<br>    </style><br><div class=\"wandb-row\"><div class=\"wandb-col\"><h3>Run history:</h3><br/><table class=\"wandb\"><tr><td>epoch</td><td>▁▁▂▂▃▃▃▃▄▄▅▅▆▆▆▆▇▇██</td></tr><tr><td>loss</td><td>█▄▃▂▂▂▂▁▁▁</td></tr><tr><td>val_accuracy</td><td>▁▄▆▇▇▇▇███</td></tr><tr><td>val_loss</td><td>█▅▄▃▃▂▂▂▁▁</td></tr></table><br/></div><div class=\"wandb-col\"><h3>Run summary:</h3><br/><table class=\"wandb\"><tr><td>epoch</td><td>10</td></tr><tr><td>loss</td><td>0.00036</td></tr><tr><td>val_accuracy</td><td>0.86367</td></tr><tr><td>val_loss</td><td>0.02318</td></tr></table><br/></div></div>"
            ]
          },
          "metadata": {}
        },
        {
          "output_type": "display_data",
          "data": {
            "text/plain": [
              "<IPython.core.display.HTML object>"
            ],
            "text/html": [
              " View run <strong style=\"color:#cdcd00\">e_10_hl_5_hs_64_lr_0.0001_opt_rmsprop_bs_64_init_Xavier_ac_tanh_wd_0_loss_mse</strong> at: <a href='https://wandb.ai/da24m027-indian-institute-of-technology-madras/DA6401_Assignment1/runs/txxa3eri' target=\"_blank\">https://wandb.ai/da24m027-indian-institute-of-technology-madras/DA6401_Assignment1/runs/txxa3eri</a><br> View project at: <a href='https://wandb.ai/da24m027-indian-institute-of-technology-madras/DA6401_Assignment1' target=\"_blank\">https://wandb.ai/da24m027-indian-institute-of-technology-madras/DA6401_Assignment1</a><br>Synced 5 W&B file(s), 0 media file(s), 0 artifact file(s) and 0 other file(s)"
            ]
          },
          "metadata": {}
        },
        {
          "output_type": "display_data",
          "data": {
            "text/plain": [
              "<IPython.core.display.HTML object>"
            ],
            "text/html": [
              "Find logs at: <code>./wandb/run-20250308_065737-txxa3eri/logs</code>"
            ]
          },
          "metadata": {}
        },
        {
          "output_type": "stream",
          "name": "stderr",
          "text": [
            "\u001b[34m\u001b[1mwandb\u001b[0m: Agent Starting Run: ecfkm8zt with config:\n",
            "\u001b[34m\u001b[1mwandb\u001b[0m: \tactivation: tanh\n",
            "\u001b[34m\u001b[1mwandb\u001b[0m: \tbatch_size: 64\n",
            "\u001b[34m\u001b[1mwandb\u001b[0m: \tepochs: 10\n",
            "\u001b[34m\u001b[1mwandb\u001b[0m: \thidden_layers: 4\n",
            "\u001b[34m\u001b[1mwandb\u001b[0m: \thidden_size: 64\n",
            "\u001b[34m\u001b[1mwandb\u001b[0m: \tlearning_rate: 0.0001\n",
            "\u001b[34m\u001b[1mwandb\u001b[0m: \tloss_type: mse\n",
            "\u001b[34m\u001b[1mwandb\u001b[0m: \toptimizer: momentum\n",
            "\u001b[34m\u001b[1mwandb\u001b[0m: \tweight_decay: 0\n",
            "\u001b[34m\u001b[1mwandb\u001b[0m: \tweights: random\n"
          ]
        },
        {
          "output_type": "display_data",
          "data": {
            "text/plain": [
              "<IPython.core.display.HTML object>"
            ],
            "text/html": [
              "Tracking run with wandb version 0.19.7"
            ]
          },
          "metadata": {}
        },
        {
          "output_type": "display_data",
          "data": {
            "text/plain": [
              "<IPython.core.display.HTML object>"
            ],
            "text/html": [
              "Run data is saved locally in <code>/content/wandb/run-20250308_065803-ecfkm8zt</code>"
            ]
          },
          "metadata": {}
        },
        {
          "output_type": "display_data",
          "data": {
            "text/plain": [
              "<IPython.core.display.HTML object>"
            ],
            "text/html": [
              "Syncing run <strong><a href='https://wandb.ai/da24m027-indian-institute-of-technology-madras/DA6401_Assignment1/runs/ecfkm8zt' target=\"_blank\">splendid-sweep-51</a></strong> to <a href='https://wandb.ai/da24m027-indian-institute-of-technology-madras/DA6401_Assignment1' target=\"_blank\">Weights & Biases</a> (<a href='https://wandb.me/developer-guide' target=\"_blank\">docs</a>)<br>Sweep page: <a href='https://wandb.ai/da24m027-indian-institute-of-technology-madras/DA6401_Assignment1/sweeps/xy966igu' target=\"_blank\">https://wandb.ai/da24m027-indian-institute-of-technology-madras/DA6401_Assignment1/sweeps/xy966igu</a>"
            ]
          },
          "metadata": {}
        },
        {
          "output_type": "display_data",
          "data": {
            "text/plain": [
              "<IPython.core.display.HTML object>"
            ],
            "text/html": [
              " View project at <a href='https://wandb.ai/da24m027-indian-institute-of-technology-madras/DA6401_Assignment1' target=\"_blank\">https://wandb.ai/da24m027-indian-institute-of-technology-madras/DA6401_Assignment1</a>"
            ]
          },
          "metadata": {}
        },
        {
          "output_type": "display_data",
          "data": {
            "text/plain": [
              "<IPython.core.display.HTML object>"
            ],
            "text/html": [
              " View sweep at <a href='https://wandb.ai/da24m027-indian-institute-of-technology-madras/DA6401_Assignment1/sweeps/xy966igu' target=\"_blank\">https://wandb.ai/da24m027-indian-institute-of-technology-madras/DA6401_Assignment1/sweeps/xy966igu</a>"
            ]
          },
          "metadata": {}
        },
        {
          "output_type": "display_data",
          "data": {
            "text/plain": [
              "<IPython.core.display.HTML object>"
            ],
            "text/html": [
              " View run at <a href='https://wandb.ai/da24m027-indian-institute-of-technology-madras/DA6401_Assignment1/runs/ecfkm8zt' target=\"_blank\">https://wandb.ai/da24m027-indian-institute-of-technology-madras/DA6401_Assignment1/runs/ecfkm8zt</a>"
            ]
          },
          "metadata": {}
        },
        {
          "output_type": "stream",
          "name": "stdout",
          "text": [
            "Epoch 1/10, Loss: 0.0016, Val Loss: 0.1000, Val Accuracy: 0.0973\n",
            "Epoch 2/10, Loss: 0.0016, Val Loss: 0.1000, Val Accuracy: 0.0978\n",
            "Epoch 3/10, Loss: 0.0016, Val Loss: 0.1000, Val Accuracy: 0.0978\n",
            "Epoch 4/10, Loss: 0.0016, Val Loss: 0.1000, Val Accuracy: 0.0983\n",
            "Epoch 5/10, Loss: 0.0016, Val Loss: 0.1000, Val Accuracy: 0.0985\n",
            "Epoch 6/10, Loss: 0.0016, Val Loss: 0.1000, Val Accuracy: 0.0987\n",
            "Epoch 7/10, Loss: 0.0016, Val Loss: 0.1000, Val Accuracy: 0.0980\n",
            "Epoch 8/10, Loss: 0.0016, Val Loss: 0.1000, Val Accuracy: 0.0985\n",
            "Epoch 9/10, Loss: 0.0016, Val Loss: 0.1000, Val Accuracy: 0.0983\n",
            "Epoch 10/10, Loss: 0.0016, Val Loss: 0.1000, Val Accuracy: 0.1000\n"
          ]
        },
        {
          "output_type": "display_data",
          "data": {
            "text/plain": [
              "<IPython.core.display.HTML object>"
            ],
            "text/html": []
          },
          "metadata": {}
        },
        {
          "output_type": "display_data",
          "data": {
            "text/plain": [
              "<IPython.core.display.HTML object>"
            ],
            "text/html": [
              "<br>    <style><br>        .wandb-row {<br>            display: flex;<br>            flex-direction: row;<br>            flex-wrap: wrap;<br>            justify-content: flex-start;<br>            width: 100%;<br>        }<br>        .wandb-col {<br>            display: flex;<br>            flex-direction: column;<br>            flex-basis: 100%;<br>            flex: 1;<br>            padding: 10px;<br>        }<br>    </style><br><div class=\"wandb-row\"><div class=\"wandb-col\"><h3>Run history:</h3><br/><table class=\"wandb\"><tr><td>epoch</td><td>▁▁▂▂▃▃▃▃▄▄▅▅▆▆▆▆▇▇██</td></tr><tr><td>loss</td><td>█▇▆▆▅▄▃▃▂▁</td></tr><tr><td>val_accuracy</td><td>▁▂▂▄▄▅▃▄▄█</td></tr><tr><td>val_loss</td><td>█▇▆▆▅▄▄▃▂▁</td></tr></table><br/></div><div class=\"wandb-col\"><h3>Run summary:</h3><br/><table class=\"wandb\"><tr><td>epoch</td><td>10</td></tr><tr><td>loss</td><td>0.00156</td></tr><tr><td>val_accuracy</td><td>0.1</td></tr><tr><td>val_loss</td><td>0.1</td></tr></table><br/></div></div>"
            ]
          },
          "metadata": {}
        },
        {
          "output_type": "display_data",
          "data": {
            "text/plain": [
              "<IPython.core.display.HTML object>"
            ],
            "text/html": [
              " View run <strong style=\"color:#cdcd00\">e_10_hl_4_hs_64_lr_0.0001_opt_momentum_bs_64_init_random_ac_tanh_wd_0_loss_mse</strong> at: <a href='https://wandb.ai/da24m027-indian-institute-of-technology-madras/DA6401_Assignment1/runs/ecfkm8zt' target=\"_blank\">https://wandb.ai/da24m027-indian-institute-of-technology-madras/DA6401_Assignment1/runs/ecfkm8zt</a><br> View project at: <a href='https://wandb.ai/da24m027-indian-institute-of-technology-madras/DA6401_Assignment1' target=\"_blank\">https://wandb.ai/da24m027-indian-institute-of-technology-madras/DA6401_Assignment1</a><br>Synced 5 W&B file(s), 0 media file(s), 0 artifact file(s) and 0 other file(s)"
            ]
          },
          "metadata": {}
        },
        {
          "output_type": "display_data",
          "data": {
            "text/plain": [
              "<IPython.core.display.HTML object>"
            ],
            "text/html": [
              "Find logs at: <code>./wandb/run-20250308_065803-ecfkm8zt/logs</code>"
            ]
          },
          "metadata": {}
        },
        {
          "output_type": "stream",
          "name": "stderr",
          "text": [
            "\u001b[34m\u001b[1mwandb\u001b[0m: Agent Starting Run: 5ao8s6xg with config:\n",
            "\u001b[34m\u001b[1mwandb\u001b[0m: \tactivation: tanh\n",
            "\u001b[34m\u001b[1mwandb\u001b[0m: \tbatch_size: 64\n",
            "\u001b[34m\u001b[1mwandb\u001b[0m: \tepochs: 10\n",
            "\u001b[34m\u001b[1mwandb\u001b[0m: \thidden_layers: 5\n",
            "\u001b[34m\u001b[1mwandb\u001b[0m: \thidden_size: 64\n",
            "\u001b[34m\u001b[1mwandb\u001b[0m: \tlearning_rate: 0.0001\n",
            "\u001b[34m\u001b[1mwandb\u001b[0m: \tloss_type: cross_entropy\n",
            "\u001b[34m\u001b[1mwandb\u001b[0m: \toptimizer: sgd\n",
            "\u001b[34m\u001b[1mwandb\u001b[0m: \tweight_decay: 0.0005\n",
            "\u001b[34m\u001b[1mwandb\u001b[0m: \tweights: Xavier\n"
          ]
        },
        {
          "output_type": "display_data",
          "data": {
            "text/plain": [
              "<IPython.core.display.HTML object>"
            ],
            "text/html": [
              "Tracking run with wandb version 0.19.7"
            ]
          },
          "metadata": {}
        },
        {
          "output_type": "display_data",
          "data": {
            "text/plain": [
              "<IPython.core.display.HTML object>"
            ],
            "text/html": [
              "Run data is saved locally in <code>/content/wandb/run-20250308_065824-5ao8s6xg</code>"
            ]
          },
          "metadata": {}
        },
        {
          "output_type": "display_data",
          "data": {
            "text/plain": [
              "<IPython.core.display.HTML object>"
            ],
            "text/html": [
              "Syncing run <strong><a href='https://wandb.ai/da24m027-indian-institute-of-technology-madras/DA6401_Assignment1/runs/5ao8s6xg' target=\"_blank\">glorious-sweep-52</a></strong> to <a href='https://wandb.ai/da24m027-indian-institute-of-technology-madras/DA6401_Assignment1' target=\"_blank\">Weights & Biases</a> (<a href='https://wandb.me/developer-guide' target=\"_blank\">docs</a>)<br>Sweep page: <a href='https://wandb.ai/da24m027-indian-institute-of-technology-madras/DA6401_Assignment1/sweeps/xy966igu' target=\"_blank\">https://wandb.ai/da24m027-indian-institute-of-technology-madras/DA6401_Assignment1/sweeps/xy966igu</a>"
            ]
          },
          "metadata": {}
        },
        {
          "output_type": "display_data",
          "data": {
            "text/plain": [
              "<IPython.core.display.HTML object>"
            ],
            "text/html": [
              " View project at <a href='https://wandb.ai/da24m027-indian-institute-of-technology-madras/DA6401_Assignment1' target=\"_blank\">https://wandb.ai/da24m027-indian-institute-of-technology-madras/DA6401_Assignment1</a>"
            ]
          },
          "metadata": {}
        },
        {
          "output_type": "display_data",
          "data": {
            "text/plain": [
              "<IPython.core.display.HTML object>"
            ],
            "text/html": [
              " View sweep at <a href='https://wandb.ai/da24m027-indian-institute-of-technology-madras/DA6401_Assignment1/sweeps/xy966igu' target=\"_blank\">https://wandb.ai/da24m027-indian-institute-of-technology-madras/DA6401_Assignment1/sweeps/xy966igu</a>"
            ]
          },
          "metadata": {}
        },
        {
          "output_type": "display_data",
          "data": {
            "text/plain": [
              "<IPython.core.display.HTML object>"
            ],
            "text/html": [
              " View run at <a href='https://wandb.ai/da24m027-indian-institute-of-technology-madras/DA6401_Assignment1/runs/5ao8s6xg' target=\"_blank\">https://wandb.ai/da24m027-indian-institute-of-technology-madras/DA6401_Assignment1/runs/5ao8s6xg</a>"
            ]
          },
          "metadata": {}
        },
        {
          "output_type": "stream",
          "name": "stdout",
          "text": [
            "Epoch 1/10, Loss: 0.0036, Val Loss: 0.2303, Val Accuracy: 0.0577\n",
            "Epoch 2/10, Loss: 0.0036, Val Loss: 0.2302, Val Accuracy: 0.0667\n",
            "Epoch 3/10, Loss: 0.0036, Val Loss: 0.2301, Val Accuracy: 0.0798\n",
            "Epoch 4/10, Loss: 0.0036, Val Loss: 0.2300, Val Accuracy: 0.1012\n",
            "Epoch 5/10, Loss: 0.0036, Val Loss: 0.2299, Val Accuracy: 0.1332\n",
            "Epoch 6/10, Loss: 0.0036, Val Loss: 0.2298, Val Accuracy: 0.1647\n",
            "Epoch 7/10, Loss: 0.0036, Val Loss: 0.2297, Val Accuracy: 0.1858\n",
            "Epoch 8/10, Loss: 0.0036, Val Loss: 0.2296, Val Accuracy: 0.2085\n",
            "Epoch 9/10, Loss: 0.0036, Val Loss: 0.2295, Val Accuracy: 0.2245\n",
            "Epoch 10/10, Loss: 0.0036, Val Loss: 0.2294, Val Accuracy: 0.2393\n"
          ]
        },
        {
          "output_type": "display_data",
          "data": {
            "text/plain": [
              "<IPython.core.display.HTML object>"
            ],
            "text/html": []
          },
          "metadata": {}
        },
        {
          "output_type": "display_data",
          "data": {
            "text/plain": [
              "<IPython.core.display.HTML object>"
            ],
            "text/html": [
              "<br>    <style><br>        .wandb-row {<br>            display: flex;<br>            flex-direction: row;<br>            flex-wrap: wrap;<br>            justify-content: flex-start;<br>            width: 100%;<br>        }<br>        .wandb-col {<br>            display: flex;<br>            flex-direction: column;<br>            flex-basis: 100%;<br>            flex: 1;<br>            padding: 10px;<br>        }<br>    </style><br><div class=\"wandb-row\"><div class=\"wandb-col\"><h3>Run history:</h3><br/><table class=\"wandb\"><tr><td>epoch</td><td>▁▁▂▂▃▃▃▃▄▄▅▅▆▆▆▆▇▇██</td></tr><tr><td>loss</td><td>█▇▆▆▅▄▃▃▂▁</td></tr><tr><td>val_accuracy</td><td>▁▁▂▃▄▅▆▇▇█</td></tr><tr><td>val_loss</td><td>█▇▆▆▅▄▃▃▂▁</td></tr></table><br/></div><div class=\"wandb-col\"><h3>Run summary:</h3><br/><table class=\"wandb\"><tr><td>epoch</td><td>10</td></tr><tr><td>loss</td><td>0.00359</td></tr><tr><td>val_accuracy</td><td>0.23933</td></tr><tr><td>val_loss</td><td>0.22942</td></tr></table><br/></div></div>"
            ]
          },
          "metadata": {}
        },
        {
          "output_type": "display_data",
          "data": {
            "text/plain": [
              "<IPython.core.display.HTML object>"
            ],
            "text/html": [
              " View run <strong style=\"color:#cdcd00\">e_10_hl_5_hs_64_lr_0.0001_opt_sgd_bs_64_init_Xavier_ac_tanh_wd_0.0005_loss_cross_entropy</strong> at: <a href='https://wandb.ai/da24m027-indian-institute-of-technology-madras/DA6401_Assignment1/runs/5ao8s6xg' target=\"_blank\">https://wandb.ai/da24m027-indian-institute-of-technology-madras/DA6401_Assignment1/runs/5ao8s6xg</a><br> View project at: <a href='https://wandb.ai/da24m027-indian-institute-of-technology-madras/DA6401_Assignment1' target=\"_blank\">https://wandb.ai/da24m027-indian-institute-of-technology-madras/DA6401_Assignment1</a><br>Synced 5 W&B file(s), 0 media file(s), 0 artifact file(s) and 0 other file(s)"
            ]
          },
          "metadata": {}
        },
        {
          "output_type": "display_data",
          "data": {
            "text/plain": [
              "<IPython.core.display.HTML object>"
            ],
            "text/html": [
              "Find logs at: <code>./wandb/run-20250308_065824-5ao8s6xg/logs</code>"
            ]
          },
          "metadata": {}
        },
        {
          "output_type": "stream",
          "name": "stderr",
          "text": [
            "\u001b[34m\u001b[1mwandb\u001b[0m: Agent Starting Run: gdt0f85z with config:\n",
            "\u001b[34m\u001b[1mwandb\u001b[0m: \tactivation: ReLU\n",
            "\u001b[34m\u001b[1mwandb\u001b[0m: \tbatch_size: 32\n",
            "\u001b[34m\u001b[1mwandb\u001b[0m: \tepochs: 5\n",
            "\u001b[34m\u001b[1mwandb\u001b[0m: \thidden_layers: 3\n",
            "\u001b[34m\u001b[1mwandb\u001b[0m: \thidden_size: 32\n",
            "\u001b[34m\u001b[1mwandb\u001b[0m: \tlearning_rate: 0.001\n",
            "\u001b[34m\u001b[1mwandb\u001b[0m: \tloss_type: cross_entropy\n",
            "\u001b[34m\u001b[1mwandb\u001b[0m: \toptimizer: rmsprop\n",
            "\u001b[34m\u001b[1mwandb\u001b[0m: \tweight_decay: 0\n",
            "\u001b[34m\u001b[1mwandb\u001b[0m: \tweights: random\n"
          ]
        },
        {
          "output_type": "display_data",
          "data": {
            "text/plain": [
              "<IPython.core.display.HTML object>"
            ],
            "text/html": [
              "Tracking run with wandb version 0.19.7"
            ]
          },
          "metadata": {}
        },
        {
          "output_type": "display_data",
          "data": {
            "text/plain": [
              "<IPython.core.display.HTML object>"
            ],
            "text/html": [
              "Run data is saved locally in <code>/content/wandb/run-20250308_065849-gdt0f85z</code>"
            ]
          },
          "metadata": {}
        },
        {
          "output_type": "display_data",
          "data": {
            "text/plain": [
              "<IPython.core.display.HTML object>"
            ],
            "text/html": [
              "Syncing run <strong><a href='https://wandb.ai/da24m027-indian-institute-of-technology-madras/DA6401_Assignment1/runs/gdt0f85z' target=\"_blank\">eternal-sweep-53</a></strong> to <a href='https://wandb.ai/da24m027-indian-institute-of-technology-madras/DA6401_Assignment1' target=\"_blank\">Weights & Biases</a> (<a href='https://wandb.me/developer-guide' target=\"_blank\">docs</a>)<br>Sweep page: <a href='https://wandb.ai/da24m027-indian-institute-of-technology-madras/DA6401_Assignment1/sweeps/xy966igu' target=\"_blank\">https://wandb.ai/da24m027-indian-institute-of-technology-madras/DA6401_Assignment1/sweeps/xy966igu</a>"
            ]
          },
          "metadata": {}
        },
        {
          "output_type": "display_data",
          "data": {
            "text/plain": [
              "<IPython.core.display.HTML object>"
            ],
            "text/html": [
              " View project at <a href='https://wandb.ai/da24m027-indian-institute-of-technology-madras/DA6401_Assignment1' target=\"_blank\">https://wandb.ai/da24m027-indian-institute-of-technology-madras/DA6401_Assignment1</a>"
            ]
          },
          "metadata": {}
        },
        {
          "output_type": "display_data",
          "data": {
            "text/plain": [
              "<IPython.core.display.HTML object>"
            ],
            "text/html": [
              " View sweep at <a href='https://wandb.ai/da24m027-indian-institute-of-technology-madras/DA6401_Assignment1/sweeps/xy966igu' target=\"_blank\">https://wandb.ai/da24m027-indian-institute-of-technology-madras/DA6401_Assignment1/sweeps/xy966igu</a>"
            ]
          },
          "metadata": {}
        },
        {
          "output_type": "display_data",
          "data": {
            "text/plain": [
              "<IPython.core.display.HTML object>"
            ],
            "text/html": [
              " View run at <a href='https://wandb.ai/da24m027-indian-institute-of-technology-madras/DA6401_Assignment1/runs/gdt0f85z' target=\"_blank\">https://wandb.ai/da24m027-indian-institute-of-technology-madras/DA6401_Assignment1/runs/gdt0f85z</a>"
            ]
          },
          "metadata": {}
        },
        {
          "output_type": "stream",
          "name": "stdout",
          "text": [
            "Epoch 1/5, Loss: 0.0034, Val Loss: 0.0945, Val Accuracy: 0.6235\n",
            "Epoch 2/5, Loss: 0.0027, Val Loss: 0.0731, Val Accuracy: 0.7303\n",
            "Epoch 3/5, Loss: 0.0021, Val Loss: 0.0577, Val Accuracy: 0.7892\n",
            "Epoch 4/5, Loss: 0.0017, Val Loss: 0.0511, Val Accuracy: 0.8203\n",
            "Epoch 5/5, Loss: 0.0015, Val Loss: 0.0477, Val Accuracy: 0.8322\n"
          ]
        },
        {
          "output_type": "display_data",
          "data": {
            "text/plain": [
              "<IPython.core.display.HTML object>"
            ],
            "text/html": []
          },
          "metadata": {}
        },
        {
          "output_type": "display_data",
          "data": {
            "text/plain": [
              "<IPython.core.display.HTML object>"
            ],
            "text/html": [
              "<br>    <style><br>        .wandb-row {<br>            display: flex;<br>            flex-direction: row;<br>            flex-wrap: wrap;<br>            justify-content: flex-start;<br>            width: 100%;<br>        }<br>        .wandb-col {<br>            display: flex;<br>            flex-direction: column;<br>            flex-basis: 100%;<br>            flex: 1;<br>            padding: 10px;<br>        }<br>    </style><br><div class=\"wandb-row\"><div class=\"wandb-col\"><h3>Run history:</h3><br/><table class=\"wandb\"><tr><td>epoch</td><td>▁▁▃▃▅▅▆▆██</td></tr><tr><td>loss</td><td>█▅▃▂▁</td></tr><tr><td>val_accuracy</td><td>▁▅▇██</td></tr><tr><td>val_loss</td><td>█▅▃▂▁</td></tr></table><br/></div><div class=\"wandb-col\"><h3>Run summary:</h3><br/><table class=\"wandb\"><tr><td>epoch</td><td>5</td></tr><tr><td>loss</td><td>0.00155</td></tr><tr><td>val_accuracy</td><td>0.83217</td></tr><tr><td>val_loss</td><td>0.0477</td></tr></table><br/></div></div>"
            ]
          },
          "metadata": {}
        },
        {
          "output_type": "display_data",
          "data": {
            "text/plain": [
              "<IPython.core.display.HTML object>"
            ],
            "text/html": [
              " View run <strong style=\"color:#cdcd00\">e_5_hl_3_hs_32_lr_0.001_opt_rmsprop_bs_32_init_random_ac_ReLU_wd_0_loss_cross_entropy</strong> at: <a href='https://wandb.ai/da24m027-indian-institute-of-technology-madras/DA6401_Assignment1/runs/gdt0f85z' target=\"_blank\">https://wandb.ai/da24m027-indian-institute-of-technology-madras/DA6401_Assignment1/runs/gdt0f85z</a><br> View project at: <a href='https://wandb.ai/da24m027-indian-institute-of-technology-madras/DA6401_Assignment1' target=\"_blank\">https://wandb.ai/da24m027-indian-institute-of-technology-madras/DA6401_Assignment1</a><br>Synced 5 W&B file(s), 0 media file(s), 0 artifact file(s) and 0 other file(s)"
            ]
          },
          "metadata": {}
        },
        {
          "output_type": "display_data",
          "data": {
            "text/plain": [
              "<IPython.core.display.HTML object>"
            ],
            "text/html": [
              "Find logs at: <code>./wandb/run-20250308_065849-gdt0f85z/logs</code>"
            ]
          },
          "metadata": {}
        },
        {
          "output_type": "stream",
          "name": "stderr",
          "text": [
            "\u001b[34m\u001b[1mwandb\u001b[0m: Agent Starting Run: r1k6pis8 with config:\n",
            "\u001b[34m\u001b[1mwandb\u001b[0m: \tactivation: ReLU\n",
            "\u001b[34m\u001b[1mwandb\u001b[0m: \tbatch_size: 16\n",
            "\u001b[34m\u001b[1mwandb\u001b[0m: \tepochs: 10\n",
            "\u001b[34m\u001b[1mwandb\u001b[0m: \thidden_layers: 3\n",
            "\u001b[34m\u001b[1mwandb\u001b[0m: \thidden_size: 128\n",
            "\u001b[34m\u001b[1mwandb\u001b[0m: \tlearning_rate: 0.0001\n",
            "\u001b[34m\u001b[1mwandb\u001b[0m: \tloss_type: cross_entropy\n",
            "\u001b[34m\u001b[1mwandb\u001b[0m: \toptimizer: momentum\n",
            "\u001b[34m\u001b[1mwandb\u001b[0m: \tweight_decay: 0.0005\n",
            "\u001b[34m\u001b[1mwandb\u001b[0m: \tweights: Xavier\n"
          ]
        },
        {
          "output_type": "display_data",
          "data": {
            "text/plain": [
              "<IPython.core.display.HTML object>"
            ],
            "text/html": [
              "Tracking run with wandb version 0.19.7"
            ]
          },
          "metadata": {}
        },
        {
          "output_type": "display_data",
          "data": {
            "text/plain": [
              "<IPython.core.display.HTML object>"
            ],
            "text/html": [
              "Run data is saved locally in <code>/content/wandb/run-20250308_065905-r1k6pis8</code>"
            ]
          },
          "metadata": {}
        },
        {
          "output_type": "display_data",
          "data": {
            "text/plain": [
              "<IPython.core.display.HTML object>"
            ],
            "text/html": [
              "Syncing run <strong><a href='https://wandb.ai/da24m027-indian-institute-of-technology-madras/DA6401_Assignment1/runs/r1k6pis8' target=\"_blank\">unique-sweep-54</a></strong> to <a href='https://wandb.ai/da24m027-indian-institute-of-technology-madras/DA6401_Assignment1' target=\"_blank\">Weights & Biases</a> (<a href='https://wandb.me/developer-guide' target=\"_blank\">docs</a>)<br>Sweep page: <a href='https://wandb.ai/da24m027-indian-institute-of-technology-madras/DA6401_Assignment1/sweeps/xy966igu' target=\"_blank\">https://wandb.ai/da24m027-indian-institute-of-technology-madras/DA6401_Assignment1/sweeps/xy966igu</a>"
            ]
          },
          "metadata": {}
        },
        {
          "output_type": "display_data",
          "data": {
            "text/plain": [
              "<IPython.core.display.HTML object>"
            ],
            "text/html": [
              " View project at <a href='https://wandb.ai/da24m027-indian-institute-of-technology-madras/DA6401_Assignment1' target=\"_blank\">https://wandb.ai/da24m027-indian-institute-of-technology-madras/DA6401_Assignment1</a>"
            ]
          },
          "metadata": {}
        },
        {
          "output_type": "display_data",
          "data": {
            "text/plain": [
              "<IPython.core.display.HTML object>"
            ],
            "text/html": [
              " View sweep at <a href='https://wandb.ai/da24m027-indian-institute-of-technology-madras/DA6401_Assignment1/sweeps/xy966igu' target=\"_blank\">https://wandb.ai/da24m027-indian-institute-of-technology-madras/DA6401_Assignment1/sweeps/xy966igu</a>"
            ]
          },
          "metadata": {}
        },
        {
          "output_type": "display_data",
          "data": {
            "text/plain": [
              "<IPython.core.display.HTML object>"
            ],
            "text/html": [
              " View run at <a href='https://wandb.ai/da24m027-indian-institute-of-technology-madras/DA6401_Assignment1/runs/r1k6pis8' target=\"_blank\">https://wandb.ai/da24m027-indian-institute-of-technology-madras/DA6401_Assignment1/runs/r1k6pis8</a>"
            ]
          },
          "metadata": {}
        },
        {
          "output_type": "stream",
          "name": "stdout",
          "text": [
            "Epoch 1/10, Loss: 0.0141, Val Loss: 0.2191, Val Accuracy: 0.1362\n",
            "Epoch 2/10, Loss: 0.0118, Val Loss: 0.1440, Val Accuracy: 0.5187\n",
            "Epoch 3/10, Loss: 0.0073, Val Loss: 0.0980, Val Accuracy: 0.6328\n",
            "Epoch 4/10, Loss: 0.0056, Val Loss: 0.0843, Val Accuracy: 0.6737\n",
            "Epoch 5/10, Loss: 0.0050, Val Loss: 0.0771, Val Accuracy: 0.6978\n",
            "Epoch 6/10, Loss: 0.0046, Val Loss: 0.0722, Val Accuracy: 0.7222\n",
            "Epoch 7/10, Loss: 0.0044, Val Loss: 0.0683, Val Accuracy: 0.7460\n",
            "Epoch 8/10, Loss: 0.0041, Val Loss: 0.0651, Val Accuracy: 0.7600\n",
            "Epoch 9/10, Loss: 0.0040, Val Loss: 0.0625, Val Accuracy: 0.7748\n",
            "Epoch 10/10, Loss: 0.0038, Val Loss: 0.0603, Val Accuracy: 0.7877\n"
          ]
        },
        {
          "output_type": "display_data",
          "data": {
            "text/plain": [
              "<IPython.core.display.HTML object>"
            ],
            "text/html": []
          },
          "metadata": {}
        },
        {
          "output_type": "display_data",
          "data": {
            "text/plain": [
              "<IPython.core.display.HTML object>"
            ],
            "text/html": [
              "<br>    <style><br>        .wandb-row {<br>            display: flex;<br>            flex-direction: row;<br>            flex-wrap: wrap;<br>            justify-content: flex-start;<br>            width: 100%;<br>        }<br>        .wandb-col {<br>            display: flex;<br>            flex-direction: column;<br>            flex-basis: 100%;<br>            flex: 1;<br>            padding: 10px;<br>        }<br>    </style><br><div class=\"wandb-row\"><div class=\"wandb-col\"><h3>Run history:</h3><br/><table class=\"wandb\"><tr><td>epoch</td><td>▁▁▂▂▃▃▃▃▄▄▅▅▆▆▆▆▇▇██</td></tr><tr><td>loss</td><td>█▆▃▂▂▂▁▁▁▁</td></tr><tr><td>val_accuracy</td><td>▁▅▆▇▇▇████</td></tr><tr><td>val_loss</td><td>█▅▃▂▂▂▁▁▁▁</td></tr></table><br/></div><div class=\"wandb-col\"><h3>Run summary:</h3><br/><table class=\"wandb\"><tr><td>epoch</td><td>10</td></tr><tr><td>loss</td><td>0.0038</td></tr><tr><td>val_accuracy</td><td>0.78767</td></tr><tr><td>val_loss</td><td>0.0603</td></tr></table><br/></div></div>"
            ]
          },
          "metadata": {}
        },
        {
          "output_type": "display_data",
          "data": {
            "text/plain": [
              "<IPython.core.display.HTML object>"
            ],
            "text/html": [
              " View run <strong style=\"color:#cdcd00\">e_10_hl_3_hs_128_lr_0.0001_opt_momentum_bs_16_init_Xavier_ac_ReLU_wd_0.0005_loss_cross_entropy</strong> at: <a href='https://wandb.ai/da24m027-indian-institute-of-technology-madras/DA6401_Assignment1/runs/r1k6pis8' target=\"_blank\">https://wandb.ai/da24m027-indian-institute-of-technology-madras/DA6401_Assignment1/runs/r1k6pis8</a><br> View project at: <a href='https://wandb.ai/da24m027-indian-institute-of-technology-madras/DA6401_Assignment1' target=\"_blank\">https://wandb.ai/da24m027-indian-institute-of-technology-madras/DA6401_Assignment1</a><br>Synced 5 W&B file(s), 0 media file(s), 0 artifact file(s) and 0 other file(s)"
            ]
          },
          "metadata": {}
        },
        {
          "output_type": "display_data",
          "data": {
            "text/plain": [
              "<IPython.core.display.HTML object>"
            ],
            "text/html": [
              "Find logs at: <code>./wandb/run-20250308_065905-r1k6pis8/logs</code>"
            ]
          },
          "metadata": {}
        },
        {
          "output_type": "stream",
          "name": "stderr",
          "text": [
            "\u001b[34m\u001b[1mwandb\u001b[0m: Sweep Agent: Waiting for job.\n",
            "\u001b[34m\u001b[1mwandb\u001b[0m: Job received.\n",
            "\u001b[34m\u001b[1mwandb\u001b[0m: Agent Starting Run: jvxxhr1h with config:\n",
            "\u001b[34m\u001b[1mwandb\u001b[0m: \tactivation: ReLU\n",
            "\u001b[34m\u001b[1mwandb\u001b[0m: \tbatch_size: 64\n",
            "\u001b[34m\u001b[1mwandb\u001b[0m: \tepochs: 10\n",
            "\u001b[34m\u001b[1mwandb\u001b[0m: \thidden_layers: 3\n",
            "\u001b[34m\u001b[1mwandb\u001b[0m: \thidden_size: 32\n",
            "\u001b[34m\u001b[1mwandb\u001b[0m: \tlearning_rate: 0.001\n",
            "\u001b[34m\u001b[1mwandb\u001b[0m: \tloss_type: mse\n",
            "\u001b[34m\u001b[1mwandb\u001b[0m: \toptimizer: momentum\n",
            "\u001b[34m\u001b[1mwandb\u001b[0m: \tweight_decay: 0.0005\n",
            "\u001b[34m\u001b[1mwandb\u001b[0m: \tweights: random\n"
          ]
        },
        {
          "output_type": "display_data",
          "data": {
            "text/plain": [
              "<IPython.core.display.HTML object>"
            ],
            "text/html": [
              "Tracking run with wandb version 0.19.7"
            ]
          },
          "metadata": {}
        },
        {
          "output_type": "display_data",
          "data": {
            "text/plain": [
              "<IPython.core.display.HTML object>"
            ],
            "text/html": [
              "Run data is saved locally in <code>/content/wandb/run-20250308_070039-jvxxhr1h</code>"
            ]
          },
          "metadata": {}
        },
        {
          "output_type": "display_data",
          "data": {
            "text/plain": [
              "<IPython.core.display.HTML object>"
            ],
            "text/html": [
              "Syncing run <strong><a href='https://wandb.ai/da24m027-indian-institute-of-technology-madras/DA6401_Assignment1/runs/jvxxhr1h' target=\"_blank\">lucky-sweep-55</a></strong> to <a href='https://wandb.ai/da24m027-indian-institute-of-technology-madras/DA6401_Assignment1' target=\"_blank\">Weights & Biases</a> (<a href='https://wandb.me/developer-guide' target=\"_blank\">docs</a>)<br>Sweep page: <a href='https://wandb.ai/da24m027-indian-institute-of-technology-madras/DA6401_Assignment1/sweeps/xy966igu' target=\"_blank\">https://wandb.ai/da24m027-indian-institute-of-technology-madras/DA6401_Assignment1/sweeps/xy966igu</a>"
            ]
          },
          "metadata": {}
        },
        {
          "output_type": "display_data",
          "data": {
            "text/plain": [
              "<IPython.core.display.HTML object>"
            ],
            "text/html": [
              " View project at <a href='https://wandb.ai/da24m027-indian-institute-of-technology-madras/DA6401_Assignment1' target=\"_blank\">https://wandb.ai/da24m027-indian-institute-of-technology-madras/DA6401_Assignment1</a>"
            ]
          },
          "metadata": {}
        },
        {
          "output_type": "display_data",
          "data": {
            "text/plain": [
              "<IPython.core.display.HTML object>"
            ],
            "text/html": [
              " View sweep at <a href='https://wandb.ai/da24m027-indian-institute-of-technology-madras/DA6401_Assignment1/sweeps/xy966igu' target=\"_blank\">https://wandb.ai/da24m027-indian-institute-of-technology-madras/DA6401_Assignment1/sweeps/xy966igu</a>"
            ]
          },
          "metadata": {}
        },
        {
          "output_type": "display_data",
          "data": {
            "text/plain": [
              "<IPython.core.display.HTML object>"
            ],
            "text/html": [
              " View run at <a href='https://wandb.ai/da24m027-indian-institute-of-technology-madras/DA6401_Assignment1/runs/jvxxhr1h' target=\"_blank\">https://wandb.ai/da24m027-indian-institute-of-technology-madras/DA6401_Assignment1/runs/jvxxhr1h</a>"
            ]
          },
          "metadata": {}
        },
        {
          "output_type": "stream",
          "name": "stdout",
          "text": [
            "Epoch 1/10, Loss: 0.0016, Val Loss: 0.1000, Val Accuracy: 0.0672\n",
            "Epoch 2/10, Loss: 0.0016, Val Loss: 0.1000, Val Accuracy: 0.0672\n",
            "Epoch 3/10, Loss: 0.0016, Val Loss: 0.1000, Val Accuracy: 0.0657\n",
            "Epoch 4/10, Loss: 0.0016, Val Loss: 0.1000, Val Accuracy: 0.0702\n",
            "Epoch 5/10, Loss: 0.0016, Val Loss: 0.1000, Val Accuracy: 0.0785\n",
            "Epoch 6/10, Loss: 0.0016, Val Loss: 0.1000, Val Accuracy: 0.0885\n",
            "Epoch 7/10, Loss: 0.0016, Val Loss: 0.1000, Val Accuracy: 0.1105\n",
            "Epoch 8/10, Loss: 0.0016, Val Loss: 0.1000, Val Accuracy: 0.1253\n",
            "Epoch 9/10, Loss: 0.0016, Val Loss: 0.1000, Val Accuracy: 0.1218\n",
            "Epoch 10/10, Loss: 0.0016, Val Loss: 0.1000, Val Accuracy: 0.1117\n"
          ]
        },
        {
          "output_type": "display_data",
          "data": {
            "text/plain": [
              "<IPython.core.display.HTML object>"
            ],
            "text/html": []
          },
          "metadata": {}
        },
        {
          "output_type": "display_data",
          "data": {
            "text/plain": [
              "<IPython.core.display.HTML object>"
            ],
            "text/html": [
              "<br>    <style><br>        .wandb-row {<br>            display: flex;<br>            flex-direction: row;<br>            flex-wrap: wrap;<br>            justify-content: flex-start;<br>            width: 100%;<br>        }<br>        .wandb-col {<br>            display: flex;<br>            flex-direction: column;<br>            flex-basis: 100%;<br>            flex: 1;<br>            padding: 10px;<br>        }<br>    </style><br><div class=\"wandb-row\"><div class=\"wandb-col\"><h3>Run history:</h3><br/><table class=\"wandb\"><tr><td>epoch</td><td>▁▁▂▂▃▃▃▃▄▄▅▅▆▆▆▆▇▇██</td></tr><tr><td>loss</td><td>███▇▇▆▆▅▃▁</td></tr><tr><td>val_accuracy</td><td>▁▁▁▂▃▄▆██▆</td></tr><tr><td>val_loss</td><td>███▇▇▆▆▅▃▁</td></tr></table><br/></div><div class=\"wandb-col\"><h3>Run summary:</h3><br/><table class=\"wandb\"><tr><td>epoch</td><td>10</td></tr><tr><td>loss</td><td>0.00156</td></tr><tr><td>val_accuracy</td><td>0.11167</td></tr><tr><td>val_loss</td><td>0.09999</td></tr></table><br/></div></div>"
            ]
          },
          "metadata": {}
        },
        {
          "output_type": "display_data",
          "data": {
            "text/plain": [
              "<IPython.core.display.HTML object>"
            ],
            "text/html": [
              " View run <strong style=\"color:#cdcd00\">e_10_hl_3_hs_32_lr_0.001_opt_momentum_bs_64_init_random_ac_ReLU_wd_0.0005_loss_mse</strong> at: <a href='https://wandb.ai/da24m027-indian-institute-of-technology-madras/DA6401_Assignment1/runs/jvxxhr1h' target=\"_blank\">https://wandb.ai/da24m027-indian-institute-of-technology-madras/DA6401_Assignment1/runs/jvxxhr1h</a><br> View project at: <a href='https://wandb.ai/da24m027-indian-institute-of-technology-madras/DA6401_Assignment1' target=\"_blank\">https://wandb.ai/da24m027-indian-institute-of-technology-madras/DA6401_Assignment1</a><br>Synced 5 W&B file(s), 0 media file(s), 0 artifact file(s) and 0 other file(s)"
            ]
          },
          "metadata": {}
        },
        {
          "output_type": "display_data",
          "data": {
            "text/plain": [
              "<IPython.core.display.HTML object>"
            ],
            "text/html": [
              "Find logs at: <code>./wandb/run-20250308_070039-jvxxhr1h/logs</code>"
            ]
          },
          "metadata": {}
        },
        {
          "output_type": "stream",
          "name": "stderr",
          "text": [
            "\u001b[34m\u001b[1mwandb\u001b[0m: Agent Starting Run: o4bt09f4 with config:\n",
            "\u001b[34m\u001b[1mwandb\u001b[0m: \tactivation: sigmoid\n",
            "\u001b[34m\u001b[1mwandb\u001b[0m: \tbatch_size: 16\n",
            "\u001b[34m\u001b[1mwandb\u001b[0m: \tepochs: 10\n",
            "\u001b[34m\u001b[1mwandb\u001b[0m: \thidden_layers: 4\n",
            "\u001b[34m\u001b[1mwandb\u001b[0m: \thidden_size: 128\n",
            "\u001b[34m\u001b[1mwandb\u001b[0m: \tlearning_rate: 0.0001\n",
            "\u001b[34m\u001b[1mwandb\u001b[0m: \tloss_type: mse\n",
            "\u001b[34m\u001b[1mwandb\u001b[0m: \toptimizer: sgd\n",
            "\u001b[34m\u001b[1mwandb\u001b[0m: \tweight_decay: 0.0005\n",
            "\u001b[34m\u001b[1mwandb\u001b[0m: \tweights: Xavier\n"
          ]
        },
        {
          "output_type": "display_data",
          "data": {
            "text/plain": [
              "<IPython.core.display.HTML object>"
            ],
            "text/html": [
              "Tracking run with wandb version 0.19.7"
            ]
          },
          "metadata": {}
        },
        {
          "output_type": "display_data",
          "data": {
            "text/plain": [
              "<IPython.core.display.HTML object>"
            ],
            "text/html": [
              "Run data is saved locally in <code>/content/wandb/run-20250308_070054-o4bt09f4</code>"
            ]
          },
          "metadata": {}
        },
        {
          "output_type": "display_data",
          "data": {
            "text/plain": [
              "<IPython.core.display.HTML object>"
            ],
            "text/html": [
              "Syncing run <strong><a href='https://wandb.ai/da24m027-indian-institute-of-technology-madras/DA6401_Assignment1/runs/o4bt09f4' target=\"_blank\">visionary-sweep-56</a></strong> to <a href='https://wandb.ai/da24m027-indian-institute-of-technology-madras/DA6401_Assignment1' target=\"_blank\">Weights & Biases</a> (<a href='https://wandb.me/developer-guide' target=\"_blank\">docs</a>)<br>Sweep page: <a href='https://wandb.ai/da24m027-indian-institute-of-technology-madras/DA6401_Assignment1/sweeps/xy966igu' target=\"_blank\">https://wandb.ai/da24m027-indian-institute-of-technology-madras/DA6401_Assignment1/sweeps/xy966igu</a>"
            ]
          },
          "metadata": {}
        },
        {
          "output_type": "display_data",
          "data": {
            "text/plain": [
              "<IPython.core.display.HTML object>"
            ],
            "text/html": [
              " View project at <a href='https://wandb.ai/da24m027-indian-institute-of-technology-madras/DA6401_Assignment1' target=\"_blank\">https://wandb.ai/da24m027-indian-institute-of-technology-madras/DA6401_Assignment1</a>"
            ]
          },
          "metadata": {}
        },
        {
          "output_type": "display_data",
          "data": {
            "text/plain": [
              "<IPython.core.display.HTML object>"
            ],
            "text/html": [
              " View sweep at <a href='https://wandb.ai/da24m027-indian-institute-of-technology-madras/DA6401_Assignment1/sweeps/xy966igu' target=\"_blank\">https://wandb.ai/da24m027-indian-institute-of-technology-madras/DA6401_Assignment1/sweeps/xy966igu</a>"
            ]
          },
          "metadata": {}
        },
        {
          "output_type": "display_data",
          "data": {
            "text/plain": [
              "<IPython.core.display.HTML object>"
            ],
            "text/html": [
              " View run at <a href='https://wandb.ai/da24m027-indian-institute-of-technology-madras/DA6401_Assignment1/runs/o4bt09f4' target=\"_blank\">https://wandb.ai/da24m027-indian-institute-of-technology-madras/DA6401_Assignment1/runs/o4bt09f4</a>"
            ]
          },
          "metadata": {}
        },
        {
          "output_type": "stream",
          "name": "stdout",
          "text": [
            "Epoch 1/10, Loss: 0.0076, Val Loss: 0.0924, Val Accuracy: 0.1013\n",
            "Epoch 2/10, Loss: 0.0057, Val Loss: 0.0902, Val Accuracy: 0.0933\n",
            "Epoch 3/10, Loss: 0.0056, Val Loss: 0.0900, Val Accuracy: 0.0933\n",
            "Epoch 4/10, Loss: 0.0056, Val Loss: 0.0900, Val Accuracy: 0.0933\n",
            "Epoch 5/10, Loss: 0.0056, Val Loss: 0.0900, Val Accuracy: 0.0933\n",
            "Epoch 6/10, Loss: 0.0056, Val Loss: 0.0900, Val Accuracy: 0.0933\n",
            "Epoch 7/10, Loss: 0.0056, Val Loss: 0.0900, Val Accuracy: 0.0933\n",
            "Epoch 8/10, Loss: 0.0056, Val Loss: 0.0900, Val Accuracy: 0.0933\n",
            "Epoch 9/10, Loss: 0.0056, Val Loss: 0.0900, Val Accuracy: 0.0933\n",
            "Epoch 10/10, Loss: 0.0056, Val Loss: 0.0900, Val Accuracy: 0.0933\n"
          ]
        },
        {
          "output_type": "display_data",
          "data": {
            "text/plain": [
              "<IPython.core.display.HTML object>"
            ],
            "text/html": []
          },
          "metadata": {}
        },
        {
          "output_type": "display_data",
          "data": {
            "text/plain": [
              "<IPython.core.display.HTML object>"
            ],
            "text/html": [
              "<br>    <style><br>        .wandb-row {<br>            display: flex;<br>            flex-direction: row;<br>            flex-wrap: wrap;<br>            justify-content: flex-start;<br>            width: 100%;<br>        }<br>        .wandb-col {<br>            display: flex;<br>            flex-direction: column;<br>            flex-basis: 100%;<br>            flex: 1;<br>            padding: 10px;<br>        }<br>    </style><br><div class=\"wandb-row\"><div class=\"wandb-col\"><h3>Run history:</h3><br/><table class=\"wandb\"><tr><td>epoch</td><td>▁▁▂▂▃▃▃▃▄▄▅▅▆▆▆▆▇▇██</td></tr><tr><td>loss</td><td>█▁▁▁▁▁▁▁▁▁</td></tr><tr><td>val_accuracy</td><td>█▁▁▁▁▁▁▁▁▁</td></tr><tr><td>val_loss</td><td>█▁▁▁▁▁▁▁▁▁</td></tr></table><br/></div><div class=\"wandb-col\"><h3>Run summary:</h3><br/><table class=\"wandb\"><tr><td>epoch</td><td>10</td></tr><tr><td>loss</td><td>0.00563</td></tr><tr><td>val_accuracy</td><td>0.09333</td></tr><tr><td>val_loss</td><td>0.09</td></tr></table><br/></div></div>"
            ]
          },
          "metadata": {}
        },
        {
          "output_type": "display_data",
          "data": {
            "text/plain": [
              "<IPython.core.display.HTML object>"
            ],
            "text/html": [
              " View run <strong style=\"color:#cdcd00\">e_10_hl_4_hs_128_lr_0.0001_opt_sgd_bs_16_init_Xavier_ac_sigmoid_wd_0.0005_loss_mse</strong> at: <a href='https://wandb.ai/da24m027-indian-institute-of-technology-madras/DA6401_Assignment1/runs/o4bt09f4' target=\"_blank\">https://wandb.ai/da24m027-indian-institute-of-technology-madras/DA6401_Assignment1/runs/o4bt09f4</a><br> View project at: <a href='https://wandb.ai/da24m027-indian-institute-of-technology-madras/DA6401_Assignment1' target=\"_blank\">https://wandb.ai/da24m027-indian-institute-of-technology-madras/DA6401_Assignment1</a><br>Synced 5 W&B file(s), 0 media file(s), 0 artifact file(s) and 0 other file(s)"
            ]
          },
          "metadata": {}
        },
        {
          "output_type": "display_data",
          "data": {
            "text/plain": [
              "<IPython.core.display.HTML object>"
            ],
            "text/html": [
              "Find logs at: <code>./wandb/run-20250308_070054-o4bt09f4/logs</code>"
            ]
          },
          "metadata": {}
        },
        {
          "output_type": "stream",
          "name": "stderr",
          "text": [
            "\u001b[34m\u001b[1mwandb\u001b[0m: Agent Starting Run: nekeomc8 with config:\n",
            "\u001b[34m\u001b[1mwandb\u001b[0m: \tactivation: tanh\n",
            "\u001b[34m\u001b[1mwandb\u001b[0m: \tbatch_size: 16\n",
            "\u001b[34m\u001b[1mwandb\u001b[0m: \tepochs: 10\n",
            "\u001b[34m\u001b[1mwandb\u001b[0m: \thidden_layers: 4\n",
            "\u001b[34m\u001b[1mwandb\u001b[0m: \thidden_size: 64\n",
            "\u001b[34m\u001b[1mwandb\u001b[0m: \tlearning_rate: 0.0001\n",
            "\u001b[34m\u001b[1mwandb\u001b[0m: \tloss_type: cross_entropy\n",
            "\u001b[34m\u001b[1mwandb\u001b[0m: \toptimizer: rmsprop\n",
            "\u001b[34m\u001b[1mwandb\u001b[0m: \tweight_decay: 0.5\n",
            "\u001b[34m\u001b[1mwandb\u001b[0m: \tweights: random\n"
          ]
        },
        {
          "output_type": "display_data",
          "data": {
            "text/plain": [
              "<IPython.core.display.HTML object>"
            ],
            "text/html": [
              "Tracking run with wandb version 0.19.7"
            ]
          },
          "metadata": {}
        },
        {
          "output_type": "display_data",
          "data": {
            "text/plain": [
              "<IPython.core.display.HTML object>"
            ],
            "text/html": [
              "Run data is saved locally in <code>/content/wandb/run-20250308_070221-nekeomc8</code>"
            ]
          },
          "metadata": {}
        },
        {
          "output_type": "display_data",
          "data": {
            "text/plain": [
              "<IPython.core.display.HTML object>"
            ],
            "text/html": [
              "Syncing run <strong><a href='https://wandb.ai/da24m027-indian-institute-of-technology-madras/DA6401_Assignment1/runs/nekeomc8' target=\"_blank\">ruby-sweep-57</a></strong> to <a href='https://wandb.ai/da24m027-indian-institute-of-technology-madras/DA6401_Assignment1' target=\"_blank\">Weights & Biases</a> (<a href='https://wandb.me/developer-guide' target=\"_blank\">docs</a>)<br>Sweep page: <a href='https://wandb.ai/da24m027-indian-institute-of-technology-madras/DA6401_Assignment1/sweeps/xy966igu' target=\"_blank\">https://wandb.ai/da24m027-indian-institute-of-technology-madras/DA6401_Assignment1/sweeps/xy966igu</a>"
            ]
          },
          "metadata": {}
        },
        {
          "output_type": "display_data",
          "data": {
            "text/plain": [
              "<IPython.core.display.HTML object>"
            ],
            "text/html": [
              " View project at <a href='https://wandb.ai/da24m027-indian-institute-of-technology-madras/DA6401_Assignment1' target=\"_blank\">https://wandb.ai/da24m027-indian-institute-of-technology-madras/DA6401_Assignment1</a>"
            ]
          },
          "metadata": {}
        },
        {
          "output_type": "display_data",
          "data": {
            "text/plain": [
              "<IPython.core.display.HTML object>"
            ],
            "text/html": [
              " View sweep at <a href='https://wandb.ai/da24m027-indian-institute-of-technology-madras/DA6401_Assignment1/sweeps/xy966igu' target=\"_blank\">https://wandb.ai/da24m027-indian-institute-of-technology-madras/DA6401_Assignment1/sweeps/xy966igu</a>"
            ]
          },
          "metadata": {}
        },
        {
          "output_type": "display_data",
          "data": {
            "text/plain": [
              "<IPython.core.display.HTML object>"
            ],
            "text/html": [
              " View run at <a href='https://wandb.ai/da24m027-indian-institute-of-technology-madras/DA6401_Assignment1/runs/nekeomc8' target=\"_blank\">https://wandb.ai/da24m027-indian-institute-of-technology-madras/DA6401_Assignment1/runs/nekeomc8</a>"
            ]
          },
          "metadata": {}
        },
        {
          "output_type": "stream",
          "name": "stdout",
          "text": [
            "Epoch 1/10, Loss: 0.0144, Val Loss: 0.2303, Val Accuracy: 0.0243\n",
            "Epoch 2/10, Loss: 0.0144, Val Loss: 0.2303, Val Accuracy: 0.1180\n",
            "Epoch 3/10, Loss: 0.0144, Val Loss: 0.2303, Val Accuracy: 0.0243\n",
            "Epoch 4/10, Loss: 0.0144, Val Loss: 0.2303, Val Accuracy: 0.1180\n",
            "Epoch 5/10, Loss: 0.0144, Val Loss: 0.2303, Val Accuracy: 0.0243\n",
            "Epoch 6/10, Loss: 0.0144, Val Loss: 0.2303, Val Accuracy: 0.1180\n",
            "Epoch 7/10, Loss: 0.0144, Val Loss: 0.2303, Val Accuracy: 0.0243\n",
            "Epoch 8/10, Loss: 0.0144, Val Loss: 0.2303, Val Accuracy: 0.1180\n",
            "Epoch 9/10, Loss: 0.0144, Val Loss: 0.2303, Val Accuracy: 0.0243\n",
            "Epoch 10/10, Loss: 0.0144, Val Loss: 0.2303, Val Accuracy: 0.1180\n"
          ]
        },
        {
          "output_type": "display_data",
          "data": {
            "text/plain": [
              "<IPython.core.display.HTML object>"
            ],
            "text/html": []
          },
          "metadata": {}
        },
        {
          "output_type": "display_data",
          "data": {
            "text/plain": [
              "<IPython.core.display.HTML object>"
            ],
            "text/html": [
              "<br>    <style><br>        .wandb-row {<br>            display: flex;<br>            flex-direction: row;<br>            flex-wrap: wrap;<br>            justify-content: flex-start;<br>            width: 100%;<br>        }<br>        .wandb-col {<br>            display: flex;<br>            flex-direction: column;<br>            flex-basis: 100%;<br>            flex: 1;<br>            padding: 10px;<br>        }<br>    </style><br><div class=\"wandb-row\"><div class=\"wandb-col\"><h3>Run history:</h3><br/><table class=\"wandb\"><tr><td>epoch</td><td>▁▁▂▂▃▃▃▃▄▄▅▅▆▆▆▆▇▇██</td></tr><tr><td>loss</td><td>▁▁▁▁▁▁▁▁▁▁</td></tr><tr><td>val_accuracy</td><td>▁█▁█▁█▁█▁█</td></tr><tr><td>val_loss</td><td>▁▁▁▁▁▁▁▁▁▁</td></tr></table><br/></div><div class=\"wandb-col\"><h3>Run summary:</h3><br/><table class=\"wandb\"><tr><td>epoch</td><td>10</td></tr><tr><td>loss</td><td>0.01439</td></tr><tr><td>val_accuracy</td><td>0.118</td></tr><tr><td>val_loss</td><td>0.23026</td></tr></table><br/></div></div>"
            ]
          },
          "metadata": {}
        },
        {
          "output_type": "display_data",
          "data": {
            "text/plain": [
              "<IPython.core.display.HTML object>"
            ],
            "text/html": [
              " View run <strong style=\"color:#cdcd00\">e_10_hl_4_hs_64_lr_0.0001_opt_rmsprop_bs_16_init_random_ac_tanh_wd_0.5_loss_cross_entropy</strong> at: <a href='https://wandb.ai/da24m027-indian-institute-of-technology-madras/DA6401_Assignment1/runs/nekeomc8' target=\"_blank\">https://wandb.ai/da24m027-indian-institute-of-technology-madras/DA6401_Assignment1/runs/nekeomc8</a><br> View project at: <a href='https://wandb.ai/da24m027-indian-institute-of-technology-madras/DA6401_Assignment1' target=\"_blank\">https://wandb.ai/da24m027-indian-institute-of-technology-madras/DA6401_Assignment1</a><br>Synced 5 W&B file(s), 0 media file(s), 0 artifact file(s) and 0 other file(s)"
            ]
          },
          "metadata": {}
        },
        {
          "output_type": "display_data",
          "data": {
            "text/plain": [
              "<IPython.core.display.HTML object>"
            ],
            "text/html": [
              "Find logs at: <code>./wandb/run-20250308_070221-nekeomc8/logs</code>"
            ]
          },
          "metadata": {}
        },
        {
          "output_type": "stream",
          "name": "stderr",
          "text": [
            "\u001b[34m\u001b[1mwandb\u001b[0m: Agent Starting Run: 7hmqzq54 with config:\n",
            "\u001b[34m\u001b[1mwandb\u001b[0m: \tactivation: ReLU\n",
            "\u001b[34m\u001b[1mwandb\u001b[0m: \tbatch_size: 16\n",
            "\u001b[34m\u001b[1mwandb\u001b[0m: \tepochs: 5\n",
            "\u001b[34m\u001b[1mwandb\u001b[0m: \thidden_layers: 4\n",
            "\u001b[34m\u001b[1mwandb\u001b[0m: \thidden_size: 128\n",
            "\u001b[34m\u001b[1mwandb\u001b[0m: \tlearning_rate: 0.001\n",
            "\u001b[34m\u001b[1mwandb\u001b[0m: \tloss_type: cross_entropy\n",
            "\u001b[34m\u001b[1mwandb\u001b[0m: \toptimizer: sgd\n",
            "\u001b[34m\u001b[1mwandb\u001b[0m: \tweight_decay: 0\n",
            "\u001b[34m\u001b[1mwandb\u001b[0m: \tweights: random\n"
          ]
        },
        {
          "output_type": "display_data",
          "data": {
            "text/plain": [
              "<IPython.core.display.HTML object>"
            ],
            "text/html": [
              "Tracking run with wandb version 0.19.7"
            ]
          },
          "metadata": {}
        },
        {
          "output_type": "display_data",
          "data": {
            "text/plain": [
              "<IPython.core.display.HTML object>"
            ],
            "text/html": [
              "Run data is saved locally in <code>/content/wandb/run-20250308_070307-7hmqzq54</code>"
            ]
          },
          "metadata": {}
        },
        {
          "output_type": "display_data",
          "data": {
            "text/plain": [
              "<IPython.core.display.HTML object>"
            ],
            "text/html": [
              "Syncing run <strong><a href='https://wandb.ai/da24m027-indian-institute-of-technology-madras/DA6401_Assignment1/runs/7hmqzq54' target=\"_blank\">eager-sweep-58</a></strong> to <a href='https://wandb.ai/da24m027-indian-institute-of-technology-madras/DA6401_Assignment1' target=\"_blank\">Weights & Biases</a> (<a href='https://wandb.me/developer-guide' target=\"_blank\">docs</a>)<br>Sweep page: <a href='https://wandb.ai/da24m027-indian-institute-of-technology-madras/DA6401_Assignment1/sweeps/xy966igu' target=\"_blank\">https://wandb.ai/da24m027-indian-institute-of-technology-madras/DA6401_Assignment1/sweeps/xy966igu</a>"
            ]
          },
          "metadata": {}
        },
        {
          "output_type": "display_data",
          "data": {
            "text/plain": [
              "<IPython.core.display.HTML object>"
            ],
            "text/html": [
              " View project at <a href='https://wandb.ai/da24m027-indian-institute-of-technology-madras/DA6401_Assignment1' target=\"_blank\">https://wandb.ai/da24m027-indian-institute-of-technology-madras/DA6401_Assignment1</a>"
            ]
          },
          "metadata": {}
        },
        {
          "output_type": "display_data",
          "data": {
            "text/plain": [
              "<IPython.core.display.HTML object>"
            ],
            "text/html": [
              " View sweep at <a href='https://wandb.ai/da24m027-indian-institute-of-technology-madras/DA6401_Assignment1/sweeps/xy966igu' target=\"_blank\">https://wandb.ai/da24m027-indian-institute-of-technology-madras/DA6401_Assignment1/sweeps/xy966igu</a>"
            ]
          },
          "metadata": {}
        },
        {
          "output_type": "display_data",
          "data": {
            "text/plain": [
              "<IPython.core.display.HTML object>"
            ],
            "text/html": [
              " View run at <a href='https://wandb.ai/da24m027-indian-institute-of-technology-madras/DA6401_Assignment1/runs/7hmqzq54' target=\"_blank\">https://wandb.ai/da24m027-indian-institute-of-technology-madras/DA6401_Assignment1/runs/7hmqzq54</a>"
            ]
          },
          "metadata": {}
        },
        {
          "output_type": "stream",
          "name": "stdout",
          "text": [
            "Epoch 1/5, Loss: 0.0144, Val Loss: 0.2303, Val Accuracy: 0.1345\n",
            "Epoch 2/5, Loss: 0.0144, Val Loss: 0.2303, Val Accuracy: 0.1358\n",
            "Epoch 3/5, Loss: 0.0144, Val Loss: 0.2303, Val Accuracy: 0.1375\n",
            "Epoch 4/5, Loss: 0.0144, Val Loss: 0.2303, Val Accuracy: 0.1387\n",
            "Epoch 5/5, Loss: 0.0144, Val Loss: 0.2303, Val Accuracy: 0.1400\n"
          ]
        },
        {
          "output_type": "display_data",
          "data": {
            "text/plain": [
              "<IPython.core.display.HTML object>"
            ],
            "text/html": []
          },
          "metadata": {}
        },
        {
          "output_type": "display_data",
          "data": {
            "text/plain": [
              "<IPython.core.display.HTML object>"
            ],
            "text/html": [
              "<br>    <style><br>        .wandb-row {<br>            display: flex;<br>            flex-direction: row;<br>            flex-wrap: wrap;<br>            justify-content: flex-start;<br>            width: 100%;<br>        }<br>        .wandb-col {<br>            display: flex;<br>            flex-direction: column;<br>            flex-basis: 100%;<br>            flex: 1;<br>            padding: 10px;<br>        }<br>    </style><br><div class=\"wandb-row\"><div class=\"wandb-col\"><h3>Run history:</h3><br/><table class=\"wandb\"><tr><td>epoch</td><td>▁▁▃▃▅▅▆▆██</td></tr><tr><td>loss</td><td>██▁▁▁</td></tr><tr><td>val_accuracy</td><td>▁▃▅▆█</td></tr><tr><td>val_loss</td><td>████▁</td></tr></table><br/></div><div class=\"wandb-col\"><h3>Run summary:</h3><br/><table class=\"wandb\"><tr><td>epoch</td><td>5</td></tr><tr><td>loss</td><td>0.01439</td></tr><tr><td>val_accuracy</td><td>0.14</td></tr><tr><td>val_loss</td><td>0.23026</td></tr></table><br/></div></div>"
            ]
          },
          "metadata": {}
        },
        {
          "output_type": "display_data",
          "data": {
            "text/plain": [
              "<IPython.core.display.HTML object>"
            ],
            "text/html": [
              " View run <strong style=\"color:#cdcd00\">e_5_hl_4_hs_128_lr_0.001_opt_sgd_bs_16_init_random_ac_ReLU_wd_0_loss_cross_entropy</strong> at: <a href='https://wandb.ai/da24m027-indian-institute-of-technology-madras/DA6401_Assignment1/runs/7hmqzq54' target=\"_blank\">https://wandb.ai/da24m027-indian-institute-of-technology-madras/DA6401_Assignment1/runs/7hmqzq54</a><br> View project at: <a href='https://wandb.ai/da24m027-indian-institute-of-technology-madras/DA6401_Assignment1' target=\"_blank\">https://wandb.ai/da24m027-indian-institute-of-technology-madras/DA6401_Assignment1</a><br>Synced 5 W&B file(s), 0 media file(s), 0 artifact file(s) and 0 other file(s)"
            ]
          },
          "metadata": {}
        },
        {
          "output_type": "display_data",
          "data": {
            "text/plain": [
              "<IPython.core.display.HTML object>"
            ],
            "text/html": [
              "Find logs at: <code>./wandb/run-20250308_070307-7hmqzq54/logs</code>"
            ]
          },
          "metadata": {}
        },
        {
          "output_type": "stream",
          "name": "stderr",
          "text": [
            "\u001b[34m\u001b[1mwandb\u001b[0m: Agent Starting Run: 34dmx7iy with config:\n",
            "\u001b[34m\u001b[1mwandb\u001b[0m: \tactivation: ReLU\n",
            "\u001b[34m\u001b[1mwandb\u001b[0m: \tbatch_size: 64\n",
            "\u001b[34m\u001b[1mwandb\u001b[0m: \tepochs: 10\n",
            "\u001b[34m\u001b[1mwandb\u001b[0m: \thidden_layers: 3\n",
            "\u001b[34m\u001b[1mwandb\u001b[0m: \thidden_size: 128\n",
            "\u001b[34m\u001b[1mwandb\u001b[0m: \tlearning_rate: 0.0001\n",
            "\u001b[34m\u001b[1mwandb\u001b[0m: \tloss_type: mse\n",
            "\u001b[34m\u001b[1mwandb\u001b[0m: \toptimizer: adam\n",
            "\u001b[34m\u001b[1mwandb\u001b[0m: \tweight_decay: 0.0005\n",
            "\u001b[34m\u001b[1mwandb\u001b[0m: \tweights: random\n"
          ]
        },
        {
          "output_type": "display_data",
          "data": {
            "text/plain": [
              "<IPython.core.display.HTML object>"
            ],
            "text/html": [
              "Tracking run with wandb version 0.19.7"
            ]
          },
          "metadata": {}
        },
        {
          "output_type": "display_data",
          "data": {
            "text/plain": [
              "<IPython.core.display.HTML object>"
            ],
            "text/html": [
              "Run data is saved locally in <code>/content/wandb/run-20250308_070353-34dmx7iy</code>"
            ]
          },
          "metadata": {}
        },
        {
          "output_type": "display_data",
          "data": {
            "text/plain": [
              "<IPython.core.display.HTML object>"
            ],
            "text/html": [
              "Syncing run <strong><a href='https://wandb.ai/da24m027-indian-institute-of-technology-madras/DA6401_Assignment1/runs/34dmx7iy' target=\"_blank\">feasible-sweep-59</a></strong> to <a href='https://wandb.ai/da24m027-indian-institute-of-technology-madras/DA6401_Assignment1' target=\"_blank\">Weights & Biases</a> (<a href='https://wandb.me/developer-guide' target=\"_blank\">docs</a>)<br>Sweep page: <a href='https://wandb.ai/da24m027-indian-institute-of-technology-madras/DA6401_Assignment1/sweeps/xy966igu' target=\"_blank\">https://wandb.ai/da24m027-indian-institute-of-technology-madras/DA6401_Assignment1/sweeps/xy966igu</a>"
            ]
          },
          "metadata": {}
        },
        {
          "output_type": "display_data",
          "data": {
            "text/plain": [
              "<IPython.core.display.HTML object>"
            ],
            "text/html": [
              " View project at <a href='https://wandb.ai/da24m027-indian-institute-of-technology-madras/DA6401_Assignment1' target=\"_blank\">https://wandb.ai/da24m027-indian-institute-of-technology-madras/DA6401_Assignment1</a>"
            ]
          },
          "metadata": {}
        },
        {
          "output_type": "display_data",
          "data": {
            "text/plain": [
              "<IPython.core.display.HTML object>"
            ],
            "text/html": [
              " View sweep at <a href='https://wandb.ai/da24m027-indian-institute-of-technology-madras/DA6401_Assignment1/sweeps/xy966igu' target=\"_blank\">https://wandb.ai/da24m027-indian-institute-of-technology-madras/DA6401_Assignment1/sweeps/xy966igu</a>"
            ]
          },
          "metadata": {}
        },
        {
          "output_type": "display_data",
          "data": {
            "text/plain": [
              "<IPython.core.display.HTML object>"
            ],
            "text/html": [
              " View run at <a href='https://wandb.ai/da24m027-indian-institute-of-technology-madras/DA6401_Assignment1/runs/34dmx7iy' target=\"_blank\">https://wandb.ai/da24m027-indian-institute-of-technology-madras/DA6401_Assignment1/runs/34dmx7iy</a>"
            ]
          },
          "metadata": {}
        },
        {
          "output_type": "stream",
          "name": "stdout",
          "text": [
            "Epoch 1/10, Loss: 0.0010, Val Loss: 0.0508, Val Accuracy: 0.6377\n",
            "Epoch 2/10, Loss: 0.0007, Val Loss: 0.0433, Val Accuracy: 0.6938\n",
            "Epoch 3/10, Loss: 0.0006, Val Loss: 0.0359, Val Accuracy: 0.7673\n",
            "Epoch 4/10, Loss: 0.0005, Val Loss: 0.0330, Val Accuracy: 0.7820\n",
            "Epoch 5/10, Loss: 0.0005, Val Loss: 0.0316, Val Accuracy: 0.7960\n",
            "Epoch 6/10, Loss: 0.0005, Val Loss: 0.0308, Val Accuracy: 0.8062\n",
            "Epoch 7/10, Loss: 0.0005, Val Loss: 0.0299, Val Accuracy: 0.8130\n",
            "Epoch 8/10, Loss: 0.0005, Val Loss: 0.0292, Val Accuracy: 0.8202\n",
            "Epoch 9/10, Loss: 0.0004, Val Loss: 0.0285, Val Accuracy: 0.8235\n",
            "Epoch 10/10, Loss: 0.0004, Val Loss: 0.0279, Val Accuracy: 0.8280\n"
          ]
        },
        {
          "output_type": "display_data",
          "data": {
            "text/plain": [
              "<IPython.core.display.HTML object>"
            ],
            "text/html": []
          },
          "metadata": {}
        },
        {
          "output_type": "display_data",
          "data": {
            "text/plain": [
              "<IPython.core.display.HTML object>"
            ],
            "text/html": [
              "<br>    <style><br>        .wandb-row {<br>            display: flex;<br>            flex-direction: row;<br>            flex-wrap: wrap;<br>            justify-content: flex-start;<br>            width: 100%;<br>        }<br>        .wandb-col {<br>            display: flex;<br>            flex-direction: column;<br>            flex-basis: 100%;<br>            flex: 1;<br>            padding: 10px;<br>        }<br>    </style><br><div class=\"wandb-row\"><div class=\"wandb-col\"><h3>Run history:</h3><br/><table class=\"wandb\"><tr><td>epoch</td><td>▁▁▂▂▃▃▃▃▄▄▅▅▆▆▆▆▇▇██</td></tr><tr><td>loss</td><td>█▄▃▂▂▂▁▁▁▁</td></tr><tr><td>val_accuracy</td><td>▁▃▆▆▇▇▇███</td></tr><tr><td>val_loss</td><td>█▆▃▃▂▂▂▁▁▁</td></tr></table><br/></div><div class=\"wandb-col\"><h3>Run summary:</h3><br/><table class=\"wandb\"><tr><td>epoch</td><td>10</td></tr><tr><td>loss</td><td>0.00043</td></tr><tr><td>val_accuracy</td><td>0.828</td></tr><tr><td>val_loss</td><td>0.02785</td></tr></table><br/></div></div>"
            ]
          },
          "metadata": {}
        },
        {
          "output_type": "display_data",
          "data": {
            "text/plain": [
              "<IPython.core.display.HTML object>"
            ],
            "text/html": [
              " View run <strong style=\"color:#cdcd00\">e_10_hl_3_hs_128_lr_0.0001_opt_adam_bs_64_init_random_ac_ReLU_wd_0.0005_loss_mse</strong> at: <a href='https://wandb.ai/da24m027-indian-institute-of-technology-madras/DA6401_Assignment1/runs/34dmx7iy' target=\"_blank\">https://wandb.ai/da24m027-indian-institute-of-technology-madras/DA6401_Assignment1/runs/34dmx7iy</a><br> View project at: <a href='https://wandb.ai/da24m027-indian-institute-of-technology-madras/DA6401_Assignment1' target=\"_blank\">https://wandb.ai/da24m027-indian-institute-of-technology-madras/DA6401_Assignment1</a><br>Synced 5 W&B file(s), 0 media file(s), 0 artifact file(s) and 0 other file(s)"
            ]
          },
          "metadata": {}
        },
        {
          "output_type": "display_data",
          "data": {
            "text/plain": [
              "<IPython.core.display.HTML object>"
            ],
            "text/html": [
              "Find logs at: <code>./wandb/run-20250308_070353-34dmx7iy/logs</code>"
            ]
          },
          "metadata": {}
        },
        {
          "output_type": "stream",
          "name": "stderr",
          "text": [
            "\u001b[34m\u001b[1mwandb\u001b[0m: Agent Starting Run: 4ign0uvm with config:\n",
            "\u001b[34m\u001b[1mwandb\u001b[0m: \tactivation: ReLU\n",
            "\u001b[34m\u001b[1mwandb\u001b[0m: \tbatch_size: 64\n",
            "\u001b[34m\u001b[1mwandb\u001b[0m: \tepochs: 10\n",
            "\u001b[34m\u001b[1mwandb\u001b[0m: \thidden_layers: 4\n",
            "\u001b[34m\u001b[1mwandb\u001b[0m: \thidden_size: 128\n",
            "\u001b[34m\u001b[1mwandb\u001b[0m: \tlearning_rate: 0.0001\n",
            "\u001b[34m\u001b[1mwandb\u001b[0m: \tloss_type: mse\n",
            "\u001b[34m\u001b[1mwandb\u001b[0m: \toptimizer: adam\n",
            "\u001b[34m\u001b[1mwandb\u001b[0m: \tweight_decay: 0.5\n",
            "\u001b[34m\u001b[1mwandb\u001b[0m: \tweights: random\n"
          ]
        },
        {
          "output_type": "display_data",
          "data": {
            "text/plain": [
              "<IPython.core.display.HTML object>"
            ],
            "text/html": [
              "Tracking run with wandb version 0.19.7"
            ]
          },
          "metadata": {}
        },
        {
          "output_type": "display_data",
          "data": {
            "text/plain": [
              "<IPython.core.display.HTML object>"
            ],
            "text/html": [
              "Run data is saved locally in <code>/content/wandb/run-20250308_070439-4ign0uvm</code>"
            ]
          },
          "metadata": {}
        },
        {
          "output_type": "display_data",
          "data": {
            "text/plain": [
              "<IPython.core.display.HTML object>"
            ],
            "text/html": [
              "Syncing run <strong><a href='https://wandb.ai/da24m027-indian-institute-of-technology-madras/DA6401_Assignment1/runs/4ign0uvm' target=\"_blank\">honest-sweep-60</a></strong> to <a href='https://wandb.ai/da24m027-indian-institute-of-technology-madras/DA6401_Assignment1' target=\"_blank\">Weights & Biases</a> (<a href='https://wandb.me/developer-guide' target=\"_blank\">docs</a>)<br>Sweep page: <a href='https://wandb.ai/da24m027-indian-institute-of-technology-madras/DA6401_Assignment1/sweeps/xy966igu' target=\"_blank\">https://wandb.ai/da24m027-indian-institute-of-technology-madras/DA6401_Assignment1/sweeps/xy966igu</a>"
            ]
          },
          "metadata": {}
        },
        {
          "output_type": "display_data",
          "data": {
            "text/plain": [
              "<IPython.core.display.HTML object>"
            ],
            "text/html": [
              " View project at <a href='https://wandb.ai/da24m027-indian-institute-of-technology-madras/DA6401_Assignment1' target=\"_blank\">https://wandb.ai/da24m027-indian-institute-of-technology-madras/DA6401_Assignment1</a>"
            ]
          },
          "metadata": {}
        },
        {
          "output_type": "display_data",
          "data": {
            "text/plain": [
              "<IPython.core.display.HTML object>"
            ],
            "text/html": [
              " View sweep at <a href='https://wandb.ai/da24m027-indian-institute-of-technology-madras/DA6401_Assignment1/sweeps/xy966igu' target=\"_blank\">https://wandb.ai/da24m027-indian-institute-of-technology-madras/DA6401_Assignment1/sweeps/xy966igu</a>"
            ]
          },
          "metadata": {}
        },
        {
          "output_type": "display_data",
          "data": {
            "text/plain": [
              "<IPython.core.display.HTML object>"
            ],
            "text/html": [
              " View run at <a href='https://wandb.ai/da24m027-indian-institute-of-technology-madras/DA6401_Assignment1/runs/4ign0uvm' target=\"_blank\">https://wandb.ai/da24m027-indian-institute-of-technology-madras/DA6401_Assignment1/runs/4ign0uvm</a>"
            ]
          },
          "metadata": {}
        },
        {
          "output_type": "stream",
          "name": "stdout",
          "text": [
            "Epoch 1/10, Loss: 0.0016, Val Loss: 0.1000, Val Accuracy: 0.2163\n",
            "Epoch 2/10, Loss: 0.0016, Val Loss: 0.1000, Val Accuracy: 0.1238\n",
            "Epoch 3/10, Loss: 0.0016, Val Loss: 0.1000, Val Accuracy: 0.1122\n",
            "Epoch 4/10, Loss: 0.0016, Val Loss: 0.1000, Val Accuracy: 0.1152\n",
            "Epoch 5/10, Loss: 0.0016, Val Loss: 0.1000, Val Accuracy: 0.1428\n",
            "Epoch 6/10, Loss: 0.0016, Val Loss: 0.1000, Val Accuracy: 0.0983\n",
            "Epoch 7/10, Loss: 0.0016, Val Loss: 0.1000, Val Accuracy: 0.0985\n",
            "Epoch 8/10, Loss: 0.0016, Val Loss: 0.1000, Val Accuracy: 0.1043\n",
            "Epoch 9/10, Loss: 0.0016, Val Loss: 0.1000, Val Accuracy: 0.1955\n",
            "Epoch 10/10, Loss: 0.0016, Val Loss: 0.1000, Val Accuracy: 0.1057\n"
          ]
        },
        {
          "output_type": "display_data",
          "data": {
            "text/plain": [
              "<IPython.core.display.HTML object>"
            ],
            "text/html": []
          },
          "metadata": {}
        },
        {
          "output_type": "display_data",
          "data": {
            "text/plain": [
              "<IPython.core.display.HTML object>"
            ],
            "text/html": [
              "<br>    <style><br>        .wandb-row {<br>            display: flex;<br>            flex-direction: row;<br>            flex-wrap: wrap;<br>            justify-content: flex-start;<br>            width: 100%;<br>        }<br>        .wandb-col {<br>            display: flex;<br>            flex-direction: column;<br>            flex-basis: 100%;<br>            flex: 1;<br>            padding: 10px;<br>        }<br>    </style><br><div class=\"wandb-row\"><div class=\"wandb-col\"><h3>Run history:</h3><br/><table class=\"wandb\"><tr><td>epoch</td><td>▁▁▂▂▃▃▃▃▄▄▅▅▆▆▆▆▇▇██</td></tr><tr><td>loss</td><td>▁█████████</td></tr><tr><td>val_accuracy</td><td>█▃▂▂▄▁▁▁▇▁</td></tr><tr><td>val_loss</td><td>▁▁▁▁▁▁▁▁▁▁</td></tr></table><br/></div><div class=\"wandb-col\"><h3>Run summary:</h3><br/><table class=\"wandb\"><tr><td>epoch</td><td>10</td></tr><tr><td>loss</td><td>0.00156</td></tr><tr><td>val_accuracy</td><td>0.10567</td></tr><tr><td>val_loss</td><td>0.1</td></tr></table><br/></div></div>"
            ]
          },
          "metadata": {}
        },
        {
          "output_type": "display_data",
          "data": {
            "text/plain": [
              "<IPython.core.display.HTML object>"
            ],
            "text/html": [
              " View run <strong style=\"color:#cdcd00\">e_10_hl_4_hs_128_lr_0.0001_opt_adam_bs_64_init_random_ac_ReLU_wd_0.5_loss_mse</strong> at: <a href='https://wandb.ai/da24m027-indian-institute-of-technology-madras/DA6401_Assignment1/runs/4ign0uvm' target=\"_blank\">https://wandb.ai/da24m027-indian-institute-of-technology-madras/DA6401_Assignment1/runs/4ign0uvm</a><br> View project at: <a href='https://wandb.ai/da24m027-indian-institute-of-technology-madras/DA6401_Assignment1' target=\"_blank\">https://wandb.ai/da24m027-indian-institute-of-technology-madras/DA6401_Assignment1</a><br>Synced 5 W&B file(s), 0 media file(s), 0 artifact file(s) and 0 other file(s)"
            ]
          },
          "metadata": {}
        },
        {
          "output_type": "display_data",
          "data": {
            "text/plain": [
              "<IPython.core.display.HTML object>"
            ],
            "text/html": [
              "Find logs at: <code>./wandb/run-20250308_070439-4ign0uvm/logs</code>"
            ]
          },
          "metadata": {}
        },
        {
          "output_type": "stream",
          "name": "stderr",
          "text": [
            "\u001b[34m\u001b[1mwandb\u001b[0m: Agent Starting Run: bwb5jdxk with config:\n",
            "\u001b[34m\u001b[1mwandb\u001b[0m: \tactivation: ReLU\n",
            "\u001b[34m\u001b[1mwandb\u001b[0m: \tbatch_size: 16\n",
            "\u001b[34m\u001b[1mwandb\u001b[0m: \tepochs: 5\n",
            "\u001b[34m\u001b[1mwandb\u001b[0m: \thidden_layers: 3\n",
            "\u001b[34m\u001b[1mwandb\u001b[0m: \thidden_size: 128\n",
            "\u001b[34m\u001b[1mwandb\u001b[0m: \tlearning_rate: 0.001\n",
            "\u001b[34m\u001b[1mwandb\u001b[0m: \tloss_type: mse\n",
            "\u001b[34m\u001b[1mwandb\u001b[0m: \toptimizer: rmsprop\n",
            "\u001b[34m\u001b[1mwandb\u001b[0m: \tweight_decay: 0\n",
            "\u001b[34m\u001b[1mwandb\u001b[0m: \tweights: Xavier\n"
          ]
        },
        {
          "output_type": "display_data",
          "data": {
            "text/plain": [
              "<IPython.core.display.HTML object>"
            ],
            "text/html": [
              "Tracking run with wandb version 0.19.7"
            ]
          },
          "metadata": {}
        },
        {
          "output_type": "display_data",
          "data": {
            "text/plain": [
              "<IPython.core.display.HTML object>"
            ],
            "text/html": [
              "Run data is saved locally in <code>/content/wandb/run-20250308_070530-bwb5jdxk</code>"
            ]
          },
          "metadata": {}
        },
        {
          "output_type": "display_data",
          "data": {
            "text/plain": [
              "<IPython.core.display.HTML object>"
            ],
            "text/html": [
              "Syncing run <strong><a href='https://wandb.ai/da24m027-indian-institute-of-technology-madras/DA6401_Assignment1/runs/bwb5jdxk' target=\"_blank\">serene-sweep-61</a></strong> to <a href='https://wandb.ai/da24m027-indian-institute-of-technology-madras/DA6401_Assignment1' target=\"_blank\">Weights & Biases</a> (<a href='https://wandb.me/developer-guide' target=\"_blank\">docs</a>)<br>Sweep page: <a href='https://wandb.ai/da24m027-indian-institute-of-technology-madras/DA6401_Assignment1/sweeps/xy966igu' target=\"_blank\">https://wandb.ai/da24m027-indian-institute-of-technology-madras/DA6401_Assignment1/sweeps/xy966igu</a>"
            ]
          },
          "metadata": {}
        },
        {
          "output_type": "display_data",
          "data": {
            "text/plain": [
              "<IPython.core.display.HTML object>"
            ],
            "text/html": [
              " View project at <a href='https://wandb.ai/da24m027-indian-institute-of-technology-madras/DA6401_Assignment1' target=\"_blank\">https://wandb.ai/da24m027-indian-institute-of-technology-madras/DA6401_Assignment1</a>"
            ]
          },
          "metadata": {}
        },
        {
          "output_type": "display_data",
          "data": {
            "text/plain": [
              "<IPython.core.display.HTML object>"
            ],
            "text/html": [
              " View sweep at <a href='https://wandb.ai/da24m027-indian-institute-of-technology-madras/DA6401_Assignment1/sweeps/xy966igu' target=\"_blank\">https://wandb.ai/da24m027-indian-institute-of-technology-madras/DA6401_Assignment1/sweeps/xy966igu</a>"
            ]
          },
          "metadata": {}
        },
        {
          "output_type": "display_data",
          "data": {
            "text/plain": [
              "<IPython.core.display.HTML object>"
            ],
            "text/html": [
              " View run at <a href='https://wandb.ai/da24m027-indian-institute-of-technology-madras/DA6401_Assignment1/runs/bwb5jdxk' target=\"_blank\">https://wandb.ai/da24m027-indian-institute-of-technology-madras/DA6401_Assignment1/runs/bwb5jdxk</a>"
            ]
          },
          "metadata": {}
        },
        {
          "output_type": "stream",
          "name": "stdout",
          "text": [
            "Epoch 1/5, Loss: 0.0018, Val Loss: 0.0238, Val Accuracy: 0.8542\n",
            "Epoch 2/5, Loss: 0.0015, Val Loss: 0.0227, Val Accuracy: 0.8655\n",
            "Epoch 3/5, Loss: 0.0014, Val Loss: 0.0228, Val Accuracy: 0.8598\n",
            "Epoch 4/5, Loss: 0.0013, Val Loss: 0.0224, Val Accuracy: 0.8655\n",
            "Epoch 5/5, Loss: 0.0013, Val Loss: 0.0207, Val Accuracy: 0.8800\n"
          ]
        },
        {
          "output_type": "display_data",
          "data": {
            "text/plain": [
              "<IPython.core.display.HTML object>"
            ],
            "text/html": []
          },
          "metadata": {}
        },
        {
          "output_type": "display_data",
          "data": {
            "text/plain": [
              "<IPython.core.display.HTML object>"
            ],
            "text/html": [
              "<br>    <style><br>        .wandb-row {<br>            display: flex;<br>            flex-direction: row;<br>            flex-wrap: wrap;<br>            justify-content: flex-start;<br>            width: 100%;<br>        }<br>        .wandb-col {<br>            display: flex;<br>            flex-direction: column;<br>            flex-basis: 100%;<br>            flex: 1;<br>            padding: 10px;<br>        }<br>    </style><br><div class=\"wandb-row\"><div class=\"wandb-col\"><h3>Run history:</h3><br/><table class=\"wandb\"><tr><td>epoch</td><td>▁▁▃▃▅▅▆▆██</td></tr><tr><td>loss</td><td>█▃▂▁▁</td></tr><tr><td>val_accuracy</td><td>▁▄▃▄█</td></tr><tr><td>val_loss</td><td>█▆▆▅▁</td></tr></table><br/></div><div class=\"wandb-col\"><h3>Run summary:</h3><br/><table class=\"wandb\"><tr><td>epoch</td><td>5</td></tr><tr><td>loss</td><td>0.00127</td></tr><tr><td>val_accuracy</td><td>0.88</td></tr><tr><td>val_loss</td><td>0.02074</td></tr></table><br/></div></div>"
            ]
          },
          "metadata": {}
        },
        {
          "output_type": "display_data",
          "data": {
            "text/plain": [
              "<IPython.core.display.HTML object>"
            ],
            "text/html": [
              " View run <strong style=\"color:#cdcd00\">e_5_hl_3_hs_128_lr_0.001_opt_rmsprop_bs_16_init_Xavier_ac_ReLU_wd_0_loss_mse</strong> at: <a href='https://wandb.ai/da24m027-indian-institute-of-technology-madras/DA6401_Assignment1/runs/bwb5jdxk' target=\"_blank\">https://wandb.ai/da24m027-indian-institute-of-technology-madras/DA6401_Assignment1/runs/bwb5jdxk</a><br> View project at: <a href='https://wandb.ai/da24m027-indian-institute-of-technology-madras/DA6401_Assignment1' target=\"_blank\">https://wandb.ai/da24m027-indian-institute-of-technology-madras/DA6401_Assignment1</a><br>Synced 5 W&B file(s), 0 media file(s), 0 artifact file(s) and 0 other file(s)"
            ]
          },
          "metadata": {}
        },
        {
          "output_type": "display_data",
          "data": {
            "text/plain": [
              "<IPython.core.display.HTML object>"
            ],
            "text/html": [
              "Find logs at: <code>./wandb/run-20250308_070530-bwb5jdxk/logs</code>"
            ]
          },
          "metadata": {}
        },
        {
          "output_type": "stream",
          "name": "stderr",
          "text": [
            "\u001b[34m\u001b[1mwandb\u001b[0m: Agent Starting Run: p130htrv with config:\n",
            "\u001b[34m\u001b[1mwandb\u001b[0m: \tactivation: ReLU\n",
            "\u001b[34m\u001b[1mwandb\u001b[0m: \tbatch_size: 64\n",
            "\u001b[34m\u001b[1mwandb\u001b[0m: \tepochs: 10\n",
            "\u001b[34m\u001b[1mwandb\u001b[0m: \thidden_layers: 4\n",
            "\u001b[34m\u001b[1mwandb\u001b[0m: \thidden_size: 32\n",
            "\u001b[34m\u001b[1mwandb\u001b[0m: \tlearning_rate: 0.001\n",
            "\u001b[34m\u001b[1mwandb\u001b[0m: \tloss_type: cross_entropy\n",
            "\u001b[34m\u001b[1mwandb\u001b[0m: \toptimizer: momentum\n",
            "\u001b[34m\u001b[1mwandb\u001b[0m: \tweight_decay: 0.0005\n",
            "\u001b[34m\u001b[1mwandb\u001b[0m: \tweights: Xavier\n"
          ]
        },
        {
          "output_type": "display_data",
          "data": {
            "text/plain": [
              "<IPython.core.display.HTML object>"
            ],
            "text/html": [
              "Tracking run with wandb version 0.19.7"
            ]
          },
          "metadata": {}
        },
        {
          "output_type": "display_data",
          "data": {
            "text/plain": [
              "<IPython.core.display.HTML object>"
            ],
            "text/html": [
              "Run data is saved locally in <code>/content/wandb/run-20250308_070647-p130htrv</code>"
            ]
          },
          "metadata": {}
        },
        {
          "output_type": "display_data",
          "data": {
            "text/plain": [
              "<IPython.core.display.HTML object>"
            ],
            "text/html": [
              "Syncing run <strong><a href='https://wandb.ai/da24m027-indian-institute-of-technology-madras/DA6401_Assignment1/runs/p130htrv' target=\"_blank\">dandy-sweep-62</a></strong> to <a href='https://wandb.ai/da24m027-indian-institute-of-technology-madras/DA6401_Assignment1' target=\"_blank\">Weights & Biases</a> (<a href='https://wandb.me/developer-guide' target=\"_blank\">docs</a>)<br>Sweep page: <a href='https://wandb.ai/da24m027-indian-institute-of-technology-madras/DA6401_Assignment1/sweeps/xy966igu' target=\"_blank\">https://wandb.ai/da24m027-indian-institute-of-technology-madras/DA6401_Assignment1/sweeps/xy966igu</a>"
            ]
          },
          "metadata": {}
        },
        {
          "output_type": "display_data",
          "data": {
            "text/plain": [
              "<IPython.core.display.HTML object>"
            ],
            "text/html": [
              " View project at <a href='https://wandb.ai/da24m027-indian-institute-of-technology-madras/DA6401_Assignment1' target=\"_blank\">https://wandb.ai/da24m027-indian-institute-of-technology-madras/DA6401_Assignment1</a>"
            ]
          },
          "metadata": {}
        },
        {
          "output_type": "display_data",
          "data": {
            "text/plain": [
              "<IPython.core.display.HTML object>"
            ],
            "text/html": [
              " View sweep at <a href='https://wandb.ai/da24m027-indian-institute-of-technology-madras/DA6401_Assignment1/sweeps/xy966igu' target=\"_blank\">https://wandb.ai/da24m027-indian-institute-of-technology-madras/DA6401_Assignment1/sweeps/xy966igu</a>"
            ]
          },
          "metadata": {}
        },
        {
          "output_type": "display_data",
          "data": {
            "text/plain": [
              "<IPython.core.display.HTML object>"
            ],
            "text/html": [
              " View run at <a href='https://wandb.ai/da24m027-indian-institute-of-technology-madras/DA6401_Assignment1/runs/p130htrv' target=\"_blank\">https://wandb.ai/da24m027-indian-institute-of-technology-madras/DA6401_Assignment1/runs/p130htrv</a>"
            ]
          },
          "metadata": {}
        },
        {
          "output_type": "stream",
          "name": "stdout",
          "text": [
            "Epoch 1/10, Loss: 0.0036, Val Loss: 0.2273, Val Accuracy: 0.2858\n",
            "Epoch 2/10, Loss: 0.0029, Val Loss: 0.1232, Val Accuracy: 0.4437\n",
            "Epoch 3/10, Loss: 0.0016, Val Loss: 0.0893, Val Accuracy: 0.6387\n",
            "Epoch 4/10, Loss: 0.0013, Val Loss: 0.0815, Val Accuracy: 0.6760\n",
            "Epoch 5/10, Loss: 0.0012, Val Loss: 0.0746, Val Accuracy: 0.7315\n",
            "Epoch 6/10, Loss: 0.0011, Val Loss: 0.0671, Val Accuracy: 0.7610\n",
            "Epoch 7/10, Loss: 0.0010, Val Loss: 0.0623, Val Accuracy: 0.7753\n",
            "Epoch 8/10, Loss: 0.0010, Val Loss: 0.0583, Val Accuracy: 0.7893\n",
            "Epoch 9/10, Loss: 0.0009, Val Loss: 0.0558, Val Accuracy: 0.7985\n",
            "Epoch 10/10, Loss: 0.0009, Val Loss: 0.0542, Val Accuracy: 0.8058\n"
          ]
        },
        {
          "output_type": "display_data",
          "data": {
            "text/plain": [
              "<IPython.core.display.HTML object>"
            ],
            "text/html": []
          },
          "metadata": {}
        },
        {
          "output_type": "display_data",
          "data": {
            "text/plain": [
              "<IPython.core.display.HTML object>"
            ],
            "text/html": [
              "<br>    <style><br>        .wandb-row {<br>            display: flex;<br>            flex-direction: row;<br>            flex-wrap: wrap;<br>            justify-content: flex-start;<br>            width: 100%;<br>        }<br>        .wandb-col {<br>            display: flex;<br>            flex-direction: column;<br>            flex-basis: 100%;<br>            flex: 1;<br>            padding: 10px;<br>        }<br>    </style><br><div class=\"wandb-row\"><div class=\"wandb-col\"><h3>Run history:</h3><br/><table class=\"wandb\"><tr><td>epoch</td><td>▁▁▂▂▃▃▃▃▄▄▅▅▆▆▆▆▇▇██</td></tr><tr><td>loss</td><td>█▆▃▂▂▂▁▁▁▁</td></tr><tr><td>val_accuracy</td><td>▁▃▆▆▇▇████</td></tr><tr><td>val_loss</td><td>█▄▂▂▂▂▁▁▁▁</td></tr></table><br/></div><div class=\"wandb-col\"><h3>Run summary:</h3><br/><table class=\"wandb\"><tr><td>epoch</td><td>10</td></tr><tr><td>loss</td><td>0.00086</td></tr><tr><td>val_accuracy</td><td>0.80583</td></tr><tr><td>val_loss</td><td>0.05416</td></tr></table><br/></div></div>"
            ]
          },
          "metadata": {}
        },
        {
          "output_type": "display_data",
          "data": {
            "text/plain": [
              "<IPython.core.display.HTML object>"
            ],
            "text/html": [
              " View run <strong style=\"color:#cdcd00\">e_10_hl_4_hs_32_lr_0.001_opt_momentum_bs_64_init_Xavier_ac_ReLU_wd_0.0005_loss_cross_entropy</strong> at: <a href='https://wandb.ai/da24m027-indian-institute-of-technology-madras/DA6401_Assignment1/runs/p130htrv' target=\"_blank\">https://wandb.ai/da24m027-indian-institute-of-technology-madras/DA6401_Assignment1/runs/p130htrv</a><br> View project at: <a href='https://wandb.ai/da24m027-indian-institute-of-technology-madras/DA6401_Assignment1' target=\"_blank\">https://wandb.ai/da24m027-indian-institute-of-technology-madras/DA6401_Assignment1</a><br>Synced 5 W&B file(s), 0 media file(s), 0 artifact file(s) and 0 other file(s)"
            ]
          },
          "metadata": {}
        },
        {
          "output_type": "display_data",
          "data": {
            "text/plain": [
              "<IPython.core.display.HTML object>"
            ],
            "text/html": [
              "Find logs at: <code>./wandb/run-20250308_070647-p130htrv/logs</code>"
            ]
          },
          "metadata": {}
        },
        {
          "output_type": "stream",
          "name": "stderr",
          "text": [
            "\u001b[34m\u001b[1mwandb\u001b[0m: Agent Starting Run: uofv80ht with config:\n",
            "\u001b[34m\u001b[1mwandb\u001b[0m: \tactivation: ReLU\n",
            "\u001b[34m\u001b[1mwandb\u001b[0m: \tbatch_size: 16\n",
            "\u001b[34m\u001b[1mwandb\u001b[0m: \tepochs: 10\n",
            "\u001b[34m\u001b[1mwandb\u001b[0m: \thidden_layers: 3\n",
            "\u001b[34m\u001b[1mwandb\u001b[0m: \thidden_size: 128\n",
            "\u001b[34m\u001b[1mwandb\u001b[0m: \tlearning_rate: 0.0001\n",
            "\u001b[34m\u001b[1mwandb\u001b[0m: \tloss_type: cross_entropy\n",
            "\u001b[34m\u001b[1mwandb\u001b[0m: \toptimizer: rmsprop\n",
            "\u001b[34m\u001b[1mwandb\u001b[0m: \tweight_decay: 0.5\n",
            "\u001b[34m\u001b[1mwandb\u001b[0m: \tweights: random\n"
          ]
        },
        {
          "output_type": "display_data",
          "data": {
            "text/plain": [
              "<IPython.core.display.HTML object>"
            ],
            "text/html": [
              "Tracking run with wandb version 0.19.7"
            ]
          },
          "metadata": {}
        },
        {
          "output_type": "display_data",
          "data": {
            "text/plain": [
              "<IPython.core.display.HTML object>"
            ],
            "text/html": [
              "Run data is saved locally in <code>/content/wandb/run-20250308_070703-uofv80ht</code>"
            ]
          },
          "metadata": {}
        },
        {
          "output_type": "display_data",
          "data": {
            "text/plain": [
              "<IPython.core.display.HTML object>"
            ],
            "text/html": [
              "Syncing run <strong><a href='https://wandb.ai/da24m027-indian-institute-of-technology-madras/DA6401_Assignment1/runs/uofv80ht' target=\"_blank\">glorious-sweep-63</a></strong> to <a href='https://wandb.ai/da24m027-indian-institute-of-technology-madras/DA6401_Assignment1' target=\"_blank\">Weights & Biases</a> (<a href='https://wandb.me/developer-guide' target=\"_blank\">docs</a>)<br>Sweep page: <a href='https://wandb.ai/da24m027-indian-institute-of-technology-madras/DA6401_Assignment1/sweeps/xy966igu' target=\"_blank\">https://wandb.ai/da24m027-indian-institute-of-technology-madras/DA6401_Assignment1/sweeps/xy966igu</a>"
            ]
          },
          "metadata": {}
        },
        {
          "output_type": "display_data",
          "data": {
            "text/plain": [
              "<IPython.core.display.HTML object>"
            ],
            "text/html": [
              " View project at <a href='https://wandb.ai/da24m027-indian-institute-of-technology-madras/DA6401_Assignment1' target=\"_blank\">https://wandb.ai/da24m027-indian-institute-of-technology-madras/DA6401_Assignment1</a>"
            ]
          },
          "metadata": {}
        },
        {
          "output_type": "display_data",
          "data": {
            "text/plain": [
              "<IPython.core.display.HTML object>"
            ],
            "text/html": [
              " View sweep at <a href='https://wandb.ai/da24m027-indian-institute-of-technology-madras/DA6401_Assignment1/sweeps/xy966igu' target=\"_blank\">https://wandb.ai/da24m027-indian-institute-of-technology-madras/DA6401_Assignment1/sweeps/xy966igu</a>"
            ]
          },
          "metadata": {}
        },
        {
          "output_type": "display_data",
          "data": {
            "text/plain": [
              "<IPython.core.display.HTML object>"
            ],
            "text/html": [
              " View run at <a href='https://wandb.ai/da24m027-indian-institute-of-technology-madras/DA6401_Assignment1/runs/uofv80ht' target=\"_blank\">https://wandb.ai/da24m027-indian-institute-of-technology-madras/DA6401_Assignment1/runs/uofv80ht</a>"
            ]
          },
          "metadata": {}
        },
        {
          "output_type": "stream",
          "name": "stdout",
          "text": [
            "Epoch 1/10, Loss: 0.0144, Val Loss: 0.2303, Val Accuracy: 0.0992\n",
            "Epoch 2/10, Loss: 0.0144, Val Loss: 0.2303, Val Accuracy: 0.0933\n",
            "Epoch 3/10, Loss: 0.0144, Val Loss: 0.2303, Val Accuracy: 0.0992\n",
            "Epoch 4/10, Loss: 0.0144, Val Loss: 0.2303, Val Accuracy: 0.0933\n",
            "Epoch 5/10, Loss: 0.0144, Val Loss: 0.2303, Val Accuracy: 0.0992\n",
            "Epoch 6/10, Loss: 0.0144, Val Loss: 0.2303, Val Accuracy: 0.0933\n",
            "Epoch 7/10, Loss: 0.0144, Val Loss: 0.2303, Val Accuracy: 0.0992\n",
            "Epoch 8/10, Loss: 0.0144, Val Loss: 0.2303, Val Accuracy: 0.0933\n",
            "Epoch 9/10, Loss: 0.0144, Val Loss: 0.2303, Val Accuracy: 0.0992\n",
            "Epoch 10/10, Loss: 0.0144, Val Loss: 0.2303, Val Accuracy: 0.0933\n"
          ]
        },
        {
          "output_type": "display_data",
          "data": {
            "text/plain": [
              "<IPython.core.display.HTML object>"
            ],
            "text/html": []
          },
          "metadata": {}
        },
        {
          "output_type": "display_data",
          "data": {
            "text/plain": [
              "<IPython.core.display.HTML object>"
            ],
            "text/html": [
              "<br>    <style><br>        .wandb-row {<br>            display: flex;<br>            flex-direction: row;<br>            flex-wrap: wrap;<br>            justify-content: flex-start;<br>            width: 100%;<br>        }<br>        .wandb-col {<br>            display: flex;<br>            flex-direction: column;<br>            flex-basis: 100%;<br>            flex: 1;<br>            padding: 10px;<br>        }<br>    </style><br><div class=\"wandb-row\"><div class=\"wandb-col\"><h3>Run history:</h3><br/><table class=\"wandb\"><tr><td>epoch</td><td>▁▁▂▂▃▃▃▃▄▄▅▅▆▆▆▆▇▇██</td></tr><tr><td>loss</td><td>▁▁▁▁▁▁▁▁▁▁</td></tr><tr><td>val_accuracy</td><td>█▁█▁█▁█▁█▁</td></tr><tr><td>val_loss</td><td>▁▁▁▁▁▁▁▁▁▁</td></tr></table><br/></div><div class=\"wandb-col\"><h3>Run summary:</h3><br/><table class=\"wandb\"><tr><td>epoch</td><td>10</td></tr><tr><td>loss</td><td>0.01439</td></tr><tr><td>val_accuracy</td><td>0.09333</td></tr><tr><td>val_loss</td><td>0.23026</td></tr></table><br/></div></div>"
            ]
          },
          "metadata": {}
        },
        {
          "output_type": "display_data",
          "data": {
            "text/plain": [
              "<IPython.core.display.HTML object>"
            ],
            "text/html": [
              " View run <strong style=\"color:#cdcd00\">e_10_hl_3_hs_128_lr_0.0001_opt_rmsprop_bs_16_init_random_ac_ReLU_wd_0.5_loss_cross_entropy</strong> at: <a href='https://wandb.ai/da24m027-indian-institute-of-technology-madras/DA6401_Assignment1/runs/uofv80ht' target=\"_blank\">https://wandb.ai/da24m027-indian-institute-of-technology-madras/DA6401_Assignment1/runs/uofv80ht</a><br> View project at: <a href='https://wandb.ai/da24m027-indian-institute-of-technology-madras/DA6401_Assignment1' target=\"_blank\">https://wandb.ai/da24m027-indian-institute-of-technology-madras/DA6401_Assignment1</a><br>Synced 5 W&B file(s), 0 media file(s), 0 artifact file(s) and 0 other file(s)"
            ]
          },
          "metadata": {}
        },
        {
          "output_type": "display_data",
          "data": {
            "text/plain": [
              "<IPython.core.display.HTML object>"
            ],
            "text/html": [
              "Find logs at: <code>./wandb/run-20250308_070703-uofv80ht/logs</code>"
            ]
          },
          "metadata": {}
        },
        {
          "output_type": "stream",
          "name": "stderr",
          "text": [
            "\u001b[34m\u001b[1mwandb\u001b[0m: Agent Starting Run: 4k140ysf with config:\n",
            "\u001b[34m\u001b[1mwandb\u001b[0m: \tactivation: tanh\n",
            "\u001b[34m\u001b[1mwandb\u001b[0m: \tbatch_size: 16\n",
            "\u001b[34m\u001b[1mwandb\u001b[0m: \tepochs: 10\n",
            "\u001b[34m\u001b[1mwandb\u001b[0m: \thidden_layers: 4\n",
            "\u001b[34m\u001b[1mwandb\u001b[0m: \thidden_size: 32\n",
            "\u001b[34m\u001b[1mwandb\u001b[0m: \tlearning_rate: 0.001\n",
            "\u001b[34m\u001b[1mwandb\u001b[0m: \tloss_type: cross_entropy\n",
            "\u001b[34m\u001b[1mwandb\u001b[0m: \toptimizer: momentum\n",
            "\u001b[34m\u001b[1mwandb\u001b[0m: \tweight_decay: 0.5\n",
            "\u001b[34m\u001b[1mwandb\u001b[0m: \tweights: Xavier\n"
          ]
        },
        {
          "output_type": "display_data",
          "data": {
            "text/plain": [
              "<IPython.core.display.HTML object>"
            ],
            "text/html": [
              "Tracking run with wandb version 0.19.7"
            ]
          },
          "metadata": {}
        },
        {
          "output_type": "display_data",
          "data": {
            "text/plain": [
              "<IPython.core.display.HTML object>"
            ],
            "text/html": [
              "Run data is saved locally in <code>/content/wandb/run-20250308_070850-4k140ysf</code>"
            ]
          },
          "metadata": {}
        },
        {
          "output_type": "display_data",
          "data": {
            "text/plain": [
              "<IPython.core.display.HTML object>"
            ],
            "text/html": [
              "Syncing run <strong><a href='https://wandb.ai/da24m027-indian-institute-of-technology-madras/DA6401_Assignment1/runs/4k140ysf' target=\"_blank\">electric-sweep-64</a></strong> to <a href='https://wandb.ai/da24m027-indian-institute-of-technology-madras/DA6401_Assignment1' target=\"_blank\">Weights & Biases</a> (<a href='https://wandb.me/developer-guide' target=\"_blank\">docs</a>)<br>Sweep page: <a href='https://wandb.ai/da24m027-indian-institute-of-technology-madras/DA6401_Assignment1/sweeps/xy966igu' target=\"_blank\">https://wandb.ai/da24m027-indian-institute-of-technology-madras/DA6401_Assignment1/sweeps/xy966igu</a>"
            ]
          },
          "metadata": {}
        },
        {
          "output_type": "display_data",
          "data": {
            "text/plain": [
              "<IPython.core.display.HTML object>"
            ],
            "text/html": [
              " View project at <a href='https://wandb.ai/da24m027-indian-institute-of-technology-madras/DA6401_Assignment1' target=\"_blank\">https://wandb.ai/da24m027-indian-institute-of-technology-madras/DA6401_Assignment1</a>"
            ]
          },
          "metadata": {}
        },
        {
          "output_type": "display_data",
          "data": {
            "text/plain": [
              "<IPython.core.display.HTML object>"
            ],
            "text/html": [
              " View sweep at <a href='https://wandb.ai/da24m027-indian-institute-of-technology-madras/DA6401_Assignment1/sweeps/xy966igu' target=\"_blank\">https://wandb.ai/da24m027-indian-institute-of-technology-madras/DA6401_Assignment1/sweeps/xy966igu</a>"
            ]
          },
          "metadata": {}
        },
        {
          "output_type": "display_data",
          "data": {
            "text/plain": [
              "<IPython.core.display.HTML object>"
            ],
            "text/html": [
              " View run at <a href='https://wandb.ai/da24m027-indian-institute-of-technology-madras/DA6401_Assignment1/runs/4k140ysf' target=\"_blank\">https://wandb.ai/da24m027-indian-institute-of-technology-madras/DA6401_Assignment1/runs/4k140ysf</a>"
            ]
          },
          "metadata": {}
        },
        {
          "output_type": "stream",
          "name": "stdout",
          "text": [
            "Epoch 1/10, Loss: 0.0144, Val Loss: 0.2303, Val Accuracy: 0.0933\n",
            "Epoch 2/10, Loss: 0.0144, Val Loss: 0.2303, Val Accuracy: 0.0933\n",
            "Epoch 3/10, Loss: 0.0144, Val Loss: 0.2303, Val Accuracy: 0.0933\n",
            "Epoch 4/10, Loss: 0.0144, Val Loss: 0.2303, Val Accuracy: 0.0933\n",
            "Epoch 5/10, Loss: 0.0144, Val Loss: 0.2303, Val Accuracy: 0.0933\n",
            "Epoch 6/10, Loss: 0.0144, Val Loss: 0.2303, Val Accuracy: 0.0933\n",
            "Epoch 7/10, Loss: 0.0144, Val Loss: 0.2303, Val Accuracy: 0.0933\n",
            "Epoch 8/10, Loss: 0.0144, Val Loss: 0.2303, Val Accuracy: 0.0933\n",
            "Epoch 9/10, Loss: 0.0144, Val Loss: 0.2303, Val Accuracy: 0.0933\n",
            "Epoch 10/10, Loss: 0.0144, Val Loss: 0.2303, Val Accuracy: 0.0933\n"
          ]
        },
        {
          "output_type": "display_data",
          "data": {
            "text/plain": [
              "<IPython.core.display.HTML object>"
            ],
            "text/html": []
          },
          "metadata": {}
        },
        {
          "output_type": "display_data",
          "data": {
            "text/plain": [
              "<IPython.core.display.HTML object>"
            ],
            "text/html": [
              "<br>    <style><br>        .wandb-row {<br>            display: flex;<br>            flex-direction: row;<br>            flex-wrap: wrap;<br>            justify-content: flex-start;<br>            width: 100%;<br>        }<br>        .wandb-col {<br>            display: flex;<br>            flex-direction: column;<br>            flex-basis: 100%;<br>            flex: 1;<br>            padding: 10px;<br>        }<br>    </style><br><div class=\"wandb-row\"><div class=\"wandb-col\"><h3>Run history:</h3><br/><table class=\"wandb\"><tr><td>epoch</td><td>▁▁▂▂▃▃▃▃▄▄▅▅▆▆▆▆▇▇██</td></tr><tr><td>loss</td><td>▁█████████</td></tr><tr><td>val_accuracy</td><td>▁▁▁▁▁▁▁▁▁▁</td></tr><tr><td>val_loss</td><td>▁▁▁▁▁▁▁▁▁▁</td></tr></table><br/></div><div class=\"wandb-col\"><h3>Run summary:</h3><br/><table class=\"wandb\"><tr><td>epoch</td><td>10</td></tr><tr><td>loss</td><td>0.01439</td></tr><tr><td>val_accuracy</td><td>0.09333</td></tr><tr><td>val_loss</td><td>0.23026</td></tr></table><br/></div></div>"
            ]
          },
          "metadata": {}
        },
        {
          "output_type": "display_data",
          "data": {
            "text/plain": [
              "<IPython.core.display.HTML object>"
            ],
            "text/html": [
              " View run <strong style=\"color:#cdcd00\">e_10_hl_4_hs_32_lr_0.001_opt_momentum_bs_16_init_Xavier_ac_tanh_wd_0.5_loss_cross_entropy</strong> at: <a href='https://wandb.ai/da24m027-indian-institute-of-technology-madras/DA6401_Assignment1/runs/4k140ysf' target=\"_blank\">https://wandb.ai/da24m027-indian-institute-of-technology-madras/DA6401_Assignment1/runs/4k140ysf</a><br> View project at: <a href='https://wandb.ai/da24m027-indian-institute-of-technology-madras/DA6401_Assignment1' target=\"_blank\">https://wandb.ai/da24m027-indian-institute-of-technology-madras/DA6401_Assignment1</a><br>Synced 5 W&B file(s), 0 media file(s), 0 artifact file(s) and 0 other file(s)"
            ]
          },
          "metadata": {}
        },
        {
          "output_type": "display_data",
          "data": {
            "text/plain": [
              "<IPython.core.display.HTML object>"
            ],
            "text/html": [
              "Find logs at: <code>./wandb/run-20250308_070850-4k140ysf/logs</code>"
            ]
          },
          "metadata": {}
        },
        {
          "output_type": "stream",
          "name": "stderr",
          "text": [
            "\u001b[34m\u001b[1mwandb\u001b[0m: Sweep Agent: Waiting for job.\n",
            "\u001b[34m\u001b[1mwandb\u001b[0m: Job received.\n",
            "\u001b[34m\u001b[1mwandb\u001b[0m: Agent Starting Run: 18oiufge with config:\n",
            "\u001b[34m\u001b[1mwandb\u001b[0m: \tactivation: sigmoid\n",
            "\u001b[34m\u001b[1mwandb\u001b[0m: \tbatch_size: 64\n",
            "\u001b[34m\u001b[1mwandb\u001b[0m: \tepochs: 10\n",
            "\u001b[34m\u001b[1mwandb\u001b[0m: \thidden_layers: 3\n",
            "\u001b[34m\u001b[1mwandb\u001b[0m: \thidden_size: 128\n",
            "\u001b[34m\u001b[1mwandb\u001b[0m: \tlearning_rate: 0.001\n",
            "\u001b[34m\u001b[1mwandb\u001b[0m: \tloss_type: mse\n",
            "\u001b[34m\u001b[1mwandb\u001b[0m: \toptimizer: sgd\n",
            "\u001b[34m\u001b[1mwandb\u001b[0m: \tweight_decay: 0\n",
            "\u001b[34m\u001b[1mwandb\u001b[0m: \tweights: random\n"
          ]
        },
        {
          "output_type": "display_data",
          "data": {
            "text/plain": [
              "<IPython.core.display.HTML object>"
            ],
            "text/html": [
              "Tracking run with wandb version 0.19.7"
            ]
          },
          "metadata": {}
        },
        {
          "output_type": "display_data",
          "data": {
            "text/plain": [
              "<IPython.core.display.HTML object>"
            ],
            "text/html": [
              "Run data is saved locally in <code>/content/wandb/run-20250308_070927-18oiufge</code>"
            ]
          },
          "metadata": {}
        },
        {
          "output_type": "display_data",
          "data": {
            "text/plain": [
              "<IPython.core.display.HTML object>"
            ],
            "text/html": [
              "Syncing run <strong><a href='https://wandb.ai/da24m027-indian-institute-of-technology-madras/DA6401_Assignment1/runs/18oiufge' target=\"_blank\">easy-sweep-65</a></strong> to <a href='https://wandb.ai/da24m027-indian-institute-of-technology-madras/DA6401_Assignment1' target=\"_blank\">Weights & Biases</a> (<a href='https://wandb.me/developer-guide' target=\"_blank\">docs</a>)<br>Sweep page: <a href='https://wandb.ai/da24m027-indian-institute-of-technology-madras/DA6401_Assignment1/sweeps/xy966igu' target=\"_blank\">https://wandb.ai/da24m027-indian-institute-of-technology-madras/DA6401_Assignment1/sweeps/xy966igu</a>"
            ]
          },
          "metadata": {}
        },
        {
          "output_type": "display_data",
          "data": {
            "text/plain": [
              "<IPython.core.display.HTML object>"
            ],
            "text/html": [
              " View project at <a href='https://wandb.ai/da24m027-indian-institute-of-technology-madras/DA6401_Assignment1' target=\"_blank\">https://wandb.ai/da24m027-indian-institute-of-technology-madras/DA6401_Assignment1</a>"
            ]
          },
          "metadata": {}
        },
        {
          "output_type": "display_data",
          "data": {
            "text/plain": [
              "<IPython.core.display.HTML object>"
            ],
            "text/html": [
              " View sweep at <a href='https://wandb.ai/da24m027-indian-institute-of-technology-madras/DA6401_Assignment1/sweeps/xy966igu' target=\"_blank\">https://wandb.ai/da24m027-indian-institute-of-technology-madras/DA6401_Assignment1/sweeps/xy966igu</a>"
            ]
          },
          "metadata": {}
        },
        {
          "output_type": "display_data",
          "data": {
            "text/plain": [
              "<IPython.core.display.HTML object>"
            ],
            "text/html": [
              " View run at <a href='https://wandb.ai/da24m027-indian-institute-of-technology-madras/DA6401_Assignment1/runs/18oiufge' target=\"_blank\">https://wandb.ai/da24m027-indian-institute-of-technology-madras/DA6401_Assignment1/runs/18oiufge</a>"
            ]
          },
          "metadata": {}
        },
        {
          "output_type": "stream",
          "name": "stdout",
          "text": [
            "Epoch 1/10, Loss: 0.0016, Val Loss: 0.0901, Val Accuracy: 0.0973\n",
            "Epoch 2/10, Loss: 0.0014, Val Loss: 0.0900, Val Accuracy: 0.0973\n",
            "Epoch 3/10, Loss: 0.0014, Val Loss: 0.0900, Val Accuracy: 0.0973\n",
            "Epoch 4/10, Loss: 0.0014, Val Loss: 0.0900, Val Accuracy: 0.0973\n",
            "Epoch 5/10, Loss: 0.0014, Val Loss: 0.0900, Val Accuracy: 0.0973\n",
            "Epoch 6/10, Loss: 0.0014, Val Loss: 0.0900, Val Accuracy: 0.0973\n",
            "Epoch 7/10, Loss: 0.0014, Val Loss: 0.0900, Val Accuracy: 0.0973\n",
            "Epoch 8/10, Loss: 0.0014, Val Loss: 0.0900, Val Accuracy: 0.0973\n",
            "Epoch 9/10, Loss: 0.0014, Val Loss: 0.0900, Val Accuracy: 0.0973\n",
            "Epoch 10/10, Loss: 0.0014, Val Loss: 0.0900, Val Accuracy: 0.0973\n"
          ]
        },
        {
          "output_type": "display_data",
          "data": {
            "text/plain": [
              "<IPython.core.display.HTML object>"
            ],
            "text/html": []
          },
          "metadata": {}
        },
        {
          "output_type": "display_data",
          "data": {
            "text/plain": [
              "<IPython.core.display.HTML object>"
            ],
            "text/html": [
              "<br>    <style><br>        .wandb-row {<br>            display: flex;<br>            flex-direction: row;<br>            flex-wrap: wrap;<br>            justify-content: flex-start;<br>            width: 100%;<br>        }<br>        .wandb-col {<br>            display: flex;<br>            flex-direction: column;<br>            flex-basis: 100%;<br>            flex: 1;<br>            padding: 10px;<br>        }<br>    </style><br><div class=\"wandb-row\"><div class=\"wandb-col\"><h3>Run history:</h3><br/><table class=\"wandb\"><tr><td>epoch</td><td>▁▁▂▂▃▃▃▃▄▄▅▅▆▆▆▆▇▇██</td></tr><tr><td>loss</td><td>█▁▁▁▁▁▁▁▁▁</td></tr><tr><td>val_accuracy</td><td>▁▁▁▁▁▁▁▁▁▁</td></tr><tr><td>val_loss</td><td>█▁▁▁▁▁▁▁▁▁</td></tr></table><br/></div><div class=\"wandb-col\"><h3>Run summary:</h3><br/><table class=\"wandb\"><tr><td>epoch</td><td>10</td></tr><tr><td>loss</td><td>0.00141</td></tr><tr><td>val_accuracy</td><td>0.09733</td></tr><tr><td>val_loss</td><td>0.09</td></tr></table><br/></div></div>"
            ]
          },
          "metadata": {}
        },
        {
          "output_type": "display_data",
          "data": {
            "text/plain": [
              "<IPython.core.display.HTML object>"
            ],
            "text/html": [
              " View run <strong style=\"color:#cdcd00\">e_10_hl_3_hs_128_lr_0.001_opt_sgd_bs_64_init_random_ac_sigmoid_wd_0_loss_mse</strong> at: <a href='https://wandb.ai/da24m027-indian-institute-of-technology-madras/DA6401_Assignment1/runs/18oiufge' target=\"_blank\">https://wandb.ai/da24m027-indian-institute-of-technology-madras/DA6401_Assignment1/runs/18oiufge</a><br> View project at: <a href='https://wandb.ai/da24m027-indian-institute-of-technology-madras/DA6401_Assignment1' target=\"_blank\">https://wandb.ai/da24m027-indian-institute-of-technology-madras/DA6401_Assignment1</a><br>Synced 5 W&B file(s), 0 media file(s), 0 artifact file(s) and 0 other file(s)"
            ]
          },
          "metadata": {}
        },
        {
          "output_type": "display_data",
          "data": {
            "text/plain": [
              "<IPython.core.display.HTML object>"
            ],
            "text/html": [
              "Find logs at: <code>./wandb/run-20250308_070927-18oiufge/logs</code>"
            ]
          },
          "metadata": {}
        },
        {
          "output_type": "stream",
          "name": "stderr",
          "text": [
            "\u001b[34m\u001b[1mwandb\u001b[0m: Agent Starting Run: tfwsffs8 with config:\n",
            "\u001b[34m\u001b[1mwandb\u001b[0m: \tactivation: sigmoid\n",
            "\u001b[34m\u001b[1mwandb\u001b[0m: \tbatch_size: 32\n",
            "\u001b[34m\u001b[1mwandb\u001b[0m: \tepochs: 5\n",
            "\u001b[34m\u001b[1mwandb\u001b[0m: \thidden_layers: 5\n",
            "\u001b[34m\u001b[1mwandb\u001b[0m: \thidden_size: 64\n",
            "\u001b[34m\u001b[1mwandb\u001b[0m: \tlearning_rate: 0.001\n",
            "\u001b[34m\u001b[1mwandb\u001b[0m: \tloss_type: cross_entropy\n",
            "\u001b[34m\u001b[1mwandb\u001b[0m: \toptimizer: nadam\n",
            "\u001b[34m\u001b[1mwandb\u001b[0m: \tweight_decay: 0\n",
            "\u001b[34m\u001b[1mwandb\u001b[0m: \tweights: random\n"
          ]
        },
        {
          "output_type": "display_data",
          "data": {
            "text/plain": [
              "<IPython.core.display.HTML object>"
            ],
            "text/html": [
              "Tracking run with wandb version 0.19.7"
            ]
          },
          "metadata": {}
        },
        {
          "output_type": "display_data",
          "data": {
            "text/plain": [
              "<IPython.core.display.HTML object>"
            ],
            "text/html": [
              "Run data is saved locally in <code>/content/wandb/run-20250308_071002-tfwsffs8</code>"
            ]
          },
          "metadata": {}
        },
        {
          "output_type": "display_data",
          "data": {
            "text/plain": [
              "<IPython.core.display.HTML object>"
            ],
            "text/html": [
              "Syncing run <strong><a href='https://wandb.ai/da24m027-indian-institute-of-technology-madras/DA6401_Assignment1/runs/tfwsffs8' target=\"_blank\">dutiful-sweep-66</a></strong> to <a href='https://wandb.ai/da24m027-indian-institute-of-technology-madras/DA6401_Assignment1' target=\"_blank\">Weights & Biases</a> (<a href='https://wandb.me/developer-guide' target=\"_blank\">docs</a>)<br>Sweep page: <a href='https://wandb.ai/da24m027-indian-institute-of-technology-madras/DA6401_Assignment1/sweeps/xy966igu' target=\"_blank\">https://wandb.ai/da24m027-indian-institute-of-technology-madras/DA6401_Assignment1/sweeps/xy966igu</a>"
            ]
          },
          "metadata": {}
        },
        {
          "output_type": "display_data",
          "data": {
            "text/plain": [
              "<IPython.core.display.HTML object>"
            ],
            "text/html": [
              " View project at <a href='https://wandb.ai/da24m027-indian-institute-of-technology-madras/DA6401_Assignment1' target=\"_blank\">https://wandb.ai/da24m027-indian-institute-of-technology-madras/DA6401_Assignment1</a>"
            ]
          },
          "metadata": {}
        },
        {
          "output_type": "display_data",
          "data": {
            "text/plain": [
              "<IPython.core.display.HTML object>"
            ],
            "text/html": [
              " View sweep at <a href='https://wandb.ai/da24m027-indian-institute-of-technology-madras/DA6401_Assignment1/sweeps/xy966igu' target=\"_blank\">https://wandb.ai/da24m027-indian-institute-of-technology-madras/DA6401_Assignment1/sweeps/xy966igu</a>"
            ]
          },
          "metadata": {}
        },
        {
          "output_type": "display_data",
          "data": {
            "text/plain": [
              "<IPython.core.display.HTML object>"
            ],
            "text/html": [
              " View run at <a href='https://wandb.ai/da24m027-indian-institute-of-technology-madras/DA6401_Assignment1/runs/tfwsffs8' target=\"_blank\">https://wandb.ai/da24m027-indian-institute-of-technology-madras/DA6401_Assignment1/runs/tfwsffs8</a>"
            ]
          },
          "metadata": {}
        },
        {
          "output_type": "stream",
          "name": "stdout",
          "text": [
            "Epoch 1/5, Loss: 0.0453, Val Loss: 1.4461, Val Accuracy: 0.1028\n",
            "Epoch 2/5, Loss: 0.0455, Val Loss: 1.4614, Val Accuracy: 0.0933\n",
            "Epoch 3/5, Loss: 0.0453, Val Loss: 1.4549, Val Accuracy: 0.0973\n",
            "Epoch 4/5, Loss: 0.0454, Val Loss: 1.4533, Val Accuracy: 0.0983\n",
            "Epoch 5/5, Loss: 0.0454, Val Loss: 1.4533, Val Accuracy: 0.0983\n"
          ]
        },
        {
          "output_type": "display_data",
          "data": {
            "text/plain": [
              "<IPython.core.display.HTML object>"
            ],
            "text/html": []
          },
          "metadata": {}
        },
        {
          "output_type": "display_data",
          "data": {
            "text/plain": [
              "<IPython.core.display.HTML object>"
            ],
            "text/html": [
              "<br>    <style><br>        .wandb-row {<br>            display: flex;<br>            flex-direction: row;<br>            flex-wrap: wrap;<br>            justify-content: flex-start;<br>            width: 100%;<br>        }<br>        .wandb-col {<br>            display: flex;<br>            flex-direction: column;<br>            flex-basis: 100%;<br>            flex: 1;<br>            padding: 10px;<br>        }<br>    </style><br><div class=\"wandb-row\"><div class=\"wandb-col\"><h3>Run history:</h3><br/><table class=\"wandb\"><tr><td>epoch</td><td>▁▁▃▃▅▅▆▆██</td></tr><tr><td>loss</td><td>▁█▁▅▅</td></tr><tr><td>val_accuracy</td><td>█▁▄▅▅</td></tr><tr><td>val_loss</td><td>▁█▅▄▄</td></tr></table><br/></div><div class=\"wandb-col\"><h3>Run summary:</h3><br/><table class=\"wandb\"><tr><td>epoch</td><td>5</td></tr><tr><td>loss</td><td>0.04541</td></tr><tr><td>val_accuracy</td><td>0.09833</td></tr><tr><td>val_loss</td><td>1.45331</td></tr></table><br/></div></div>"
            ]
          },
          "metadata": {}
        },
        {
          "output_type": "display_data",
          "data": {
            "text/plain": [
              "<IPython.core.display.HTML object>"
            ],
            "text/html": [
              " View run <strong style=\"color:#cdcd00\">e_5_hl_5_hs_64_lr_0.001_opt_nadam_bs_32_init_random_ac_sigmoid_wd_0_loss_cross_entropy</strong> at: <a href='https://wandb.ai/da24m027-indian-institute-of-technology-madras/DA6401_Assignment1/runs/tfwsffs8' target=\"_blank\">https://wandb.ai/da24m027-indian-institute-of-technology-madras/DA6401_Assignment1/runs/tfwsffs8</a><br> View project at: <a href='https://wandb.ai/da24m027-indian-institute-of-technology-madras/DA6401_Assignment1' target=\"_blank\">https://wandb.ai/da24m027-indian-institute-of-technology-madras/DA6401_Assignment1</a><br>Synced 5 W&B file(s), 0 media file(s), 0 artifact file(s) and 0 other file(s)"
            ]
          },
          "metadata": {}
        },
        {
          "output_type": "display_data",
          "data": {
            "text/plain": [
              "<IPython.core.display.HTML object>"
            ],
            "text/html": [
              "Find logs at: <code>./wandb/run-20250308_071002-tfwsffs8/logs</code>"
            ]
          },
          "metadata": {}
        },
        {
          "output_type": "stream",
          "name": "stderr",
          "text": [
            "\u001b[34m\u001b[1mwandb\u001b[0m: Sweep Agent: Waiting for job.\n",
            "\u001b[34m\u001b[1mwandb\u001b[0m: Job received.\n",
            "\u001b[34m\u001b[1mwandb\u001b[0m: Agent Starting Run: gf6u3i75 with config:\n",
            "\u001b[34m\u001b[1mwandb\u001b[0m: \tactivation: sigmoid\n",
            "\u001b[34m\u001b[1mwandb\u001b[0m: \tbatch_size: 64\n",
            "\u001b[34m\u001b[1mwandb\u001b[0m: \tepochs: 10\n",
            "\u001b[34m\u001b[1mwandb\u001b[0m: \thidden_layers: 5\n",
            "\u001b[34m\u001b[1mwandb\u001b[0m: \thidden_size: 32\n",
            "\u001b[34m\u001b[1mwandb\u001b[0m: \tlearning_rate: 0.001\n",
            "\u001b[34m\u001b[1mwandb\u001b[0m: \tloss_type: mse\n",
            "\u001b[34m\u001b[1mwandb\u001b[0m: \toptimizer: nesterov\n",
            "\u001b[34m\u001b[1mwandb\u001b[0m: \tweight_decay: 0\n",
            "\u001b[34m\u001b[1mwandb\u001b[0m: \tweights: Xavier\n"
          ]
        },
        {
          "output_type": "display_data",
          "data": {
            "text/plain": [
              "<IPython.core.display.HTML object>"
            ],
            "text/html": [
              "Tracking run with wandb version 0.19.7"
            ]
          },
          "metadata": {}
        },
        {
          "output_type": "display_data",
          "data": {
            "text/plain": [
              "<IPython.core.display.HTML object>"
            ],
            "text/html": [
              "Run data is saved locally in <code>/content/wandb/run-20250308_071038-gf6u3i75</code>"
            ]
          },
          "metadata": {}
        },
        {
          "output_type": "display_data",
          "data": {
            "text/plain": [
              "<IPython.core.display.HTML object>"
            ],
            "text/html": [
              "Syncing run <strong><a href='https://wandb.ai/da24m027-indian-institute-of-technology-madras/DA6401_Assignment1/runs/gf6u3i75' target=\"_blank\">stellar-sweep-67</a></strong> to <a href='https://wandb.ai/da24m027-indian-institute-of-technology-madras/DA6401_Assignment1' target=\"_blank\">Weights & Biases</a> (<a href='https://wandb.me/developer-guide' target=\"_blank\">docs</a>)<br>Sweep page: <a href='https://wandb.ai/da24m027-indian-institute-of-technology-madras/DA6401_Assignment1/sweeps/xy966igu' target=\"_blank\">https://wandb.ai/da24m027-indian-institute-of-technology-madras/DA6401_Assignment1/sweeps/xy966igu</a>"
            ]
          },
          "metadata": {}
        },
        {
          "output_type": "display_data",
          "data": {
            "text/plain": [
              "<IPython.core.display.HTML object>"
            ],
            "text/html": [
              " View project at <a href='https://wandb.ai/da24m027-indian-institute-of-technology-madras/DA6401_Assignment1' target=\"_blank\">https://wandb.ai/da24m027-indian-institute-of-technology-madras/DA6401_Assignment1</a>"
            ]
          },
          "metadata": {}
        },
        {
          "output_type": "display_data",
          "data": {
            "text/plain": [
              "<IPython.core.display.HTML object>"
            ],
            "text/html": [
              " View sweep at <a href='https://wandb.ai/da24m027-indian-institute-of-technology-madras/DA6401_Assignment1/sweeps/xy966igu' target=\"_blank\">https://wandb.ai/da24m027-indian-institute-of-technology-madras/DA6401_Assignment1/sweeps/xy966igu</a>"
            ]
          },
          "metadata": {}
        },
        {
          "output_type": "display_data",
          "data": {
            "text/plain": [
              "<IPython.core.display.HTML object>"
            ],
            "text/html": [
              " View run at <a href='https://wandb.ai/da24m027-indian-institute-of-technology-madras/DA6401_Assignment1/runs/gf6u3i75' target=\"_blank\">https://wandb.ai/da24m027-indian-institute-of-technology-madras/DA6401_Assignment1/runs/gf6u3i75</a>"
            ]
          },
          "metadata": {}
        },
        {
          "output_type": "stream",
          "name": "stdout",
          "text": [
            "Epoch 1/10, Loss: 0.0015, Val Loss: 0.0900, Val Accuracy: 0.0973\n",
            "Epoch 2/10, Loss: 0.0014, Val Loss: 0.0900, Val Accuracy: 0.0973\n",
            "Epoch 3/10, Loss: 0.0014, Val Loss: 0.0900, Val Accuracy: 0.0973\n",
            "Epoch 4/10, Loss: 0.0014, Val Loss: 0.0900, Val Accuracy: 0.0973\n",
            "Epoch 5/10, Loss: 0.0014, Val Loss: 0.0900, Val Accuracy: 0.0973\n",
            "Epoch 6/10, Loss: 0.0014, Val Loss: 0.0900, Val Accuracy: 0.0973\n",
            "Epoch 7/10, Loss: 0.0014, Val Loss: 0.0900, Val Accuracy: 0.0973\n",
            "Epoch 8/10, Loss: 0.0014, Val Loss: 0.0900, Val Accuracy: 0.0973\n",
            "Epoch 9/10, Loss: 0.0014, Val Loss: 0.0900, Val Accuracy: 0.0973\n",
            "Epoch 10/10, Loss: 0.0014, Val Loss: 0.0900, Val Accuracy: 0.0973\n"
          ]
        },
        {
          "output_type": "display_data",
          "data": {
            "text/plain": [
              "<IPython.core.display.HTML object>"
            ],
            "text/html": []
          },
          "metadata": {}
        },
        {
          "output_type": "display_data",
          "data": {
            "text/plain": [
              "<IPython.core.display.HTML object>"
            ],
            "text/html": [
              "<br>    <style><br>        .wandb-row {<br>            display: flex;<br>            flex-direction: row;<br>            flex-wrap: wrap;<br>            justify-content: flex-start;<br>            width: 100%;<br>        }<br>        .wandb-col {<br>            display: flex;<br>            flex-direction: column;<br>            flex-basis: 100%;<br>            flex: 1;<br>            padding: 10px;<br>        }<br>    </style><br><div class=\"wandb-row\"><div class=\"wandb-col\"><h3>Run history:</h3><br/><table class=\"wandb\"><tr><td>epoch</td><td>▁▁▂▂▃▃▃▃▄▄▅▅▆▆▆▆▇▇██</td></tr><tr><td>loss</td><td>█▁▁▁▁▁▁▁▁▁</td></tr><tr><td>val_accuracy</td><td>▁▁▁▁▁▁▁▁▁▁</td></tr><tr><td>val_loss</td><td>█▇▇▆▅▄▃▂▂▁</td></tr></table><br/></div><div class=\"wandb-col\"><h3>Run summary:</h3><br/><table class=\"wandb\"><tr><td>epoch</td><td>10</td></tr><tr><td>loss</td><td>0.00141</td></tr><tr><td>val_accuracy</td><td>0.09733</td></tr><tr><td>val_loss</td><td>0.09001</td></tr></table><br/></div></div>"
            ]
          },
          "metadata": {}
        },
        {
          "output_type": "display_data",
          "data": {
            "text/plain": [
              "<IPython.core.display.HTML object>"
            ],
            "text/html": [
              " View run <strong style=\"color:#cdcd00\">e_10_hl_5_hs_32_lr_0.001_opt_nesterov_bs_64_init_Xavier_ac_sigmoid_wd_0_loss_mse</strong> at: <a href='https://wandb.ai/da24m027-indian-institute-of-technology-madras/DA6401_Assignment1/runs/gf6u3i75' target=\"_blank\">https://wandb.ai/da24m027-indian-institute-of-technology-madras/DA6401_Assignment1/runs/gf6u3i75</a><br> View project at: <a href='https://wandb.ai/da24m027-indian-institute-of-technology-madras/DA6401_Assignment1' target=\"_blank\">https://wandb.ai/da24m027-indian-institute-of-technology-madras/DA6401_Assignment1</a><br>Synced 5 W&B file(s), 0 media file(s), 0 artifact file(s) and 0 other file(s)"
            ]
          },
          "metadata": {}
        },
        {
          "output_type": "display_data",
          "data": {
            "text/plain": [
              "<IPython.core.display.HTML object>"
            ],
            "text/html": [
              "Find logs at: <code>./wandb/run-20250308_071038-gf6u3i75/logs</code>"
            ]
          },
          "metadata": {}
        },
        {
          "output_type": "stream",
          "name": "stderr",
          "text": [
            "\u001b[34m\u001b[1mwandb\u001b[0m: Agent Starting Run: gdy5pbe2 with config:\n",
            "\u001b[34m\u001b[1mwandb\u001b[0m: \tactivation: tanh\n",
            "\u001b[34m\u001b[1mwandb\u001b[0m: \tbatch_size: 32\n",
            "\u001b[34m\u001b[1mwandb\u001b[0m: \tepochs: 5\n",
            "\u001b[34m\u001b[1mwandb\u001b[0m: \thidden_layers: 3\n",
            "\u001b[34m\u001b[1mwandb\u001b[0m: \thidden_size: 64\n",
            "\u001b[34m\u001b[1mwandb\u001b[0m: \tlearning_rate: 0.001\n",
            "\u001b[34m\u001b[1mwandb\u001b[0m: \tloss_type: cross_entropy\n",
            "\u001b[34m\u001b[1mwandb\u001b[0m: \toptimizer: adam\n",
            "\u001b[34m\u001b[1mwandb\u001b[0m: \tweight_decay: 0.0005\n",
            "\u001b[34m\u001b[1mwandb\u001b[0m: \tweights: Xavier\n"
          ]
        },
        {
          "output_type": "display_data",
          "data": {
            "text/plain": [
              "<IPython.core.display.HTML object>"
            ],
            "text/html": [
              "Tracking run with wandb version 0.19.7"
            ]
          },
          "metadata": {}
        },
        {
          "output_type": "display_data",
          "data": {
            "text/plain": [
              "<IPython.core.display.HTML object>"
            ],
            "text/html": [
              "Run data is saved locally in <code>/content/wandb/run-20250308_071059-gdy5pbe2</code>"
            ]
          },
          "metadata": {}
        },
        {
          "output_type": "display_data",
          "data": {
            "text/plain": [
              "<IPython.core.display.HTML object>"
            ],
            "text/html": [
              "Syncing run <strong><a href='https://wandb.ai/da24m027-indian-institute-of-technology-madras/DA6401_Assignment1/runs/gdy5pbe2' target=\"_blank\">sunny-sweep-68</a></strong> to <a href='https://wandb.ai/da24m027-indian-institute-of-technology-madras/DA6401_Assignment1' target=\"_blank\">Weights & Biases</a> (<a href='https://wandb.me/developer-guide' target=\"_blank\">docs</a>)<br>Sweep page: <a href='https://wandb.ai/da24m027-indian-institute-of-technology-madras/DA6401_Assignment1/sweeps/xy966igu' target=\"_blank\">https://wandb.ai/da24m027-indian-institute-of-technology-madras/DA6401_Assignment1/sweeps/xy966igu</a>"
            ]
          },
          "metadata": {}
        },
        {
          "output_type": "display_data",
          "data": {
            "text/plain": [
              "<IPython.core.display.HTML object>"
            ],
            "text/html": [
              " View project at <a href='https://wandb.ai/da24m027-indian-institute-of-technology-madras/DA6401_Assignment1' target=\"_blank\">https://wandb.ai/da24m027-indian-institute-of-technology-madras/DA6401_Assignment1</a>"
            ]
          },
          "metadata": {}
        },
        {
          "output_type": "display_data",
          "data": {
            "text/plain": [
              "<IPython.core.display.HTML object>"
            ],
            "text/html": [
              " View sweep at <a href='https://wandb.ai/da24m027-indian-institute-of-technology-madras/DA6401_Assignment1/sweeps/xy966igu' target=\"_blank\">https://wandb.ai/da24m027-indian-institute-of-technology-madras/DA6401_Assignment1/sweeps/xy966igu</a>"
            ]
          },
          "metadata": {}
        },
        {
          "output_type": "display_data",
          "data": {
            "text/plain": [
              "<IPython.core.display.HTML object>"
            ],
            "text/html": [
              " View run at <a href='https://wandb.ai/da24m027-indian-institute-of-technology-madras/DA6401_Assignment1/runs/gdy5pbe2' target=\"_blank\">https://wandb.ai/da24m027-indian-institute-of-technology-madras/DA6401_Assignment1/runs/gdy5pbe2</a>"
            ]
          },
          "metadata": {}
        },
        {
          "output_type": "stream",
          "name": "stdout",
          "text": [
            "Epoch 1/5, Loss: 0.0017, Val Loss: 0.0429, Val Accuracy: 0.8478\n",
            "Epoch 2/5, Loss: 0.0013, Val Loss: 0.0400, Val Accuracy: 0.8552\n",
            "Epoch 3/5, Loss: 0.0012, Val Loss: 0.0384, Val Accuracy: 0.8593\n",
            "Epoch 4/5, Loss: 0.0011, Val Loss: 0.0374, Val Accuracy: 0.8618\n",
            "Epoch 5/5, Loss: 0.0011, Val Loss: 0.0368, Val Accuracy: 0.8645\n"
          ]
        },
        {
          "output_type": "display_data",
          "data": {
            "text/plain": [
              "<IPython.core.display.HTML object>"
            ],
            "text/html": []
          },
          "metadata": {}
        },
        {
          "output_type": "display_data",
          "data": {
            "text/plain": [
              "<IPython.core.display.HTML object>"
            ],
            "text/html": [
              "<br>    <style><br>        .wandb-row {<br>            display: flex;<br>            flex-direction: row;<br>            flex-wrap: wrap;<br>            justify-content: flex-start;<br>            width: 100%;<br>        }<br>        .wandb-col {<br>            display: flex;<br>            flex-direction: column;<br>            flex-basis: 100%;<br>            flex: 1;<br>            padding: 10px;<br>        }<br>    </style><br><div class=\"wandb-row\"><div class=\"wandb-col\"><h3>Run history:</h3><br/><table class=\"wandb\"><tr><td>epoch</td><td>▁▁▃▃▅▅▆▆██</td></tr><tr><td>loss</td><td>█▃▂▁▁</td></tr><tr><td>val_accuracy</td><td>▁▄▆▇█</td></tr><tr><td>val_loss</td><td>█▅▃▂▁</td></tr></table><br/></div><div class=\"wandb-col\"><h3>Run summary:</h3><br/><table class=\"wandb\"><tr><td>epoch</td><td>5</td></tr><tr><td>loss</td><td>0.00111</td></tr><tr><td>val_accuracy</td><td>0.8645</td></tr><tr><td>val_loss</td><td>0.03675</td></tr></table><br/></div></div>"
            ]
          },
          "metadata": {}
        },
        {
          "output_type": "display_data",
          "data": {
            "text/plain": [
              "<IPython.core.display.HTML object>"
            ],
            "text/html": [
              " View run <strong style=\"color:#cdcd00\">e_5_hl_3_hs_64_lr_0.001_opt_adam_bs_32_init_Xavier_ac_tanh_wd_0.0005_loss_cross_entropy</strong> at: <a href='https://wandb.ai/da24m027-indian-institute-of-technology-madras/DA6401_Assignment1/runs/gdy5pbe2' target=\"_blank\">https://wandb.ai/da24m027-indian-institute-of-technology-madras/DA6401_Assignment1/runs/gdy5pbe2</a><br> View project at: <a href='https://wandb.ai/da24m027-indian-institute-of-technology-madras/DA6401_Assignment1' target=\"_blank\">https://wandb.ai/da24m027-indian-institute-of-technology-madras/DA6401_Assignment1</a><br>Synced 5 W&B file(s), 0 media file(s), 0 artifact file(s) and 0 other file(s)"
            ]
          },
          "metadata": {}
        },
        {
          "output_type": "display_data",
          "data": {
            "text/plain": [
              "<IPython.core.display.HTML object>"
            ],
            "text/html": [
              "Find logs at: <code>./wandb/run-20250308_071059-gdy5pbe2/logs</code>"
            ]
          },
          "metadata": {}
        },
        {
          "output_type": "stream",
          "name": "stderr",
          "text": [
            "\u001b[34m\u001b[1mwandb\u001b[0m: Agent Starting Run: 1m022a1n with config:\n",
            "\u001b[34m\u001b[1mwandb\u001b[0m: \tactivation: sigmoid\n",
            "\u001b[34m\u001b[1mwandb\u001b[0m: \tbatch_size: 16\n",
            "\u001b[34m\u001b[1mwandb\u001b[0m: \tepochs: 5\n",
            "\u001b[34m\u001b[1mwandb\u001b[0m: \thidden_layers: 3\n",
            "\u001b[34m\u001b[1mwandb\u001b[0m: \thidden_size: 32\n",
            "\u001b[34m\u001b[1mwandb\u001b[0m: \tlearning_rate: 0.0001\n",
            "\u001b[34m\u001b[1mwandb\u001b[0m: \tloss_type: mse\n",
            "\u001b[34m\u001b[1mwandb\u001b[0m: \toptimizer: nadam\n",
            "\u001b[34m\u001b[1mwandb\u001b[0m: \tweight_decay: 0.0005\n",
            "\u001b[34m\u001b[1mwandb\u001b[0m: \tweights: Xavier\n"
          ]
        },
        {
          "output_type": "display_data",
          "data": {
            "text/plain": [
              "<IPython.core.display.HTML object>"
            ],
            "text/html": [
              "Tracking run with wandb version 0.19.7"
            ]
          },
          "metadata": {}
        },
        {
          "output_type": "display_data",
          "data": {
            "text/plain": [
              "<IPython.core.display.HTML object>"
            ],
            "text/html": [
              "Run data is saved locally in <code>/content/wandb/run-20250308_071125-1m022a1n</code>"
            ]
          },
          "metadata": {}
        },
        {
          "output_type": "display_data",
          "data": {
            "text/plain": [
              "<IPython.core.display.HTML object>"
            ],
            "text/html": [
              "Syncing run <strong><a href='https://wandb.ai/da24m027-indian-institute-of-technology-madras/DA6401_Assignment1/runs/1m022a1n' target=\"_blank\">treasured-sweep-69</a></strong> to <a href='https://wandb.ai/da24m027-indian-institute-of-technology-madras/DA6401_Assignment1' target=\"_blank\">Weights & Biases</a> (<a href='https://wandb.me/developer-guide' target=\"_blank\">docs</a>)<br>Sweep page: <a href='https://wandb.ai/da24m027-indian-institute-of-technology-madras/DA6401_Assignment1/sweeps/xy966igu' target=\"_blank\">https://wandb.ai/da24m027-indian-institute-of-technology-madras/DA6401_Assignment1/sweeps/xy966igu</a>"
            ]
          },
          "metadata": {}
        },
        {
          "output_type": "display_data",
          "data": {
            "text/plain": [
              "<IPython.core.display.HTML object>"
            ],
            "text/html": [
              " View project at <a href='https://wandb.ai/da24m027-indian-institute-of-technology-madras/DA6401_Assignment1' target=\"_blank\">https://wandb.ai/da24m027-indian-institute-of-technology-madras/DA6401_Assignment1</a>"
            ]
          },
          "metadata": {}
        },
        {
          "output_type": "display_data",
          "data": {
            "text/plain": [
              "<IPython.core.display.HTML object>"
            ],
            "text/html": [
              " View sweep at <a href='https://wandb.ai/da24m027-indian-institute-of-technology-madras/DA6401_Assignment1/sweeps/xy966igu' target=\"_blank\">https://wandb.ai/da24m027-indian-institute-of-technology-madras/DA6401_Assignment1/sweeps/xy966igu</a>"
            ]
          },
          "metadata": {}
        },
        {
          "output_type": "display_data",
          "data": {
            "text/plain": [
              "<IPython.core.display.HTML object>"
            ],
            "text/html": [
              " View run at <a href='https://wandb.ai/da24m027-indian-institute-of-technology-madras/DA6401_Assignment1/runs/1m022a1n' target=\"_blank\">https://wandb.ai/da24m027-indian-institute-of-technology-madras/DA6401_Assignment1/runs/1m022a1n</a>"
            ]
          },
          "metadata": {}
        },
        {
          "output_type": "stream",
          "name": "stdout",
          "text": [
            "Epoch 1/5, Loss: 0.0311, Val Loss: 0.1000, Val Accuracy: 0.0933\n",
            "Epoch 2/5, Loss: 0.0312, Val Loss: 0.9000, Val Accuracy: 0.0933\n",
            "Epoch 3/5, Loss: 0.0300, Val Loss: 0.1000, Val Accuracy: 0.0933\n",
            "Epoch 4/5, Loss: 0.0306, Val Loss: 0.9000, Val Accuracy: 0.0933\n",
            "Epoch 5/5, Loss: 0.0311, Val Loss: 0.1000, Val Accuracy: 0.0933\n"
          ]
        },
        {
          "output_type": "display_data",
          "data": {
            "text/plain": [
              "<IPython.core.display.HTML object>"
            ],
            "text/html": []
          },
          "metadata": {}
        },
        {
          "output_type": "display_data",
          "data": {
            "text/plain": [
              "<IPython.core.display.HTML object>"
            ],
            "text/html": [
              "<br>    <style><br>        .wandb-row {<br>            display: flex;<br>            flex-direction: row;<br>            flex-wrap: wrap;<br>            justify-content: flex-start;<br>            width: 100%;<br>        }<br>        .wandb-col {<br>            display: flex;<br>            flex-direction: column;<br>            flex-basis: 100%;<br>            flex: 1;<br>            padding: 10px;<br>        }<br>    </style><br><div class=\"wandb-row\"><div class=\"wandb-col\"><h3>Run history:</h3><br/><table class=\"wandb\"><tr><td>epoch</td><td>▁▁▃▃▅▅▆▆██</td></tr><tr><td>loss</td><td>▇█▁▄█</td></tr><tr><td>val_accuracy</td><td>▁▁▁▁▁</td></tr><tr><td>val_loss</td><td>▁█▁█▁</td></tr></table><br/></div><div class=\"wandb-col\"><h3>Run summary:</h3><br/><table class=\"wandb\"><tr><td>epoch</td><td>5</td></tr><tr><td>loss</td><td>0.03115</td></tr><tr><td>val_accuracy</td><td>0.09333</td></tr><tr><td>val_loss</td><td>0.1</td></tr></table><br/></div></div>"
            ]
          },
          "metadata": {}
        },
        {
          "output_type": "display_data",
          "data": {
            "text/plain": [
              "<IPython.core.display.HTML object>"
            ],
            "text/html": [
              " View run <strong style=\"color:#cdcd00\">e_5_hl_3_hs_32_lr_0.0001_opt_nadam_bs_16_init_Xavier_ac_sigmoid_wd_0.0005_loss_mse</strong> at: <a href='https://wandb.ai/da24m027-indian-institute-of-technology-madras/DA6401_Assignment1/runs/1m022a1n' target=\"_blank\">https://wandb.ai/da24m027-indian-institute-of-technology-madras/DA6401_Assignment1/runs/1m022a1n</a><br> View project at: <a href='https://wandb.ai/da24m027-indian-institute-of-technology-madras/DA6401_Assignment1' target=\"_blank\">https://wandb.ai/da24m027-indian-institute-of-technology-madras/DA6401_Assignment1</a><br>Synced 5 W&B file(s), 0 media file(s), 0 artifact file(s) and 0 other file(s)"
            ]
          },
          "metadata": {}
        },
        {
          "output_type": "display_data",
          "data": {
            "text/plain": [
              "<IPython.core.display.HTML object>"
            ],
            "text/html": [
              "Find logs at: <code>./wandb/run-20250308_071125-1m022a1n/logs</code>"
            ]
          },
          "metadata": {}
        },
        {
          "output_type": "stream",
          "name": "stderr",
          "text": [
            "\u001b[34m\u001b[1mwandb\u001b[0m: Sweep Agent: Waiting for job.\n",
            "\u001b[34m\u001b[1mwandb\u001b[0m: Job received.\n",
            "\u001b[34m\u001b[1mwandb\u001b[0m: Agent Starting Run: xwgfhify with config:\n",
            "\u001b[34m\u001b[1mwandb\u001b[0m: \tactivation: ReLU\n",
            "\u001b[34m\u001b[1mwandb\u001b[0m: \tbatch_size: 32\n",
            "\u001b[34m\u001b[1mwandb\u001b[0m: \tepochs: 5\n",
            "\u001b[34m\u001b[1mwandb\u001b[0m: \thidden_layers: 5\n",
            "\u001b[34m\u001b[1mwandb\u001b[0m: \thidden_size: 32\n",
            "\u001b[34m\u001b[1mwandb\u001b[0m: \tlearning_rate: 0.001\n",
            "\u001b[34m\u001b[1mwandb\u001b[0m: \tloss_type: mse\n",
            "\u001b[34m\u001b[1mwandb\u001b[0m: \toptimizer: adam\n",
            "\u001b[34m\u001b[1mwandb\u001b[0m: \tweight_decay: 0.5\n",
            "\u001b[34m\u001b[1mwandb\u001b[0m: \tweights: random\n"
          ]
        },
        {
          "output_type": "display_data",
          "data": {
            "text/plain": [
              "<IPython.core.display.HTML object>"
            ],
            "text/html": [
              "Tracking run with wandb version 0.19.7"
            ]
          },
          "metadata": {}
        },
        {
          "output_type": "display_data",
          "data": {
            "text/plain": [
              "<IPython.core.display.HTML object>"
            ],
            "text/html": [
              "Run data is saved locally in <code>/content/wandb/run-20250308_071152-xwgfhify</code>"
            ]
          },
          "metadata": {}
        },
        {
          "output_type": "display_data",
          "data": {
            "text/plain": [
              "<IPython.core.display.HTML object>"
            ],
            "text/html": [
              "Syncing run <strong><a href='https://wandb.ai/da24m027-indian-institute-of-technology-madras/DA6401_Assignment1/runs/xwgfhify' target=\"_blank\">genial-sweep-70</a></strong> to <a href='https://wandb.ai/da24m027-indian-institute-of-technology-madras/DA6401_Assignment1' target=\"_blank\">Weights & Biases</a> (<a href='https://wandb.me/developer-guide' target=\"_blank\">docs</a>)<br>Sweep page: <a href='https://wandb.ai/da24m027-indian-institute-of-technology-madras/DA6401_Assignment1/sweeps/xy966igu' target=\"_blank\">https://wandb.ai/da24m027-indian-institute-of-technology-madras/DA6401_Assignment1/sweeps/xy966igu</a>"
            ]
          },
          "metadata": {}
        },
        {
          "output_type": "display_data",
          "data": {
            "text/plain": [
              "<IPython.core.display.HTML object>"
            ],
            "text/html": [
              " View project at <a href='https://wandb.ai/da24m027-indian-institute-of-technology-madras/DA6401_Assignment1' target=\"_blank\">https://wandb.ai/da24m027-indian-institute-of-technology-madras/DA6401_Assignment1</a>"
            ]
          },
          "metadata": {}
        },
        {
          "output_type": "display_data",
          "data": {
            "text/plain": [
              "<IPython.core.display.HTML object>"
            ],
            "text/html": [
              " View sweep at <a href='https://wandb.ai/da24m027-indian-institute-of-technology-madras/DA6401_Assignment1/sweeps/xy966igu' target=\"_blank\">https://wandb.ai/da24m027-indian-institute-of-technology-madras/DA6401_Assignment1/sweeps/xy966igu</a>"
            ]
          },
          "metadata": {}
        },
        {
          "output_type": "display_data",
          "data": {
            "text/plain": [
              "<IPython.core.display.HTML object>"
            ],
            "text/html": [
              " View run at <a href='https://wandb.ai/da24m027-indian-institute-of-technology-madras/DA6401_Assignment1/runs/xwgfhify' target=\"_blank\">https://wandb.ai/da24m027-indian-institute-of-technology-madras/DA6401_Assignment1/runs/xwgfhify</a>"
            ]
          },
          "metadata": {}
        },
        {
          "output_type": "stream",
          "name": "stdout",
          "text": [
            "Epoch 1/5, Loss: 0.0031, Val Loss: 0.1000, Val Accuracy: 0.1560\n",
            "Epoch 2/5, Loss: 0.0031, Val Loss: 0.1000, Val Accuracy: 0.1057\n",
            "Epoch 3/5, Loss: 0.0031, Val Loss: 0.1000, Val Accuracy: 0.1012\n",
            "Epoch 4/5, Loss: 0.0031, Val Loss: 0.1000, Val Accuracy: 0.1087\n",
            "Epoch 5/5, Loss: 0.0031, Val Loss: 0.1000, Val Accuracy: 0.0982\n"
          ]
        },
        {
          "output_type": "display_data",
          "data": {
            "text/plain": [
              "<IPython.core.display.HTML object>"
            ],
            "text/html": []
          },
          "metadata": {}
        },
        {
          "output_type": "display_data",
          "data": {
            "text/plain": [
              "<IPython.core.display.HTML object>"
            ],
            "text/html": [
              "<br>    <style><br>        .wandb-row {<br>            display: flex;<br>            flex-direction: row;<br>            flex-wrap: wrap;<br>            justify-content: flex-start;<br>            width: 100%;<br>        }<br>        .wandb-col {<br>            display: flex;<br>            flex-direction: column;<br>            flex-basis: 100%;<br>            flex: 1;<br>            padding: 10px;<br>        }<br>    </style><br><div class=\"wandb-row\"><div class=\"wandb-col\"><h3>Run history:</h3><br/><table class=\"wandb\"><tr><td>epoch</td><td>▁▁▃▃▅▅▆▆██</td></tr><tr><td>loss</td><td>▁▁▁▁▁</td></tr><tr><td>val_accuracy</td><td>█▂▁▂▁</td></tr><tr><td>val_loss</td><td>▁▁▁▁▁</td></tr></table><br/></div><div class=\"wandb-col\"><h3>Run summary:</h3><br/><table class=\"wandb\"><tr><td>epoch</td><td>5</td></tr><tr><td>loss</td><td>0.00313</td></tr><tr><td>val_accuracy</td><td>0.09817</td></tr><tr><td>val_loss</td><td>0.1</td></tr></table><br/></div></div>"
            ]
          },
          "metadata": {}
        },
        {
          "output_type": "display_data",
          "data": {
            "text/plain": [
              "<IPython.core.display.HTML object>"
            ],
            "text/html": [
              " View run <strong style=\"color:#cdcd00\">e_5_hl_5_hs_32_lr_0.001_opt_adam_bs_32_init_random_ac_ReLU_wd_0.5_loss_mse</strong> at: <a href='https://wandb.ai/da24m027-indian-institute-of-technology-madras/DA6401_Assignment1/runs/xwgfhify' target=\"_blank\">https://wandb.ai/da24m027-indian-institute-of-technology-madras/DA6401_Assignment1/runs/xwgfhify</a><br> View project at: <a href='https://wandb.ai/da24m027-indian-institute-of-technology-madras/DA6401_Assignment1' target=\"_blank\">https://wandb.ai/da24m027-indian-institute-of-technology-madras/DA6401_Assignment1</a><br>Synced 5 W&B file(s), 0 media file(s), 0 artifact file(s) and 0 other file(s)"
            ]
          },
          "metadata": {}
        },
        {
          "output_type": "display_data",
          "data": {
            "text/plain": [
              "<IPython.core.display.HTML object>"
            ],
            "text/html": [
              "Find logs at: <code>./wandb/run-20250308_071152-xwgfhify/logs</code>"
            ]
          },
          "metadata": {}
        },
        {
          "output_type": "stream",
          "name": "stderr",
          "text": [
            "\u001b[34m\u001b[1mwandb\u001b[0m: Agent Starting Run: 9oyg6gzn with config:\n",
            "\u001b[34m\u001b[1mwandb\u001b[0m: \tactivation: ReLU\n",
            "\u001b[34m\u001b[1mwandb\u001b[0m: \tbatch_size: 64\n",
            "\u001b[34m\u001b[1mwandb\u001b[0m: \tepochs: 5\n",
            "\u001b[34m\u001b[1mwandb\u001b[0m: \thidden_layers: 3\n",
            "\u001b[34m\u001b[1mwandb\u001b[0m: \thidden_size: 64\n",
            "\u001b[34m\u001b[1mwandb\u001b[0m: \tlearning_rate: 0.0001\n",
            "\u001b[34m\u001b[1mwandb\u001b[0m: \tloss_type: mse\n",
            "\u001b[34m\u001b[1mwandb\u001b[0m: \toptimizer: nesterov\n",
            "\u001b[34m\u001b[1mwandb\u001b[0m: \tweight_decay: 0\n",
            "\u001b[34m\u001b[1mwandb\u001b[0m: \tweights: random\n"
          ]
        },
        {
          "output_type": "display_data",
          "data": {
            "text/plain": [
              "<IPython.core.display.HTML object>"
            ],
            "text/html": [
              "Tracking run with wandb version 0.19.7"
            ]
          },
          "metadata": {}
        },
        {
          "output_type": "display_data",
          "data": {
            "text/plain": [
              "<IPython.core.display.HTML object>"
            ],
            "text/html": [
              "Run data is saved locally in <code>/content/wandb/run-20250308_071208-9oyg6gzn</code>"
            ]
          },
          "metadata": {}
        },
        {
          "output_type": "display_data",
          "data": {
            "text/plain": [
              "<IPython.core.display.HTML object>"
            ],
            "text/html": [
              "Syncing run <strong><a href='https://wandb.ai/da24m027-indian-institute-of-technology-madras/DA6401_Assignment1/runs/9oyg6gzn' target=\"_blank\">jolly-sweep-71</a></strong> to <a href='https://wandb.ai/da24m027-indian-institute-of-technology-madras/DA6401_Assignment1' target=\"_blank\">Weights & Biases</a> (<a href='https://wandb.me/developer-guide' target=\"_blank\">docs</a>)<br>Sweep page: <a href='https://wandb.ai/da24m027-indian-institute-of-technology-madras/DA6401_Assignment1/sweeps/xy966igu' target=\"_blank\">https://wandb.ai/da24m027-indian-institute-of-technology-madras/DA6401_Assignment1/sweeps/xy966igu</a>"
            ]
          },
          "metadata": {}
        },
        {
          "output_type": "display_data",
          "data": {
            "text/plain": [
              "<IPython.core.display.HTML object>"
            ],
            "text/html": [
              " View project at <a href='https://wandb.ai/da24m027-indian-institute-of-technology-madras/DA6401_Assignment1' target=\"_blank\">https://wandb.ai/da24m027-indian-institute-of-technology-madras/DA6401_Assignment1</a>"
            ]
          },
          "metadata": {}
        },
        {
          "output_type": "display_data",
          "data": {
            "text/plain": [
              "<IPython.core.display.HTML object>"
            ],
            "text/html": [
              " View sweep at <a href='https://wandb.ai/da24m027-indian-institute-of-technology-madras/DA6401_Assignment1/sweeps/xy966igu' target=\"_blank\">https://wandb.ai/da24m027-indian-institute-of-technology-madras/DA6401_Assignment1/sweeps/xy966igu</a>"
            ]
          },
          "metadata": {}
        },
        {
          "output_type": "display_data",
          "data": {
            "text/plain": [
              "<IPython.core.display.HTML object>"
            ],
            "text/html": [
              " View run at <a href='https://wandb.ai/da24m027-indian-institute-of-technology-madras/DA6401_Assignment1/runs/9oyg6gzn' target=\"_blank\">https://wandb.ai/da24m027-indian-institute-of-technology-madras/DA6401_Assignment1/runs/9oyg6gzn</a>"
            ]
          },
          "metadata": {}
        },
        {
          "output_type": "stream",
          "name": "stdout",
          "text": [
            "Epoch 1/5, Loss: 0.0016, Val Loss: 0.1000, Val Accuracy: 0.0987\n",
            "Epoch 2/5, Loss: 0.0016, Val Loss: 0.1000, Val Accuracy: 0.0987\n",
            "Epoch 3/5, Loss: 0.0016, Val Loss: 0.1000, Val Accuracy: 0.0988\n",
            "Epoch 4/5, Loss: 0.0016, Val Loss: 0.1000, Val Accuracy: 0.0988\n",
            "Epoch 5/5, Loss: 0.0016, Val Loss: 0.1000, Val Accuracy: 0.0988\n"
          ]
        },
        {
          "output_type": "display_data",
          "data": {
            "text/plain": [
              "<IPython.core.display.HTML object>"
            ],
            "text/html": []
          },
          "metadata": {}
        },
        {
          "output_type": "display_data",
          "data": {
            "text/plain": [
              "<IPython.core.display.HTML object>"
            ],
            "text/html": [
              "<br>    <style><br>        .wandb-row {<br>            display: flex;<br>            flex-direction: row;<br>            flex-wrap: wrap;<br>            justify-content: flex-start;<br>            width: 100%;<br>        }<br>        .wandb-col {<br>            display: flex;<br>            flex-direction: column;<br>            flex-basis: 100%;<br>            flex: 1;<br>            padding: 10px;<br>        }<br>    </style><br><div class=\"wandb-row\"><div class=\"wandb-col\"><h3>Run history:</h3><br/><table class=\"wandb\"><tr><td>epoch</td><td>▁▁▃▃▅▅▆▆██</td></tr><tr><td>loss</td><td>█▆▅▃▁</td></tr><tr><td>val_accuracy</td><td>▁▁███</td></tr><tr><td>val_loss</td><td>█▆▅▃▁</td></tr></table><br/></div><div class=\"wandb-col\"><h3>Run summary:</h3><br/><table class=\"wandb\"><tr><td>epoch</td><td>5</td></tr><tr><td>loss</td><td>0.00156</td></tr><tr><td>val_accuracy</td><td>0.09883</td></tr><tr><td>val_loss</td><td>0.1</td></tr></table><br/></div></div>"
            ]
          },
          "metadata": {}
        },
        {
          "output_type": "display_data",
          "data": {
            "text/plain": [
              "<IPython.core.display.HTML object>"
            ],
            "text/html": [
              " View run <strong style=\"color:#cdcd00\">e_5_hl_3_hs_64_lr_0.0001_opt_nesterov_bs_64_init_random_ac_ReLU_wd_0_loss_mse</strong> at: <a href='https://wandb.ai/da24m027-indian-institute-of-technology-madras/DA6401_Assignment1/runs/9oyg6gzn' target=\"_blank\">https://wandb.ai/da24m027-indian-institute-of-technology-madras/DA6401_Assignment1/runs/9oyg6gzn</a><br> View project at: <a href='https://wandb.ai/da24m027-indian-institute-of-technology-madras/DA6401_Assignment1' target=\"_blank\">https://wandb.ai/da24m027-indian-institute-of-technology-madras/DA6401_Assignment1</a><br>Synced 5 W&B file(s), 0 media file(s), 0 artifact file(s) and 0 other file(s)"
            ]
          },
          "metadata": {}
        },
        {
          "output_type": "display_data",
          "data": {
            "text/plain": [
              "<IPython.core.display.HTML object>"
            ],
            "text/html": [
              "Find logs at: <code>./wandb/run-20250308_071208-9oyg6gzn/logs</code>"
            ]
          },
          "metadata": {}
        },
        {
          "output_type": "stream",
          "name": "stderr",
          "text": [
            "\u001b[34m\u001b[1mwandb\u001b[0m: Agent Starting Run: kzsqmcdn with config:\n",
            "\u001b[34m\u001b[1mwandb\u001b[0m: \tactivation: tanh\n",
            "\u001b[34m\u001b[1mwandb\u001b[0m: \tbatch_size: 32\n",
            "\u001b[34m\u001b[1mwandb\u001b[0m: \tepochs: 10\n",
            "\u001b[34m\u001b[1mwandb\u001b[0m: \thidden_layers: 5\n",
            "\u001b[34m\u001b[1mwandb\u001b[0m: \thidden_size: 32\n",
            "\u001b[34m\u001b[1mwandb\u001b[0m: \tlearning_rate: 0.0001\n",
            "\u001b[34m\u001b[1mwandb\u001b[0m: \tloss_type: cross_entropy\n",
            "\u001b[34m\u001b[1mwandb\u001b[0m: \toptimizer: sgd\n",
            "\u001b[34m\u001b[1mwandb\u001b[0m: \tweight_decay: 0.0005\n",
            "\u001b[34m\u001b[1mwandb\u001b[0m: \tweights: Xavier\n"
          ]
        },
        {
          "output_type": "display_data",
          "data": {
            "text/plain": [
              "<IPython.core.display.HTML object>"
            ],
            "text/html": [
              "Tracking run with wandb version 0.19.7"
            ]
          },
          "metadata": {}
        },
        {
          "output_type": "display_data",
          "data": {
            "text/plain": [
              "<IPython.core.display.HTML object>"
            ],
            "text/html": [
              "Run data is saved locally in <code>/content/wandb/run-20250308_071224-kzsqmcdn</code>"
            ]
          },
          "metadata": {}
        },
        {
          "output_type": "display_data",
          "data": {
            "text/plain": [
              "<IPython.core.display.HTML object>"
            ],
            "text/html": [
              "Syncing run <strong><a href='https://wandb.ai/da24m027-indian-institute-of-technology-madras/DA6401_Assignment1/runs/kzsqmcdn' target=\"_blank\">magic-sweep-72</a></strong> to <a href='https://wandb.ai/da24m027-indian-institute-of-technology-madras/DA6401_Assignment1' target=\"_blank\">Weights & Biases</a> (<a href='https://wandb.me/developer-guide' target=\"_blank\">docs</a>)<br>Sweep page: <a href='https://wandb.ai/da24m027-indian-institute-of-technology-madras/DA6401_Assignment1/sweeps/xy966igu' target=\"_blank\">https://wandb.ai/da24m027-indian-institute-of-technology-madras/DA6401_Assignment1/sweeps/xy966igu</a>"
            ]
          },
          "metadata": {}
        },
        {
          "output_type": "display_data",
          "data": {
            "text/plain": [
              "<IPython.core.display.HTML object>"
            ],
            "text/html": [
              " View project at <a href='https://wandb.ai/da24m027-indian-institute-of-technology-madras/DA6401_Assignment1' target=\"_blank\">https://wandb.ai/da24m027-indian-institute-of-technology-madras/DA6401_Assignment1</a>"
            ]
          },
          "metadata": {}
        },
        {
          "output_type": "display_data",
          "data": {
            "text/plain": [
              "<IPython.core.display.HTML object>"
            ],
            "text/html": [
              " View sweep at <a href='https://wandb.ai/da24m027-indian-institute-of-technology-madras/DA6401_Assignment1/sweeps/xy966igu' target=\"_blank\">https://wandb.ai/da24m027-indian-institute-of-technology-madras/DA6401_Assignment1/sweeps/xy966igu</a>"
            ]
          },
          "metadata": {}
        },
        {
          "output_type": "display_data",
          "data": {
            "text/plain": [
              "<IPython.core.display.HTML object>"
            ],
            "text/html": [
              " View run at <a href='https://wandb.ai/da24m027-indian-institute-of-technology-madras/DA6401_Assignment1/runs/kzsqmcdn' target=\"_blank\">https://wandb.ai/da24m027-indian-institute-of-technology-madras/DA6401_Assignment1/runs/kzsqmcdn</a>"
            ]
          },
          "metadata": {}
        },
        {
          "output_type": "stream",
          "name": "stdout",
          "text": [
            "Epoch 1/10, Loss: 0.0072, Val Loss: 0.2302, Val Accuracy: 0.0780\n",
            "Epoch 2/10, Loss: 0.0072, Val Loss: 0.2299, Val Accuracy: 0.1150\n",
            "Epoch 3/10, Loss: 0.0072, Val Loss: 0.2297, Val Accuracy: 0.1908\n",
            "Epoch 4/10, Loss: 0.0072, Val Loss: 0.2294, Val Accuracy: 0.2572\n",
            "Epoch 5/10, Loss: 0.0072, Val Loss: 0.2291, Val Accuracy: 0.2928\n",
            "Epoch 6/10, Loss: 0.0072, Val Loss: 0.2288, Val Accuracy: 0.3062\n",
            "Epoch 7/10, Loss: 0.0071, Val Loss: 0.2285, Val Accuracy: 0.3037\n",
            "Epoch 8/10, Loss: 0.0071, Val Loss: 0.2281, Val Accuracy: 0.2998\n",
            "Epoch 9/10, Loss: 0.0071, Val Loss: 0.2277, Val Accuracy: 0.2958\n",
            "Epoch 10/10, Loss: 0.0071, Val Loss: 0.2272, Val Accuracy: 0.2933\n"
          ]
        },
        {
          "output_type": "display_data",
          "data": {
            "text/plain": [
              "<IPython.core.display.HTML object>"
            ],
            "text/html": []
          },
          "metadata": {}
        },
        {
          "output_type": "display_data",
          "data": {
            "text/plain": [
              "<IPython.core.display.HTML object>"
            ],
            "text/html": [
              "<br>    <style><br>        .wandb-row {<br>            display: flex;<br>            flex-direction: row;<br>            flex-wrap: wrap;<br>            justify-content: flex-start;<br>            width: 100%;<br>        }<br>        .wandb-col {<br>            display: flex;<br>            flex-direction: column;<br>            flex-basis: 100%;<br>            flex: 1;<br>            padding: 10px;<br>        }<br>    </style><br><div class=\"wandb-row\"><div class=\"wandb-col\"><h3>Run history:</h3><br/><table class=\"wandb\"><tr><td>epoch</td><td>▁▁▂▂▃▃▃▃▄▄▅▅▆▆▆▆▇▇██</td></tr><tr><td>loss</td><td>█▇▇▆▅▅▄▃▂▁</td></tr><tr><td>val_accuracy</td><td>▁▂▄▆██████</td></tr><tr><td>val_loss</td><td>█▇▇▆▆▅▄▃▂▁</td></tr></table><br/></div><div class=\"wandb-col\"><h3>Run summary:</h3><br/><table class=\"wandb\"><tr><td>epoch</td><td>10</td></tr><tr><td>loss</td><td>0.00711</td></tr><tr><td>val_accuracy</td><td>0.29333</td></tr><tr><td>val_loss</td><td>0.22722</td></tr></table><br/></div></div>"
            ]
          },
          "metadata": {}
        },
        {
          "output_type": "display_data",
          "data": {
            "text/plain": [
              "<IPython.core.display.HTML object>"
            ],
            "text/html": [
              " View run <strong style=\"color:#cdcd00\">e_10_hl_5_hs_32_lr_0.0001_opt_sgd_bs_32_init_Xavier_ac_tanh_wd_0.0005_loss_cross_entropy</strong> at: <a href='https://wandb.ai/da24m027-indian-institute-of-technology-madras/DA6401_Assignment1/runs/kzsqmcdn' target=\"_blank\">https://wandb.ai/da24m027-indian-institute-of-technology-madras/DA6401_Assignment1/runs/kzsqmcdn</a><br> View project at: <a href='https://wandb.ai/da24m027-indian-institute-of-technology-madras/DA6401_Assignment1' target=\"_blank\">https://wandb.ai/da24m027-indian-institute-of-technology-madras/DA6401_Assignment1</a><br>Synced 5 W&B file(s), 0 media file(s), 0 artifact file(s) and 0 other file(s)"
            ]
          },
          "metadata": {}
        },
        {
          "output_type": "display_data",
          "data": {
            "text/plain": [
              "<IPython.core.display.HTML object>"
            ],
            "text/html": [
              "Find logs at: <code>./wandb/run-20250308_071224-kzsqmcdn/logs</code>"
            ]
          },
          "metadata": {}
        },
        {
          "output_type": "stream",
          "name": "stderr",
          "text": [
            "\u001b[34m\u001b[1mwandb\u001b[0m: Agent Starting Run: tfhbdctt with config:\n",
            "\u001b[34m\u001b[1mwandb\u001b[0m: \tactivation: sigmoid\n",
            "\u001b[34m\u001b[1mwandb\u001b[0m: \tbatch_size: 64\n",
            "\u001b[34m\u001b[1mwandb\u001b[0m: \tepochs: 10\n",
            "\u001b[34m\u001b[1mwandb\u001b[0m: \thidden_layers: 4\n",
            "\u001b[34m\u001b[1mwandb\u001b[0m: \thidden_size: 64\n",
            "\u001b[34m\u001b[1mwandb\u001b[0m: \tlearning_rate: 0.0001\n",
            "\u001b[34m\u001b[1mwandb\u001b[0m: \tloss_type: cross_entropy\n",
            "\u001b[34m\u001b[1mwandb\u001b[0m: \toptimizer: nadam\n",
            "\u001b[34m\u001b[1mwandb\u001b[0m: \tweight_decay: 0\n",
            "\u001b[34m\u001b[1mwandb\u001b[0m: \tweights: random\n"
          ]
        },
        {
          "output_type": "display_data",
          "data": {
            "text/plain": [
              "<IPython.core.display.HTML object>"
            ],
            "text/html": [
              "Tracking run with wandb version 0.19.7"
            ]
          },
          "metadata": {}
        },
        {
          "output_type": "display_data",
          "data": {
            "text/plain": [
              "<IPython.core.display.HTML object>"
            ],
            "text/html": [
              "Run data is saved locally in <code>/content/wandb/run-20250308_071240-tfhbdctt</code>"
            ]
          },
          "metadata": {}
        },
        {
          "output_type": "display_data",
          "data": {
            "text/plain": [
              "<IPython.core.display.HTML object>"
            ],
            "text/html": [
              "Syncing run <strong><a href='https://wandb.ai/da24m027-indian-institute-of-technology-madras/DA6401_Assignment1/runs/tfhbdctt' target=\"_blank\">lilac-sweep-73</a></strong> to <a href='https://wandb.ai/da24m027-indian-institute-of-technology-madras/DA6401_Assignment1' target=\"_blank\">Weights & Biases</a> (<a href='https://wandb.me/developer-guide' target=\"_blank\">docs</a>)<br>Sweep page: <a href='https://wandb.ai/da24m027-indian-institute-of-technology-madras/DA6401_Assignment1/sweeps/xy966igu' target=\"_blank\">https://wandb.ai/da24m027-indian-institute-of-technology-madras/DA6401_Assignment1/sweeps/xy966igu</a>"
            ]
          },
          "metadata": {}
        },
        {
          "output_type": "display_data",
          "data": {
            "text/plain": [
              "<IPython.core.display.HTML object>"
            ],
            "text/html": [
              " View project at <a href='https://wandb.ai/da24m027-indian-institute-of-technology-madras/DA6401_Assignment1' target=\"_blank\">https://wandb.ai/da24m027-indian-institute-of-technology-madras/DA6401_Assignment1</a>"
            ]
          },
          "metadata": {}
        },
        {
          "output_type": "display_data",
          "data": {
            "text/plain": [
              "<IPython.core.display.HTML object>"
            ],
            "text/html": [
              " View sweep at <a href='https://wandb.ai/da24m027-indian-institute-of-technology-madras/DA6401_Assignment1/sweeps/xy966igu' target=\"_blank\">https://wandb.ai/da24m027-indian-institute-of-technology-madras/DA6401_Assignment1/sweeps/xy966igu</a>"
            ]
          },
          "metadata": {}
        },
        {
          "output_type": "display_data",
          "data": {
            "text/plain": [
              "<IPython.core.display.HTML object>"
            ],
            "text/html": [
              " View run at <a href='https://wandb.ai/da24m027-indian-institute-of-technology-madras/DA6401_Assignment1/runs/tfhbdctt' target=\"_blank\">https://wandb.ai/da24m027-indian-institute-of-technology-madras/DA6401_Assignment1/runs/tfhbdctt</a>"
            ]
          },
          "metadata": {}
        },
        {
          "output_type": "stream",
          "name": "stdout",
          "text": [
            "Epoch 1/10, Loss: 0.0227, Val Loss: 1.4485, Val Accuracy: 0.1013\n",
            "Epoch 2/10, Loss: 0.0227, Val Loss: 1.4474, Val Accuracy: 0.1020\n",
            "Epoch 3/10, Loss: 0.0227, Val Loss: 1.4474, Val Accuracy: 0.1020\n",
            "Epoch 4/10, Loss: 0.0227, Val Loss: 1.4485, Val Accuracy: 0.1013\n",
            "Epoch 5/10, Loss: 0.0226, Val Loss: 1.4501, Val Accuracy: 0.1003\n",
            "Epoch 6/10, Loss: 0.0227, Val Loss: 1.4533, Val Accuracy: 0.0983\n",
            "Epoch 7/10, Loss: 0.0226, Val Loss: 1.4474, Val Accuracy: 0.1020\n",
            "Epoch 8/10, Loss: 0.0227, Val Loss: 1.4549, Val Accuracy: 0.0973\n",
            "Epoch 9/10, Loss: 0.0227, Val Loss: 1.4461, Val Accuracy: 0.1028\n",
            "Epoch 10/10, Loss: 0.0227, Val Loss: 1.4533, Val Accuracy: 0.0983\n"
          ]
        },
        {
          "output_type": "display_data",
          "data": {
            "text/plain": [
              "<IPython.core.display.HTML object>"
            ],
            "text/html": []
          },
          "metadata": {}
        },
        {
          "output_type": "display_data",
          "data": {
            "text/plain": [
              "<IPython.core.display.HTML object>"
            ],
            "text/html": [
              "<br>    <style><br>        .wandb-row {<br>            display: flex;<br>            flex-direction: row;<br>            flex-wrap: wrap;<br>            justify-content: flex-start;<br>            width: 100%;<br>        }<br>        .wandb-col {<br>            display: flex;<br>            flex-direction: column;<br>            flex-basis: 100%;<br>            flex: 1;<br>            padding: 10px;<br>        }<br>    </style><br><div class=\"wandb-row\"><div class=\"wandb-col\"><h3>Run history:</h3><br/><table class=\"wandb\"><tr><td>epoch</td><td>▁▁▂▂▃▃▃▃▄▄▅▅▆▆▆▆▇▇██</td></tr><tr><td>loss</td><td>▄▇▅▄▁▆▄▆▅█</td></tr><tr><td>val_accuracy</td><td>▆▇▇▆▅▂▇▁█▂</td></tr><tr><td>val_loss</td><td>▃▂▂▃▄▇▂█▁▇</td></tr></table><br/></div><div class=\"wandb-col\"><h3>Run summary:</h3><br/><table class=\"wandb\"><tr><td>epoch</td><td>10</td></tr><tr><td>loss</td><td>0.02273</td></tr><tr><td>val_accuracy</td><td>0.09833</td></tr><tr><td>val_loss</td><td>1.45331</td></tr></table><br/></div></div>"
            ]
          },
          "metadata": {}
        },
        {
          "output_type": "display_data",
          "data": {
            "text/plain": [
              "<IPython.core.display.HTML object>"
            ],
            "text/html": [
              " View run <strong style=\"color:#cdcd00\">e_10_hl_4_hs_64_lr_0.0001_opt_nadam_bs_64_init_random_ac_sigmoid_wd_0_loss_cross_entropy</strong> at: <a href='https://wandb.ai/da24m027-indian-institute-of-technology-madras/DA6401_Assignment1/runs/tfhbdctt' target=\"_blank\">https://wandb.ai/da24m027-indian-institute-of-technology-madras/DA6401_Assignment1/runs/tfhbdctt</a><br> View project at: <a href='https://wandb.ai/da24m027-indian-institute-of-technology-madras/DA6401_Assignment1' target=\"_blank\">https://wandb.ai/da24m027-indian-institute-of-technology-madras/DA6401_Assignment1</a><br>Synced 5 W&B file(s), 0 media file(s), 0 artifact file(s) and 0 other file(s)"
            ]
          },
          "metadata": {}
        },
        {
          "output_type": "display_data",
          "data": {
            "text/plain": [
              "<IPython.core.display.HTML object>"
            ],
            "text/html": [
              "Find logs at: <code>./wandb/run-20250308_071240-tfhbdctt/logs</code>"
            ]
          },
          "metadata": {}
        },
        {
          "output_type": "stream",
          "name": "stderr",
          "text": [
            "\u001b[34m\u001b[1mwandb\u001b[0m: Agent Starting Run: vscnsuq9 with config:\n",
            "\u001b[34m\u001b[1mwandb\u001b[0m: \tactivation: sigmoid\n",
            "\u001b[34m\u001b[1mwandb\u001b[0m: \tbatch_size: 16\n",
            "\u001b[34m\u001b[1mwandb\u001b[0m: \tepochs: 10\n",
            "\u001b[34m\u001b[1mwandb\u001b[0m: \thidden_layers: 3\n",
            "\u001b[34m\u001b[1mwandb\u001b[0m: \thidden_size: 64\n",
            "\u001b[34m\u001b[1mwandb\u001b[0m: \tlearning_rate: 0.001\n",
            "\u001b[34m\u001b[1mwandb\u001b[0m: \tloss_type: cross_entropy\n",
            "\u001b[34m\u001b[1mwandb\u001b[0m: \toptimizer: rmsprop\n",
            "\u001b[34m\u001b[1mwandb\u001b[0m: \tweight_decay: 0\n",
            "\u001b[34m\u001b[1mwandb\u001b[0m: \tweights: random\n"
          ]
        },
        {
          "output_type": "display_data",
          "data": {
            "text/plain": [
              "<IPython.core.display.HTML object>"
            ],
            "text/html": [
              "Tracking run with wandb version 0.19.7"
            ]
          },
          "metadata": {}
        },
        {
          "output_type": "display_data",
          "data": {
            "text/plain": [
              "<IPython.core.display.HTML object>"
            ],
            "text/html": [
              "Run data is saved locally in <code>/content/wandb/run-20250308_071311-vscnsuq9</code>"
            ]
          },
          "metadata": {}
        },
        {
          "output_type": "display_data",
          "data": {
            "text/plain": [
              "<IPython.core.display.HTML object>"
            ],
            "text/html": [
              "Syncing run <strong><a href='https://wandb.ai/da24m027-indian-institute-of-technology-madras/DA6401_Assignment1/runs/vscnsuq9' target=\"_blank\">lemon-sweep-74</a></strong> to <a href='https://wandb.ai/da24m027-indian-institute-of-technology-madras/DA6401_Assignment1' target=\"_blank\">Weights & Biases</a> (<a href='https://wandb.me/developer-guide' target=\"_blank\">docs</a>)<br>Sweep page: <a href='https://wandb.ai/da24m027-indian-institute-of-technology-madras/DA6401_Assignment1/sweeps/xy966igu' target=\"_blank\">https://wandb.ai/da24m027-indian-institute-of-technology-madras/DA6401_Assignment1/sweeps/xy966igu</a>"
            ]
          },
          "metadata": {}
        },
        {
          "output_type": "display_data",
          "data": {
            "text/plain": [
              "<IPython.core.display.HTML object>"
            ],
            "text/html": [
              " View project at <a href='https://wandb.ai/da24m027-indian-institute-of-technology-madras/DA6401_Assignment1' target=\"_blank\">https://wandb.ai/da24m027-indian-institute-of-technology-madras/DA6401_Assignment1</a>"
            ]
          },
          "metadata": {}
        },
        {
          "output_type": "display_data",
          "data": {
            "text/plain": [
              "<IPython.core.display.HTML object>"
            ],
            "text/html": [
              " View sweep at <a href='https://wandb.ai/da24m027-indian-institute-of-technology-madras/DA6401_Assignment1/sweeps/xy966igu' target=\"_blank\">https://wandb.ai/da24m027-indian-institute-of-technology-madras/DA6401_Assignment1/sweeps/xy966igu</a>"
            ]
          },
          "metadata": {}
        },
        {
          "output_type": "display_data",
          "data": {
            "text/plain": [
              "<IPython.core.display.HTML object>"
            ],
            "text/html": [
              " View run at <a href='https://wandb.ai/da24m027-indian-institute-of-technology-madras/DA6401_Assignment1/runs/vscnsuq9' target=\"_blank\">https://wandb.ai/da24m027-indian-institute-of-technology-madras/DA6401_Assignment1/runs/vscnsuq9</a>"
            ]
          },
          "metadata": {}
        },
        {
          "output_type": "stream",
          "name": "stdout",
          "text": [
            "Epoch 1/10, Loss: 0.0072, Val Loss: 0.0679, Val Accuracy: 0.7715\n",
            "Epoch 2/10, Loss: 0.0036, Val Loss: 0.0540, Val Accuracy: 0.8287\n",
            "Epoch 3/10, Loss: 0.0031, Val Loss: 0.0493, Val Accuracy: 0.8453\n",
            "Epoch 4/10, Loss: 0.0028, Val Loss: 0.0459, Val Accuracy: 0.8585\n",
            "Epoch 5/10, Loss: 0.0026, Val Loss: 0.0423, Val Accuracy: 0.8660\n",
            "Epoch 6/10, Loss: 0.0024, Val Loss: 0.0395, Val Accuracy: 0.8673\n",
            "Epoch 7/10, Loss: 0.0023, Val Loss: 0.0380, Val Accuracy: 0.8692\n",
            "Epoch 8/10, Loss: 0.0022, Val Loss: 0.0369, Val Accuracy: 0.8722\n",
            "Epoch 9/10, Loss: 0.0021, Val Loss: 0.0369, Val Accuracy: 0.8747\n",
            "Epoch 10/10, Loss: 0.0021, Val Loss: 0.0366, Val Accuracy: 0.8758\n"
          ]
        },
        {
          "output_type": "display_data",
          "data": {
            "text/plain": [
              "<IPython.core.display.HTML object>"
            ],
            "text/html": []
          },
          "metadata": {}
        },
        {
          "output_type": "display_data",
          "data": {
            "text/plain": [
              "<IPython.core.display.HTML object>"
            ],
            "text/html": [
              "<br>    <style><br>        .wandb-row {<br>            display: flex;<br>            flex-direction: row;<br>            flex-wrap: wrap;<br>            justify-content: flex-start;<br>            width: 100%;<br>        }<br>        .wandb-col {<br>            display: flex;<br>            flex-direction: column;<br>            flex-basis: 100%;<br>            flex: 1;<br>            padding: 10px;<br>        }<br>    </style><br><div class=\"wandb-row\"><div class=\"wandb-col\"><h3>Run history:</h3><br/><table class=\"wandb\"><tr><td>epoch</td><td>▁▁▂▂▃▃▃▃▄▄▅▅▆▆▆▆▇▇██</td></tr><tr><td>loss</td><td>█▃▂▂▂▁▁▁▁▁</td></tr><tr><td>val_accuracy</td><td>▁▅▆▇▇▇████</td></tr><tr><td>val_loss</td><td>█▅▄▃▂▂▁▁▁▁</td></tr></table><br/></div><div class=\"wandb-col\"><h3>Run summary:</h3><br/><table class=\"wandb\"><tr><td>epoch</td><td>10</td></tr><tr><td>loss</td><td>0.00209</td></tr><tr><td>val_accuracy</td><td>0.87583</td></tr><tr><td>val_loss</td><td>0.03663</td></tr></table><br/></div></div>"
            ]
          },
          "metadata": {}
        },
        {
          "output_type": "display_data",
          "data": {
            "text/plain": [
              "<IPython.core.display.HTML object>"
            ],
            "text/html": [
              " View run <strong style=\"color:#cdcd00\">e_10_hl_3_hs_64_lr_0.001_opt_rmsprop_bs_16_init_random_ac_sigmoid_wd_0_loss_cross_entropy</strong> at: <a href='https://wandb.ai/da24m027-indian-institute-of-technology-madras/DA6401_Assignment1/runs/vscnsuq9' target=\"_blank\">https://wandb.ai/da24m027-indian-institute-of-technology-madras/DA6401_Assignment1/runs/vscnsuq9</a><br> View project at: <a href='https://wandb.ai/da24m027-indian-institute-of-technology-madras/DA6401_Assignment1' target=\"_blank\">https://wandb.ai/da24m027-indian-institute-of-technology-madras/DA6401_Assignment1</a><br>Synced 5 W&B file(s), 0 media file(s), 0 artifact file(s) and 0 other file(s)"
            ]
          },
          "metadata": {}
        },
        {
          "output_type": "display_data",
          "data": {
            "text/plain": [
              "<IPython.core.display.HTML object>"
            ],
            "text/html": [
              "Find logs at: <code>./wandb/run-20250308_071311-vscnsuq9/logs</code>"
            ]
          },
          "metadata": {}
        },
        {
          "output_type": "stream",
          "name": "stderr",
          "text": [
            "\u001b[34m\u001b[1mwandb\u001b[0m: Sweep Agent: Waiting for job.\n",
            "\u001b[34m\u001b[1mwandb\u001b[0m: Job received.\n",
            "\u001b[34m\u001b[1mwandb\u001b[0m: Agent Starting Run: q2eklb4q with config:\n",
            "\u001b[34m\u001b[1mwandb\u001b[0m: \tactivation: ReLU\n",
            "\u001b[34m\u001b[1mwandb\u001b[0m: \tbatch_size: 16\n",
            "\u001b[34m\u001b[1mwandb\u001b[0m: \tepochs: 5\n",
            "\u001b[34m\u001b[1mwandb\u001b[0m: \thidden_layers: 5\n",
            "\u001b[34m\u001b[1mwandb\u001b[0m: \thidden_size: 32\n",
            "\u001b[34m\u001b[1mwandb\u001b[0m: \tlearning_rate: 0.001\n",
            "\u001b[34m\u001b[1mwandb\u001b[0m: \tloss_type: cross_entropy\n",
            "\u001b[34m\u001b[1mwandb\u001b[0m: \toptimizer: adam\n",
            "\u001b[34m\u001b[1mwandb\u001b[0m: \tweight_decay: 0.0005\n",
            "\u001b[34m\u001b[1mwandb\u001b[0m: \tweights: random\n"
          ]
        },
        {
          "output_type": "display_data",
          "data": {
            "text/plain": [
              "<IPython.core.display.HTML object>"
            ],
            "text/html": [
              "Tracking run with wandb version 0.19.7"
            ]
          },
          "metadata": {}
        },
        {
          "output_type": "display_data",
          "data": {
            "text/plain": [
              "<IPython.core.display.HTML object>"
            ],
            "text/html": [
              "Run data is saved locally in <code>/content/wandb/run-20250308_071402-q2eklb4q</code>"
            ]
          },
          "metadata": {}
        },
        {
          "output_type": "display_data",
          "data": {
            "text/plain": [
              "<IPython.core.display.HTML object>"
            ],
            "text/html": [
              "Syncing run <strong><a href='https://wandb.ai/da24m027-indian-institute-of-technology-madras/DA6401_Assignment1/runs/q2eklb4q' target=\"_blank\">logical-sweep-75</a></strong> to <a href='https://wandb.ai/da24m027-indian-institute-of-technology-madras/DA6401_Assignment1' target=\"_blank\">Weights & Biases</a> (<a href='https://wandb.me/developer-guide' target=\"_blank\">docs</a>)<br>Sweep page: <a href='https://wandb.ai/da24m027-indian-institute-of-technology-madras/DA6401_Assignment1/sweeps/xy966igu' target=\"_blank\">https://wandb.ai/da24m027-indian-institute-of-technology-madras/DA6401_Assignment1/sweeps/xy966igu</a>"
            ]
          },
          "metadata": {}
        },
        {
          "output_type": "display_data",
          "data": {
            "text/plain": [
              "<IPython.core.display.HTML object>"
            ],
            "text/html": [
              " View project at <a href='https://wandb.ai/da24m027-indian-institute-of-technology-madras/DA6401_Assignment1' target=\"_blank\">https://wandb.ai/da24m027-indian-institute-of-technology-madras/DA6401_Assignment1</a>"
            ]
          },
          "metadata": {}
        },
        {
          "output_type": "display_data",
          "data": {
            "text/plain": [
              "<IPython.core.display.HTML object>"
            ],
            "text/html": [
              " View sweep at <a href='https://wandb.ai/da24m027-indian-institute-of-technology-madras/DA6401_Assignment1/sweeps/xy966igu' target=\"_blank\">https://wandb.ai/da24m027-indian-institute-of-technology-madras/DA6401_Assignment1/sweeps/xy966igu</a>"
            ]
          },
          "metadata": {}
        },
        {
          "output_type": "display_data",
          "data": {
            "text/plain": [
              "<IPython.core.display.HTML object>"
            ],
            "text/html": [
              " View run at <a href='https://wandb.ai/da24m027-indian-institute-of-technology-madras/DA6401_Assignment1/runs/q2eklb4q' target=\"_blank\">https://wandb.ai/da24m027-indian-institute-of-technology-madras/DA6401_Assignment1/runs/q2eklb4q</a>"
            ]
          },
          "metadata": {}
        },
        {
          "output_type": "stream",
          "name": "stdout",
          "text": [
            "Epoch 1/5, Loss: 0.0144, Val Loss: 0.2303, Val Accuracy: 0.0933\n",
            "Epoch 2/5, Loss: 0.0144, Val Loss: 0.2303, Val Accuracy: 0.0933\n",
            "Epoch 3/5, Loss: 0.0144, Val Loss: 0.2303, Val Accuracy: 0.0933\n",
            "Epoch 4/5, Loss: 0.0144, Val Loss: 0.2303, Val Accuracy: 0.0933\n",
            "Epoch 5/5, Loss: 0.0144, Val Loss: 0.2303, Val Accuracy: 0.0933\n"
          ]
        },
        {
          "output_type": "display_data",
          "data": {
            "text/plain": [
              "<IPython.core.display.HTML object>"
            ],
            "text/html": []
          },
          "metadata": {}
        },
        {
          "output_type": "display_data",
          "data": {
            "text/plain": [
              "<IPython.core.display.HTML object>"
            ],
            "text/html": [
              "<br>    <style><br>        .wandb-row {<br>            display: flex;<br>            flex-direction: row;<br>            flex-wrap: wrap;<br>            justify-content: flex-start;<br>            width: 100%;<br>        }<br>        .wandb-col {<br>            display: flex;<br>            flex-direction: column;<br>            flex-basis: 100%;<br>            flex: 1;<br>            padding: 10px;<br>        }<br>    </style><br><div class=\"wandb-row\"><div class=\"wandb-col\"><h3>Run history:</h3><br/><table class=\"wandb\"><tr><td>epoch</td><td>▁▁▃▃▅▅▆▆██</td></tr><tr><td>loss</td><td>▁▁▁▁▁</td></tr><tr><td>val_accuracy</td><td>▁▁▁▁▁</td></tr><tr><td>val_loss</td><td>▁▁▁▁▁</td></tr></table><br/></div><div class=\"wandb-col\"><h3>Run summary:</h3><br/><table class=\"wandb\"><tr><td>epoch</td><td>5</td></tr><tr><td>loss</td><td>0.01439</td></tr><tr><td>val_accuracy</td><td>0.09333</td></tr><tr><td>val_loss</td><td>0.23026</td></tr></table><br/></div></div>"
            ]
          },
          "metadata": {}
        },
        {
          "output_type": "display_data",
          "data": {
            "text/plain": [
              "<IPython.core.display.HTML object>"
            ],
            "text/html": [
              " View run <strong style=\"color:#cdcd00\">e_5_hl_5_hs_32_lr_0.001_opt_adam_bs_16_init_random_ac_ReLU_wd_0.0005_loss_cross_entropy</strong> at: <a href='https://wandb.ai/da24m027-indian-institute-of-technology-madras/DA6401_Assignment1/runs/q2eklb4q' target=\"_blank\">https://wandb.ai/da24m027-indian-institute-of-technology-madras/DA6401_Assignment1/runs/q2eklb4q</a><br> View project at: <a href='https://wandb.ai/da24m027-indian-institute-of-technology-madras/DA6401_Assignment1' target=\"_blank\">https://wandb.ai/da24m027-indian-institute-of-technology-madras/DA6401_Assignment1</a><br>Synced 5 W&B file(s), 0 media file(s), 0 artifact file(s) and 0 other file(s)"
            ]
          },
          "metadata": {}
        },
        {
          "output_type": "display_data",
          "data": {
            "text/plain": [
              "<IPython.core.display.HTML object>"
            ],
            "text/html": [
              "Find logs at: <code>./wandb/run-20250308_071402-q2eklb4q/logs</code>"
            ]
          },
          "metadata": {}
        },
        {
          "output_type": "stream",
          "name": "stderr",
          "text": [
            "\u001b[34m\u001b[1mwandb\u001b[0m: Agent Starting Run: zytdtaml with config:\n",
            "\u001b[34m\u001b[1mwandb\u001b[0m: \tactivation: ReLU\n",
            "\u001b[34m\u001b[1mwandb\u001b[0m: \tbatch_size: 32\n",
            "\u001b[34m\u001b[1mwandb\u001b[0m: \tepochs: 10\n",
            "\u001b[34m\u001b[1mwandb\u001b[0m: \thidden_layers: 4\n",
            "\u001b[34m\u001b[1mwandb\u001b[0m: \thidden_size: 64\n",
            "\u001b[34m\u001b[1mwandb\u001b[0m: \tlearning_rate: 0.001\n",
            "\u001b[34m\u001b[1mwandb\u001b[0m: \tloss_type: cross_entropy\n",
            "\u001b[34m\u001b[1mwandb\u001b[0m: \toptimizer: nadam\n",
            "\u001b[34m\u001b[1mwandb\u001b[0m: \tweight_decay: 0\n",
            "\u001b[34m\u001b[1mwandb\u001b[0m: \tweights: Xavier\n"
          ]
        },
        {
          "output_type": "display_data",
          "data": {
            "text/plain": [
              "<IPython.core.display.HTML object>"
            ],
            "text/html": [
              "Tracking run with wandb version 0.19.7"
            ]
          },
          "metadata": {}
        },
        {
          "output_type": "display_data",
          "data": {
            "text/plain": [
              "<IPython.core.display.HTML object>"
            ],
            "text/html": [
              "Run data is saved locally in <code>/content/wandb/run-20250308_071423-zytdtaml</code>"
            ]
          },
          "metadata": {}
        },
        {
          "output_type": "display_data",
          "data": {
            "text/plain": [
              "<IPython.core.display.HTML object>"
            ],
            "text/html": [
              "Syncing run <strong><a href='https://wandb.ai/da24m027-indian-institute-of-technology-madras/DA6401_Assignment1/runs/zytdtaml' target=\"_blank\">desert-sweep-76</a></strong> to <a href='https://wandb.ai/da24m027-indian-institute-of-technology-madras/DA6401_Assignment1' target=\"_blank\">Weights & Biases</a> (<a href='https://wandb.me/developer-guide' target=\"_blank\">docs</a>)<br>Sweep page: <a href='https://wandb.ai/da24m027-indian-institute-of-technology-madras/DA6401_Assignment1/sweeps/xy966igu' target=\"_blank\">https://wandb.ai/da24m027-indian-institute-of-technology-madras/DA6401_Assignment1/sweeps/xy966igu</a>"
            ]
          },
          "metadata": {}
        },
        {
          "output_type": "display_data",
          "data": {
            "text/plain": [
              "<IPython.core.display.HTML object>"
            ],
            "text/html": [
              " View project at <a href='https://wandb.ai/da24m027-indian-institute-of-technology-madras/DA6401_Assignment1' target=\"_blank\">https://wandb.ai/da24m027-indian-institute-of-technology-madras/DA6401_Assignment1</a>"
            ]
          },
          "metadata": {}
        },
        {
          "output_type": "display_data",
          "data": {
            "text/plain": [
              "<IPython.core.display.HTML object>"
            ],
            "text/html": [
              " View sweep at <a href='https://wandb.ai/da24m027-indian-institute-of-technology-madras/DA6401_Assignment1/sweeps/xy966igu' target=\"_blank\">https://wandb.ai/da24m027-indian-institute-of-technology-madras/DA6401_Assignment1/sweeps/xy966igu</a>"
            ]
          },
          "metadata": {}
        },
        {
          "output_type": "display_data",
          "data": {
            "text/plain": [
              "<IPython.core.display.HTML object>"
            ],
            "text/html": [
              " View run at <a href='https://wandb.ai/da24m027-indian-institute-of-technology-madras/DA6401_Assignment1/runs/zytdtaml' target=\"_blank\">https://wandb.ai/da24m027-indian-institute-of-technology-madras/DA6401_Assignment1/runs/zytdtaml</a>"
            ]
          },
          "metadata": {}
        },
        {
          "output_type": "stream",
          "name": "stdout",
          "text": [
            "Epoch 1/10, Loss: nan, Val Loss: nan, Val Accuracy: 0.0933\n",
            "Epoch 2/10, Loss: nan, Val Loss: nan, Val Accuracy: 0.0933\n",
            "Epoch 3/10, Loss: nan, Val Loss: nan, Val Accuracy: 0.0933\n",
            "Epoch 4/10, Loss: nan, Val Loss: nan, Val Accuracy: 0.0933\n",
            "Epoch 5/10, Loss: nan, Val Loss: nan, Val Accuracy: 0.0933\n",
            "Epoch 6/10, Loss: nan, Val Loss: nan, Val Accuracy: 0.0933\n",
            "Epoch 7/10, Loss: nan, Val Loss: nan, Val Accuracy: 0.0933\n",
            "Epoch 8/10, Loss: nan, Val Loss: nan, Val Accuracy: 0.0933\n",
            "Epoch 9/10, Loss: nan, Val Loss: nan, Val Accuracy: 0.0933\n",
            "Epoch 10/10, Loss: nan, Val Loss: nan, Val Accuracy: 0.0933\n"
          ]
        },
        {
          "output_type": "display_data",
          "data": {
            "text/plain": [
              "<IPython.core.display.HTML object>"
            ],
            "text/html": []
          },
          "metadata": {}
        },
        {
          "output_type": "display_data",
          "data": {
            "text/plain": [
              "<IPython.core.display.HTML object>"
            ],
            "text/html": [
              "<br>    <style><br>        .wandb-row {<br>            display: flex;<br>            flex-direction: row;<br>            flex-wrap: wrap;<br>            justify-content: flex-start;<br>            width: 100%;<br>        }<br>        .wandb-col {<br>            display: flex;<br>            flex-direction: column;<br>            flex-basis: 100%;<br>            flex: 1;<br>            padding: 10px;<br>        }<br>    </style><br><div class=\"wandb-row\"><div class=\"wandb-col\"><h3>Run history:</h3><br/><table class=\"wandb\"><tr><td>epoch</td><td>▁▁▂▂▃▃▃▃▄▄▅▅▆▆▆▆▇▇██</td></tr><tr><td>val_accuracy</td><td>▁▁▁▁▁▁▁▁▁▁</td></tr></table><br/></div><div class=\"wandb-col\"><h3>Run summary:</h3><br/><table class=\"wandb\"><tr><td>epoch</td><td>10</td></tr><tr><td>loss</td><td>nan</td></tr><tr><td>val_accuracy</td><td>0.09333</td></tr><tr><td>val_loss</td><td>nan</td></tr></table><br/></div></div>"
            ]
          },
          "metadata": {}
        },
        {
          "output_type": "display_data",
          "data": {
            "text/plain": [
              "<IPython.core.display.HTML object>"
            ],
            "text/html": [
              " View run <strong style=\"color:#cdcd00\">e_10_hl_4_hs_64_lr_0.001_opt_nadam_bs_32_init_Xavier_ac_ReLU_wd_0_loss_cross_entropy</strong> at: <a href='https://wandb.ai/da24m027-indian-institute-of-technology-madras/DA6401_Assignment1/runs/zytdtaml' target=\"_blank\">https://wandb.ai/da24m027-indian-institute-of-technology-madras/DA6401_Assignment1/runs/zytdtaml</a><br> View project at: <a href='https://wandb.ai/da24m027-indian-institute-of-technology-madras/DA6401_Assignment1' target=\"_blank\">https://wandb.ai/da24m027-indian-institute-of-technology-madras/DA6401_Assignment1</a><br>Synced 5 W&B file(s), 0 media file(s), 0 artifact file(s) and 0 other file(s)"
            ]
          },
          "metadata": {}
        },
        {
          "output_type": "display_data",
          "data": {
            "text/plain": [
              "<IPython.core.display.HTML object>"
            ],
            "text/html": [
              "Find logs at: <code>./wandb/run-20250308_071423-zytdtaml/logs</code>"
            ]
          },
          "metadata": {}
        },
        {
          "output_type": "stream",
          "name": "stderr",
          "text": [
            "\u001b[34m\u001b[1mwandb\u001b[0m: Agent Starting Run: q41sm6un with config:\n",
            "\u001b[34m\u001b[1mwandb\u001b[0m: \tactivation: sigmoid\n",
            "\u001b[34m\u001b[1mwandb\u001b[0m: \tbatch_size: 64\n",
            "\u001b[34m\u001b[1mwandb\u001b[0m: \tepochs: 10\n",
            "\u001b[34m\u001b[1mwandb\u001b[0m: \thidden_layers: 5\n",
            "\u001b[34m\u001b[1mwandb\u001b[0m: \thidden_size: 64\n",
            "\u001b[34m\u001b[1mwandb\u001b[0m: \tlearning_rate: 0.001\n",
            "\u001b[34m\u001b[1mwandb\u001b[0m: \tloss_type: cross_entropy\n",
            "\u001b[34m\u001b[1mwandb\u001b[0m: \toptimizer: rmsprop\n",
            "\u001b[34m\u001b[1mwandb\u001b[0m: \tweight_decay: 0.5\n",
            "\u001b[34m\u001b[1mwandb\u001b[0m: \tweights: Xavier\n"
          ]
        },
        {
          "output_type": "display_data",
          "data": {
            "text/plain": [
              "<IPython.core.display.HTML object>"
            ],
            "text/html": [
              "Tracking run with wandb version 0.19.7"
            ]
          },
          "metadata": {}
        },
        {
          "output_type": "display_data",
          "data": {
            "text/plain": [
              "<IPython.core.display.HTML object>"
            ],
            "text/html": [
              "Run data is saved locally in <code>/content/wandb/run-20250308_071509-q41sm6un</code>"
            ]
          },
          "metadata": {}
        },
        {
          "output_type": "display_data",
          "data": {
            "text/plain": [
              "<IPython.core.display.HTML object>"
            ],
            "text/html": [
              "Syncing run <strong><a href='https://wandb.ai/da24m027-indian-institute-of-technology-madras/DA6401_Assignment1/runs/q41sm6un' target=\"_blank\">decent-sweep-77</a></strong> to <a href='https://wandb.ai/da24m027-indian-institute-of-technology-madras/DA6401_Assignment1' target=\"_blank\">Weights & Biases</a> (<a href='https://wandb.me/developer-guide' target=\"_blank\">docs</a>)<br>Sweep page: <a href='https://wandb.ai/da24m027-indian-institute-of-technology-madras/DA6401_Assignment1/sweeps/xy966igu' target=\"_blank\">https://wandb.ai/da24m027-indian-institute-of-technology-madras/DA6401_Assignment1/sweeps/xy966igu</a>"
            ]
          },
          "metadata": {}
        },
        {
          "output_type": "display_data",
          "data": {
            "text/plain": [
              "<IPython.core.display.HTML object>"
            ],
            "text/html": [
              " View project at <a href='https://wandb.ai/da24m027-indian-institute-of-technology-madras/DA6401_Assignment1' target=\"_blank\">https://wandb.ai/da24m027-indian-institute-of-technology-madras/DA6401_Assignment1</a>"
            ]
          },
          "metadata": {}
        },
        {
          "output_type": "display_data",
          "data": {
            "text/plain": [
              "<IPython.core.display.HTML object>"
            ],
            "text/html": [
              " View sweep at <a href='https://wandb.ai/da24m027-indian-institute-of-technology-madras/DA6401_Assignment1/sweeps/xy966igu' target=\"_blank\">https://wandb.ai/da24m027-indian-institute-of-technology-madras/DA6401_Assignment1/sweeps/xy966igu</a>"
            ]
          },
          "metadata": {}
        },
        {
          "output_type": "display_data",
          "data": {
            "text/plain": [
              "<IPython.core.display.HTML object>"
            ],
            "text/html": [
              " View run at <a href='https://wandb.ai/da24m027-indian-institute-of-technology-madras/DA6401_Assignment1/runs/q41sm6un' target=\"_blank\">https://wandb.ai/da24m027-indian-institute-of-technology-madras/DA6401_Assignment1/runs/q41sm6un</a>"
            ]
          },
          "metadata": {}
        },
        {
          "output_type": "stream",
          "name": "stdout",
          "text": [
            "Epoch 1/10, Loss: 0.0036, Val Loss: 0.2304, Val Accuracy: 0.1013\n",
            "Epoch 2/10, Loss: 0.0036, Val Loss: 0.2304, Val Accuracy: 0.1013\n",
            "Epoch 3/10, Loss: 0.0036, Val Loss: 0.2304, Val Accuracy: 0.1013\n",
            "Epoch 4/10, Loss: 0.0036, Val Loss: 0.2304, Val Accuracy: 0.1013\n",
            "Epoch 5/10, Loss: 0.0036, Val Loss: 0.2304, Val Accuracy: 0.1013\n",
            "Epoch 6/10, Loss: 0.0036, Val Loss: 0.2304, Val Accuracy: 0.1013\n",
            "Epoch 7/10, Loss: 0.0036, Val Loss: 0.2304, Val Accuracy: 0.1013\n",
            "Epoch 8/10, Loss: 0.0036, Val Loss: 0.2304, Val Accuracy: 0.1013\n",
            "Epoch 9/10, Loss: 0.0036, Val Loss: 0.2304, Val Accuracy: 0.1013\n",
            "Epoch 10/10, Loss: 0.0036, Val Loss: 0.2304, Val Accuracy: 0.1013\n"
          ]
        },
        {
          "output_type": "display_data",
          "data": {
            "text/plain": [
              "<IPython.core.display.HTML object>"
            ],
            "text/html": []
          },
          "metadata": {}
        },
        {
          "output_type": "display_data",
          "data": {
            "text/plain": [
              "<IPython.core.display.HTML object>"
            ],
            "text/html": [
              "<br>    <style><br>        .wandb-row {<br>            display: flex;<br>            flex-direction: row;<br>            flex-wrap: wrap;<br>            justify-content: flex-start;<br>            width: 100%;<br>        }<br>        .wandb-col {<br>            display: flex;<br>            flex-direction: column;<br>            flex-basis: 100%;<br>            flex: 1;<br>            padding: 10px;<br>        }<br>    </style><br><div class=\"wandb-row\"><div class=\"wandb-col\"><h3>Run history:</h3><br/><table class=\"wandb\"><tr><td>epoch</td><td>▁▁▂▂▃▃▃▃▄▄▅▅▆▆▆▆▇▇██</td></tr><tr><td>loss</td><td>█▁▁▁▁▁▁▁▁▁</td></tr><tr><td>val_accuracy</td><td>▁▁▁▁▁▁▁▁▁▁</td></tr><tr><td>val_loss</td><td>▁▁▁▁▁▁▁▁▁▁</td></tr></table><br/></div><div class=\"wandb-col\"><h3>Run summary:</h3><br/><table class=\"wandb\"><tr><td>epoch</td><td>10</td></tr><tr><td>loss</td><td>0.0036</td></tr><tr><td>val_accuracy</td><td>0.10133</td></tr><tr><td>val_loss</td><td>0.2304</td></tr></table><br/></div></div>"
            ]
          },
          "metadata": {}
        },
        {
          "output_type": "display_data",
          "data": {
            "text/plain": [
              "<IPython.core.display.HTML object>"
            ],
            "text/html": [
              " View run <strong style=\"color:#cdcd00\">e_10_hl_5_hs_64_lr_0.001_opt_rmsprop_bs_64_init_Xavier_ac_sigmoid_wd_0.5_loss_cross_entropy</strong> at: <a href='https://wandb.ai/da24m027-indian-institute-of-technology-madras/DA6401_Assignment1/runs/q41sm6un' target=\"_blank\">https://wandb.ai/da24m027-indian-institute-of-technology-madras/DA6401_Assignment1/runs/q41sm6un</a><br> View project at: <a href='https://wandb.ai/da24m027-indian-institute-of-technology-madras/DA6401_Assignment1' target=\"_blank\">https://wandb.ai/da24m027-indian-institute-of-technology-madras/DA6401_Assignment1</a><br>Synced 5 W&B file(s), 0 media file(s), 0 artifact file(s) and 0 other file(s)"
            ]
          },
          "metadata": {}
        },
        {
          "output_type": "display_data",
          "data": {
            "text/plain": [
              "<IPython.core.display.HTML object>"
            ],
            "text/html": [
              "Find logs at: <code>./wandb/run-20250308_071509-q41sm6un/logs</code>"
            ]
          },
          "metadata": {}
        },
        {
          "output_type": "stream",
          "name": "stderr",
          "text": [
            "\u001b[34m\u001b[1mwandb\u001b[0m: Agent Starting Run: fbzg2lnm with config:\n",
            "\u001b[34m\u001b[1mwandb\u001b[0m: \tactivation: tanh\n",
            "\u001b[34m\u001b[1mwandb\u001b[0m: \tbatch_size: 16\n",
            "\u001b[34m\u001b[1mwandb\u001b[0m: \tepochs: 5\n",
            "\u001b[34m\u001b[1mwandb\u001b[0m: \thidden_layers: 4\n",
            "\u001b[34m\u001b[1mwandb\u001b[0m: \thidden_size: 128\n",
            "\u001b[34m\u001b[1mwandb\u001b[0m: \tlearning_rate: 0.001\n",
            "\u001b[34m\u001b[1mwandb\u001b[0m: \tloss_type: cross_entropy\n",
            "\u001b[34m\u001b[1mwandb\u001b[0m: \toptimizer: nesterov\n",
            "\u001b[34m\u001b[1mwandb\u001b[0m: \tweight_decay: 0.0005\n",
            "\u001b[34m\u001b[1mwandb\u001b[0m: \tweights: random\n"
          ]
        },
        {
          "output_type": "display_data",
          "data": {
            "text/plain": [
              "<IPython.core.display.HTML object>"
            ],
            "text/html": [
              "Tracking run with wandb version 0.19.7"
            ]
          },
          "metadata": {}
        },
        {
          "output_type": "display_data",
          "data": {
            "text/plain": [
              "<IPython.core.display.HTML object>"
            ],
            "text/html": [
              "Run data is saved locally in <code>/content/wandb/run-20250308_071540-fbzg2lnm</code>"
            ]
          },
          "metadata": {}
        },
        {
          "output_type": "display_data",
          "data": {
            "text/plain": [
              "<IPython.core.display.HTML object>"
            ],
            "text/html": [
              "Syncing run <strong><a href='https://wandb.ai/da24m027-indian-institute-of-technology-madras/DA6401_Assignment1/runs/fbzg2lnm' target=\"_blank\">comfy-sweep-78</a></strong> to <a href='https://wandb.ai/da24m027-indian-institute-of-technology-madras/DA6401_Assignment1' target=\"_blank\">Weights & Biases</a> (<a href='https://wandb.me/developer-guide' target=\"_blank\">docs</a>)<br>Sweep page: <a href='https://wandb.ai/da24m027-indian-institute-of-technology-madras/DA6401_Assignment1/sweeps/xy966igu' target=\"_blank\">https://wandb.ai/da24m027-indian-institute-of-technology-madras/DA6401_Assignment1/sweeps/xy966igu</a>"
            ]
          },
          "metadata": {}
        },
        {
          "output_type": "display_data",
          "data": {
            "text/plain": [
              "<IPython.core.display.HTML object>"
            ],
            "text/html": [
              " View project at <a href='https://wandb.ai/da24m027-indian-institute-of-technology-madras/DA6401_Assignment1' target=\"_blank\">https://wandb.ai/da24m027-indian-institute-of-technology-madras/DA6401_Assignment1</a>"
            ]
          },
          "metadata": {}
        },
        {
          "output_type": "display_data",
          "data": {
            "text/plain": [
              "<IPython.core.display.HTML object>"
            ],
            "text/html": [
              " View sweep at <a href='https://wandb.ai/da24m027-indian-institute-of-technology-madras/DA6401_Assignment1/sweeps/xy966igu' target=\"_blank\">https://wandb.ai/da24m027-indian-institute-of-technology-madras/DA6401_Assignment1/sweeps/xy966igu</a>"
            ]
          },
          "metadata": {}
        },
        {
          "output_type": "display_data",
          "data": {
            "text/plain": [
              "<IPython.core.display.HTML object>"
            ],
            "text/html": [
              " View run at <a href='https://wandb.ai/da24m027-indian-institute-of-technology-madras/DA6401_Assignment1/runs/fbzg2lnm' target=\"_blank\">https://wandb.ai/da24m027-indian-institute-of-technology-madras/DA6401_Assignment1/runs/fbzg2lnm</a>"
            ]
          },
          "metadata": {}
        },
        {
          "output_type": "stream",
          "name": "stdout",
          "text": [
            "Epoch 1/5, Loss: 0.0144, Val Loss: 0.2303, Val Accuracy: 0.3015\n",
            "Epoch 2/5, Loss: 0.0144, Val Loss: 0.2303, Val Accuracy: 0.4050\n",
            "Epoch 3/5, Loss: 0.0144, Val Loss: 0.2303, Val Accuracy: 0.4413\n",
            "Epoch 4/5, Loss: 0.0144, Val Loss: 0.2303, Val Accuracy: 0.4477\n",
            "Epoch 5/5, Loss: 0.0144, Val Loss: 0.2303, Val Accuracy: 0.4458\n"
          ]
        },
        {
          "output_type": "display_data",
          "data": {
            "text/plain": [
              "<IPython.core.display.HTML object>"
            ],
            "text/html": []
          },
          "metadata": {}
        },
        {
          "output_type": "display_data",
          "data": {
            "text/plain": [
              "<IPython.core.display.HTML object>"
            ],
            "text/html": [
              "<br>    <style><br>        .wandb-row {<br>            display: flex;<br>            flex-direction: row;<br>            flex-wrap: wrap;<br>            justify-content: flex-start;<br>            width: 100%;<br>        }<br>        .wandb-col {<br>            display: flex;<br>            flex-direction: column;<br>            flex-basis: 100%;<br>            flex: 1;<br>            padding: 10px;<br>        }<br>    </style><br><div class=\"wandb-row\"><div class=\"wandb-col\"><h3>Run history:</h3><br/><table class=\"wandb\"><tr><td>epoch</td><td>▁▁▃▃▅▅▆▆██</td></tr><tr><td>loss</td><td>█▆▄▂▁</td></tr><tr><td>val_accuracy</td><td>▁▆███</td></tr><tr><td>val_loss</td><td>█▆▄▃▁</td></tr></table><br/></div><div class=\"wandb-col\"><h3>Run summary:</h3><br/><table class=\"wandb\"><tr><td>epoch</td><td>5</td></tr><tr><td>loss</td><td>0.01439</td></tr><tr><td>val_accuracy</td><td>0.44583</td></tr><tr><td>val_loss</td><td>0.23026</td></tr></table><br/></div></div>"
            ]
          },
          "metadata": {}
        },
        {
          "output_type": "display_data",
          "data": {
            "text/plain": [
              "<IPython.core.display.HTML object>"
            ],
            "text/html": [
              " View run <strong style=\"color:#cdcd00\">e_5_hl_4_hs_128_lr_0.001_opt_nesterov_bs_16_init_random_ac_tanh_wd_0.0005_loss_cross_entropy</strong> at: <a href='https://wandb.ai/da24m027-indian-institute-of-technology-madras/DA6401_Assignment1/runs/fbzg2lnm' target=\"_blank\">https://wandb.ai/da24m027-indian-institute-of-technology-madras/DA6401_Assignment1/runs/fbzg2lnm</a><br> View project at: <a href='https://wandb.ai/da24m027-indian-institute-of-technology-madras/DA6401_Assignment1' target=\"_blank\">https://wandb.ai/da24m027-indian-institute-of-technology-madras/DA6401_Assignment1</a><br>Synced 5 W&B file(s), 0 media file(s), 0 artifact file(s) and 0 other file(s)"
            ]
          },
          "metadata": {}
        },
        {
          "output_type": "display_data",
          "data": {
            "text/plain": [
              "<IPython.core.display.HTML object>"
            ],
            "text/html": [
              "Find logs at: <code>./wandb/run-20250308_071540-fbzg2lnm/logs</code>"
            ]
          },
          "metadata": {}
        },
        {
          "output_type": "stream",
          "name": "stderr",
          "text": [
            "\u001b[34m\u001b[1mwandb\u001b[0m: Agent Starting Run: 6n0us5gt with config:\n",
            "\u001b[34m\u001b[1mwandb\u001b[0m: \tactivation: tanh\n",
            "\u001b[34m\u001b[1mwandb\u001b[0m: \tbatch_size: 32\n",
            "\u001b[34m\u001b[1mwandb\u001b[0m: \tepochs: 10\n",
            "\u001b[34m\u001b[1mwandb\u001b[0m: \thidden_layers: 4\n",
            "\u001b[34m\u001b[1mwandb\u001b[0m: \thidden_size: 128\n",
            "\u001b[34m\u001b[1mwandb\u001b[0m: \tlearning_rate: 0.0001\n",
            "\u001b[34m\u001b[1mwandb\u001b[0m: \tloss_type: cross_entropy\n",
            "\u001b[34m\u001b[1mwandb\u001b[0m: \toptimizer: nadam\n",
            "\u001b[34m\u001b[1mwandb\u001b[0m: \tweight_decay: 0.0005\n",
            "\u001b[34m\u001b[1mwandb\u001b[0m: \tweights: Xavier\n"
          ]
        },
        {
          "output_type": "display_data",
          "data": {
            "text/plain": [
              "<IPython.core.display.HTML object>"
            ],
            "text/html": [
              "Tracking run with wandb version 0.19.7"
            ]
          },
          "metadata": {}
        },
        {
          "output_type": "display_data",
          "data": {
            "text/plain": [
              "<IPython.core.display.HTML object>"
            ],
            "text/html": [
              "Run data is saved locally in <code>/content/wandb/run-20250308_071636-6n0us5gt</code>"
            ]
          },
          "metadata": {}
        },
        {
          "output_type": "display_data",
          "data": {
            "text/plain": [
              "<IPython.core.display.HTML object>"
            ],
            "text/html": [
              "Syncing run <strong><a href='https://wandb.ai/da24m027-indian-institute-of-technology-madras/DA6401_Assignment1/runs/6n0us5gt' target=\"_blank\">pleasant-sweep-79</a></strong> to <a href='https://wandb.ai/da24m027-indian-institute-of-technology-madras/DA6401_Assignment1' target=\"_blank\">Weights & Biases</a> (<a href='https://wandb.me/developer-guide' target=\"_blank\">docs</a>)<br>Sweep page: <a href='https://wandb.ai/da24m027-indian-institute-of-technology-madras/DA6401_Assignment1/sweeps/xy966igu' target=\"_blank\">https://wandb.ai/da24m027-indian-institute-of-technology-madras/DA6401_Assignment1/sweeps/xy966igu</a>"
            ]
          },
          "metadata": {}
        },
        {
          "output_type": "display_data",
          "data": {
            "text/plain": [
              "<IPython.core.display.HTML object>"
            ],
            "text/html": [
              " View project at <a href='https://wandb.ai/da24m027-indian-institute-of-technology-madras/DA6401_Assignment1' target=\"_blank\">https://wandb.ai/da24m027-indian-institute-of-technology-madras/DA6401_Assignment1</a>"
            ]
          },
          "metadata": {}
        },
        {
          "output_type": "display_data",
          "data": {
            "text/plain": [
              "<IPython.core.display.HTML object>"
            ],
            "text/html": [
              " View sweep at <a href='https://wandb.ai/da24m027-indian-institute-of-technology-madras/DA6401_Assignment1/sweeps/xy966igu' target=\"_blank\">https://wandb.ai/da24m027-indian-institute-of-technology-madras/DA6401_Assignment1/sweeps/xy966igu</a>"
            ]
          },
          "metadata": {}
        },
        {
          "output_type": "display_data",
          "data": {
            "text/plain": [
              "<IPython.core.display.HTML object>"
            ],
            "text/html": [
              " View run at <a href='https://wandb.ai/da24m027-indian-institute-of-technology-madras/DA6401_Assignment1/runs/6n0us5gt' target=\"_blank\">https://wandb.ai/da24m027-indian-institute-of-technology-madras/DA6401_Assignment1/runs/6n0us5gt</a>"
            ]
          },
          "metadata": {}
        },
        {
          "output_type": "stream",
          "name": "stdout",
          "text": [
            "Epoch 1/10, Loss: 0.0453, Val Loss: 1.4474, Val Accuracy: 0.1020\n",
            "Epoch 2/10, Loss: 0.0454, Val Loss: 1.4474, Val Accuracy: 0.1020\n",
            "Epoch 3/10, Loss: 0.0454, Val Loss: 1.4474, Val Accuracy: 0.1020\n",
            "Epoch 4/10, Loss: 0.0454, Val Loss: 1.4474, Val Accuracy: 0.1020\n",
            "Epoch 5/10, Loss: 0.0454, Val Loss: 1.4474, Val Accuracy: 0.1020\n",
            "Epoch 6/10, Loss: 0.0454, Val Loss: 1.4474, Val Accuracy: 0.1020\n",
            "Epoch 7/10, Loss: 0.0454, Val Loss: 1.4474, Val Accuracy: 0.1020\n",
            "Epoch 8/10, Loss: 0.0454, Val Loss: 1.4474, Val Accuracy: 0.1020\n",
            "Epoch 9/10, Loss: 0.0454, Val Loss: 1.4474, Val Accuracy: 0.1020\n",
            "Epoch 10/10, Loss: 0.0454, Val Loss: 1.4474, Val Accuracy: 0.1020\n"
          ]
        },
        {
          "output_type": "display_data",
          "data": {
            "text/plain": [
              "<IPython.core.display.HTML object>"
            ],
            "text/html": []
          },
          "metadata": {}
        },
        {
          "output_type": "display_data",
          "data": {
            "text/plain": [
              "<IPython.core.display.HTML object>"
            ],
            "text/html": [
              "<br>    <style><br>        .wandb-row {<br>            display: flex;<br>            flex-direction: row;<br>            flex-wrap: wrap;<br>            justify-content: flex-start;<br>            width: 100%;<br>        }<br>        .wandb-col {<br>            display: flex;<br>            flex-direction: column;<br>            flex-basis: 100%;<br>            flex: 1;<br>            padding: 10px;<br>        }<br>    </style><br><div class=\"wandb-row\"><div class=\"wandb-col\"><h3>Run history:</h3><br/><table class=\"wandb\"><tr><td>epoch</td><td>▁▁▂▂▃▃▃▃▄▄▅▅▆▆▆▆▇▇██</td></tr><tr><td>loss</td><td>▁█████████</td></tr><tr><td>val_accuracy</td><td>▁▁▁▁▁▁▁▁▁▁</td></tr><tr><td>val_loss</td><td>▁▁▁▁▁▁▁▁▁▁</td></tr></table><br/></div><div class=\"wandb-col\"><h3>Run summary:</h3><br/><table class=\"wandb\"><tr><td>epoch</td><td>10</td></tr><tr><td>loss</td><td>0.04539</td></tr><tr><td>val_accuracy</td><td>0.102</td></tr><tr><td>val_loss</td><td>1.4474</td></tr></table><br/></div></div>"
            ]
          },
          "metadata": {}
        },
        {
          "output_type": "display_data",
          "data": {
            "text/plain": [
              "<IPython.core.display.HTML object>"
            ],
            "text/html": [
              " View run <strong style=\"color:#cdcd00\">e_10_hl_4_hs_128_lr_0.0001_opt_nadam_bs_32_init_Xavier_ac_tanh_wd_0.0005_loss_cross_entropy</strong> at: <a href='https://wandb.ai/da24m027-indian-institute-of-technology-madras/DA6401_Assignment1/runs/6n0us5gt' target=\"_blank\">https://wandb.ai/da24m027-indian-institute-of-technology-madras/DA6401_Assignment1/runs/6n0us5gt</a><br> View project at: <a href='https://wandb.ai/da24m027-indian-institute-of-technology-madras/DA6401_Assignment1' target=\"_blank\">https://wandb.ai/da24m027-indian-institute-of-technology-madras/DA6401_Assignment1</a><br>Synced 5 W&B file(s), 0 media file(s), 0 artifact file(s) and 0 other file(s)"
            ]
          },
          "metadata": {}
        },
        {
          "output_type": "display_data",
          "data": {
            "text/plain": [
              "<IPython.core.display.HTML object>"
            ],
            "text/html": [
              "Find logs at: <code>./wandb/run-20250308_071636-6n0us5gt/logs</code>"
            ]
          },
          "metadata": {}
        },
        {
          "output_type": "stream",
          "name": "stderr",
          "text": [
            "\u001b[34m\u001b[1mwandb\u001b[0m: Agent Starting Run: m5h2vnpi with config:\n",
            "\u001b[34m\u001b[1mwandb\u001b[0m: \tactivation: tanh\n",
            "\u001b[34m\u001b[1mwandb\u001b[0m: \tbatch_size: 16\n",
            "\u001b[34m\u001b[1mwandb\u001b[0m: \tepochs: 5\n",
            "\u001b[34m\u001b[1mwandb\u001b[0m: \thidden_layers: 5\n",
            "\u001b[34m\u001b[1mwandb\u001b[0m: \thidden_size: 128\n",
            "\u001b[34m\u001b[1mwandb\u001b[0m: \tlearning_rate: 0.001\n",
            "\u001b[34m\u001b[1mwandb\u001b[0m: \tloss_type: cross_entropy\n",
            "\u001b[34m\u001b[1mwandb\u001b[0m: \toptimizer: nesterov\n",
            "\u001b[34m\u001b[1mwandb\u001b[0m: \tweight_decay: 0\n",
            "\u001b[34m\u001b[1mwandb\u001b[0m: \tweights: random\n"
          ]
        },
        {
          "output_type": "display_data",
          "data": {
            "text/plain": [
              "<IPython.core.display.HTML object>"
            ],
            "text/html": [
              "Tracking run with wandb version 0.19.7"
            ]
          },
          "metadata": {}
        },
        {
          "output_type": "display_data",
          "data": {
            "text/plain": [
              "<IPython.core.display.HTML object>"
            ],
            "text/html": [
              "Run data is saved locally in <code>/content/wandb/run-20250308_071758-m5h2vnpi</code>"
            ]
          },
          "metadata": {}
        },
        {
          "output_type": "display_data",
          "data": {
            "text/plain": [
              "<IPython.core.display.HTML object>"
            ],
            "text/html": [
              "Syncing run <strong><a href='https://wandb.ai/da24m027-indian-institute-of-technology-madras/DA6401_Assignment1/runs/m5h2vnpi' target=\"_blank\">chocolate-sweep-80</a></strong> to <a href='https://wandb.ai/da24m027-indian-institute-of-technology-madras/DA6401_Assignment1' target=\"_blank\">Weights & Biases</a> (<a href='https://wandb.me/developer-guide' target=\"_blank\">docs</a>)<br>Sweep page: <a href='https://wandb.ai/da24m027-indian-institute-of-technology-madras/DA6401_Assignment1/sweeps/xy966igu' target=\"_blank\">https://wandb.ai/da24m027-indian-institute-of-technology-madras/DA6401_Assignment1/sweeps/xy966igu</a>"
            ]
          },
          "metadata": {}
        },
        {
          "output_type": "display_data",
          "data": {
            "text/plain": [
              "<IPython.core.display.HTML object>"
            ],
            "text/html": [
              " View project at <a href='https://wandb.ai/da24m027-indian-institute-of-technology-madras/DA6401_Assignment1' target=\"_blank\">https://wandb.ai/da24m027-indian-institute-of-technology-madras/DA6401_Assignment1</a>"
            ]
          },
          "metadata": {}
        },
        {
          "output_type": "display_data",
          "data": {
            "text/plain": [
              "<IPython.core.display.HTML object>"
            ],
            "text/html": [
              " View sweep at <a href='https://wandb.ai/da24m027-indian-institute-of-technology-madras/DA6401_Assignment1/sweeps/xy966igu' target=\"_blank\">https://wandb.ai/da24m027-indian-institute-of-technology-madras/DA6401_Assignment1/sweeps/xy966igu</a>"
            ]
          },
          "metadata": {}
        },
        {
          "output_type": "display_data",
          "data": {
            "text/plain": [
              "<IPython.core.display.HTML object>"
            ],
            "text/html": [
              " View run at <a href='https://wandb.ai/da24m027-indian-institute-of-technology-madras/DA6401_Assignment1/runs/m5h2vnpi' target=\"_blank\">https://wandb.ai/da24m027-indian-institute-of-technology-madras/DA6401_Assignment1/runs/m5h2vnpi</a>"
            ]
          },
          "metadata": {}
        },
        {
          "output_type": "stream",
          "name": "stdout",
          "text": [
            "Epoch 1/5, Loss: 0.0144, Val Loss: 0.2303, Val Accuracy: 0.0982\n",
            "Epoch 2/5, Loss: 0.0144, Val Loss: 0.2303, Val Accuracy: 0.1032\n",
            "Epoch 3/5, Loss: 0.0144, Val Loss: 0.2303, Val Accuracy: 0.1065\n",
            "Epoch 4/5, Loss: 0.0144, Val Loss: 0.2303, Val Accuracy: 0.1077\n",
            "Epoch 5/5, Loss: 0.0144, Val Loss: 0.2303, Val Accuracy: 0.1098\n"
          ]
        },
        {
          "output_type": "display_data",
          "data": {
            "text/plain": [
              "<IPython.core.display.HTML object>"
            ],
            "text/html": []
          },
          "metadata": {}
        },
        {
          "output_type": "display_data",
          "data": {
            "text/plain": [
              "<IPython.core.display.HTML object>"
            ],
            "text/html": [
              "<br>    <style><br>        .wandb-row {<br>            display: flex;<br>            flex-direction: row;<br>            flex-wrap: wrap;<br>            justify-content: flex-start;<br>            width: 100%;<br>        }<br>        .wandb-col {<br>            display: flex;<br>            flex-direction: column;<br>            flex-basis: 100%;<br>            flex: 1;<br>            padding: 10px;<br>        }<br>    </style><br><div class=\"wandb-row\"><div class=\"wandb-col\"><h3>Run history:</h3><br/><table class=\"wandb\"><tr><td>epoch</td><td>▁▁▃▃▅▅▆▆██</td></tr><tr><td>loss</td><td>█▆▅▃▁</td></tr><tr><td>val_accuracy</td><td>▁▄▆▇█</td></tr><tr><td>val_loss</td><td>█▆▅▃▁</td></tr></table><br/></div><div class=\"wandb-col\"><h3>Run summary:</h3><br/><table class=\"wandb\"><tr><td>epoch</td><td>5</td></tr><tr><td>loss</td><td>0.01439</td></tr><tr><td>val_accuracy</td><td>0.10983</td></tr><tr><td>val_loss</td><td>0.23026</td></tr></table><br/></div></div>"
            ]
          },
          "metadata": {}
        },
        {
          "output_type": "display_data",
          "data": {
            "text/plain": [
              "<IPython.core.display.HTML object>"
            ],
            "text/html": [
              " View run <strong style=\"color:#cdcd00\">e_5_hl_5_hs_128_lr_0.001_opt_nesterov_bs_16_init_random_ac_tanh_wd_0_loss_cross_entropy</strong> at: <a href='https://wandb.ai/da24m027-indian-institute-of-technology-madras/DA6401_Assignment1/runs/m5h2vnpi' target=\"_blank\">https://wandb.ai/da24m027-indian-institute-of-technology-madras/DA6401_Assignment1/runs/m5h2vnpi</a><br> View project at: <a href='https://wandb.ai/da24m027-indian-institute-of-technology-madras/DA6401_Assignment1' target=\"_blank\">https://wandb.ai/da24m027-indian-institute-of-technology-madras/DA6401_Assignment1</a><br>Synced 5 W&B file(s), 0 media file(s), 0 artifact file(s) and 0 other file(s)"
            ]
          },
          "metadata": {}
        },
        {
          "output_type": "display_data",
          "data": {
            "text/plain": [
              "<IPython.core.display.HTML object>"
            ],
            "text/html": [
              "Find logs at: <code>./wandb/run-20250308_071758-m5h2vnpi/logs</code>"
            ]
          },
          "metadata": {}
        },
        {
          "output_type": "stream",
          "name": "stderr",
          "text": [
            "\u001b[34m\u001b[1mwandb\u001b[0m: Agent Starting Run: pq2eribp with config:\n",
            "\u001b[34m\u001b[1mwandb\u001b[0m: \tactivation: sigmoid\n",
            "\u001b[34m\u001b[1mwandb\u001b[0m: \tbatch_size: 32\n",
            "\u001b[34m\u001b[1mwandb\u001b[0m: \tepochs: 5\n",
            "\u001b[34m\u001b[1mwandb\u001b[0m: \thidden_layers: 4\n",
            "\u001b[34m\u001b[1mwandb\u001b[0m: \thidden_size: 128\n",
            "\u001b[34m\u001b[1mwandb\u001b[0m: \tlearning_rate: 0.001\n",
            "\u001b[34m\u001b[1mwandb\u001b[0m: \tloss_type: cross_entropy\n",
            "\u001b[34m\u001b[1mwandb\u001b[0m: \toptimizer: nadam\n",
            "\u001b[34m\u001b[1mwandb\u001b[0m: \tweight_decay: 0.0005\n",
            "\u001b[34m\u001b[1mwandb\u001b[0m: \tweights: random\n"
          ]
        },
        {
          "output_type": "display_data",
          "data": {
            "text/plain": [
              "<IPython.core.display.HTML object>"
            ],
            "text/html": [
              "Tracking run with wandb version 0.19.7"
            ]
          },
          "metadata": {}
        },
        {
          "output_type": "display_data",
          "data": {
            "text/plain": [
              "<IPython.core.display.HTML object>"
            ],
            "text/html": [
              "Run data is saved locally in <code>/content/wandb/run-20250308_071859-pq2eribp</code>"
            ]
          },
          "metadata": {}
        },
        {
          "output_type": "display_data",
          "data": {
            "text/plain": [
              "<IPython.core.display.HTML object>"
            ],
            "text/html": [
              "Syncing run <strong><a href='https://wandb.ai/da24m027-indian-institute-of-technology-madras/DA6401_Assignment1/runs/pq2eribp' target=\"_blank\">solar-sweep-81</a></strong> to <a href='https://wandb.ai/da24m027-indian-institute-of-technology-madras/DA6401_Assignment1' target=\"_blank\">Weights & Biases</a> (<a href='https://wandb.me/developer-guide' target=\"_blank\">docs</a>)<br>Sweep page: <a href='https://wandb.ai/da24m027-indian-institute-of-technology-madras/DA6401_Assignment1/sweeps/xy966igu' target=\"_blank\">https://wandb.ai/da24m027-indian-institute-of-technology-madras/DA6401_Assignment1/sweeps/xy966igu</a>"
            ]
          },
          "metadata": {}
        },
        {
          "output_type": "display_data",
          "data": {
            "text/plain": [
              "<IPython.core.display.HTML object>"
            ],
            "text/html": [
              " View project at <a href='https://wandb.ai/da24m027-indian-institute-of-technology-madras/DA6401_Assignment1' target=\"_blank\">https://wandb.ai/da24m027-indian-institute-of-technology-madras/DA6401_Assignment1</a>"
            ]
          },
          "metadata": {}
        },
        {
          "output_type": "display_data",
          "data": {
            "text/plain": [
              "<IPython.core.display.HTML object>"
            ],
            "text/html": [
              " View sweep at <a href='https://wandb.ai/da24m027-indian-institute-of-technology-madras/DA6401_Assignment1/sweeps/xy966igu' target=\"_blank\">https://wandb.ai/da24m027-indian-institute-of-technology-madras/DA6401_Assignment1/sweeps/xy966igu</a>"
            ]
          },
          "metadata": {}
        },
        {
          "output_type": "display_data",
          "data": {
            "text/plain": [
              "<IPython.core.display.HTML object>"
            ],
            "text/html": [
              " View run at <a href='https://wandb.ai/da24m027-indian-institute-of-technology-madras/DA6401_Assignment1/runs/pq2eribp' target=\"_blank\">https://wandb.ai/da24m027-indian-institute-of-technology-madras/DA6401_Assignment1/runs/pq2eribp</a>"
            ]
          },
          "metadata": {}
        },
        {
          "output_type": "stream",
          "name": "stderr",
          "text": [
            "<ipython-input-7-a320152c13fb>:23: RuntimeWarning: overflow encountered in subtract\n",
            "  exp_x = np.exp(x - np.max(x, axis=1, keepdims=True))\n",
            "<ipython-input-7-a320152c13fb>:23: RuntimeWarning: invalid value encountered in subtract\n",
            "  exp_x = np.exp(x - np.max(x, axis=1, keepdims=True))\n"
          ]
        },
        {
          "output_type": "stream",
          "name": "stdout",
          "text": [
            "Epoch 1/5, Loss: nan, Val Loss: nan, Val Accuracy: 0.0933\n",
            "Epoch 2/5, Loss: nan, Val Loss: nan, Val Accuracy: 0.0933\n",
            "Epoch 3/5, Loss: nan, Val Loss: nan, Val Accuracy: 0.0933\n",
            "Epoch 4/5, Loss: nan, Val Loss: nan, Val Accuracy: 0.0933\n",
            "Epoch 5/5, Loss: nan, Val Loss: nan, Val Accuracy: 0.0933\n"
          ]
        },
        {
          "output_type": "display_data",
          "data": {
            "text/plain": [
              "<IPython.core.display.HTML object>"
            ],
            "text/html": []
          },
          "metadata": {}
        },
        {
          "output_type": "display_data",
          "data": {
            "text/plain": [
              "<IPython.core.display.HTML object>"
            ],
            "text/html": [
              "<br>    <style><br>        .wandb-row {<br>            display: flex;<br>            flex-direction: row;<br>            flex-wrap: wrap;<br>            justify-content: flex-start;<br>            width: 100%;<br>        }<br>        .wandb-col {<br>            display: flex;<br>            flex-direction: column;<br>            flex-basis: 100%;<br>            flex: 1;<br>            padding: 10px;<br>        }<br>    </style><br><div class=\"wandb-row\"><div class=\"wandb-col\"><h3>Run history:</h3><br/><table class=\"wandb\"><tr><td>epoch</td><td>▁▁▃▃▅▅▆▆██</td></tr><tr><td>val_accuracy</td><td>▁▁▁▁▁</td></tr></table><br/></div><div class=\"wandb-col\"><h3>Run summary:</h3><br/><table class=\"wandb\"><tr><td>epoch</td><td>5</td></tr><tr><td>loss</td><td>nan</td></tr><tr><td>val_accuracy</td><td>0.09333</td></tr><tr><td>val_loss</td><td>nan</td></tr></table><br/></div></div>"
            ]
          },
          "metadata": {}
        },
        {
          "output_type": "display_data",
          "data": {
            "text/plain": [
              "<IPython.core.display.HTML object>"
            ],
            "text/html": [
              " View run <strong style=\"color:#cdcd00\">e_5_hl_4_hs_128_lr_0.001_opt_nadam_bs_32_init_random_ac_sigmoid_wd_0.0005_loss_cross_entropy</strong> at: <a href='https://wandb.ai/da24m027-indian-institute-of-technology-madras/DA6401_Assignment1/runs/pq2eribp' target=\"_blank\">https://wandb.ai/da24m027-indian-institute-of-technology-madras/DA6401_Assignment1/runs/pq2eribp</a><br> View project at: <a href='https://wandb.ai/da24m027-indian-institute-of-technology-madras/DA6401_Assignment1' target=\"_blank\">https://wandb.ai/da24m027-indian-institute-of-technology-madras/DA6401_Assignment1</a><br>Synced 5 W&B file(s), 0 media file(s), 0 artifact file(s) and 0 other file(s)"
            ]
          },
          "metadata": {}
        },
        {
          "output_type": "display_data",
          "data": {
            "text/plain": [
              "<IPython.core.display.HTML object>"
            ],
            "text/html": [
              "Find logs at: <code>./wandb/run-20250308_071859-pq2eribp/logs</code>"
            ]
          },
          "metadata": {}
        },
        {
          "output_type": "stream",
          "name": "stderr",
          "text": [
            "\u001b[34m\u001b[1mwandb\u001b[0m: Agent Starting Run: fs5uiyg5 with config:\n",
            "\u001b[34m\u001b[1mwandb\u001b[0m: \tactivation: ReLU\n",
            "\u001b[34m\u001b[1mwandb\u001b[0m: \tbatch_size: 64\n",
            "\u001b[34m\u001b[1mwandb\u001b[0m: \tepochs: 5\n",
            "\u001b[34m\u001b[1mwandb\u001b[0m: \thidden_layers: 4\n",
            "\u001b[34m\u001b[1mwandb\u001b[0m: \thidden_size: 64\n",
            "\u001b[34m\u001b[1mwandb\u001b[0m: \tlearning_rate: 0.0001\n",
            "\u001b[34m\u001b[1mwandb\u001b[0m: \tloss_type: cross_entropy\n",
            "\u001b[34m\u001b[1mwandb\u001b[0m: \toptimizer: sgd\n",
            "\u001b[34m\u001b[1mwandb\u001b[0m: \tweight_decay: 0.0005\n",
            "\u001b[34m\u001b[1mwandb\u001b[0m: \tweights: Xavier\n"
          ]
        },
        {
          "output_type": "display_data",
          "data": {
            "text/plain": [
              "<IPython.core.display.HTML object>"
            ],
            "text/html": [
              "Tracking run with wandb version 0.19.7"
            ]
          },
          "metadata": {}
        },
        {
          "output_type": "display_data",
          "data": {
            "text/plain": [
              "<IPython.core.display.HTML object>"
            ],
            "text/html": [
              "Run data is saved locally in <code>/content/wandb/run-20250308_071945-fs5uiyg5</code>"
            ]
          },
          "metadata": {}
        },
        {
          "output_type": "display_data",
          "data": {
            "text/plain": [
              "<IPython.core.display.HTML object>"
            ],
            "text/html": [
              "Syncing run <strong><a href='https://wandb.ai/da24m027-indian-institute-of-technology-madras/DA6401_Assignment1/runs/fs5uiyg5' target=\"_blank\">copper-sweep-82</a></strong> to <a href='https://wandb.ai/da24m027-indian-institute-of-technology-madras/DA6401_Assignment1' target=\"_blank\">Weights & Biases</a> (<a href='https://wandb.me/developer-guide' target=\"_blank\">docs</a>)<br>Sweep page: <a href='https://wandb.ai/da24m027-indian-institute-of-technology-madras/DA6401_Assignment1/sweeps/xy966igu' target=\"_blank\">https://wandb.ai/da24m027-indian-institute-of-technology-madras/DA6401_Assignment1/sweeps/xy966igu</a>"
            ]
          },
          "metadata": {}
        },
        {
          "output_type": "display_data",
          "data": {
            "text/plain": [
              "<IPython.core.display.HTML object>"
            ],
            "text/html": [
              " View project at <a href='https://wandb.ai/da24m027-indian-institute-of-technology-madras/DA6401_Assignment1' target=\"_blank\">https://wandb.ai/da24m027-indian-institute-of-technology-madras/DA6401_Assignment1</a>"
            ]
          },
          "metadata": {}
        },
        {
          "output_type": "display_data",
          "data": {
            "text/plain": [
              "<IPython.core.display.HTML object>"
            ],
            "text/html": [
              " View sweep at <a href='https://wandb.ai/da24m027-indian-institute-of-technology-madras/DA6401_Assignment1/sweeps/xy966igu' target=\"_blank\">https://wandb.ai/da24m027-indian-institute-of-technology-madras/DA6401_Assignment1/sweeps/xy966igu</a>"
            ]
          },
          "metadata": {}
        },
        {
          "output_type": "display_data",
          "data": {
            "text/plain": [
              "<IPython.core.display.HTML object>"
            ],
            "text/html": [
              " View run at <a href='https://wandb.ai/da24m027-indian-institute-of-technology-madras/DA6401_Assignment1/runs/fs5uiyg5' target=\"_blank\">https://wandb.ai/da24m027-indian-institute-of-technology-madras/DA6401_Assignment1/runs/fs5uiyg5</a>"
            ]
          },
          "metadata": {}
        },
        {
          "output_type": "stream",
          "name": "stdout",
          "text": [
            "Epoch 1/5, Loss: 0.0036, Val Loss: 0.2303, Val Accuracy: 0.1018\n",
            "Epoch 2/5, Loss: 0.0036, Val Loss: 0.2303, Val Accuracy: 0.1025\n",
            "Epoch 3/5, Loss: 0.0036, Val Loss: 0.2303, Val Accuracy: 0.1028\n",
            "Epoch 4/5, Loss: 0.0036, Val Loss: 0.2303, Val Accuracy: 0.1027\n",
            "Epoch 5/5, Loss: 0.0036, Val Loss: 0.2303, Val Accuracy: 0.1030\n"
          ]
        },
        {
          "output_type": "display_data",
          "data": {
            "text/plain": [
              "<IPython.core.display.HTML object>"
            ],
            "text/html": []
          },
          "metadata": {}
        },
        {
          "output_type": "display_data",
          "data": {
            "text/plain": [
              "<IPython.core.display.HTML object>"
            ],
            "text/html": [
              "<br>    <style><br>        .wandb-row {<br>            display: flex;<br>            flex-direction: row;<br>            flex-wrap: wrap;<br>            justify-content: flex-start;<br>            width: 100%;<br>        }<br>        .wandb-col {<br>            display: flex;<br>            flex-direction: column;<br>            flex-basis: 100%;<br>            flex: 1;<br>            padding: 10px;<br>        }<br>    </style><br><div class=\"wandb-row\"><div class=\"wandb-col\"><h3>Run history:</h3><br/><table class=\"wandb\"><tr><td>epoch</td><td>▁▁▃▃▅▅▆▆██</td></tr><tr><td>loss</td><td>█▆▄▃▁</td></tr><tr><td>val_accuracy</td><td>▁▅▇▆█</td></tr><tr><td>val_loss</td><td>█▆▄▃▁</td></tr></table><br/></div><div class=\"wandb-col\"><h3>Run summary:</h3><br/><table class=\"wandb\"><tr><td>epoch</td><td>5</td></tr><tr><td>loss</td><td>0.0036</td></tr><tr><td>val_accuracy</td><td>0.103</td></tr><tr><td>val_loss</td><td>0.23026</td></tr></table><br/></div></div>"
            ]
          },
          "metadata": {}
        },
        {
          "output_type": "display_data",
          "data": {
            "text/plain": [
              "<IPython.core.display.HTML object>"
            ],
            "text/html": [
              " View run <strong style=\"color:#cdcd00\">e_5_hl_4_hs_64_lr_0.0001_opt_sgd_bs_64_init_Xavier_ac_ReLU_wd_0.0005_loss_cross_entropy</strong> at: <a href='https://wandb.ai/da24m027-indian-institute-of-technology-madras/DA6401_Assignment1/runs/fs5uiyg5' target=\"_blank\">https://wandb.ai/da24m027-indian-institute-of-technology-madras/DA6401_Assignment1/runs/fs5uiyg5</a><br> View project at: <a href='https://wandb.ai/da24m027-indian-institute-of-technology-madras/DA6401_Assignment1' target=\"_blank\">https://wandb.ai/da24m027-indian-institute-of-technology-madras/DA6401_Assignment1</a><br>Synced 5 W&B file(s), 0 media file(s), 0 artifact file(s) and 0 other file(s)"
            ]
          },
          "metadata": {}
        },
        {
          "output_type": "display_data",
          "data": {
            "text/plain": [
              "<IPython.core.display.HTML object>"
            ],
            "text/html": [
              "Find logs at: <code>./wandb/run-20250308_071945-fs5uiyg5/logs</code>"
            ]
          },
          "metadata": {}
        },
        {
          "output_type": "stream",
          "name": "stderr",
          "text": [
            "\u001b[34m\u001b[1mwandb\u001b[0m: Agent Starting Run: cd3ahkkb with config:\n",
            "\u001b[34m\u001b[1mwandb\u001b[0m: \tactivation: ReLU\n",
            "\u001b[34m\u001b[1mwandb\u001b[0m: \tbatch_size: 32\n",
            "\u001b[34m\u001b[1mwandb\u001b[0m: \tepochs: 10\n",
            "\u001b[34m\u001b[1mwandb\u001b[0m: \thidden_layers: 5\n",
            "\u001b[34m\u001b[1mwandb\u001b[0m: \thidden_size: 64\n",
            "\u001b[34m\u001b[1mwandb\u001b[0m: \tlearning_rate: 0.001\n",
            "\u001b[34m\u001b[1mwandb\u001b[0m: \tloss_type: cross_entropy\n",
            "\u001b[34m\u001b[1mwandb\u001b[0m: \toptimizer: nesterov\n",
            "\u001b[34m\u001b[1mwandb\u001b[0m: \tweight_decay: 0\n",
            "\u001b[34m\u001b[1mwandb\u001b[0m: \tweights: Xavier\n"
          ]
        },
        {
          "output_type": "display_data",
          "data": {
            "text/plain": [
              "<IPython.core.display.HTML object>"
            ],
            "text/html": [
              "Tracking run with wandb version 0.19.7"
            ]
          },
          "metadata": {}
        },
        {
          "output_type": "display_data",
          "data": {
            "text/plain": [
              "<IPython.core.display.HTML object>"
            ],
            "text/html": [
              "Run data is saved locally in <code>/content/wandb/run-20250308_072001-cd3ahkkb</code>"
            ]
          },
          "metadata": {}
        },
        {
          "output_type": "display_data",
          "data": {
            "text/plain": [
              "<IPython.core.display.HTML object>"
            ],
            "text/html": [
              "Syncing run <strong><a href='https://wandb.ai/da24m027-indian-institute-of-technology-madras/DA6401_Assignment1/runs/cd3ahkkb' target=\"_blank\">sweet-sweep-83</a></strong> to <a href='https://wandb.ai/da24m027-indian-institute-of-technology-madras/DA6401_Assignment1' target=\"_blank\">Weights & Biases</a> (<a href='https://wandb.me/developer-guide' target=\"_blank\">docs</a>)<br>Sweep page: <a href='https://wandb.ai/da24m027-indian-institute-of-technology-madras/DA6401_Assignment1/sweeps/xy966igu' target=\"_blank\">https://wandb.ai/da24m027-indian-institute-of-technology-madras/DA6401_Assignment1/sweeps/xy966igu</a>"
            ]
          },
          "metadata": {}
        },
        {
          "output_type": "display_data",
          "data": {
            "text/plain": [
              "<IPython.core.display.HTML object>"
            ],
            "text/html": [
              " View project at <a href='https://wandb.ai/da24m027-indian-institute-of-technology-madras/DA6401_Assignment1' target=\"_blank\">https://wandb.ai/da24m027-indian-institute-of-technology-madras/DA6401_Assignment1</a>"
            ]
          },
          "metadata": {}
        },
        {
          "output_type": "display_data",
          "data": {
            "text/plain": [
              "<IPython.core.display.HTML object>"
            ],
            "text/html": [
              " View sweep at <a href='https://wandb.ai/da24m027-indian-institute-of-technology-madras/DA6401_Assignment1/sweeps/xy966igu' target=\"_blank\">https://wandb.ai/da24m027-indian-institute-of-technology-madras/DA6401_Assignment1/sweeps/xy966igu</a>"
            ]
          },
          "metadata": {}
        },
        {
          "output_type": "display_data",
          "data": {
            "text/plain": [
              "<IPython.core.display.HTML object>"
            ],
            "text/html": [
              " View run at <a href='https://wandb.ai/da24m027-indian-institute-of-technology-madras/DA6401_Assignment1/runs/cd3ahkkb' target=\"_blank\">https://wandb.ai/da24m027-indian-institute-of-technology-madras/DA6401_Assignment1/runs/cd3ahkkb</a>"
            ]
          },
          "metadata": {}
        },
        {
          "output_type": "stream",
          "name": "stdout",
          "text": [
            "Epoch 1/10, Loss: 0.0072, Val Loss: 0.2287, Val Accuracy: 0.1565\n",
            "Epoch 2/10, Loss: 0.0051, Val Loss: 0.0969, Val Accuracy: 0.6017\n",
            "Epoch 3/10, Loss: 0.0027, Val Loss: 0.0794, Val Accuracy: 0.7168\n",
            "Epoch 4/10, Loss: 0.0022, Val Loss: 0.0707, Val Accuracy: 0.7493\n",
            "Epoch 5/10, Loss: 0.0020, Val Loss: 0.0653, Val Accuracy: 0.7663\n",
            "Epoch 6/10, Loss: 0.0019, Val Loss: 0.0588, Val Accuracy: 0.7917\n",
            "Epoch 7/10, Loss: 0.0017, Val Loss: 0.0518, Val Accuracy: 0.8227\n",
            "Epoch 8/10, Loss: 0.0015, Val Loss: 0.0470, Val Accuracy: 0.8370\n",
            "Epoch 9/10, Loss: 0.0014, Val Loss: 0.0449, Val Accuracy: 0.8428\n",
            "Epoch 10/10, Loss: 0.0013, Val Loss: 0.0426, Val Accuracy: 0.8495\n"
          ]
        },
        {
          "output_type": "display_data",
          "data": {
            "text/plain": [
              "<IPython.core.display.HTML object>"
            ],
            "text/html": []
          },
          "metadata": {}
        },
        {
          "output_type": "display_data",
          "data": {
            "text/plain": [
              "<IPython.core.display.HTML object>"
            ],
            "text/html": [
              "<br>    <style><br>        .wandb-row {<br>            display: flex;<br>            flex-direction: row;<br>            flex-wrap: wrap;<br>            justify-content: flex-start;<br>            width: 100%;<br>        }<br>        .wandb-col {<br>            display: flex;<br>            flex-direction: column;<br>            flex-basis: 100%;<br>            flex: 1;<br>            padding: 10px;<br>        }<br>    </style><br><div class=\"wandb-row\"><div class=\"wandb-col\"><h3>Run history:</h3><br/><table class=\"wandb\"><tr><td>epoch</td><td>▁▁▂▂▃▃▃▃▄▄▅▅▆▆▆▆▇▇██</td></tr><tr><td>loss</td><td>█▆▃▂▂▂▁▁▁▁</td></tr><tr><td>val_accuracy</td><td>▁▅▇▇▇▇████</td></tr><tr><td>val_loss</td><td>█▃▂▂▂▂▁▁▁▁</td></tr></table><br/></div><div class=\"wandb-col\"><h3>Run summary:</h3><br/><table class=\"wandb\"><tr><td>epoch</td><td>10</td></tr><tr><td>loss</td><td>0.00129</td></tr><tr><td>val_accuracy</td><td>0.8495</td></tr><tr><td>val_loss</td><td>0.04256</td></tr></table><br/></div></div>"
            ]
          },
          "metadata": {}
        },
        {
          "output_type": "display_data",
          "data": {
            "text/plain": [
              "<IPython.core.display.HTML object>"
            ],
            "text/html": [
              " View run <strong style=\"color:#cdcd00\">e_10_hl_5_hs_64_lr_0.001_opt_nesterov_bs_32_init_Xavier_ac_ReLU_wd_0_loss_cross_entropy</strong> at: <a href='https://wandb.ai/da24m027-indian-institute-of-technology-madras/DA6401_Assignment1/runs/cd3ahkkb' target=\"_blank\">https://wandb.ai/da24m027-indian-institute-of-technology-madras/DA6401_Assignment1/runs/cd3ahkkb</a><br> View project at: <a href='https://wandb.ai/da24m027-indian-institute-of-technology-madras/DA6401_Assignment1' target=\"_blank\">https://wandb.ai/da24m027-indian-institute-of-technology-madras/DA6401_Assignment1</a><br>Synced 5 W&B file(s), 0 media file(s), 0 artifact file(s) and 0 other file(s)"
            ]
          },
          "metadata": {}
        },
        {
          "output_type": "display_data",
          "data": {
            "text/plain": [
              "<IPython.core.display.HTML object>"
            ],
            "text/html": [
              "Find logs at: <code>./wandb/run-20250308_072001-cd3ahkkb/logs</code>"
            ]
          },
          "metadata": {}
        },
        {
          "output_type": "stream",
          "name": "stderr",
          "text": [
            "\u001b[34m\u001b[1mwandb\u001b[0m: Sweep Agent: Waiting for job.\n",
            "\u001b[34m\u001b[1mwandb\u001b[0m: Job received.\n",
            "\u001b[34m\u001b[1mwandb\u001b[0m: Agent Starting Run: 1fmhq07v with config:\n",
            "\u001b[34m\u001b[1mwandb\u001b[0m: \tactivation: sigmoid\n",
            "\u001b[34m\u001b[1mwandb\u001b[0m: \tbatch_size: 32\n",
            "\u001b[34m\u001b[1mwandb\u001b[0m: \tepochs: 10\n",
            "\u001b[34m\u001b[1mwandb\u001b[0m: \thidden_layers: 3\n",
            "\u001b[34m\u001b[1mwandb\u001b[0m: \thidden_size: 64\n",
            "\u001b[34m\u001b[1mwandb\u001b[0m: \tlearning_rate: 0.0001\n",
            "\u001b[34m\u001b[1mwandb\u001b[0m: \tloss_type: cross_entropy\n",
            "\u001b[34m\u001b[1mwandb\u001b[0m: \toptimizer: nadam\n",
            "\u001b[34m\u001b[1mwandb\u001b[0m: \tweight_decay: 0\n",
            "\u001b[34m\u001b[1mwandb\u001b[0m: \tweights: random\n"
          ]
        },
        {
          "output_type": "display_data",
          "data": {
            "text/plain": [
              "<IPython.core.display.HTML object>"
            ],
            "text/html": [
              "Tracking run with wandb version 0.19.7"
            ]
          },
          "metadata": {}
        },
        {
          "output_type": "display_data",
          "data": {
            "text/plain": [
              "<IPython.core.display.HTML object>"
            ],
            "text/html": [
              "Run data is saved locally in <code>/content/wandb/run-20250308_072052-1fmhq07v</code>"
            ]
          },
          "metadata": {}
        },
        {
          "output_type": "display_data",
          "data": {
            "text/plain": [
              "<IPython.core.display.HTML object>"
            ],
            "text/html": [
              "Syncing run <strong><a href='https://wandb.ai/da24m027-indian-institute-of-technology-madras/DA6401_Assignment1/runs/1fmhq07v' target=\"_blank\">light-sweep-84</a></strong> to <a href='https://wandb.ai/da24m027-indian-institute-of-technology-madras/DA6401_Assignment1' target=\"_blank\">Weights & Biases</a> (<a href='https://wandb.me/developer-guide' target=\"_blank\">docs</a>)<br>Sweep page: <a href='https://wandb.ai/da24m027-indian-institute-of-technology-madras/DA6401_Assignment1/sweeps/xy966igu' target=\"_blank\">https://wandb.ai/da24m027-indian-institute-of-technology-madras/DA6401_Assignment1/sweeps/xy966igu</a>"
            ]
          },
          "metadata": {}
        },
        {
          "output_type": "display_data",
          "data": {
            "text/plain": [
              "<IPython.core.display.HTML object>"
            ],
            "text/html": [
              " View project at <a href='https://wandb.ai/da24m027-indian-institute-of-technology-madras/DA6401_Assignment1' target=\"_blank\">https://wandb.ai/da24m027-indian-institute-of-technology-madras/DA6401_Assignment1</a>"
            ]
          },
          "metadata": {}
        },
        {
          "output_type": "display_data",
          "data": {
            "text/plain": [
              "<IPython.core.display.HTML object>"
            ],
            "text/html": [
              " View sweep at <a href='https://wandb.ai/da24m027-indian-institute-of-technology-madras/DA6401_Assignment1/sweeps/xy966igu' target=\"_blank\">https://wandb.ai/da24m027-indian-institute-of-technology-madras/DA6401_Assignment1/sweeps/xy966igu</a>"
            ]
          },
          "metadata": {}
        },
        {
          "output_type": "display_data",
          "data": {
            "text/plain": [
              "<IPython.core.display.HTML object>"
            ],
            "text/html": [
              " View run at <a href='https://wandb.ai/da24m027-indian-institute-of-technology-madras/DA6401_Assignment1/runs/1fmhq07v' target=\"_blank\">https://wandb.ai/da24m027-indian-institute-of-technology-madras/DA6401_Assignment1/runs/1fmhq07v</a>"
            ]
          },
          "metadata": {}
        },
        {
          "output_type": "stream",
          "name": "stdout",
          "text": [
            "Epoch 1/10, Loss: 0.0453, Val Loss: 1.4522, Val Accuracy: 0.0990\n",
            "Epoch 2/10, Loss: 0.0454, Val Loss: 1.4614, Val Accuracy: 0.0933\n",
            "Epoch 3/10, Loss: 0.0455, Val Loss: 1.4522, Val Accuracy: 0.0990\n",
            "Epoch 4/10, Loss: 0.0453, Val Loss: 1.4485, Val Accuracy: 0.1013\n",
            "Epoch 5/10, Loss: 0.0454, Val Loss: 1.4533, Val Accuracy: 0.0983\n",
            "Epoch 6/10, Loss: 0.0453, Val Loss: 1.4549, Val Accuracy: 0.0973\n",
            "Epoch 7/10, Loss: 0.0453, Val Loss: 1.4391, Val Accuracy: 0.1072\n",
            "Epoch 8/10, Loss: 0.0453, Val Loss: 1.4522, Val Accuracy: 0.0990\n",
            "Epoch 9/10, Loss: 0.0454, Val Loss: 1.4549, Val Accuracy: 0.0973\n",
            "Epoch 10/10, Loss: 0.0453, Val Loss: 1.4533, Val Accuracy: 0.0983\n"
          ]
        },
        {
          "output_type": "display_data",
          "data": {
            "text/plain": [
              "<IPython.core.display.HTML object>"
            ],
            "text/html": []
          },
          "metadata": {}
        },
        {
          "output_type": "display_data",
          "data": {
            "text/plain": [
              "<IPython.core.display.HTML object>"
            ],
            "text/html": [
              "<br>    <style><br>        .wandb-row {<br>            display: flex;<br>            flex-direction: row;<br>            flex-wrap: wrap;<br>            justify-content: flex-start;<br>            width: 100%;<br>        }<br>        .wandb-col {<br>            display: flex;<br>            flex-direction: column;<br>            flex-basis: 100%;<br>            flex: 1;<br>            padding: 10px;<br>        }<br>    </style><br><div class=\"wandb-row\"><div class=\"wandb-col\"><h3>Run history:</h3><br/><table class=\"wandb\"><tr><td>epoch</td><td>▁▁▂▂▃▃▃▃▄▄▅▅▆▆▆▆▇▇██</td></tr><tr><td>loss</td><td>▁▇█▂▇▂▁▃▆▁</td></tr><tr><td>val_accuracy</td><td>▄▁▄▅▄▃█▄▃▄</td></tr><tr><td>val_loss</td><td>▅█▅▄▅▆▁▅▆▅</td></tr></table><br/></div><div class=\"wandb-col\"><h3>Run summary:</h3><br/><table class=\"wandb\"><tr><td>epoch</td><td>10</td></tr><tr><td>loss</td><td>0.0453</td></tr><tr><td>val_accuracy</td><td>0.09833</td></tr><tr><td>val_loss</td><td>1.45331</td></tr></table><br/></div></div>"
            ]
          },
          "metadata": {}
        },
        {
          "output_type": "display_data",
          "data": {
            "text/plain": [
              "<IPython.core.display.HTML object>"
            ],
            "text/html": [
              " View run <strong style=\"color:#cdcd00\">e_10_hl_3_hs_64_lr_0.0001_opt_nadam_bs_32_init_random_ac_sigmoid_wd_0_loss_cross_entropy</strong> at: <a href='https://wandb.ai/da24m027-indian-institute-of-technology-madras/DA6401_Assignment1/runs/1fmhq07v' target=\"_blank\">https://wandb.ai/da24m027-indian-institute-of-technology-madras/DA6401_Assignment1/runs/1fmhq07v</a><br> View project at: <a href='https://wandb.ai/da24m027-indian-institute-of-technology-madras/DA6401_Assignment1' target=\"_blank\">https://wandb.ai/da24m027-indian-institute-of-technology-madras/DA6401_Assignment1</a><br>Synced 5 W&B file(s), 0 media file(s), 0 artifact file(s) and 0 other file(s)"
            ]
          },
          "metadata": {}
        },
        {
          "output_type": "display_data",
          "data": {
            "text/plain": [
              "<IPython.core.display.HTML object>"
            ],
            "text/html": [
              "Find logs at: <code>./wandb/run-20250308_072052-1fmhq07v/logs</code>"
            ]
          },
          "metadata": {}
        },
        {
          "output_type": "stream",
          "name": "stderr",
          "text": [
            "\u001b[34m\u001b[1mwandb\u001b[0m: Agent Starting Run: r2tzhmay with config:\n",
            "\u001b[34m\u001b[1mwandb\u001b[0m: \tactivation: ReLU\n",
            "\u001b[34m\u001b[1mwandb\u001b[0m: \tbatch_size: 32\n",
            "\u001b[34m\u001b[1mwandb\u001b[0m: \tepochs: 5\n",
            "\u001b[34m\u001b[1mwandb\u001b[0m: \thidden_layers: 3\n",
            "\u001b[34m\u001b[1mwandb\u001b[0m: \thidden_size: 64\n",
            "\u001b[34m\u001b[1mwandb\u001b[0m: \tlearning_rate: 0.0001\n",
            "\u001b[34m\u001b[1mwandb\u001b[0m: \tloss_type: mse\n",
            "\u001b[34m\u001b[1mwandb\u001b[0m: \toptimizer: nadam\n",
            "\u001b[34m\u001b[1mwandb\u001b[0m: \tweight_decay: 0.0005\n",
            "\u001b[34m\u001b[1mwandb\u001b[0m: \tweights: random\n"
          ]
        },
        {
          "output_type": "display_data",
          "data": {
            "text/plain": [
              "<IPython.core.display.HTML object>"
            ],
            "text/html": [
              "Tracking run with wandb version 0.19.7"
            ]
          },
          "metadata": {}
        },
        {
          "output_type": "display_data",
          "data": {
            "text/plain": [
              "<IPython.core.display.HTML object>"
            ],
            "text/html": [
              "Run data is saved locally in <code>/content/wandb/run-20250308_072138-r2tzhmay</code>"
            ]
          },
          "metadata": {}
        },
        {
          "output_type": "display_data",
          "data": {
            "text/plain": [
              "<IPython.core.display.HTML object>"
            ],
            "text/html": [
              "Syncing run <strong><a href='https://wandb.ai/da24m027-indian-institute-of-technology-madras/DA6401_Assignment1/runs/r2tzhmay' target=\"_blank\">absurd-sweep-85</a></strong> to <a href='https://wandb.ai/da24m027-indian-institute-of-technology-madras/DA6401_Assignment1' target=\"_blank\">Weights & Biases</a> (<a href='https://wandb.me/developer-guide' target=\"_blank\">docs</a>)<br>Sweep page: <a href='https://wandb.ai/da24m027-indian-institute-of-technology-madras/DA6401_Assignment1/sweeps/xy966igu' target=\"_blank\">https://wandb.ai/da24m027-indian-institute-of-technology-madras/DA6401_Assignment1/sweeps/xy966igu</a>"
            ]
          },
          "metadata": {}
        },
        {
          "output_type": "display_data",
          "data": {
            "text/plain": [
              "<IPython.core.display.HTML object>"
            ],
            "text/html": [
              " View project at <a href='https://wandb.ai/da24m027-indian-institute-of-technology-madras/DA6401_Assignment1' target=\"_blank\">https://wandb.ai/da24m027-indian-institute-of-technology-madras/DA6401_Assignment1</a>"
            ]
          },
          "metadata": {}
        },
        {
          "output_type": "display_data",
          "data": {
            "text/plain": [
              "<IPython.core.display.HTML object>"
            ],
            "text/html": [
              " View sweep at <a href='https://wandb.ai/da24m027-indian-institute-of-technology-madras/DA6401_Assignment1/sweeps/xy966igu' target=\"_blank\">https://wandb.ai/da24m027-indian-institute-of-technology-madras/DA6401_Assignment1/sweeps/xy966igu</a>"
            ]
          },
          "metadata": {}
        },
        {
          "output_type": "display_data",
          "data": {
            "text/plain": [
              "<IPython.core.display.HTML object>"
            ],
            "text/html": [
              " View run at <a href='https://wandb.ai/da24m027-indian-institute-of-technology-madras/DA6401_Assignment1/runs/r2tzhmay' target=\"_blank\">https://wandb.ai/da24m027-indian-institute-of-technology-madras/DA6401_Assignment1/runs/r2tzhmay</a>"
            ]
          },
          "metadata": {}
        },
        {
          "output_type": "stream",
          "name": "stdout",
          "text": [
            "Epoch 1/5, Loss: nan, Val Loss: nan, Val Accuracy: 0.0933\n",
            "Epoch 2/5, Loss: nan, Val Loss: nan, Val Accuracy: 0.0933\n",
            "Epoch 3/5, Loss: nan, Val Loss: nan, Val Accuracy: 0.0933\n",
            "Epoch 4/5, Loss: nan, Val Loss: nan, Val Accuracy: 0.0933\n",
            "Epoch 5/5, Loss: nan, Val Loss: nan, Val Accuracy: 0.0933\n"
          ]
        },
        {
          "output_type": "display_data",
          "data": {
            "text/plain": [
              "<IPython.core.display.HTML object>"
            ],
            "text/html": []
          },
          "metadata": {}
        },
        {
          "output_type": "display_data",
          "data": {
            "text/plain": [
              "<IPython.core.display.HTML object>"
            ],
            "text/html": [
              "<br>    <style><br>        .wandb-row {<br>            display: flex;<br>            flex-direction: row;<br>            flex-wrap: wrap;<br>            justify-content: flex-start;<br>            width: 100%;<br>        }<br>        .wandb-col {<br>            display: flex;<br>            flex-direction: column;<br>            flex-basis: 100%;<br>            flex: 1;<br>            padding: 10px;<br>        }<br>    </style><br><div class=\"wandb-row\"><div class=\"wandb-col\"><h3>Run history:</h3><br/><table class=\"wandb\"><tr><td>epoch</td><td>▁▁▃▃▅▅▆▆██</td></tr><tr><td>val_accuracy</td><td>▁▁▁▁▁</td></tr></table><br/></div><div class=\"wandb-col\"><h3>Run summary:</h3><br/><table class=\"wandb\"><tr><td>epoch</td><td>5</td></tr><tr><td>loss</td><td>nan</td></tr><tr><td>val_accuracy</td><td>0.09333</td></tr><tr><td>val_loss</td><td>nan</td></tr></table><br/></div></div>"
            ]
          },
          "metadata": {}
        },
        {
          "output_type": "display_data",
          "data": {
            "text/plain": [
              "<IPython.core.display.HTML object>"
            ],
            "text/html": [
              " View run <strong style=\"color:#cdcd00\">e_5_hl_3_hs_64_lr_0.0001_opt_nadam_bs_32_init_random_ac_ReLU_wd_0.0005_loss_mse</strong> at: <a href='https://wandb.ai/da24m027-indian-institute-of-technology-madras/DA6401_Assignment1/runs/r2tzhmay' target=\"_blank\">https://wandb.ai/da24m027-indian-institute-of-technology-madras/DA6401_Assignment1/runs/r2tzhmay</a><br> View project at: <a href='https://wandb.ai/da24m027-indian-institute-of-technology-madras/DA6401_Assignment1' target=\"_blank\">https://wandb.ai/da24m027-indian-institute-of-technology-madras/DA6401_Assignment1</a><br>Synced 5 W&B file(s), 0 media file(s), 0 artifact file(s) and 0 other file(s)"
            ]
          },
          "metadata": {}
        },
        {
          "output_type": "display_data",
          "data": {
            "text/plain": [
              "<IPython.core.display.HTML object>"
            ],
            "text/html": [
              "Find logs at: <code>./wandb/run-20250308_072138-r2tzhmay/logs</code>"
            ]
          },
          "metadata": {}
        },
        {
          "output_type": "stream",
          "name": "stderr",
          "text": [
            "\u001b[34m\u001b[1mwandb\u001b[0m: Agent Starting Run: 1hpc1yct with config:\n",
            "\u001b[34m\u001b[1mwandb\u001b[0m: \tactivation: ReLU\n",
            "\u001b[34m\u001b[1mwandb\u001b[0m: \tbatch_size: 16\n",
            "\u001b[34m\u001b[1mwandb\u001b[0m: \tepochs: 5\n",
            "\u001b[34m\u001b[1mwandb\u001b[0m: \thidden_layers: 4\n",
            "\u001b[34m\u001b[1mwandb\u001b[0m: \thidden_size: 128\n",
            "\u001b[34m\u001b[1mwandb\u001b[0m: \tlearning_rate: 0.001\n",
            "\u001b[34m\u001b[1mwandb\u001b[0m: \tloss_type: cross_entropy\n",
            "\u001b[34m\u001b[1mwandb\u001b[0m: \toptimizer: momentum\n",
            "\u001b[34m\u001b[1mwandb\u001b[0m: \tweight_decay: 0.5\n",
            "\u001b[34m\u001b[1mwandb\u001b[0m: \tweights: Xavier\n"
          ]
        },
        {
          "output_type": "display_data",
          "data": {
            "text/plain": [
              "<IPython.core.display.HTML object>"
            ],
            "text/html": [
              "Tracking run with wandb version 0.19.7"
            ]
          },
          "metadata": {}
        },
        {
          "output_type": "display_data",
          "data": {
            "text/plain": [
              "<IPython.core.display.HTML object>"
            ],
            "text/html": [
              "Run data is saved locally in <code>/content/wandb/run-20250308_072204-1hpc1yct</code>"
            ]
          },
          "metadata": {}
        },
        {
          "output_type": "display_data",
          "data": {
            "text/plain": [
              "<IPython.core.display.HTML object>"
            ],
            "text/html": [
              "Syncing run <strong><a href='https://wandb.ai/da24m027-indian-institute-of-technology-madras/DA6401_Assignment1/runs/1hpc1yct' target=\"_blank\">resilient-sweep-86</a></strong> to <a href='https://wandb.ai/da24m027-indian-institute-of-technology-madras/DA6401_Assignment1' target=\"_blank\">Weights & Biases</a> (<a href='https://wandb.me/developer-guide' target=\"_blank\">docs</a>)<br>Sweep page: <a href='https://wandb.ai/da24m027-indian-institute-of-technology-madras/DA6401_Assignment1/sweeps/xy966igu' target=\"_blank\">https://wandb.ai/da24m027-indian-institute-of-technology-madras/DA6401_Assignment1/sweeps/xy966igu</a>"
            ]
          },
          "metadata": {}
        },
        {
          "output_type": "display_data",
          "data": {
            "text/plain": [
              "<IPython.core.display.HTML object>"
            ],
            "text/html": [
              " View project at <a href='https://wandb.ai/da24m027-indian-institute-of-technology-madras/DA6401_Assignment1' target=\"_blank\">https://wandb.ai/da24m027-indian-institute-of-technology-madras/DA6401_Assignment1</a>"
            ]
          },
          "metadata": {}
        },
        {
          "output_type": "display_data",
          "data": {
            "text/plain": [
              "<IPython.core.display.HTML object>"
            ],
            "text/html": [
              " View sweep at <a href='https://wandb.ai/da24m027-indian-institute-of-technology-madras/DA6401_Assignment1/sweeps/xy966igu' target=\"_blank\">https://wandb.ai/da24m027-indian-institute-of-technology-madras/DA6401_Assignment1/sweeps/xy966igu</a>"
            ]
          },
          "metadata": {}
        },
        {
          "output_type": "display_data",
          "data": {
            "text/plain": [
              "<IPython.core.display.HTML object>"
            ],
            "text/html": [
              " View run at <a href='https://wandb.ai/da24m027-indian-institute-of-technology-madras/DA6401_Assignment1/runs/1hpc1yct' target=\"_blank\">https://wandb.ai/da24m027-indian-institute-of-technology-madras/DA6401_Assignment1/runs/1hpc1yct</a>"
            ]
          },
          "metadata": {}
        },
        {
          "output_type": "stream",
          "name": "stdout",
          "text": [
            "Epoch 1/5, Loss: 0.0144, Val Loss: 0.2303, Val Accuracy: 0.0933\n",
            "Epoch 2/5, Loss: 0.0144, Val Loss: 0.2303, Val Accuracy: 0.0933\n",
            "Epoch 3/5, Loss: 0.0144, Val Loss: 0.2303, Val Accuracy: 0.0933\n",
            "Epoch 4/5, Loss: 0.0144, Val Loss: 0.2303, Val Accuracy: 0.0933\n",
            "Epoch 5/5, Loss: 0.0144, Val Loss: 0.2303, Val Accuracy: 0.0933\n"
          ]
        },
        {
          "output_type": "display_data",
          "data": {
            "text/plain": [
              "<IPython.core.display.HTML object>"
            ],
            "text/html": []
          },
          "metadata": {}
        },
        {
          "output_type": "display_data",
          "data": {
            "text/plain": [
              "<IPython.core.display.HTML object>"
            ],
            "text/html": [
              "<br>    <style><br>        .wandb-row {<br>            display: flex;<br>            flex-direction: row;<br>            flex-wrap: wrap;<br>            justify-content: flex-start;<br>            width: 100%;<br>        }<br>        .wandb-col {<br>            display: flex;<br>            flex-direction: column;<br>            flex-basis: 100%;<br>            flex: 1;<br>            padding: 10px;<br>        }<br>    </style><br><div class=\"wandb-row\"><div class=\"wandb-col\"><h3>Run history:</h3><br/><table class=\"wandb\"><tr><td>epoch</td><td>▁▁▃▃▅▅▆▆██</td></tr><tr><td>loss</td><td>▁████</td></tr><tr><td>val_accuracy</td><td>▁▁▁▁▁</td></tr><tr><td>val_loss</td><td>▁▁▁▁▁</td></tr></table><br/></div><div class=\"wandb-col\"><h3>Run summary:</h3><br/><table class=\"wandb\"><tr><td>epoch</td><td>5</td></tr><tr><td>loss</td><td>0.01439</td></tr><tr><td>val_accuracy</td><td>0.09333</td></tr><tr><td>val_loss</td><td>0.23026</td></tr></table><br/></div></div>"
            ]
          },
          "metadata": {}
        },
        {
          "output_type": "display_data",
          "data": {
            "text/plain": [
              "<IPython.core.display.HTML object>"
            ],
            "text/html": [
              " View run <strong style=\"color:#cdcd00\">e_5_hl_4_hs_128_lr_0.001_opt_momentum_bs_16_init_Xavier_ac_ReLU_wd_0.5_loss_cross_entropy</strong> at: <a href='https://wandb.ai/da24m027-indian-institute-of-technology-madras/DA6401_Assignment1/runs/1hpc1yct' target=\"_blank\">https://wandb.ai/da24m027-indian-institute-of-technology-madras/DA6401_Assignment1/runs/1hpc1yct</a><br> View project at: <a href='https://wandb.ai/da24m027-indian-institute-of-technology-madras/DA6401_Assignment1' target=\"_blank\">https://wandb.ai/da24m027-indian-institute-of-technology-madras/DA6401_Assignment1</a><br>Synced 5 W&B file(s), 0 media file(s), 0 artifact file(s) and 0 other file(s)"
            ]
          },
          "metadata": {}
        },
        {
          "output_type": "display_data",
          "data": {
            "text/plain": [
              "<IPython.core.display.HTML object>"
            ],
            "text/html": [
              "Find logs at: <code>./wandb/run-20250308_072204-1hpc1yct/logs</code>"
            ]
          },
          "metadata": {}
        },
        {
          "output_type": "stream",
          "name": "stderr",
          "text": [
            "\u001b[34m\u001b[1mwandb\u001b[0m: Agent Starting Run: cbv6j53m with config:\n",
            "\u001b[34m\u001b[1mwandb\u001b[0m: \tactivation: ReLU\n",
            "\u001b[34m\u001b[1mwandb\u001b[0m: \tbatch_size: 32\n",
            "\u001b[34m\u001b[1mwandb\u001b[0m: \tepochs: 5\n",
            "\u001b[34m\u001b[1mwandb\u001b[0m: \thidden_layers: 3\n",
            "\u001b[34m\u001b[1mwandb\u001b[0m: \thidden_size: 128\n",
            "\u001b[34m\u001b[1mwandb\u001b[0m: \tlearning_rate: 0.001\n",
            "\u001b[34m\u001b[1mwandb\u001b[0m: \tloss_type: cross_entropy\n",
            "\u001b[34m\u001b[1mwandb\u001b[0m: \toptimizer: rmsprop\n",
            "\u001b[34m\u001b[1mwandb\u001b[0m: \tweight_decay: 0.5\n",
            "\u001b[34m\u001b[1mwandb\u001b[0m: \tweights: random\n"
          ]
        },
        {
          "output_type": "display_data",
          "data": {
            "text/plain": [
              "<IPython.core.display.HTML object>"
            ],
            "text/html": [
              "Tracking run with wandb version 0.19.7"
            ]
          },
          "metadata": {}
        },
        {
          "output_type": "display_data",
          "data": {
            "text/plain": [
              "<IPython.core.display.HTML object>"
            ],
            "text/html": [
              "Run data is saved locally in <code>/content/wandb/run-20250308_072311-cbv6j53m</code>"
            ]
          },
          "metadata": {}
        },
        {
          "output_type": "display_data",
          "data": {
            "text/plain": [
              "<IPython.core.display.HTML object>"
            ],
            "text/html": [
              "Syncing run <strong><a href='https://wandb.ai/da24m027-indian-institute-of-technology-madras/DA6401_Assignment1/runs/cbv6j53m' target=\"_blank\">legendary-sweep-87</a></strong> to <a href='https://wandb.ai/da24m027-indian-institute-of-technology-madras/DA6401_Assignment1' target=\"_blank\">Weights & Biases</a> (<a href='https://wandb.me/developer-guide' target=\"_blank\">docs</a>)<br>Sweep page: <a href='https://wandb.ai/da24m027-indian-institute-of-technology-madras/DA6401_Assignment1/sweeps/xy966igu' target=\"_blank\">https://wandb.ai/da24m027-indian-institute-of-technology-madras/DA6401_Assignment1/sweeps/xy966igu</a>"
            ]
          },
          "metadata": {}
        },
        {
          "output_type": "display_data",
          "data": {
            "text/plain": [
              "<IPython.core.display.HTML object>"
            ],
            "text/html": [
              " View project at <a href='https://wandb.ai/da24m027-indian-institute-of-technology-madras/DA6401_Assignment1' target=\"_blank\">https://wandb.ai/da24m027-indian-institute-of-technology-madras/DA6401_Assignment1</a>"
            ]
          },
          "metadata": {}
        },
        {
          "output_type": "display_data",
          "data": {
            "text/plain": [
              "<IPython.core.display.HTML object>"
            ],
            "text/html": [
              " View sweep at <a href='https://wandb.ai/da24m027-indian-institute-of-technology-madras/DA6401_Assignment1/sweeps/xy966igu' target=\"_blank\">https://wandb.ai/da24m027-indian-institute-of-technology-madras/DA6401_Assignment1/sweeps/xy966igu</a>"
            ]
          },
          "metadata": {}
        },
        {
          "output_type": "display_data",
          "data": {
            "text/plain": [
              "<IPython.core.display.HTML object>"
            ],
            "text/html": [
              " View run at <a href='https://wandb.ai/da24m027-indian-institute-of-technology-madras/DA6401_Assignment1/runs/cbv6j53m' target=\"_blank\">https://wandb.ai/da24m027-indian-institute-of-technology-madras/DA6401_Assignment1/runs/cbv6j53m</a>"
            ]
          },
          "metadata": {}
        },
        {
          "output_type": "stream",
          "name": "stdout",
          "text": [
            "Epoch 1/5, Loss: 0.0072, Val Loss: 0.2303, Val Accuracy: 0.0007\n",
            "Epoch 2/5, Loss: 0.0072, Val Loss: 0.2303, Val Accuracy: 0.0007\n",
            "Epoch 3/5, Loss: 0.0072, Val Loss: 0.2303, Val Accuracy: 0.0007\n",
            "Epoch 4/5, Loss: 0.0072, Val Loss: 0.2303, Val Accuracy: 0.0007\n",
            "Epoch 5/5, Loss: 0.0072, Val Loss: 0.2303, Val Accuracy: 0.0007\n"
          ]
        },
        {
          "output_type": "display_data",
          "data": {
            "text/plain": [
              "<IPython.core.display.HTML object>"
            ],
            "text/html": []
          },
          "metadata": {}
        },
        {
          "output_type": "display_data",
          "data": {
            "text/plain": [
              "<IPython.core.display.HTML object>"
            ],
            "text/html": [
              "<br>    <style><br>        .wandb-row {<br>            display: flex;<br>            flex-direction: row;<br>            flex-wrap: wrap;<br>            justify-content: flex-start;<br>            width: 100%;<br>        }<br>        .wandb-col {<br>            display: flex;<br>            flex-direction: column;<br>            flex-basis: 100%;<br>            flex: 1;<br>            padding: 10px;<br>        }<br>    </style><br><div class=\"wandb-row\"><div class=\"wandb-col\"><h3>Run history:</h3><br/><table class=\"wandb\"><tr><td>epoch</td><td>▁▁▃▃▅▅▆▆██</td></tr><tr><td>loss</td><td>▁▁▁▁▁</td></tr><tr><td>val_accuracy</td><td>▁▁▁▁▁</td></tr><tr><td>val_loss</td><td>▁▁▁▁▁</td></tr></table><br/></div><div class=\"wandb-col\"><h3>Run summary:</h3><br/><table class=\"wandb\"><tr><td>epoch</td><td>5</td></tr><tr><td>loss</td><td>0.0072</td></tr><tr><td>val_accuracy</td><td>0.00067</td></tr><tr><td>val_loss</td><td>0.23026</td></tr></table><br/></div></div>"
            ]
          },
          "metadata": {}
        },
        {
          "output_type": "display_data",
          "data": {
            "text/plain": [
              "<IPython.core.display.HTML object>"
            ],
            "text/html": [
              " View run <strong style=\"color:#cdcd00\">e_5_hl_3_hs_128_lr_0.001_opt_rmsprop_bs_32_init_random_ac_ReLU_wd_0.5_loss_cross_entropy</strong> at: <a href='https://wandb.ai/da24m027-indian-institute-of-technology-madras/DA6401_Assignment1/runs/cbv6j53m' target=\"_blank\">https://wandb.ai/da24m027-indian-institute-of-technology-madras/DA6401_Assignment1/runs/cbv6j53m</a><br> View project at: <a href='https://wandb.ai/da24m027-indian-institute-of-technology-madras/DA6401_Assignment1' target=\"_blank\">https://wandb.ai/da24m027-indian-institute-of-technology-madras/DA6401_Assignment1</a><br>Synced 5 W&B file(s), 0 media file(s), 0 artifact file(s) and 0 other file(s)"
            ]
          },
          "metadata": {}
        },
        {
          "output_type": "display_data",
          "data": {
            "text/plain": [
              "<IPython.core.display.HTML object>"
            ],
            "text/html": [
              "Find logs at: <code>./wandb/run-20250308_072311-cbv6j53m/logs</code>"
            ]
          },
          "metadata": {}
        },
        {
          "output_type": "stream",
          "name": "stderr",
          "text": [
            "\u001b[34m\u001b[1mwandb\u001b[0m: Sweep Agent: Waiting for job.\n",
            "502 response executing GraphQL.\n",
            "\n",
            "<html><head>\n",
            "<meta http-equiv=\"content-type\" content=\"text/html;charset=utf-8\">\n",
            "<title>502 Server Error</title>\n",
            "</head>\n",
            "<body text=#000000 bgcolor=#ffffff>\n",
            "<h1>Error: Server Error</h1>\n",
            "<h2>The server encountered a temporary error and could not complete your request.<p>Please try again in 30 seconds.</h2>\n",
            "<h2></h2>\n",
            "</body></html>\n",
            "\n",
            "\u001b[34m\u001b[1mwandb\u001b[0m: Job received.\n",
            "\u001b[34m\u001b[1mwandb\u001b[0m: Agent Starting Run: d0z6mgh8 with config:\n",
            "\u001b[34m\u001b[1mwandb\u001b[0m: \tactivation: tanh\n",
            "\u001b[34m\u001b[1mwandb\u001b[0m: \tbatch_size: 64\n",
            "\u001b[34m\u001b[1mwandb\u001b[0m: \tepochs: 10\n",
            "\u001b[34m\u001b[1mwandb\u001b[0m: \thidden_layers: 3\n",
            "\u001b[34m\u001b[1mwandb\u001b[0m: \thidden_size: 64\n",
            "\u001b[34m\u001b[1mwandb\u001b[0m: \tlearning_rate: 0.001\n",
            "\u001b[34m\u001b[1mwandb\u001b[0m: \tloss_type: mse\n",
            "\u001b[34m\u001b[1mwandb\u001b[0m: \toptimizer: adam\n",
            "\u001b[34m\u001b[1mwandb\u001b[0m: \tweight_decay: 0.5\n",
            "\u001b[34m\u001b[1mwandb\u001b[0m: \tweights: Xavier\n"
          ]
        },
        {
          "output_type": "display_data",
          "data": {
            "text/plain": [
              "<IPython.core.display.HTML object>"
            ],
            "text/html": [
              "Tracking run with wandb version 0.19.7"
            ]
          },
          "metadata": {}
        },
        {
          "output_type": "display_data",
          "data": {
            "text/plain": [
              "<IPython.core.display.HTML object>"
            ],
            "text/html": [
              "Run data is saved locally in <code>/content/wandb/run-20250308_072433-d0z6mgh8</code>"
            ]
          },
          "metadata": {}
        },
        {
          "output_type": "display_data",
          "data": {
            "text/plain": [
              "<IPython.core.display.HTML object>"
            ],
            "text/html": [
              "Syncing run <strong><a href='https://wandb.ai/da24m027-indian-institute-of-technology-madras/DA6401_Assignment1/runs/d0z6mgh8' target=\"_blank\">young-sweep-88</a></strong> to <a href='https://wandb.ai/da24m027-indian-institute-of-technology-madras/DA6401_Assignment1' target=\"_blank\">Weights & Biases</a> (<a href='https://wandb.me/developer-guide' target=\"_blank\">docs</a>)<br>Sweep page: <a href='https://wandb.ai/da24m027-indian-institute-of-technology-madras/DA6401_Assignment1/sweeps/xy966igu' target=\"_blank\">https://wandb.ai/da24m027-indian-institute-of-technology-madras/DA6401_Assignment1/sweeps/xy966igu</a>"
            ]
          },
          "metadata": {}
        },
        {
          "output_type": "display_data",
          "data": {
            "text/plain": [
              "<IPython.core.display.HTML object>"
            ],
            "text/html": [
              " View project at <a href='https://wandb.ai/da24m027-indian-institute-of-technology-madras/DA6401_Assignment1' target=\"_blank\">https://wandb.ai/da24m027-indian-institute-of-technology-madras/DA6401_Assignment1</a>"
            ]
          },
          "metadata": {}
        },
        {
          "output_type": "display_data",
          "data": {
            "text/plain": [
              "<IPython.core.display.HTML object>"
            ],
            "text/html": [
              " View sweep at <a href='https://wandb.ai/da24m027-indian-institute-of-technology-madras/DA6401_Assignment1/sweeps/xy966igu' target=\"_blank\">https://wandb.ai/da24m027-indian-institute-of-technology-madras/DA6401_Assignment1/sweeps/xy966igu</a>"
            ]
          },
          "metadata": {}
        },
        {
          "output_type": "display_data",
          "data": {
            "text/plain": [
              "<IPython.core.display.HTML object>"
            ],
            "text/html": [
              " View run at <a href='https://wandb.ai/da24m027-indian-institute-of-technology-madras/DA6401_Assignment1/runs/d0z6mgh8' target=\"_blank\">https://wandb.ai/da24m027-indian-institute-of-technology-madras/DA6401_Assignment1/runs/d0z6mgh8</a>"
            ]
          },
          "metadata": {}
        },
        {
          "output_type": "stream",
          "name": "stdout",
          "text": [
            "Epoch 1/10, Loss: 0.0016, Val Loss: 0.1000, Val Accuracy: 0.1058\n",
            "Epoch 2/10, Loss: 0.0016, Val Loss: 0.1000, Val Accuracy: 0.0997\n",
            "Epoch 3/10, Loss: 0.0016, Val Loss: 0.1000, Val Accuracy: 0.1082\n",
            "Epoch 4/10, Loss: 0.0016, Val Loss: 0.1000, Val Accuracy: 0.0657\n",
            "Epoch 5/10, Loss: 0.0016, Val Loss: 0.1000, Val Accuracy: 0.1495\n",
            "Epoch 6/10, Loss: 0.0016, Val Loss: 0.1000, Val Accuracy: 0.0493\n",
            "Epoch 7/10, Loss: 0.0016, Val Loss: 0.1000, Val Accuracy: 0.1212\n",
            "Epoch 8/10, Loss: 0.0016, Val Loss: 0.1000, Val Accuracy: 0.0955\n",
            "Epoch 9/10, Loss: 0.0016, Val Loss: 0.1000, Val Accuracy: 0.1080\n",
            "Epoch 10/10, Loss: 0.0016, Val Loss: 0.1000, Val Accuracy: 0.0520\n"
          ]
        },
        {
          "output_type": "display_data",
          "data": {
            "text/plain": [
              "<IPython.core.display.HTML object>"
            ],
            "text/html": []
          },
          "metadata": {}
        },
        {
          "output_type": "display_data",
          "data": {
            "text/plain": [
              "<IPython.core.display.HTML object>"
            ],
            "text/html": [
              "<br>    <style><br>        .wandb-row {<br>            display: flex;<br>            flex-direction: row;<br>            flex-wrap: wrap;<br>            justify-content: flex-start;<br>            width: 100%;<br>        }<br>        .wandb-col {<br>            display: flex;<br>            flex-direction: column;<br>            flex-basis: 100%;<br>            flex: 1;<br>            padding: 10px;<br>        }<br>    </style><br><div class=\"wandb-row\"><div class=\"wandb-col\"><h3>Run history:</h3><br/><table class=\"wandb\"><tr><td>epoch</td><td>▁▁▂▂▃▃▃▃▄▄▅▅▆▆▆▆▇▇██</td></tr><tr><td>loss</td><td>▁█████████</td></tr><tr><td>val_accuracy</td><td>▅▅▅▂█▁▆▄▅▁</td></tr><tr><td>val_loss</td><td>▁▁▁▁▁▁▁▁▁▁</td></tr></table><br/></div><div class=\"wandb-col\"><h3>Run summary:</h3><br/><table class=\"wandb\"><tr><td>epoch</td><td>10</td></tr><tr><td>loss</td><td>0.00156</td></tr><tr><td>val_accuracy</td><td>0.052</td></tr><tr><td>val_loss</td><td>0.1</td></tr></table><br/></div></div>"
            ]
          },
          "metadata": {}
        },
        {
          "output_type": "display_data",
          "data": {
            "text/plain": [
              "<IPython.core.display.HTML object>"
            ],
            "text/html": [
              " View run <strong style=\"color:#cdcd00\">e_10_hl_3_hs_64_lr_0.001_opt_adam_bs_64_init_Xavier_ac_tanh_wd_0.5_loss_mse</strong> at: <a href='https://wandb.ai/da24m027-indian-institute-of-technology-madras/DA6401_Assignment1/runs/d0z6mgh8' target=\"_blank\">https://wandb.ai/da24m027-indian-institute-of-technology-madras/DA6401_Assignment1/runs/d0z6mgh8</a><br> View project at: <a href='https://wandb.ai/da24m027-indian-institute-of-technology-madras/DA6401_Assignment1' target=\"_blank\">https://wandb.ai/da24m027-indian-institute-of-technology-madras/DA6401_Assignment1</a><br>Synced 5 W&B file(s), 0 media file(s), 0 artifact file(s) and 0 other file(s)"
            ]
          },
          "metadata": {}
        },
        {
          "output_type": "display_data",
          "data": {
            "text/plain": [
              "<IPython.core.display.HTML object>"
            ],
            "text/html": [
              "Find logs at: <code>./wandb/run-20250308_072433-d0z6mgh8/logs</code>"
            ]
          },
          "metadata": {}
        },
        {
          "output_type": "stream",
          "name": "stderr",
          "text": [
            "\u001b[34m\u001b[1mwandb\u001b[0m: Sweep Agent: Waiting for job.\n",
            "\u001b[34m\u001b[1mwandb\u001b[0m: Job received.\n",
            "\u001b[34m\u001b[1mwandb\u001b[0m: Agent Starting Run: grevxcds with config:\n",
            "\u001b[34m\u001b[1mwandb\u001b[0m: \tactivation: ReLU\n",
            "\u001b[34m\u001b[1mwandb\u001b[0m: \tbatch_size: 64\n",
            "\u001b[34m\u001b[1mwandb\u001b[0m: \tepochs: 10\n",
            "\u001b[34m\u001b[1mwandb\u001b[0m: \thidden_layers: 3\n",
            "\u001b[34m\u001b[1mwandb\u001b[0m: \thidden_size: 32\n",
            "\u001b[34m\u001b[1mwandb\u001b[0m: \tlearning_rate: 0.001\n",
            "\u001b[34m\u001b[1mwandb\u001b[0m: \tloss_type: cross_entropy\n",
            "\u001b[34m\u001b[1mwandb\u001b[0m: \toptimizer: momentum\n",
            "\u001b[34m\u001b[1mwandb\u001b[0m: \tweight_decay: 0\n",
            "\u001b[34m\u001b[1mwandb\u001b[0m: \tweights: random\n"
          ]
        },
        {
          "output_type": "display_data",
          "data": {
            "text/plain": [
              "<IPython.core.display.HTML object>"
            ],
            "text/html": [
              "Tracking run with wandb version 0.19.7"
            ]
          },
          "metadata": {}
        },
        {
          "output_type": "display_data",
          "data": {
            "text/plain": [
              "<IPython.core.display.HTML object>"
            ],
            "text/html": [
              "Run data is saved locally in <code>/content/wandb/run-20250308_072509-grevxcds</code>"
            ]
          },
          "metadata": {}
        },
        {
          "output_type": "display_data",
          "data": {
            "text/plain": [
              "<IPython.core.display.HTML object>"
            ],
            "text/html": [
              "Syncing run <strong><a href='https://wandb.ai/da24m027-indian-institute-of-technology-madras/DA6401_Assignment1/runs/grevxcds' target=\"_blank\">skilled-sweep-89</a></strong> to <a href='https://wandb.ai/da24m027-indian-institute-of-technology-madras/DA6401_Assignment1' target=\"_blank\">Weights & Biases</a> (<a href='https://wandb.me/developer-guide' target=\"_blank\">docs</a>)<br>Sweep page: <a href='https://wandb.ai/da24m027-indian-institute-of-technology-madras/DA6401_Assignment1/sweeps/xy966igu' target=\"_blank\">https://wandb.ai/da24m027-indian-institute-of-technology-madras/DA6401_Assignment1/sweeps/xy966igu</a>"
            ]
          },
          "metadata": {}
        },
        {
          "output_type": "display_data",
          "data": {
            "text/plain": [
              "<IPython.core.display.HTML object>"
            ],
            "text/html": [
              " View project at <a href='https://wandb.ai/da24m027-indian-institute-of-technology-madras/DA6401_Assignment1' target=\"_blank\">https://wandb.ai/da24m027-indian-institute-of-technology-madras/DA6401_Assignment1</a>"
            ]
          },
          "metadata": {}
        },
        {
          "output_type": "display_data",
          "data": {
            "text/plain": [
              "<IPython.core.display.HTML object>"
            ],
            "text/html": [
              " View sweep at <a href='https://wandb.ai/da24m027-indian-institute-of-technology-madras/DA6401_Assignment1/sweeps/xy966igu' target=\"_blank\">https://wandb.ai/da24m027-indian-institute-of-technology-madras/DA6401_Assignment1/sweeps/xy966igu</a>"
            ]
          },
          "metadata": {}
        },
        {
          "output_type": "display_data",
          "data": {
            "text/plain": [
              "<IPython.core.display.HTML object>"
            ],
            "text/html": [
              " View run at <a href='https://wandb.ai/da24m027-indian-institute-of-technology-madras/DA6401_Assignment1/runs/grevxcds' target=\"_blank\">https://wandb.ai/da24m027-indian-institute-of-technology-madras/DA6401_Assignment1/runs/grevxcds</a>"
            ]
          },
          "metadata": {}
        },
        {
          "output_type": "stream",
          "name": "stdout",
          "text": [
            "Epoch 1/10, Loss: 0.0036, Val Loss: 0.2303, Val Accuracy: 0.1628\n",
            "Epoch 2/10, Loss: 0.0036, Val Loss: 0.2303, Val Accuracy: 0.1823\n",
            "Epoch 3/10, Loss: 0.0036, Val Loss: 0.2303, Val Accuracy: 0.2023\n",
            "Epoch 4/10, Loss: 0.0036, Val Loss: 0.2303, Val Accuracy: 0.2222\n",
            "Epoch 5/10, Loss: 0.0036, Val Loss: 0.2303, Val Accuracy: 0.2412\n",
            "Epoch 6/10, Loss: 0.0036, Val Loss: 0.2303, Val Accuracy: 0.2577\n",
            "Epoch 7/10, Loss: 0.0036, Val Loss: 0.2303, Val Accuracy: 0.2703\n",
            "Epoch 8/10, Loss: 0.0036, Val Loss: 0.2303, Val Accuracy: 0.2830\n",
            "Epoch 9/10, Loss: 0.0036, Val Loss: 0.2303, Val Accuracy: 0.2902\n",
            "Epoch 10/10, Loss: 0.0036, Val Loss: 0.2303, Val Accuracy: 0.2948\n"
          ]
        },
        {
          "output_type": "display_data",
          "data": {
            "text/plain": [
              "<IPython.core.display.HTML object>"
            ],
            "text/html": []
          },
          "metadata": {}
        },
        {
          "output_type": "display_data",
          "data": {
            "text/plain": [
              "<IPython.core.display.HTML object>"
            ],
            "text/html": [
              "<br>    <style><br>        .wandb-row {<br>            display: flex;<br>            flex-direction: row;<br>            flex-wrap: wrap;<br>            justify-content: flex-start;<br>            width: 100%;<br>        }<br>        .wandb-col {<br>            display: flex;<br>            flex-direction: column;<br>            flex-basis: 100%;<br>            flex: 1;<br>            padding: 10px;<br>        }<br>    </style><br><div class=\"wandb-row\"><div class=\"wandb-col\"><h3>Run history:</h3><br/><table class=\"wandb\"><tr><td>epoch</td><td>▁▁▂▂▃▃▃▃▄▄▅▅▆▆▆▆▇▇██</td></tr><tr><td>loss</td><td>██▇▆▅▅▄▃▂▁</td></tr><tr><td>val_accuracy</td><td>▁▂▃▄▅▆▇▇██</td></tr><tr><td>val_loss</td><td>██▇▆▆▅▄▃▂▁</td></tr></table><br/></div><div class=\"wandb-col\"><h3>Run summary:</h3><br/><table class=\"wandb\"><tr><td>epoch</td><td>10</td></tr><tr><td>loss</td><td>0.0036</td></tr><tr><td>val_accuracy</td><td>0.29483</td></tr><tr><td>val_loss</td><td>0.23026</td></tr></table><br/></div></div>"
            ]
          },
          "metadata": {}
        },
        {
          "output_type": "display_data",
          "data": {
            "text/plain": [
              "<IPython.core.display.HTML object>"
            ],
            "text/html": [
              " View run <strong style=\"color:#cdcd00\">e_10_hl_3_hs_32_lr_0.001_opt_momentum_bs_64_init_random_ac_ReLU_wd_0_loss_cross_entropy</strong> at: <a href='https://wandb.ai/da24m027-indian-institute-of-technology-madras/DA6401_Assignment1/runs/grevxcds' target=\"_blank\">https://wandb.ai/da24m027-indian-institute-of-technology-madras/DA6401_Assignment1/runs/grevxcds</a><br> View project at: <a href='https://wandb.ai/da24m027-indian-institute-of-technology-madras/DA6401_Assignment1' target=\"_blank\">https://wandb.ai/da24m027-indian-institute-of-technology-madras/DA6401_Assignment1</a><br>Synced 5 W&B file(s), 0 media file(s), 0 artifact file(s) and 0 other file(s)"
            ]
          },
          "metadata": {}
        },
        {
          "output_type": "display_data",
          "data": {
            "text/plain": [
              "<IPython.core.display.HTML object>"
            ],
            "text/html": [
              "Find logs at: <code>./wandb/run-20250308_072509-grevxcds/logs</code>"
            ]
          },
          "metadata": {}
        },
        {
          "output_type": "stream",
          "name": "stderr",
          "text": [
            "\u001b[34m\u001b[1mwandb\u001b[0m: Agent Starting Run: hiwzf9gn with config:\n",
            "\u001b[34m\u001b[1mwandb\u001b[0m: \tactivation: tanh\n",
            "\u001b[34m\u001b[1mwandb\u001b[0m: \tbatch_size: 16\n",
            "\u001b[34m\u001b[1mwandb\u001b[0m: \tepochs: 5\n",
            "\u001b[34m\u001b[1mwandb\u001b[0m: \thidden_layers: 5\n",
            "\u001b[34m\u001b[1mwandb\u001b[0m: \thidden_size: 128\n",
            "\u001b[34m\u001b[1mwandb\u001b[0m: \tlearning_rate: 0.001\n",
            "\u001b[34m\u001b[1mwandb\u001b[0m: \tloss_type: mse\n",
            "\u001b[34m\u001b[1mwandb\u001b[0m: \toptimizer: nadam\n",
            "\u001b[34m\u001b[1mwandb\u001b[0m: \tweight_decay: 0\n",
            "\u001b[34m\u001b[1mwandb\u001b[0m: \tweights: Xavier\n"
          ]
        },
        {
          "output_type": "display_data",
          "data": {
            "text/plain": [
              "<IPython.core.display.HTML object>"
            ],
            "text/html": [
              "Tracking run with wandb version 0.19.7"
            ]
          },
          "metadata": {}
        },
        {
          "output_type": "display_data",
          "data": {
            "text/plain": [
              "<IPython.core.display.HTML object>"
            ],
            "text/html": [
              "Run data is saved locally in <code>/content/wandb/run-20250308_072524-hiwzf9gn</code>"
            ]
          },
          "metadata": {}
        },
        {
          "output_type": "display_data",
          "data": {
            "text/plain": [
              "<IPython.core.display.HTML object>"
            ],
            "text/html": [
              "Syncing run <strong><a href='https://wandb.ai/da24m027-indian-institute-of-technology-madras/DA6401_Assignment1/runs/hiwzf9gn' target=\"_blank\">icy-sweep-90</a></strong> to <a href='https://wandb.ai/da24m027-indian-institute-of-technology-madras/DA6401_Assignment1' target=\"_blank\">Weights & Biases</a> (<a href='https://wandb.me/developer-guide' target=\"_blank\">docs</a>)<br>Sweep page: <a href='https://wandb.ai/da24m027-indian-institute-of-technology-madras/DA6401_Assignment1/sweeps/xy966igu' target=\"_blank\">https://wandb.ai/da24m027-indian-institute-of-technology-madras/DA6401_Assignment1/sweeps/xy966igu</a>"
            ]
          },
          "metadata": {}
        },
        {
          "output_type": "display_data",
          "data": {
            "text/plain": [
              "<IPython.core.display.HTML object>"
            ],
            "text/html": [
              " View project at <a href='https://wandb.ai/da24m027-indian-institute-of-technology-madras/DA6401_Assignment1' target=\"_blank\">https://wandb.ai/da24m027-indian-institute-of-technology-madras/DA6401_Assignment1</a>"
            ]
          },
          "metadata": {}
        },
        {
          "output_type": "display_data",
          "data": {
            "text/plain": [
              "<IPython.core.display.HTML object>"
            ],
            "text/html": [
              " View sweep at <a href='https://wandb.ai/da24m027-indian-institute-of-technology-madras/DA6401_Assignment1/sweeps/xy966igu' target=\"_blank\">https://wandb.ai/da24m027-indian-institute-of-technology-madras/DA6401_Assignment1/sweeps/xy966igu</a>"
            ]
          },
          "metadata": {}
        },
        {
          "output_type": "display_data",
          "data": {
            "text/plain": [
              "<IPython.core.display.HTML object>"
            ],
            "text/html": [
              " View run at <a href='https://wandb.ai/da24m027-indian-institute-of-technology-madras/DA6401_Assignment1/runs/hiwzf9gn' target=\"_blank\">https://wandb.ai/da24m027-indian-institute-of-technology-madras/DA6401_Assignment1/runs/hiwzf9gn</a>"
            ]
          },
          "metadata": {}
        },
        {
          "output_type": "stream",
          "name": "stdout",
          "text": [
            "Epoch 1/5, Loss: 0.0645, Val Loss: 1.0583, Val Accuracy: 0.1360\n",
            "Epoch 2/5, Loss: 0.0642, Val Loss: 1.0751, Val Accuracy: 0.0897\n",
            "Epoch 3/5, Loss: 0.0638, Val Loss: 0.9803, Val Accuracy: 0.0943\n",
            "Epoch 4/5, Loss: 0.0637, Val Loss: 1.1304, Val Accuracy: 0.1318\n",
            "Epoch 5/5, Loss: 0.0637, Val Loss: 0.9725, Val Accuracy: 0.0930\n"
          ]
        },
        {
          "output_type": "display_data",
          "data": {
            "text/plain": [
              "<IPython.core.display.HTML object>"
            ],
            "text/html": []
          },
          "metadata": {}
        },
        {
          "output_type": "display_data",
          "data": {
            "text/plain": [
              "<IPython.core.display.HTML object>"
            ],
            "text/html": [
              "<br>    <style><br>        .wandb-row {<br>            display: flex;<br>            flex-direction: row;<br>            flex-wrap: wrap;<br>            justify-content: flex-start;<br>            width: 100%;<br>        }<br>        .wandb-col {<br>            display: flex;<br>            flex-direction: column;<br>            flex-basis: 100%;<br>            flex: 1;<br>            padding: 10px;<br>        }<br>    </style><br><div class=\"wandb-row\"><div class=\"wandb-col\"><h3>Run history:</h3><br/><table class=\"wandb\"><tr><td>epoch</td><td>▁▁▃▃▅▅▆▆██</td></tr><tr><td>loss</td><td>█▅▂▁▁</td></tr><tr><td>val_accuracy</td><td>█▁▂▇▂</td></tr><tr><td>val_loss</td><td>▅▆▁█▁</td></tr></table><br/></div><div class=\"wandb-col\"><h3>Run summary:</h3><br/><table class=\"wandb\"><tr><td>epoch</td><td>5</td></tr><tr><td>loss</td><td>0.06368</td></tr><tr><td>val_accuracy</td><td>0.093</td></tr><tr><td>val_loss</td><td>0.97253</td></tr></table><br/></div></div>"
            ]
          },
          "metadata": {}
        },
        {
          "output_type": "display_data",
          "data": {
            "text/plain": [
              "<IPython.core.display.HTML object>"
            ],
            "text/html": [
              " View run <strong style=\"color:#cdcd00\">e_5_hl_5_hs_128_lr_0.001_opt_nadam_bs_16_init_Xavier_ac_tanh_wd_0_loss_mse</strong> at: <a href='https://wandb.ai/da24m027-indian-institute-of-technology-madras/DA6401_Assignment1/runs/hiwzf9gn' target=\"_blank\">https://wandb.ai/da24m027-indian-institute-of-technology-madras/DA6401_Assignment1/runs/hiwzf9gn</a><br> View project at: <a href='https://wandb.ai/da24m027-indian-institute-of-technology-madras/DA6401_Assignment1' target=\"_blank\">https://wandb.ai/da24m027-indian-institute-of-technology-madras/DA6401_Assignment1</a><br>Synced 5 W&B file(s), 0 media file(s), 0 artifact file(s) and 0 other file(s)"
            ]
          },
          "metadata": {}
        },
        {
          "output_type": "display_data",
          "data": {
            "text/plain": [
              "<IPython.core.display.HTML object>"
            ],
            "text/html": [
              "Find logs at: <code>./wandb/run-20250308_072524-hiwzf9gn/logs</code>"
            ]
          },
          "metadata": {}
        },
        {
          "output_type": "stream",
          "name": "stderr",
          "text": [
            "\u001b[34m\u001b[1mwandb\u001b[0m: Agent Starting Run: 92qqd3ij with config:\n",
            "\u001b[34m\u001b[1mwandb\u001b[0m: \tactivation: sigmoid\n",
            "\u001b[34m\u001b[1mwandb\u001b[0m: \tbatch_size: 64\n",
            "\u001b[34m\u001b[1mwandb\u001b[0m: \tepochs: 10\n",
            "\u001b[34m\u001b[1mwandb\u001b[0m: \thidden_layers: 4\n",
            "\u001b[34m\u001b[1mwandb\u001b[0m: \thidden_size: 64\n",
            "\u001b[34m\u001b[1mwandb\u001b[0m: \tlearning_rate: 0.001\n",
            "\u001b[34m\u001b[1mwandb\u001b[0m: \tloss_type: mse\n",
            "\u001b[34m\u001b[1mwandb\u001b[0m: \toptimizer: sgd\n",
            "\u001b[34m\u001b[1mwandb\u001b[0m: \tweight_decay: 0.5\n",
            "\u001b[34m\u001b[1mwandb\u001b[0m: \tweights: Xavier\n"
          ]
        },
        {
          "output_type": "display_data",
          "data": {
            "text/plain": [
              "<IPython.core.display.HTML object>"
            ],
            "text/html": [
              "Tracking run with wandb version 0.19.7"
            ]
          },
          "metadata": {}
        },
        {
          "output_type": "display_data",
          "data": {
            "text/plain": [
              "<IPython.core.display.HTML object>"
            ],
            "text/html": [
              "Run data is saved locally in <code>/content/wandb/run-20250308_072646-92qqd3ij</code>"
            ]
          },
          "metadata": {}
        },
        {
          "output_type": "display_data",
          "data": {
            "text/plain": [
              "<IPython.core.display.HTML object>"
            ],
            "text/html": [
              "Syncing run <strong><a href='https://wandb.ai/da24m027-indian-institute-of-technology-madras/DA6401_Assignment1/runs/92qqd3ij' target=\"_blank\">leafy-sweep-91</a></strong> to <a href='https://wandb.ai/da24m027-indian-institute-of-technology-madras/DA6401_Assignment1' target=\"_blank\">Weights & Biases</a> (<a href='https://wandb.me/developer-guide' target=\"_blank\">docs</a>)<br>Sweep page: <a href='https://wandb.ai/da24m027-indian-institute-of-technology-madras/DA6401_Assignment1/sweeps/xy966igu' target=\"_blank\">https://wandb.ai/da24m027-indian-institute-of-technology-madras/DA6401_Assignment1/sweeps/xy966igu</a>"
            ]
          },
          "metadata": {}
        },
        {
          "output_type": "display_data",
          "data": {
            "text/plain": [
              "<IPython.core.display.HTML object>"
            ],
            "text/html": [
              " View project at <a href='https://wandb.ai/da24m027-indian-institute-of-technology-madras/DA6401_Assignment1' target=\"_blank\">https://wandb.ai/da24m027-indian-institute-of-technology-madras/DA6401_Assignment1</a>"
            ]
          },
          "metadata": {}
        },
        {
          "output_type": "display_data",
          "data": {
            "text/plain": [
              "<IPython.core.display.HTML object>"
            ],
            "text/html": [
              " View sweep at <a href='https://wandb.ai/da24m027-indian-institute-of-technology-madras/DA6401_Assignment1/sweeps/xy966igu' target=\"_blank\">https://wandb.ai/da24m027-indian-institute-of-technology-madras/DA6401_Assignment1/sweeps/xy966igu</a>"
            ]
          },
          "metadata": {}
        },
        {
          "output_type": "display_data",
          "data": {
            "text/plain": [
              "<IPython.core.display.HTML object>"
            ],
            "text/html": [
              " View run at <a href='https://wandb.ai/da24m027-indian-institute-of-technology-madras/DA6401_Assignment1/runs/92qqd3ij' target=\"_blank\">https://wandb.ai/da24m027-indian-institute-of-technology-madras/DA6401_Assignment1/runs/92qqd3ij</a>"
            ]
          },
          "metadata": {}
        },
        {
          "output_type": "stream",
          "name": "stdout",
          "text": [
            "Epoch 1/10, Loss: 0.0019, Val Loss: 0.0983, Val Accuracy: 0.0973\n",
            "Epoch 2/10, Loss: 0.0015, Val Loss: 0.0969, Val Accuracy: 0.0973\n",
            "Epoch 3/10, Loss: 0.0015, Val Loss: 0.0967, Val Accuracy: 0.0973\n",
            "Epoch 4/10, Loss: 0.0015, Val Loss: 0.0967, Val Accuracy: 0.0973\n",
            "Epoch 5/10, Loss: 0.0015, Val Loss: 0.0967, Val Accuracy: 0.0973\n",
            "Epoch 6/10, Loss: 0.0015, Val Loss: 0.0967, Val Accuracy: 0.0973\n",
            "Epoch 7/10, Loss: 0.0015, Val Loss: 0.0967, Val Accuracy: 0.0973\n",
            "Epoch 8/10, Loss: 0.0015, Val Loss: 0.0967, Val Accuracy: 0.0973\n",
            "Epoch 9/10, Loss: 0.0015, Val Loss: 0.0967, Val Accuracy: 0.0973\n",
            "Epoch 10/10, Loss: 0.0015, Val Loss: 0.0967, Val Accuracy: 0.0973\n"
          ]
        },
        {
          "output_type": "display_data",
          "data": {
            "text/plain": [
              "<IPython.core.display.HTML object>"
            ],
            "text/html": []
          },
          "metadata": {}
        },
        {
          "output_type": "display_data",
          "data": {
            "text/plain": [
              "<IPython.core.display.HTML object>"
            ],
            "text/html": [
              "<br>    <style><br>        .wandb-row {<br>            display: flex;<br>            flex-direction: row;<br>            flex-wrap: wrap;<br>            justify-content: flex-start;<br>            width: 100%;<br>        }<br>        .wandb-col {<br>            display: flex;<br>            flex-direction: column;<br>            flex-basis: 100%;<br>            flex: 1;<br>            padding: 10px;<br>        }<br>    </style><br><div class=\"wandb-row\"><div class=\"wandb-col\"><h3>Run history:</h3><br/><table class=\"wandb\"><tr><td>epoch</td><td>▁▁▂▂▃▃▃▃▄▄▅▅▆▆▆▆▇▇██</td></tr><tr><td>loss</td><td>█▁▁▁▁▁▁▁▁▁</td></tr><tr><td>val_accuracy</td><td>▁▁▁▁▁▁▁▁▁▁</td></tr><tr><td>val_loss</td><td>█▂▁▁▁▁▁▁▁▁</td></tr></table><br/></div><div class=\"wandb-col\"><h3>Run summary:</h3><br/><table class=\"wandb\"><tr><td>epoch</td><td>10</td></tr><tr><td>loss</td><td>0.00151</td></tr><tr><td>val_accuracy</td><td>0.09733</td></tr><tr><td>val_loss</td><td>0.0967</td></tr></table><br/></div></div>"
            ]
          },
          "metadata": {}
        },
        {
          "output_type": "display_data",
          "data": {
            "text/plain": [
              "<IPython.core.display.HTML object>"
            ],
            "text/html": [
              " View run <strong style=\"color:#cdcd00\">e_10_hl_4_hs_64_lr_0.001_opt_sgd_bs_64_init_Xavier_ac_sigmoid_wd_0.5_loss_mse</strong> at: <a href='https://wandb.ai/da24m027-indian-institute-of-technology-madras/DA6401_Assignment1/runs/92qqd3ij' target=\"_blank\">https://wandb.ai/da24m027-indian-institute-of-technology-madras/DA6401_Assignment1/runs/92qqd3ij</a><br> View project at: <a href='https://wandb.ai/da24m027-indian-institute-of-technology-madras/DA6401_Assignment1' target=\"_blank\">https://wandb.ai/da24m027-indian-institute-of-technology-madras/DA6401_Assignment1</a><br>Synced 5 W&B file(s), 0 media file(s), 0 artifact file(s) and 0 other file(s)"
            ]
          },
          "metadata": {}
        },
        {
          "output_type": "display_data",
          "data": {
            "text/plain": [
              "<IPython.core.display.HTML object>"
            ],
            "text/html": [
              "Find logs at: <code>./wandb/run-20250308_072646-92qqd3ij/logs</code>"
            ]
          },
          "metadata": {}
        },
        {
          "output_type": "stream",
          "name": "stderr",
          "text": [
            "\u001b[34m\u001b[1mwandb\u001b[0m: Agent Starting Run: havexe88 with config:\n",
            "\u001b[34m\u001b[1mwandb\u001b[0m: \tactivation: ReLU\n",
            "\u001b[34m\u001b[1mwandb\u001b[0m: \tbatch_size: 32\n",
            "\u001b[34m\u001b[1mwandb\u001b[0m: \tepochs: 5\n",
            "\u001b[34m\u001b[1mwandb\u001b[0m: \thidden_layers: 5\n",
            "\u001b[34m\u001b[1mwandb\u001b[0m: \thidden_size: 64\n",
            "\u001b[34m\u001b[1mwandb\u001b[0m: \tlearning_rate: 0.001\n",
            "\u001b[34m\u001b[1mwandb\u001b[0m: \tloss_type: mse\n",
            "\u001b[34m\u001b[1mwandb\u001b[0m: \toptimizer: sgd\n",
            "\u001b[34m\u001b[1mwandb\u001b[0m: \tweight_decay: 0.0005\n",
            "\u001b[34m\u001b[1mwandb\u001b[0m: \tweights: random\n"
          ]
        },
        {
          "output_type": "display_data",
          "data": {
            "text/plain": [
              "<IPython.core.display.HTML object>"
            ],
            "text/html": [
              "Tracking run with wandb version 0.19.7"
            ]
          },
          "metadata": {}
        },
        {
          "output_type": "display_data",
          "data": {
            "text/plain": [
              "<IPython.core.display.HTML object>"
            ],
            "text/html": [
              "Run data is saved locally in <code>/content/wandb/run-20250308_072707-havexe88</code>"
            ]
          },
          "metadata": {}
        },
        {
          "output_type": "display_data",
          "data": {
            "text/plain": [
              "<IPython.core.display.HTML object>"
            ],
            "text/html": [
              "Syncing run <strong><a href='https://wandb.ai/da24m027-indian-institute-of-technology-madras/DA6401_Assignment1/runs/havexe88' target=\"_blank\">summer-sweep-92</a></strong> to <a href='https://wandb.ai/da24m027-indian-institute-of-technology-madras/DA6401_Assignment1' target=\"_blank\">Weights & Biases</a> (<a href='https://wandb.me/developer-guide' target=\"_blank\">docs</a>)<br>Sweep page: <a href='https://wandb.ai/da24m027-indian-institute-of-technology-madras/DA6401_Assignment1/sweeps/xy966igu' target=\"_blank\">https://wandb.ai/da24m027-indian-institute-of-technology-madras/DA6401_Assignment1/sweeps/xy966igu</a>"
            ]
          },
          "metadata": {}
        },
        {
          "output_type": "display_data",
          "data": {
            "text/plain": [
              "<IPython.core.display.HTML object>"
            ],
            "text/html": [
              " View project at <a href='https://wandb.ai/da24m027-indian-institute-of-technology-madras/DA6401_Assignment1' target=\"_blank\">https://wandb.ai/da24m027-indian-institute-of-technology-madras/DA6401_Assignment1</a>"
            ]
          },
          "metadata": {}
        },
        {
          "output_type": "display_data",
          "data": {
            "text/plain": [
              "<IPython.core.display.HTML object>"
            ],
            "text/html": [
              " View sweep at <a href='https://wandb.ai/da24m027-indian-institute-of-technology-madras/DA6401_Assignment1/sweeps/xy966igu' target=\"_blank\">https://wandb.ai/da24m027-indian-institute-of-technology-madras/DA6401_Assignment1/sweeps/xy966igu</a>"
            ]
          },
          "metadata": {}
        },
        {
          "output_type": "display_data",
          "data": {
            "text/plain": [
              "<IPython.core.display.HTML object>"
            ],
            "text/html": [
              " View run at <a href='https://wandb.ai/da24m027-indian-institute-of-technology-madras/DA6401_Assignment1/runs/havexe88' target=\"_blank\">https://wandb.ai/da24m027-indian-institute-of-technology-madras/DA6401_Assignment1/runs/havexe88</a>"
            ]
          },
          "metadata": {}
        },
        {
          "output_type": "stream",
          "name": "stdout",
          "text": [
            "Epoch 1/5, Loss: 0.0031, Val Loss: 0.1000, Val Accuracy: 0.1008\n",
            "Epoch 2/5, Loss: 0.0031, Val Loss: 0.1000, Val Accuracy: 0.1008\n",
            "Epoch 3/5, Loss: 0.0031, Val Loss: 0.1000, Val Accuracy: 0.1008\n",
            "Epoch 4/5, Loss: 0.0031, Val Loss: 0.1000, Val Accuracy: 0.1008\n",
            "Epoch 5/5, Loss: 0.0031, Val Loss: 0.1000, Val Accuracy: 0.1008\n"
          ]
        },
        {
          "output_type": "display_data",
          "data": {
            "text/plain": [
              "<IPython.core.display.HTML object>"
            ],
            "text/html": []
          },
          "metadata": {}
        },
        {
          "output_type": "display_data",
          "data": {
            "text/plain": [
              "<IPython.core.display.HTML object>"
            ],
            "text/html": [
              "<br>    <style><br>        .wandb-row {<br>            display: flex;<br>            flex-direction: row;<br>            flex-wrap: wrap;<br>            justify-content: flex-start;<br>            width: 100%;<br>        }<br>        .wandb-col {<br>            display: flex;<br>            flex-direction: column;<br>            flex-basis: 100%;<br>            flex: 1;<br>            padding: 10px;<br>        }<br>    </style><br><div class=\"wandb-row\"><div class=\"wandb-col\"><h3>Run history:</h3><br/><table class=\"wandb\"><tr><td>epoch</td><td>▁▁▃▃▅▅▆▆██</td></tr><tr><td>loss</td><td>▁▁▁▁▁</td></tr><tr><td>val_accuracy</td><td>▁▁▁▁▁</td></tr><tr><td>val_loss</td><td>▁▁▁▁▁</td></tr></table><br/></div><div class=\"wandb-col\"><h3>Run summary:</h3><br/><table class=\"wandb\"><tr><td>epoch</td><td>5</td></tr><tr><td>loss</td><td>0.00313</td></tr><tr><td>val_accuracy</td><td>0.10083</td></tr><tr><td>val_loss</td><td>0.1</td></tr></table><br/></div></div>"
            ]
          },
          "metadata": {}
        },
        {
          "output_type": "display_data",
          "data": {
            "text/plain": [
              "<IPython.core.display.HTML object>"
            ],
            "text/html": [
              " View run <strong style=\"color:#cdcd00\">e_5_hl_5_hs_64_lr_0.001_opt_sgd_bs_32_init_random_ac_ReLU_wd_0.0005_loss_mse</strong> at: <a href='https://wandb.ai/da24m027-indian-institute-of-technology-madras/DA6401_Assignment1/runs/havexe88' target=\"_blank\">https://wandb.ai/da24m027-indian-institute-of-technology-madras/DA6401_Assignment1/runs/havexe88</a><br> View project at: <a href='https://wandb.ai/da24m027-indian-institute-of-technology-madras/DA6401_Assignment1' target=\"_blank\">https://wandb.ai/da24m027-indian-institute-of-technology-madras/DA6401_Assignment1</a><br>Synced 5 W&B file(s), 0 media file(s), 0 artifact file(s) and 0 other file(s)"
            ]
          },
          "metadata": {}
        },
        {
          "output_type": "display_data",
          "data": {
            "text/plain": [
              "<IPython.core.display.HTML object>"
            ],
            "text/html": [
              "Find logs at: <code>./wandb/run-20250308_072707-havexe88/logs</code>"
            ]
          },
          "metadata": {}
        },
        {
          "output_type": "stream",
          "name": "stderr",
          "text": [
            "\u001b[34m\u001b[1mwandb\u001b[0m: Agent Starting Run: qig76akm with config:\n",
            "\u001b[34m\u001b[1mwandb\u001b[0m: \tactivation: tanh\n",
            "\u001b[34m\u001b[1mwandb\u001b[0m: \tbatch_size: 16\n",
            "\u001b[34m\u001b[1mwandb\u001b[0m: \tepochs: 10\n",
            "\u001b[34m\u001b[1mwandb\u001b[0m: \thidden_layers: 5\n",
            "\u001b[34m\u001b[1mwandb\u001b[0m: \thidden_size: 128\n",
            "\u001b[34m\u001b[1mwandb\u001b[0m: \tlearning_rate: 0.001\n",
            "\u001b[34m\u001b[1mwandb\u001b[0m: \tloss_type: mse\n",
            "\u001b[34m\u001b[1mwandb\u001b[0m: \toptimizer: sgd\n",
            "\u001b[34m\u001b[1mwandb\u001b[0m: \tweight_decay: 0.5\n",
            "\u001b[34m\u001b[1mwandb\u001b[0m: \tweights: random\n"
          ]
        },
        {
          "output_type": "display_data",
          "data": {
            "text/plain": [
              "<IPython.core.display.HTML object>"
            ],
            "text/html": [
              "Tracking run with wandb version 0.19.7"
            ]
          },
          "metadata": {}
        },
        {
          "output_type": "display_data",
          "data": {
            "text/plain": [
              "<IPython.core.display.HTML object>"
            ],
            "text/html": [
              "Run data is saved locally in <code>/content/wandb/run-20250308_072727-qig76akm</code>"
            ]
          },
          "metadata": {}
        },
        {
          "output_type": "display_data",
          "data": {
            "text/plain": [
              "<IPython.core.display.HTML object>"
            ],
            "text/html": [
              "Syncing run <strong><a href='https://wandb.ai/da24m027-indian-institute-of-technology-madras/DA6401_Assignment1/runs/qig76akm' target=\"_blank\">misty-sweep-93</a></strong> to <a href='https://wandb.ai/da24m027-indian-institute-of-technology-madras/DA6401_Assignment1' target=\"_blank\">Weights & Biases</a> (<a href='https://wandb.me/developer-guide' target=\"_blank\">docs</a>)<br>Sweep page: <a href='https://wandb.ai/da24m027-indian-institute-of-technology-madras/DA6401_Assignment1/sweeps/xy966igu' target=\"_blank\">https://wandb.ai/da24m027-indian-institute-of-technology-madras/DA6401_Assignment1/sweeps/xy966igu</a>"
            ]
          },
          "metadata": {}
        },
        {
          "output_type": "display_data",
          "data": {
            "text/plain": [
              "<IPython.core.display.HTML object>"
            ],
            "text/html": [
              " View project at <a href='https://wandb.ai/da24m027-indian-institute-of-technology-madras/DA6401_Assignment1' target=\"_blank\">https://wandb.ai/da24m027-indian-institute-of-technology-madras/DA6401_Assignment1</a>"
            ]
          },
          "metadata": {}
        },
        {
          "output_type": "display_data",
          "data": {
            "text/plain": [
              "<IPython.core.display.HTML object>"
            ],
            "text/html": [
              " View sweep at <a href='https://wandb.ai/da24m027-indian-institute-of-technology-madras/DA6401_Assignment1/sweeps/xy966igu' target=\"_blank\">https://wandb.ai/da24m027-indian-institute-of-technology-madras/DA6401_Assignment1/sweeps/xy966igu</a>"
            ]
          },
          "metadata": {}
        },
        {
          "output_type": "display_data",
          "data": {
            "text/plain": [
              "<IPython.core.display.HTML object>"
            ],
            "text/html": [
              " View run at <a href='https://wandb.ai/da24m027-indian-institute-of-technology-madras/DA6401_Assignment1/runs/qig76akm' target=\"_blank\">https://wandb.ai/da24m027-indian-institute-of-technology-madras/DA6401_Assignment1/runs/qig76akm</a>"
            ]
          },
          "metadata": {}
        },
        {
          "output_type": "stream",
          "name": "stdout",
          "text": [
            "Epoch 1/10, Loss: 0.0062, Val Loss: 0.1000, Val Accuracy: 0.1108\n",
            "Epoch 2/10, Loss: 0.0063, Val Loss: 0.1000, Val Accuracy: 0.1108\n",
            "Epoch 3/10, Loss: 0.0063, Val Loss: 0.1000, Val Accuracy: 0.1108\n",
            "Epoch 4/10, Loss: 0.0063, Val Loss: 0.1000, Val Accuracy: 0.1108\n",
            "Epoch 5/10, Loss: 0.0063, Val Loss: 0.1000, Val Accuracy: 0.1108\n",
            "Epoch 6/10, Loss: 0.0063, Val Loss: 0.1000, Val Accuracy: 0.1108\n",
            "Epoch 7/10, Loss: 0.0063, Val Loss: 0.1000, Val Accuracy: 0.1108\n",
            "Epoch 8/10, Loss: 0.0063, Val Loss: 0.1000, Val Accuracy: 0.1108\n",
            "Epoch 9/10, Loss: 0.0063, Val Loss: 0.1000, Val Accuracy: 0.1108\n",
            "Epoch 10/10, Loss: 0.0063, Val Loss: 0.1000, Val Accuracy: 0.1108\n"
          ]
        },
        {
          "output_type": "display_data",
          "data": {
            "text/plain": [
              "<IPython.core.display.HTML object>"
            ],
            "text/html": []
          },
          "metadata": {}
        },
        {
          "output_type": "display_data",
          "data": {
            "text/plain": [
              "<IPython.core.display.HTML object>"
            ],
            "text/html": [
              "<br>    <style><br>        .wandb-row {<br>            display: flex;<br>            flex-direction: row;<br>            flex-wrap: wrap;<br>            justify-content: flex-start;<br>            width: 100%;<br>        }<br>        .wandb-col {<br>            display: flex;<br>            flex-direction: column;<br>            flex-basis: 100%;<br>            flex: 1;<br>            padding: 10px;<br>        }<br>    </style><br><div class=\"wandb-row\"><div class=\"wandb-col\"><h3>Run history:</h3><br/><table class=\"wandb\"><tr><td>epoch</td><td>▁▁▂▂▃▃▃▃▄▄▅▅▆▆▆▆▇▇██</td></tr><tr><td>loss</td><td>▁█████████</td></tr><tr><td>val_accuracy</td><td>▁▁▁▁▁▁▁▁▁▁</td></tr><tr><td>val_loss</td><td>▁▁▁▁▁▁▁▁▁▁</td></tr></table><br/></div><div class=\"wandb-col\"><h3>Run summary:</h3><br/><table class=\"wandb\"><tr><td>epoch</td><td>10</td></tr><tr><td>loss</td><td>0.00625</td></tr><tr><td>val_accuracy</td><td>0.11083</td></tr><tr><td>val_loss</td><td>0.1</td></tr></table><br/></div></div>"
            ]
          },
          "metadata": {}
        },
        {
          "output_type": "display_data",
          "data": {
            "text/plain": [
              "<IPython.core.display.HTML object>"
            ],
            "text/html": [
              " View run <strong style=\"color:#cdcd00\">e_10_hl_5_hs_128_lr_0.001_opt_sgd_bs_16_init_random_ac_tanh_wd_0.5_loss_mse</strong> at: <a href='https://wandb.ai/da24m027-indian-institute-of-technology-madras/DA6401_Assignment1/runs/qig76akm' target=\"_blank\">https://wandb.ai/da24m027-indian-institute-of-technology-madras/DA6401_Assignment1/runs/qig76akm</a><br> View project at: <a href='https://wandb.ai/da24m027-indian-institute-of-technology-madras/DA6401_Assignment1' target=\"_blank\">https://wandb.ai/da24m027-indian-institute-of-technology-madras/DA6401_Assignment1</a><br>Synced 5 W&B file(s), 0 media file(s), 0 artifact file(s) and 0 other file(s)"
            ]
          },
          "metadata": {}
        },
        {
          "output_type": "display_data",
          "data": {
            "text/plain": [
              "<IPython.core.display.HTML object>"
            ],
            "text/html": [
              "Find logs at: <code>./wandb/run-20250308_072727-qig76akm/logs</code>"
            ]
          },
          "metadata": {}
        },
        {
          "output_type": "stream",
          "name": "stderr",
          "text": [
            "\u001b[34m\u001b[1mwandb\u001b[0m: Agent Starting Run: 3l53m0ti with config:\n",
            "\u001b[34m\u001b[1mwandb\u001b[0m: \tactivation: ReLU\n",
            "\u001b[34m\u001b[1mwandb\u001b[0m: \tbatch_size: 32\n",
            "\u001b[34m\u001b[1mwandb\u001b[0m: \tepochs: 10\n",
            "\u001b[34m\u001b[1mwandb\u001b[0m: \thidden_layers: 4\n",
            "\u001b[34m\u001b[1mwandb\u001b[0m: \thidden_size: 128\n",
            "\u001b[34m\u001b[1mwandb\u001b[0m: \tlearning_rate: 0.0001\n",
            "\u001b[34m\u001b[1mwandb\u001b[0m: \tloss_type: cross_entropy\n",
            "\u001b[34m\u001b[1mwandb\u001b[0m: \toptimizer: adam\n",
            "\u001b[34m\u001b[1mwandb\u001b[0m: \tweight_decay: 0.0005\n",
            "\u001b[34m\u001b[1mwandb\u001b[0m: \tweights: Xavier\n"
          ]
        },
        {
          "output_type": "display_data",
          "data": {
            "text/plain": [
              "<IPython.core.display.HTML object>"
            ],
            "text/html": [
              "Tracking run with wandb version 0.19.7"
            ]
          },
          "metadata": {}
        },
        {
          "output_type": "display_data",
          "data": {
            "text/plain": [
              "<IPython.core.display.HTML object>"
            ],
            "text/html": [
              "Run data is saved locally in <code>/content/wandb/run-20250308_072929-3l53m0ti</code>"
            ]
          },
          "metadata": {}
        },
        {
          "output_type": "display_data",
          "data": {
            "text/plain": [
              "<IPython.core.display.HTML object>"
            ],
            "text/html": [
              "Syncing run <strong><a href='https://wandb.ai/da24m027-indian-institute-of-technology-madras/DA6401_Assignment1/runs/3l53m0ti' target=\"_blank\">different-sweep-94</a></strong> to <a href='https://wandb.ai/da24m027-indian-institute-of-technology-madras/DA6401_Assignment1' target=\"_blank\">Weights & Biases</a> (<a href='https://wandb.me/developer-guide' target=\"_blank\">docs</a>)<br>Sweep page: <a href='https://wandb.ai/da24m027-indian-institute-of-technology-madras/DA6401_Assignment1/sweeps/xy966igu' target=\"_blank\">https://wandb.ai/da24m027-indian-institute-of-technology-madras/DA6401_Assignment1/sweeps/xy966igu</a>"
            ]
          },
          "metadata": {}
        },
        {
          "output_type": "display_data",
          "data": {
            "text/plain": [
              "<IPython.core.display.HTML object>"
            ],
            "text/html": [
              " View project at <a href='https://wandb.ai/da24m027-indian-institute-of-technology-madras/DA6401_Assignment1' target=\"_blank\">https://wandb.ai/da24m027-indian-institute-of-technology-madras/DA6401_Assignment1</a>"
            ]
          },
          "metadata": {}
        },
        {
          "output_type": "display_data",
          "data": {
            "text/plain": [
              "<IPython.core.display.HTML object>"
            ],
            "text/html": [
              " View sweep at <a href='https://wandb.ai/da24m027-indian-institute-of-technology-madras/DA6401_Assignment1/sweeps/xy966igu' target=\"_blank\">https://wandb.ai/da24m027-indian-institute-of-technology-madras/DA6401_Assignment1/sweeps/xy966igu</a>"
            ]
          },
          "metadata": {}
        },
        {
          "output_type": "display_data",
          "data": {
            "text/plain": [
              "<IPython.core.display.HTML object>"
            ],
            "text/html": [
              " View run at <a href='https://wandb.ai/da24m027-indian-institute-of-technology-madras/DA6401_Assignment1/runs/3l53m0ti' target=\"_blank\">https://wandb.ai/da24m027-indian-institute-of-technology-madras/DA6401_Assignment1/runs/3l53m0ti</a>"
            ]
          },
          "metadata": {}
        },
        {
          "output_type": "stream",
          "name": "stdout",
          "text": [
            "Epoch 1/10, Loss: 0.0027, Val Loss: 0.0611, Val Accuracy: 0.7738\n",
            "Epoch 2/10, Loss: 0.0017, Val Loss: 0.0519, Val Accuracy: 0.8175\n",
            "Epoch 3/10, Loss: 0.0015, Val Loss: 0.0480, Val Accuracy: 0.8298\n",
            "Epoch 4/10, Loss: 0.0014, Val Loss: 0.0453, Val Accuracy: 0.8385\n",
            "Epoch 5/10, Loss: 0.0014, Val Loss: 0.0435, Val Accuracy: 0.8420\n",
            "Epoch 6/10, Loss: 0.0013, Val Loss: 0.0425, Val Accuracy: 0.8460\n",
            "Epoch 7/10, Loss: 0.0013, Val Loss: 0.0414, Val Accuracy: 0.8488\n",
            "Epoch 8/10, Loss: 0.0012, Val Loss: 0.0407, Val Accuracy: 0.8518\n",
            "Epoch 9/10, Loss: 0.0012, Val Loss: 0.0400, Val Accuracy: 0.8555\n",
            "Epoch 10/10, Loss: 0.0012, Val Loss: 0.0393, Val Accuracy: 0.8575\n"
          ]
        },
        {
          "output_type": "display_data",
          "data": {
            "text/plain": [
              "<IPython.core.display.HTML object>"
            ],
            "text/html": []
          },
          "metadata": {}
        },
        {
          "output_type": "display_data",
          "data": {
            "text/plain": [
              "<IPython.core.display.HTML object>"
            ],
            "text/html": [
              "<br>    <style><br>        .wandb-row {<br>            display: flex;<br>            flex-direction: row;<br>            flex-wrap: wrap;<br>            justify-content: flex-start;<br>            width: 100%;<br>        }<br>        .wandb-col {<br>            display: flex;<br>            flex-direction: column;<br>            flex-basis: 100%;<br>            flex: 1;<br>            padding: 10px;<br>        }<br>    </style><br><div class=\"wandb-row\"><div class=\"wandb-col\"><h3>Run history:</h3><br/><table class=\"wandb\"><tr><td>epoch</td><td>▁▁▂▂▃▃▃▃▄▄▅▅▆▆▆▆▇▇██</td></tr><tr><td>loss</td><td>█▄▃▂▂▂▁▁▁▁</td></tr><tr><td>val_accuracy</td><td>▁▅▆▆▇▇▇███</td></tr><tr><td>val_loss</td><td>█▅▄▃▂▂▂▁▁▁</td></tr></table><br/></div><div class=\"wandb-col\"><h3>Run summary:</h3><br/><table class=\"wandb\"><tr><td>epoch</td><td>10</td></tr><tr><td>loss</td><td>0.00117</td></tr><tr><td>val_accuracy</td><td>0.8575</td></tr><tr><td>val_loss</td><td>0.03931</td></tr></table><br/></div></div>"
            ]
          },
          "metadata": {}
        },
        {
          "output_type": "display_data",
          "data": {
            "text/plain": [
              "<IPython.core.display.HTML object>"
            ],
            "text/html": [
              " View run <strong style=\"color:#cdcd00\">e_10_hl_4_hs_128_lr_0.0001_opt_adam_bs_32_init_Xavier_ac_ReLU_wd_0.0005_loss_cross_entropy</strong> at: <a href='https://wandb.ai/da24m027-indian-institute-of-technology-madras/DA6401_Assignment1/runs/3l53m0ti' target=\"_blank\">https://wandb.ai/da24m027-indian-institute-of-technology-madras/DA6401_Assignment1/runs/3l53m0ti</a><br> View project at: <a href='https://wandb.ai/da24m027-indian-institute-of-technology-madras/DA6401_Assignment1' target=\"_blank\">https://wandb.ai/da24m027-indian-institute-of-technology-madras/DA6401_Assignment1</a><br>Synced 5 W&B file(s), 0 media file(s), 0 artifact file(s) and 0 other file(s)"
            ]
          },
          "metadata": {}
        },
        {
          "output_type": "display_data",
          "data": {
            "text/plain": [
              "<IPython.core.display.HTML object>"
            ],
            "text/html": [
              "Find logs at: <code>./wandb/run-20250308_072929-3l53m0ti/logs</code>"
            ]
          },
          "metadata": {}
        },
        {
          "output_type": "stream",
          "name": "stderr",
          "text": [
            "\u001b[34m\u001b[1mwandb\u001b[0m: Sweep Agent: Waiting for job.\n",
            "\u001b[34m\u001b[1mwandb\u001b[0m: Job received.\n",
            "\u001b[34m\u001b[1mwandb\u001b[0m: Agent Starting Run: kbpqmqmw with config:\n",
            "\u001b[34m\u001b[1mwandb\u001b[0m: \tactivation: ReLU\n",
            "\u001b[34m\u001b[1mwandb\u001b[0m: \tbatch_size: 32\n",
            "\u001b[34m\u001b[1mwandb\u001b[0m: \tepochs: 10\n",
            "\u001b[34m\u001b[1mwandb\u001b[0m: \thidden_layers: 5\n",
            "\u001b[34m\u001b[1mwandb\u001b[0m: \thidden_size: 64\n",
            "\u001b[34m\u001b[1mwandb\u001b[0m: \tlearning_rate: 0.001\n",
            "\u001b[34m\u001b[1mwandb\u001b[0m: \tloss_type: cross_entropy\n",
            "\u001b[34m\u001b[1mwandb\u001b[0m: \toptimizer: nesterov\n",
            "\u001b[34m\u001b[1mwandb\u001b[0m: \tweight_decay: 0\n",
            "\u001b[34m\u001b[1mwandb\u001b[0m: \tweights: Xavier\n"
          ]
        },
        {
          "output_type": "display_data",
          "data": {
            "text/plain": [
              "<IPython.core.display.HTML object>"
            ],
            "text/html": [
              "Tracking run with wandb version 0.19.7"
            ]
          },
          "metadata": {}
        },
        {
          "output_type": "display_data",
          "data": {
            "text/plain": [
              "<IPython.core.display.HTML object>"
            ],
            "text/html": [
              "Run data is saved locally in <code>/content/wandb/run-20250308_073059-kbpqmqmw</code>"
            ]
          },
          "metadata": {}
        },
        {
          "output_type": "display_data",
          "data": {
            "text/plain": [
              "<IPython.core.display.HTML object>"
            ],
            "text/html": [
              "Syncing run <strong><a href='https://wandb.ai/da24m027-indian-institute-of-technology-madras/DA6401_Assignment1/runs/kbpqmqmw' target=\"_blank\">sleek-sweep-95</a></strong> to <a href='https://wandb.ai/da24m027-indian-institute-of-technology-madras/DA6401_Assignment1' target=\"_blank\">Weights & Biases</a> (<a href='https://wandb.me/developer-guide' target=\"_blank\">docs</a>)<br>Sweep page: <a href='https://wandb.ai/da24m027-indian-institute-of-technology-madras/DA6401_Assignment1/sweeps/xy966igu' target=\"_blank\">https://wandb.ai/da24m027-indian-institute-of-technology-madras/DA6401_Assignment1/sweeps/xy966igu</a>"
            ]
          },
          "metadata": {}
        },
        {
          "output_type": "display_data",
          "data": {
            "text/plain": [
              "<IPython.core.display.HTML object>"
            ],
            "text/html": [
              " View project at <a href='https://wandb.ai/da24m027-indian-institute-of-technology-madras/DA6401_Assignment1' target=\"_blank\">https://wandb.ai/da24m027-indian-institute-of-technology-madras/DA6401_Assignment1</a>"
            ]
          },
          "metadata": {}
        },
        {
          "output_type": "display_data",
          "data": {
            "text/plain": [
              "<IPython.core.display.HTML object>"
            ],
            "text/html": [
              " View sweep at <a href='https://wandb.ai/da24m027-indian-institute-of-technology-madras/DA6401_Assignment1/sweeps/xy966igu' target=\"_blank\">https://wandb.ai/da24m027-indian-institute-of-technology-madras/DA6401_Assignment1/sweeps/xy966igu</a>"
            ]
          },
          "metadata": {}
        },
        {
          "output_type": "display_data",
          "data": {
            "text/plain": [
              "<IPython.core.display.HTML object>"
            ],
            "text/html": [
              " View run at <a href='https://wandb.ai/da24m027-indian-institute-of-technology-madras/DA6401_Assignment1/runs/kbpqmqmw' target=\"_blank\">https://wandb.ai/da24m027-indian-institute-of-technology-madras/DA6401_Assignment1/runs/kbpqmqmw</a>"
            ]
          },
          "metadata": {}
        },
        {
          "output_type": "stream",
          "name": "stdout",
          "text": [
            "Epoch 1/10, Loss: 0.0072, Val Loss: 0.2228, Val Accuracy: 0.1480\n",
            "Epoch 2/10, Loss: 0.0044, Val Loss: 0.0864, Val Accuracy: 0.6588\n",
            "Epoch 3/10, Loss: 0.0024, Val Loss: 0.0692, Val Accuracy: 0.7643\n",
            "Epoch 4/10, Loss: 0.0020, Val Loss: 0.0593, Val Accuracy: 0.8085\n",
            "Epoch 5/10, Loss: 0.0017, Val Loss: 0.0526, Val Accuracy: 0.8260\n",
            "Epoch 6/10, Loss: 0.0016, Val Loss: 0.0478, Val Accuracy: 0.8383\n",
            "Epoch 7/10, Loss: 0.0014, Val Loss: 0.0446, Val Accuracy: 0.8482\n",
            "Epoch 8/10, Loss: 0.0014, Val Loss: 0.0426, Val Accuracy: 0.8543\n",
            "Epoch 9/10, Loss: 0.0013, Val Loss: 0.0410, Val Accuracy: 0.8557\n",
            "Epoch 10/10, Loss: 0.0012, Val Loss: 0.0401, Val Accuracy: 0.8613\n"
          ]
        },
        {
          "output_type": "display_data",
          "data": {
            "text/plain": [
              "<IPython.core.display.HTML object>"
            ],
            "text/html": []
          },
          "metadata": {}
        },
        {
          "output_type": "display_data",
          "data": {
            "text/plain": [
              "<IPython.core.display.HTML object>"
            ],
            "text/html": [
              "<br>    <style><br>        .wandb-row {<br>            display: flex;<br>            flex-direction: row;<br>            flex-wrap: wrap;<br>            justify-content: flex-start;<br>            width: 100%;<br>        }<br>        .wandb-col {<br>            display: flex;<br>            flex-direction: column;<br>            flex-basis: 100%;<br>            flex: 1;<br>            padding: 10px;<br>        }<br>    </style><br><div class=\"wandb-row\"><div class=\"wandb-col\"><h3>Run history:</h3><br/><table class=\"wandb\"><tr><td>epoch</td><td>▁▁▂▂▃▃▃▃▄▄▅▅▆▆▆▆▇▇██</td></tr><tr><td>loss</td><td>█▅▂▂▂▁▁▁▁▁</td></tr><tr><td>val_accuracy</td><td>▁▆▇▇██████</td></tr><tr><td>val_loss</td><td>█▃▂▂▁▁▁▁▁▁</td></tr></table><br/></div><div class=\"wandb-col\"><h3>Run summary:</h3><br/><table class=\"wandb\"><tr><td>epoch</td><td>10</td></tr><tr><td>loss</td><td>0.00122</td></tr><tr><td>val_accuracy</td><td>0.86133</td></tr><tr><td>val_loss</td><td>0.04013</td></tr></table><br/></div></div>"
            ]
          },
          "metadata": {}
        },
        {
          "output_type": "display_data",
          "data": {
            "text/plain": [
              "<IPython.core.display.HTML object>"
            ],
            "text/html": [
              " View run <strong style=\"color:#cdcd00\">e_10_hl_5_hs_64_lr_0.001_opt_nesterov_bs_32_init_Xavier_ac_ReLU_wd_0_loss_cross_entropy</strong> at: <a href='https://wandb.ai/da24m027-indian-institute-of-technology-madras/DA6401_Assignment1/runs/kbpqmqmw' target=\"_blank\">https://wandb.ai/da24m027-indian-institute-of-technology-madras/DA6401_Assignment1/runs/kbpqmqmw</a><br> View project at: <a href='https://wandb.ai/da24m027-indian-institute-of-technology-madras/DA6401_Assignment1' target=\"_blank\">https://wandb.ai/da24m027-indian-institute-of-technology-madras/DA6401_Assignment1</a><br>Synced 5 W&B file(s), 0 media file(s), 0 artifact file(s) and 0 other file(s)"
            ]
          },
          "metadata": {}
        },
        {
          "output_type": "display_data",
          "data": {
            "text/plain": [
              "<IPython.core.display.HTML object>"
            ],
            "text/html": [
              "Find logs at: <code>./wandb/run-20250308_073059-kbpqmqmw/logs</code>"
            ]
          },
          "metadata": {}
        },
        {
          "output_type": "stream",
          "name": "stderr",
          "text": [
            "\u001b[34m\u001b[1mwandb\u001b[0m: Agent Starting Run: 1j2h01a2 with config:\n",
            "\u001b[34m\u001b[1mwandb\u001b[0m: \tactivation: ReLU\n",
            "\u001b[34m\u001b[1mwandb\u001b[0m: \tbatch_size: 64\n",
            "\u001b[34m\u001b[1mwandb\u001b[0m: \tepochs: 10\n",
            "\u001b[34m\u001b[1mwandb\u001b[0m: \thidden_layers: 4\n",
            "\u001b[34m\u001b[1mwandb\u001b[0m: \thidden_size: 128\n",
            "\u001b[34m\u001b[1mwandb\u001b[0m: \tlearning_rate: 0.0001\n",
            "\u001b[34m\u001b[1mwandb\u001b[0m: \tloss_type: cross_entropy\n",
            "\u001b[34m\u001b[1mwandb\u001b[0m: \toptimizer: rmsprop\n",
            "\u001b[34m\u001b[1mwandb\u001b[0m: \tweight_decay: 0.0005\n",
            "\u001b[34m\u001b[1mwandb\u001b[0m: \tweights: Xavier\n"
          ]
        },
        {
          "output_type": "display_data",
          "data": {
            "text/plain": [
              "<IPython.core.display.HTML object>"
            ],
            "text/html": [
              "Tracking run with wandb version 0.19.7"
            ]
          },
          "metadata": {}
        },
        {
          "output_type": "display_data",
          "data": {
            "text/plain": [
              "<IPython.core.display.HTML object>"
            ],
            "text/html": [
              "Run data is saved locally in <code>/content/wandb/run-20250308_073141-1j2h01a2</code>"
            ]
          },
          "metadata": {}
        },
        {
          "output_type": "display_data",
          "data": {
            "text/plain": [
              "<IPython.core.display.HTML object>"
            ],
            "text/html": [
              "Syncing run <strong><a href='https://wandb.ai/da24m027-indian-institute-of-technology-madras/DA6401_Assignment1/runs/1j2h01a2' target=\"_blank\">daily-sweep-96</a></strong> to <a href='https://wandb.ai/da24m027-indian-institute-of-technology-madras/DA6401_Assignment1' target=\"_blank\">Weights & Biases</a> (<a href='https://wandb.me/developer-guide' target=\"_blank\">docs</a>)<br>Sweep page: <a href='https://wandb.ai/da24m027-indian-institute-of-technology-madras/DA6401_Assignment1/sweeps/xy966igu' target=\"_blank\">https://wandb.ai/da24m027-indian-institute-of-technology-madras/DA6401_Assignment1/sweeps/xy966igu</a>"
            ]
          },
          "metadata": {}
        },
        {
          "output_type": "display_data",
          "data": {
            "text/plain": [
              "<IPython.core.display.HTML object>"
            ],
            "text/html": [
              " View project at <a href='https://wandb.ai/da24m027-indian-institute-of-technology-madras/DA6401_Assignment1' target=\"_blank\">https://wandb.ai/da24m027-indian-institute-of-technology-madras/DA6401_Assignment1</a>"
            ]
          },
          "metadata": {}
        },
        {
          "output_type": "display_data",
          "data": {
            "text/plain": [
              "<IPython.core.display.HTML object>"
            ],
            "text/html": [
              " View sweep at <a href='https://wandb.ai/da24m027-indian-institute-of-technology-madras/DA6401_Assignment1/sweeps/xy966igu' target=\"_blank\">https://wandb.ai/da24m027-indian-institute-of-technology-madras/DA6401_Assignment1/sweeps/xy966igu</a>"
            ]
          },
          "metadata": {}
        },
        {
          "output_type": "display_data",
          "data": {
            "text/plain": [
              "<IPython.core.display.HTML object>"
            ],
            "text/html": [
              " View run at <a href='https://wandb.ai/da24m027-indian-institute-of-technology-madras/DA6401_Assignment1/runs/1j2h01a2' target=\"_blank\">https://wandb.ai/da24m027-indian-institute-of-technology-madras/DA6401_Assignment1/runs/1j2h01a2</a>"
            ]
          },
          "metadata": {}
        },
        {
          "output_type": "stream",
          "name": "stdout",
          "text": [
            "Epoch 1/10, Loss: 0.0017, Val Loss: 0.0773, Val Accuracy: 0.7023\n",
            "Epoch 2/10, Loss: 0.0011, Val Loss: 0.0633, Val Accuracy: 0.7722\n",
            "Epoch 3/10, Loss: 0.0009, Val Loss: 0.0562, Val Accuracy: 0.7985\n",
            "Epoch 4/10, Loss: 0.0008, Val Loss: 0.0519, Val Accuracy: 0.8185\n",
            "Epoch 5/10, Loss: 0.0008, Val Loss: 0.0489, Val Accuracy: 0.8283\n",
            "Epoch 6/10, Loss: 0.0007, Val Loss: 0.0465, Val Accuracy: 0.8405\n",
            "Epoch 7/10, Loss: 0.0007, Val Loss: 0.0443, Val Accuracy: 0.8470\n",
            "Epoch 8/10, Loss: 0.0007, Val Loss: 0.0428, Val Accuracy: 0.8520\n",
            "Epoch 9/10, Loss: 0.0007, Val Loss: 0.0416, Val Accuracy: 0.8543\n",
            "Epoch 10/10, Loss: 0.0006, Val Loss: 0.0405, Val Accuracy: 0.8580\n"
          ]
        },
        {
          "output_type": "display_data",
          "data": {
            "text/plain": [
              "<IPython.core.display.HTML object>"
            ],
            "text/html": []
          },
          "metadata": {}
        },
        {
          "output_type": "display_data",
          "data": {
            "text/plain": [
              "<IPython.core.display.HTML object>"
            ],
            "text/html": [
              "<br>    <style><br>        .wandb-row {<br>            display: flex;<br>            flex-direction: row;<br>            flex-wrap: wrap;<br>            justify-content: flex-start;<br>            width: 100%;<br>        }<br>        .wandb-col {<br>            display: flex;<br>            flex-direction: column;<br>            flex-basis: 100%;<br>            flex: 1;<br>            padding: 10px;<br>        }<br>    </style><br><div class=\"wandb-row\"><div class=\"wandb-col\"><h3>Run history:</h3><br/><table class=\"wandb\"><tr><td>epoch</td><td>▁▁▂▂▃▃▃▃▄▄▅▅▆▆▆▆▇▇██</td></tr><tr><td>loss</td><td>█▄▃▂▂▂▁▁▁▁</td></tr><tr><td>val_accuracy</td><td>▁▄▅▆▇▇████</td></tr><tr><td>val_loss</td><td>█▅▄▃▃▂▂▁▁▁</td></tr></table><br/></div><div class=\"wandb-col\"><h3>Run summary:</h3><br/><table class=\"wandb\"><tr><td>epoch</td><td>10</td></tr><tr><td>loss</td><td>0.00064</td></tr><tr><td>val_accuracy</td><td>0.858</td></tr><tr><td>val_loss</td><td>0.04052</td></tr></table><br/></div></div>"
            ]
          },
          "metadata": {}
        },
        {
          "output_type": "display_data",
          "data": {
            "text/plain": [
              "<IPython.core.display.HTML object>"
            ],
            "text/html": [
              " View run <strong style=\"color:#cdcd00\">e_10_hl_4_hs_128_lr_0.0001_opt_rmsprop_bs_64_init_Xavier_ac_ReLU_wd_0.0005_loss_cross_entropy</strong> at: <a href='https://wandb.ai/da24m027-indian-institute-of-technology-madras/DA6401_Assignment1/runs/1j2h01a2' target=\"_blank\">https://wandb.ai/da24m027-indian-institute-of-technology-madras/DA6401_Assignment1/runs/1j2h01a2</a><br> View project at: <a href='https://wandb.ai/da24m027-indian-institute-of-technology-madras/DA6401_Assignment1' target=\"_blank\">https://wandb.ai/da24m027-indian-institute-of-technology-madras/DA6401_Assignment1</a><br>Synced 5 W&B file(s), 0 media file(s), 0 artifact file(s) and 0 other file(s)"
            ]
          },
          "metadata": {}
        },
        {
          "output_type": "display_data",
          "data": {
            "text/plain": [
              "<IPython.core.display.HTML object>"
            ],
            "text/html": [
              "Find logs at: <code>./wandb/run-20250308_073141-1j2h01a2/logs</code>"
            ]
          },
          "metadata": {}
        },
        {
          "output_type": "stream",
          "name": "stderr",
          "text": [
            "\u001b[34m\u001b[1mwandb\u001b[0m: Agent Starting Run: k6239z88 with config:\n",
            "\u001b[34m\u001b[1mwandb\u001b[0m: \tactivation: ReLU\n",
            "\u001b[34m\u001b[1mwandb\u001b[0m: \tbatch_size: 32\n",
            "\u001b[34m\u001b[1mwandb\u001b[0m: \tepochs: 10\n",
            "\u001b[34m\u001b[1mwandb\u001b[0m: \thidden_layers: 4\n",
            "\u001b[34m\u001b[1mwandb\u001b[0m: \thidden_size: 64\n",
            "\u001b[34m\u001b[1mwandb\u001b[0m: \tlearning_rate: 0.001\n",
            "\u001b[34m\u001b[1mwandb\u001b[0m: \tloss_type: mse\n",
            "\u001b[34m\u001b[1mwandb\u001b[0m: \toptimizer: adam\n",
            "\u001b[34m\u001b[1mwandb\u001b[0m: \tweight_decay: 0\n",
            "\u001b[34m\u001b[1mwandb\u001b[0m: \tweights: Xavier\n"
          ]
        },
        {
          "output_type": "display_data",
          "data": {
            "text/plain": [
              "<IPython.core.display.HTML object>"
            ],
            "text/html": [
              "Tracking run with wandb version 0.19.7"
            ]
          },
          "metadata": {}
        },
        {
          "output_type": "display_data",
          "data": {
            "text/plain": [
              "<IPython.core.display.HTML object>"
            ],
            "text/html": [
              "Run data is saved locally in <code>/content/wandb/run-20250308_073227-k6239z88</code>"
            ]
          },
          "metadata": {}
        },
        {
          "output_type": "display_data",
          "data": {
            "text/plain": [
              "<IPython.core.display.HTML object>"
            ],
            "text/html": [
              "Syncing run <strong><a href='https://wandb.ai/da24m027-indian-institute-of-technology-madras/DA6401_Assignment1/runs/k6239z88' target=\"_blank\">wise-sweep-97</a></strong> to <a href='https://wandb.ai/da24m027-indian-institute-of-technology-madras/DA6401_Assignment1' target=\"_blank\">Weights & Biases</a> (<a href='https://wandb.me/developer-guide' target=\"_blank\">docs</a>)<br>Sweep page: <a href='https://wandb.ai/da24m027-indian-institute-of-technology-madras/DA6401_Assignment1/sweeps/xy966igu' target=\"_blank\">https://wandb.ai/da24m027-indian-institute-of-technology-madras/DA6401_Assignment1/sweeps/xy966igu</a>"
            ]
          },
          "metadata": {}
        },
        {
          "output_type": "display_data",
          "data": {
            "text/plain": [
              "<IPython.core.display.HTML object>"
            ],
            "text/html": [
              " View project at <a href='https://wandb.ai/da24m027-indian-institute-of-technology-madras/DA6401_Assignment1' target=\"_blank\">https://wandb.ai/da24m027-indian-institute-of-technology-madras/DA6401_Assignment1</a>"
            ]
          },
          "metadata": {}
        },
        {
          "output_type": "display_data",
          "data": {
            "text/plain": [
              "<IPython.core.display.HTML object>"
            ],
            "text/html": [
              " View sweep at <a href='https://wandb.ai/da24m027-indian-institute-of-technology-madras/DA6401_Assignment1/sweeps/xy966igu' target=\"_blank\">https://wandb.ai/da24m027-indian-institute-of-technology-madras/DA6401_Assignment1/sweeps/xy966igu</a>"
            ]
          },
          "metadata": {}
        },
        {
          "output_type": "display_data",
          "data": {
            "text/plain": [
              "<IPython.core.display.HTML object>"
            ],
            "text/html": [
              " View run at <a href='https://wandb.ai/da24m027-indian-institute-of-technology-madras/DA6401_Assignment1/runs/k6239z88' target=\"_blank\">https://wandb.ai/da24m027-indian-institute-of-technology-madras/DA6401_Assignment1/runs/k6239z88</a>"
            ]
          },
          "metadata": {}
        },
        {
          "output_type": "stream",
          "name": "stdout",
          "text": [
            "Epoch 1/10, Loss: 0.0010, Val Loss: 0.0251, Val Accuracy: 0.8497\n",
            "Epoch 2/10, Loss: 0.0007, Val Loss: 0.0230, Val Accuracy: 0.8665\n",
            "Epoch 3/10, Loss: 0.0007, Val Loss: 0.0226, Val Accuracy: 0.8678\n",
            "Epoch 4/10, Loss: 0.0006, Val Loss: 0.0223, Val Accuracy: 0.8667\n",
            "Epoch 5/10, Loss: 0.0006, Val Loss: 0.0221, Val Accuracy: 0.8660\n",
            "Epoch 6/10, Loss: 0.0006, Val Loss: 0.0217, Val Accuracy: 0.8708\n",
            "Epoch 7/10, Loss: 0.0006, Val Loss: 0.0226, Val Accuracy: 0.8653\n",
            "Epoch 8/10, Loss: 0.0005, Val Loss: 0.0216, Val Accuracy: 0.8712\n",
            "Epoch 9/10, Loss: 0.0005, Val Loss: 0.0218, Val Accuracy: 0.8715\n",
            "Epoch 10/10, Loss: 0.0005, Val Loss: 0.0210, Val Accuracy: 0.8770\n"
          ]
        },
        {
          "output_type": "display_data",
          "data": {
            "text/plain": [
              "<IPython.core.display.HTML object>"
            ],
            "text/html": []
          },
          "metadata": {}
        },
        {
          "output_type": "display_data",
          "data": {
            "text/plain": [
              "<IPython.core.display.HTML object>"
            ],
            "text/html": [
              "<br>    <style><br>        .wandb-row {<br>            display: flex;<br>            flex-direction: row;<br>            flex-wrap: wrap;<br>            justify-content: flex-start;<br>            width: 100%;<br>        }<br>        .wandb-col {<br>            display: flex;<br>            flex-direction: column;<br>            flex-basis: 100%;<br>            flex: 1;<br>            padding: 10px;<br>        }<br>    </style><br><div class=\"wandb-row\"><div class=\"wandb-col\"><h3>Run history:</h3><br/><table class=\"wandb\"><tr><td>epoch</td><td>▁▁▂▂▃▃▃▃▄▄▅▅▆▆▆▆▇▇██</td></tr><tr><td>loss</td><td>█▄▃▃▂▂▂▁▁▁</td></tr><tr><td>val_accuracy</td><td>▁▅▆▅▅▆▅▇▇█</td></tr><tr><td>val_loss</td><td>█▄▄▃▃▂▄▂▂▁</td></tr></table><br/></div><div class=\"wandb-col\"><h3>Run summary:</h3><br/><table class=\"wandb\"><tr><td>epoch</td><td>10</td></tr><tr><td>loss</td><td>0.00052</td></tr><tr><td>val_accuracy</td><td>0.877</td></tr><tr><td>val_loss</td><td>0.02098</td></tr></table><br/></div></div>"
            ]
          },
          "metadata": {}
        },
        {
          "output_type": "display_data",
          "data": {
            "text/plain": [
              "<IPython.core.display.HTML object>"
            ],
            "text/html": [
              " View run <strong style=\"color:#cdcd00\">e_10_hl_4_hs_64_lr_0.001_opt_adam_bs_32_init_Xavier_ac_ReLU_wd_0_loss_mse</strong> at: <a href='https://wandb.ai/da24m027-indian-institute-of-technology-madras/DA6401_Assignment1/runs/k6239z88' target=\"_blank\">https://wandb.ai/da24m027-indian-institute-of-technology-madras/DA6401_Assignment1/runs/k6239z88</a><br> View project at: <a href='https://wandb.ai/da24m027-indian-institute-of-technology-madras/DA6401_Assignment1' target=\"_blank\">https://wandb.ai/da24m027-indian-institute-of-technology-madras/DA6401_Assignment1</a><br>Synced 5 W&B file(s), 0 media file(s), 0 artifact file(s) and 0 other file(s)"
            ]
          },
          "metadata": {}
        },
        {
          "output_type": "display_data",
          "data": {
            "text/plain": [
              "<IPython.core.display.HTML object>"
            ],
            "text/html": [
              "Find logs at: <code>./wandb/run-20250308_073227-k6239z88/logs</code>"
            ]
          },
          "metadata": {}
        },
        {
          "output_type": "stream",
          "name": "stderr",
          "text": [
            "\u001b[34m\u001b[1mwandb\u001b[0m: Agent Starting Run: 7hmiqasz with config:\n",
            "\u001b[34m\u001b[1mwandb\u001b[0m: \tactivation: tanh\n",
            "\u001b[34m\u001b[1mwandb\u001b[0m: \tbatch_size: 32\n",
            "\u001b[34m\u001b[1mwandb\u001b[0m: \tepochs: 10\n",
            "\u001b[34m\u001b[1mwandb\u001b[0m: \thidden_layers: 5\n",
            "\u001b[34m\u001b[1mwandb\u001b[0m: \thidden_size: 64\n",
            "\u001b[34m\u001b[1mwandb\u001b[0m: \tlearning_rate: 0.0001\n",
            "\u001b[34m\u001b[1mwandb\u001b[0m: \tloss_type: cross_entropy\n",
            "\u001b[34m\u001b[1mwandb\u001b[0m: \toptimizer: rmsprop\n",
            "\u001b[34m\u001b[1mwandb\u001b[0m: \tweight_decay: 0.0005\n",
            "\u001b[34m\u001b[1mwandb\u001b[0m: \tweights: Xavier\n"
          ]
        },
        {
          "output_type": "display_data",
          "data": {
            "text/plain": [
              "<IPython.core.display.HTML object>"
            ],
            "text/html": [
              "Tracking run with wandb version 0.19.7"
            ]
          },
          "metadata": {}
        },
        {
          "output_type": "display_data",
          "data": {
            "text/plain": [
              "<IPython.core.display.HTML object>"
            ],
            "text/html": [
              "Run data is saved locally in <code>/content/wandb/run-20250308_073329-7hmiqasz</code>"
            ]
          },
          "metadata": {}
        },
        {
          "output_type": "display_data",
          "data": {
            "text/plain": [
              "<IPython.core.display.HTML object>"
            ],
            "text/html": [
              "Syncing run <strong><a href='https://wandb.ai/da24m027-indian-institute-of-technology-madras/DA6401_Assignment1/runs/7hmiqasz' target=\"_blank\">efficient-sweep-98</a></strong> to <a href='https://wandb.ai/da24m027-indian-institute-of-technology-madras/DA6401_Assignment1' target=\"_blank\">Weights & Biases</a> (<a href='https://wandb.me/developer-guide' target=\"_blank\">docs</a>)<br>Sweep page: <a href='https://wandb.ai/da24m027-indian-institute-of-technology-madras/DA6401_Assignment1/sweeps/xy966igu' target=\"_blank\">https://wandb.ai/da24m027-indian-institute-of-technology-madras/DA6401_Assignment1/sweeps/xy966igu</a>"
            ]
          },
          "metadata": {}
        },
        {
          "output_type": "display_data",
          "data": {
            "text/plain": [
              "<IPython.core.display.HTML object>"
            ],
            "text/html": [
              " View project at <a href='https://wandb.ai/da24m027-indian-institute-of-technology-madras/DA6401_Assignment1' target=\"_blank\">https://wandb.ai/da24m027-indian-institute-of-technology-madras/DA6401_Assignment1</a>"
            ]
          },
          "metadata": {}
        },
        {
          "output_type": "display_data",
          "data": {
            "text/plain": [
              "<IPython.core.display.HTML object>"
            ],
            "text/html": [
              " View sweep at <a href='https://wandb.ai/da24m027-indian-institute-of-technology-madras/DA6401_Assignment1/sweeps/xy966igu' target=\"_blank\">https://wandb.ai/da24m027-indian-institute-of-technology-madras/DA6401_Assignment1/sweeps/xy966igu</a>"
            ]
          },
          "metadata": {}
        },
        {
          "output_type": "display_data",
          "data": {
            "text/plain": [
              "<IPython.core.display.HTML object>"
            ],
            "text/html": [
              " View run at <a href='https://wandb.ai/da24m027-indian-institute-of-technology-madras/DA6401_Assignment1/runs/7hmiqasz' target=\"_blank\">https://wandb.ai/da24m027-indian-institute-of-technology-madras/DA6401_Assignment1/runs/7hmiqasz</a>"
            ]
          },
          "metadata": {}
        },
        {
          "output_type": "stream",
          "name": "stdout",
          "text": [
            "Epoch 1/10, Loss: 0.0035, Val Loss: 0.0753, Val Accuracy: 0.7435\n",
            "Epoch 2/10, Loss: 0.0020, Val Loss: 0.0561, Val Accuracy: 0.7995\n",
            "Epoch 3/10, Loss: 0.0017, Val Loss: 0.0501, Val Accuracy: 0.8273\n",
            "Epoch 4/10, Loss: 0.0015, Val Loss: 0.0460, Val Accuracy: 0.8442\n",
            "Epoch 5/10, Loss: 0.0014, Val Loss: 0.0437, Val Accuracy: 0.8545\n",
            "Epoch 6/10, Loss: 0.0013, Val Loss: 0.0423, Val Accuracy: 0.8552\n",
            "Epoch 7/10, Loss: 0.0013, Val Loss: 0.0413, Val Accuracy: 0.8575\n",
            "Epoch 8/10, Loss: 0.0012, Val Loss: 0.0405, Val Accuracy: 0.8572\n",
            "Epoch 9/10, Loss: 0.0012, Val Loss: 0.0399, Val Accuracy: 0.8598\n",
            "Epoch 10/10, Loss: 0.0012, Val Loss: 0.0393, Val Accuracy: 0.8613\n"
          ]
        },
        {
          "output_type": "display_data",
          "data": {
            "text/plain": [
              "<IPython.core.display.HTML object>"
            ],
            "text/html": []
          },
          "metadata": {}
        },
        {
          "output_type": "display_data",
          "data": {
            "text/plain": [
              "<IPython.core.display.HTML object>"
            ],
            "text/html": [
              "<br>    <style><br>        .wandb-row {<br>            display: flex;<br>            flex-direction: row;<br>            flex-wrap: wrap;<br>            justify-content: flex-start;<br>            width: 100%;<br>        }<br>        .wandb-col {<br>            display: flex;<br>            flex-direction: column;<br>            flex-basis: 100%;<br>            flex: 1;<br>            padding: 10px;<br>        }<br>    </style><br><div class=\"wandb-row\"><div class=\"wandb-col\"><h3>Run history:</h3><br/><table class=\"wandb\"><tr><td>epoch</td><td>▁▁▂▂▃▃▃▃▄▄▅▅▆▆▆▆▇▇██</td></tr><tr><td>loss</td><td>█▃▃▂▂▁▁▁▁▁</td></tr><tr><td>val_accuracy</td><td>▁▄▆▇██████</td></tr><tr><td>val_loss</td><td>█▄▃▂▂▂▁▁▁▁</td></tr></table><br/></div><div class=\"wandb-col\"><h3>Run summary:</h3><br/><table class=\"wandb\"><tr><td>epoch</td><td>10</td></tr><tr><td>loss</td><td>0.00117</td></tr><tr><td>val_accuracy</td><td>0.86133</td></tr><tr><td>val_loss</td><td>0.03927</td></tr></table><br/></div></div>"
            ]
          },
          "metadata": {}
        },
        {
          "output_type": "display_data",
          "data": {
            "text/plain": [
              "<IPython.core.display.HTML object>"
            ],
            "text/html": [
              " View run <strong style=\"color:#cdcd00\">e_10_hl_5_hs_64_lr_0.0001_opt_rmsprop_bs_32_init_Xavier_ac_tanh_wd_0.0005_loss_cross_entropy</strong> at: <a href='https://wandb.ai/da24m027-indian-institute-of-technology-madras/DA6401_Assignment1/runs/7hmiqasz' target=\"_blank\">https://wandb.ai/da24m027-indian-institute-of-technology-madras/DA6401_Assignment1/runs/7hmiqasz</a><br> View project at: <a href='https://wandb.ai/da24m027-indian-institute-of-technology-madras/DA6401_Assignment1' target=\"_blank\">https://wandb.ai/da24m027-indian-institute-of-technology-madras/DA6401_Assignment1</a><br>Synced 5 W&B file(s), 0 media file(s), 0 artifact file(s) and 0 other file(s)"
            ]
          },
          "metadata": {}
        },
        {
          "output_type": "display_data",
          "data": {
            "text/plain": [
              "<IPython.core.display.HTML object>"
            ],
            "text/html": [
              "Find logs at: <code>./wandb/run-20250308_073329-7hmiqasz/logs</code>"
            ]
          },
          "metadata": {}
        },
        {
          "output_type": "stream",
          "name": "stderr",
          "text": [
            "\u001b[34m\u001b[1mwandb\u001b[0m: Sweep Agent: Waiting for job.\n",
            "\u001b[34m\u001b[1mwandb\u001b[0m: Job received.\n",
            "\u001b[34m\u001b[1mwandb\u001b[0m: Agent Starting Run: a8h55j03 with config:\n",
            "\u001b[34m\u001b[1mwandb\u001b[0m: \tactivation: ReLU\n",
            "\u001b[34m\u001b[1mwandb\u001b[0m: \tbatch_size: 32\n",
            "\u001b[34m\u001b[1mwandb\u001b[0m: \tepochs: 10\n",
            "\u001b[34m\u001b[1mwandb\u001b[0m: \thidden_layers: 4\n",
            "\u001b[34m\u001b[1mwandb\u001b[0m: \thidden_size: 64\n",
            "\u001b[34m\u001b[1mwandb\u001b[0m: \tlearning_rate: 0.001\n",
            "\u001b[34m\u001b[1mwandb\u001b[0m: \tloss_type: mse\n",
            "\u001b[34m\u001b[1mwandb\u001b[0m: \toptimizer: nesterov\n",
            "\u001b[34m\u001b[1mwandb\u001b[0m: \tweight_decay: 0.0005\n",
            "\u001b[34m\u001b[1mwandb\u001b[0m: \tweights: Xavier\n"
          ]
        },
        {
          "output_type": "display_data",
          "data": {
            "text/plain": [
              "<IPython.core.display.HTML object>"
            ],
            "text/html": [
              "Tracking run with wandb version 0.19.7"
            ]
          },
          "metadata": {}
        },
        {
          "output_type": "display_data",
          "data": {
            "text/plain": [
              "<IPython.core.display.HTML object>"
            ],
            "text/html": [
              "Run data is saved locally in <code>/content/wandb/run-20250308_073420-a8h55j03</code>"
            ]
          },
          "metadata": {}
        },
        {
          "output_type": "display_data",
          "data": {
            "text/plain": [
              "<IPython.core.display.HTML object>"
            ],
            "text/html": [
              "Syncing run <strong><a href='https://wandb.ai/da24m027-indian-institute-of-technology-madras/DA6401_Assignment1/runs/a8h55j03' target=\"_blank\">pleasant-sweep-99</a></strong> to <a href='https://wandb.ai/da24m027-indian-institute-of-technology-madras/DA6401_Assignment1' target=\"_blank\">Weights & Biases</a> (<a href='https://wandb.me/developer-guide' target=\"_blank\">docs</a>)<br>Sweep page: <a href='https://wandb.ai/da24m027-indian-institute-of-technology-madras/DA6401_Assignment1/sweeps/xy966igu' target=\"_blank\">https://wandb.ai/da24m027-indian-institute-of-technology-madras/DA6401_Assignment1/sweeps/xy966igu</a>"
            ]
          },
          "metadata": {}
        },
        {
          "output_type": "display_data",
          "data": {
            "text/plain": [
              "<IPython.core.display.HTML object>"
            ],
            "text/html": [
              " View project at <a href='https://wandb.ai/da24m027-indian-institute-of-technology-madras/DA6401_Assignment1' target=\"_blank\">https://wandb.ai/da24m027-indian-institute-of-technology-madras/DA6401_Assignment1</a>"
            ]
          },
          "metadata": {}
        },
        {
          "output_type": "display_data",
          "data": {
            "text/plain": [
              "<IPython.core.display.HTML object>"
            ],
            "text/html": [
              " View sweep at <a href='https://wandb.ai/da24m027-indian-institute-of-technology-madras/DA6401_Assignment1/sweeps/xy966igu' target=\"_blank\">https://wandb.ai/da24m027-indian-institute-of-technology-madras/DA6401_Assignment1/sweeps/xy966igu</a>"
            ]
          },
          "metadata": {}
        },
        {
          "output_type": "display_data",
          "data": {
            "text/plain": [
              "<IPython.core.display.HTML object>"
            ],
            "text/html": [
              " View run at <a href='https://wandb.ai/da24m027-indian-institute-of-technology-madras/DA6401_Assignment1/runs/a8h55j03' target=\"_blank\">https://wandb.ai/da24m027-indian-institute-of-technology-madras/DA6401_Assignment1/runs/a8h55j03</a>"
            ]
          },
          "metadata": {}
        },
        {
          "output_type": "stream",
          "name": "stdout",
          "text": [
            "Epoch 1/10, Loss: 0.0025, Val Loss: 0.0643, Val Accuracy: 0.5255\n",
            "Epoch 2/10, Loss: 0.0016, Val Loss: 0.0452, Val Accuracy: 0.6727\n",
            "Epoch 3/10, Loss: 0.0013, Val Loss: 0.0395, Val Accuracy: 0.7305\n",
            "Epoch 4/10, Loss: 0.0012, Val Loss: 0.0342, Val Accuracy: 0.7918\n",
            "Epoch 5/10, Loss: 0.0010, Val Loss: 0.0314, Val Accuracy: 0.8142\n",
            "Epoch 6/10, Loss: 0.0010, Val Loss: 0.0299, Val Accuracy: 0.8238\n",
            "Epoch 7/10, Loss: 0.0009, Val Loss: 0.0288, Val Accuracy: 0.8293\n",
            "Epoch 8/10, Loss: 0.0009, Val Loss: 0.0280, Val Accuracy: 0.8358\n",
            "Epoch 9/10, Loss: 0.0009, Val Loss: 0.0273, Val Accuracy: 0.8398\n",
            "Epoch 10/10, Loss: 0.0009, Val Loss: 0.0267, Val Accuracy: 0.8435\n"
          ]
        },
        {
          "output_type": "display_data",
          "data": {
            "text/plain": [
              "<IPython.core.display.HTML object>"
            ],
            "text/html": []
          },
          "metadata": {}
        },
        {
          "output_type": "display_data",
          "data": {
            "text/plain": [
              "<IPython.core.display.HTML object>"
            ],
            "text/html": [
              "<br>    <style><br>        .wandb-row {<br>            display: flex;<br>            flex-direction: row;<br>            flex-wrap: wrap;<br>            justify-content: flex-start;<br>            width: 100%;<br>        }<br>        .wandb-col {<br>            display: flex;<br>            flex-direction: column;<br>            flex-basis: 100%;<br>            flex: 1;<br>            padding: 10px;<br>        }<br>    </style><br><div class=\"wandb-row\"><div class=\"wandb-col\"><h3>Run history:</h3><br/><table class=\"wandb\"><tr><td>epoch</td><td>▁▁▂▂▃▃▃▃▄▄▅▅▆▆▆▆▇▇██</td></tr><tr><td>loss</td><td>█▄▃▂▂▂▁▁▁▁</td></tr><tr><td>val_accuracy</td><td>▁▄▆▇▇█████</td></tr><tr><td>val_loss</td><td>█▄▃▂▂▂▁▁▁▁</td></tr></table><br/></div><div class=\"wandb-col\"><h3>Run summary:</h3><br/><table class=\"wandb\"><tr><td>epoch</td><td>10</td></tr><tr><td>loss</td><td>0.00085</td></tr><tr><td>val_accuracy</td><td>0.8435</td></tr><tr><td>val_loss</td><td>0.02671</td></tr></table><br/></div></div>"
            ]
          },
          "metadata": {}
        },
        {
          "output_type": "display_data",
          "data": {
            "text/plain": [
              "<IPython.core.display.HTML object>"
            ],
            "text/html": [
              " View run <strong style=\"color:#cdcd00\">e_10_hl_4_hs_64_lr_0.001_opt_nesterov_bs_32_init_Xavier_ac_ReLU_wd_0.0005_loss_mse</strong> at: <a href='https://wandb.ai/da24m027-indian-institute-of-technology-madras/DA6401_Assignment1/runs/a8h55j03' target=\"_blank\">https://wandb.ai/da24m027-indian-institute-of-technology-madras/DA6401_Assignment1/runs/a8h55j03</a><br> View project at: <a href='https://wandb.ai/da24m027-indian-institute-of-technology-madras/DA6401_Assignment1' target=\"_blank\">https://wandb.ai/da24m027-indian-institute-of-technology-madras/DA6401_Assignment1</a><br>Synced 5 W&B file(s), 0 media file(s), 0 artifact file(s) and 0 other file(s)"
            ]
          },
          "metadata": {}
        },
        {
          "output_type": "display_data",
          "data": {
            "text/plain": [
              "<IPython.core.display.HTML object>"
            ],
            "text/html": [
              "Find logs at: <code>./wandb/run-20250308_073420-a8h55j03/logs</code>"
            ]
          },
          "metadata": {}
        },
        {
          "output_type": "stream",
          "name": "stderr",
          "text": [
            "\u001b[34m\u001b[1mwandb\u001b[0m: Agent Starting Run: 4u8k77bo with config:\n",
            "\u001b[34m\u001b[1mwandb\u001b[0m: \tactivation: ReLU\n",
            "\u001b[34m\u001b[1mwandb\u001b[0m: \tbatch_size: 32\n",
            "\u001b[34m\u001b[1mwandb\u001b[0m: \tepochs: 10\n",
            "\u001b[34m\u001b[1mwandb\u001b[0m: \thidden_layers: 4\n",
            "\u001b[34m\u001b[1mwandb\u001b[0m: \thidden_size: 64\n",
            "\u001b[34m\u001b[1mwandb\u001b[0m: \tlearning_rate: 0.0001\n",
            "\u001b[34m\u001b[1mwandb\u001b[0m: \tloss_type: mse\n",
            "\u001b[34m\u001b[1mwandb\u001b[0m: \toptimizer: rmsprop\n",
            "\u001b[34m\u001b[1mwandb\u001b[0m: \tweight_decay: 0\n",
            "\u001b[34m\u001b[1mwandb\u001b[0m: \tweights: Xavier\n"
          ]
        },
        {
          "output_type": "display_data",
          "data": {
            "text/plain": [
              "<IPython.core.display.HTML object>"
            ],
            "text/html": [
              "Tracking run with wandb version 0.19.7"
            ]
          },
          "metadata": {}
        },
        {
          "output_type": "display_data",
          "data": {
            "text/plain": [
              "<IPython.core.display.HTML object>"
            ],
            "text/html": [
              "Run data is saved locally in <code>/content/wandb/run-20250308_073456-4u8k77bo</code>"
            ]
          },
          "metadata": {}
        },
        {
          "output_type": "display_data",
          "data": {
            "text/plain": [
              "<IPython.core.display.HTML object>"
            ],
            "text/html": [
              "Syncing run <strong><a href='https://wandb.ai/da24m027-indian-institute-of-technology-madras/DA6401_Assignment1/runs/4u8k77bo' target=\"_blank\">devoted-sweep-100</a></strong> to <a href='https://wandb.ai/da24m027-indian-institute-of-technology-madras/DA6401_Assignment1' target=\"_blank\">Weights & Biases</a> (<a href='https://wandb.me/developer-guide' target=\"_blank\">docs</a>)<br>Sweep page: <a href='https://wandb.ai/da24m027-indian-institute-of-technology-madras/DA6401_Assignment1/sweeps/xy966igu' target=\"_blank\">https://wandb.ai/da24m027-indian-institute-of-technology-madras/DA6401_Assignment1/sweeps/xy966igu</a>"
            ]
          },
          "metadata": {}
        },
        {
          "output_type": "display_data",
          "data": {
            "text/plain": [
              "<IPython.core.display.HTML object>"
            ],
            "text/html": [
              " View project at <a href='https://wandb.ai/da24m027-indian-institute-of-technology-madras/DA6401_Assignment1' target=\"_blank\">https://wandb.ai/da24m027-indian-institute-of-technology-madras/DA6401_Assignment1</a>"
            ]
          },
          "metadata": {}
        },
        {
          "output_type": "display_data",
          "data": {
            "text/plain": [
              "<IPython.core.display.HTML object>"
            ],
            "text/html": [
              " View sweep at <a href='https://wandb.ai/da24m027-indian-institute-of-technology-madras/DA6401_Assignment1/sweeps/xy966igu' target=\"_blank\">https://wandb.ai/da24m027-indian-institute-of-technology-madras/DA6401_Assignment1/sweeps/xy966igu</a>"
            ]
          },
          "metadata": {}
        },
        {
          "output_type": "display_data",
          "data": {
            "text/plain": [
              "<IPython.core.display.HTML object>"
            ],
            "text/html": [
              " View run at <a href='https://wandb.ai/da24m027-indian-institute-of-technology-madras/DA6401_Assignment1/runs/4u8k77bo' target=\"_blank\">https://wandb.ai/da24m027-indian-institute-of-technology-madras/DA6401_Assignment1/runs/4u8k77bo</a>"
            ]
          },
          "metadata": {}
        },
        {
          "output_type": "stream",
          "name": "stdout",
          "text": [
            "Epoch 1/10, Loss: 0.0015, Val Loss: 0.0337, Val Accuracy: 0.7943\n",
            "Epoch 2/10, Loss: 0.0010, Val Loss: 0.0277, Val Accuracy: 0.8340\n",
            "Epoch 3/10, Loss: 0.0009, Val Loss: 0.0254, Val Accuracy: 0.8510\n",
            "Epoch 4/10, Loss: 0.0008, Val Loss: 0.0240, Val Accuracy: 0.8595\n",
            "Epoch 5/10, Loss: 0.0008, Val Loss: 0.0229, Val Accuracy: 0.8655\n",
            "Epoch 6/10, Loss: 0.0007, Val Loss: 0.0221, Val Accuracy: 0.8677\n",
            "Epoch 7/10, Loss: 0.0007, Val Loss: 0.0215, Val Accuracy: 0.8705\n",
            "Epoch 8/10, Loss: 0.0007, Val Loss: 0.0211, Val Accuracy: 0.8733\n",
            "Epoch 9/10, Loss: 0.0006, Val Loss: 0.0207, Val Accuracy: 0.8767\n",
            "Epoch 10/10, Loss: 0.0006, Val Loss: 0.0204, Val Accuracy: 0.8785\n"
          ]
        },
        {
          "output_type": "display_data",
          "data": {
            "text/plain": [
              "<IPython.core.display.HTML object>"
            ],
            "text/html": []
          },
          "metadata": {}
        },
        {
          "output_type": "display_data",
          "data": {
            "text/plain": [
              "<IPython.core.display.HTML object>"
            ],
            "text/html": [
              "<br>    <style><br>        .wandb-row {<br>            display: flex;<br>            flex-direction: row;<br>            flex-wrap: wrap;<br>            justify-content: flex-start;<br>            width: 100%;<br>        }<br>        .wandb-col {<br>            display: flex;<br>            flex-direction: column;<br>            flex-basis: 100%;<br>            flex: 1;<br>            padding: 10px;<br>        }<br>    </style><br><div class=\"wandb-row\"><div class=\"wandb-col\"><h3>Run history:</h3><br/><table class=\"wandb\"><tr><td>epoch</td><td>▁▁▂▂▃▃▃▃▄▄▅▅▆▆▆▆▇▇██</td></tr><tr><td>loss</td><td>█▄▃▂▂▂▁▁▁▁</td></tr><tr><td>val_accuracy</td><td>▁▄▆▆▇▇▇███</td></tr><tr><td>val_loss</td><td>█▅▄▃▂▂▂▁▁▁</td></tr></table><br/></div><div class=\"wandb-col\"><h3>Run summary:</h3><br/><table class=\"wandb\"><tr><td>epoch</td><td>10</td></tr><tr><td>loss</td><td>0.00063</td></tr><tr><td>val_accuracy</td><td>0.8785</td></tr><tr><td>val_loss</td><td>0.02039</td></tr></table><br/></div></div>"
            ]
          },
          "metadata": {}
        },
        {
          "output_type": "display_data",
          "data": {
            "text/plain": [
              "<IPython.core.display.HTML object>"
            ],
            "text/html": [
              " View run <strong style=\"color:#cdcd00\">e_10_hl_4_hs_64_lr_0.0001_opt_rmsprop_bs_32_init_Xavier_ac_ReLU_wd_0_loss_mse</strong> at: <a href='https://wandb.ai/da24m027-indian-institute-of-technology-madras/DA6401_Assignment1/runs/4u8k77bo' target=\"_blank\">https://wandb.ai/da24m027-indian-institute-of-technology-madras/DA6401_Assignment1/runs/4u8k77bo</a><br> View project at: <a href='https://wandb.ai/da24m027-indian-institute-of-technology-madras/DA6401_Assignment1' target=\"_blank\">https://wandb.ai/da24m027-indian-institute-of-technology-madras/DA6401_Assignment1</a><br>Synced 5 W&B file(s), 0 media file(s), 0 artifact file(s) and 0 other file(s)"
            ]
          },
          "metadata": {}
        },
        {
          "output_type": "display_data",
          "data": {
            "text/plain": [
              "<IPython.core.display.HTML object>"
            ],
            "text/html": [
              "Find logs at: <code>./wandb/run-20250308_073456-4u8k77bo/logs</code>"
            ]
          },
          "metadata": {}
        }
      ]
    }
  ]
}